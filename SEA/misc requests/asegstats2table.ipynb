{
 "cells": [
  {
   "cell_type": "code",
   "execution_count": 1,
   "metadata": {},
   "outputs": [],
   "source": [
    "import os\n",
    "import os.path as op\n",
    "import json\n",
    "import shutil\n",
    "import tarfile\n",
    "import subprocess as sp\n",
    "from glob import glob\n",
    "\n",
    "for subject in os.listdir('/home/data/madlab/Reeb_EBC/dset/'):\n",
    "    subject = subject[-3:]\n",
    "    cmd = 'asegstats2table -s subject --subdirs=stats --statsfile aseg.stats \\\n",
    "           --meas volume --skip --tablefile=asegstats.txt \n",
    "    \n",
    "    sp.Popen('sbatch -p investor --account iacc_madlab --qos pq_madlab -J stats2table_{0} \\\n",
    "             -o /home/data/madlab/Reeb_EBC/code/freesurfer/aseqstats2table/{0}_stats2table \\\n",
    "             --wrap=\"{1}\"'.format(subject, cmd), shell=True).wait() "
   ]
  },
  {
   "cell_type": "code",
   "execution_count": null,
   "metadata": {},
   "outputs": [],
   "source": []
  }
 ],
 "metadata": {
  "kernelspec": {
   "display_name": "Python 3",
   "language": "python",
   "name": "python3"
  },
  "language_info": {
   "codemirror_mode": {
    "name": "ipython",
    "version": 3
   },
   "file_extension": ".py",
   "mimetype": "text/x-python",
   "name": "python",
   "nbconvert_exporter": "python",
   "pygments_lexer": "ipython3",
   "version": "3.6.7"
  }
 },
 "nbformat": 4,
 "nbformat_minor": 4
}
