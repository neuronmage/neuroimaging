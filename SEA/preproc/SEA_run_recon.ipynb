{
 "cells": [
  {
   "cell_type": "markdown",
   "metadata": {},
   "source": [
    "# Pruden_SEA -- Freesurfer 7 recon-all -- ***First time***"
   ]
  },
  {
   "cell_type": "code",
   "execution_count": 1,
   "metadata": {},
   "outputs": [
    {
     "name": "stdout",
     "output_type": "stream",
     "text": [
      "Submitted batch job 5306255\n",
      "1028\n"
     ]
    }
   ],
   "source": [
    "#!/usr/bin/env python\n",
    "import os\n",
    "import os.path as op\n",
    "import json\n",
    "import shutil\n",
    "import tarfile\n",
    "import subprocess as sp\n",
    "from glob import glob\n",
    "    \n",
    "for subject in glob('/home/data/madlab/Pruden_SEA/dset/sub-*'): #loop through converted subs\n",
    "    if 'sub-' + subject[-4:] in os.listdir('/home/data/madlab/Pruden_SEA/derivatives/freesurfer_SEA/'):\n",
    "        continue  #skip previously FS processed subs\n",
    "    subject = subject[-4:]\n",
    "    cmd = 'recon-all -all -i /home/data/madlab/Pruden_SEA/dset/sub-{0}/anat/sub-{0}_T1w.nii.gz -openmp 4 -subjid sub-{0} \\\n",
    "          -sd /home/data/madlab/Pruden_SEA/derivatives/freesurfer_SEA/'.format(subject) #bash command\n",
    "    sp.Popen('sbatch -p investor --account iacc_madlab --qos pq_madlab -J {0}_recon_all -n 4 \\\n",
    "             -o /home/data/madlab/Pruden_SEA/code/preproc/freesurfer/run_recon_out/{0}_reconall7_out \\\n",
    "             -e /home/data/madlab/Pruden_SEA/code/preproc/freesurfer/run_recon_out/{0}_reconall7_err \\\n",
    "             --wrap=\"{1}\"'.format(subject, cmd), shell=True).wait() #use subprocess to submit bash command in notebook\n",
    "    print(subject[-4:])"
   ]
  },
  {
   "cell_type": "markdown",
   "metadata": {},
   "source": [
    "### Freesurfer 7: After edits"
   ]
  },
  {
   "cell_type": "code",
   "execution_count": null,
   "metadata": {},
   "outputs": [],
   "source": [
    "#!/usr/bin/env python\n",
    "import os\n",
    "import os.path as op\n",
    "import json\n",
    "import shutil\n",
    "import tarfile\n",
    "import subprocess as sp\n",
    "from glob import glob\n",
    "\n",
    "for subject in os.listdir('/home/data/madlab/Pruden_SEA/dset/'):\n",
    "    subject = subject[-4:]     \n",
    "    cmd = 'recon-all -subjid sub-{0} -autorecon2-cp -autorecon3 -no-isrunning'.format(subject)\n",
    "    print(subject)    \n",
    "    sp.Popen('sbatch -p investor --account iacc_madlab --qos pq_madlab -J {0}_fs_afteredits -N 1 -n 1 \\\n",
    "              -o /home/data/madlab/Pruden_SEA/code/preproc/freesurfer/fs_afteredits/{0}_edits_out \\\n",
    "              -e /home/data/madlab/Pruden_SEA/code/preproc/freesurfer/fs_afteredits/{0}_edits_err \\\n",
    "              --wrap=\"{1}\"'.format(subject, cmd), shell=True).wait()"
   ]
  },
  {
   "cell_type": "markdown",
   "metadata": {},
   "source": [
    "# ---Freesurfer 6 - Previously used for EBC preproc---"
   ]
  },
  {
   "cell_type": "raw",
   "metadata": {},
   "source": [
    "#!/usr/bin/env python\n",
    "import os\n",
    "import os.path as op\n",
    "import json\n",
    "import shutil\n",
    "import tarfile\n",
    "import subprocess as sp\n",
    "from glob import glob\n",
    "    \n",
    "subjects = ['1001']\n",
    "for subject in subjects:\n",
    "    #if 'sub-' + subject[-3:] in os.listdir('/home/data/madlab/Pruden_SEA/derivatives/freesurfer7/'):\n",
    "        #continue  \n",
    "    cmd = 'recon-all -all -i /home/data/madlab/Pruden_SEA/dset/sub-{0}/anat/sub-{0}_T1w.nii.gz \\\n",
    "           -T2 /home/data/madlab/Pruden_SEA/dset/sub-{0}/anat/sub-{0}_T2w.nii.gz \\\n",
    "           -hippocampal-subfields-T1 -openmp 2 -subjid sub-{0} \\\n",
    "           -sd /home/data/madlab/Pruden_SEA/derivatives/freesurfer/'.format(subject)\n",
    "\n",
    "    sp.Popen('sbatch -p IB_44C_512G  --account iacc_madlab --qos pq_madlab -J recon_all_{0} -N 1 -n 2 \\\n",
    "              -o /home/data/madlab/Pruden_SEA/code/freesurfer/run_recon_out/{0}_reconall_out \\\n",
    "              --wrap=\"{1}\"'.format(subject, cmd), shell=True).wait()\n",
    "    print(subject)"
   ]
  },
  {
   "cell_type": "markdown",
   "metadata": {},
   "source": [
    "### Apply Cerebellum Atlas to FS Brains -------------------------------------------"
   ]
  },
  {
   "cell_type": "code",
   "execution_count": null,
   "metadata": {},
   "outputs": [],
   "source": [
    "#!/usr/bin/env python\n",
    "import os\n",
    "import os.path as op\n",
    "import json\n",
    "import shutil\n",
    "import tarfile\n",
    "import subprocess as sp\n",
    "from glob import glob\n",
    "\n",
    "for subject in os.listdir('/home/data/madlab/Pruden_SEA/dset/'):\n",
    "    subject = subject[-3:]  \n",
    "    cmd = 'mri_ca_label -relabel_unlikely 9 .3 -prior 0.5 \\\n",
    "           -align /home/data/madlab/Pruden_SEA/derivatives/freesurfer/sub-{0}/mri/norm.mgz \\\n",
    "           /home/data/madlab/Pruden_SEA/derivatives/freesurfer/sub-{0}/mri/transforms/talairach.m3z \\\n",
    "           /home/data/dcnlab/Cerebellum/Atlas/RB_all_2016-08-08.gca \\\n",
    "           /home/data/madlab/Pruden_SEA/derivatives/freesurfer/sub-{0}/mri/aseg.auto_noCCseg.mgz'.format(subject)\n",
    "    \n",
    "    sp.Popen('sbatch -p IB_44C_512G  --account iacc_madlab --qos pq_madlab -J fs_cerebellum_{0} -N 1 -n 1 \\\n",
    "              -o /home/data/madlab/Pruden_SEA/code/freesurfer/fs_cerebellum/{0}_cerebellum_out \\\n",
    "              --wrap=\"{1}\"'.format(subject, cmd), shell=True).wait()"
   ]
  }
 ],
 "metadata": {
  "kernelspec": {
   "display_name": "Python 3 (ipykernel)",
   "language": "python",
   "name": "python3"
  },
  "language_info": {
   "codemirror_mode": {
    "name": "ipython",
    "version": 3
   },
   "file_extension": ".py",
   "mimetype": "text/x-python",
   "name": "python",
   "nbconvert_exporter": "python",
   "pygments_lexer": "ipython3",
   "version": "3.9.6"
  }
 },
 "nbformat": 4,
 "nbformat_minor": 4
}
