{
 "cells": [
  {
   "cell_type": "markdown",
   "metadata": {},
   "source": [
    "# Freesurfer 7"
   ]
  },
  {
   "cell_type": "code",
   "execution_count": 1,
   "metadata": {},
   "outputs": [
    {
     "name": "stdout",
     "output_type": "stream",
     "text": [
      "1005\n",
      "1009\n",
      "1007\n",
      "1004\n",
      "1003\n",
      "1011\n",
      "1014\n",
      "1008\n",
      "1001\n",
      "1013\n",
      "1012\n",
      "1002\n"
     ]
    }
   ],
   "source": [
    "#!/usr/bin/env python\n",
    "import os\n",
    "import os.path as op\n",
    "import json\n",
    "import shutil\n",
    "import tarfile\n",
    "import subprocess as sp\n",
    "from glob import glob\n",
    "    \n",
    "for subject in glob('/home/data/madlab/Pruden_SEA/dset/sub-*'):\n",
    "    print(subject[-4:])\n",
    "    if 'sub-' + subject[-4:] in os.listdir('/home/data/madlab/Pruden_SEA/derivatives/freesurfer_SEA/'):\n",
    "        continue  \n",
    "    subject = subject[-4:]\n",
    "    cmd = 'recon-all -all -i /home/data/madlab/Pruden_SEA/dset/sub-{0}/anat/sub-{0}_T1w.nii.gz -openmp 4 -subjid sub-{0} \\\n",
    "          -sd /home/data/madlab/Pruden_SEA/derivatives/freesurfer_SEA/'.format(subject)\n",
    "    sp.Popen('sbatch -p investor --account iacc_madlab --qos pq_madlab -J recon_all_{0} -n 4\\\n",
    "             -o /home/data/madlab/Pruden_SEA/code/freesurfer/run_recon_out/{0}_reconall_out \\\n",
    "             --wrap=\"{1}\"'.format(subject, cmd), shell=True).wait() "
   ]
  },
  {
   "cell_type": "markdown",
   "metadata": {},
   "source": [
    "# Freesurfer 6 -- Previously used for EBC preproc"
   ]
  },
  {
   "cell_type": "raw",
   "metadata": {},
   "source": [
    "#!/usr/bin/env python\n",
    "import os\n",
    "import os.path as op\n",
    "import json\n",
    "import shutil\n",
    "import tarfile\n",
    "import subprocess as sp\n",
    "from glob import glob\n",
    "    \n",
    "subjects = ['1001']\n",
    "for subject in subjects:\n",
    "    #if 'sub-' + subject[-3:] in os.listdir('/home/data/madlab/Pruden_SEA/derivatives/freesurfer7/'):\n",
    "        #continue  \n",
    "    cmd = 'recon-all -all -i /home/data/madlab/Pruden_SEA/dset/sub-{0}/anat/sub-{0}_T1w.nii.gz \\\n",
    "           -T2 /home/data/madlab/Pruden_SEA/dset/sub-{0}/anat/sub-{0}_T2w.nii.gz \\\n",
    "           -hippocampal-subfields-T1 -openmp 2 -subjid sub-{0} \\\n",
    "           -sd /home/data/madlab/Pruden_SEA/derivatives/freesurfer/'.format(subject)\n",
    "\n",
    "    sp.Popen('sbatch -p IB_44C_512G  --account iacc_madlab --qos pq_madlab -J recon_all_{0} -N 1 -n 2 \\\n",
    "              -o /home/data/madlab/Pruden_SEA/code/freesurfer/run_recon_out/{0}_reconall_out \\\n",
    "              --wrap=\"{1}\"'.format(subject, cmd), shell=True).wait()\n",
    "    print(subject)"
   ]
  },
  {
   "cell_type": "markdown",
   "metadata": {},
   "source": [
    "### Freesurfer after edits"
   ]
  },
  {
   "cell_type": "code",
   "execution_count": null,
   "metadata": {},
   "outputs": [],
   "source": [
    "#!/usr/bin/env python\n",
    "import os\n",
    "import os.path as op\n",
    "import json\n",
    "import shutil\n",
    "import tarfile\n",
    "import subprocess as sp\n",
    "from glob import glob\n",
    "\n",
    "for subject in os.listdir('/home/data/madlab/Pruden_SEA/dset/'):\n",
    "    subject = subject[-3:]     \n",
    "    cmd = 'recon-all -subjid sub-{0} -autorecon2-cp -autorecon3 -no-isrunning'.format(subject)\n",
    "    print(subject)    \n",
    "    sp.Popen('sbatch -p IB_44C_512G --account iacc_madlab --qos pq_madlab -J fs_afteredits_{0} -N 1 -n 1 \\\n",
    "              -e /home/data/madlab/Pruden_SEA/code/freesurfer/fs_afteredits/err_{0} \\\n",
    "              -o /home/data/madlab/Pruden_SEA/code/freesurfer/fs_afteredits/out_{0} \\\n",
    "              --wrap=\"{1}\"'.format(subject, cmd), shell=True).wait()\n"
   ]
  },
  {
   "cell_type": "markdown",
   "metadata": {},
   "source": [
    "### Apply Cerebellum Atlas to FS Brains -------------------------------------------"
   ]
  },
  {
   "cell_type": "code",
   "execution_count": null,
   "metadata": {},
   "outputs": [],
   "source": [
    "#!/usr/bin/env python\n",
    "import os\n",
    "import os.path as op\n",
    "import json\n",
    "import shutil\n",
    "import tarfile\n",
    "import subprocess as sp\n",
    "from glob import glob\n",
    "\n",
    "for subject in os.listdir('/home/data/madlab/Pruden_SEA/dset/'):\n",
    "    subject = subject[-3:]  \n",
    "    cmd = 'mri_ca_label -relabel_unlikely 9 .3 -prior 0.5 \\\n",
    "           -align /home/data/madlab/Pruden_SEA/derivatives/freesurfer/sub-{0}/mri/norm.mgz \\\n",
    "           /home/data/madlab/Pruden_SEA/derivatives/freesurfer/sub-{0}/mri/transforms/talairach.m3z \\\n",
    "           /home/data/dcnlab/Cerebellum/Atlas/RB_all_2016-08-08.gca \\\n",
    "           /home/data/madlab/Pruden_SEA/derivatives/freesurfer/sub-{0}/mri/aseg.auto_noCCseg.mgz'.format(subject)\n",
    "    \n",
    "    sp.Popen('sbatch -p IB_44C_512G  --account iacc_madlab --qos pq_madlab -J fs_cerebellum_{0} -N 1 -n 1 \\\n",
    "              -o /home/data/madlab/Pruden_SEA/code/freesurfer/fs_cerebellum/{0}_cerebellum_out \\\n",
    "              --wrap=\"{1}\"'.format(subject, cmd), shell=True).wait()"
   ]
  },
  {
   "cell_type": "code",
   "execution_count": null,
   "metadata": {},
   "outputs": [],
   "source": []
  }
 ],
 "metadata": {
  "kernelspec": {
   "display_name": "Python 3",
   "language": "python",
   "name": "python3"
  },
  "language_info": {
   "codemirror_mode": {
    "name": "ipython",
    "version": 3
   },
   "file_extension": ".py",
   "mimetype": "text/x-python",
   "name": "python",
   "nbconvert_exporter": "python",
   "pygments_lexer": "ipython3",
   "version": "3.9.1"
  }
 },
 "nbformat": 4,
 "nbformat_minor": 4
}
