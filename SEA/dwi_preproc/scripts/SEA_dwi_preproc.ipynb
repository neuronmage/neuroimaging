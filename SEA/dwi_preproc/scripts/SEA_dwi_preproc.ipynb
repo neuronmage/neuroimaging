{
 "cells": [
  {
   "cell_type": "markdown",
   "metadata": {},
   "source": [
    "# Pruden_SEA -- launches SEA_DWI_processing.bash job to high-memory partition"
   ]
  },
  {
   "cell_type": "markdown",
   "metadata": {},
   "source": [
    "### --Flexible-- version sorting through FS folder (_not all participants have T2-tse scan_)"
   ]
  },
  {
   "cell_type": "code",
   "execution_count": 1,
   "metadata": {},
   "outputs": [
    {
     "name": "stdout",
     "output_type": "stream",
     "text": [
      "Submitted batch job 5334720\n",
      "1023\n",
      "Submitted batch job 5334721\n",
      "1009\n",
      "Submitted batch job 5334722\n",
      "1019\n",
      "Submitted batch job 5334723\n",
      "1007\n",
      "Submitted batch job 5334724\n",
      "1004\n",
      "Submitted batch job 5334725\n",
      "1011\n",
      "Submitted batch job 5334726\n",
      "1024\n",
      "Submitted batch job 5334727\n",
      "1014\n",
      "Submitted batch job 5334728\n",
      "1008\n",
      "Submitted batch job 5334729\n",
      "1029\n",
      "Submitted batch job 5334730\n",
      "1026\n",
      "Submitted batch job 5334731\n",
      "1028\n",
      "Submitted batch job 5334732\n",
      "1020\n",
      "Submitted batch job 5334733\n",
      "1018\n",
      "Submitted batch job 5334734\n",
      "1027\n",
      "Submitted batch job 5334735\n",
      "1013\n",
      "Submitted batch job 5334736\n",
      "1016\n",
      "Submitted batch job 5334737\n",
      "1021\n",
      "Submitted batch job 5334738\n",
      "1012\n",
      "Submitted batch job 5334739\n",
      "1022\n",
      "Submitted batch job 5334740\n",
      "1017\n"
     ]
    }
   ],
   "source": [
    "#!/usr/bin/env python\n",
    "import os\n",
    "from os.path import join, split, basename\n",
    "import json\n",
    "import shutil\n",
    "import tarfile\n",
    "import subprocess as sp\n",
    "from glob import glob\n",
    "\n",
    "omit = ['1001', '1002', '1003', '1005'] #subs without T2-tse\n",
    "    \n",
    "for subject in glob('/home/data/madlab/Pruden_SEA/dset/sub-*'): #loop through converted subs\n",
    "    subject = subject[-4:]    \n",
    "    if subject in omit or 'sub-' + subject in os.listdir('/scratch/madlab/Pruden_SEA/mandy/dwi_preproc/output/'):\n",
    "        continue  #skip previously preprocessed subs or those without T2-tse scans\n",
    "    os.makedirs('/scratch/madlab/Pruden_SEA/mandy/dwi_preproc/output/sub-{0}'.format(subject[-4:])) #make output dir\n",
    "    os.makedirs('/scratch/madlab/Pruden_SEA/mandy/dwi_preproc/temp/sub-{0}'.format(subject[-4:])) #make temp dir\n",
    "    #bash command\n",
    "    cmd = 'bash SEA_DWI_processing.bash --up_data=/home/data/madlab/Pruden_SEA/dset/sub-{0}/dwi/sub-{0}_dwi.nii.gz \\\n",
    "                                        --up_bvals=/home/data/madlab/Pruden_SEA/dset/sub-{0}/dwi/sub-{0}_dwi.bval \\\n",
    "                                        --up_bvecs=/home/data/madlab/Pruden_SEA/dset/sub-{0}/dwi/sub-{0}_dwi.bvec \\\n",
    "                                        --down_data=/home/data/madlab/Pruden_SEA/dset/sub-{0}/dwi/sub-{0}_dwi-PA.nii.gz \\\n",
    "                                        --down_bvals=/home/data/madlab/Pruden_SEA/dset/sub-{0}/dwi/sub-{0}_dwi-PA.bval \\\n",
    "                                        --down_bvecs=/home/data/madlab/Pruden_SEA/dset/sub-{0}/dwi/sub-{0}_dwi-PA.bvec \\\n",
    "                                        --gw_coeffs=/home/data/madlab/Pruden_SEA/DWI_for_sharing/workdir/coeff.grad \\\n",
    "                                        --output_res=1 \\\n",
    "                                        -T1=/home/data/madlab/Pruden_SEA/dset/sub-{0}/anat/sub-{0}_T1w.nii.gz \\\n",
    "                                        -T2=/home/data/madlab/Pruden_SEA/dset/sub-{0}/anat/sub-{0}_T2-tse.nii.gz \\\n",
    "                                        -p=/scratch/madlab/Pruden_SEA/mandy/dwi_preproc/temp/sub-{0}/ \\\n",
    "                                        -o=/scratch/madlab/Pruden_SEA/mandy/dwi_preproc/output/sub-{0}/'.format(subject) \n",
    "    \n",
    "    #use subprocess to submit bash commands in notebook\n",
    "    sp.Popen('sbatch -p IB_40C_512G --account iacc_madlab --qos pq_madlab -J {0}_dwi_preproc \\\n",
    "             -o /scratch/madlab/Pruden_SEA/mandy/dwi_preproc/{0}_dwi_preproc_out \\\n",
    "             -e /scratch/madlab/Pruden_SEA/mandy/dwi_preproc/{0}_dwi_preproc_err \\\n",
    "             --wrap=\"{1}\"'.format(subject, cmd), cwd='/scratch/madlab/Pruden_SEA/mandy/dwi_preproc/scripts/', shell=True).wait() \n",
    "    print(subject[-4:]) #print subs to indicate which have been run"
   ]
  },
  {
   "cell_type": "code",
   "execution_count": null,
   "metadata": {},
   "outputs": [],
   "source": [
    "bash ABCD_DWI_processing.bash \n",
    "-u=/data/HCP_DWI/ABCD_test/data/updata/sub-NDARINV0A4ZDYNL_ses-baselineYear1Arm1_dwi.nii.gz \n",
    "-d=/data/HCP_DWI/ABCD_test/data/downdata/sub-NDARINV0A4ZDYNL_ses-baselineYear1Arm1_acq-dwi_dir-AP_epi.nii.gz \n",
    "-T1=/data/HCP_DWI/ABCD_test/data/sub-NDARINV0A4ZDYNL_ses-baselineYear1Arm1_run-01_T1w.nii \n",
    "-T2=/data/HCP_DWI/ABCD_test/data/sub-NDARINV0A4ZDYNL_ses-baselineYear1Arm1_run-01_T2w.nii \n",
    "--gw_field_L=/data/HCP_DWI/ABCD_test/data/nonlin/siemens_prisma_dL.mgh \n",
    "--gw_field_P=/data/HCP_DWI/ABCD_test/data/nonlin/siemens_prisma_dP.mgh \n",
    "--gw_field_H=/data/HCP_DWI/ABCD_test/data/nonlin/siemens_prisma_dH.mgh \n",
    "-p=/data/HCP_DWI/ABCD_test/data/temp_proc \n",
    "-o=/data/HCP_DWI/ABCD_test/data/final\n",
    "\n",
    "env bash ABCD_DWI_processing.bash \n",
    "--up_data=/qmi03_raid/okan/anthony_data/ABCD_comparison_101221/TORT/sub-NDARINV00CY2MDM_TORT/ses-2YearFollowUpYArm1/dwi_processed_tortoise/dwi/sub-NDARINV00CY2MDM_ses-2YearFollowUpYArm1_dwi.nii \n",
    "--down_data=/qmi03_raid/okan/anthony_data/ABCD_comparison_101221/TORT/sub-NDARINV00CY2MDM_TORT/ses-2YearFollowUpYArm1/dwi_processed_tortoise/fmap/sub-NDARINV00CY2MDM_ses-2YearFollowUpYArm1_acq-dwi_dir-AP_epi.nii \n",
    "-T1=/qmi03_raid/okan/anthony_data/ABCD_comparison_101221/TORT/sub-NDARINV00CY2MDM_TORT/ses-2YearFollowUpYArm1/dwi_processed_tortoise/anat/mprocT1/sub-NDARINV00CY2MDM/ses-2YearFollowUpYArm1/anat/sub-NDARINV00CY2MDM_ses-2YearFollowUpYArm1_run-01_T1w.nii \n",
    "-T2=/qmi03_raid/okan/anthony_data/ABCD_comparison_101221/TORT/sub-NDARINV00CY2MDM_TORT/ses-2YearFollowUpYArm1/dwi_processed_tortoise/anat/mprocT2/sub-NDARINV00CY2MDM/ses-2YearFollowUpYArm1/anat/sub-NDARINV00CY2MDM_ses-2YearFollowUpYArm1_run-01_T2w.nii \n",
    "--gw_field_full=/qmi03_raid/okan/anthony_data/ABCD_comparison_101221/TORT/sub-NDARINV00CY2MDM_TORT/ses-2YearFollowUpYArm1/dwi_processed_tortoise/dwi/final_data_orig/gradwarp_field.nii \n",
    "--output_res=1.1x1.2x1.3 --output_size=235x215x200 --output_orientation=RAS"
   ]
  },
  {
   "cell_type": "markdown",
   "metadata": {},
   "source": [
    "### --Specific-- subject submission (runs in /scratch/madlab)"
   ]
  },
  {
   "cell_type": "code",
   "execution_count": null,
   "metadata": {},
   "outputs": [],
   "source": [
    "#!/usr/bin/env python\n",
    "import os\n",
    "from os.path import join, split, basename\n",
    "import json\n",
    "import shutil\n",
    "import tarfile\n",
    "import subprocess as sp\n",
    "from glob import glob\n",
    "    \n",
    "for subject in ['1004']: #loop through converted subs \n",
    "    \n",
    "    if 'sub-' + subject in os.listdir('/scratch/madlab/Pruden_SEA/mandy/dwi_preproc/temp/'): #if test sub has been run before \n",
    "        print('yes')\n",
    "        os.rmdir('/scratch/madlab/Pruden_SEA/mandy/dwi_preproc/temp/sub-{0}/'.format(subject[-4:])) #remove old directories\n",
    "        os.rmdir('/scratch/madlab/Pruden_SEA/mandy/dwi_preproc/output/sub-{0}/'.format(subject[-4:]))      \n",
    "    else:\n",
    "        continue\n",
    "    os.makedirs('/scratch/madlab/Pruden_SEA/mandy/dwi_preproc/temp/sub-{0}'.format(subject[-4:])) #make temp dir\n",
    "    os.makedirs('/scratch/madlab/Pruden_SEA/mandy/dwi_preproc/output/sub-{0}'.format(subject[-4:])) #make output dir\n",
    "    #bash command\n",
    "    cmd = 'bash SEA_DWI_processing.bash --up_data=/home/data/madlab/Pruden_SEA/dset/sub-{0}/dwi/sub-{0}_dwi.nii.gz \\\n",
    "                                        --up_bvals=/home/data/madlab/Pruden_SEA/dset/sub-{0}/dwi/sub-{0}_dwi.bval \\\n",
    "                                        --up_bvecs=/home/data/madlab/Pruden_SEA/dset/sub-{0}/dwi/sub-{0}_dwi.bvec \\\n",
    "                                        --down_data=/home/data/madlab/Pruden_SEA/dset/sub-{0}/dwi/sub-{0}_dwi-PA.nii.gz \\\n",
    "                                        --down_bvals=/home/data/madlab/Pruden_SEA/dset/sub-{0}/dwi/sub-{0}_dwi-PA.bval \\\n",
    "                                        --down_bvecs=/home/data/madlab/Pruden_SEA/dset/sub-{0}/dwi/sub-{0}_dwi-PA.bvec \\\n",
    "                                        --gw_coeffs=/home/data/madlab/Pruden_SEA/DWI_for_sharing/workdir/coeff.grad \\\n",
    "                                        --output_res=1 \\\n",
    "                                        -T1=/home/data/madlab/Pruden_SEA/dset/sub-{0}/anat/sub-{0}_T1w.nii.gz \\\n",
    "                                        -T2=/home/data/madlab/Pruden_SEA/dset/sub-{0}/anat/sub-{0}_T2-tse.nii.gz \\\n",
    "                                        -p=/scratch/madlab/Pruden_SEA/mandy/dwi_preproc/temp/sub-{0}/ \\\n",
    "                                        -o=/scratch/madlab/Pruden_SEA/mandy/dwi_preproc/output/sub-{0}/'.format(subject)  \n",
    "    #use subprocess to submit bash commands in notebook\n",
    "    sp.Popen('sbatch -p IB_40C_512G --account iacc_madlab --qos pq_madlab -J {0}_dwi_preproc \\\n",
    "             -o /scratch/madlab/Pruden_SEA/mandy/dwi_preproc/{0}_dwi_preproc_out \\\n",
    "             -e /scratch/madlab/Pruden_SEA/mandy/dwi_preproc/{0}_dwi_preproc_err \\\n",
    "             --wrap=\"{1}\"'.format(subject, cmd), cwd='/scratch/madlab/Pruden_SEA/mandy/dwi_preproc/scripts/', shell=True).wait() \n",
    "    print(subject[-4:]) #print subs to indicate which have been run"
   ]
  },
  {
   "cell_type": "markdown",
   "metadata": {},
   "source": [
    "### Using latest package and sample command"
   ]
  },
  {
   "cell_type": "code",
   "execution_count": 1,
   "metadata": {},
   "outputs": [
    {
     "name": "stdout",
     "output_type": "stream",
     "text": [
      "Submitted batch job 5420231\n",
      "1004\n"
     ]
    }
   ],
   "source": [
    "#!/usr/bin/env python\n",
    "import os\n",
    "from os.path import join, split, basename\n",
    "import json\n",
    "import shutil\n",
    "import tarfile\n",
    "import subprocess as sp\n",
    "from glob import glob\n",
    "    \n",
    "for subject in ['1004']: #loop through converted subs \n",
    "    \n",
    "    if 'sub-' + subject in os.listdir('/scratch/madlab/Pruden_SEA/mandy/dwi_preproc/temp/'): #if sub has been run before \n",
    "        #remove old directory\n",
    "        shutil.rmtree('/scratch/madlab/Pruden_SEA/mandy/dwi_preproc/temp/sub-{0}/'.format(subject)) #remove old directories\n",
    "        shutil.rmtree('/scratch/madlab/Pruden_SEA/mandy/dwi_preproc/output/sub-{0}/'.format(subject))      \n",
    "    #make new directory    \n",
    "    os.makedirs('/scratch/madlab/Pruden_SEA/mandy/dwi_preproc/temp/sub-{0}'.format(subject)) #make temp dir\n",
    "    os.makedirs('/scratch/madlab/Pruden_SEA/mandy/dwi_preproc/output/sub-{0}'.format(subject)) #make output dir\n",
    "      \n",
    "    #bash command\n",
    "    cmd = 'bash ABCD_DWI_processing.bash --up_data=/scratch/madlab/Pruden_SEA/mandy/dwi_preproc/dset/sub-1004/dwi/sub-{0}_dwi.nii \\\n",
    "                                         --down_data=/scratch/madlab/Pruden_SEA/mandy/dwi_preproc/dset/sub-1004/dwi/sub-{0}_dwi-PA.nii \\\n",
    "                                         --output_res=1.1x1.2x1.3 \\\n",
    "                                         --output_size=235x215x200 \\\n",
    "                                         --output_orientation=RAS \\\n",
    "                                         -T1=/scratch/madlab/Pruden_SEA/mandy/dwi_preproc/dset/sub-1004/anat/sub-{0}_T1w.nii \\\n",
    "                                         -T2=/scratch/madlab/Pruden_SEA/mandy/dwi_preproc/dset/sub-1004/anat/sub-{0}_T2-tse.nii \\\n",
    "                                         -p=/scratch/madlab/Pruden_SEA/mandy/dwi_preproc/temp/sub-{0} \\\n",
    "                                         -o=/scratch/madlab/Pruden_SEA/mandy/dwi_preproc/output/sub-{0}'.format(subject)  \n",
    "    #use subprocess to submit bash commands in notebook\n",
    "    sp.Popen('sbatch -p IB_40C_512G --account iacc_madlab --qos pq_madlab -J {0}_dwi_preproc \\\n",
    "             -o /scratch/madlab/Pruden_SEA/mandy/dwi_preproc/{0}_dwi_preproc_out \\\n",
    "             -e /scratch/madlab/Pruden_SEA/mandy/dwi_preproc/{0}_dwi_preproc_err \\\n",
    "             --wrap=\"{1}\"'.format(subject, cmd), cwd='/scratch/madlab/Pruden_SEA/mandy/dwi_preproc/scripts/', shell=True).wait() \n",
    "    print(subject[-4:]) #print subs to indicate which have been run  "
   ]
  },
  {
   "cell_type": "code",
   "execution_count": null,
   "metadata": {},
   "outputs": [],
   "source": []
  }
 ],
 "metadata": {
  "interpreter": {
   "hash": "5c890fa4277a6cb74cd88c8de051970927eb093b450fe5053801ac1e942bdfb9"
  },
  "kernelspec": {
   "display_name": "Python 3 (ipykernel)",
   "language": "python",
   "name": "python3"
  },
  "language_info": {
   "codemirror_mode": {
    "name": "ipython",
    "version": 3
   },
   "file_extension": ".py",
   "mimetype": "text/x-python",
   "name": "python",
   "nbconvert_exporter": "python",
   "pygments_lexer": "ipython3",
   "version": "3.9.6"
  }
 },
 "nbformat": 4,
 "nbformat_minor": 4
}
