{
 "cells": [
  {
   "cell_type": "markdown",
   "metadata": {},
   "source": [
    "# Analyze goodness of fit of behavioral measures with R\n",
    "1. Run a separate within-subject GLM for each behavioral measure, with the behavioral measure included as a parametric modulator.\n",
    "2. Compute Bayes information criterion (BIC) for each ROI/subject/measure.\n",
    "  1. Extract residuals timeseries from ROIs for each subject/measure/run.\n",
    "  2. Compute variance of residuals per voxel over the timeseries.\n",
    "  3. Take logarithm of residual variance.\n",
    "  4. Perform Kolmogorov-Smirnov test of normality of voxel-wise logarithmic residual variances.\n",
    "    - Need more detail here. \n",
    "  5. Calculate BIC from logarithmic residual variances $log(\\sigma ^{2})$, number of parameters in models *k*, and number of data points in models *n*:\n",
    "$$ BIC = n*log(\\sigma ^{2}) + k*log(n) $$\n",
    "  6. Average BIC across voxels in ROI and runs per ROI/subject/measure.\n",
    "3. Perform repeated measures ANOVA\n",
    "  - IVs: measure, ROI\n",
    "  - DV: BIC"
   ]
  },
  {
   "cell_type": "code",
   "execution_count": null,
   "metadata": {
    "collapsed": true
   },
   "outputs": [],
   "source": [
    "# Import relevant libraries\n",
    "library('nlme')\n",
    "library('multcomp')"
   ]
  },
  {
   "cell_type": "code",
   "execution_count": null,
   "metadata": {
    "collapsed": true
   },
   "outputs": [],
   "source": [
    "# Location of computed BIC/AIC values\n",
    "f = 'repeated_anova_dset.csv'\n",
    "\n",
    "# Read in data\n",
    "myData = read.csv(file = f)"
   ]
  },
  {
   "cell_type": "code",
   "execution_count": null,
   "metadata": {
    "collapsed": true
   },
   "outputs": [],
   "source": [
    "# Set columns as factors\n",
    "myData <- within(myData, {\n",
    "  Subject <- factor(Subject)\n",
    "  ROI <- factor(ROI)\n",
    "  Measure <- factor(Measure)\n",
    "})\n",
    "\n",
    "# Sort by subject (unnecessary)\n",
    "myData <- myData[order(myData$Subject), ]\n",
    "head(myData)"
   ]
  },
  {
   "cell_type": "code",
   "execution_count": null,
   "metadata": {
    "collapsed": true
   },
   "outputs": [],
   "source": [
    "# Get mean across observations for each combo\n",
    "# (unnecessary as BIC is average across ROI)\n",
    "myData.mean <- aggregate(myData$BIC,\n",
    "                         by=list(myData$Subject,\n",
    "                                 myData$ROI,\n",
    "                                 myData$Measure),\n",
    "                         FUN='mean')\n",
    "colnames(myData.mean) <- c(\"Subject\", \"ROI\", \"Measure\", \"BIC\")\n",
    "myData.mean <- myData.mean[order(myData.mean$Subject), ]\n",
    "head(myData.mean)"
   ]
  },
  {
   "cell_type": "code",
   "execution_count": null,
   "metadata": {
    "collapsed": true
   },
   "outputs": [],
   "source": [
    "# Sort of from https://stats.stackexchange.com/a/13816\n",
    "# and https://stats.stackexchange.com/a/23014\n",
    "# and https://stats.stackexchange.com/a/10909\n",
    "# but instead of two-way I'm doing four one-ways\n",
    "nROIs = length(unique(myData.mean$ROI))\n",
    "alpha = 0.05 / nROIs\n",
    "\n",
    "for(i in unique(myData.mean$ROI)){\n",
    "    print(i)\n",
    "    redData = myData.mean[myData.mean$ROI==i,]\n",
    "    model = lme(BIC ~ Measure, random=~1|Subject,\n",
    "                data=redData)\n",
    "    modelAnova = anova(model)\n",
    "    print(modelAnova)\n",
    "    p = modelAnova['Measure', 'p-value']\n",
    "    if(p < alpha){\n",
    "        print('ANOVA is significant. Performing post-hoc tests.')\n",
    "        print(summary(glht(model, linfct=mcp(Measure=\"Tukey\")),\n",
    "                      test=adjusted(type=\"bonferroni\")))\n",
    "    }\n",
    "    else{\n",
    "        print('ANOVA is not significant. Skipping post-hoc tests.')\n",
    "    }\n",
    "}"
   ]
  },
  {
   "cell_type": "markdown",
   "metadata": {},
   "source": [
    "## Plot means of combinations of ROI and Measure\n",
    "Note that in the simulated dataset, the BIC values are random, but I shifted the means of Amygdala-Difficulty and ACC-Accuracy up by 0.2 so there'd be a couple of significant associations to find."
   ]
  },
  {
   "cell_type": "code",
   "execution_count": null,
   "metadata": {
    "collapsed": true
   },
   "outputs": [],
   "source": [
    "with(myData, {interaction.plot(Measure, ROI, BIC,\n",
    "                               col=c(1:4), lty=1,\n",
    "                               ylab='Mean Bayesian Information Criterion',\n",
    "                               trace.label='Region of Interest', \n",
    "                               xlab='Behavioral Measure',\n",
    "                               main='Interaction Plot')})"
   ]
  }
 ],
 "metadata": {
  "kernelspec": {
   "display_name": "Python [default]",
   "language": "python",
   "name": "python2"
  },
  "language_info": {
   "codemirror_mode": {
    "name": "ipython",
    "version": 2
   },
   "file_extension": ".py",
   "mimetype": "text/x-python",
   "name": "python",
   "nbconvert_exporter": "python",
   "pygments_lexer": "ipython2",
   "version": "2.7.13"
  }
 },
 "nbformat": 4,
 "nbformat_minor": 2
}
