{
 "cells": [
  {
   "cell_type": "markdown",
   "metadata": {},
   "source": [
    "# BIDSifer & Dicom Conversion"
   ]
  },
  {
   "cell_type": "code",
   "execution_count": null,
   "metadata": {
    "scrolled": false
   },
   "outputs": [],
   "source": [
    "import os\n",
    "import os.path as op\n",
    "import json\n",
    "import shutil\n",
    "import tarfile\n",
    "import subprocess as sp\n",
    "from glob import glob\n",
    "import dcmstack as ds\n",
    "import dicom as dcm\n",
    "import pandas as pd\n",
    "import numpy as np\n",
    "import shutil \n",
    "\n",
    "def convert_nifti(target_folder, destination):\n",
    "    os.makedirs(destination, exist_ok=True)\n",
    "    src_dcms = '{0}/resources/DICOM/files/'.format(target_folder)\n",
    "    cmd = \"dcm2niix -o {0} {1}\".format(destination, src_dcms)\n",
    "    sp.Popen(cmd, shell=True).wait()\n",
    "    for i in glob(destination + \"/*\"):\n",
    "        idx = i.index(\".\")\n",
    "        shutil.move(i, destination + i[idx:])\n",
    "    shutil.rmtree(destination)\n",
    "    \n",
    "def save_json(filename, data): \n",
    "    with open(filename, 'w') as fp:\n",
    "        json.dump(data, fp, sort_keys=True, indent=4)\n",
    "        \n",
    "df = pd.read_csv('heuristics.csv')        \n",
    "\n",
    "for tar_file in glob('/home/data/madlab/Mattfeld_vCAT/sourcedata/Mattfeld_REVL-000-vCAT-*-S1.tar.gz'):\n",
    "    sub = os.path.basename(tar_file).split('_')[-1].split('-')[-2] #gets only subject ID\n",
    "    print(sub)\n",
    "    if os.path.exists('/home/data/madlab/Mattfeld_vCAT/dset/sub-{0}/'.format(sub)): #check to see if this Ss is new\n",
    "        continue       \n",
    "    os.makedirs('/scratch/madlab/bidsify_vCAT/vCAT-{0}/'.format(sub), exist_ok=True) #creates directories\n",
    "    #unzipping the file without deletion into new directories\n",
    "    sp.Popen('tar -xf {0} -C /scratch/madlab/bidsify_vCAT/vCAT-{1}'.format(tar_file, sub), shell=True).wait()\n",
    "    curr_dir = '/scratch/madlab/bidsify_vCAT/vCAT-{0}/Mattfeld_REVL-000-vCAT-{0}-S1/scans/'.format(sub)\n",
    "    all_dirs = [x for x in glob(curr_dir + \"*\") if not \"setter\" in x and not \"32ch\" in x and not \"MPRG\" in x]\n",
    "    corr_scan = {} #contains only corrected scans \n",
    "    corr_idx = {} #contains indices of correct scans within all_dirs\n",
    "    for idx, curr_scan in enumerate(all_dirs): #dealing with the inconsistent numbering of scans\n",
    "        i = int(curr_scan.split(\"/\")[-1].split(\"-\")[0]) #get scan number\n",
    "        for row, scan in enumerate(df['init_name']): #scan names in heuristics file\n",
    "            if scan in curr_scan: #if one of the scans we care about\n",
    "                if not scan in corr_scan or corr_scan[scan] < i: \n",
    "                    corr_idx[scan] = idx\n",
    "                    corr_scan[scan] = i \n",
    "    temp = []\n",
    "    for key in corr_scan:\n",
    "        temp.append(all_dirs[corr_idx[key]])\n",
    "    all_dirs = temp        \n",
    "    for i in ['anat', 'func', 'dwi', 'fmap']:      \n",
    "        os.makedirs('/home/data/madlab/Mattfeld_vCAT/dset/sub-{0}/{1}/'.format(sub, i), exist_ok=True)\n",
    "    for curr_scan in all_dirs:\n",
    "        for row, scan in enumerate(df['init_name']): #heuristics file columns\n",
    "            if scan in curr_scan:\n",
    "                break \n",
    "        convert_nifti(curr_scan,'/home/data/madlab/Mattfeld_vCAT/dset/sub-{0}/'.format(sub)\n",
    "                      +df['dest_name'][row].format(sub)) \n",
    "        print(sub)\n",
    "        dest_dir = '/home/data/madlab/Mattfeld_vCAT/dset/sub-{0}/'.format(sub)     "
   ]
  },
  {
   "cell_type": "raw",
   "metadata": {},
   "source": [
    "%%bash \n",
    "\n",
    "dcm2niix -o /home/data/madlab/Reeb_EBC/dset/sub-119/anat/ /scratch/madlab/bidsify_ebc/EBC-119/home/data/madlab/Reeb_EBC/sourcedata/Reeb_EBC-000-119D-S1/scans/5-T1w_MPR_vNav/resources/DICOM/files/"
   ]
  },
  {
   "cell_type": "markdown",
   "metadata": {},
   "source": [
    "### Convert NIFTI to STL for printing 3D Brains"
   ]
  },
  {
   "cell_type": "code",
   "execution_count": null,
   "metadata": {},
   "outputs": [],
   "source": [
    "import os\n",
    "import os.path as op\n",
    "import tarfile\n",
    "import subprocess as sp\n",
    "from glob import glob\n",
    "import shutil \n",
    "\n",
    "for tar_file in glob('/home/data/madlab/Mattfeld_vCAT/sourcedata/Mattfeld_REVL-000-vCAT-*-S1.tar.gz'):\n",
    "    sub = os.path.basename(tar_file).split('_')[-1].split('-')[-2] #gets only subject ID\n",
    "    sp.Popen('mris_convert --combinesurfs /home/data/madlab/Mattfeld_vCAT/derivatives/freesurfer/sub-{0}/surf/lh.pial /home/data/madlab/Mattfeld_vCAT/derivatives/freesurfer/sub-{0}/surf/rh.pial /home/data/madlab/Mattfeld_vCAT/derivatives/stl/sub-{0}_brain.stl'.format(sub), shell=True).wait()\n",
    "    print(sub)"
   ]
  },
  {
   "cell_type": "code",
   "execution_count": null,
   "metadata": {},
   "outputs": [],
   "source": [
    "%%bash\n",
    "\n",
    "mris_convert --combinesurfs /home/data/madlab/Mattfeld_vCAT/derivatives/freesurfer/sub-010/surf/lh.pial /home/data/madlab/Mattfeld_vCAT/derivatives/freesurfer/sub-010/surf/rh.pial /home/data/madlab/Mattfeld_vCAT/derivatives/stl/sub-010/sub-010_anat.stl"
   ]
  }
 ],
 "metadata": {
  "kernelspec": {
   "display_name": "Python 3",
   "language": "python",
   "name": "python3"
  },
  "language_info": {
   "codemirror_mode": {
    "name": "ipython",
    "version": 3
   },
   "file_extension": ".py",
   "mimetype": "text/x-python",
   "name": "python",
   "nbconvert_exporter": "python",
   "pygments_lexer": "ipython3",
   "version": "3.9.1"
  }
 },
 "nbformat": 4,
 "nbformat_minor": 4
}
