{
 "cells": [
  {
   "cell_type": "code",
   "execution_count": null,
   "id": "opening-convenience",
   "metadata": {},
   "outputs": [],
   "source": [
    "from nipype.utils.filemanip import loadpkl\n",
    "\n",
    "x = loadpkl(\"/scratch/madlab/crash/mandy/vcat/preproc/sub-005/vcat/makemotionbasedfilter/_node.pklz\")"
   ]
  },
  {
   "cell_type": "code",
   "execution_count": 34,
   "id": "wooden-region",
   "metadata": {},
   "outputs": [
    {
     "name": "stdout",
     "output_type": "stream",
     "text": [
      "['/scratch/madlab/crash/mandy/vcat/preproc/sub-005/vcat/art/mapflow/_art0/norm.corr_vcat_01_dtype_despike.txt', '/scratch/madlab/crash/mandy/vcat/preproc/sub-005/vcat/motion_correct/vcat_01_dtype_despike.nii.gz.par']\n",
      "[0.     0.0736 0.1149 0.1037 0.0546 0.1266 0.1495 0.1348 0.1219 0.14\n",
      " 0.1377 0.0993 0.0793 0.068  0.1182 0.1266 0.0689 0.1686 0.096  0.1035\n",
      " 0.0606 0.02   0.1564 0.0681 0.128  0.0698 0.0751 0.073  0.1109 0.0956\n",
      " 0.0983 0.0891 0.0809 0.0579 0.0679 0.0599 0.0821 0.0594 0.1553 0.1566\n",
      " 0.1051 0.1252 0.1209 0.1473 0.1923 0.095  0.135  0.065  0.0981 0.0587\n",
      " 0.0846 0.0904 0.1375 0.1121 0.0678 0.0846 0.0821 0.0908 0.0647 0.0791\n",
      " 0.1095 0.1059 0.0373 0.0714 0.0577 0.0507 0.0367 0.0443 0.0909 0.101\n",
      " 0.0752 0.0977 0.0335 0.0743 0.059  0.0696 0.0948 0.0899 0.07   0.0635\n",
      " 0.0909 0.0972 0.124  0.0823 0.0419 0.0832 0.0985 0.0769 0.0928 0.0922\n",
      " 0.082  0.065  0.0759 0.0765 0.0722 0.0905 0.0592 0.0246 0.0588 0.0615\n",
      " 0.0465 0.0616 0.1184 0.115  0.1038 0.1831 0.1889 0.076  0.0525 0.0941\n",
      " 0.0948 0.0718 0.0942 0.0411 0.0484 0.0669 0.1185 0.0622 0.0424 0.0383\n",
      " 0.1254 0.0824 0.2023 0.1434 0.1386 0.0903 0.0622 0.0799 0.0649 0.0582\n",
      " 0.0618 0.0309 0.0898 0.0427 0.0452 0.0735 0.024  0.118  0.1427 0.0992\n",
      " 0.1227 0.1359 0.0765 0.0829 0.0437 0.071  0.0636 0.0875 0.03   0.0396\n",
      " 0.0599 0.1222 0.0916 0.0788 0.0689 0.0604 0.0807 0.0953 0.0752 0.1304\n",
      " 0.0877 0.117  0.1227 0.2132 0.2203 0.3111 0.1519 0.1971 0.1024 0.1439\n",
      " 0.0516 0.1037 0.0609 0.0723 0.0779 0.0533 0.0255 0.0258 0.055  0.0391\n",
      " 0.1438 0.1321 0.0912 0.0794 0.088  0.0636 0.0794 0.0449 0.0562 0.0454\n",
      " 0.0964 0.1085 0.0707 0.0879 0.0602 0.1132 0.092  0.1878 0.0966 0.0555\n",
      " 0.1078 0.1251 0.0753 0.1453 0.1293 0.0822 0.0516 0.1483 0.106  0.0908\n",
      " 0.1309 0.0669 0.1557 0.047  0.0829 0.0808 0.0597 0.0332 0.0611 0.0787\n",
      " 0.1105 0.1144 0.1025 0.0905 0.0597 0.1459 0.1463 0.1091 0.0738 0.0779\n",
      " 0.0704 0.0889 0.0903 0.0465 0.069  0.1305 0.1336 0.0807 0.0684 0.0731\n",
      " 0.0868 0.0924 0.1181 0.1511 0.1165 0.0807 0.0726 0.0568 0.0965 0.1297\n",
      " 0.0906 0.077  0.1083 0.152  0.112  0.0923 0.0749 0.0799 0.1122 0.1193\n",
      " 0.1048 0.1379 0.1102 0.0812 0.0582 0.0935 0.1161 0.0915 0.1139 0.0822\n",
      " 0.0599 0.1521 0.1389 0.1249 0.051  0.0771 0.085  0.1219 0.1223 0.086\n",
      " 0.1105 0.0379 0.0659 0.1131 0.0822 0.1211 0.0582 0.0987 0.1434 0.0689\n",
      " 0.0805 0.0615 0.0725 0.1044 0.1941 0.1142 0.1286 0.1587 0.279  0.3161\n",
      " 0.1308 0.1803 0.1749 0.1324 0.0928 0.0848 0.0841 0.1274 0.0576 0.0768\n",
      " 0.0756 0.0724 0.0939 0.075  0.1402 0.1084 0.0397 0.0681 0.0694 0.1062\n",
      " 0.0852 0.1334 0.1573 0.0868 0.0847 0.1143 0.1111 0.1067 0.1348 0.1232\n",
      " 0.0888 0.0777 0.0913 0.0524 0.0412 0.0597 0.0551 0.0894 0.0343 0.0518\n",
      " 0.0569 0.0383 0.0332 0.0605 0.0858 0.1213 0.1057 0.1715 0.1098 0.2734\n",
      " 0.1347 0.1288 0.228  0.1403 0.0522]\n"
     ]
    }
   ],
   "source": [
    "import numpy as np\n",
    "import nibabel as nb\n",
    "from nipype.utils.filemanip import filename_to_list\n",
    "\n",
    "comp_norm = '/scratch/madlab/crash/mandy/vcat/preproc/sub-005/vcat/art/mapflow/_art0/norm.corr_vcat_01_dtype_despike.txt'\n",
    "par_file = '/scratch/madlab/crash/mandy/vcat/preproc/sub-005/vcat/motion_correct/vcat_01_dtype_despike.nii.gz.par'\n",
    "file = '/scratch/madlab/crash/mandy/vcat/preproc/sub-005/vcat/maskfunc2/mapflow/_maskfunc23/corr_vcat_04_dtype_despike_bet_smooth_mask.nii.gz'\n",
    "\n",
    "w = nb.load(file)\n",
    "x = np.genfromtxt(filename_to_list(comp_norm)[0])\n",
    "x2 = [comp_norm, par_file]\n",
    "y = np.genfromtxt(par_file)\n",
    "z = np.hstack((y, x[:,None]))\n",
    "\n",
    "print(x2)\n",
    "#print(x.shape)\n",
    "print(x)"
   ]
  },
  {
   "cell_type": "code",
   "execution_count": 22,
   "id": "conscious-supervision",
   "metadata": {},
   "outputs": [
    {
     "name": "stdout",
     "output_type": "stream",
     "text": [
      "(355, 7)\n"
     ]
    }
   ],
   "source": [
    "print(z.shape)"
   ]
  },
  {
   "cell_type": "code",
   "execution_count": 18,
   "id": "ongoing-favor",
   "metadata": {},
   "outputs": [
    {
     "name": "stdout",
     "output_type": "stream",
     "text": [
      "(355, 6)\n",
      "[[ 1.39273380e-01  1.25407328e-01 -4.83691130e-01  6.34242730e-03\n",
      "  -3.60116410e-03 -5.59296730e-03]\n",
      " [ 1.30590463e-01  1.44895402e-01 -5.12352359e-01  5.91291740e-03\n",
      "  -3.29381630e-03 -5.71734190e-03]\n",
      " [ 1.23476829e-01  1.62388227e-01 -4.68696218e-01  5.83642390e-03\n",
      "  -2.70954880e-03 -4.95830410e-03]\n",
      " ...\n",
      " [-2.17118937e-02 -9.82168294e-02  3.46090298e-01 -4.06935500e-04\n",
      "   1.22830150e-03  8.37876300e-04]\n",
      " [-2.22532094e-02 -1.07135587e-02  4.10781963e-01 -9.72074300e-04\n",
      "   1.18129020e-03  8.84941400e-04]\n",
      " [-2.30155428e-02 -9.30886150e-03  4.07359376e-01 -1.31396740e-03\n",
      "   1.08087620e-03  1.33136240e-03]]\n"
     ]
    }
   ],
   "source": [
    "print(y.shape)\n",
    "print(y)"
   ]
  },
  {
   "cell_type": "code",
   "execution_count": 25,
   "id": "strange-magnet",
   "metadata": {},
   "outputs": [
    {
     "data": {
      "text/plain": [
       "array([[[1, 2, 3]]])"
      ]
     },
     "execution_count": 25,
     "metadata": {},
     "output_type": "execute_result"
    }
   ],
   "source": [
    "a = [[1,2,3]]\n",
    "np.array(a)[:, None]"
   ]
  },
  {
   "cell_type": "code",
   "execution_count": null,
   "id": "primary-comedy",
   "metadata": {},
   "outputs": [],
   "source": []
  }
 ],
 "metadata": {
  "kernelspec": {
   "display_name": "Python 3",
   "language": "python",
   "name": "python3"
  },
  "language_info": {
   "codemirror_mode": {
    "name": "ipython",
    "version": 3
   },
   "file_extension": ".py",
   "mimetype": "text/x-python",
   "name": "python",
   "nbconvert_exporter": "python",
   "pygments_lexer": "ipython3",
   "version": "3.9.1"
  }
 },
 "nbformat": 4,
 "nbformat_minor": 5
}
