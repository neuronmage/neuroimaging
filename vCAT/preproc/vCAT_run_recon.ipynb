{
 "cells": [
  {
   "cell_type": "markdown",
   "metadata": {},
   "source": [
    "# Freesurfer 7"
   ]
  },
  {
   "cell_type": "code",
   "execution_count": 1,
   "metadata": {},
   "outputs": [
    {
     "name": "stdout",
     "output_type": "stream",
     "text": [
      "008\n"
     ]
    }
   ],
   "source": [
    "#!/usr/bin/env python\n",
    "import os\n",
    "import os.path as op\n",
    "import json\n",
    "import shutil\n",
    "import tarfile\n",
    "import subprocess as sp\n",
    "from glob import glob\n",
    "    \n",
    "for subject in glob('/home/data/madlab/Mattfeld_vCAT/dset/sub-*'): #loop through converted subs\n",
    "    if 'sub-' + subject[-3:] in os.listdir('/home/data/madlab/Mattfeld_vCAT/derivatives/freesurfer/'):\n",
    "        continue  #skip previously FS processed subs\n",
    "    subject = subject[-3:]\n",
    "    cmd = 'recon-all -all -i /home/data/madlab/Mattfeld_vCAT/dset/sub-{0}/anat/sub-{0}_T1w.nii.gz -openmp 4 -subjid sub-{0} \\\n",
    "          -sd /home/data/madlab/Mattfeld_vCAT/derivatives/freesurfer/'.format(subject) #bash command\n",
    "    sp.Popen('sbatch -p investor --account iacc_madlab --qos pq_madlab -J recon_all_{0} -n 4 \\\n",
    "             -o /home/data/madlab/Mattfeld_vCAT/code/preproc/freesurfer/run_recon/{0}_reconall_out \\\n",
    "             -e /home/data/madlab/Mattfeld_vCAT/code/preproc/freesurfer/run_recon/{0}_reconall_err \\\n",
    "             --wrap=\"{1}\"'.format(subject, cmd), shell=True).wait() #use subprocess to submit bash command in notebook\n",
    "    print(subject[-3:])"
   ]
  },
  {
   "cell_type": "markdown",
   "metadata": {},
   "source": [
    "### Freesurfer after edits"
   ]
  },
  {
   "cell_type": "code",
   "execution_count": 1,
   "metadata": {},
   "outputs": [
    {
     "name": "stdout",
     "output_type": "stream",
     "text": [
      "025\n",
      "023\n",
      "012\n",
      "018\n",
      "032\n",
      "015\n",
      "010\n",
      "016\n",
      "029\n",
      "022\n",
      "027\n",
      "030\n",
      "021\n",
      "020\n",
      "026\n",
      "013\n",
      "014\n",
      "008\n",
      "006\n",
      "024\n",
      "007\n",
      "031\n",
      "028\n",
      "005\n",
      "019\n"
     ]
    }
   ],
   "source": [
    "#!/usr/bin/env python\n",
    "import os\n",
    "import os.path as op\n",
    "import json\n",
    "import shutil\n",
    "import tarfile\n",
    "import subprocess as sp\n",
    "from glob import glob\n",
    "\n",
    "for subject in glob('/home/data/madlab/Mattfeld_vCAT/dset/sub-*'):\n",
    "    subject = subject[-3:]     \n",
    "    cmd = 'recon-all -subjid sub-{0} -autorecon2-cp -autorecon3 -no-isrunning'.format(subject)\n",
    "    print(subject)    \n",
    "    sp.Popen('sbatch -p IB_44C_512G --account iacc_madlab --qos pq_madlab -J {0}_FS_postedits -N 1 -n 1 \\\n",
    "              -o /home/data/madlab/Mattfeld_vCAT/code/preproc/freesurfer/post_edits/{0}_postedits_out \\\n",
    "              -e /home/data/madlab/Mattfeld_vCAT/code/preproc/freesurfer/post_edits/{0}_postedits_err \\\n",
    "              --wrap=\"{1}\"'.format(subject, cmd), shell=True).wait()"
   ]
  },
  {
   "cell_type": "markdown",
   "metadata": {},
   "source": [
    "### Apply Cerebellum Atlas to FS Brains -------------------------------------------"
   ]
  },
  {
   "cell_type": "code",
   "execution_count": null,
   "metadata": {},
   "outputs": [],
   "source": [
    "#!/usr/bin/env python\n",
    "import os\n",
    "import os.path as op\n",
    "import json\n",
    "import shutil\n",
    "import tarfile\n",
    "import subprocess as sp\n",
    "from glob import glob\n",
    "\n",
    "for subject in os.listdir('/home/data/madlab/Pruden_SEA/dset/'):\n",
    "    subject = subject[-3:]  \n",
    "    cmd = 'mri_ca_label -relabel_unlikely 9 .3 -prior 0.5 \\\n",
    "           -align /home/data/madlab/Pruden_SEA/derivatives/freesurfer/sub-{0}/mri/norm.mgz \\\n",
    "           /home/data/madlab/Pruden_SEA/derivatives/freesurfer/sub-{0}/mri/transforms/talairach.m3z \\\n",
    "           /home/data/dcnlab/Cerebellum/Atlas/RB_all_2016-08-08.gca \\\n",
    "           /home/data/madlab/Pruden_SEA/derivatives/freesurfer/sub-{0}/mri/aseg.auto_noCCseg.mgz'.format(subject)\n",
    "    \n",
    "    sp.Popen('sbatch -p IB_44C_512G  --account iacc_madlab --qos pq_madlab -J fs_cerebellum_{0} -N 1 -n 1 \\\n",
    "              -o /home/data/madlab/Pruden_SEA/code/freesurfer/fs_cerebellum/{0}_cerebellum_out \\\n",
    "              --wrap=\"{1}\"'.format(subject, cmd), shell=True).wait()"
   ]
  },
  {
   "cell_type": "code",
   "execution_count": null,
   "metadata": {},
   "outputs": [],
   "source": []
  }
 ],
 "metadata": {
  "interpreter": {
   "hash": "5c890fa4277a6cb74cd88c8de051970927eb093b450fe5053801ac1e942bdfb9"
  },
  "kernelspec": {
   "display_name": "Python 3",
   "language": "python",
   "name": "python3"
  },
  "language_info": {
   "codemirror_mode": {
    "name": "ipython",
    "version": 3
   },
   "file_extension": ".py",
   "mimetype": "text/x-python",
   "name": "python",
   "nbconvert_exporter": "python",
   "pygments_lexer": "ipython3",
   "version": "3.9.1"
  }
 },
 "nbformat": 4,
 "nbformat_minor": 4
}
