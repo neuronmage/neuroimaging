{
 "cells": [
  {
   "cell_type": "markdown",
   "id": "referenced-nightmare",
   "metadata": {},
   "source": [
    "# vCAT MVPA Analysis using SKLearn"
   ]
  },
  {
   "cell_type": "code",
   "execution_count": 8,
   "id": "broke-atlas",
   "metadata": {},
   "outputs": [],
   "source": [
    "import os\n",
    "from os.path import join, basename, exists\n",
    "import shutil\n",
    "import pickle as pkl\n",
    "from glob import glob\n",
    "from natsort import natsorted\n",
    "import pandas as pd\n",
    "import numpy as np\n",
    "import nibabel as nb\n",
    "from scipy import stats\n",
    "from sklearn import svm\n",
    "from sklearn.model_selection import LeavePOut\n",
    "import seaborn as sns\n",
    "from pylab import *\n",
    "import matplotlib.pyplot as plt\n",
    "%matplotlib inline\n",
    "sns.set_style(\"white\")\n",
    "sns.set_palette('muted')"
   ]
  },
  {
   "cell_type": "code",
   "execution_count": 2,
   "id": "emerging-respect",
   "metadata": {},
   "outputs": [],
   "source": [
    "subs = ['sub-005', 'sub-006', 'sub-007', 'sub-008', 'sub-010', \n",
    "        'sub-012', 'sub-013', 'sub-014', 'sub-015', 'sub-016', \n",
    "        'sub-018', 'sub-019', 'sub-020', 'sub-021', 'sub-022', \n",
    "        'sub-023', 'sub-024', 'sub-025', 'sub-026', 'sub-027', \n",
    "        'sub-028', 'sub-029', 'sub-030', 'sub-031', 'sub-032']\n",
    "subs1 = ['sub-005']\n",
    "proj_dir = '/home/data/madlab/Mattfeld_vCAT' \n",
    "\n",
    "mask_data = []\n",
    "task_data = [] \n",
    "behav_data = []\n",
    "\n",
    "for i, sub in enumerate(subs):\n",
    "    #mask_glob = glob(join(proj_dir, 'derivatives/roi_masks', sub, 'bi-*.nii.gz')) #FS masks\n",
    "    mask_glob = glob(join(proj_dir, 'derivatives/loc-anat_masks', sub, 'feature-*.nii.gz')) #FS x LOC masks\n",
    "    mask_data.append(sorted(mask_glob))\n",
    "    task_glob = glob(join(proj_dir, 'derivatives/MVPA-LSS', sub, 'cope_*.nii.gz')) #LSS cope files\n",
    "    task_data.append(natsorted(task_glob))\n",
    "    behav_glob = glob(join(proj_dir, 'behav', sub, '{0}_simp_task*.csv'.format(sub))) #Runs 1-4 task files\n",
    "    behav_data.append(sorted(behav_glob))"
   ]
  },
  {
   "cell_type": "code",
   "execution_count": 3,
   "id": "spread-advocacy",
   "metadata": {},
   "outputs": [
    {
     "name": "stdout",
     "output_type": "stream",
     "text": [
      "0 feature-ffa_faces.nii.gz\n",
      "1 feature-hpc_faces.nii.gz\n",
      "2 feature-hpc_scenes.nii.gz\n",
      "3 feature-ppa_scenes.nii.gz\n",
      "4 feature-put_faces.nii.gz\n",
      "5 feature-put_scenes.nii.gz\n"
     ]
    }
   ],
   "source": [
    "for i, curr_mask in enumerate(mask_data[0]): #FS X LOC mask indices and filenames\n",
    "    print(i, mask_data[0][i].split('/')[-1]) "
   ]
  },
  {
   "cell_type": "code",
   "execution_count": 4,
   "id": "young-klein",
   "metadata": {
    "scrolled": true
   },
   "outputs": [
    {
     "name": "stdout",
     "output_type": "stream",
     "text": [
      "0 cope_face_run1_trl1_onset6.30.nii.gz\n",
      "1 cope_face_run1_trl2_onset44.80.nii.gz\n",
      "2 cope_face_run1_trl3_onset97.82.nii.gz\n",
      "3 cope_face_run1_trl4_onset124.32.nii.gz\n",
      "4 cope_face_run1_trl5_onset212.33.nii.gz\n",
      "5 cope_face_run1_trl6_onset220.82.nii.gz\n",
      "6 cope_face_run1_trl7_onset243.82.nii.gz\n",
      "7 cope_face_run1_trl8_onset305.33.nii.gz\n",
      "8 cope_face_run1_trl9_onset313.83.nii.gz\n",
      "9 cope_face_run1_trl10_onset336.83.nii.gz\n",
      "10 cope_face_run1_trl11_onset371.83.nii.gz\n",
      "11 cope_face_run1_trl12_onset412.83.nii.gz\n",
      "12 cope_face_run1_trl13_onset452.83.nii.gz\n",
      "13 cope_face_run1_trl14_onset509.33.nii.gz\n",
      "14 cope_face_run1_trl15_onset517.83.nii.gz\n",
      "15 cope_face_run1_trl16_onset579.83.nii.gz\n",
      "16 cope_face_run2_trl1_onset56.80.nii.gz\n",
      "17 cope_face_run2_trl2_onset77.30.nii.gz\n",
      "18 cope_face_run2_trl3_onset91.80.nii.gz\n",
      "19 cope_face_run2_trl4_onset100.30.nii.gz\n",
      "20 cope_face_run2_trl5_onset120.80.nii.gz\n",
      "21 cope_face_run2_trl6_onset147.30.nii.gz\n",
      "22 cope_face_run2_trl7_onset155.80.nii.gz\n",
      "23 cope_face_run2_trl8_onset200.30.nii.gz\n",
      "24 cope_face_run2_trl9_onset220.80.nii.gz\n",
      "25 cope_face_run2_trl10_onset241.30.nii.gz\n",
      "26 cope_face_run2_trl11_onset278.81.nii.gz\n",
      "27 cope_face_run2_trl12_onset305.31.nii.gz\n",
      "28 cope_face_run2_trl13_onset340.31.nii.gz\n",
      "29 cope_face_run2_trl14_onset348.81.nii.gz\n",
      "30 cope_face_run2_trl15_onset357.31.nii.gz\n",
      "31 cope_face_run2_trl16_onset404.31.nii.gz\n",
      "32 cope_face_run2_trl17_onset424.81.nii.gz\n",
      "33 cope_face_run2_trl18_onset433.31.nii.gz\n",
      "34 cope_face_run2_trl19_onset441.81.nii.gz\n",
      "35 cope_face_run2_trl20_onset450.31.nii.gz\n",
      "36 cope_face_run2_trl21_onset458.81.nii.gz\n",
      "37 cope_face_run2_trl22_onset511.81.nii.gz\n",
      "38 cope_face_run2_trl23_onset579.81.nii.gz\n",
      "39 cope_face_run3_trl1_onset36.29.nii.gz\n",
      "40 cope_face_run3_trl2_onset62.79.nii.gz\n",
      "41 cope_face_run3_trl3_onset120.80.nii.gz\n",
      "42 cope_face_run3_trl4_onset149.79.nii.gz\n",
      "43 cope_face_run3_trl5_onset258.30.nii.gz\n",
      "44 cope_face_run3_trl6_onset343.80.nii.gz\n",
      "45 cope_face_run3_trl7_onset366.80.nii.gz\n",
      "46 cope_face_run3_trl8_onset387.30.nii.gz\n",
      "47 cope_face_run3_trl9_onset442.80.nii.gz\n",
      "48 cope_face_run3_trl10_onset465.80.nii.gz\n",
      "49 cope_face_run3_trl11_onset482.80.nii.gz\n",
      "50 cope_face_run3_trl12_onset600.80.nii.gz\n",
      "51 cope_face_run4_trl1_onset43.80.nii.gz\n",
      "52 cope_face_run4_trl2_onset82.30.nii.gz\n",
      "53 cope_face_run4_trl3_onset132.80.nii.gz\n",
      "54 cope_face_run4_trl4_onset147.30.nii.gz\n",
      "55 cope_face_run4_trl5_onset196.81.nii.gz\n",
      "56 cope_face_run4_trl6_onset217.30.nii.gz\n",
      "57 cope_face_run4_trl7_onset243.80.nii.gz\n",
      "58 cope_face_run4_trl8_onset294.30.nii.gz\n",
      "59 cope_face_run4_trl9_onset302.81.nii.gz\n",
      "60 cope_face_run4_trl10_onset348.81.nii.gz\n",
      "61 cope_face_run4_trl11_onset357.31.nii.gz\n",
      "62 cope_face_run4_trl12_onset417.81.nii.gz\n",
      "63 cope_face_run4_trl13_onset482.81.nii.gz\n",
      "64 cope_face_run4_trl14_onset538.81.nii.gz\n",
      "65 cope_face_run4_trl15_onset547.31.nii.gz\n",
      "66 cope_face_run4_trl16_onset594.81.nii.gz\n",
      "67 cope_scene_run1_trl1_onset65.32.nii.gz\n",
      "68 cope_scene_run1_trl2_onset174.82.nii.gz\n",
      "69 cope_scene_run1_trl3_onset189.32.nii.gz\n",
      "70 cope_scene_run1_trl4_onset203.82.nii.gz\n",
      "71 cope_scene_run1_trl5_onset229.33.nii.gz\n",
      "72 cope_scene_run1_trl6_onset264.33.nii.gz\n",
      "73 cope_scene_run1_trl7_onset278.82.nii.gz\n",
      "74 cope_scene_run1_trl8_onset328.33.nii.gz\n",
      "75 cope_scene_run1_trl9_onset363.33.nii.gz\n",
      "76 cope_scene_run1_trl10_onset392.33.nii.gz\n",
      "77 cope_scene_run1_trl11_onset421.33.nii.gz\n",
      "78 cope_scene_run1_trl12_onset429.83.nii.gz\n",
      "79 cope_scene_run1_trl13_onset444.33.nii.gz\n",
      "80 cope_scene_run1_trl14_onset562.33.nii.gz\n",
      "81 cope_scene_run2_trl1_onset24.30.nii.gz\n",
      "82 cope_scene_run2_trl2_onset261.80.nii.gz\n",
      "83 cope_scene_run2_trl3_onset270.31.nii.gz\n",
      "84 cope_scene_run2_trl4_onset319.81.nii.gz\n",
      "85 cope_scene_run2_trl5_onset395.81.nii.gz\n",
      "86 cope_scene_run2_trl6_onset467.31.nii.gz\n",
      "87 cope_scene_run2_trl7_onset556.31.nii.gz\n",
      "88 cope_scene_run3_trl1_onset89.29.nii.gz\n",
      "89 cope_scene_run3_trl2_onset103.79.nii.gz\n",
      "90 cope_scene_run3_trl3_onset112.29.nii.gz\n",
      "91 cope_scene_run3_trl4_onset135.29.nii.gz\n",
      "92 cope_scene_run3_trl5_onset164.29.nii.gz\n",
      "93 cope_scene_run3_trl6_onset202.79.nii.gz\n",
      "94 cope_scene_run3_trl7_onset217.29.nii.gz\n",
      "95 cope_scene_run3_trl8_onset231.79.nii.gz\n",
      "96 cope_scene_run3_trl9_onset278.80.nii.gz\n",
      "97 cope_scene_run3_trl10_onset299.30.nii.gz\n",
      "98 cope_scene_run3_trl11_onset358.30.nii.gz\n",
      "99 cope_scene_run3_trl12_onset407.80.nii.gz\n",
      "100 cope_scene_run3_trl13_onset428.30.nii.gz\n",
      "101 cope_scene_run3_trl14_onset457.30.nii.gz\n",
      "102 cope_scene_run3_trl15_onset474.30.nii.gz\n",
      "103 cope_scene_run3_trl16_onset491.30.nii.gz\n",
      "104 cope_scene_run3_trl17_onset538.80.nii.gz\n",
      "105 cope_scene_run3_trl18_onset592.30.nii.gz\n",
      "106 cope_scene_run4_trl1_onset6.30.nii.gz\n",
      "107 cope_scene_run4_trl2_onset20.80.nii.gz\n",
      "108 cope_scene_run4_trl3_onset29.30.nii.gz\n",
      "109 cope_scene_run4_trl4_onset167.80.nii.gz\n",
      "110 cope_scene_run4_trl5_onset188.30.nii.gz\n",
      "111 cope_scene_run4_trl6_onset317.31.nii.gz\n",
      "112 cope_scene_run4_trl7_onset331.81.nii.gz\n",
      "113 cope_scene_run4_trl8_onset340.31.nii.gz\n",
      "114 cope_scene_run4_trl9_onset365.81.nii.gz\n",
      "115 cope_scene_run4_trl10_onset374.31.nii.gz\n",
      "116 cope_scene_run4_trl11_onset394.81.nii.gz\n",
      "117 cope_scene_run4_trl12_onset403.31.nii.gz\n",
      "118 cope_scene_run4_trl13_onset438.31.nii.gz\n",
      "119 cope_scene_run4_trl14_onset506.31.nii.gz\n"
     ]
    }
   ],
   "source": [
    "for i, curr_face in enumerate(task_data[0]): #cope data indices and filenames\n",
    "    print(i, task_data[0][i].split('/')[-1]) "
   ]
  },
  {
   "cell_type": "code",
   "execution_count": 5,
   "id": "streaming-dictionary",
   "metadata": {},
   "outputs": [
    {
     "name": "stdout",
     "output_type": "stream",
     "text": [
      "0 task1.csv\n",
      "1 task2.csv\n",
      "2 task3.csv\n",
      "3 task4.csv\n"
     ]
    }
   ],
   "source": [
    "for i, curr_behav in enumerate(behav_data[0]): #behavioral data indices and filenames\n",
    "    print(i, behav_data[0][i].split('/')[-1].split('_')[-1]) "
   ]
  },
  {
   "cell_type": "markdown",
   "id": "experienced-refund",
   "metadata": {},
   "source": [
    "### Create dict organizing all data into parallel keys/values"
   ]
  },
  {
   "cell_type": "code",
   "execution_count": 15,
   "id": "peaceful-geometry",
   "metadata": {},
   "outputs": [],
   "source": [
    "all_data = {'subjid':[], 'labels':[], 'samples':[], 'svc_acc':[], 'sub_acc':[], 'face_fscores':[], 'scene_fscores':[]}\n",
    "\n",
    "for i in range(len(subs)): #organize data into dict\n",
    "    all_data['subjid'].append(subs[i])\n",
    "    #obtain face/scene labels from each cope filename\n",
    "    curr_labels = [] #array to append subject labels to all_data\n",
    "    for j, cope in enumerate(task_data[i]):\n",
    "        if task_data[i][j].split('/')[-1].split('_')[1] == 'face': #current cope filename includes \"face\"\n",
    "            curr_labels.append(0) #face = 0\n",
    "        else: #current cope filename does not includes \"face\"\n",
    "            curr_labels.append(1) #scene = 1\n",
    "    all_data['labels'].append(curr_labels) #subject labels --> all_data \n",
    "    \n",
    "    #mask copes to obtain feature space for each SVC \n",
    "    face_mask = nb.load(mask_data[i][0]) #load ffa/face features mask\n",
    "    scene_mask = nb.load(mask_data[i][3]) #load ppa/scene features mask\n",
    "    mask = face_mask.get_fdata() + scene_mask.get_fdata() #combine ffa and ppa into single mask\n",
    "    mask_idx = np.where(mask > 1.) #looks for possible overlap between masks\n",
    "    mask[mask_idx] = 1 #reassigns possible overlap voxels to 1\n",
    "    masked_samples = [] #array to append subject samples to all_data\n",
    "    for cope in task_data[i]: #iterate through subject copes (120)\n",
    "        curr_cope = nb.load(cope) #load current subject cope with Nibabel       \n",
    "        data = curr_cope.get_fdata()[mask > 0.] #use mask to isolate ROI voxels of cope\n",
    "        masked_samples.append(data) \n",
    "    all_data['samples'].append(masked_samples)    \n",
    "\n",
    "    #calculate subject accuracies for face and scene conditional trials\n",
    "    set_acc = []  #array of subject set accuracies to average before appending to all_data\n",
    "    for j in range(2): #iterate through sets\n",
    "        run1 = pd.read_csv(behav_data[i][j*2]) #subject data csv \n",
    "        run2 = pd.read_csv(behav_data[i][j*2+1]) \n",
    "        curr_set = run1.append(run2, ignore_index=True) #concatenate Run 1 and 2 dataframes       \n",
    "        trialtype = curr_set['trialtype'].values #convert dataframes into numpy arrays\n",
    "        acc = curr_set['acc'].values\n",
    "        stim = curr_set['stim'].values        \n",
    "        trial_shift = trialtype[1:] #shift back array for parallel indexing\n",
    "        trial_shift = np.append(trial_shift, -1) #append dummy (-1) \n",
    "        acc_shift = acc[1:] \n",
    "        acc_shift = np.append(acc_shift, -1)        \n",
    "        all_cond = len(np.where((trialtype == 'fixed') & (trial_shift == 'cond'))[0]) #all conditional trials\n",
    "        corr_cond = len(np.where((trialtype == 'fixed') & (trial_shift == 'cond') & (acc_shift == 1))[0]) #correct conditionals        \n",
    "        set_acc.append(corr_cond/all_cond) #append subject conditional accuracy for current set\n",
    "    all_data['sub_acc'].append(np.mean(set_acc)) #mean subject for both sets --> all_data\n",
    "    \n",
    "    #SVC\n",
    "    splitter = LeavePOut(p=1) #Leave one sample out (LOSO) training method\n",
    "    X = np.array(all_data['samples'][i]) #masked samples\n",
    "    Y = np.array(all_data['labels'][i]) #face/scene labels (faces = 0, scenes = 1)\n",
    "    binary_scores = [] #binary SVC accuracy (n=120)  \n",
    "    true_pos_face, false_neg_face, false_pos_face = 0, 0, 0 #initial values for FACE F-score calculations\n",
    "    true_pos_scene, false_neg_scene, false_pos_scene = 0, 0, 0 #initial values for SCENE F-score calculations\n",
    "    for a, idx in enumerate(splitter.split(X)): #iterate through number of LOSO models (n=120)       \n",
    "        train_idx, test_idx = idx #indices for current model iteration\n",
    "        X_train, X_test = X[train_idx], X[test_idx] #current train and test samples\n",
    "        Y_train, Y_test = Y[train_idx], Y[test_idx] #current train and test labels\n",
    "        filename = 'completed-loc/clf_{0:03d}_{1:03d}.pkl'.format(i, a) #name for pickle file (subject and model #)\n",
    "        if os.path.exists(filename): #if current model has ran before\n",
    "            with open(filename, 'rb') as f: #open and load existing model pickle\n",
    "                lin_clf = pkl.load(f)\n",
    "        else: #if first run of current model       \n",
    "            lin_clf = svm.LinearSVC(max_iter = 2000) #create SVC, desired number of iterations\n",
    "            lin_clf.fit(X_train, Y_train) #training data for samples/labels (n=119)\n",
    "            with open(filename, 'wb') as f: #create and save new model pickle\n",
    "                pkl.dump(lin_clf, f)\n",
    "        s = lin_clf.score(X_test, Y_test) #testing data for samples/labels (n=1)\n",
    "        binary_scores.append(s) #append current SVC binary accuracy\n",
    "        #condition tree for calculating f-score (harmonic mean) for FACES\n",
    "        if Y_test[0] == 0: #face trial\n",
    "            if s: #correct face trial\n",
    "                true_pos_face += 1 #correctly identifying face as present\n",
    "            else: #incorrect face trial\n",
    "                false_neg_face += 1 #incorrectly identifying face as absent\n",
    "        else: #scene trial\n",
    "            if not s: #incorrect scene trial\n",
    "                false_pos_face += 1 #incorrectly identifying face as present\n",
    "        #condition tree for calculating f-score (harmonic mean) for SCENES\n",
    "        if Y_test[0] == 1: #scene trial\n",
    "            if s: #correct scene trial\n",
    "                true_pos_scene += 1 #correctly identifying scene as present\n",
    "            else: #incorrect scene trial\n",
    "                false_neg_scene += 1 #incorrectly identifying scene as absent\n",
    "        else: #face trial\n",
    "            if not s: #incorrect face trial\n",
    "                false_pos_scene += 1 #incorrectly identifying scene as present\n",
    "    #calculate F-Score for FACES            \n",
    "    face_precision = true_pos_face/(true_pos_face+false_pos_face) #calculate positive predictive value (precision)\n",
    "    face_recall = true_pos_face/(true_pos_face+false_neg_face) #calculate sensitivity (recall)\n",
    "    face_f_score = 2*(face_precision*face_recall/(face_precision+face_recall)) #calculate harmonic mean (balanced F-Score)\n",
    "    all_data['face_fscores'].append(face_f_score)\n",
    "    #calculate F-Score for SCENES\n",
    "    scene_precision = true_pos_scene/(true_pos_scene+false_pos_scene)\n",
    "    scene_recall = true_pos_scene/(true_pos_scene+false_neg_scene)\n",
    "    scene_f_score = 2*(scene_precision*scene_recall/(scene_precision+scene_recall))        \n",
    "    all_data['scene_fscores'].append(scene_f_score)\n",
    "                \n",
    "    all_data['svc_acc'].append(np.mean(binary_scores)) #append mean of all subject 120 SVC binary accuracies\n",
    "    \n",
    "all_data_df = pd.DataFrame(all_data)"
   ]
  },
  {
   "cell_type": "code",
   "execution_count": 16,
   "id": "crucial-marine",
   "metadata": {},
   "outputs": [
    {
     "name": "stdout",
     "output_type": "stream",
     "text": [
      "SVC ACC Shapiros: (0.9732561111450195, 0.728044331073761)\n",
      "SVC FACE F-score Shapiros: (0.9661932587623596, 0.5508587956428528)\n",
      "SVC SCENE F-score Shapiros: (0.9531959295272827, 0.29557177424430847)\n",
      "SVC SCENE F-score Shapiros: (0.9531959295272827, 0.29557177424430847)\n",
      "SUB ACC Shapiros: (0.8116651773452759, 0.0003581290366128087)\n"
     ]
    }
   ],
   "source": [
    "print('SVC ACC Shapiros:', stats.shapiro(all_data['svc_acc'])[:])\n",
    "print('SVC FACE F-score Shapiros:', stats.shapiro(all_data['face_fscores'])[:])\n",
    "print('SVC SCENE F-score Shapiros:', stats.shapiro(all_data['scene_fscores'])[:])\n",
    "print('SVC SCENE F-score Shapiros:', stats.shapiro(all_data['scene_fscores'])[:])\n",
    "print('SUB ACC Shapiros:', stats.shapiro(all_data['sub_acc'])[:])"
   ]
  },
  {
   "cell_type": "code",
   "execution_count": 17,
   "id": "failing-silence",
   "metadata": {},
   "outputs": [
    {
     "name": "stdout",
     "output_type": "stream",
     "text": [
      "SVC ACC: 0.5333333333333333 0.07253351715662981\n",
      "FACE F-score: 0.5388526064902734 0.07103247584371605\n",
      "SCENE F-score: 0.5208936401236517 0.09564740926517569\n",
      "SUB ACC: 0.83 0.5149999999999999\n"
     ]
    }
   ],
   "source": [
    "print('SVC ACC:', np.mean(all_data['svc_acc']), np.std(all_data['svc_acc'])) #normal dist\n",
    "print('FACE F-score:', np.mean(all_data['face_fscores']), np.std(all_data['face_fscores'])) #norm dist\n",
    "print('SCENE F-score:', np.mean(all_data['scene_fscores']), np.std(all_data['scene_fscores'])) #norm dist\n",
    "print('SUB ACC:', np.median(all_data['sub_acc']), np.max(all_data['sub_acc'])-np.min(all_data['sub_acc'])) #non-normal dist"
   ]
  },
  {
   "cell_type": "code",
   "execution_count": 18,
   "id": "urban-candidate",
   "metadata": {},
   "outputs": [],
   "source": [
    "fscore_avg = (np.array(all_data['face_fscores']) + np.array(all_data['scene_fscores']))/2 #average of face and scene F-Scores"
   ]
  },
  {
   "cell_type": "code",
   "execution_count": 19,
   "id": "independent-minute",
   "metadata": {},
   "outputs": [
    {
     "data": {
      "text/plain": [
       "SpearmanrResult(correlation=-0.0023134760406799963, pvalue=0.9912432743795278)"
      ]
     },
     "execution_count": 19,
     "metadata": {},
     "output_type": "execute_result"
    }
   ],
   "source": [
    "stats.spearmanr(all_data['svc_acc'], all_data['sub_acc'])"
   ]
  },
  {
   "cell_type": "code",
   "execution_count": 20,
   "id": "handed-preserve",
   "metadata": {},
   "outputs": [
    {
     "data": {
      "text/plain": [
       "SpearmanrResult(correlation=-0.0034655394705351973, pvalue=0.9868829109921144)"
      ]
     },
     "execution_count": 20,
     "metadata": {},
     "output_type": "execute_result"
    }
   ],
   "source": [
    "stats.spearmanr(fscore_avg, all_data['sub_acc'])"
   ]
  },
  {
   "cell_type": "code",
   "execution_count": 22,
   "id": "recent-notebook",
   "metadata": {},
   "outputs": [
    {
     "name": "stdout",
     "output_type": "stream",
     "text": [
      "SpearmanrResult(correlation=-0.0023134760406799963, pvalue=0.9912432743795278)\n"
     ]
    },
    {
     "data": {
      "image/png": "[encoded data removed]",
      "text/plain": [
       "<Figure size 720x432 with 1 Axes>"
      ]
     },
     "metadata": {},
     "output_type": "display_data"
    }
   ],
   "source": [
    "print(stats.spearmanr(all_data_df['svc_acc'], all_data_df['sub_acc']))\n",
    "fig, ax = plt.subplots(figsize=(10,6))\n",
    "ax = sns.regplot(x = 'sub_acc', y = 'svc_acc', data = all_data_df)\n",
    "sns.despine(top=True)\n",
    "ax.yaxis.set_ticks_position('left')\n",
    "ax.xaxis.set_ticks_position('bottom')\n",
    "ax.set_ylabel('Classifier Performance')\n",
    "ax.set_xlabel('Subject Performance')\n",
    "ax.set_title('FFA-PPA: All Runs')\n",
    "plt.show()"
   ]
  },
  {
   "cell_type": "markdown",
   "id": "stopped-cuisine",
   "metadata": {},
   "source": [
    "## Extras -----------------------------------------------------------"
   ]
  },
  {
   "cell_type": "raw",
   "id": "preceding-miller",
   "metadata": {},
   "source": [
    "faceX = np.array(all_data['face_samples'][i])\n",
    "faceY = np.array(all_data['labels'][i])\n",
    "face_clf = svm.LinearSVC()\n",
    "face_clf.fit(faceX[::2], faceY[::2])\n",
    "all_data['svc_face'].append(face_clf.score(faceX[1::2], faceY[1::2]))\n",
    "\n",
    "sceneX = np.array(all_data['scene_samples'][i])\n",
    "sceneY = np.array(all_data['labels'][i])\n",
    "scene_clf = svm.LinearSVC()\n",
    "scene_clf.fit(sceneX[::2], sceneY[::2])\n",
    "all_data['svc_scene'].append(scene_clf.score(sceneX[1::2], sceneY[1::2]))"
   ]
  },
  {
   "cell_type": "raw",
   "id": "harmful-rover",
   "metadata": {},
   "source": [
    "#playing with pickles\n",
    "a = np.random.random(size=(100,100))\n",
    "with open('test.pkl', 'wb') as f:\n",
    "    pkl.dump(a, f)\n",
    "with open('test.pkl', 'rb') as f:\n",
    "    b = pkl.load(f)\n",
    "print(a-b)"
   ]
  },
  {
   "cell_type": "raw",
   "id": "english-thompson",
   "metadata": {},
   "source": [
    "#copy/renaming task func files\n",
    "\n",
    "subs1 = ['sub-005', 'sub-006', 'sub-007', 'sub-008', 'sub-010', \n",
    "        'sub-012', 'sub-013', 'sub-014', 'sub-015', 'sub-016', \n",
    "        'sub-018', 'sub-019', 'sub-020', 'sub-021', 'sub-022', \n",
    "        'sub-023', 'sub-024', 'sub-025', 'sub-026', 'sub-027', \n",
    "        'sub-028', 'sub-029', 'sub-030', 'sub-031', 'sub-032']\n",
    "subs = ['sub-014']\n",
    "for sub in subs:\n",
    "    ta_dir = '/home/data/madlab/Mattfeld_vCAT/derivatives/MVPA-LSS'\n",
    "    ta_glob = glob(join(ta_dir, 'lvl1', sub, 'modelfit/contrasts/_estimate_model*/cope*_onset*.nii.gz'))    \n",
    "    if not os.path.exists(join(ta_dir, sub)):\n",
    "        os.makedirs(join(ta_dir, sub))   \n",
    "    for i in ta_glob:\n",
    "        x = i.split('/')[-1].split('_')\n",
    "        x2 = x[-1][:-7] \n",
    "        shutil.copy(i,\n",
    "                    join(ta_dir, sub, 'cope_{0}_{1}_{2}_{3}.nii.gz'.format(x[3], x[4], x2,  x[5])))              "
   ]
  }
 ],
 "metadata": {
  "kernelspec": {
   "display_name": "Python 3",
   "language": "python",
   "name": "python3"
  },
  "language_info": {
   "codemirror_mode": {
    "name": "ipython",
    "version": 3
   },
   "file_extension": ".py",
   "mimetype": "text/x-python",
   "name": "python",
   "nbconvert_exporter": "python",
   "pygments_lexer": "ipython3",
   "version": "3.9.9"
  }
 },
 "nbformat": 4,
 "nbformat_minor": 5
}
