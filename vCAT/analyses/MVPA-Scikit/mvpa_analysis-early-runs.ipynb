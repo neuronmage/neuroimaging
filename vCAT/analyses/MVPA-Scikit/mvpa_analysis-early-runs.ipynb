{
 "cells": [
  {
   "cell_type": "markdown",
   "id": "referenced-nightmare",
   "metadata": {},
   "source": [
    "# vCAT MVPA Analysis using SKLearn\n",
    "## Early Runs (Runs 1 & 3)\n",
    "## Feature regions - HPC, mPFC, & DAC"
   ]
  },
  {
   "cell_type": "code",
   "execution_count": 26,
   "id": "broke-atlas",
   "metadata": {},
   "outputs": [],
   "source": [
    "import os\n",
    "from os.path import join, basename, exists\n",
    "import shutil\n",
    "import pickle as pkl\n",
    "from glob import glob\n",
    "from natsort import natsorted\n",
    "import pandas as pd\n",
    "import numpy as np\n",
    "import nibabel as nb\n",
    "from scipy import stats\n",
    "from sklearn import svm\n",
    "from sklearn.model_selection import LeavePOut\n",
    "import seaborn as sns\n",
    "from pylab import *\n",
    "import matplotlib.pyplot as plt\n",
    "%matplotlib inline\n",
    "sns.set_style(\"white\")\n",
    "sns.set_palette('muted')"
   ]
  },
  {
   "cell_type": "code",
   "execution_count": 2,
   "id": "emerging-respect",
   "metadata": {},
   "outputs": [],
   "source": [
    "subs = ['sub-005', 'sub-006', 'sub-007', 'sub-008', 'sub-010', \n",
    "        'sub-012', 'sub-013', 'sub-014', 'sub-015', 'sub-016', \n",
    "        'sub-018', 'sub-019', 'sub-020', 'sub-021', 'sub-022', \n",
    "        'sub-023', 'sub-024', 'sub-025', 'sub-026', 'sub-027', \n",
    "        'sub-028', 'sub-029', 'sub-030', 'sub-031', 'sub-032']\n",
    "subs1 = ['sub-005']\n",
    "proj_dir = '/home/data/madlab/Mattfeld_vCAT' \n",
    "\n",
    "mask_data = []\n",
    "task_data = [] \n",
    "behav_data = []\n",
    "\n",
    "for i, sub in enumerate(subs):\n",
    "    #mask_glob = glob(join(proj_dir, 'derivatives/roi_masks', sub, 'bi-*.nii.gz')) #FS masks\n",
    "    mask_glob = glob(join(proj_dir, 'derivatives/roi_masks', sub, 'bi-*.nii.gz')) #FS x LOC masks\n",
    "    mask_data.append(sorted(mask_glob))\n",
    "    task_glob = glob(join(proj_dir, 'derivatives/MVPA-LSS', sub, 'cope_*run1*.nii.gz')) + \\\n",
    "                glob(join(proj_dir, 'derivatives/MVPA-LSS', sub, 'cope_*run3*.nii.gz'))#LSS cope files\n",
    "    task_data.append(natsorted(task_glob))\n",
    "    behav_glob = glob(join(proj_dir, 'behav', sub, '{0}_simp_task*.csv'.format(sub))) #Runs 1-4 task files\n",
    "    behav_data.append(sorted(behav_glob))"
   ]
  },
  {
   "cell_type": "code",
   "execution_count": 3,
   "id": "spread-advocacy",
   "metadata": {},
   "outputs": [
    {
     "name": "stdout",
     "output_type": "stream",
     "text": [
      "0 bi-caudate.nii.gz\n",
      "1 bi-fusiform.nii.gz\n",
      "2 bi-hippocampus.nii.gz\n",
      "3 bi-mPFC.nii.gz\n",
      "4 bi-parahippocampal.nii.gz\n",
      "5 bi-putamen.nii.gz\n"
     ]
    }
   ],
   "source": [
    "for i, curr_mask in enumerate(mask_data[0]): #FS X LOC mask indices and filenames\n",
    "    print(i, mask_data[0][i].split('/')[-1]) "
   ]
  },
  {
   "cell_type": "code",
   "execution_count": 4,
   "id": "young-klein",
   "metadata": {},
   "outputs": [
    {
     "name": "stdout",
     "output_type": "stream",
     "text": [
      "0 cope_face_run1_trl1_onset6.30.nii.gz\n",
      "1 cope_face_run1_trl2_onset44.80.nii.gz\n",
      "2 cope_face_run1_trl3_onset97.82.nii.gz\n",
      "3 cope_face_run1_trl4_onset124.32.nii.gz\n",
      "4 cope_face_run1_trl5_onset212.33.nii.gz\n",
      "5 cope_face_run1_trl6_onset220.82.nii.gz\n",
      "6 cope_face_run1_trl7_onset243.82.nii.gz\n",
      "7 cope_face_run1_trl8_onset305.33.nii.gz\n",
      "8 cope_face_run1_trl9_onset313.83.nii.gz\n",
      "9 cope_face_run1_trl10_onset336.83.nii.gz\n",
      "10 cope_face_run1_trl11_onset371.83.nii.gz\n",
      "11 cope_face_run1_trl12_onset412.83.nii.gz\n",
      "12 cope_face_run1_trl13_onset452.83.nii.gz\n",
      "13 cope_face_run1_trl14_onset509.33.nii.gz\n",
      "14 cope_face_run1_trl15_onset517.83.nii.gz\n",
      "15 cope_face_run1_trl16_onset579.83.nii.gz\n",
      "16 cope_face_run3_trl1_onset36.29.nii.gz\n",
      "17 cope_face_run3_trl2_onset62.79.nii.gz\n",
      "18 cope_face_run3_trl3_onset120.80.nii.gz\n",
      "19 cope_face_run3_trl4_onset149.79.nii.gz\n",
      "20 cope_face_run3_trl5_onset258.30.nii.gz\n",
      "21 cope_face_run3_trl6_onset343.80.nii.gz\n",
      "22 cope_face_run3_trl7_onset366.80.nii.gz\n",
      "23 cope_face_run3_trl8_onset387.30.nii.gz\n",
      "24 cope_face_run3_trl9_onset442.80.nii.gz\n",
      "25 cope_face_run3_trl10_onset465.80.nii.gz\n",
      "26 cope_face_run3_trl11_onset482.80.nii.gz\n",
      "27 cope_face_run3_trl12_onset600.80.nii.gz\n",
      "28 cope_scene_run1_trl1_onset65.32.nii.gz\n",
      "29 cope_scene_run1_trl2_onset174.82.nii.gz\n",
      "30 cope_scene_run1_trl3_onset189.32.nii.gz\n",
      "31 cope_scene_run1_trl4_onset203.82.nii.gz\n",
      "32 cope_scene_run1_trl5_onset229.33.nii.gz\n",
      "33 cope_scene_run1_trl6_onset264.33.nii.gz\n",
      "34 cope_scene_run1_trl7_onset278.82.nii.gz\n",
      "35 cope_scene_run1_trl8_onset328.33.nii.gz\n",
      "36 cope_scene_run1_trl9_onset363.33.nii.gz\n",
      "37 cope_scene_run1_trl10_onset392.33.nii.gz\n",
      "38 cope_scene_run1_trl11_onset421.33.nii.gz\n",
      "39 cope_scene_run1_trl12_onset429.83.nii.gz\n",
      "40 cope_scene_run1_trl13_onset444.33.nii.gz\n",
      "41 cope_scene_run1_trl14_onset562.33.nii.gz\n",
      "42 cope_scene_run3_trl1_onset89.29.nii.gz\n",
      "43 cope_scene_run3_trl2_onset103.79.nii.gz\n",
      "44 cope_scene_run3_trl3_onset112.29.nii.gz\n",
      "45 cope_scene_run3_trl4_onset135.29.nii.gz\n",
      "46 cope_scene_run3_trl5_onset164.29.nii.gz\n",
      "47 cope_scene_run3_trl6_onset202.79.nii.gz\n",
      "48 cope_scene_run3_trl7_onset217.29.nii.gz\n",
      "49 cope_scene_run3_trl8_onset231.79.nii.gz\n",
      "50 cope_scene_run3_trl9_onset278.80.nii.gz\n",
      "51 cope_scene_run3_trl10_onset299.30.nii.gz\n",
      "52 cope_scene_run3_trl11_onset358.30.nii.gz\n",
      "53 cope_scene_run3_trl12_onset407.80.nii.gz\n",
      "54 cope_scene_run3_trl13_onset428.30.nii.gz\n",
      "55 cope_scene_run3_trl14_onset457.30.nii.gz\n",
      "56 cope_scene_run3_trl15_onset474.30.nii.gz\n",
      "57 cope_scene_run3_trl16_onset491.30.nii.gz\n",
      "58 cope_scene_run3_trl17_onset538.80.nii.gz\n",
      "59 cope_scene_run3_trl18_onset592.30.nii.gz\n"
     ]
    }
   ],
   "source": [
    "for i, curr_face in enumerate(task_data[0]): #cope data indices and filenames\n",
    "    print(i, task_data[0][i].split('/')[-1]) "
   ]
  },
  {
   "cell_type": "code",
   "execution_count": 5,
   "id": "streaming-dictionary",
   "metadata": {},
   "outputs": [
    {
     "name": "stdout",
     "output_type": "stream",
     "text": [
      "0 task1.csv\n",
      "1 task2.csv\n",
      "2 task3.csv\n",
      "3 task4.csv\n"
     ]
    }
   ],
   "source": [
    "for i, curr_behav in enumerate(behav_data[0]): #behavioral data indices and filenames\n",
    "    print(i, behav_data[0][i].split('/')[-1].split('_')[-1]) "
   ]
  },
  {
   "cell_type": "markdown",
   "id": "experienced-refund",
   "metadata": {},
   "source": [
    "### Create dict organizing all data into parallel keys/values"
   ]
  },
  {
   "cell_type": "code",
   "execution_count": 19,
   "id": "peaceful-geometry",
   "metadata": {},
   "outputs": [],
   "source": [
    "all_data = {'subjid':[], 'labels':[], 'samples':[], 'svc_acc':[], 'sub_acc':[], 'face_fscores':[], 'scene_fscores':[]}\n",
    "\n",
    "for i in range(len(subs)): #organize data into dict\n",
    "    all_data['subjid'].append(subs[i])\n",
    "    #obtain face/scene labels from each cope filename\n",
    "    curr_labels = [] #array to append subject labels to all_data\n",
    "    for j, cope in enumerate(task_data[i]):\n",
    "        if task_data[i][j].split('/')[-1].split('_')[1] == 'face': #current cope filename includes \"face\"\n",
    "            curr_labels.append(0) #face = 0\n",
    "        else: #current cope filename does not includes \"face\"\n",
    "            curr_labels.append(1) #scene = 1\n",
    "    all_data['labels'].append(curr_labels) #subject labels --> all_data \n",
    "    \n",
    "    #mask copes to obtain feature space for each SVC \n",
    "    dac_mask = nb.load(mask_data[i][0]) #load dorsal anterior caudate mask\n",
    "    hpc_mask = nb.load(mask_data[i][2]) #load hippocampus mask\n",
    "    mpfc_mask = nb.load(mask_data[i][3]) #load medial PFC mask\n",
    "    #put_mask = nb.load(mask_data[i][5]) #load putamen mask\n",
    "    \n",
    "    mask = hpc_mask.get_fdata() + mpfc_mask.get_fdata() + dac_mask.get_fdata() #combine into single mask\n",
    "    mask_idx = np.where(mask > 1.) #looks for possible overlap between masks\n",
    "    mask[mask_idx] = 1 #reassigns possible overlap voxels to 1\n",
    "    masked_samples = [] #array to append subject samples to all_data\n",
    "    for cope in task_data[i]: #iterate through subject copes (120)\n",
    "        curr_cope = nb.load(cope) #load current subject cope with Nibabel       \n",
    "        data = curr_cope.get_fdata()[mask > 0.] #use mask to isolate ROI voxels of cope\n",
    "        masked_samples.append(data) \n",
    "    all_data['samples'].append(masked_samples)    \n",
    "\n",
    "    #calculate subject accuracies for face and scene conditional trials\n",
    "    set_acc = []  #array of subject set accuracies to average before appending to all_data\n",
    "    for j in range(2): #iterate through sets\n",
    "        run1 = pd.read_csv(behav_data[i][j*2]) #subject data csv \n",
    "        #run2 = pd.read_csv(behav_data[i][j*2+1]) \n",
    "        #curr_set = run1.append(run2, ignore_index=True) #concatenate Run 1 and 2 dataframes       \n",
    "        trialtype = run1['trialtype'].values #convert dataframes into numpy arrays\n",
    "        acc = run1['acc'].values\n",
    "        stim = run1['stim'].values              \n",
    "        all_cond = len(np.where((trialtype == 'cond'))[0]) #all conditional trials\n",
    "        corr_cond = len(np.where((trialtype == 'cond') & (acc == 1))[0]) #correct conditionals        \n",
    "        set_acc.append(corr_cond/all_cond) #append subject conditional accuracy for current set\n",
    "    all_data['sub_acc'].append(np.mean(set_acc)) #mean subject for both sets --> all_data\n",
    "    \n",
    "    #SVC\n",
    "    splitter = LeavePOut(p=1) #Leave one sample out (LOSO) training method\n",
    "    X = np.array(all_data['samples'][i]) #masked samples\n",
    "    Y = np.array(all_data['labels'][i]) #face/scene labels (faces = 0, scenes = 1)\n",
    "    binary_scores = [] #binary SVC accuracy (n=120)  \n",
    "    true_pos_face, false_neg_face, false_pos_face = 0, 0, 0 #initial values for FACE F-score calculations\n",
    "    true_pos_scene, false_neg_scene, false_pos_scene = 0, 0, 0 #initial values for SCENE F-score calculations\n",
    "    for a, idx in enumerate(splitter.split(X)): #iterate through number of LOSO models (n=120)       \n",
    "        train_idx, test_idx = idx #indices for current model iteration\n",
    "        X_train, X_test = X[train_idx], X[test_idx] #current train and test samples\n",
    "        Y_train, Y_test = Y[train_idx], Y[test_idx] #current train and test labels\n",
    "        filename = 'completed-early/clf_{0:03d}_{1:03d}.pkl'.format(i, a) #name for pickle file (subject and model #)\n",
    "        if os.path.exists(filename): #if current model has ran before\n",
    "            with open(filename, 'rb') as f: #open and load existing model pickle\n",
    "                lin_clf = pkl.load(f)\n",
    "        else: #if first run of current model       \n",
    "            lin_clf = svm.LinearSVC(max_iter = 2000) #create SVC, desired number of iterations\n",
    "            lin_clf.fit(X_train, Y_train) #training data for samples/labels (n=119)\n",
    "            with open(filename, 'wb') as f: #create and save new model pickle\n",
    "                pkl.dump(lin_clf, f)\n",
    "        s = lin_clf.score(X_test, Y_test) #testing data for samples/labels (n=1)\n",
    "        binary_scores.append(s) #append current SVC binary accuracy\n",
    "        #condition tree for calculating f-score (harmonic mean) for FACES\n",
    "        if Y_test[0] == 0: #face trial\n",
    "            if s: #correct face trial\n",
    "                true_pos_face += 1 #correctly identifying face as present\n",
    "            else: #incorrect face trial\n",
    "                false_neg_face += 1 #incorrectly identifying face as absent\n",
    "        else: #scene trial\n",
    "            if not s: #incorrect scene trial\n",
    "                false_pos_face += 1 #incorrectly identifying face as present\n",
    "        #condition tree for calculating f-score (harmonic mean) for SCENES\n",
    "        if Y_test[0] == 1: #scene trial\n",
    "            if s: #correct scene trial\n",
    "                true_pos_scene += 1 #correctly identifying scene as present\n",
    "            else: #incorrect scene trial\n",
    "                false_neg_scene += 1 #incorrectly identifying scene as absent\n",
    "        else: #face trial\n",
    "            if not s: #incorrect face trial\n",
    "                false_pos_scene += 1 #incorrectly identifying scene as present\n",
    "    #calculate F-Score for FACES            \n",
    "    face_precision = true_pos_face/(true_pos_face+false_pos_face) #calculate positive predictive value (precision)\n",
    "    face_recall = true_pos_face/(true_pos_face+false_neg_face) #calculate sensitivity (recall)\n",
    "    face_f_score = 2*(face_precision*face_recall/(face_precision+face_recall)) #calculate harmonic mean (balanced F-Score)\n",
    "    all_data['face_fscores'].append(face_f_score)\n",
    "    #calculate F-Score for SCENES\n",
    "    scene_precision = true_pos_scene/(true_pos_scene+false_pos_scene)\n",
    "    scene_recall = true_pos_scene/(true_pos_scene+false_neg_scene)\n",
    "    scene_f_score = 2*(scene_precision*scene_recall/(scene_precision+scene_recall))        \n",
    "    all_data['scene_fscores'].append(scene_f_score)\n",
    "                \n",
    "    all_data['svc_acc'].append(np.mean(binary_scores)) #append mean of all subject 120 SVC binary accuracies\n",
    "all_data_df = pd.DataFrame(all_data)"
   ]
  },
  {
   "cell_type": "code",
   "execution_count": 17,
   "id": "german-prayer",
   "metadata": {
    "scrolled": true
   },
   "outputs": [
    {
     "data": {
      "text/plain": [
       "[0.61,\n",
       " 0.77,\n",
       " 0.48000000000000004,\n",
       " 0.8200000000000001,\n",
       " 0.89,\n",
       " 0.87,\n",
       " 0.76,\n",
       " 0.69,\n",
       " 0.81,\n",
       " 0.8200000000000001,\n",
       " 0.79,\n",
       " 0.94,\n",
       " 0.73,\n",
       " 0.8,\n",
       " 0.78,\n",
       " 0.79,\n",
       " 0.73,\n",
       " 0.44999999999999996,\n",
       " 0.78,\n",
       " 0.66,\n",
       " 0.87,\n",
       " 0.53,\n",
       " 0.8200000000000001,\n",
       " 0.77,\n",
       " 0.76]"
      ]
     },
     "execution_count": 17,
     "metadata": {},
     "output_type": "execute_result"
    }
   ],
   "source": [
    "all_data['sub_acc']"
   ]
  },
  {
   "cell_type": "code",
   "execution_count": 20,
   "id": "historical-tension",
   "metadata": {},
   "outputs": [
    {
     "name": "stdout",
     "output_type": "stream",
     "text": [
      "SVC ACC Shapiros: (0.9717934131622314, 0.6907779574394226)\n",
      "SVC FACE F-score Shapiros: (0.963714599609375, 0.4932951033115387)\n",
      "SVC SCENE F-score Shapiros: (0.9745007753372192, 0.7593881487846375)\n",
      "SVC SCENE F-score Shapiros: (0.9745007753372192, 0.7593881487846375)\n",
      "SUB ACC Shapiros: (0.889644980430603, 0.010993463918566704)\n"
     ]
    }
   ],
   "source": [
    "print('SVC ACC Shapiros:', stats.shapiro(all_data_df['svc_acc'])[:])\n",
    "print('SVC FACE F-score Shapiros:', stats.shapiro(all_data_df['face_fscores'])[:])\n",
    "print('SVC SCENE F-score Shapiros:', stats.shapiro(all_data_df['scene_fscores'])[:])\n",
    "print('SVC SCENE F-score Shapiros:', stats.shapiro(all_data_df['scene_fscores'])[:])\n",
    "print('SUB ACC Shapiros:', stats.shapiro(all_data_df['sub_acc'])[:])"
   ]
  },
  {
   "cell_type": "code",
   "execution_count": 21,
   "id": "crucial-marine",
   "metadata": {},
   "outputs": [
    {
     "name": "stdout",
     "output_type": "stream",
     "text": [
      "SVC ACC: 0.528 0.07206786924682718\n",
      "FACE F-score: 0.5253608630136247 0.08570195710653174\n",
      "SCENE F-score: 0.5061994335255509 0.12849735359823056\n",
      "SUB ACC: 0.78 0.49\n"
     ]
    }
   ],
   "source": [
    "print('SVC ACC:', np.mean(all_data_df['svc_acc']), np.std(all_data_df['svc_acc'])) #normal \n",
    "print('FACE F-score:', np.mean(all_data_df['face_fscores']), np.std(all_data_df['face_fscores'])) #normal \n",
    "print('SCENE F-score:', np.mean(all_data_df['scene_fscores']), np.std(all_data_df['scene_fscores'])) #normal \n",
    "print('SUB ACC:', np.median(all_data_df['sub_acc']), np.max(all_data_df['sub_acc'])-np.min(all_data_df['sub_acc'])) #non-normal"
   ]
  },
  {
   "cell_type": "code",
   "execution_count": 22,
   "id": "failing-silence",
   "metadata": {},
   "outputs": [],
   "source": [
    "fscore_avg = (np.array(all_data_df['face_fscores']) + np.array(all_data_df['scene_fscores']))/2 #avg of face & scene F-Scores"
   ]
  },
  {
   "cell_type": "code",
   "execution_count": 23,
   "id": "urban-candidate",
   "metadata": {},
   "outputs": [
    {
     "data": {
      "text/plain": [
       "SpearmanrResult(correlation=0.0019368689150624301, pvalue=0.9926687268963297)"
      ]
     },
     "execution_count": 23,
     "metadata": {},
     "output_type": "execute_result"
    }
   ],
   "source": [
    "stats.spearmanr(all_data_df['svc_acc'], all_data_df['sub_acc'])"
   ]
  },
  {
   "cell_type": "code",
   "execution_count": 24,
   "id": "accompanied-prospect",
   "metadata": {},
   "outputs": [
    {
     "data": {
      "text/plain": [
       "SpearmanrResult(correlation=-0.0730673501296691, pvalue=0.7285182023222818)"
      ]
     },
     "execution_count": 24,
     "metadata": {},
     "output_type": "execute_result"
    }
   ],
   "source": [
    "stats.spearmanr(fscore_avg, all_data_df['sub_acc'])"
   ]
  },
  {
   "cell_type": "code",
   "execution_count": 30,
   "id": "synthetic-olive",
   "metadata": {},
   "outputs": [
    {
     "name": "stdout",
     "output_type": "stream",
     "text": [
      "SpearmanrResult(correlation=0.0019368689150624301, pvalue=0.9926687268963297)\n"
     ]
    },
    {
     "data": {
      "image/png": "[encoded data removed]",
      "text/plain": [
       "<Figure size 720x432 with 1 Axes>"
      ]
     },
     "metadata": {},
     "output_type": "display_data"
    }
   ],
   "source": [
    "print(stats.spearmanr(all_data_df['svc_acc'], all_data_df['sub_acc']))\n",
    "fig, ax = plt.subplots(figsize=(10,6))\n",
    "ax = sns.regplot(x = 'sub_acc', y = 'svc_acc', data = all_data_df)\n",
    "sns.despine(top=True)\n",
    "ax.yaxis.set_ticks_position('left')\n",
    "ax.xaxis.set_ticks_position('bottom')\n",
    "ax.set_ylabel('Classifier Performance')\n",
    "ax.set_xlabel('Subject Performance')\n",
    "ax.set_title('HPC-mPFC-Caudate: Early Runs')\n",
    "plt.show()"
   ]
  }
 ],
 "metadata": {
  "kernelspec": {
   "display_name": "Python 3",
   "language": "python",
   "name": "python3"
  },
  "language_info": {
   "codemirror_mode": {
    "name": "ipython",
    "version": 3
   },
   "file_extension": ".py",
   "mimetype": "text/x-python",
   "name": "python",
   "nbconvert_exporter": "python",
   "pygments_lexer": "ipython3",
   "version": "3.9.9"
  }
 },
 "nbformat": 4,
 "nbformat_minor": 5
}
