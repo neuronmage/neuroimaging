{
 "cells": [
  {
   "cell_type": "markdown",
   "id": "diagnostic-backup",
   "metadata": {},
   "source": [
    "### Investigating the features of Bunch (lvl1)"
   ]
  },
  {
   "cell_type": "code",
   "execution_count": 6,
   "id": "moved-beaver",
   "metadata": {
    "scrolled": false
   },
   "outputs": [
    {
     "name": "stderr",
     "output_type": "stream",
     "text": [
      "<ipython-input-6-03218dec1d21>:15: UserWarning: genfromtxt: Empty input file: \"/home/data/madlab/Mattfeld_vCAT/behav/vCAT_005/GLM1/run4_fixed_cond_incorr.txt\"\n",
      "  fixed_cond_incorr = np.genfromtxt(base_dir + '{0}/GLM1/run{1}_fixed_cond_incorr.txt'.format(subject_id, curr_run), dtype = str)\n"
     ]
    },
    {
     "name": "stdout",
     "output_type": "stream",
     "text": [
      "[Bunch(amplitudes=[[1.0, 1.0, 1.0, 1.0, 1.0, 1.0, 1.0, 1.0, 1.0, 1.0, 1.0, 1.0, 1.0, 1.0, 1.0, 1.0, 1.0, 1.0, 1.0, 1.0, 1.0, 1.0, 1.0, 1.0, 1.0], [1.0, 1.0, 1.0, 1.0, 1.0, 1.0, 1.0, 1.0, 1.0, 1.0, 1.0, 1.0, 1.0, 1.0, 1.0, 1.0, 1.0], [1.0, 1.0, 1.0, 1.0, 1.0, 1.0, 1.0, 1.0, 1.0, 1.0, 1.0, 1.0, 1.0, 1.0, 1.0, 1.0, 1.0, 1.0, 1.0, 1.0, 1.0, 1.0, 1.0, 1.0, 1.0, 1.0, 1.0, 1.0, 1.0, 1.0, 1.0, 1.0, 1.0, 1.0, 1.0, 1.0, 1.0, 1.0, 1.0, 1.0, 1.0, 1.0, 1.0, 1.0, 1.0, 1.0, 1.0, 1.0, 1.0, 1.0, 1.0, 1.0, 1.0, 1.0, 1.0, 1.0, 1.0, 1.0, 1.0, 1.0, 1.0, 1.0, 1.0, 1.0, 1.0, 1.0, 1.0, 1.0, 1.0, 1.0, 1.0, 1.0, 1.0, 1.0, 1.0, 1.0, 1.0, 1.0, 1.0, 1.0, 1.0, 1.0, 1.0, 1.0, 1.0, 1.0, 1.0, 1.0, 1.0, 1.0, 1.0, 1.0, 1.0, 1.0, 1.0, 1.0, 1.0, 1.0, 1.0, 1.0, 1.0, 1.0, 1.0, 1.0, 1.0, 1.0, 1.0, 1.0, 1.0, 1.0, 1.0, 1.0, 1.0, 1.0, 1.0, 1.0, 1.0, 1.0, 1.0, 1.0, 1.0, 1.0, 1.0, 1.0, 1.0, 1.0, 1.0, 1.0, 1.0, 1.0, 1.0, 1.0, 1.0, 1.0, 1.0, 1.0, 1.0, 1.0]], conditions=['fixed_cond_corr', 'fixed_cond_incorr', 'remaining'], durations=[[3.0, 3.0, 3.0, 3.0, 3.0, 3.0, 3.0, 3.0, 3.0, 3.0, 3.0, 3.0, 3.0, 3.0, 3.0, 3.0, 3.0, 3.0, 3.0, 3.0, 3.0, 3.0, 3.0, 3.0, 3.0], [3.0, 3.0, 3.0, 3.0, 3.0, 3.0, 3.0, 3.0, 3.0, 3.0, 3.0, 3.0, 3.0, 3.0, 3.0, 3.0, 3.0], [3.0, 3.0, 3.0, 3.0, 3.0, 3.0, 3.0, 3.0, 3.0, 3.0, 3.0, 3.0, 3.0, 3.0, 3.0, 3.0, 3.0, 3.0, 3.0, 3.0, 3.0, 3.0, 3.0, 3.0, 3.0, 3.0, 3.0, 3.0, 3.0, 3.0, 3.0, 3.0, 3.0, 3.0, 3.0, 3.0, 3.0, 3.0, 3.0, 3.0, 3.0, 3.0, 3.0, 3.0, 3.0, 3.0, 3.0, 3.0, 3.0, 3.0, 3.0, 3.0, 3.0, 3.0, 3.0, 3.0, 3.0, 3.0, 3.0, 3.0, 3.0, 3.0, 3.0, 3.0, 3.0, 3.0, 3.0, 3.0, 3.0, 3.0, 3.0, 3.0, 3.0, 3.0, 3.0, 3.0, 3.0, 3.0, 3.0, 3.0, 3.0, 3.0, 3.0, 3.0, 3.0, 3.0, 3.0, 3.0, 3.0, 3.0, 3.0, 3.0, 3.0, 3.0, 3.0, 3.0, 3.0, 3.0, 3.0, 3.0, 3.0, 3.0, 3.0, 3.0, 3.0, 3.0, 3.0, 3.0, 3.0, 3.0, 3.0, 3.0, 3.0, 3.0, 3.0, 3.0, 3.0, 3.0, 3.0, 3.0, 3.0, 3.0, 3.0, 3.0, 3.0, 3.0, 3.0, 3.0, 3.0, 3.0, 3.0, 3.0, 3.0, 3.0, 3.0, 3.0, 3.0, 3.0]], onsets=[[91.8221, 112.3223, 118.3225, 132.8238, 138.8227, 144.8228, 150.823, 162.8229, 168.8231, 197.8248, 237.8253, 287.3259, 293.3253, 322.3263, 386.3263, 406.8268, 438.3283, 461.3308, 467.3276, 473.3276, 479.3277, 485.3278, 529.3285, 535.3286, 612.3298], [79.8219, 85.822, 106.3235, 156.8229, 183.3245, 252.3257, 258.3245, 272.8279, 299.325, 345.3286, 351.3258, 357.3258, 380.3274, 400.8276, 503.3281, 544.3287, 594.3295], [6.3043, 9.3046, 14.8053, 17.8045, 20.8044, 23.8045, 26.8045, 29.8045, 32.8046, 35.8046, 38.8046, 41.8047, 44.8046, 47.8048, 53.3239, 56.3215, 59.3216, 62.3219, 65.3218, 68.3221, 73.8228, 76.8221, 82.8218, 88.822, 94.8221, 97.822, 100.823, 109.3224, 115.3223, 121.3224, 124.3225, 127.3226, 135.8227, 141.8229, 147.823, 153.8229, 159.8231, 165.8233, 171.8233, 174.8233, 177.8233, 186.3236, 189.3235, 192.3237, 200.8235, 203.8236, 206.8238, 212.3282, 215.3239, 220.825, 223.8239, 229.3251, 232.324, 240.8244, 243.8243, 246.8243, 255.3246, 261.3245, 264.3251, 267.3247, 275.8248, 278.8249, 281.8247, 290.325, 296.3252, 302.3251, 305.3252, 308.3252, 313.8279, 316.8254, 325.3254, 328.3255, 331.3255, 336.8267, 339.8257, 348.3258, 354.3259, 360.3261, 363.3259, 366.326, 371.8268, 374.8261, 383.3263, 389.3265, 392.3266, 395.3265, 403.8267, 409.8267, 412.8269, 415.8267, 421.3279, 424.327, 429.8281, 432.8271, 441.3273, 444.3272, 447.3272, 452.8283, 455.8275, 464.3276, 470.3276, 476.3277, 482.3278, 488.3279, 491.3279, 494.328, 497.3282, 500.328, 506.3283, 509.3282, 512.3282, 517.8292, 520.8284, 526.3295, 532.3286, 538.3286, 541.3287, 547.3288, 550.3289, 553.3289, 556.3289, 559.329, 562.329, 565.3291, 570.8302, 573.8291, 576.8292, 579.8293, 582.8293, 588.3304, 591.3294, 597.3295, 600.3296, 603.3297, 606.3297, 609.3298, 615.3299, 618.3299]], pmod=None, regressor_names=None, regressors=None, tmod=None), Bunch(amplitudes=[[1.0, 1.0, 1.0, 1.0, 1.0, 1.0, 1.0, 1.0, 1.0, 1.0, 1.0, 1.0, 1.0, 1.0, 1.0, 1.0, 1.0, 1.0, 1.0, 1.0, 1.0, 1.0, 1.0, 1.0, 1.0, 1.0, 1.0, 1.0, 1.0, 1.0, 1.0, 1.0, 1.0, 1.0, 1.0, 1.0, 1.0, 1.0, 1.0, 1.0, 1.0, 1.0, 1.0, 1.0], [1.0, 1.0, 1.0, 1.0, 1.0], [1.0, 1.0, 1.0, 1.0, 1.0, 1.0, 1.0, 1.0, 1.0, 1.0, 1.0, 1.0, 1.0, 1.0, 1.0, 1.0, 1.0, 1.0, 1.0, 1.0, 1.0, 1.0, 1.0, 1.0, 1.0, 1.0, 1.0, 1.0, 1.0, 1.0, 1.0, 1.0, 1.0, 1.0, 1.0, 1.0, 1.0, 1.0, 1.0, 1.0, 1.0, 1.0, 1.0, 1.0, 1.0, 1.0, 1.0, 1.0, 1.0, 1.0, 1.0, 1.0, 1.0, 1.0, 1.0, 1.0, 1.0, 1.0, 1.0, 1.0, 1.0, 1.0, 1.0, 1.0, 1.0, 1.0, 1.0, 1.0, 1.0, 1.0, 1.0, 1.0, 1.0, 1.0, 1.0, 1.0, 1.0, 1.0, 1.0, 1.0, 1.0, 1.0, 1.0, 1.0, 1.0, 1.0, 1.0, 1.0, 1.0, 1.0, 1.0, 1.0, 1.0, 1.0, 1.0, 1.0, 1.0, 1.0, 1.0, 1.0, 1.0, 1.0, 1.0, 1.0, 1.0, 1.0, 1.0, 1.0, 1.0, 1.0, 1.0, 1.0, 1.0, 1.0, 1.0, 1.0, 1.0, 1.0, 1.0, 1.0, 1.0, 1.0, 1.0, 1.0, 1.0, 1.0, 1.0, 1.0, 1.0, 1.0, 1.0]], conditions=['fixed_cond_corr', 'fixed_cond_incorr', 'remaining'], durations=[[3.0, 3.0, 3.0, 3.0, 3.0, 3.0, 3.0, 3.0, 3.0, 3.0, 3.0, 3.0, 3.0, 3.0, 3.0, 3.0, 3.0, 3.0, 3.0, 3.0, 3.0, 3.0, 3.0, 3.0, 3.0, 3.0, 3.0, 3.0, 3.0, 3.0, 3.0, 3.0, 3.0, 3.0, 3.0, 3.0, 3.0, 3.0, 3.0, 3.0, 3.0, 3.0, 3.0, 3.0], [3.0, 3.0, 3.0, 3.0, 3.0], [3.0, 3.0, 3.0, 3.0, 3.0, 3.0, 3.0, 3.0, 3.0, 3.0, 3.0, 3.0, 3.0, 3.0, 3.0, 3.0, 3.0, 3.0, 3.0, 3.0, 3.0, 3.0, 3.0, 3.0, 3.0, 3.0, 3.0, 3.0, 3.0, 3.0, 3.0, 3.0, 3.0, 3.0, 3.0, 3.0, 3.0, 3.0, 3.0, 3.0, 3.0, 3.0, 3.0, 3.0, 3.0, 3.0, 3.0, 3.0, 3.0, 3.0, 3.0, 3.0, 3.0, 3.0, 3.0, 3.0, 3.0, 3.0, 3.0, 3.0, 3.0, 3.0, 3.0, 3.0, 3.0, 3.0, 3.0, 3.0, 3.0, 3.0, 3.0, 3.0, 3.0, 3.0, 3.0, 3.0, 3.0, 3.0, 3.0, 3.0, 3.0, 3.0, 3.0, 3.0, 3.0, 3.0, 3.0, 3.0, 3.0, 3.0, 3.0, 3.0, 3.0, 3.0, 3.0, 3.0, 3.0, 3.0, 3.0, 3.0, 3.0, 3.0, 3.0, 3.0, 3.0, 3.0, 3.0, 3.0, 3.0, 3.0, 3.0, 3.0, 3.0, 3.0, 3.0, 3.0, 3.0, 3.0, 3.0, 3.0, 3.0, 3.0, 3.0, 3.0, 3.0, 3.0, 3.0, 3.0, 3.0, 3.0, 3.0]], onsets=[[6.3009, 12.3008, 32.8043, 38.8012, 44.8014, 65.3041, 71.3016, 85.8029, 108.8032, 114.8022, 129.3052, 135.3025, 141.3026, 170.303, 176.3031, 182.3032, 188.3033, 194.3035, 208.8063, 214.8038, 229.305, 235.3039, 255.8042, 287.3058, 293.3049, 299.305, 313.8062, 328.3065, 334.3055, 365.8074, 371.806, 377.8061, 383.8062, 412.8077, 418.8068, 475.8086, 481.8076, 487.8078, 493.8078, 499.8079, 505.8081, 529.3084, 570.809, 594.3093], [18.3008, 50.8013, 249.8052, 389.8062, 544.3085], [9.3008, 15.3008, 21.3008, 24.3009, 27.301, 35.8011, 41.8012, 47.8013, 53.8014, 56.8014, 59.8015, 68.3015, 74.3017, 77.3017, 80.3017, 88.8021, 91.8019, 94.802, 100.3031, 103.3021, 111.8023, 117.8023, 120.8024, 123.8024, 132.3025, 138.3026, 144.3028, 147.3027, 150.3032, 155.8039, 158.8029, 164.3039, 167.303, 173.3033, 179.3032, 185.3033, 191.3034, 197.3034, 200.3037, 203.3035, 211.8036, 217.8038, 220.8039, 223.8038, 232.304, 238.304, 241.3041, 244.3041, 252.8043, 258.8044, 261.8044, 264.8047, 270.3072, 273.3045, 278.8074, 281.8047, 290.3048, 296.3049, 302.3049, 305.3051, 308.3051, 316.8052, 319.8052, 322.8052, 331.3054, 337.3056, 340.3055, 343.3056, 348.8067, 351.8057, 357.3069, 360.3058, 368.806, 374.8059, 380.806, 386.8063, 392.8063, 395.8063, 398.8064, 404.3075, 407.3065, 415.8066, 421.8067, 424.8068, 427.8067, 433.308, 436.307, 441.8082, 444.8071, 450.3083, 453.3071, 458.8085, 461.8073, 467.3085, 470.3075, 478.8076, 484.8078, 490.8078, 496.8078, 502.808, 508.808, 511.8081, 514.8081, 520.3092, 523.3083, 526.3083, 532.3085, 535.3085, 538.3085, 541.3085, 547.3086, 550.3087, 553.3086, 556.3087, 559.3088, 564.8099, 567.809, 573.809, 576.809, 579.8091, 582.8092, 588.3103, 591.3092, 597.3093, 600.3095, 603.3094, 606.3096, 609.3096, 612.3095, 615.3096, 618.3096]], pmod=None, regressor_names=None, regressors=None, tmod=None), Bunch(amplitudes=[[1.0, 1.0, 1.0, 1.0, 1.0, 1.0, 1.0, 1.0, 1.0, 1.0, 1.0, 1.0, 1.0, 1.0, 1.0, 1.0, 1.0, 1.0, 1.0, 1.0, 1.0, 1.0, 1.0, 1.0, 1.0, 1.0, 1.0, 1.0, 1.0, 1.0, 1.0, 1.0, 1.0, 1.0, 1.0, 1.0], [1.0, 1.0, 1.0, 1.0, 1.0, 1.0, 1.0, 1.0, 1.0, 1.0, 1.0, 1.0, 1.0, 1.0], [1.0, 1.0, 1.0, 1.0, 1.0, 1.0, 1.0, 1.0, 1.0, 1.0, 1.0, 1.0, 1.0, 1.0, 1.0, 1.0, 1.0, 1.0, 1.0, 1.0, 1.0, 1.0, 1.0, 1.0, 1.0, 1.0, 1.0, 1.0, 1.0, 1.0, 1.0, 1.0, 1.0, 1.0, 1.0, 1.0, 1.0, 1.0, 1.0, 1.0, 1.0, 1.0, 1.0, 1.0, 1.0, 1.0, 1.0, 1.0, 1.0, 1.0, 1.0, 1.0, 1.0, 1.0, 1.0, 1.0, 1.0, 1.0, 1.0, 1.0, 1.0, 1.0, 1.0, 1.0, 1.0, 1.0, 1.0, 1.0, 1.0, 1.0, 1.0, 1.0, 1.0, 1.0, 1.0, 1.0, 1.0, 1.0, 1.0, 1.0, 1.0, 1.0, 1.0, 1.0, 1.0, 1.0, 1.0, 1.0, 1.0, 1.0, 1.0, 1.0, 1.0, 1.0, 1.0, 1.0, 1.0, 1.0, 1.0, 1.0, 1.0, 1.0, 1.0, 1.0, 1.0, 1.0, 1.0, 1.0, 1.0, 1.0, 1.0, 1.0, 1.0, 1.0, 1.0, 1.0, 1.0, 1.0, 1.0, 1.0, 1.0, 1.0, 1.0, 1.0, 1.0, 1.0, 1.0, 1.0, 1.0, 1.0]], conditions=['fixed_cond_corr', 'fixed_cond_incorr', 'remaining'], durations=[[3.0, 3.0, 3.0, 3.0, 3.0, 3.0, 3.0, 3.0, 3.0, 3.0, 3.0, 3.0, 3.0, 3.0, 3.0, 3.0, 3.0, 3.0, 3.0, 3.0, 3.0, 3.0, 3.0, 3.0, 3.0, 3.0, 3.0, 3.0, 3.0, 3.0, 3.0, 3.0, 3.0, 3.0, 3.0, 3.0], [3.0, 3.0, 3.0, 3.0, 3.0, 3.0, 3.0, 3.0, 3.0, 3.0, 3.0, 3.0, 3.0, 3.0], [3.0, 3.0, 3.0, 3.0, 3.0, 3.0, 3.0, 3.0, 3.0, 3.0, 3.0, 3.0, 3.0, 3.0, 3.0, 3.0, 3.0, 3.0, 3.0, 3.0, 3.0, 3.0, 3.0, 3.0, 3.0, 3.0, 3.0, 3.0, 3.0, 3.0, 3.0, 3.0, 3.0, 3.0, 3.0, 3.0, 3.0, 3.0, 3.0, 3.0, 3.0, 3.0, 3.0, 3.0, 3.0, 3.0, 3.0, 3.0, 3.0, 3.0, 3.0, 3.0, 3.0, 3.0, 3.0, 3.0, 3.0, 3.0, 3.0, 3.0, 3.0, 3.0, 3.0, 3.0, 3.0, 3.0, 3.0, 3.0, 3.0, 3.0, 3.0, 3.0, 3.0, 3.0, 3.0, 3.0, 3.0, 3.0, 3.0, 3.0, 3.0, 3.0, 3.0, 3.0, 3.0, 3.0, 3.0, 3.0, 3.0, 3.0, 3.0, 3.0, 3.0, 3.0, 3.0, 3.0, 3.0, 3.0, 3.0, 3.0, 3.0, 3.0, 3.0, 3.0, 3.0, 3.0, 3.0, 3.0, 3.0, 3.0, 3.0, 3.0, 3.0, 3.0, 3.0, 3.0, 3.0, 3.0, 3.0, 3.0, 3.0, 3.0, 3.0, 3.0, 3.0, 3.0, 3.0, 3.0, 3.0, 3.0]], onsets=[[12.2912, 24.2914, 30.2915, 44.7929, 50.7918, 56.7919, 71.2934, 83.2924, 97.7936, 143.7963, 158.2944, 196.7941, 225.7976, 240.2958, 246.2947, 266.7961, 272.795, 293.2954, 307.7966, 313.7957, 319.7959, 325.7959, 331.7961, 352.2973, 375.2976, 381.2968, 395.7981, 401.797, 416.2983, 422.2974, 436.7986, 499.8002, 505.7986, 514.7987, 523.7989, 609.3012], [6.2914, 18.2914, 77.2922, 129.296, 172.7947, 178.7938, 184.7939, 190.7939, 211.2953, 252.2948, 287.2986, 337.796, 451.2989, 571.2996], [9.2912, 15.2914, 21.2915, 27.2916, 33.2915, 36.2917, 39.2918, 47.7918, 53.7919, 59.792, 62.792, 65.7921, 74.2931, 80.2923, 86.2923, 89.2923, 92.2925, 100.7925, 103.7926, 106.7927, 112.2938, 115.2927, 120.7961, 123.793, 132.2931, 135.2931, 138.2935, 146.7932, 149.7933, 152.7933, 161.2934, 164.2935, 167.2937, 175.7936, 181.7938, 187.7939, 193.794, 199.7941, 202.7941, 205.7943, 214.2942, 217.2943, 220.2944, 228.7944, 231.7944, 234.7946, 243.2946, 249.2947, 255.295, 258.295, 261.295, 269.7951, 275.7951, 278.7952, 281.7952, 290.2953, 296.2955, 299.2955, 302.2956, 310.7957, 316.7958, 322.796, 328.7959, 334.7961, 340.796, 343.7963, 346.7962, 355.2963, 358.2964, 361.2964, 366.7976, 369.7965, 378.2966, 384.2968, 387.2969, 390.2969, 398.797, 404.797, 407.7972, 410.7973, 419.2972, 425.2973, 428.2975, 431.2975, 439.7976, 442.7977, 445.7977, 454.2978, 457.2982, 460.2979, 465.8005, 468.7985, 474.2991, 477.2982, 482.7999, 485.7986, 491.2994, 494.2984, 502.7994, 508.7986, 511.7987, 517.7987, 520.7989, 526.7988, 529.7989, 532.799, 535.7991, 538.7991, 541.7991, 547.3002, 550.2993, 553.2992, 556.2994, 559.2994, 562.2994, 565.2994, 568.2996, 574.2996, 577.2998, 580.2998, 583.2998, 586.2998, 589.2998, 592.2998, 595.3, 600.8011, 603.8001, 612.3002, 615.3002, 618.3003]], pmod=None, regressor_names=None, regressors=None, tmod=None), Bunch(amplitudes=[[1.0, 1.0, 1.0, 1.0, 1.0, 1.0, 1.0, 1.0, 1.0, 1.0, 1.0, 1.0, 1.0, 1.0, 1.0, 1.0, 1.0, 1.0, 1.0, 1.0, 1.0, 1.0, 1.0, 1.0, 1.0, 1.0, 1.0, 1.0, 1.0, 1.0, 1.0, 1.0, 1.0, 1.0, 1.0, 1.0, 1.0, 1.0, 1.0, 1.0, 1.0, 1.0, 1.0, 1.0, 1.0, 1.0, 1.0, 1.0], [1.0, 1.0, 1.0, 1.0, 1.0, 1.0, 1.0, 1.0, 1.0, 1.0, 1.0, 1.0, 1.0, 1.0, 1.0, 1.0, 1.0, 1.0, 1.0, 1.0, 1.0, 1.0, 1.0, 1.0, 1.0, 1.0, 1.0, 1.0, 1.0, 1.0, 1.0, 1.0, 1.0, 1.0, 1.0, 1.0, 1.0, 1.0, 1.0, 1.0, 1.0, 1.0, 1.0, 1.0, 1.0, 1.0, 1.0, 1.0, 1.0, 1.0, 1.0, 1.0, 1.0, 1.0, 1.0, 1.0, 1.0, 1.0, 1.0, 1.0, 1.0, 1.0, 1.0, 1.0, 1.0, 1.0, 1.0, 1.0, 1.0, 1.0, 1.0, 1.0, 1.0, 1.0, 1.0, 1.0, 1.0, 1.0, 1.0, 1.0, 1.0, 1.0, 1.0, 1.0, 1.0, 1.0, 1.0, 1.0, 1.0, 1.0, 1.0, 1.0, 1.0, 1.0, 1.0, 1.0, 1.0, 1.0, 1.0, 1.0, 1.0, 1.0, 1.0, 1.0, 1.0, 1.0, 1.0, 1.0, 1.0, 1.0, 1.0, 1.0, 1.0, 1.0, 1.0, 1.0, 1.0, 1.0, 1.0, 1.0, 1.0, 1.0, 1.0, 1.0, 1.0, 1.0, 1.0, 1.0, 1.0, 1.0, 1.0, 1.0]], conditions=['fixed_cond_corr', 'remaining'], durations=[[3.0, 3.0, 3.0, 3.0, 3.0, 3.0, 3.0, 3.0, 3.0, 3.0, 3.0, 3.0, 3.0, 3.0, 3.0, 3.0, 3.0, 3.0, 3.0, 3.0, 3.0, 3.0, 3.0, 3.0, 3.0, 3.0, 3.0, 3.0, 3.0, 3.0, 3.0, 3.0, 3.0, 3.0, 3.0, 3.0, 3.0, 3.0, 3.0, 3.0, 3.0, 3.0, 3.0, 3.0, 3.0, 3.0, 3.0, 3.0], [3.0, 3.0, 3.0, 3.0, 3.0, 3.0, 3.0, 3.0, 3.0, 3.0, 3.0, 3.0, 3.0, 3.0, 3.0, 3.0, 3.0, 3.0, 3.0, 3.0, 3.0, 3.0, 3.0, 3.0, 3.0, 3.0, 3.0, 3.0, 3.0, 3.0, 3.0, 3.0, 3.0, 3.0, 3.0, 3.0, 3.0, 3.0, 3.0, 3.0, 3.0, 3.0, 3.0, 3.0, 3.0, 3.0, 3.0, 3.0, 3.0, 3.0, 3.0, 3.0, 3.0, 3.0, 3.0, 3.0, 3.0, 3.0, 3.0, 3.0, 3.0, 3.0, 3.0, 3.0, 3.0, 3.0, 3.0, 3.0, 3.0, 3.0, 3.0, 3.0, 3.0, 3.0, 3.0, 3.0, 3.0, 3.0, 3.0, 3.0, 3.0, 3.0, 3.0, 3.0, 3.0, 3.0, 3.0, 3.0, 3.0, 3.0, 3.0, 3.0, 3.0, 3.0, 3.0, 3.0, 3.0, 3.0, 3.0, 3.0, 3.0, 3.0, 3.0, 3.0, 3.0, 3.0, 3.0, 3.0, 3.0, 3.0, 3.0, 3.0, 3.0, 3.0, 3.0, 3.0, 3.0, 3.0, 3.0, 3.0, 3.0, 3.0, 3.0, 3.0, 3.0, 3.0, 3.0, 3.0, 3.0, 3.0, 3.0, 3.0]], onsets=[[14.8021, 37.8023, 52.3025, 58.3015, 64.3016, 70.3017, 76.3017, 90.803, 96.8021, 102.8021, 108.8022, 114.8024, 120.8024, 126.8025, 141.3037, 155.804, 161.803, 176.3042, 182.3033, 211.3037, 225.805, 231.8041, 237.8042, 252.3054, 258.3047, 264.3045, 270.3045, 276.3047, 282.3049, 288.3049, 311.3063, 325.8064, 382.8073, 388.8064, 411.8078, 426.3081, 432.3071, 446.8084, 452.8074, 458.8075, 464.8076, 470.8077, 476.8078, 491.309, 514.8094, 576.8092, 585.8093, 615.3098], [6.3009, 9.3008, 17.8009, 20.801, 23.8011, 29.3021, 32.3011, 40.8011, 43.8013, 46.8013, 55.3014, 61.3017, 67.3017, 73.3018, 79.3018, 82.3019, 85.3019, 93.8019, 99.8021, 105.8022, 111.8023, 117.8024, 123.8025, 129.8025, 132.8027, 135.8026, 144.3027, 147.3028, 150.3029, 158.803, 164.803, 167.8031, 170.8032, 179.3033, 185.3034, 188.3035, 191.3035, 196.8065, 199.8035, 205.3046, 208.3037, 214.3038, 217.3038, 220.3038, 228.804, 234.8041, 240.8042, 243.8041, 246.8043, 255.3044, 261.3046, 267.3045, 273.3046, 279.3047, 285.3048, 291.3049, 294.3049, 297.3049, 302.8061, 305.8052, 314.3053, 317.3053, 320.3053, 328.8054, 331.8055, 334.8056, 340.3067, 343.3057, 348.8068, 351.8058, 357.307, 360.306, 365.807, 368.8061, 374.3072, 377.3062, 385.8063, 391.8064, 394.8064, 397.8066, 403.3077, 406.3067, 414.8067, 417.8067, 420.8069, 429.307, 435.3071, 438.3073, 441.3073, 449.8073, 455.8074, 461.8074, 467.8075, 473.8077, 479.8078, 482.8077, 485.8079, 494.308, 497.308, 500.308, 503.3081, 506.3085, 509.3087, 517.8083, 520.8084, 523.8085, 526.8084, 529.8085, 532.8086, 535.8091, 538.8088, 541.8087, 547.3098, 550.3088, 555.81, 558.8089, 561.809, 564.809, 567.8091, 570.8091, 573.8091, 579.8092, 582.8093, 588.8093, 591.8094, 594.8094, 597.8096, 603.3107, 606.3096, 609.3097, 612.3098, 618.3098]], pmod=None, regressor_names=None, regressors=None, tmod=None)]\n",
      "\n"
     ]
    }
   ],
   "source": [
    "import os\n",
    "from nipype.interfaces.base import Bunch\n",
    "from copy import deepcopy\n",
    "import numpy as np\n",
    "base_dir = '/home/data/madlab/Mattfeld_vCAT/behav/'\n",
    "output = []\n",
    "\n",
    "for curr_run in range(1,5):\n",
    "    names = []\n",
    "    onsets = []\n",
    "    durations = []\n",
    "    amplitudes = []\n",
    "\n",
    "    fixed_cond_corr = np.genfromtxt(base_dir + '{0}/GLM1/run{1}_fixed_cond_corr.txt'.format(subject_id, curr_run), dtype = str)\n",
    "    fixed_cond_incorr = np.genfromtxt(base_dir + '{0}/GLM1/run{1}_fixed_cond_incorr.txt'.format(subject_id, curr_run), dtype = str)\n",
    "    remaining = np.genfromtxt(base_dir + '{0}/GLM1/run{1}_remaining.txt'.format(subject_id, curr_run), dtype = str)        \n",
    "\n",
    "    sequence = ['fixed_cond_corr', 'fixed_cond_incorr']\n",
    "    for curr_type in sequence:\n",
    "        array_name = eval('{0}'.format(curr_type))\n",
    "        if array_name.size == 3: #ONLY ONE TRIAL \n",
    "            curr_names = ['{0}'.format(curr_type)]\n",
    "            curr_onsets = [float(array_name[0])]\n",
    "            curr_durations = [float(array_name[1])]\n",
    "            curr_amplitudes = [float(array_name[2])]\n",
    "            names.append(curr_names) \n",
    "            onsets.append([curr_onsets])\n",
    "            durations.append([curr_durations])\n",
    "            amplitudes.append([curr_amplitudes])\n",
    "        elif array_name.size > 0: #MORE THAN ONE TRIAL\n",
    "            curr_names = ['{0}'.format(curr_type)]\n",
    "            curr_onsets = list(map(float, array_name[:,0]))\n",
    "            curr_durations = list(map(float, array_name[:,1]))\n",
    "            curr_amplitudes = list(map(float, array_name[:,2]))\n",
    "            names.append(curr_names) \n",
    "            onsets.append([curr_onsets])\n",
    "            durations.append([curr_durations])\n",
    "            amplitudes.append([curr_amplitudes])\n",
    "\n",
    "    ##REMAINING TRIALS## \n",
    "    curr_names = ['remaining']\n",
    "    curr_corr_onsets = list(map(float, remaining[:,0]))\n",
    "    curr_corr_durations = list(map(float, remaining[:,1]))\n",
    "    curr_corr_amplitudes = list(map(float, remaining[:,2]))\n",
    "    curr_onsets = curr_corr_onsets\n",
    "    curr_durations = curr_corr_durations\n",
    "    curr_amplitudes = curr_corr_amplitudes         \n",
    "    names.append(curr_names)  \n",
    "    onsets.append([curr_onsets])\n",
    "    durations.append([curr_durations])\n",
    "    amplitudes.append([curr_amplitudes])    \n",
    "\n",
    "    #if any element in names is list instead of single value\n",
    "    if any(isinstance(el, list) for el in names):            \n",
    "        names = [el for sublist in names for el in sublist] #unpacks subarrays into mega-array \n",
    "    if any(isinstance(el, list) for el in onsets):\n",
    "        onsets = [el_o for sublist_o in onsets for el_o in sublist_o]\n",
    "    if any(isinstance(el, list) for el in durations):\n",
    "        durations = [el_d for sublist_d in durations for el_d in sublist_d]\n",
    "    if any(isinstance(el, list) for el in amplitudes):\n",
    "        amplitudes = [el_a for sublist_a in amplitudes for el_a in sublist_a]\n",
    "\n",
    "    output.insert(curr_run, #insert contents of each run at index of curr_run (1-3) \n",
    "                  Bunch(conditions = names, #bunch lets you use a dictionary like an object\n",
    "                        onsets = deepcopy(onsets),\n",
    "                        durations = deepcopy(durations),\n",
    "                        amplitudes = deepcopy(amplitudes),\n",
    "                        tmod = None,\n",
    "                        pmod = None,\n",
    "                        regressor_names = None,\n",
    "                        regressors = None))\n",
    "print(output)\n",
    "print(\"\")"
   ]
  },
  {
   "cell_type": "markdown",
   "id": "distinguished-access",
   "metadata": {},
   "source": [
    "### Pulling norm_anat output up a directory"
   ]
  },
  {
   "cell_type": "code",
   "execution_count": 8,
   "id": "recovered-radio",
   "metadata": {},
   "outputs": [
    {
     "name": "stdout",
     "output_type": "stream",
     "text": [
      "['/home/data/madlab/Mattfeld_vCAT/derivatives/norm_anat/vCAT_008/anat2targ_xfm/_subject_id_sub-008/output_Composite.h5', '/home/data/madlab/Mattfeld_vCAT/derivatives/norm_anat/vCAT_008/targ2anat_xfm/_subject_id_sub-008/output_InverseComposite.h5', '/home/data/madlab/Mattfeld_vCAT/derivatives/norm_anat/vCAT_008/warped_image/_subject_id_sub-008/output_warped_image.nii.gz']\n",
      "['/home/data/madlab/Mattfeld_vCAT/derivatives/norm_anat/vCAT_010/anat2targ_xfm/_subject_id_sub-010/output_Composite.h5', '/home/data/madlab/Mattfeld_vCAT/derivatives/norm_anat/vCAT_010/targ2anat_xfm/_subject_id_sub-010/output_InverseComposite.h5', '/home/data/madlab/Mattfeld_vCAT/derivatives/norm_anat/vCAT_010/warped_image/_subject_id_sub-010/output_warped_image.nii.gz']\n",
      "['/home/data/madlab/Mattfeld_vCAT/derivatives/norm_anat/vCAT_012/anat2targ_xfm/_subject_id_sub-012/output_Composite.h5', '/home/data/madlab/Mattfeld_vCAT/derivatives/norm_anat/vCAT_012/targ2anat_xfm/_subject_id_sub-012/output_InverseComposite.h5', '/home/data/madlab/Mattfeld_vCAT/derivatives/norm_anat/vCAT_012/warped_image/_subject_id_sub-012/output_warped_image.nii.gz']\n",
      "['/home/data/madlab/Mattfeld_vCAT/derivatives/norm_anat/vCAT_013/anat2targ_xfm/_subject_id_sub-013/output_Composite.h5', '/home/data/madlab/Mattfeld_vCAT/derivatives/norm_anat/vCAT_013/targ2anat_xfm/_subject_id_sub-013/output_InverseComposite.h5', '/home/data/madlab/Mattfeld_vCAT/derivatives/norm_anat/vCAT_013/warped_image/_subject_id_sub-013/output_warped_image.nii.gz']\n",
      "['/home/data/madlab/Mattfeld_vCAT/derivatives/norm_anat/vCAT_014/anat2targ_xfm/_subject_id_sub-014/output_Composite.h5', '/home/data/madlab/Mattfeld_vCAT/derivatives/norm_anat/vCAT_014/targ2anat_xfm/_subject_id_sub-014/output_InverseComposite.h5', '/home/data/madlab/Mattfeld_vCAT/derivatives/norm_anat/vCAT_014/warped_image/_subject_id_sub-014/output_warped_image.nii.gz']\n",
      "['/home/data/madlab/Mattfeld_vCAT/derivatives/norm_anat/vCAT_015/anat2targ_xfm/_subject_id_sub-015/output_Composite.h5', '/home/data/madlab/Mattfeld_vCAT/derivatives/norm_anat/vCAT_015/targ2anat_xfm/_subject_id_sub-015/output_InverseComposite.h5', '/home/data/madlab/Mattfeld_vCAT/derivatives/norm_anat/vCAT_015/warped_image/_subject_id_sub-015/output_warped_image.nii.gz']\n",
      "['/home/data/madlab/Mattfeld_vCAT/derivatives/norm_anat/vCAT_016/anat2targ_xfm/_subject_id_sub-016/output_Composite.h5', '/home/data/madlab/Mattfeld_vCAT/derivatives/norm_anat/vCAT_016/targ2anat_xfm/_subject_id_sub-016/output_InverseComposite.h5', '/home/data/madlab/Mattfeld_vCAT/derivatives/norm_anat/vCAT_016/warped_image/_subject_id_sub-016/output_warped_image.nii.gz']\n",
      "['/home/data/madlab/Mattfeld_vCAT/derivatives/norm_anat/vCAT_018/anat2targ_xfm/_subject_id_sub-018/output_Composite.h5', '/home/data/madlab/Mattfeld_vCAT/derivatives/norm_anat/vCAT_018/targ2anat_xfm/_subject_id_sub-018/output_InverseComposite.h5', '/home/data/madlab/Mattfeld_vCAT/derivatives/norm_anat/vCAT_018/warped_image/_subject_id_sub-018/output_warped_image.nii.gz']\n",
      "['/home/data/madlab/Mattfeld_vCAT/derivatives/norm_anat/vCAT_019/anat2targ_xfm/_subject_id_sub-019/output_Composite.h5', '/home/data/madlab/Mattfeld_vCAT/derivatives/norm_anat/vCAT_019/targ2anat_xfm/_subject_id_sub-019/output_InverseComposite.h5', '/home/data/madlab/Mattfeld_vCAT/derivatives/norm_anat/vCAT_019/warped_image/_subject_id_sub-019/output_warped_image.nii.gz']\n",
      "['/home/data/madlab/Mattfeld_vCAT/derivatives/norm_anat/vCAT_020/anat2targ_xfm/_subject_id_sub-020/output_Composite.h5', '/home/data/madlab/Mattfeld_vCAT/derivatives/norm_anat/vCAT_020/targ2anat_xfm/_subject_id_sub-020/output_InverseComposite.h5', '/home/data/madlab/Mattfeld_vCAT/derivatives/norm_anat/vCAT_020/warped_image/_subject_id_sub-020/output_warped_image.nii.gz']\n",
      "['/home/data/madlab/Mattfeld_vCAT/derivatives/norm_anat/vCAT_021/anat2targ_xfm/_subject_id_sub-021/output_Composite.h5', '/home/data/madlab/Mattfeld_vCAT/derivatives/norm_anat/vCAT_021/targ2anat_xfm/_subject_id_sub-021/output_InverseComposite.h5', '/home/data/madlab/Mattfeld_vCAT/derivatives/norm_anat/vCAT_021/warped_image/_subject_id_sub-021/output_warped_image.nii.gz']\n",
      "['/home/data/madlab/Mattfeld_vCAT/derivatives/norm_anat/vCAT_022/anat2targ_xfm/_subject_id_sub-022/output_Composite.h5', '/home/data/madlab/Mattfeld_vCAT/derivatives/norm_anat/vCAT_022/targ2anat_xfm/_subject_id_sub-022/output_InverseComposite.h5', '/home/data/madlab/Mattfeld_vCAT/derivatives/norm_anat/vCAT_022/warped_image/_subject_id_sub-022/output_warped_image.nii.gz']\n",
      "['/home/data/madlab/Mattfeld_vCAT/derivatives/norm_anat/vCAT_023/anat2targ_xfm/_subject_id_sub-023/output_Composite.h5', '/home/data/madlab/Mattfeld_vCAT/derivatives/norm_anat/vCAT_023/targ2anat_xfm/_subject_id_sub-023/output_InverseComposite.h5', '/home/data/madlab/Mattfeld_vCAT/derivatives/norm_anat/vCAT_023/warped_image/_subject_id_sub-023/output_warped_image.nii.gz']\n",
      "['/home/data/madlab/Mattfeld_vCAT/derivatives/norm_anat/vCAT_024/anat2targ_xfm/_subject_id_sub-024/output_Composite.h5', '/home/data/madlab/Mattfeld_vCAT/derivatives/norm_anat/vCAT_024/targ2anat_xfm/_subject_id_sub-024/output_InverseComposite.h5', '/home/data/madlab/Mattfeld_vCAT/derivatives/norm_anat/vCAT_024/warped_image/_subject_id_sub-024/output_warped_image.nii.gz']\n",
      "['/home/data/madlab/Mattfeld_vCAT/derivatives/norm_anat/vCAT_025/anat2targ_xfm/_subject_id_sub-025/output_Composite.h5', '/home/data/madlab/Mattfeld_vCAT/derivatives/norm_anat/vCAT_025/targ2anat_xfm/_subject_id_sub-025/output_InverseComposite.h5', '/home/data/madlab/Mattfeld_vCAT/derivatives/norm_anat/vCAT_025/warped_image/_subject_id_sub-025/output_warped_image.nii.gz']\n",
      "['/home/data/madlab/Mattfeld_vCAT/derivatives/norm_anat/vCAT_026/anat2targ_xfm/_subject_id_sub-026/output_Composite.h5', '/home/data/madlab/Mattfeld_vCAT/derivatives/norm_anat/vCAT_026/targ2anat_xfm/_subject_id_sub-026/output_InverseComposite.h5', '/home/data/madlab/Mattfeld_vCAT/derivatives/norm_anat/vCAT_026/warped_image/_subject_id_sub-026/output_warped_image.nii.gz']\n",
      "['/home/data/madlab/Mattfeld_vCAT/derivatives/norm_anat/vCAT_027/anat2targ_xfm/_subject_id_sub-027/output_Composite.h5', '/home/data/madlab/Mattfeld_vCAT/derivatives/norm_anat/vCAT_027/targ2anat_xfm/_subject_id_sub-027/output_InverseComposite.h5', '/home/data/madlab/Mattfeld_vCAT/derivatives/norm_anat/vCAT_027/warped_image/_subject_id_sub-027/output_warped_image.nii.gz']\n",
      "['/home/data/madlab/Mattfeld_vCAT/derivatives/norm_anat/vCAT_028/anat2targ_xfm/_subject_id_sub-028/output_Composite.h5', '/home/data/madlab/Mattfeld_vCAT/derivatives/norm_anat/vCAT_028/targ2anat_xfm/_subject_id_sub-028/output_InverseComposite.h5', '/home/data/madlab/Mattfeld_vCAT/derivatives/norm_anat/vCAT_028/warped_image/_subject_id_sub-028/output_warped_image.nii.gz']\n",
      "['/home/data/madlab/Mattfeld_vCAT/derivatives/norm_anat/vCAT_029/anat2targ_xfm/_subject_id_sub-029/output_Composite.h5', '/home/data/madlab/Mattfeld_vCAT/derivatives/norm_anat/vCAT_029/targ2anat_xfm/_subject_id_sub-029/output_InverseComposite.h5', '/home/data/madlab/Mattfeld_vCAT/derivatives/norm_anat/vCAT_029/warped_image/_subject_id_sub-029/output_warped_image.nii.gz']\n",
      "['/home/data/madlab/Mattfeld_vCAT/derivatives/norm_anat/vCAT_030/anat2targ_xfm/_subject_id_sub-030/output_Composite.h5', '/home/data/madlab/Mattfeld_vCAT/derivatives/norm_anat/vCAT_030/targ2anat_xfm/_subject_id_sub-030/output_InverseComposite.h5', '/home/data/madlab/Mattfeld_vCAT/derivatives/norm_anat/vCAT_030/warped_image/_subject_id_sub-030/output_warped_image.nii.gz']\n",
      "['/home/data/madlab/Mattfeld_vCAT/derivatives/norm_anat/vCAT_031/anat2targ_xfm/_subject_id_sub-031/output_Composite.h5', '/home/data/madlab/Mattfeld_vCAT/derivatives/norm_anat/vCAT_031/targ2anat_xfm/_subject_id_sub-031/output_InverseComposite.h5', '/home/data/madlab/Mattfeld_vCAT/derivatives/norm_anat/vCAT_031/warped_image/_subject_id_sub-031/output_warped_image.nii.gz']\n",
      "['/home/data/madlab/Mattfeld_vCAT/derivatives/norm_anat/vCAT_032/anat2targ_xfm/_subject_id_sub-032/output_Composite.h5', '/home/data/madlab/Mattfeld_vCAT/derivatives/norm_anat/vCAT_032/targ2anat_xfm/_subject_id_sub-032/output_InverseComposite.h5', '/home/data/madlab/Mattfeld_vCAT/derivatives/norm_anat/vCAT_032/warped_image/_subject_id_sub-032/output_warped_image.nii.gz']\n"
     ]
    }
   ],
   "source": [
    "import os\n",
    "from os.path import join, basename\n",
    "from glob import glob\n",
    "import shutil \n",
    "\n",
    "sids = ['008', '010', \n",
    "        '012', '013', '014', '015', '016',  \n",
    "        '018', '019', '020', '021', '022', \n",
    "        '023', '024', '025', '026', '027',  \n",
    "        '028', '029', '030', '031', '032']\n",
    "sids1 = ['007']\n",
    "for sid in sids:\n",
    "    norm_dir = '/home/data/madlab/Mattfeld_vCAT/derivatives/norm_anat/vCAT_{0}'.format(sid)\n",
    "    norm_files = sorted(glob(join(norm_dir, '*/*/*')))\n",
    "    print(norm_files)\n",
    "    shutil.move(join(norm_dir, 'anat2targ_xfm/_subject_id_sub-{0}'.format(sid), basename(norm_files[0])),\n",
    "                join(norm_dir, 'anat2targ_xfm', basename(norm_files[0])))\n",
    "    \n",
    "    shutil.move(join(norm_dir, 'targ2anat_xfm/_subject_id_sub-{0}'.format(sid), basename(norm_files[1])),\n",
    "                join(norm_dir, 'targ2anat_xfm', basename(norm_files[1])))\n",
    "    \n",
    "    shutil.move(join(norm_dir, 'warped_image/_subject_id_sub-{0}'.format(sid), basename(norm_files[2])),\n",
    "                join(norm_dir, 'warped_image', basename(norm_files[2])))\n",
    "    \n",
    "    os.rmdir(join(norm_dir, 'anat2targ_xfm/_subject_id_sub-{0}'.format(sid)))\n",
    "    os.rmdir(join(norm_dir, 'targ2anat_xfm/_subject_id_sub-{0}'.format(sid)))\n",
    "    os.rmdir(join(norm_dir, 'warped_image/_subject_id_sub-{0}'.format(sid)))"
   ]
  },
  {
   "cell_type": "code",
   "execution_count": null,
   "id": "measured-tourism",
   "metadata": {},
   "outputs": [],
   "source": []
  }
 ],
 "metadata": {
  "kernelspec": {
   "display_name": "Python 3",
   "language": "python",
   "name": "python3"
  },
  "language_info": {
   "codemirror_mode": {
    "name": "ipython",
    "version": 3
   },
   "file_extension": ".py",
   "mimetype": "text/x-python",
   "name": "python",
   "nbconvert_exporter": "python",
   "pygments_lexer": "ipython3",
   "version": "3.9.1"
  }
 },
 "nbformat": 4,
 "nbformat_minor": 5
}
