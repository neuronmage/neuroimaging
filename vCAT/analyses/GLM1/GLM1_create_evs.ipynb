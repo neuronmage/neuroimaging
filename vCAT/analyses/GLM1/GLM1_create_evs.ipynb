{
 "cells": [
  {
   "cell_type": "markdown",
   "metadata": {},
   "source": [
    "# vCAT GLM1\n",
    "## Create condition-specific EV files\n",
    "### Task structure: 2 sets/2 runs per set\n",
    "#### 180 trials/run: *30 BL, *50 cond, *100 fixed"
   ]
  },
  {
   "cell_type": "code",
   "execution_count": null,
   "metadata": {
    "scrolled": false
   },
   "outputs": [],
   "source": [
    "import os\n",
    "from os.path import join\n",
    "import numpy as np\n",
    "import pandas as pd\n",
    "from glob import glob\n",
    "\n",
    "subs = ['sub-005', 'sub-006', 'sub-007', 'sub-008', 'sub-010', \n",
    "        'sub-012', 'sub-013', 'sub-014', 'sub-015', 'sub-016', \n",
    "        'sub-018', 'sub-019', 'sub-020', 'sub-021', 'sub-022', \n",
    "        'sub-023', 'sub-024', 'sub-025', 'sub-026', 'sub-027', \n",
    "        'sub-028', 'sub-029', 'sub-030', 'sub-031', 'sub-032']\n",
    "\n",
    "stim_sets = ['set1', 'set2']\n",
    "\n",
    "for sub in subs:\n",
    "    sub_dir = '/home/data/madlab/Mattfeld_vCAT/behav/sub-{0}/'.format(sub)\n",
    "    dir_files = sorted(glob(join(sub_dir, '{0}_simp_task*.csv'.format(sub)))) \n",
    "    print(sub, len(dir_files))\n",
    "    \n",
    "    for i, curr_set in enumerate(stim_sets):\n",
    "        for curr_run in ['1', '2']:\n",
    "            if curr_run == '1':\n",
    "                run = pd.read_csv(dir_files[i*2]) #create dataframe for text files to extract EVS\n",
    "                #run = run[:-3] #removal of the last 3 trials to avoid scanner artifact\n",
    "            else:\n",
    "                run = pd.read_csv(dir_files[i*2+1])\n",
    "                #run = run[:-3]                \n",
    "\n",
    "            trialtype = run['trialtype'].values #convert dataframes into numpy arrays\n",
    "            acc = run['acc'].values\n",
    "            resp = run['resp'].values\n",
    "            onsets = run['onset'].values\n",
    "             \n",
    "            trial_shift = trialtype[1:] #shift TrialType back and insert dummy (-1) in last index\n",
    "            trial_shift = np.append(trial_shift, -1)\n",
    "            acc_shift = acc[1:] #shift Correct back and insert dummy (-1) in last index\n",
    "            acc_shift = np.append(acc_shift, -1)\n",
    "            resp_shift = resp[1:] #shift TrialType back and insert dummy (-1) in last index\n",
    "            resp_shift = np.append(resp_shift, -1)\n",
    "            \n",
    "            #grab indices matching specified criteria\n",
    "            fixed_cond_corr = np.where(((trial_shift=='cond') & (acc_shift==1)) & (trialtype!='BL'))[0]\n",
    "            fixed_cond_incorr = np.where((trial_shift=='cond') & (acc_shift==0) & (resp_shift!='None'))[0]\n",
    "            remaining = list(range(0,180)) #remaining contains trials which dont proceed corr/incorr conds, and nonresp       \n",
    "            for x in fixed_cond_corr:\n",
    "                remaining.remove(x)\n",
    "            for y in fixed_cond_incorr:\n",
    "                remaining.remove(y)\n",
    "\n",
    "            #index onsets array using indices from np.where() criteria \n",
    "            fixed_cond_corr_onsets = onsets[fixed_cond_corr] \n",
    "            fixed_cond_incorr_onsets = onsets[fixed_cond_incorr] \n",
    "            remaining_onsets = onsets[remaining]\n",
    "            \n",
    "            #vstack matrix containing *ALL* onsets, durations, and amplitudes in vertical columns \n",
    "            mtrx = np.vstack((onsets, np.ones(len(onsets))*3.0, #numpy array filled with 3's\n",
    "                              np.ones(len(onsets)))).T #numpy array filled with 1's\n",
    "            fixed_cond_corr_mtrx = np.vstack((fixed_cond_corr_onsets, \n",
    "                                              np.ones(len(fixed_cond_corr_onsets))*3.0,\n",
    "                                              np.ones(len(fixed_cond_corr_onsets)))).T \n",
    "            fixed_cond_incorr_mtrx = np.vstack((fixed_cond_incorr_onsets,\n",
    "                                                np.ones(len(fixed_cond_incorr_onsets))*3.0,\n",
    "                                                np.ones(len(fixed_cond_incorr_onsets)))).T\n",
    "            remaining_mtrx = np.vstack((remaining_onsets,\n",
    "                                        np.ones(len(remaining_onsets))*3.0,\n",
    "                                        np.ones(len(remaining_onsets)))).T\n",
    "\n",
    "            if not os.path.exists(join(sub_dir, 'GLM1')): #if directory does not exist\n",
    "                os.makedirs(join(sub_dir, 'GLM1')) #create it\n",
    "                \n",
    "            if curr_run == '1': #if first run in stim set\n",
    "                np.savetxt(join(sub_dir, 'GLM1', 'run{0}.txt'.format(i*2+1)), mtrx, delimiter='\\t', fmt='%.4f')                \n",
    "                for trial in ['fixed_cond_corr', 'fixed_cond_incorr', 'remaining']: #for all trial types\n",
    "                    exec('np.savetxt(sub_dir+\"GLM1/\"+\"run{0}_{1}.txt\",{1}_mtrx,delimiter=\"\\t\",fmt=\"%.4f\")'.format(i*2+1,trial))\n",
    "\n",
    "            else: #if second run in stim set\n",
    "                np.savetxt(join(sub_dir, 'GLM1', 'run{0}.txt'.format(i*2+2)), mtrx, delimiter='\\t', fmt='%.4f')                \n",
    "                for trial in ['fixed_cond_corr', 'fixed_cond_incorr', 'remaining']:\n",
    "                    exec('np.savetxt(sub_dir+\"GLM1/\"+\"run{0}_{1}.txt\",{1}_mtrx,delimiter=\"\\t\",fmt=\"%.4f\")'.format(i*2+2,trial))"
   ]
  },
  {
   "cell_type": "code",
   "execution_count": null,
   "metadata": {},
   "outputs": [],
   "source": [
    "for x in range(1,5):\n",
    "    print(x)"
   ]
  },
  {
   "cell_type": "code",
   "execution_count": null,
   "metadata": {},
   "outputs": [],
   "source": []
  }
 ],
 "metadata": {
  "anaconda-cloud": {},
  "kernelspec": {
   "display_name": "Python 3",
   "language": "python",
   "name": "python3"
  },
  "language_info": {
   "codemirror_mode": {
    "name": "ipython",
    "version": 3
   },
   "file_extension": ".py",
   "mimetype": "text/x-python",
   "name": "python",
   "nbconvert_exporter": "python",
   "pygments_lexer": "ipython3",
   "version": "3.9.9"
  }
 },
 "nbformat": 4,
 "nbformat_minor": 1
}
