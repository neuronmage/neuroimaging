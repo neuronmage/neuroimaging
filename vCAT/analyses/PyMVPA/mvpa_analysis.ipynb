{
 "cells": [
  {
   "cell_type": "markdown",
   "id": "referenced-nightmare",
   "metadata": {},
   "source": [
    "# MVPA Analysis"
   ]
  },
  {
   "cell_type": "code",
   "execution_count": 6,
   "id": "broke-atlas",
   "metadata": {},
   "outputs": [
    {
     "name": "stderr",
     "output_type": "stream",
     "text": [
      "/home/data/madlab/envs/vcat_env/lib/python3.9/site-packages/mvpa2/datasets/base.py:465: DeprecationWarning: `np.float` is a deprecated alias for the builtin `float`. To silence this warning, use `float` by itself. Doing this will not modify any behavior and is safe. If you specifically wanted the numpy scalar type, use `np.float64` here.\n",
      "Deprecated in NumPy 1.20; for more details and guidance: https://numpy.org/devdocs/release/1.20.0-notes.html#deprecations\n",
      "  def __init__(self, shape=None, sid=None, fid=None, dtype=np.float):\n",
      "/home/data/madlab/envs/vcat_env/lib/python3.9/site-packages/mvpa2/misc/surfing/volume_mask_dict.py:24: DeprecationWarning: Using or importing the ABCs from 'collections' instead of from 'collections.abc' is deprecated since Python 3.3, and in 3.10 it will stop working\n",
      "  from collections import Mapping\n"
     ]
    },
    {
     "ename": "ModuleNotFoundError",
     "evalue": "No module named 'numpy.testing.decorators'",
     "output_type": "error",
     "traceback": [
      "\u001b[0;31m---------------------------------------------------------------------------\u001b[0m",
      "\u001b[0;31mModuleNotFoundError\u001b[0m                       Traceback (most recent call last)",
      "\u001b[0;32m<ipython-input-6-d5f884e6f14d>\u001b[0m in \u001b[0;36m<module>\u001b[0;34m\u001b[0m\n\u001b[1;32m      8\u001b[0m \u001b[0;32mimport\u001b[0m \u001b[0mnumpy\u001b[0m \u001b[0;32mas\u001b[0m \u001b[0mnp\u001b[0m\u001b[0;34m\u001b[0m\u001b[0;34m\u001b[0m\u001b[0m\n\u001b[1;32m      9\u001b[0m \u001b[0;32mimport\u001b[0m \u001b[0mnibabel\u001b[0m \u001b[0;32mas\u001b[0m \u001b[0mnb\u001b[0m\u001b[0;34m\u001b[0m\u001b[0;34m\u001b[0m\u001b[0m\n\u001b[0;32m---> 10\u001b[0;31m \u001b[0;32mfrom\u001b[0m \u001b[0mmvpa2\u001b[0m\u001b[0;34m.\u001b[0m\u001b[0msuite\u001b[0m \u001b[0;32mimport\u001b[0m \u001b[0;34m*\u001b[0m\u001b[0;34m\u001b[0m\u001b[0;34m\u001b[0m\u001b[0m\n\u001b[0m",
      "\u001b[0;32m/home/data/madlab/envs/vcat_env/lib/python3.9/site-packages/mvpa2/suite.py\u001b[0m in \u001b[0;36m<module>\u001b[0;34m\u001b[0m\n\u001b[1;32m     63\u001b[0m     \u001b[0;31m# Some pieces do not demand scipy, but for now let's just do this way\u001b[0m\u001b[0;34m\u001b[0m\u001b[0;34m\u001b[0m\u001b[0m\n\u001b[1;32m     64\u001b[0m     \u001b[0;32mfrom\u001b[0m \u001b[0mmvpa2\u001b[0m\u001b[0;34m.\u001b[0m\u001b[0malgorithms\u001b[0m\u001b[0;34m.\u001b[0m\u001b[0msearchlight_hyperalignment\u001b[0m \u001b[0;32mimport\u001b[0m \u001b[0;34m*\u001b[0m\u001b[0;34m\u001b[0m\u001b[0;34m\u001b[0m\u001b[0m\n\u001b[0;32m---> 65\u001b[0;31m     \u001b[0;32mfrom\u001b[0m \u001b[0mmvpa2\u001b[0m\u001b[0;34m.\u001b[0m\u001b[0malgorithms\u001b[0m\u001b[0;34m.\u001b[0m\u001b[0mconnectivity_hyperalignment\u001b[0m \u001b[0;32mimport\u001b[0m \u001b[0;34m*\u001b[0m\u001b[0;34m\u001b[0m\u001b[0;34m\u001b[0m\u001b[0m\n\u001b[0m\u001b[1;32m     66\u001b[0m     \u001b[0;32mfrom\u001b[0m \u001b[0mmvpa2\u001b[0m\u001b[0;34m.\u001b[0m\u001b[0malgorithms\u001b[0m\u001b[0;34m.\u001b[0m\u001b[0mgroup_clusterthr\u001b[0m \u001b[0;32mimport\u001b[0m \u001b[0;34m*\u001b[0m\u001b[0;34m\u001b[0m\u001b[0;34m\u001b[0m\u001b[0m\n\u001b[1;32m     67\u001b[0m \u001b[0;34m\u001b[0m\u001b[0m\n",
      "\u001b[0;32m/home/data/madlab/envs/vcat_env/lib/python3.9/site-packages/mvpa2/algorithms/connectivity_hyperalignment.py\u001b[0m in \u001b[0;36m<module>\u001b[0;34m\u001b[0m\n\u001b[1;32m     34\u001b[0m \u001b[0;32mfrom\u001b[0m \u001b[0mmvpa2\u001b[0m\u001b[0;34m.\u001b[0m\u001b[0mmappers\u001b[0m\u001b[0;34m.\u001b[0m\u001b[0msvd\u001b[0m \u001b[0;32mimport\u001b[0m \u001b[0mSVDMapper\u001b[0m\u001b[0;34m\u001b[0m\u001b[0;34m\u001b[0m\u001b[0m\n\u001b[1;32m     35\u001b[0m \u001b[0;34m\u001b[0m\u001b[0m\n\u001b[0;32m---> 36\u001b[0;31m \u001b[0;32mfrom\u001b[0m \u001b[0mmvpa2\u001b[0m\u001b[0;34m.\u001b[0m\u001b[0mmeasures\u001b[0m\u001b[0;34m.\u001b[0m\u001b[0msearchlight\u001b[0m \u001b[0;32mimport\u001b[0m \u001b[0mSearchlight\u001b[0m\u001b[0;34m\u001b[0m\u001b[0;34m\u001b[0m\u001b[0m\n\u001b[0m\u001b[1;32m     37\u001b[0m \u001b[0;32mfrom\u001b[0m \u001b[0mmvpa2\u001b[0m\u001b[0;34m.\u001b[0m\u001b[0mmeasures\u001b[0m\u001b[0;34m.\u001b[0m\u001b[0mbase\u001b[0m \u001b[0;32mimport\u001b[0m \u001b[0mMeasure\u001b[0m\u001b[0;34m\u001b[0m\u001b[0;34m\u001b[0m\u001b[0m\n\u001b[1;32m     38\u001b[0m \u001b[0;34m\u001b[0m\u001b[0m\n",
      "\u001b[0;32m/home/data/madlab/envs/vcat_env/lib/python3.9/site-packages/mvpa2/measures/searchlight.py\u001b[0m in \u001b[0;36m<module>\u001b[0;34m\u001b[0m\n\u001b[1;32m     38\u001b[0m \u001b[0;34m\u001b[0m\u001b[0m\n\u001b[1;32m     39\u001b[0m \u001b[0;32mfrom\u001b[0m \u001b[0mmvpa2\u001b[0m\u001b[0;34m.\u001b[0m\u001b[0msupport\u001b[0m\u001b[0;34m.\u001b[0m\u001b[0mdue\u001b[0m \u001b[0;32mimport\u001b[0m \u001b[0mdue\u001b[0m\u001b[0;34m,\u001b[0m \u001b[0mDoi\u001b[0m\u001b[0;34m\u001b[0m\u001b[0;34m\u001b[0m\u001b[0m\n\u001b[0;32m---> 40\u001b[0;31m \u001b[0;32mfrom\u001b[0m \u001b[0mmvpa2\u001b[0m\u001b[0;34m.\u001b[0m\u001b[0mtesting\u001b[0m \u001b[0;32mimport\u001b[0m \u001b[0mon_osx\u001b[0m\u001b[0;34m\u001b[0m\u001b[0;34m\u001b[0m\u001b[0m\n\u001b[0m\u001b[1;32m     41\u001b[0m \u001b[0;34m\u001b[0m\u001b[0m\n\u001b[1;32m     42\u001b[0m \u001b[0;34m\u001b[0m\u001b[0m\n",
      "\u001b[0;32m/home/data/madlab/envs/vcat_env/lib/python3.9/site-packages/mvpa2/testing/__init__.py\u001b[0m in \u001b[0;36m<module>\u001b[0;34m\u001b[0m\n\u001b[1;32m     21\u001b[0m     \u001b[0mdebug\u001b[0m\u001b[0;34m(\u001b[0m\u001b[0;34m'INIT'\u001b[0m\u001b[0;34m,\u001b[0m \u001b[0;34m'mvpa2.testing'\u001b[0m\u001b[0;34m)\u001b[0m\u001b[0;34m\u001b[0m\u001b[0;34m\u001b[0m\u001b[0m\n\u001b[1;32m     22\u001b[0m \u001b[0;34m\u001b[0m\u001b[0m\n\u001b[0;32m---> 23\u001b[0;31m \u001b[0;32mfrom\u001b[0m \u001b[0mmvpa2\u001b[0m\u001b[0;34m.\u001b[0m\u001b[0mtesting\u001b[0m\u001b[0;34m.\u001b[0m\u001b[0mtools\u001b[0m \u001b[0;32mimport\u001b[0m \u001b[0;34m*\u001b[0m\u001b[0;34m\u001b[0m\u001b[0;34m\u001b[0m\u001b[0m\n\u001b[0m\u001b[1;32m     24\u001b[0m \u001b[0;34m\u001b[0m\u001b[0m\n\u001b[1;32m     25\u001b[0m \u001b[0;32mif\u001b[0m \u001b[0m__debug__\u001b[0m\u001b[0;34m:\u001b[0m\u001b[0;34m\u001b[0m\u001b[0;34m\u001b[0m\u001b[0m\n",
      "\u001b[0;32m/home/data/madlab/envs/vcat_env/lib/python3.9/site-packages/mvpa2/testing/tools.py\u001b[0m in \u001b[0;36m<module>\u001b[0;34m\u001b[0m\n\u001b[1;32m     79\u001b[0m     assert_string_equal)\n\u001b[1;32m     80\u001b[0m \u001b[0;34m\u001b[0m\u001b[0m\n\u001b[0;32m---> 81\u001b[0;31m \u001b[0;32mfrom\u001b[0m \u001b[0mnumpy\u001b[0m\u001b[0;34m.\u001b[0m\u001b[0mtesting\u001b[0m\u001b[0;34m.\u001b[0m\u001b[0mdecorators\u001b[0m \u001b[0;32mimport\u001b[0m \u001b[0mskipif\u001b[0m\u001b[0;34m\u001b[0m\u001b[0;34m\u001b[0m\u001b[0m\n\u001b[0m\u001b[1;32m     82\u001b[0m \u001b[0;34m\u001b[0m\u001b[0m\n\u001b[1;32m     83\u001b[0m \u001b[0;32mdef\u001b[0m \u001b[0massert_array_lequal\u001b[0m\u001b[0;34m(\u001b[0m\u001b[0mx\u001b[0m\u001b[0;34m,\u001b[0m \u001b[0my\u001b[0m\u001b[0;34m)\u001b[0m\u001b[0;34m:\u001b[0m\u001b[0;34m\u001b[0m\u001b[0;34m\u001b[0m\u001b[0m\n",
      "\u001b[0;31mModuleNotFoundError\u001b[0m: No module named 'numpy.testing.decorators'"
     ]
    }
   ],
   "source": [
    "import os\n",
    "import re\n",
    "from os.path import join, basename\n",
    "import shutil\n",
    "from glob import glob\n",
    "from natsort import natsorted\n",
    "import pandas as pd\n",
    "import numpy as np\n",
    "import nibabel as nb\n",
    "from mvpa2.suite import *"
   ]
  },
  {
   "cell_type": "raw",
   "id": "genuine-raising",
   "metadata": {},
   "source": [
    "#copy/renaming task func files\n",
    "\n",
    "subs = ['sub-006', 'sub-007', 'sub-008', 'sub-010', \n",
    "        'sub-012', 'sub-013', 'sub-014', 'sub-015', 'sub-016', \n",
    "        'sub-018', 'sub-019', 'sub-020', 'sub-021', 'sub-022', \n",
    "        'sub-023', 'sub-024', 'sub-025', 'sub-026', 'sub-027', \n",
    "        'sub-028', 'sub-029', 'sub-030', 'sub-031', 'sub-032']\n",
    "subs1 = ['sub-005']\n",
    "for sub in subs:\n",
    "    ta_dir = '/home/data/madlab/Mattfeld_vCAT/derivatives/MVPA-LSS'\n",
    "    ta_glob = glob(join(ta_dir, 'lvl1-old', sub, 'modelfit/contrasts/_estimate_model*/cope*_onset*.nii.gz'))    \n",
    "    if not os.path.exists(join(ta_dir, sub)):\n",
    "        os.makedirs(join(ta_dir, sub))   \n",
    "    for i in ta_glob:\n",
    "        print(i)\n",
    "        x = i.split('/')[-1].split('_')\n",
    "        x2 = x[-1][:-7] \n",
    "        shutil.copy(i,\n",
    "                    join(ta_dir, sub, 'cope_{0}_{1}_{2}.nii.gz'.format(x[3], x2,  x[4])))              "
   ]
  },
  {
   "cell_type": "code",
   "execution_count": 5,
   "id": "auburn-moore",
   "metadata": {},
   "outputs": [
    {
     "ename": "NameError",
     "evalue": "name 'mvpa2' is not defined",
     "output_type": "error",
     "traceback": [
      "\u001b[0;31m---------------------------------------------------------------------------\u001b[0m",
      "\u001b[0;31mNameError\u001b[0m                                 Traceback (most recent call last)",
      "\u001b[0;32m<ipython-input-5-db288e8df59d>\u001b[0m in \u001b[0;36m<module>\u001b[0;34m\u001b[0m\n\u001b[1;32m     15\u001b[0m     \u001b[0mta_glob\u001b[0m \u001b[0;34m=\u001b[0m \u001b[0mglob\u001b[0m\u001b[0;34m(\u001b[0m\u001b[0mjoin\u001b[0m\u001b[0;34m(\u001b[0m\u001b[0mproj_dir\u001b[0m\u001b[0;34m,\u001b[0m \u001b[0;34m'derivatives/MVPA-LSS/lvl1'\u001b[0m\u001b[0;34m,\u001b[0m \u001b[0msub\u001b[0m\u001b[0;34m,\u001b[0m \u001b[0;34m'modelfit/contrasts/_estimate_model*/cope*_onset*.nii.gz'\u001b[0m\u001b[0;34m)\u001b[0m\u001b[0;34m)\u001b[0m\u001b[0;34m\u001b[0m\u001b[0;34m\u001b[0m\u001b[0m\n\u001b[1;32m     16\u001b[0m     \u001b[0mta_data\u001b[0m\u001b[0;34m.\u001b[0m\u001b[0mappend\u001b[0m\u001b[0;34m(\u001b[0m\u001b[0mnatsorted\u001b[0m\u001b[0;34m(\u001b[0m\u001b[0mta_glob\u001b[0m\u001b[0;34m)\u001b[0m\u001b[0;34m)\u001b[0m\u001b[0;34m\u001b[0m\u001b[0;34m\u001b[0m\u001b[0m\n\u001b[0;32m---> 17\u001b[0;31m \u001b[0mds\u001b[0m \u001b[0;34m=\u001b[0m \u001b[0mmvpa2\u001b[0m\u001b[0;34m.\u001b[0m\u001b[0mdataset\u001b[0m\u001b[0;34m.\u001b[0m\u001b[0mbase\u001b[0m\u001b[0;34m(\u001b[0m\u001b[0mta_data\u001b[0m\u001b[0;34m)\u001b[0m\u001b[0;34m\u001b[0m\u001b[0;34m\u001b[0m\u001b[0m\n\u001b[0m",
      "\u001b[0;31mNameError\u001b[0m: name 'mvpa2' is not defined"
     ]
    }
   ],
   "source": [
    "subs1 = ['sub-005', 'sub-006', 'sub-007', 'sub-008', 'sub-010', \n",
    "        'sub-012', 'sub-013', 'sub-014', 'sub-015', 'sub-016', \n",
    "        'sub-018', 'sub-019', 'sub-020', 'sub-021', 'sub-022', \n",
    "        'sub-023', 'sub-024', 'sub-025', 'sub-026', 'sub-027', \n",
    "        'sub-028', 'sub-029', 'sub-030', 'sub-031', 'sub-032']\n",
    "subs = ['sub-005']\n",
    "proj_dir = '/home/data/madlab/Mattfeld_vCAT' \n",
    "\n",
    "fa_data = [] #feature files\n",
    "ta_data = [] #task files\n",
    "\n",
    "for sub in subs:\n",
    "    fa_glob = glob(join(proj_dir, 'derivatives/MVPA-Loc/lvl2', sub, 'fixedfx/cope*_minus_maths.nii.gz'))\n",
    "    fa_data.append(sorted(fa_glob))\n",
    "    ta_glob = glob(join(proj_dir, 'derivatives/MVPA-LSS/lvl1', sub, 'modelfit/contrasts/_estimate_model*/cope*_onset*.nii.gz'))\n",
    "    ta_data.append(natsorted(ta_glob))\n"
   ]
  },
  {
   "cell_type": "code",
   "execution_count": null,
   "id": "spread-advocacy",
   "metadata": {},
   "outputs": [],
   "source": [
    "for i, curr_fa in enumerate(fa_data[0]):\n",
    "    print(i, fa_data[0][i].split('/')[-1][5:-7]) "
   ]
  },
  {
   "cell_type": "code",
   "execution_count": null,
   "id": "young-klein",
   "metadata": {
    "scrolled": true
   },
   "outputs": [],
   "source": [
    "for i, curr_ta in enumerate(ta_data[0]):\n",
    "    print(i, ta_data[0][i].split('/')[-1]) "
   ]
  },
  {
   "cell_type": "code",
   "execution_count": null,
   "id": "peaceful-geometry",
   "metadata": {},
   "outputs": [],
   "source": [
    "\n",
    "              "
   ]
  },
  {
   "cell_type": "code",
   "execution_count": null,
   "id": "informative-begin",
   "metadata": {},
   "outputs": [],
   "source": []
  }
 ],
 "metadata": {
  "kernelspec": {
   "display_name": "Python 3",
   "language": "python",
   "name": "python3"
  },
  "language_info": {
   "codemirror_mode": {
    "name": "ipython",
    "version": 3
   },
   "file_extension": ".py",
   "mimetype": "text/x-python",
   "name": "python",
   "nbconvert_exporter": "python",
   "pygments_lexer": "ipython3",
   "version": "3.9.9"
  }
 },
 "nbformat": 4,
 "nbformat_minor": 5
}
