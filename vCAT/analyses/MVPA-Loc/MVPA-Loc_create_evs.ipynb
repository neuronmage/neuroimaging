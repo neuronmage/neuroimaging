{
 "cells": [
  {
   "cell_type": "markdown",
   "metadata": {},
   "source": [
    "# vCAT MVPA - Localizer\n",
    "## Create condition-specific EV files\n",
    "### Localizer structure: 2 runs per Ss\n",
    "#### 420 trials/run: *140 Faces, *140 Scenes, *140 Maths -- alternating blocks of 20 faces or scenes followed by 10 maths"
   ]
  },
  {
   "cell_type": "code",
   "execution_count": 42,
   "metadata": {
    "scrolled": false
   },
   "outputs": [],
   "source": [
    "import os\n",
    "from os.path import join\n",
    "import numpy as np\n",
    "import pandas as pd\n",
    "from glob import glob\n",
    "\n",
    "subs = ['sub-005', 'sub-006', 'sub-007', 'sub-008', 'sub-010', \n",
    "        'sub-012', 'sub-013', 'sub-014', 'sub-015', 'sub-016', \n",
    "        'sub-018', 'sub-019', 'sub-020', 'sub-021', 'sub-022', \n",
    "        'sub-023', 'sub-024', 'sub-025', 'sub-026', 'sub-027', \n",
    "        'sub-028', 'sub-029', 'sub-030', 'sub-031', 'sub-032']\n",
    "subs1 = ['sub-007']\n",
    "\n",
    "for sub in subs:\n",
    "    sub_dir = '/home/data/madlab/Mattfeld_vCAT/behav/{0}/'.format(sub)\n",
    "    dir_files = sorted(glob(join(sub_dir, '{0}_simp_loc*.csv'.format(sub)))) \n",
    "    \n",
    "    for run_num in range(2):#localizer has only two runs\n",
    "        run = pd.read_csv(dir_files[run_num]) #create dataframe for text files to extract EVS             \n",
    "        onsets = run['onset'].values\n",
    "\n",
    "        faces = [0, 60, 120, 180, 240, 300, 360] #first trial for each face block\n",
    "        scenes = [30, 90, 150, 210, 270, 330, 390] #first trial for each scene block\n",
    "        maths = [20, 50, 80, 110, 140, 170, 200, 230, 260, 290, 320, 350, 380, 410] #first trial of each maths block\n",
    "      \n",
    "        #index onsets array using indices from np.where() criteria \n",
    "        faces_onsets = onsets[faces] #get onset time using indices from face array\n",
    "        scenes_onsets = onsets[scenes] \n",
    "        maths_onsets = onsets[maths]\n",
    "        #get all block onsets and durations for mtrx vstack\n",
    "        block_onsets = sorted(np.concatenate((faces_onsets, scenes_onsets, maths_onsets))) \n",
    "        block_durations = [[25, 12.5]*14][0] # face/scene block duration is 25 sec, math block is 12.5 sec \n",
    "\n",
    "        #vstack matrix containing *ALL* onsets, durations, and amplitudes in vertical columns \n",
    "        mtrx = np.vstack((block_onsets, block_durations, \n",
    "                          np.ones(len(block_onsets)))).T \n",
    "        faces_mtrx = np.vstack((faces_onsets, #timing file for faces\n",
    "                                np.ones(len(faces_onsets))*25.0,\n",
    "                                np.ones(len(faces_onsets)))).T \n",
    "        scenes_mtrx = np.vstack((scenes_onsets, #timing file for scenes\n",
    "                                 np.ones(len(scenes_onsets))*25.0,\n",
    "                                 np.ones(len(scenes_onsets)))).T\n",
    "        maths_mtrx = np.vstack((maths_onsets, #timing file for maths\n",
    "                                np.ones(len(maths_onsets))*12.5,\n",
    "                                np.ones(len(maths_onsets)))).T\n",
    "\n",
    "        if not os.path.exists(join(sub_dir, 'MVPA')): #if directory does not exist\n",
    "            os.makedirs(join(sub_dir, 'MVPA')) #create it\n",
    "       \n",
    "        np.savetxt(join(sub_dir, 'MVPA', 'run{0}.txt'.format(run_num+1)), mtrx, delimiter='\\t', fmt='%.4f')                \n",
    "        for block in ['faces', 'scenes', 'maths']: #for all trial types\n",
    "            exec('np.savetxt(sub_dir+\"MVPA/\"+\"run{0}_{1}.txt\",{1}_mtrx,delimiter=\"\\t\",fmt=\"%.4f\")'.format(run_num+1,block))"
   ]
  },
  {
   "cell_type": "code",
   "execution_count": 40,
   "metadata": {},
   "outputs": [
    {
     "name": "stdout",
     "output_type": "stream",
     "text": [
      "[25, 12.5, 25, 12.5, 25, 12.5, 25, 12.5, 25, 12.5, 25, 12.5, 25, 12.5, 25, 12.5, 25, 12.5, 25, 12.5, 25, 12.5, 25, 12.5, 25, 12.5, 25, 12.5]\n"
     ]
    }
   ],
   "source": [
    "block_durations = [[25, 12.5]*14][0]\n",
    "print(block_durations)"
   ]
  },
  {
   "cell_type": "code",
   "execution_count": 42,
   "metadata": {},
   "outputs": [
    {
     "name": "stdout",
     "output_type": "stream",
     "text": [
      "{'node': scndlvl_wf.gendofvolume, 'traceback': ['Traceback (most recent call last):\\n', '  File \"/scratch/madlab/crash/mandy/vcat/MVPA/lvl2/sub-005/scndlvl_wf/batch/pyscript_20220325_145111_scndlvl_wf_gendofvolume.py\", line 38, in <module>\\n    result = info[\\'node\\'].run(updatehash=info[\\'updatehash\\'])\\n', '  File \"/home/data/madlab/envs/vcat_env/lib/python3.9/site-packages/nipype/pipeline/engine/nodes.py\", line 516, in run\\n    result = self._run_interface(execute=True)\\n', '  File \"/home/data/madlab/envs/vcat_env/lib/python3.9/site-packages/nipype/pipeline/engine/nodes.py\", line 635, in _run_interface\\n    return self._run_command(execute)\\n', '  File \"/home/data/madlab/envs/vcat_env/lib/python3.9/site-packages/nipype/pipeline/engine/nodes.py\", line 741, in _run_command\\n    result = self._interface.run(cwd=outdir)\\n', '  File \"/home/data/madlab/envs/vcat_env/lib/python3.9/site-packages/nipype/interfaces/base/core.py\", line 428, in run\\n    runtime = self._run_interface(runtime)\\n', '  File \"/home/data/madlab/envs/vcat_env/lib/python3.9/site-packages/nipype/interfaces/utility/wrappers.py\", line 142, in _run_interface\\n    out = function_handle(**args)\\n', '  File \"<string>\", line 13, in get_dofvolumes\\n', 'IndexError: list index out of range\\n', '\\n', '\\n', 'When creating this crashfile, the results file corresponding\\n', 'to the node could not be found.']}\n"
     ]
    }
   ],
   "source": [
    "from nipype.utils.filemanip import loadpkl\n",
    "res = loadpkl('/scratch/madlab/crash/mandy/vcat/MVPA/lvl2/crash.pklz')"
   ]
  },
  {
   "cell_type": "code",
   "execution_count": 43,
   "metadata": {},
   "outputs": [
    {
     "data": {
      "text/plain": [
       "{'node': scndlvl_wf.gendofvolume,\n",
       " 'traceback': ['Traceback (most recent call last):\\n',\n",
       "  '  File \"/scratch/madlab/crash/mandy/vcat/MVPA/lvl2/sub-005/scndlvl_wf/batch/pyscript_20220325_145111_scndlvl_wf_gendofvolume.py\", line 38, in <module>\\n    result = info[\\'node\\'].run(updatehash=info[\\'updatehash\\'])\\n',\n",
       "  '  File \"/home/data/madlab/envs/vcat_env/lib/python3.9/site-packages/nipype/pipeline/engine/nodes.py\", line 516, in run\\n    result = self._run_interface(execute=True)\\n',\n",
       "  '  File \"/home/data/madlab/envs/vcat_env/lib/python3.9/site-packages/nipype/pipeline/engine/nodes.py\", line 635, in _run_interface\\n    return self._run_command(execute)\\n',\n",
       "  '  File \"/home/data/madlab/envs/vcat_env/lib/python3.9/site-packages/nipype/pipeline/engine/nodes.py\", line 741, in _run_command\\n    result = self._interface.run(cwd=outdir)\\n',\n",
       "  '  File \"/home/data/madlab/envs/vcat_env/lib/python3.9/site-packages/nipype/interfaces/base/core.py\", line 428, in run\\n    runtime = self._run_interface(runtime)\\n',\n",
       "  '  File \"/home/data/madlab/envs/vcat_env/lib/python3.9/site-packages/nipype/interfaces/utility/wrappers.py\", line 142, in _run_interface\\n    out = function_handle(**args)\\n',\n",
       "  '  File \"<string>\", line 13, in get_dofvolumes\\n',\n",
       "  'IndexError: list index out of range\\n',\n",
       "  '\\n',\n",
       "  '\\n',\n",
       "  'When creating this crashfile, the results file corresponding\\n',\n",
       "  'to the node could not be found.']}"
      ]
     },
     "execution_count": 43,
     "metadata": {},
     "output_type": "execute_result"
    }
   ],
   "source": [
    "res"
   ]
  }
 ],
 "metadata": {
  "anaconda-cloud": {},
  "kernelspec": {
   "display_name": "Python 3",
   "language": "python",
   "name": "python3"
  },
  "language_info": {
   "codemirror_mode": {
    "name": "ipython",
    "version": 3
   },
   "file_extension": ".py",
   "mimetype": "text/x-python",
   "name": "python",
   "nbconvert_exporter": "python",
   "pygments_lexer": "ipython3",
   "version": "3.9.9"
  }
 },
 "nbformat": 4,
 "nbformat_minor": 1
}
