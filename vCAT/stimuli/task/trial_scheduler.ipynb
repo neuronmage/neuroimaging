{
 "cells": [
  {
   "cell_type": "code",
   "execution_count": 3,
   "metadata": {
    "collapsed": false,
    "deletable": true,
    "editable": true
   },
   "outputs": [
    {
     "name": "stdout",
     "output_type": "stream",
     "text": [
      "[ 0 -1  0  5  1  5  3  4  1 -1  1  5  2 -1  1  4  0  4  0  5  3 -1  1 -1  1\n",
      "  4  1  4  2 -1  2  4  3  5  2  5  2 -1  0 -1  2  4  3  4  3 -1  0 -1  3  4\n",
      "  2  5  2 -1  3 -1  3  5  1 -1  3  4  3  4  0  5  0  5  2 -1  3  5  1 -1  2\n",
      "  4  0 -1  3  4  0  5  1 -1  0  4  0  4  0  5  2  5  1  5  2 -1  1  4  1 -1\n",
      "  3 -1  1  5  0  5  0  5  0  5  0  5  0 -1  1  4  3  5  3  4  1  5  0 -1  1\n",
      " -1  1  4  3  5  3  4  0  4  0  4  3  4  3  5  0 -1  0  5  2  4  3  2  4  3\n",
      " -1  2  3  0  4  1  1  2  5  2  5  2  1 -1  3  2  3 -1  3  1  1  1  1  2  2\n",
      "  5  1  1  2  1  2  2  3  2  0 -1  1 -1  0  0  4  0  3 -1  3  1  4  2  2  3\n",
      "  5  2  4  0  2  0  4  3  5  2]\n"
     ]
    }
   ],
   "source": [
    "import os\n",
    "import numpy as np\n",
    "\n",
    "def fixed(v): #function to isolate fixed trials\n",
    "    return v >= 0 and v < 4\n",
    "\n",
    "def run_trialorder(): #function to create pseudo-random trial schedule for each run\n",
    "    dummy_types = [-1,0,1,2,3,4,5]*30 #-1 = baseline, 0-3 = fixed, 4-5 = conditional\n",
    "    rand_dummies = np.random.permutation(dummy_types)\n",
    "    i = 0\n",
    "    while i < len(rand_dummies[:-1]):\n",
    "        v = rand_dummies[i]\n",
    "        v2 = rand_dummies[i+1]\n",
    "        if (v2 >= 4 and v >= 4) or (i == 0 and (v >= 4 or v == -1)) or (v == -1 and (v2 == -1 or v2 >= 4)) or (v >= 4 and v2 == -1):\n",
    "            for j, safe_val in enumerate(rand_dummies):\n",
    "                v0 = None\n",
    "                safe_v2 = None\n",
    "                if j + 1 != len(rand_dummies):\n",
    "                    safe_v2 = rand_dummies[j + 1]\n",
    "                    if fixed(safe_v2) and fixed(safe_val):\n",
    "                        temp = rand_dummies[j]\n",
    "                        rand_dummies[j] = rand_dummies[i]\n",
    "                        rand_dummies[i] = temp\n",
    "                        i = -1\n",
    "                        break\n",
    "                if j > 0: #if not the first value\n",
    "                    v0 = rand_dummies[j - 1]\n",
    "                    if fixed(v0) and fixed(safe_val):\n",
    "                        temp = rand_dummies[j]\n",
    "                        rand_dummies[j] = rand_dummies[i]\n",
    "                        rand_dummies[i] = temp\n",
    "                        i = -1\n",
    "                        break\n",
    "        i += 1\n",
    "    return rand_dummies\n",
    "\n",
    "print run_trialorder()"
   ]
  },
  {
   "cell_type": "code",
   "execution_count": 3,
   "metadata": {
    "collapsed": false,
    "deletable": true,
    "editable": true
   },
   "outputs": [
    {
     "name": "stdout",
     "output_type": "stream",
     "text": [
      "[1, 1, 1, 1, 1, 1, 1, 1, 1, 1, 1, 1, 1, 1, 1, 1, 1, 1, 1, 1, 0, 0, 0, 0, 0, 0, 0, 0, 0, 0]\n"
     ]
    }
   ],
   "source": [
    "run_nums = [1]*20 + [0]*10\n",
    "print run_nums"
   ]
  },
  {
   "cell_type": "code",
   "execution_count": null,
   "metadata": {
    "collapsed": true
   },
   "outputs": [],
   "source": []
  }
 ],
 "metadata": {
  "kernelspec": {
   "display_name": "Python 2",
   "language": "python",
   "name": "python2"
  },
  "language_info": {
   "codemirror_mode": {
    "name": "ipython",
    "version": 2
   },
   "file_extension": ".py",
   "mimetype": "text/x-python",
   "name": "python",
   "nbconvert_exporter": "python",
   "pygments_lexer": "ipython2",
   "version": "2.7.12"
  }
 },
 "nbformat": 4,
 "nbformat_minor": 0
}
