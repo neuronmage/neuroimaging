{
 "cells": [
  {
   "cell_type": "markdown",
   "metadata": {},
   "source": [
    "# Compare mPFC activations for incorrect > correct across trial types "
   ]
  },
  {
   "cell_type": "code",
   "execution_count": 3,
   "metadata": {
    "scrolled": false
   },
   "outputs": [
    {
     "name": "stdout",
     "output_type": "stream",
     "text": [
      "783126\n",
      "783127\n"
     ]
    }
   ],
   "source": [
    "from glob import glob\n",
    "from scipy import stats\n",
    "from math import sqrt\n",
    "import nibabel as nb\n",
    "import pandas as pd\n",
    "import numpy as np\n",
    "import seaborn as sns\n",
    "import matplotlib.pyplot as plt\n",
    "%matplotlib inline\n",
    "sns.set_palette('muted')\n",
    "\n",
    "#20 subjects - 15 did not have necesssary contrasts\n",
    "sids = ['783126','783127','783130','783131','783132','783133','783135','783136','783137','783138', \n",
    "        '783139','783144','783146','783148','783149','783150','783152','783153','783155','783158']\n",
    "proj_dir = '/home/data/madlab/data/mri/seqtrd' \n",
    "mask_filenames = []\n",
    "cope_files = []\n",
    "for SID in sids:\n",
    "    subjmasks = glob(proj_dir + '/mask/cortical_rois/{0}/anat_masks/_subject_id_{0}/*'.format(SID))\n",
    "    mask_filenames.append(sorted(subjmasks))\n",
    "    subjcopes = glob(proj_dir + '/scndlvl/seq_1stpos_cic_FINAL/' + SID\n",
    "                     + '/seq_1stpos_cic_bl/fixedfx/cope*.nii.gz')\n",
    "    cope_files.append(sorted(subjcopes))   \n",
    "    if len(mask_filenames[-1]) == 0 or len(mask_filenames[-1]) != 24:\n",
    "        print(SID)"
   ]
  },
  {
   "cell_type": "markdown",
   "metadata": {},
   "source": [
    "## Cell to double-check the array indexing"
   ]
  },
  {
   "cell_type": "code",
   "execution_count": 4,
   "metadata": {},
   "outputs": [
    {
     "name": "stdout",
     "output_type": "stream",
     "text": [
      "(0, 'cerebellum_bimask_warped')\n",
      "(1, 'l_ant_hpc_warped')\n",
      "(2, 'l_cerebellum_bimask_warped')\n",
      "(3, 'lh-angular-gyrus_fs_warped')\n",
      "(4, 'lh-caudate_warped')\n",
      "(5, 'lh-motor_fs_warped')\n",
      "(6, 'lh-pcc_fs_warped')\n",
      "(7, 'lh-precuneus_fs_warped')\n",
      "(8, 'lh-superiortemporalctx_warped')\n",
      "(9, 'lh_hpc_warped')\n",
      "(10, 'lh_mpfc_warped')\n",
      "(11, 'limbicthal_bin_trans_warped')\n",
      "(12, 'r_ant_hpc_warped')\n",
      "(13, 'r_cerebellum_bimask_warped')\n",
      "(14, 'rh-angular-gyrus_fs_warped')\n",
      "(15, 'rh-caudate_warped')\n",
      "(16, 'rh-motor_fs_warped')\n",
      "(17, 'rh-pcc_fs_warped')\n",
      "(18, 'rh-precuneus_fs_warped')\n",
      "(19, 'rh-superiortemporalctx_warped')\n",
      "(20, 'rh_hpc_warped')\n",
      "(21, 'rh_mpfc_warped')\n",
      "(22, 'seq_bold_r01_dtype_despike_roi')\n",
      "(23, 'x_bihemi_mpfc_warped')\n",
      "(24, 'x_combined_antHC_mPFC_mask')\n"
     ]
    }
   ],
   "source": [
    "test_sub = 0\n",
    "for i, curr_mask in enumerate(mask_filenames[test_sub]):\n",
    "    print(i, mask_filenames[test_sub][i].split('/')[-1][:-7])"
   ]
  },
  {
   "cell_type": "code",
   "execution_count": 5,
   "metadata": {},
   "outputs": [
    {
     "name": "stdout",
     "output_type": "stream",
     "text": [
      "(0, 'InseqCorr_minus_InseqIncorr')\n",
      "(1, 'InseqCorr_minus_OTCorr')\n",
      "(2, 'InseqCorr_minus_OTIncorr')\n",
      "(3, 'InseqCorr_minus_OutseqCorr')\n",
      "(4, 'InseqCorr_minus_RepeatCorr')\n",
      "(5, 'InseqCorr_minus_RepeatIncorr')\n",
      "(6, 'InseqCorr_minus_SkipCorr')\n",
      "(7, 'InseqCorr_minus_SkipIncorr')\n",
      "(8, 'InseqIncorr_minus_InseqCorr')\n",
      "(9, 'InseqIncorr_minus_OutseqIncorr')\n",
      "(10, 'OTCorr_minu_InseqCorr')\n",
      "(11, 'OTCorr_minus_OTIncorr')\n",
      "(12, 'OTIncorr_minus_InseqCorr')\n",
      "(13, 'OTIncorr_minus_OTCorr')\n",
      "(14, 'OutseqCorr_minus_InseqCorr')\n",
      "(15, 'OutseqIncorr_minus_InseqIncorr')\n",
      "(16, 'RepeatCorr_minu_InseqCorr')\n",
      "(17, 'RepeatCorr_minus_RepeatIncorr')\n",
      "(18, 'RepeatIncorr_minus_InseqCorr')\n",
      "(19, 'RepeatIncorr_minus_RepeatCorr')\n",
      "(20, 'SkipCorr_minu_InseqCorr')\n",
      "(21, 'SkipCorr_minus_SkipIncorr')\n",
      "(22, 'SkipIncorr_minus_InseqCorr')\n",
      "(23, 'inseq_corr')\n",
      "(24, 'inseq_incorr')\n",
      "(25, 'ot_corr')\n",
      "(26, 'ot_incorr')\n",
      "(27, 'repeat_corr')\n",
      "(28, 'repeat_incorr')\n",
      "(29, 'skipIncorr_minus_SkipCorr')\n",
      "(30, 'skip_corr')\n",
      "(31, 'skip_incorr')\n"
     ]
    }
   ],
   "source": [
    "for i, curr_cope in enumerate(cope_files[1]):\n",
    "    print(i, cope_files[1][i].split('/')[-1][5:-7]) "
   ]
  },
  {
   "cell_type": "markdown",
   "metadata": {},
   "source": [
    "### Use binarized mask to obtain activation in left & right hemisphere for each region of interest"
   ]
  },
  {
   "cell_type": "code",
   "execution_count": 6,
   "metadata": {},
   "outputs": [],
   "source": [
    "mpfc_trials = {\"inseq\":[], \"ot\":[], \"skip\":[], \"repeat\":[]}\n",
    "hpc_trials = {\"inseq\":[], \"ot\":[], \"skip\":[], \"repeat\":[]}\n",
    "                     \n",
    "for i in range(len(sids)):\n",
    "    lh_mpfc_img = nb.load(mask_filenames[i][10])\n",
    "    rh_mpfc_img = nb.load(mask_filenames[i][21])\n",
    "    lh_hpc_img = nb.load(mask_filenames[i][1])\n",
    "    rh_hpc_img = nb.load(mask_filenames[i][12])\n",
    "    \n",
    "    inseq_img = nb.load(cope_files[i][8])\n",
    "    ot_img = nb.load(cope_files[i][13])\n",
    "    repeat_img = nb.load(cope_files[i][19])\n",
    "    skip_img = nb.load(cope_files[i][29])\n",
    " \n",
    "    for d in ['inseq', 'ot', 'repeat', 'skip']:\n",
    "        for r in ['hpc', 'mpfc']:\n",
    "            lh_data = eval('{0}_img.get_data()[lh_{1}_img.get_data() > 0.]'.format(d,r))   \n",
    "            rh_data = eval('{0}_img.get_data()[rh_{1}_img.get_data() > 0.]'.format(d,r))\n",
    "            bihemi_data = np.concatenate((lh_data, rh_data))\n",
    "            eval('{1}_trials[\"{0}\"].append(np.mean(bihemi_data))'.format(d,r))\n",
    "                                \n",
    "mpfc_trials_df = pd.DataFrame(mpfc_trials)\n",
    "hpc_trials_df = pd.DataFrame(hpc_trials)  "
   ]
  },
  {
   "cell_type": "code",
   "execution_count": 7,
   "metadata": {},
   "outputs": [
    {
     "data": {
      "text/html": [
       "<div>\n",
       "<style scoped>\n",
       "    .dataframe tbody tr th:only-of-type {\n",
       "        vertical-align: middle;\n",
       "    }\n",
       "\n",
       "    .dataframe tbody tr th {\n",
       "        vertical-align: top;\n",
       "    }\n",
       "\n",
       "    .dataframe thead th {\n",
       "        text-align: right;\n",
       "    }\n",
       "</style>\n",
       "<table border=\"1\" class=\"dataframe\">\n",
       "  <thead>\n",
       "    <tr style=\"text-align: right;\">\n",
       "      <th></th>\n",
       "      <th>inseq</th>\n",
       "      <th>ot</th>\n",
       "      <th>repeat</th>\n",
       "      <th>skip</th>\n",
       "    </tr>\n",
       "  </thead>\n",
       "  <tbody>\n",
       "    <tr>\n",
       "      <th>0</th>\n",
       "      <td>1.322996</td>\n",
       "      <td>2.793470</td>\n",
       "      <td>-0.218787</td>\n",
       "      <td>0.910522</td>\n",
       "    </tr>\n",
       "    <tr>\n",
       "      <th>1</th>\n",
       "      <td>0.447292</td>\n",
       "      <td>0.426257</td>\n",
       "      <td>-0.224109</td>\n",
       "      <td>0.527409</td>\n",
       "    </tr>\n",
       "    <tr>\n",
       "      <th>2</th>\n",
       "      <td>1.176502</td>\n",
       "      <td>1.812114</td>\n",
       "      <td>-1.139274</td>\n",
       "      <td>2.216021</td>\n",
       "    </tr>\n",
       "    <tr>\n",
       "      <th>3</th>\n",
       "      <td>1.072991</td>\n",
       "      <td>5.675395</td>\n",
       "      <td>-0.543310</td>\n",
       "      <td>0.681327</td>\n",
       "    </tr>\n",
       "    <tr>\n",
       "      <th>4</th>\n",
       "      <td>-2.339415</td>\n",
       "      <td>1.615722</td>\n",
       "      <td>-0.144830</td>\n",
       "      <td>0.954804</td>\n",
       "    </tr>\n",
       "    <tr>\n",
       "      <th>5</th>\n",
       "      <td>0.511317</td>\n",
       "      <td>3.946411</td>\n",
       "      <td>3.823656</td>\n",
       "      <td>1.508878</td>\n",
       "    </tr>\n",
       "    <tr>\n",
       "      <th>6</th>\n",
       "      <td>0.760651</td>\n",
       "      <td>1.051018</td>\n",
       "      <td>-2.961540</td>\n",
       "      <td>-0.420773</td>\n",
       "    </tr>\n",
       "    <tr>\n",
       "      <th>7</th>\n",
       "      <td>-0.399163</td>\n",
       "      <td>1.614957</td>\n",
       "      <td>-0.280520</td>\n",
       "      <td>-1.147109</td>\n",
       "    </tr>\n",
       "    <tr>\n",
       "      <th>8</th>\n",
       "      <td>0.055142</td>\n",
       "      <td>0.080602</td>\n",
       "      <td>-0.203816</td>\n",
       "      <td>1.055518</td>\n",
       "    </tr>\n",
       "    <tr>\n",
       "      <th>9</th>\n",
       "      <td>-1.760649</td>\n",
       "      <td>0.850430</td>\n",
       "      <td>1.206359</td>\n",
       "      <td>2.959211</td>\n",
       "    </tr>\n",
       "    <tr>\n",
       "      <th>10</th>\n",
       "      <td>-2.142369</td>\n",
       "      <td>-2.391870</td>\n",
       "      <td>-0.889914</td>\n",
       "      <td>-1.138635</td>\n",
       "    </tr>\n",
       "    <tr>\n",
       "      <th>11</th>\n",
       "      <td>-1.059708</td>\n",
       "      <td>-1.299029</td>\n",
       "      <td>-0.971133</td>\n",
       "      <td>-0.260696</td>\n",
       "    </tr>\n",
       "    <tr>\n",
       "      <th>12</th>\n",
       "      <td>1.173225</td>\n",
       "      <td>0.959037</td>\n",
       "      <td>-1.250697</td>\n",
       "      <td>0.541541</td>\n",
       "    </tr>\n",
       "    <tr>\n",
       "      <th>13</th>\n",
       "      <td>2.027660</td>\n",
       "      <td>0.383839</td>\n",
       "      <td>1.655822</td>\n",
       "      <td>1.602531</td>\n",
       "    </tr>\n",
       "    <tr>\n",
       "      <th>14</th>\n",
       "      <td>-0.299564</td>\n",
       "      <td>-1.121106</td>\n",
       "      <td>0.270814</td>\n",
       "      <td>0.186228</td>\n",
       "    </tr>\n",
       "    <tr>\n",
       "      <th>15</th>\n",
       "      <td>1.795637</td>\n",
       "      <td>1.666000</td>\n",
       "      <td>1.606864</td>\n",
       "      <td>0.861389</td>\n",
       "    </tr>\n",
       "    <tr>\n",
       "      <th>16</th>\n",
       "      <td>0.361780</td>\n",
       "      <td>2.143710</td>\n",
       "      <td>2.114248</td>\n",
       "      <td>0.412522</td>\n",
       "    </tr>\n",
       "    <tr>\n",
       "      <th>17</th>\n",
       "      <td>-0.230654</td>\n",
       "      <td>0.873572</td>\n",
       "      <td>2.321256</td>\n",
       "      <td>1.013955</td>\n",
       "    </tr>\n",
       "    <tr>\n",
       "      <th>18</th>\n",
       "      <td>0.272765</td>\n",
       "      <td>-0.376759</td>\n",
       "      <td>-0.510752</td>\n",
       "      <td>0.076444</td>\n",
       "    </tr>\n",
       "    <tr>\n",
       "      <th>19</th>\n",
       "      <td>0.893714</td>\n",
       "      <td>0.681600</td>\n",
       "      <td>1.204748</td>\n",
       "      <td>-0.294542</td>\n",
       "    </tr>\n",
       "  </tbody>\n",
       "</table>\n",
       "</div>"
      ],
      "text/plain": [
       "       inseq        ot    repeat      skip\n",
       "0   1.322996  2.793470 -0.218787  0.910522\n",
       "1   0.447292  0.426257 -0.224109  0.527409\n",
       "2   1.176502  1.812114 -1.139274  2.216021\n",
       "3   1.072991  5.675395 -0.543310  0.681327\n",
       "4  -2.339415  1.615722 -0.144830  0.954804\n",
       "5   0.511317  3.946411  3.823656  1.508878\n",
       "6   0.760651  1.051018 -2.961540 -0.420773\n",
       "7  -0.399163  1.614957 -0.280520 -1.147109\n",
       "8   0.055142  0.080602 -0.203816  1.055518\n",
       "9  -1.760649  0.850430  1.206359  2.959211\n",
       "10 -2.142369 -2.391870 -0.889914 -1.138635\n",
       "11 -1.059708 -1.299029 -0.971133 -0.260696\n",
       "12  1.173225  0.959037 -1.250697  0.541541\n",
       "13  2.027660  0.383839  1.655822  1.602531\n",
       "14 -0.299564 -1.121106  0.270814  0.186228\n",
       "15  1.795637  1.666000  1.606864  0.861389\n",
       "16  0.361780  2.143710  2.114248  0.412522\n",
       "17 -0.230654  0.873572  2.321256  1.013955\n",
       "18  0.272765 -0.376759 -0.510752  0.076444\n",
       "19  0.893714  0.681600  1.204748 -0.294542"
      ]
     },
     "execution_count": 7,
     "metadata": {},
     "output_type": "execute_result"
    }
   ],
   "source": [
    "mpfc_trials_df"
   ]
  },
  {
   "cell_type": "markdown",
   "metadata": {},
   "source": [
    "# mPFC"
   ]
  },
  {
   "cell_type": "code",
   "execution_count": 8,
   "metadata": {},
   "outputs": [
    {
     "name": "stdout",
     "output_type": "stream",
     "text": [
      "Mean inseq:  0.18200744446367026\n",
      "STD inseq:  1.20354325852727\n",
      "Shapiro's Test of Normality: (0.9379110336303711, 0.21888020634651184)\n",
      "--------\n",
      "Mean ot:  1.06926854737103\n",
      "STD ot:  1.7565972265112297\n",
      "Shapiro's Test of Normality: (0.95887291431427, 0.5215865969657898)\n",
      "--------\n",
      "Mean repeat:  0.24325420409440995\n",
      "STD repeat:  1.512651408639495\n",
      "Shapiro's Test of Normality: (0.9553058743476868, 0.4548211991786957)\n",
      "--------\n",
      "Mean skip:  0.6123271226882935\n",
      "STD skip:  0.9957149491280229\n",
      "Shapiro's Test of Normality: (0.9731857776641846, 0.8202086687088013)\n",
      "--------\n",
      "Normal Dist -- paired-samples t-test\n",
      "OT vs. Inseq Ttest_relResult(statistic=2.3358490093301563, pvalue=0.030612316042259183) *\n",
      "OT vs. Repeat Ttest_relResult(statistic=1.8065590824224436, pvalue=0.0866963254989416)\n",
      "OT vs. Skip Ttest_relResult(statistic=1.1809124231660937, pvalue=0.25220974400960705)\n"
     ]
    },
    {
     "data": {
      "image/png": "[encoded data removed]",
      "text/plain": [
       "<Figure size 720x576 with 1 Axes>"
      ]
     },
     "metadata": {},
     "output_type": "display_data"
    }
   ],
   "source": [
    "for key in mpfc_trials_df:\n",
    "    print \"Mean {0}: \".format(key), np.mean(mpfc_trials_df['{0}'.format(key)])\n",
    "    print \"STD {0}: \".format(key), np.std(mpfc_trials_df['{0}'.format(key)])\n",
    "    print \"Shapiro's Test of Normality:\", stats.shapiro(mpfc_trials_df['{0}'.format(key)])\n",
    "    print \"--------\"\n",
    "print \"Normal Dist -- paired-samples t-test\"    \n",
    "print \"OT vs. Inseq\", stats.ttest_rel(mpfc_trials_df['ot'], mpfc_trials_df['inseq']), \"*\"\n",
    "print \"OT vs. Repeat\", stats.ttest_rel(mpfc_trials_df['ot'], mpfc_trials_df['repeat'])\n",
    "print \"OT vs. Skip\", stats.ttest_rel(mpfc_trials_df['ot'], mpfc_trials_df['skip'])\n",
    "N = 4\n",
    "conditions = ['InSeq', 'OT', 'Repeat', 'Skip']\n",
    "mpfc_allsubjs = [mpfc_trials_df['inseq'], mpfc_trials_df['ot'], \n",
    "                 mpfc_trials_df['repeat'], mpfc_trials_df['skip']]\n",
    "ind = np.arange(N)\n",
    "fig, ax = plt.subplots(figsize = (10,8))\n",
    "ax0 = sns.boxplot(data = mpfc_allsubjs, color = \"orange\", width = 0.3)\n",
    "ax2 = sns.swarmplot(data = mpfc_allsubjs, color='.25')\n",
    "ax.set_xticks(ind)\n",
    "ax.set_xticklabels(conditions)\n",
    "ax.set_title(\"Medial Prefrontal Cortex\")\n",
    "ax.set_xlabel(\"Incorrect > Correct\")\n",
    "ax.set_ylabel(\"Activation\")\n",
    "plt.show()"
   ]
  },
  {
   "cell_type": "markdown",
   "metadata": {},
   "source": [
    "# HPC"
   ]
  },
  {
   "cell_type": "code",
   "execution_count": 9,
   "metadata": {},
   "outputs": [
    {
     "name": "stdout",
     "output_type": "stream",
     "text": [
      "Mean inseq:  -0.21472352799028158\n",
      "STD inseq:  0.9546577126465953\n",
      "Shapiro's Test of Normality: (0.9730709195137024, 0.8179407715797424)\n",
      "--------\n",
      "Mean ot:  -0.22568759173154831\n",
      "STD ot:  1.3706102784972156\n",
      "Shapiro's Test of Normality: (0.8927536606788635, 0.030226288363337517)\n",
      "--------\n",
      "Mean repeat:  -0.31503239944577216\n",
      "STD repeat:  1.009166945943425\n",
      "Shapiro's Test of Normality: (0.9634532928466797, 0.6148933172225952)\n",
      "--------\n",
      "Mean skip:  -0.37130845952779057\n",
      "STD skip:  0.8539467353252426\n",
      "Shapiro's Test of Normality: (0.8437992334365845, 0.0042035384103655815)\n",
      "--------\n",
      "Non-Normal Distribution -- Wilcoxon Signed-Rank\n",
      "OT vs. Inseq WilcoxonResult(statistic=96.0, pvalue=0.7368753708069717)\n",
      "OT vs. Repeat WilcoxonResult(statistic=100.0, pvalue=0.8519245948146423)\n",
      "OT vs. Skip WilcoxonResult(statistic=92.0, pvalue=0.6274460333215013)\n"
     ]
    },
    {
     "data": {
      "image/png": "[encoded data removed]",
      "text/plain": [
       "<Figure size 720x576 with 1 Axes>"
      ]
     },
     "metadata": {},
     "output_type": "display_data"
    }
   ],
   "source": [
    "for key in hpc_trials_df:\n",
    "    print \"Mean {0}: \".format(key), np.mean(hpc_trials_df['{0}'.format(key)])\n",
    "    print \"STD {0}: \".format(key), np.std(hpc_trials_df['{0}'.format(key)])\n",
    "    print \"Shapiro's Test of Normality:\", stats.shapiro(hpc_trials_df['{0}'.format(key)])\n",
    "    print \"--------\"\n",
    "print \"Non-Normal Distribution -- Wilcoxon Signed-Rank\"    \n",
    "print \"OT vs. Inseq\", stats.wilcoxon(hpc_trials_df['ot'], hpc_trials_df['inseq'])\n",
    "print \"OT vs. Repeat\", stats.wilcoxon(hpc_trials_df['ot'], hpc_trials_df['repeat'])\n",
    "print \"OT vs. Skip\", stats.wilcoxon(hpc_trials_df['ot'], hpc_trials_df['skip'])\n",
    "N = 4\n",
    "conditions = ['InSeq', 'OT', 'Repeat', 'Skip']\n",
    "mpfc_allsubjs = [hpc_trials_df['inseq'], hpc_trials_df['ot'], \n",
    "                 hpc_trials_df['repeat'], hpc_trials_df['skip']]\n",
    "ind = np.arange(N)\n",
    "fig, ax = plt.subplots(figsize = (10,8))\n",
    "ax0 = sns.boxplot(data = mpfc_allsubjs, color = \"#3399ff\", width = 0.3)\n",
    "ax2 = sns.swarmplot(data = mpfc_allsubjs, color='.25')\n",
    "ax.set_xticks(ind)\n",
    "ax.set_xticklabels(conditions)\n",
    "ax.set_title(\"Hippocampus\")\n",
    "ax.set_xlabel(\"Incorrect > Correct\")\n",
    "ax.set_ylabel(\"Activation\")\n",
    "plt.show()"
   ]
  }
 ],
 "metadata": {
  "anaconda-cloud": {},
  "kernelspec": {
   "display_name": "Python 2",
   "language": "python",
   "name": "python2"
  },
  "language_info": {
   "codemirror_mode": {
    "name": "ipython",
    "version": 2
   },
   "file_extension": ".py",
   "mimetype": "text/x-python",
   "name": "python",
   "nbconvert_exporter": "python",
   "pygments_lexer": "ipython2",
   "version": "2.7.14"
  }
 },
 "nbformat": 4,
 "nbformat_minor": 2
}
