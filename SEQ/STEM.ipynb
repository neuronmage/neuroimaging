{
 "cells": [
  {
   "cell_type": "code",
   "execution_count": null,
   "metadata": {},
   "outputs": [],
   "source": [
    "STEM_raw = {'ots_diag':[], 'skips_diag':[], 'repeats_diag':[], \n",
    "            'ots_plus1':[], 'skips_plus1':[], 'repeats_plus1':[],\n",
    "            'ots_less1':[], 'skips_less1':[], 'repeats_less1':[]}\n",
    "STEM_avg = {'ots_diag':[], 'skips_diag':[], 'repeats_diag':[],\n",
    "            'ots_plus1':[], 'skips_plus1':[], 'repeats_plus1':[],\n",
    "            'ots_less1':[], 'skips_less1':[], 'repeats_less1':[]}\n",
    "\n",
    "pos = ['3', '4', '5']\n",
    "for i, sub in enumerate(sids):\n",
    "    for d in ['ot', 'repeat', 'skip']:\n",
    "        for p, c_pos in enumerate(pos): #correlations on diagonal\n",
    "            diag = eval('stats.pearsonr({0}_suptemp_df[\"pos{1}\"][{2}],inseq_suptemp_df[\"pos{1}\"][{2}])[0]'.format(d,c_pos,i))\n",
    "            eval('STEM_raw[\"{0}s_diag\"].append(diag)'.format(d))\n",
    "        for p, c_pos in enumerate(pos[:-1]): #correlations on above-diagonal\n",
    "            plus1 = eval('stats.pearsonr({0}_suptemp_df[\"pos{1}\"][{3}],inseq_suptemp_df[\"pos{2}\"][{3}])[0]'.format(d,c_pos,pos[p+1],i))\n",
    "            eval('STEM_raw[\"{0}s_plus1\"].append(plus1)'.format(d))\n",
    "        for p, c_pos in enumerate(pos[1:]): #correlation on below-diagonal\n",
    "            less1 = eval('stats.pearsonr({0}_suptemp_df[\"pos{1}\"][{3}],inseq_suptemp_df[\"pos{2}\"][{3}])[0]'.format(d,c_pos,pos[p-1],i))\n",
    "            eval('STEM_raw[\"{0}s_less1\"].append(less1)'.format(d))\n",
    "            \n",
    "for k in range(0,102,3): #average 3 diagonal pearsons r\n",
    "    STEM_avg['ots_diag'].append(np.mean(STEM_raw['ots_diag'][k:k+2]))\n",
    "    STEM_avg['skips_diag'].append(np.mean(STEM_raw['skips_diag'][k:k+2]))\n",
    "    STEM_avg['repeats_diag'].append(np.mean(STEM_raw['repeats_diag'][k:k+2]))\n",
    "    \n",
    "for j in range(0,68,2): #average 2 off-diagonal pearsons r\n",
    "    STEM_avg['ots_plus1'].append(np.mean(STEM_raw['ots_plus1'][j:j+2]))\n",
    "    STEM_avg['skips_plus1'].append(np.mean(STEM_raw['skips_plus1'][j:j+2]))\n",
    "    STEM_avg['repeats_plus1'].append(np.mean(STEM_raw['repeats_plus1'][j:j+2]))\n",
    "    STEM_avg['ots_less1'].append(np.mean(STEM_raw['ots_less1'][j:j+2]))\n",
    "    STEM_avg['skips_less1'].append(np.mean(STEM_raw['skips_less1'][j:j+2]))\n",
    "    STEM_avg['repeats_less1'].append(np.mean(STEM_raw['repeats_less1'][j:j+2]))\n",
    "    \n",
    "STEM_avg_df = pd.DataFrame(STEM_avg)"
   ]
  }
 ],
 "metadata": {
  "kernelspec": {
   "display_name": "Python 2",
   "language": "python",
   "name": "python2"
  },
  "language_info": {
   "codemirror_mode": {
    "name": "ipython",
    "version": 2
   },
   "file_extension": ".py",
   "mimetype": "text/x-python",
   "name": "python",
   "nbconvert_exporter": "python",
   "pygments_lexer": "ipython2",
   "version": "2.7.14"
  }
 },
 "nbformat": 4,
 "nbformat_minor": 2
}
