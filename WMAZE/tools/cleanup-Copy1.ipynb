{
 "cells": [
  {
   "cell_type": "markdown",
   "metadata": {},
   "source": [
    "# Project Cleanup Script"
   ]
  },
  {
   "cell_type": "code",
   "execution_count": 10,
   "metadata": {},
   "outputs": [],
   "source": [
    "import shutil \n",
    "import os\n",
    "from os.path import join, split, basename\n",
    "import numpy as np\n",
    "from glob import glob\n",
    "\n",
    "subs = ['WMAZE_002', 'WMAZE_004', 'WMAZE_005', 'WMAZE_006',\n",
    "        'WMAZE_007', 'WMAZE_008', 'WMAZE_009', 'WMAZE_010', 'WMAZE_012',\n",
    "        'WMAZE_017', 'WMAZE_018', 'WMAZE_019', 'WMAZE_020', 'WMAZE_021',\n",
    "        'WMAZE_022', 'WMAZE_023', 'WMAZE_024', 'WMAZE_026', 'WMAZE_027']\n",
    "\n",
    "path = '/home/data/madlab/Mattfeld_WMAZE/' "
   ]
  },
  {
   "cell_type": "markdown",
   "metadata": {},
   "source": [
    "## Move 1st level files"
   ]
  },
  {
   "cell_type": "code",
   "execution_count": 11,
   "metadata": {},
   "outputs": [],
   "source": [
    "for sub in subs:\n",
    "    if os.path.exists(join(path, 'dset/analyses/model_LSS/lvl1/{0}/'.format(sub))):                    \n",
    "        old = 'dset/analyses/model_LSS/lvl1/{0}'.format(sub)\n",
    "        new = 'Hamm_CellReports/LSS/lvl1/{0}'.format(sub)\n",
    "\n",
    "        for i in ['learning', 'nonlearning']:\n",
    "            os.makedirs(join(path, new, '{0}'.format(i)))          \n",
    "            contrast_files = glob(join(path, old, '{0}/cope*.nii.gz'.format(i)))\n",
    "            for contrast_file in contrast_files:\n",
    "                shutil.move(join(path, old, '{0}/{1}'.format(i,basename(contrast_file))),\n",
    "                            join(path, new, '{0}/{1}'.format(i,basename(contrast_file))))\n",
    "\n",
    "           \n",
    "        #rm_path = join(path, 'dset/analyses/model_LSS/lvl1/{0}/'.format(sub)) \n",
    "        #shutil.rmtree(rm_path) #removes all remaining lvl1 subject files"
   ]
  },
  {
   "cell_type": "code",
   "execution_count": null,
   "metadata": {},
   "outputs": [],
   "source": []
  },
  {
   "cell_type": "code",
   "execution_count": null,
   "metadata": {},
   "outputs": [],
   "source": []
  }
 ],
 "metadata": {
  "anaconda-cloud": {},
  "kernelspec": {
   "display_name": "Python 3",
   "language": "python",
   "name": "python3"
  },
  "language_info": {
   "codemirror_mode": {
    "name": "ipython",
    "version": 3
   },
   "file_extension": ".py",
   "mimetype": "text/x-python",
   "name": "python",
   "nbconvert_exporter": "python",
   "pygments_lexer": "ipython3",
   "version": "3.7.6"
  }
 },
 "nbformat": 4,
 "nbformat_minor": 1
}
