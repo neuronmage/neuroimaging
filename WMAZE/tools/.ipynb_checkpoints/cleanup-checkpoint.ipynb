{
 "cells": [
  {
   "cell_type": "markdown",
   "metadata": {},
   "source": [
    "# Project Cleanup Script"
   ]
  },
  {
   "cell_type": "code",
   "execution_count": 1,
   "metadata": {},
   "outputs": [],
   "source": [
    "import shutil \n",
    "import os\n",
    "from os.path import join, split, basename\n",
    "import numpy as np\n",
    "from glob import glob\n",
    "\n",
    "subs = ['WMAZE_001', 'WMAZE_002', 'WMAZE_004', 'WMAZE_005', 'WMAZE_006',\n",
    "        'WMAZE_007', 'WMAZE_008', 'WMAZE_009', 'WMAZE_010', 'WMAZE_012',\n",
    "        'WMAZE_017', 'WMAZE_018', 'WMAZE_019', 'WMAZE_020', 'WMAZE_021',\n",
    "        'WMAZE_022', 'WMAZE_023', 'WMAZE_024', 'WMAZE_026', 'WMAZE_027']\n",
    "\n",
    "path = '/home/data/madlab/Mattfeld_WMAZE/' "
   ]
  },
  {
   "cell_type": "markdown",
   "metadata": {},
   "source": [
    "## Move 1st level files"
   ]
  },
  {
   "cell_type": "code",
   "execution_count": 5,
   "metadata": {},
   "outputs": [],
   "source": [
    "for sub in subs:\n",
    "    if os.path.exists(join(path, 'dset/analyses/REVIEWER/lvl1/{0}/'.format(sub))):                    \n",
    "        old = 'dset/analyses/REVIEWER/lvl1/{0}/modelfit'.format(sub)\n",
    "        new = 'Hamm_CellReports/REV/lvl1/{0}/modelfit'.format(sub)\n",
    "\n",
    "        for i in range(6):\n",
    "            os.makedirs(join(path, new, 'contrasts/_estimate_model{0}'.format(i)))                              \n",
    "            os.makedirs(join(path, new, 'design/_generate_model{0}'.format(i)))\n",
    "            os.makedirs(join(path, new, 'dofs/_estimate_model{0}'.format(i)))\n",
    "            \n",
    "            contrast_files = glob(join(path, old, 'contrasts/_estimate_model{0}/*cope*.nii.gz'.format(i)))\n",
    "            for contrast_file in contrast_files:\n",
    "                shutil.move(join(path, old, 'contrasts/_estimate_model{0}/{1}'.format(i,basename(contrast_file))),\n",
    "                            join(path, new, 'contrasts/_estimate_model{0}/{1}'.format(i,basename(contrast_file))))\n",
    "\n",
    "            design_files = glob(join(path, old, 'design/_generate_model{0}/*.*'.format(i)))       \n",
    "            for design_file in design_files:\n",
    "                shutil.move(join(path, old, 'design/_generate_model{0}/{1}'.format(i,basename(design_file))),\n",
    "                            join(path, new, 'design/_generate_model{0}/{1}'.format(i,basename(design_file))))\n",
    "\n",
    "            dof_files = glob(join(path, old, 'dofs/_estimate_model{0}/*'.format(i))) \n",
    "            for dof_file in dof_files:\n",
    "                shutil.move(join(path, old, 'dofs/_estimate_model{0}/{1}'.format(i,basename(dof_file))),\n",
    "                            join(path, new, 'dofs/_estimate_model{0}/{1}'.format(i,basename(dof_file))))\n",
    "\n",
    "        #rm_path = join(path, 'dset/analyses/REVIEWER/lvl1/{0}/'.format(sub)) \n",
    "        #shutil.rmtree(rm_path) #removes all remaining lvl1 subject files"
   ]
  },
  {
   "cell_type": "markdown",
   "metadata": {},
   "source": [
    "## Move 2nd level files"
   ]
  },
  {
   "cell_type": "code",
   "execution_count": 3,
   "metadata": {},
   "outputs": [],
   "source": [
    "for sub in subs:\n",
    "    if os.path.exists(join(path, 'dset/analyses/model_RSA/lvl2/{0}/'.format(sub))):                    \n",
    "        old = 'dset/analyses/model_RSA/lvl2/{0}/fixedfx'.format(sub)\n",
    "        new = 'Hamm_CellReports/RSA/lvl2/{0}/fixedfx'.format(sub)\n",
    "        os.makedirs(join(path, new))      \n",
    "\n",
    "        lvl2_files = glob(join(path, old, '*cope*.nii.gz'))\n",
    "        for con_file in lvl2_files:\n",
    "            shutil.move(join(path, old, '{0}'.format(basename(con_file))),\n",
    "                        join(path, new, '{0}'.format(basename(con_file))))\n",
    "            \n",
    "        #rm_path = join(path, 'dset/analyses/model_RSA/lvl2/{0}/'.format(sub)) \n",
    "        #shutil.rmtree(rm_path) #removes all remaining lvl2 subject files"
   ]
  },
  {
   "cell_type": "markdown",
   "metadata": {},
   "source": [
    "## Move norm stats files"
   ]
  },
  {
   "cell_type": "code",
   "execution_count": null,
   "metadata": {},
   "outputs": [],
   "source": [
    "for sub in subs:\n",
    "    if os.path.exists(join(path, 'dset/analyses/model_GLM3/norm_stats/{0}/'.format(sub))): \n",
    "        old = 'dset/analyses/model_GLM3/norm_stats/{0}'.format(sub)\n",
    "        new = 'Hamm_CellReports/GLM3/norm_stats/{0}'.format(sub)\n",
    "        os.makedirs(join(path, new, 'norm_copes'))                              \n",
    "        os.makedirs(join(path, new, 'norm_varcopes'))\n",
    "    \n",
    "        cope_files = glob(join(path, old, 'norm_copes/cope*.nii.gz'))\n",
    "        for cope_file in cope_files:\n",
    "            shutil.move(join(path, old, 'norm_copes/{0}'.format(basename(cope_file))),\n",
    "                        join(path, new, 'norm_copes/{0}'.format(basename(cope_file))))\n",
    "            \n",
    "        varcope_files = glob(join(path, old, 'norm_varcopes/varcope*.nii.gz'))\n",
    "        for varcope_file in varcope_files:\n",
    "            shutil.move(join(path, old, 'norm_varcopes/{0}'.format(basename(varcope_file))),\n",
    "                        join(path, new, 'norm_varcopes/{0}'.format(basename(varcope_file))))\n",
    "\n",
    "        #rm_path = join(path, 'dset/analyses/model_GLM3/norm_stats/{0}/'.format(sub)) \n",
    "        #shutil.rmtree(rm_path) #removes all remaining norm stats subject files"
   ]
  },
  {
   "cell_type": "markdown",
   "metadata": {},
   "source": [
    "## Move group level files"
   ]
  },
  {
   "cell_type": "code",
   "execution_count": null,
   "metadata": {},
   "outputs": [],
   "source": [
    "for con in os.listdir(join(path, 'dset/analyses/model_GLM2/grp_lvl')): \n",
    "    print(con)\n",
    "    if os.path.exists(join(path, 'dset/analyses/model_GLM2/grp_lvl/{0}/'.format(con))):                    \n",
    "        old = 'dset/analyses/model_GLM2/grp_lvl/{0}/output/corrected/_contrast_{0}'.format(con)\n",
    "        new = 'Hamm_CellReports/GLM2/grp_lvl/{0}/corrected'.format(con)\n",
    "        os.makedirs(join(path, new))   \n",
    "        \n",
    "        #move only corrected grp lvl output\n",
    "        grp_files = glob(join(path, old, 'oneSampT_tfce_corrp_tstat1.nii.gz'))\n",
    "        for grp_file in grp_files:\n",
    "            shutil.move(join(path, old, '{0}'.format(basename(grp_file))),\n",
    "                        join(path, new, '{0}'.format(basename(grp_file))))\n",
    "\n",
    "            \n",
    "        #rm_path = join(path, 'dset/analyses/model_GLM2/lvl2/{0}/'.format(sub)) \n",
    "        #shutil.rmtree(rm_path) #removes all remaining lvl2 subject files"
   ]
  }
 ],
 "metadata": {
  "anaconda-cloud": {},
  "kernelspec": {
   "display_name": "Python 3",
   "language": "python",
   "name": "python3"
  },
  "language_info": {
   "codemirror_mode": {
    "name": "ipython",
    "version": 3
   },
   "file_extension": ".py",
   "mimetype": "text/x-python",
   "name": "python",
   "nbconvert_exporter": "python",
   "pygments_lexer": "ipython3",
   "version": "3.7.6"
  }
 },
 "nbformat": 4,
 "nbformat_minor": 1
}
