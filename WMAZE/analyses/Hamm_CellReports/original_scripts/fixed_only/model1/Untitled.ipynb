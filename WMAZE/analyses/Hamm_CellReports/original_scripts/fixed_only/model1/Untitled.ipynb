{
 "cells": [
  {
   "cell_type": "code",
   "execution_count": 2,
   "metadata": {
    "collapsed": true
   },
   "outputs": [],
   "source": [
    "import os\n",
    "from os.path import join\n",
    "import numpy as np\n",
    "import pandas as pd\n",
    "from glob import glob"
   ]
  },
  {
   "cell_type": "code",
   "execution_count": 18,
   "metadata": {
    "collapsed": false
   },
   "outputs": [
    {
     "ename": "TypeError",
     "evalue": "unsupported operand type(s) for &: 'set' and 'int'",
     "output_type": "error",
     "traceback": [
      "\u001b[0;31m---------------------------------------------------------------------------\u001b[0m",
      "\u001b[0;31mTypeError\u001b[0m                                 Traceback (most recent call last)",
      "\u001b[0;32m<ipython-input-18-298197d76a19>\u001b[0m in \u001b[0;36m<module>\u001b[0;34m()\u001b[0m\n\u001b[1;32m     14\u001b[0m         \u001b[0;31m# if not the first trial (iteration) current trials will be randomized again\u001b[0m\u001b[0;34m\u001b[0m\u001b[0;34m\u001b[0m\u001b[0m\n\u001b[1;32m     15\u001b[0m         \u001b[0mcurr_trls\u001b[0m \u001b[0;34m=\u001b[0m \u001b[0mnp\u001b[0m\u001b[0;34m.\u001b[0m\u001b[0mrandom\u001b[0m\u001b[0;34m.\u001b[0m\u001b[0mpermutation\u001b[0m\u001b[0;34m(\u001b[0m\u001b[0mcurr_trls\u001b[0m\u001b[0;34m)\u001b[0m\u001b[0;34m\u001b[0m\u001b[0m\n\u001b[0;32m---> 16\u001b[0;31m         \u001b[0;32mif\u001b[0m \u001b[0mtot_trials\u001b[0m\u001b[0;34m[\u001b[0m\u001b[0;34m-\u001b[0m\u001b[0;36m1\u001b[0m\u001b[0;34m]\u001b[0m \u001b[0;32min\u001b[0m \u001b[0;34m{\u001b[0m\u001b[0;36m1\u001b[0m\u001b[0;34m,\u001b[0m \u001b[0;36m4\u001b[0m\u001b[0;34m}\u001b[0m \u001b[0;34m&\u001b[0m \u001b[0mcurr_trls\u001b[0m\u001b[0;34m[\u001b[0m\u001b[0;36m0\u001b[0m\u001b[0;34m]\u001b[0m \u001b[0;32min\u001b[0m \u001b[0;34m{\u001b[0m\u001b[0;36m1\u001b[0m\u001b[0;34m,\u001b[0m \u001b[0;36m4\u001b[0m\u001b[0;34m}\u001b[0m\u001b[0;34m:\u001b[0m \u001b[0;31m# If the last trial and the current trial are both conditionals...\u001b[0m\u001b[0;34m\u001b[0m\u001b[0m\n\u001b[0m\u001b[1;32m     17\u001b[0m             \u001b[0;32mwhile\u001b[0m \u001b[0mcurr_trls\u001b[0m\u001b[0;34m[\u001b[0m\u001b[0;36m0\u001b[0m\u001b[0;34m]\u001b[0m \u001b[0;32min\u001b[0m \u001b[0;34m{\u001b[0m\u001b[0;36m1\u001b[0m\u001b[0;34m,\u001b[0m \u001b[0;36m4\u001b[0m\u001b[0;34m}\u001b[0m\u001b[0;34m:\u001b[0m\u001b[0;34m\u001b[0m\u001b[0m\n\u001b[1;32m     18\u001b[0m         \u001b[0;31m# If the previous and present trial would both be conditional\u001b[0m\u001b[0;34m\u001b[0m\u001b[0;34m\u001b[0m\u001b[0m\n",
      "\u001b[0;31mTypeError\u001b[0m: unsupported operand type(s) for &: 'set' and 'int'"
     ]
    }
   ],
   "source": [
    "total_num_trls = 80\n",
    "\n",
    "# create array with value for each stim type\n",
    "curr_trls = np.array([0, 1, 2, 3, 4, 5])\n",
    "# For each iteration of 80 image presentations\n",
    "for i in range(total_num_trls):\n",
    "    # If the current iteration is the first\n",
    "    if i == 0:\n",
    "        # set tot_trials to contain 0, 1, 2\n",
    "        tot_trials = np.random.permutation(curr_trls)\n",
    "        while tot_trials[0] in {1,4}:\n",
    "            curr_trls = np.random.permutation(curr_trls)\n",
    "    else:\n",
    "        # if not the first trial (iteration) current trials will be randomized again\n",
    "        curr_trls = np.random.permutation(curr_trls)\n",
    "        if tot_trials[-1] in {1, 4} and curr_trls[0] in {1, 4}: # If the last trial and the current trial are both conditionals...\n",
    "            while curr_trls[0] in {1, 4}:\n",
    "        # If the previous and present trial would both be conditional\n",
    "        #if tot_trials[-1] == 1 and curr_trls[0] == 1:\n",
    "            # While the current trial is set to conditional\n",
    "            #while curr_trls[0] == 1:\n",
    "                # Randomize the current trial until it is not conditional\n",
    "                curr_trls = np.random.permutation(curr_trls)\n",
    "        # Total trials = concatenation of growing total list + current trial\n",
    "        tot_trials = np.concatenate((tot_trials, curr_trls))\n",
    "\n",
    "        \n",
    "print(tot_trials)\n",
    "        \n",
    "corr_resps = []\n",
    "last_trial = []\n",
    "# keep track of trial # as it iterates through tot_trials\n",
    "for counter, i in enumerate(tot_trials):\n",
    "    # if the first trial is an A (fixed)\n",
    "    if counter == 0 and i == 0:\n",
    "        # append '2' as the correct response\n",
    "        corr_resps.append('2')\n",
    "        # append the identity of the current trial to last_trial\n",
    "        last_trial.append(tot_trials[counter])\n",
    "    else:\n",
    "        # if the trial is A (fixed)\n",
    "        if i == 0:\n",
    "            # correct response is 2\n",
    "            corr_resps.append('2')\n",
    "            last_trial.append(tot_trials[counter])\n",
    "        # if the trial is C (fixed)\n",
    "        elif i == 2:\n",
    "            # correct response is 1\n",
    "            corr_resps.append('1')\n",
    "            last_trial.append(tot_trials[counter])\n",
    "        # if the trial is B (conditional) and the last trial was A\n",
    "        elif i == 1 and last_trial[-1] == 0:\n",
    "            # correct response is 1\n",
    "            corr_resps.append('1')\n",
    "            last_trial.append(tot_trials[counter])\n",
    "        # if the trial is B and the last trail was C\n",
    "        elif i == 1 and last_trial[-1] == 2:\n",
    "            # correct response is 2\n",
    "            corr_resps.append('2')\n",
    "            last_trial.append(tot_trials[counter])\n"
   ]
  },
  {
   "cell_type": "code",
   "execution_count": null,
   "metadata": {
    "collapsed": true
   },
   "outputs": [],
   "source": []
  },
  {
   "cell_type": "code",
   "execution_count": null,
   "metadata": {
    "collapsed": true
   },
   "outputs": [],
   "source": []
  }
 ],
 "metadata": {
  "anaconda-cloud": {},
  "kernelspec": {
   "display_name": "Python [default]",
   "language": "python",
   "name": "python2"
  },
  "language_info": {
   "codemirror_mode": {
    "name": "ipython",
    "version": 2
   },
   "file_extension": ".py",
   "mimetype": "text/x-python",
   "name": "python",
   "nbconvert_exporter": "python",
   "pygments_lexer": "ipython2",
   "version": "2.7.13"
  }
 },
 "nbformat": 4,
 "nbformat_minor": 1
}
