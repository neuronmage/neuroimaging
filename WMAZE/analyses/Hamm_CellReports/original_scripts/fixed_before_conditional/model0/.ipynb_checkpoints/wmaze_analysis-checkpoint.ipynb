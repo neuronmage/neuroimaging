{
 "cells": [
  {
   "cell_type": "markdown",
   "metadata": {},
   "source": [
    "# Creation of the region-specific masks using Freesurfer's Binarize"
   ]
  },
  {
   "cell_type": "markdown",
   "metadata": {},
   "source": [
    "### Masks for hippocampus and mPFC using FS aparc+aseg"
   ]
  },
  {
   "cell_type": "code",
   "execution_count": null,
   "metadata": {
    "collapsed": false,
    "scrolled": true
   },
   "outputs": [],
   "source": [
    "import nipype.pipeline as pe\n",
    "import nipype.interfaces.io as nio\n",
    "import os\n",
    "import nipype.interfaces.freesurfer as fs\n",
    "from nipype import IdentityInterface\n",
    "\n",
    "subjects_dir = '/home/data/madlab/surfaces/wmaze'\n",
    "work_dir = '/scratch/madlab/wmaze/regions_workdir'\n",
    "sink_dir = '/home/data/madlab/data/mri/wmaze/roi_analysis/mask'\n",
    "\n",
    "sids = ['WMAZE_001', 'WMAZE_002', 'WMAZE_004', 'WMAZE_005', 'WMAZE_006', 'WMAZE_007',\n",
    "        'WMAZE_008', 'WMAZE_009', 'WMAZE_010', 'WMAZE_012', 'WMAZE_017', 'WMAZE_018',\n",
    "        'WMAZE_019', 'WMAZE_020', 'WMAZE_021', 'WMAZE_022', 'WMAZE_023', 'WMAZE_024',\n",
    "        'WMAZE_026', 'WMAZE_027']\n",
    "\n",
    "wf = pe.Workflow(name = 'wf')\n",
    "wf.base_dir = work_dir\n",
    "\n",
    "# Node: subject_iterable\n",
    "subj_iterable = pe.Node(IdentityInterface(fields = ['subject_id'], \n",
    "                                          mandatory_inputs = True),\n",
    "                        name = 'subj_iterable')\n",
    "subj_iterable.iterables = ('subject_id', sids)\n",
    "\n",
    "info = dict(ref_epi_file = [['subject_id']],\n",
    "            bbreg_xfm = [['subject_id']],\n",
    "            aparc_aseg = [['subject_id']])\n",
    "\n",
    "# Node: Datagrabber\n",
    "datasource = pe.Node(nio.DataGrabber(infields = ['subject_id'],\n",
    "                                     outfields = info.keys()),\n",
    "                     name = 'datasource')\n",
    "datasource.inputs.base_directory = os.path.abspath('/home/data/madlab/')\n",
    "datasource.inputs.field_template = dict(ref_epi_file = 'data/mri/wmaze/preproc/%s/ref/*.nii.gz',\n",
    "                                        bbreg_xfm = 'data/mri/wmaze/preproc/%s/bbreg/_fs_register0/*.dat',\n",
    "                                        aparc_aseg = 'surfaces/wmaze/%s/mri/aparc+aseg.mgz')\n",
    "datasource.inputs.template = '*'\n",
    "datasource.inputs.template_args = info\n",
    "datasource.inputs.sort_filelist = True\n",
    "datasource.inputs.ignore_exception = False\n",
    "datasource.inputs.raise_on_empty = True\n",
    "wf.connect(subj_iterable, 'subject_id', datasource, 'subject_id')\n",
    "\n",
    "#### subj_iterable (subject_id) ----> datasource (subject_id)\n",
    "\n",
    "\n",
    "# MapNode: Create binarized ROI masks\n",
    "anat_mask = pe.MapNode(fs.Binarize(),\n",
    "                       iterfield = ['match', 'binary_file'], \n",
    "                       name = 'anat_mask')\n",
    "anat_mask.inputs.match = [[17],[53], #hippocampus\n",
    "                          [1026,1014],[2026,2155]] #rostralanteriorcingulate & medialorbitofrontal \n",
    "anat_mask.inputs.binary_file = ['lh-hippocampus.nii.gz','rh-hippocampus.nii.gz', \n",
    "                                'lh-mPFC.nii.gz', 'rh-mPFC.nii.gz']\n",
    "wf.connect(datasource, 'aparc_aseg', anat_mask, 'in_file')\n",
    "\n",
    "#### datasource (aparc_aseg) ----> anat_mask (in_file)\n",
    "\n",
    "\n",
    "# MapNode: Transform the masks to 1st volume of 1st run (EPI space)\n",
    "anatmask_xfm = pe.MapNode(fs.ApplyVolTransform(inverse = True,\n",
    "                                               interp = 'nearest'),\n",
    "                          iterfield = ['target_file'],\n",
    "                          name = 'anatmask_xfm')\n",
    "anatmask_xfm.inputs.subjects_dir = subjects_dir\n",
    "wf.connect(datasource, 'ref_epi_file', anatmask_xfm, 'source_file')\n",
    "wf.connect(datasource, 'bbreg_xfm', anatmask_xfm, 'reg_file')\n",
    "wf.connect(anat_mask, 'binary_file', anatmask_xfm, 'target_file')\n",
    "\n",
    "#### datasource (ref_epi_file) ----> anatmask_xfm (source_file)\n",
    "#### datasource (bbreg_xfm) ----> anatmask_xfm (reg_file)\n",
    "#### datasource (binary_file) ----> anatmask_xfm (target_file)\n",
    "\n",
    "\n",
    "# Node: Datasink\n",
    "sinker = pe.Node(nio.DataSink(infields = None),\n",
    "                 name = \"sinker\")\n",
    "sinker.inputs._outputs = {}\n",
    "sinker.inputs.base_directory = sink_dir\n",
    "sinker.inputs.ignore_exception = False\n",
    "sinker.inputs.parameterization = True\n",
    "sinker.inputs.remove_dest_dir = False\n",
    "wf.connect(anatmask_xfm, 'transformed_file', sinker, 'anat_masks')\n",
    "\n",
    "#### anatmask_xfm (transformed_file) ----> sinker (anat_masks)\n",
    "\n",
    "wf.run(plugin = 'LSF', plugin_args = {'bsub_args': '-q PQ_madlab'})"
   ]
  },
  {
   "cell_type": "markdown",
   "metadata": {},
   "source": [
    "### Creation of HPC and putamen masks"
   ]
  },
  {
   "cell_type": "code",
   "execution_count": null,
   "metadata": {
    "collapsed": false,
    "scrolled": true
   },
   "outputs": [],
   "source": [
    "import nipype.pipeline as pe\n",
    "import nipype.interfaces.io as nio\n",
    "from nipype.interfaces.utility import Merge\n",
    "import os\n",
    "import nipype.interfaces.freesurfer as fs\n",
    "from nipype import IdentityInterface\n",
    "\n",
    "subjects_dir = '/home/data/madlab/surfaces/wmaze'\n",
    "work_dir = '/scratch/madlab/wmaze/regions_workdir'\n",
    "sink_dir = '/home/data/madlab/data/mri/wmaze/roi_analysis/mask'\n",
    "\n",
    "sids = ['WMAZE_001', 'WMAZE_002', 'WMAZE_004', 'WMAZE_005', 'WMAZE_006', 'WMAZE_007',\n",
    "        'WMAZE_008', 'WMAZE_009', 'WMAZE_010', 'WMAZE_012', 'WMAZE_017', 'WMAZE_018',\n",
    "        'WMAZE_019', 'WMAZE_020', 'WMAZE_021', 'WMAZE_022', 'WMAZE_023', 'WMAZE_024',\n",
    "        'WMAZE_026', 'WMAZE_027']\n",
    "\n",
    "wf = pe.Workflow(name = 'wf')\n",
    "wf.base_dir = work_dir\n",
    "\n",
    "# Node: subject_iterable\n",
    "subj_iterable = pe.Node(IdentityInterface(fields = ['subject_id'], \n",
    "                                          mandatory_inputs = True),\n",
    "                        name = 'subj_iterable')\n",
    "subj_iterable.iterables = ('subject_id', sids)\n",
    "\n",
    "info = dict(ref_epi_file = [['subject_id']],\n",
    "            bbreg_xfm = [['subject_id']],\n",
    "            aparc_aseg = [['subject_id']])\n",
    "\n",
    "# Node: Datagrabber\n",
    "datasource = pe.Node(nio.DataGrabber(infields = ['subject_id'],\n",
    "                                     outfields = info.keys()),\n",
    "                     name = 'datasource')\n",
    "datasource.inputs.base_directory = os.path.abspath('/home/data/madlab/')\n",
    "datasource.inputs.field_template = dict(ref_epi_file = 'data/mri/wmaze/preproc/%s/ref/*.nii.gz',\n",
    "                                        # Boundary-based registration matrix from Freesurfer\n",
    "                                        bbreg_xfm = 'data/mri/wmaze/preproc/%s/bbreg/_fs_register0/*.dat',\n",
    "                                        # aparc_aseg from the Lausanne atlas\n",
    "                                        aparc_aseg = 'surfaces/wmaze/%s/mri/lausanne2008_250_aparc+aseg.mgz')\n",
    "datasource.inputs.template = '*'\n",
    "datasource.inputs.template_args = info\n",
    "datasource.inputs.sort_filelist = True\n",
    "datasource.inputs.ignore_exception = False\n",
    "datasource.inputs.raise_on_empty = True\n",
    "wf.connect(subj_iterable, 'subject_id', datasource, 'subject_id')\n",
    "\n",
    "#### subj_iterable (subject_id) ----> datasource (subject_id)\n",
    "\n",
    "\n",
    "# MapNode: Create binarized ROI masks\n",
    "anat_mask = pe.MapNode(fs.Binarize(),\n",
    "                       iterfield = ['match', 'binary_file'], \n",
    "                       name = 'anat_mask')\n",
    "# Using labels from the Lausanne atlas (for dlPFC)\n",
    "anat_mask.inputs.match = [[1160,1161,1163],[2161,2162,2163]]  \n",
    "# Name of the binary output volume(s) \n",
    "anat_mask.inputs.binary_file = ['lh-dlPFC_lausanne.nii.gz', 'rh-dlPFC_lausanne.nii.gz']\n",
    "wf.connect(datasource, 'aparc_aseg', anat_mask, 'in_file')\n",
    "\n",
    "#### datasource (aparc_aseg) ----> anat_mask (in_file)\n",
    "\n",
    "\n",
    "# MapNode: Transform the masks to 1st volume of 1st run (EPI space)\n",
    "anatmask_xfm = pe.MapNode(fs.ApplyVolTransform(inverse = True,\n",
    "                                            interp = 'nearest'),\n",
    "                          iterfield = ['target_file'],\n",
    "                          name = 'anatmask_xfm')\n",
    "anatmask_xfm.inputs.subjects_dir = subjects_dir\n",
    "wf.connect(datasource, 'ref_epi_file', anatmask_xfm, 'source_file')\n",
    "wf.connect(datasource, 'bbreg_xfm', anatmask_xfm, 'reg_file')\n",
    "wf.connect(anat_mask, 'binary_file', anatmask_xfm, 'target_file')\n",
    "\n",
    "#### datasource (ref_epi_file) ----> anatmask_xfm (source_file)\n",
    "#### datasource (bbreg_xfm) ----> anatmask_xfm (reg_file)\n",
    "#### datasource (binary_file) ----> anatmask_xfm (target_file)\n",
    "\n",
    "\n",
    "# Node: Datasink\n",
    "sinker = pe.Node(nio.DataSink(infields = None),\n",
    "                 name = \"sinker\")\n",
    "sinker.inputs._outputs = {}\n",
    "sinker.inputs.base_directory = sink_dir\n",
    "sinker.inputs.ignore_exception = False\n",
    "sinker.inputs.parameterization = True\n",
    "sinker.inputs.remove_dest_dir = False\n",
    "wf.connect(anatmask_xfm, 'transformed_file', sinker, 'anat_masks')\n",
    "\n",
    "#### anatmask_xfm (transformed_file) ----> sinker (anat_masks)\n",
    "\n",
    "wf.run(plugin = 'LSF', plugin_args = {'bsub_args': '-q PQ_madlab'})"
   ]
  },
  {
   "cell_type": "code",
   "execution_count": null,
   "metadata": {
    "collapsed": false
   },
   "outputs": [],
   "source": [
    "%%bash\n",
    "\n",
    "bjobs"
   ]
  },
  {
   "cell_type": "markdown",
   "metadata": {},
   "source": [
    "### Use Glob to grab all newly created anatomy masks and 2nd lvl cope files"
   ]
  },
  {
   "cell_type": "code",
   "execution_count": 4,
   "metadata": {
    "collapsed": false
   },
   "outputs": [],
   "source": [
    "from glob import glob\n",
    "\n",
    "sids = ['WMAZE_001', 'WMAZE_002', 'WMAZE_004', 'WMAZE_005', 'WMAZE_006', \n",
    "        'WMAZE_007', 'WMAZE_008', 'WMAZE_009', 'WMAZE_010', 'WMAZE_012', \n",
    "        'WMAZE_017', 'WMAZE_018', 'WMAZE_019', 'WMAZE_020', 'WMAZE_021', \n",
    "        'WMAZE_022', 'WMAZE_023', 'WMAZE_024', 'WMAZE_026', 'WMAZE_027']\n",
    "\n",
    "proj_dir = '/home/data/madlab/data/mri/wmaze'\n",
    " \n",
    "mask_filenames = []\n",
    "cope_files = []\n",
    "\n",
    "for SID in sids:\n",
    "    mask_filenames_glob = glob(proj_dir + '/roi_analysis/mask/anat_masks/_subject_id_' + SID + '/_anatmask_xfm*/*')\n",
    "    mask_filenames.append(mask_filenames_glob)\n",
    "\n",
    "    subjcopes_glob = glob(proj_dir + '/scndlvl/wmaze_MRthesis/' + SID + '/fixedfx/cope_*')\n",
    "    cope_files.append(subjcopes_glob)\n"
   ]
  },
  {
   "cell_type": "code",
   "execution_count": 3,
   "metadata": {
    "collapsed": false
   },
   "outputs": [
    {
     "name": "stdout",
     "output_type": "stream",
     "text": [
      "/home/data/madlab/data/mri/wmaze/roi_analysis/mask/anat_masks/_subject_id_WMAZE_001/_anatmask_xfm0/lh-hippocampus_warped.nii.gz\n",
      "/home/data/madlab/data/mri/wmaze/roi_analysis/mask/anat_masks/_subject_id_WMAZE_001/_anatmask_xfm0/lh_caudate_anat_mask_warped.nii.gz\n",
      "/home/data/madlab/data/mri/wmaze/roi_analysis/mask/anat_masks/_subject_id_WMAZE_001/_anatmask_xfm0/rh_caudate_anat_mask_warped.nii.gz\n",
      "/home/data/madlab/data/mri/wmaze/roi_analysis/mask/anat_masks/_subject_id_WMAZE_001/_anatmask_xfm0/lh-dlPFC_warped.nii.gz\n",
      "/home/data/madlab/data/mri/wmaze/roi_analysis/mask/anat_masks/_subject_id_WMAZE_001/_anatmask_xfm0/lh-dlPFC_warped_warped.nii.gz\n",
      "/home/data/madlab/data/mri/wmaze/roi_analysis/mask/anat_masks/_subject_id_WMAZE_001/_anatmask_xfm0/lh-dlPFC_lausanne_warped.nii.gz\n",
      "/home/data/madlab/data/mri/wmaze/roi_analysis/mask/anat_masks/_subject_id_WMAZE_001/_anatmask_xfm0/rh-dlPFC_warped_warped.nii.gz\n",
      "/home/data/madlab/data/mri/wmaze/roi_analysis/mask/anat_masks/_subject_id_WMAZE_001/_anatmask_xfm0/lh-putamen_warped.nii.gz\n",
      "/home/data/madlab/data/mri/wmaze/roi_analysis/mask/anat_masks/_subject_id_WMAZE_001/_anatmask_xfm1/rh-hippocampus_warped.nii.gz\n",
      "/home/data/madlab/data/mri/wmaze/roi_analysis/mask/anat_masks/_subject_id_WMAZE_001/_anatmask_xfm1/rh-dlPFC_warped.nii.gz\n",
      "/home/data/madlab/data/mri/wmaze/roi_analysis/mask/anat_masks/_subject_id_WMAZE_001/_anatmask_xfm1/rh-dlPFC_lausanne_warped.nii.gz\n",
      "/home/data/madlab/data/mri/wmaze/roi_analysis/mask/anat_masks/_subject_id_WMAZE_001/_anatmask_xfm1/rh-putamen_warped.nii.gz\n",
      "/home/data/madlab/data/mri/wmaze/roi_analysis/mask/anat_masks/_subject_id_WMAZE_001/_anatmask_xfm2/lh-caudate_warped.nii.gz\n",
      "/home/data/madlab/data/mri/wmaze/roi_analysis/mask/anat_masks/_subject_id_WMAZE_001/_anatmask_xfm3/rh-caudate_warped.nii.gz\n",
      "/home/data/madlab/data/mri/wmaze/roi_analysis/mask/anat_masks/_subject_id_WMAZE_001/_anatmask_xfm4/lh-dlPFC_warped.nii.gz\n",
      "/home/data/madlab/data/mri/wmaze/roi_analysis/mask/anat_masks/_subject_id_WMAZE_001/_anatmask_xfm5/rh-dlPFC_warped.nii.gz\n"
     ]
    }
   ],
   "source": [
    "print(mask_filenames[0][0]) #lh-hippocampus*\n",
    "print(mask_filenames[0][1]) #lh-caudate_anat*\n",
    "print(mask_filenames[0][2]) #rh-caudate_anat*\n",
    "print(mask_filenames[0][3]) #old lh-dlpfc\n",
    "print(mask_filenames[0][4]) #old lh-dlpfc2\n",
    "print(mask_filenames[0][5]) #lausanne lh-dlpfc*\n",
    "print(mask_filenames[0][6]) #old rh-dlPFC\n",
    "print(mask_filenames[0][7]) #rh-hippocampus*\n",
    "print(mask_filenames[0][8]) #old rh-dlPFC2\n",
    "print(mask_filenames[0][9]) #rh-dlPFC_lausanne*\n",
    "print(mask_filenames[0][10]) #old rh-caudate\n",
    "print(mask_filenames[0][11]) #lh-dlpfc\n",
    "print(mask_filenames[0][12]) #rh-dlpfc2 \n",
    "print(mask_filenames[0][13]) #old dlPFC\n",
    "print(mask_filenames[0][14]) #lh-mPFC*\n",
    "print(mask_filenames[0][15]) #rh-mPFC*\n"
   ]
  },
  {
   "cell_type": "markdown",
   "metadata": {},
   "source": [
    "### Use binarized mask to obtain activation in left & right hemisphere for each region of interest"
   ]
  },
  {
   "cell_type": "code",
   "execution_count": 4,
   "metadata": {
    "collapsed": false
   },
   "outputs": [],
   "source": [
    "import nibabel as nb\n",
    "import pandas as pd\n",
    "import numpy as np\n",
    "\n",
    "\n",
    "#Dictionary containing multiple arrays referenced by keywords\n",
    "all_data = {'subjid':[],\n",
    "            'lhhp_Atrials':[],'rhhp_Atrials':[],'lhhp_Btrials':[],'rhhp_Btrials':[],\n",
    "            'lhhp_Ctrials':[],'rhhp_Ctrials':[],'lhhp_BLtrials':[],'rhhp_BLtrials':[],\n",
    "            'lhhp_ACtrials':[],'rhhp_ACtrials':[],\n",
    "            'lhcaudate_Atrials':[],'rhcaudate_Atrials':[],'lhcaudate_Btrials':[],'rhcaudate_Btrials':[],\n",
    "            'lhcaudate_Ctrials':[],'rhcaudate_Ctrials':[],'lhcaudate_BLtrials':[],'rhcaudate_BLtrials':[],\n",
    "            'lhcaudate_ACtrials':[],'rhcaudate_ACtrials':[],\n",
    "            'lhdlPFC_Atrials':[],'rhdlPFC_Atrials':[],'lhdlPFC_Btrials':[],'rhdlPFC_Btrials':[],\n",
    "            'lhdlPFC_Ctrials':[],'rhdlPFC_Ctrials':[],'lhdlPFC_BLtrials':[],'rhdlPFC_BLtrials':[],\n",
    "            'lhdlPFC_ACtrials':[],'rhdlPFC_ACtrials':[],\n",
    "            'lhmPFC_Atrials':[],'rhmPFC_Atrials':[], 'lhmPFC_Btrials':[],'rhmPFC_Btrials':[],\n",
    "            'lhmPFC_Ctrials':[],'rhmPFC_Ctrials':[], 'lhmPFC_BLtrials':[],'rhmPFC_BLtrials':[],\n",
    "            'lhmPFC_ACtrials':[],'rhmPFC_ACtrials':[]}\n",
    "\n",
    "# For each interation in the length of subject ids\n",
    "for i in range(len(sids)):\n",
    "    #Append the subject id\n",
    "    all_data['subjid'].append(sids[i])\n",
    "    #Load the left and right hippocampus mask files using Nibabel \n",
    "    lh_hp_img = nb.load(mask_filenames[i][0])\n",
    "    rh_hp_img = nb.load(mask_filenames[i][7])\n",
    "    #Load left and right caudate mask files\n",
    "    lh_caudate_img = nb.load(mask_filenames[i][1])\n",
    "    rh_caudate_img = nb.load(mask_filenames[i][2])\n",
    "    #Load left and right dlPFC masks\n",
    "    lh_dlPFC_img = nb.load(mask_filenames[i][5])\n",
    "    rh_dlPFC_img = nb.load(mask_filenames[i][9])\n",
    "    #Load left and right mPFC masks\n",
    "    lh_mPFC_img = nb.load(mask_filenames[i][14])\n",
    "    rh_mPFC_img = nb.load(mask_filenames[i][15])\n",
    "    \n",
    "    #Load copes for individual trial types\n",
    "    A_trials_img = nb.load(cope_files[i][1])\n",
    "    B_trials_img = nb.load(cope_files[i][2])\n",
    "    C_trials_img = nb.load(cope_files[i][3])\n",
    "    BL_trials_img = nb.load(cope_files[i][4])\n",
    "    AC_trials_img = nb.load(cope_files[i][5])\n",
    "    \n",
    "    \n",
    "    #Left Hippocampus\n",
    "    # A Trials\n",
    "    lh_hp_A_trials_data = A_trials_img.get_data()[lh_hp_img.get_data() > 0.]\n",
    "    all_data['lhhp_Atrials'].append(np.mean(lh_hp_A_trials_data))\n",
    "    # B Trials\n",
    "    lh_hp_B_trials_data = B_trials_img.get_data()[lh_hp_img.get_data() > 0.]\n",
    "    all_data['lhhp_Btrials'].append(np.mean(lh_hp_B_trials_data))\n",
    "    # C Trials\n",
    "    lh_hp_C_trials_data = C_trials_img.get_data()[lh_hp_img.get_data() > 0.]\n",
    "    all_data['lhhp_Ctrials'].append(np.mean(lh_hp_C_trials_data))\n",
    "    # BL Trials\n",
    "    lh_hp_BL_trials_data = BL_trials_img.get_data()[lh_hp_img.get_data() > 0.]\n",
    "    all_data['lhhp_BLtrials'].append(np.mean(lh_hp_BL_trials_data))\n",
    "    # AC Trials\n",
    "    lh_hp_AC_trials_data = AC_trials_img.get_data()[lh_hp_img.get_data() > 0.]\n",
    "    all_data['lhhp_ACtrials'].append(np.mean(lh_hp_AC_trials_data)) \n",
    "    \n",
    "    #Right Hippocampus\n",
    "    # A Trials\n",
    "    rh_hp_A_trials_data = A_trials_img.get_data()[rh_hp_img.get_data() > 0.]\n",
    "    all_data['rhhp_Atrials'].append(np.mean(rh_hp_A_trials_data))\n",
    "    # B Trials\n",
    "    rh_hp_B_trials_data = B_trials_img.get_data()[rh_hp_img.get_data() > 0.]\n",
    "    all_data['rhhp_Btrials'].append(np.mean(rh_hp_B_trials_data))\n",
    "    # C Trials\n",
    "    rh_hp_C_trials_data = C_trials_img.get_data()[rh_hp_img.get_data() > 0.]\n",
    "    all_data['rhhp_Ctrials'].append(np.mean(rh_hp_C_trials_data))\n",
    "    # BL Trials\n",
    "    rh_hp_BL_trials_data = BL_trials_img.get_data()[rh_hp_img.get_data() > 0.]\n",
    "    all_data['rhhp_BLtrials'].append(np.mean(rh_hp_BL_trials_data))\n",
    "    # AC Trials\n",
    "    rh_hp_AC_trials_data = AC_trials_img.get_data()[rh_hp_img.get_data() > 0.]\n",
    "    all_data['rhhp_ACtrials'].append(np.mean(rh_hp_AC_trials_data))\n",
    "    \n",
    "    \n",
    "    #Left Caudate\n",
    "    # A Trials\n",
    "    lh_caudate_A_trials_data = A_trials_img.get_data()[lh_caudate_img.get_data() > 0.]\n",
    "    all_data['lhcaudate_Atrials'].append(np.mean(lh_caudate_A_trials_data))\n",
    "    # B Trials\n",
    "    lh_caudate_B_trials_data = B_trials_img.get_data()[lh_caudate_img.get_data() > 0.]\n",
    "    all_data['lhcaudate_Btrials'].append(np.mean(lh_caudate_B_trials_data))\n",
    "    #C Trials\n",
    "    lh_caudate_C_trials_data = C_trials_img.get_data()[lh_caudate_img.get_data() > 0.]\n",
    "    all_data['lhcaudate_Ctrials'].append(np.mean(lh_caudate_C_trials_data))\n",
    "    # BL Trials\n",
    "    lh_caudate_BL_trials_data = BL_trials_img.get_data()[lh_caudate_img.get_data() > 0.]\n",
    "    all_data['lhcaudate_BLtrials'].append(np.mean(lh_caudate_BL_trials_data))\n",
    "    # AC Trials\n",
    "    lh_caudate_AC_trials_data = AC_trials_img.get_data()[lh_caudate_img.get_data() > 0.]\n",
    "    all_data['lhcaudate_ACtrials'].append(np.mean(lh_caudate_AC_trials_data))  \n",
    "    \n",
    "    #Right Caudate\n",
    "    # A Trials\n",
    "    rh_caudate_A_trials_data = A_trials_img.get_data()[rh_caudate_img.get_data() > 0.]\n",
    "    all_data['rhcaudate_Atrials'].append(np.mean(rh_caudate_A_trials_data))\n",
    "    # B Trials\n",
    "    rh_caudate_B_trials_data = B_trials_img.get_data()[rh_caudate_img.get_data() > 0.]\n",
    "    all_data['rhcaudate_Btrials'].append(np.mean(rh_caudate_B_trials_data))\n",
    "    # C Trials\n",
    "    rh_caudate_C_trials_data = C_trials_img.get_data()[rh_caudate_img.get_data() > 0.]\n",
    "    all_data['rhcaudate_Ctrials'].append(np.mean(rh_caudate_C_trials_data))\n",
    "    # BL Trials\n",
    "    rh_caudate_BL_trials_data = BL_trials_img.get_data()[rh_caudate_img.get_data() > 0.]\n",
    "    all_data['rhcaudate_BLtrials'].append(np.mean(rh_caudate_BL_trials_data))\n",
    "    # AC Trials\n",
    "    rh_caudate_AC_trials_data = AC_trials_img.get_data()[rh_caudate_img.get_data() > 0.]\n",
    "    all_data['rhcaudate_ACtrials'].append(np.mean(rh_caudate_AC_trials_data))   \n",
    "\n",
    "    \n",
    "    #Left dlPFC\n",
    "    #A Trials\n",
    "    lh_dlPFC_A_trials_data = A_trials_img.get_data()[lh_dlPFC_img.get_data() > 0.]\n",
    "    all_data['lhdlPFC_Atrials'].append(np.mean(lh_dlPFC_A_trials_data))\n",
    "    # B Trials\n",
    "    lh_dlPFC_B_trials_data = B_trials_img.get_data()[lh_dlPFC_img.get_data() > 0.]\n",
    "    all_data['lhdlPFC_Btrials'].append(np.mean(lh_dlPFC_B_trials_data))\n",
    "    # C Trials\n",
    "    lh_dlPFC_C_trials_data = C_trials_img.get_data()[lh_dlPFC_img.get_data() > 0.]\n",
    "    all_data['lhdlPFC_Ctrials'].append(np.mean(lh_dlPFC_C_trials_data))\n",
    "    # BL Trials\n",
    "    lh_dlPFC_BL_trials_data = BL_trials_img.get_data()[lh_dlPFC_img.get_data() > 0.]\n",
    "    all_data['lhdlPFC_BLtrials'].append(np.mean(lh_dlPFC_BL_trials_data))\n",
    "    # AC Trials\n",
    "    lh_dlPFC_AC_trials_data = AC_trials_img.get_data()[lh_dlPFC_img.get_data() > 0.]\n",
    "    all_data['lhdlPFC_ACtrials'].append(np.mean(lh_dlPFC_AC_trials_data))   \n",
    "    \n",
    "    #Right dlPFC\n",
    "    # A Trials\n",
    "    rh_dlPFC_A_trials_data = A_trials_img.get_data()[rh_dlPFC_img.get_data() > 0.]\n",
    "    all_data['rhdlPFC_Atrials'].append(np.mean(rh_dlPFC_A_trials_data))\n",
    "    # B Trials\n",
    "    rh_dlPFC_B_trials_data = B_trials_img.get_data()[rh_dlPFC_img.get_data() > 0.]\n",
    "    all_data['rhdlPFC_Btrials'].append(np.mean(rh_dlPFC_B_trials_data))\n",
    "    # C Trials\n",
    "    rh_dlPFC_C_trials_data = C_trials_img.get_data()[rh_dlPFC_img.get_data() > 0.]\n",
    "    all_data['rhdlPFC_Ctrials'].append(np.mean(rh_dlPFC_C_trials_data))\n",
    "    # BL Trials\n",
    "    rh_dlPFC_BL_trials_data = BL_trials_img.get_data()[rh_dlPFC_img.get_data() > 0.]\n",
    "    all_data['rhdlPFC_BLtrials'].append(np.mean(rh_dlPFC_BL_trials_data))\n",
    "    # AC Trials\n",
    "    rh_dlPFC_AC_trials_data = AC_trials_img.get_data()[rh_dlPFC_img.get_data() > 0.]\n",
    "    all_data['rhdlPFC_ACtrials'].append(np.mean(rh_dlPFC_AC_trials_data))     \n",
    " \n",
    "    \n",
    "    #Left mPFC\n",
    "    # A Trials\n",
    "    lh_mPFC_A_trials_data = A_trials_img.get_data()[lh_mPFC_img.get_data() > 0.]\n",
    "    all_data['lhmPFC_Atrials'].append(np.mean(lh_mPFC_A_trials_data))\n",
    "    # B Trials\n",
    "    lh_mPFC_B_trials_data = B_trials_img.get_data()[lh_mPFC_img.get_data() > 0.]\n",
    "    all_data['lhmPFC_Btrials'].append(np.mean(lh_mPFC_B_trials_data))\n",
    "    # C Trials\n",
    "    lh_mPFC_C_trials_data = C_trials_img.get_data()[lh_mPFC_img.get_data() > 0.]\n",
    "    all_data['lhmPFC_Ctrials'].append(np.mean(lh_mPFC_C_trials_data))\n",
    "    # BL Trials\n",
    "    lh_mPFC_BL_trials_data = BL_trials_img.get_data()[lh_mPFC_img.get_data() > 0.]\n",
    "    all_data['lhmPFC_BLtrials'].append(np.mean(lh_mPFC_BL_trials_data))\n",
    "    # AC Trials\n",
    "    lh_mPFC_AC_trials_data = AC_trials_img.get_data()[lh_mPFC_img.get_data() > 0.]\n",
    "    all_data['lhmPFC_ACtrials'].append(np.mean(lh_mPFC_AC_trials_data))  \n",
    "    \n",
    "    #Right mPFC\n",
    "    # A Trials\n",
    "    rh_mPFC_A_trials_data = A_trials_img.get_data()[rh_mPFC_img.get_data() > 0.]\n",
    "    all_data['rhmPFC_Atrials'].append(np.mean(rh_mPFC_A_trials_data))\n",
    "    # B Trials\n",
    "    rh_mPFC_B_trials_data = B_trials_img.get_data()[rh_mPFC_img.get_data() > 0.]\n",
    "    all_data['rhmPFC_Btrials'].append(np.mean(rh_mPFC_B_trials_data))\n",
    "    # C Trials\n",
    "    rh_mPFC_C_trials_data = C_trials_img.get_data()[rh_mPFC_img.get_data() > 0.]\n",
    "    all_data['rhmPFC_Ctrials'].append(np.mean(rh_mPFC_C_trials_data))\n",
    "    # BL Trials\n",
    "    rh_mPFC_BL_trials_data = BL_trials_img.get_data()[rh_mPFC_img.get_data() > 0.]\n",
    "    all_data['rhmPFC_BLtrials'].append(np.mean(rh_mPFC_BL_trials_data))\n",
    "    # AC Trials\n",
    "    rh_mPFC_AC_trials_data = AC_trials_img.get_data()[rh_mPFC_img.get_data() > 0.]\n",
    "    all_data['rhmPFC_ACtrials'].append(np.mean(rh_mPFC_AC_trials_data))      \n",
    "           \n",
    "all_data_df = pd.DataFrame(all_data)"
   ]
  },
  {
   "cell_type": "markdown",
   "metadata": {},
   "source": [
    "### Combine the two hemispheres to create one regional average"
   ]
  },
  {
   "cell_type": "code",
   "execution_count": 5,
   "metadata": {
    "collapsed": true
   },
   "outputs": [],
   "source": [
    "#Hippocampus average for each trial type\n",
    "all_data_df['hp_Atrials'] = (all_data_df['lhhp_Atrials'] + all_data_df['rhhp_Atrials'])/2.\n",
    "all_data_df['hp_Btrials'] = (all_data_df['lhhp_Btrials'] + all_data_df['rhhp_Btrials'])/2.\n",
    "all_data_df['hp_Ctrials'] = (all_data_df['lhhp_Ctrials'] + all_data_df['rhhp_Ctrials'])/2.\n",
    "all_data_df['hp_BLtrials'] = (all_data_df['lhhp_BLtrials'] + all_data_df['rhhp_BLtrials'])/2.\n",
    "all_data_df['hp_ACtrials'] = (all_data_df['lhhp_ACtrials'] + all_data_df['rhhp_ACtrials'])/2.\n",
    "\n",
    "#Caudate average for each trial type\n",
    "all_data_df['caudate_Atrials'] = (all_data_df['lhcaudate_Atrials'] + all_data_df['rhcaudate_Atrials'])/2.\n",
    "all_data_df['caudate_Btrials'] = (all_data_df['lhcaudate_Btrials'] + all_data_df['rhcaudate_Btrials'])/2.\n",
    "all_data_df['caudate_Ctrials'] = (all_data_df['lhcaudate_Ctrials'] + all_data_df['rhcaudate_Ctrials'])/2.\n",
    "all_data_df['caudate_BLtrials'] = (all_data_df['lhcaudate_BLtrials'] + all_data_df['rhcaudate_BLtrials'])/2.\n",
    "all_data_df['caudate_ACtrials'] = (all_data_df['lhcaudate_ACtrials'] + all_data_df['rhcaudate_ACtrials'])/2.\n",
    "\n",
    "#dlPFC average for each trial type\n",
    "all_data_df['dlPFC_Atrials'] = (all_data_df['lhdlPFC_Atrials'] + all_data_df['rhdlPFC_Atrials'])/2.\n",
    "all_data_df['dlPFC_Btrials'] = (all_data_df['lhdlPFC_Btrials'] + all_data_df['rhdlPFC_Btrials'])/2.\n",
    "all_data_df['dlPFC_Ctrials'] = (all_data_df['lhdlPFC_Ctrials'] + all_data_df['rhdlPFC_Ctrials'])/2.\n",
    "all_data_df['dlPFC_BLtrials'] = (all_data_df['lhdlPFC_BLtrials'] + all_data_df['rhdlPFC_BLtrials'])/2.\n",
    "all_data_df['dlPFC_ACtrials'] = (all_data_df['lhdlPFC_ACtrials'] + all_data_df['rhdlPFC_ACtrials'])/2.\n",
    "\n",
    "#mPFC average for each trial type\n",
    "all_data_df['mPFC_Atrials'] = (all_data_df['lhmPFC_Atrials'] + all_data_df['rhmPFC_Atrials'])/2.\n",
    "all_data_df['mPFC_Btrials'] = (all_data_df['lhmPFC_Btrials'] + all_data_df['rhmPFC_Btrials'])/2.\n",
    "all_data_df['mPFC_Ctrials'] = (all_data_df['lhmPFC_Ctrials'] + all_data_df['rhmPFC_Ctrials'])/2.\n",
    "all_data_df['mPFC_BLtrials'] = (all_data_df['lhmPFC_BLtrials'] + all_data_df['rhmPFC_BLtrials'])/2.\n",
    "all_data_df['mPFC_ACtrials'] = (all_data_df['lhmPFC_ACtrials'] + all_data_df['rhmPFC_ACtrials'])/2."
   ]
  },
  {
   "cell_type": "markdown",
   "metadata": {},
   "source": [
    "## Hippocampus Activation: Fixed vs. Conditional Trials"
   ]
  },
  {
   "cell_type": "code",
   "execution_count": 6,
   "metadata": {
    "collapsed": false
   },
   "outputs": [
    {
     "name": "stdout",
     "output_type": "stream",
     "text": [
      "A_trials mean\n",
      "-1.0906662086\n",
      "B_trials mean\n",
      "-1.80922735743\n",
      "C_trials mean\n",
      "-1.34472346334\n",
      "T-test: Hippocampus A_trials vs. C_trials\n",
      "Ttest_relResult(statistic=1.6632754371848633, pvalue=0.11266500363308546)\n",
      "T-test: Hippocampus AC_trials vs. B_trials\n",
      "Ttest_relResult(statistic=3.6449433466054932, pvalue=0.0017228609591771018)\n"
     ]
    }
   ],
   "source": [
    "from scipy import stats\n",
    "\n",
    "print 'A_trials mean'\n",
    "print all_data_df['hp_Atrials'].mean()\n",
    "print 'B_trials mean'\n",
    "print all_data_df['hp_Btrials'].mean()\n",
    "print 'C_trials mean'\n",
    "print all_data_df['hp_Ctrials'].mean()\n",
    "print 'T-test: Hippocampus A_trials vs. C_trials'\n",
    "print stats.ttest_rel(all_data_df['hp_Atrials'], all_data_df['hp_Ctrials'])\n",
    "print 'T-test: Hippocampus AC_trials vs. B_trials'\n",
    "print stats.ttest_rel(all_data_df['hp_ACtrials'], all_data_df['hp_Btrials'])"
   ]
  },
  {
   "cell_type": "code",
   "execution_count": 7,
   "metadata": {
    "collapsed": false
   },
   "outputs": [
    {
     "data": {
      "image/png": "[encoded data removed]",
      "text/plain": [
       "<matplotlib.figure.Figure at 0x2b11a3c40910>"
      ]
     },
     "metadata": {},
     "output_type": "display_data"
    }
   ],
   "source": [
    "import matplotlib.pyplot as plt\n",
    "\n",
    "N = 3\n",
    "conditions = ['A', 'B', 'C']\n",
    "bar_colors = ['red', 'blue', 'green']\n",
    "hp_means_allsubjs = [all_data_df['hp_Atrials'].mean(), all_data_df['hp_Btrials'].mean(), all_data_df['hp_Ctrials'].mean()]\n",
    "hp_sem_allsubjs = [all_data_df['hp_Atrials'].std()/(np.sqrt(len(sids))), \n",
    "                   all_data_df['hp_Btrials'].std()/(np.sqrt(len(sids))),\n",
    "                   all_data_df['hp_Ctrials'].std()/(np.sqrt(len(sids)))]\n",
    "\n",
    "ind = np.arange(N)\n",
    "width = 0.6\n",
    "\n",
    "fig, ax = plt.subplots()\n",
    "\n",
    "ax.spines['right'].set_color('none')\n",
    "ax.spines['top'].set_color('none')\n",
    "ax.xaxis.set_ticks_position('bottom')\n",
    "ax.yaxis.set_ticks_position('left')\n",
    "\n",
    "ax.bar(ind, hp_means_allsubjs, width, color = bar_colors, ecolor = 'black', \n",
    "       yerr = hp_sem_allsubjs, align = 'center', bottom = 0)\n",
    "#ax.boxplot([all_data_df['hp_ACtrials'],all_data_df['hp_Btrials']], positions=[1,2])\n",
    "\n",
    "ax.set_xticks(ind)\n",
    "ax.set_xticklabels(conditions)\n",
    "ax.set_ylabel(\"Arbitrary units\")\n",
    "\n",
    "plt.show()"
   ]
  },
  {
   "cell_type": "code",
   "execution_count": 8,
   "metadata": {
    "collapsed": false
   },
   "outputs": [
    {
     "data": {
      "image/png": "[encoded data removed]",
      "text/plain": [
       "<matplotlib.figure.Figure at 0x2b11a3c26dd0>"
      ]
     },
     "metadata": {},
     "output_type": "display_data"
    }
   ],
   "source": [
    "import matplotlib.pyplot as plt\n",
    "\n",
    "N = 2\n",
    "conditions = ['Fixed', 'Conditional']\n",
    "bar_colors = ['red', 'blue']\n",
    "hp_means_allsubjs = [all_data_df['hp_ACtrials'].mean(), all_data_df['hp_Btrials'].mean()]\n",
    "hp_sem_allsubjs = [all_data_df['hp_ACtrials'].std()/(np.sqrt(len(sids))), \n",
    "                   all_data_df['hp_Btrials'].std()/(np.sqrt(len(sids)))]\n",
    "\n",
    "ind = np.arange(N)\n",
    "width = 0.6\n",
    "\n",
    "fig, ax = plt.subplots()\n",
    "\n",
    "ax.spines['right'].set_color('none')\n",
    "ax.spines['top'].set_color('none')\n",
    "ax.xaxis.set_ticks_position('bottom')\n",
    "ax.yaxis.set_ticks_position('left')\n",
    "\n",
    "ax.bar(ind, hp_means_allsubjs, width, color = bar_colors, ecolor = 'black', \n",
    "       yerr = hp_sem_allsubjs, align = 'center', bottom = 0)\n",
    "#ax.boxplot([all_data_df['hp_ACtrials'],all_data_df['hp_Btrials']], positions=[1,2])\n",
    "\n",
    "ax.set_xticks(ind)\n",
    "ax.set_xticklabels(conditions)\n",
    "ax.set_ylabel(\"Arbitrary units\")\n",
    "\n",
    "plt.show()"
   ]
  },
  {
   "cell_type": "markdown",
   "metadata": {},
   "source": [
    "## Caudate: Fixed vs. Conditional Trials"
   ]
  },
  {
   "cell_type": "code",
   "execution_count": 9,
   "metadata": {
    "collapsed": false
   },
   "outputs": [
    {
     "name": "stdout",
     "output_type": "stream",
     "text": [
      "A_trials mean\n",
      "0.693030660693\n",
      "B_trials mean\n",
      "1.82463320699\n",
      "C_trials mean\n",
      "0.986012304947\n",
      "T-test: Caudate A_trials vs. C_trials\n",
      "Ttest_relResult(statistic=-0.91466579228657119, pvalue=0.37182968790053861)\n",
      "T-test: Caudate AC_trials vs. B_trials\n",
      "Ttest_relResult(statistic=-2.933738199539333, pvalue=0.0085219946069174535)\n"
     ]
    }
   ],
   "source": [
    "print 'A_trials mean'\n",
    "print all_data_df['caudate_Atrials'].mean()\n",
    "print 'B_trials mean'\n",
    "print all_data_df['caudate_Btrials'].mean()\n",
    "print 'C_trials mean'\n",
    "print all_data_df['caudate_Ctrials'].mean()\n",
    "print 'T-test: Caudate A_trials vs. C_trials'\n",
    "print stats.ttest_rel(all_data_df['caudate_Atrials'], all_data_df['caudate_Ctrials'])\n",
    "print 'T-test: Caudate AC_trials vs. B_trials'\n",
    "print stats.ttest_rel(all_data_df['caudate_ACtrials'], all_data_df['caudate_Btrials'])"
   ]
  },
  {
   "cell_type": "code",
   "execution_count": 10,
   "metadata": {
    "collapsed": false
   },
   "outputs": [
    {
     "data": {
      "image/png": "[encoded data removed]",
      "text/plain": [
       "<matplotlib.figure.Figure at 0x2b11a78e0b10>"
      ]
     },
     "metadata": {},
     "output_type": "display_data"
    }
   ],
   "source": [
    "import matplotlib.pyplot as plt\n",
    "\n",
    "N = 3\n",
    "conditions = ['A', 'B', 'C']\n",
    "bar_colors = ['red', 'blue', 'green']\n",
    "hp_means_allsubjs = [all_data_df['caudate_Atrials'].mean(), \n",
    "                     all_data_df['caudate_Btrials'].mean(), \n",
    "                     all_data_df['caudate_Ctrials'].mean()]\n",
    "hp_sem_allsubjs = [all_data_df['caudate_Atrials'].std()/(np.sqrt(len(sids))), \n",
    "                   all_data_df['caudate_Btrials'].std()/(np.sqrt(len(sids))),\n",
    "                   all_data_df['caudate_Ctrials'].std()/(np.sqrt(len(sids)))]\n",
    "\n",
    "ind = np.arange(N)\n",
    "width = 0.6\n",
    "\n",
    "fig, ax = plt.subplots()\n",
    "\n",
    "ax.spines['right'].set_color('none')\n",
    "ax.spines['top'].set_color('none')\n",
    "ax.xaxis.set_ticks_position('bottom')\n",
    "ax.yaxis.set_ticks_position('left')\n",
    "\n",
    "ax.bar(ind, hp_means_allsubjs, width, color = bar_colors, ecolor = 'black', \n",
    "       yerr = hp_sem_allsubjs, align = 'center', bottom = 0)\n",
    "#ax.boxplot([all_data_df['caudate_ACtrials'],all_data_df['caudate_Btrials']], positions=[1,2])\n",
    "\n",
    "ax.set_xticks(ind)\n",
    "ax.set_xticklabels(conditions)\n",
    "ax.set_ylabel(\"Arbitrary units\")\n",
    "\n",
    "plt.show()"
   ]
  },
  {
   "cell_type": "code",
   "execution_count": 11,
   "metadata": {
    "collapsed": false
   },
   "outputs": [
    {
     "data": {
      "image/png": "[encoded data removed]",
      "text/plain": [
       "<matplotlib.figure.Figure at 0x2b11a799a790>"
      ]
     },
     "metadata": {},
     "output_type": "display_data"
    }
   ],
   "source": [
    "import matplotlib.pyplot as plt\n",
    "\n",
    "N = 2\n",
    "conditions = ['Fixed', 'Conditional']\n",
    "bar_colors = ['red', 'blue']\n",
    "hp_means_allsubjs = [all_data_df['caudate_ACtrials'].mean(), all_data_df['caudate_Btrials'].mean()]\n",
    "hp_sem_allsubjs = [all_data_df['caudate_ACtrials'].std()/(np.sqrt(len(sids))), \n",
    "                   all_data_df['caudate_Btrials'].std()/(np.sqrt(len(sids)))]\n",
    "\n",
    "ind = np.arange(N)\n",
    "width = 0.6\n",
    "\n",
    "fig, ax = plt.subplots()\n",
    "\n",
    "ax.spines['right'].set_color('none')\n",
    "ax.spines['top'].set_color('none')\n",
    "ax.xaxis.set_ticks_position('bottom')\n",
    "ax.yaxis.set_ticks_position('left')\n",
    "\n",
    "ax.bar(ind, hp_means_allsubjs, width, color = bar_colors, ecolor = 'black', \n",
    "       yerr = hp_sem_allsubjs, align = 'center', bottom = 0)\n",
    "#ax.boxplot([all_data_df['caudate_ACtrials'],all_data_df['caudate_Btrials']], positions=[1,2])\n",
    "\n",
    "ax.set_xticks(ind)\n",
    "ax.set_xticklabels(conditions)\n",
    "ax.set_ylabel(\"Arbitrary units\")\n",
    "\n",
    "plt.show()"
   ]
  },
  {
   "cell_type": "markdown",
   "metadata": {},
   "source": [
    "## dlPFC_lausanne: Fixed vs. Conditional Trials"
   ]
  },
  {
   "cell_type": "code",
   "execution_count": 12,
   "metadata": {
    "collapsed": false,
    "scrolled": true
   },
   "outputs": [
    {
     "name": "stdout",
     "output_type": "stream",
     "text": [
      "A_trials mean\n",
      "4.38174611619\n",
      "B_trials mean\n",
      "6.06737826392\n",
      "C_trials mean\n",
      "4.37483877987\n",
      "T-test: dlPFC A_trials vs. C_trials\n",
      "Ttest_relResult(statistic=0.020366496683208328, pvalue=0.98396337337215178)\n",
      "T-test: dlPFC AC_trials vs. B_trials\n",
      "Ttest_relResult(statistic=-4.3586167435721661, pvalue=0.0003380987210662912)\n"
     ]
    }
   ],
   "source": [
    "print 'A_trials mean'\n",
    "print all_data_df['dlPFC_Atrials'].mean()\n",
    "print 'B_trials mean'\n",
    "print all_data_df['dlPFC_Btrials'].mean()\n",
    "print 'C_trials mean'\n",
    "print all_data_df['dlPFC_Ctrials'].mean()\n",
    "print 'T-test: dlPFC A_trials vs. C_trials'\n",
    "print stats.ttest_rel(all_data_df['dlPFC_Atrials'], all_data_df['dlPFC_Ctrials'])\n",
    "print 'T-test: dlPFC AC_trials vs. B_trials'\n",
    "print stats.ttest_rel(all_data_df['dlPFC_ACtrials'], all_data_df['dlPFC_Btrials'])"
   ]
  },
  {
   "cell_type": "code",
   "execution_count": 13,
   "metadata": {
    "collapsed": false
   },
   "outputs": [
    {
     "data": {
      "image/png": "[encoded data removed]",
      "text/plain": [
       "<matplotlib.figure.Figure at 0x2b11a7a50dd0>"
      ]
     },
     "metadata": {},
     "output_type": "display_data"
    }
   ],
   "source": [
    "import matplotlib.pyplot as plt\n",
    "\n",
    "N = 3\n",
    "conditions = ['A', 'B', 'C']\n",
    "bar_colors = ['red', 'blue', 'green']\n",
    "hp_means_allsubjs = [all_data_df['dlPFC_Atrials'].mean(), \n",
    "                     all_data_df['dlPFC_Btrials'].mean(), \n",
    "                     all_data_df['dlPFC_Ctrials'].mean()]\n",
    "hp_sem_allsubjs = [all_data_df['dlPFC_Atrials'].std()/(np.sqrt(len(sids))), \n",
    "                   all_data_df['dlPFC_Btrials'].std()/(np.sqrt(len(sids))),\n",
    "                   all_data_df['dlPFC_Ctrials'].std()/(np.sqrt(len(sids)))]\n",
    "\n",
    "ind = np.arange(N)\n",
    "width = 0.6\n",
    "\n",
    "fig, ax = plt.subplots()\n",
    "\n",
    "ax.spines['right'].set_color('none')\n",
    "ax.spines['top'].set_color('none')\n",
    "ax.xaxis.set_ticks_position('bottom')\n",
    "ax.yaxis.set_ticks_position('left')\n",
    "\n",
    "ax.bar(ind, hp_means_allsubjs, width, color = bar_colors, ecolor = 'black', \n",
    "       yerr = hp_sem_allsubjs, align = 'center', bottom = 0)\n",
    "#ax.boxplot([all_data_df['dlPFC_ACtrials'],all_data_df['dlPFC_Btrials']], positions=[1,2])\n",
    "\n",
    "ax.set_xticks(ind)\n",
    "ax.set_xticklabels(conditions)\n",
    "ax.set_ylabel(\"Arbitrary units\")\n",
    "\n",
    "plt.show()"
   ]
  },
  {
   "cell_type": "code",
   "execution_count": 14,
   "metadata": {
    "collapsed": false
   },
   "outputs": [
    {
     "data": {
      "image/png": "[encoded data removed]",
      "text/plain": [
       "<matplotlib.figure.Figure at 0x2b11a7a598d0>"
      ]
     },
     "metadata": {},
     "output_type": "display_data"
    }
   ],
   "source": [
    "import matplotlib.pyplot as plt\n",
    "\n",
    "N = 2\n",
    "conditions = ['Fixed', 'Conditional']\n",
    "bar_colors = ['red', 'blue']\n",
    "hp_means_allsubjs = [all_data_df['dlPFC_ACtrials'].mean(), all_data_df['dlPFC_Btrials'].mean()]\n",
    "hp_sem_allsubjs = [all_data_df['dlPFC_ACtrials'].std()/(np.sqrt(len(sids))), \n",
    "                   all_data_df['dlPFC_Btrials'].std()/(np.sqrt(len(sids)))]\n",
    "\n",
    "ind = np.arange(N)\n",
    "width = 0.6\n",
    "\n",
    "fig, ax = plt.subplots()\n",
    "\n",
    "ax.spines['right'].set_color('none')\n",
    "ax.spines['top'].set_color('none')\n",
    "ax.xaxis.set_ticks_position('bottom')\n",
    "ax.yaxis.set_ticks_position('left')\n",
    "\n",
    "ax.bar(ind, hp_means_allsubjs, width, color = bar_colors, ecolor = 'black', \n",
    "       yerr = hp_sem_allsubjs, align = 'center', bottom = 0)\n",
    "#ax.boxplot([all_data_df['dlPFC_ACtrials'],all_data_df['dlPFC_Btrials']], positions=[1,2])\n",
    "\n",
    "ax.set_xticks(ind)\n",
    "ax.set_xticklabels(conditions)\n",
    "ax.set_ylabel(\"Arbitrary units\")\n",
    "\n",
    "plt.show()"
   ]
  },
  {
   "cell_type": "markdown",
   "metadata": {},
   "source": [
    "## mPFC: Fixed vs. Conditional Trials"
   ]
  },
  {
   "cell_type": "code",
   "execution_count": 15,
   "metadata": {
    "collapsed": false
   },
   "outputs": [
    {
     "name": "stdout",
     "output_type": "stream",
     "text": [
      "A_trials mean\n",
      "-2.86271583987\n",
      "B_trials mean\n",
      "-3.72432242706\n",
      "C_trials mean\n",
      "-2.86238935345\n",
      "T-test: mPFC A_trials vs. C_trials\n",
      "Ttest_relResult(statistic=-0.0018504482254184686, pvalue=0.99854284762895662)\n",
      "T-test: mPFC AC_trials vs. B_trials\n",
      "Ttest_relResult(statistic=3.5075282394700653, pvalue=0.0023547677886569299)\n"
     ]
    }
   ],
   "source": [
    "print 'A_trials mean'\n",
    "print all_data_df['mPFC_Atrials'].mean()\n",
    "print 'B_trials mean'\n",
    "print all_data_df['mPFC_Btrials'].mean()\n",
    "print 'C_trials mean'\n",
    "print all_data_df['mPFC_Ctrials'].mean()\n",
    "print 'T-test: mPFC A_trials vs. C_trials'\n",
    "print stats.ttest_rel(all_data_df['mPFC_Atrials'], all_data_df['mPFC_Ctrials'])\n",
    "print 'T-test: mPFC AC_trials vs. B_trials'\n",
    "print stats.ttest_rel(all_data_df['mPFC_ACtrials'], all_data_df['mPFC_Btrials'])"
   ]
  },
  {
   "cell_type": "code",
   "execution_count": 16,
   "metadata": {
    "collapsed": false
   },
   "outputs": [
    {
     "data": {
      "image/png": "[encoded data removed]",
      "text/plain": [
       "<matplotlib.figure.Figure at 0x2b11a7c44050>"
      ]
     },
     "metadata": {},
     "output_type": "display_data"
    }
   ],
   "source": [
    "import matplotlib.pyplot as plt\n",
    "\n",
    "N = 3\n",
    "conditions = ['A', 'B', 'C']\n",
    "bar_colors = ['red', 'blue', 'green']\n",
    "hp_means_allsubjs = [all_data_df['mPFC_Atrials'].mean(), \n",
    "                     all_data_df['mPFC_Btrials'].mean(), \n",
    "                     all_data_df['mPFC_Ctrials'].mean()]\n",
    "hp_sem_allsubjs = [all_data_df['mPFC_Atrials'].std()/(np.sqrt(len(sids))), \n",
    "                   all_data_df['mPFC_Btrials'].std()/(np.sqrt(len(sids))),\n",
    "                   all_data_df['mPFC_Ctrials'].std()/(np.sqrt(len(sids)))]\n",
    "\n",
    "ind = np.arange(N)\n",
    "width = 0.6\n",
    "\n",
    "fig, ax = plt.subplots()\n",
    "\n",
    "ax.spines['right'].set_color('none')\n",
    "ax.spines['top'].set_color('none')\n",
    "ax.xaxis.set_ticks_position('bottom')\n",
    "ax.yaxis.set_ticks_position('left')\n",
    "\n",
    "ax.bar(ind, hp_means_allsubjs, width, color = bar_colors, ecolor = 'black', \n",
    "       yerr = hp_sem_allsubjs, align = 'center', bottom = 0)\n",
    "#ax.boxplot([all_data_df['mPFC_ACtrials'],all_data_df['mPFC_Btrials']], positions=[1,2])\n",
    "\n",
    "ax.set_xticks(ind)\n",
    "ax.set_xticklabels(conditions)\n",
    "ax.set_ylabel(\"Arbitrary units\")\n",
    "\n",
    "plt.show()"
   ]
  },
  {
   "cell_type": "code",
   "execution_count": 17,
   "metadata": {
    "collapsed": false,
    "scrolled": true
   },
   "outputs": [
    {
     "data": {
      "image/png": "[encoded data removed]",
      "text/plain": [
       "<matplotlib.figure.Figure at 0x2b11a7bc7410>"
      ]
     },
     "metadata": {},
     "output_type": "display_data"
    }
   ],
   "source": [
    "import matplotlib.pyplot as plt\n",
    "\n",
    "N = 2\n",
    "conditions = ['Fixed', 'Conditional']\n",
    "bar_colors = ['red', 'blue']\n",
    "hp_means_allsubjs = [all_data_df['mPFC_ACtrials'].mean(), all_data_df['mPFC_Btrials'].mean()]\n",
    "hp_sem_allsubjs = [all_data_df['mPFC_ACtrials'].std()/(np.sqrt(len(sids))), \n",
    "                   all_data_df['mPFC_Btrials'].std()/(np.sqrt(len(sids)))]\n",
    "\n",
    "ind = np.arange(N)\n",
    "width = 0.6\n",
    "\n",
    "fig, ax = plt.subplots()\n",
    "\n",
    "ax.spines['right'].set_color('none')\n",
    "ax.spines['top'].set_color('none')\n",
    "ax.xaxis.set_ticks_position('bottom')\n",
    "ax.yaxis.set_ticks_position('left')\n",
    "\n",
    "ax.bar(ind, hp_means_allsubjs, width, color = bar_colors, ecolor = 'black', \n",
    "       yerr = hp_sem_allsubjs, align = 'center', bottom = 0)\n",
    "#ax.boxplot([all_data_df['mPFC_ACtrials'],all_data_df['mPFC_Btrials']], positions=[1,2])\n",
    "\n",
    "ax.set_xticks(ind)\n",
    "ax.set_xticklabels(conditions)\n",
    "ax.set_ylabel(\"Arbitrary units\")\n",
    "\n",
    "plt.show()"
   ]
  },
  {
   "cell_type": "code",
   "execution_count": null,
   "metadata": {
    "collapsed": false
   },
   "outputs": [],
   "source": [
    "0.05/4."
   ]
  },
  {
   "cell_type": "code",
   "execution_count": null,
   "metadata": {
    "collapsed": true
   },
   "outputs": [],
   "source": []
  }
 ],
 "metadata": {
  "anaconda-cloud": {},
  "kernelspec": {
   "display_name": "Python 2",
   "language": "python",
   "name": "python2"
  },
  "language_info": {
   "codemirror_mode": {
    "name": "ipython",
    "version": 2
   },
   "file_extension": ".py",
   "mimetype": "text/x-python",
   "name": "python",
   "nbconvert_exporter": "python",
   "pygments_lexer": "ipython2",
   "version": "2.7.13"
  }
 },
 "nbformat": 4,
 "nbformat_minor": 2
}
