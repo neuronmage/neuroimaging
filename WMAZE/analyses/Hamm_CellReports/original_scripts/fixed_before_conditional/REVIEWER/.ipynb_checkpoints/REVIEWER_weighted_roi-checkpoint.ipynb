{
 "cells": [
  {
   "cell_type": "markdown",
   "metadata": {},
   "source": [
    "# MODEL 3 1-3-2\n",
    "### Contains only fixed-before-conditional trials without intervening BLs\n",
    "### Combines A & C trials into single regressor\n",
    "### Accounts for last three noisy volumes in Lvl 1 analysis (FSL ROI -- ExtractROI)"
   ]
  },
  {
   "cell_type": "markdown",
   "metadata": {},
   "source": [
    "## Compares activation for regions of interest using binarized masks:\n",
    "### Hippocampus (FS labels: hippocampus [17, 53])\n",
    "### Dorsal caudate (hand-drawn by Mandy)\n",
    "### Putamen (FS labels: putamen [12, 51])"
   ]
  },
  {
   "cell_type": "code",
   "execution_count": 146,
   "metadata": {
    "collapsed": false,
    "scrolled": true
   },
   "outputs": [
    {
     "name": "stdout",
     "output_type": "stream",
     "text": [
      "\n"
     ]
    }
   ],
   "source": [
    "import os\n",
    "from glob import glob\n",
    "import nibabel as nb\n",
    "import pandas as pd\n",
    "import numpy as np\n",
    "from scipy import stats\n",
    "%matplotlib inline\n",
    "import seaborn as sns\n",
    "import matplotlib.pyplot as plt\n",
    "sns.set_palette('muted')\n",
    "#sns.set_style(\"darkgrid\")\n",
    "\n",
    "sids = ['WMAZE_001', 'WMAZE_002', 'WMAZE_004', 'WMAZE_005', 'WMAZE_006', \n",
    "        'WMAZE_007', 'WMAZE_008', 'WMAZE_009', 'WMAZE_010', 'WMAZE_012', \n",
    "        'WMAZE_017', 'WMAZE_018', 'WMAZE_019', 'WMAZE_020', 'WMAZE_021',  \n",
    "        'WMAZE_022', 'WMAZE_023', 'WMAZE_024', 'WMAZE_026', 'WMAZE_027']\n",
    "\n",
    "\n",
    "#sids = ['WMAZE_001']\n",
    "\n",
    "proj_dir = '/home/data/madlab/data/mri/wmaze'\n",
    " \n",
    "mask_filenames = []\n",
    "cope_files = []\n",
    "\n",
    "for SID in sids:\n",
    "    mask_filenames_glob = glob(proj_dir + '/roi_analysis/MRthesis/fb4c_2/mask/anat_masks/_subject_id_' \n",
    "                               + SID + '/_anatmask_xfm*/*')\n",
    "    mask_filenames_glob.sort()\n",
    "    mask_filenames.append(mask_filenames_glob)\n",
    "        \n",
    "    subjcopes_glob = glob(proj_dir + '/scndlvl/wmaze_MRthesis/fixed_before_conditional/model3_1-3-2/' \n",
    "                          + SID + '/fixedfx/cope_*')\n",
    "    subjcopes_glob.sort()\n",
    "    cope_files.append(subjcopes_glob)\n",
    "    if len(cope_files[-1]) == 0 or len(cope_files[-1]) != 5:\n",
    "        print(SID)"
   ]
  },
  {
   "cell_type": "markdown",
   "metadata": {},
   "source": [
    "## Cell to double-check the array indexing"
   ]
  },
  {
   "cell_type": "code",
   "execution_count": null,
   "metadata": {
    "collapsed": false,
    "scrolled": true
   },
   "outputs": [],
   "source": [
    "#change first index of cope_files to indicate participant index in sids array\n",
    "for i, curr_mask in enumerate(mask_filenames[0]):\n",
    "    print(i, mask_filenames[0][i].split('/')[-1][:-7])"
   ]
  },
  {
   "cell_type": "code",
   "execution_count": null,
   "metadata": {
    "collapsed": false
   },
   "outputs": [],
   "source": [
    "for i, curr_cope in enumerate(cope_files[0]):\n",
    "    print(i, cope_files[0][i].split('/')[-1][5:-7]) "
   ]
  },
  {
   "cell_type": "markdown",
   "metadata": {},
   "source": [
    "### Use binarized mask to obtain activation in left & right hemisphere for each region of interest"
   ]
  },
  {
   "cell_type": "code",
   "execution_count": 132,
   "metadata": {
    "collapsed": false
   },
   "outputs": [],
   "source": [
    "all_data = {}\n",
    "weighted_data = {}\n",
    "all_voxs = {'hp':[], 'mpfc':[], 'caud':[], 'put':[]}\n",
    "\n",
    "for r in ['hp', 'mpfc', 'caud', 'put']:\n",
    "    for acc in ['corr', 'incorr']:\n",
    "        all_data['{0}'.format(r)] = {'corr':[], 'incorr':[]}\n",
    "        all_bi_data['{0}'.format(r)] = {'corr':[], 'incorr':[]}\n",
    "\n",
    "for i in range(len(sids)):\n",
    "    #hpc_fb4c['subjid'].append(sids[i]) \n",
    "    lh_hp_img = nb.load(mask_filenames[i][1])\n",
    "    rh_hp_img = nb.load(mask_filenames[i][9])\n",
    "    lh_mpfc_img = nb.load(mask_filenames[i][3])\n",
    "    rh_mpfc_img = nb.load(mask_filenames[i][11])\n",
    "    lh_caud_img = nb.load(mask_filenames[i][6])\n",
    "    rh_caud_img = nb.load(mask_filenames[i][7])\n",
    "    lh_put_img = nb.load(mask_filenames[i][14])\n",
    "    rh_put_img = nb.load(mask_filenames[i][15])\n",
    "\n",
    "    for key in all_voxs:\n",
    "        voxs = eval('sum(sum(sum(lh_{0}_img.get_data() + rh_{0}_img.get_data())))'.format(key))\n",
    "        all_voxs['{0}'.format(key)].append(voxs)\n",
    "    \n",
    "    all_before_B_corr_img = nb.load(cope_files[i][0])\n",
    "    all_before_B_incorr_img = nb.load(cope_files[i][1])    \n",
    "\n",
    "    for key in all_data:\n",
    "        for acc in ['corr', 'incorr']:\n",
    "            lh_data = eval('np.mean(all_before_B_{0}_img.get_data()[lh_{1}_img.get_data() > 0.])'.format(acc,key))            \n",
    "            rh_data = eval('np.mean(all_before_B_{0}_img.get_data()[rh_{1}_img.get_data() > 0.])'.format(acc,key))\n",
    "            all_data['{0}'.format(key)]['{0}'.format(acc)].append((lh_data + rh_data)/2.)\n",
    "                        \n",
    "for key in all_data:\n",
    "    exec('{0}_fb4c = all_data[\"{0}\"]'.format(key))\n",
    "    exec('{0}_voxs = np.array(all_voxs[\"{0}\"])'.format(key))\n",
    "    for acc in ['corr', 'incorr']:\n",
    "        exec('weighted_data[\"{0}_{1}\"] = {0}_fb4c[\"{1}\"] * {0}_voxs'.format(key, acc))\n",
    "        \n",
    "weighted_data_df = pd.DataFrame(weighted_data)"
   ]
  },
  {
   "cell_type": "code",
   "execution_count": 130,
   "metadata": {
    "collapsed": false
   },
   "outputs": [
    {
     "name": "stdout",
     "output_type": "stream",
     "text": [
      "1.1048309803 523.0\n",
      "[  577.8266027  -1996.77097797   585.12816346  -188.20415783  -384.68307638\n",
      "   637.30275178 -1158.82934427  -856.41095638 -2110.02527809  -745.32601237\n",
      "   -94.36158018  -120.32680196  -771.43505859  -161.26938045 -1295.75733757\n",
      " -1785.3500576  -1569.97468615   430.70310342 -1690.23328829   102.59390461]\n"
     ]
    }
   ],
   "source": [
    "print hp_fb4c['corr'][0], hp_voxs[0]\n",
    "print weighted_data['hp_corr'] "
   ]
  },
  {
   "cell_type": "code",
   "execution_count": 133,
   "metadata": {
    "collapsed": false
   },
   "outputs": [
    {
     "data": {
      "text/html": [
       "<div>\n",
       "<style scoped>\n",
       "    .dataframe tbody tr th:only-of-type {\n",
       "        vertical-align: middle;\n",
       "    }\n",
       "\n",
       "    .dataframe tbody tr th {\n",
       "        vertical-align: top;\n",
       "    }\n",
       "\n",
       "    .dataframe thead th {\n",
       "        text-align: right;\n",
       "    }\n",
       "</style>\n",
       "<table border=\"1\" class=\"dataframe\">\n",
       "  <thead>\n",
       "    <tr style=\"text-align: right;\">\n",
       "      <th></th>\n",
       "      <th>caud_corr</th>\n",
       "      <th>caud_incorr</th>\n",
       "      <th>hp_corr</th>\n",
       "      <th>hp_incorr</th>\n",
       "      <th>mpfc_corr</th>\n",
       "      <th>mpfc_incorr</th>\n",
       "      <th>put_corr</th>\n",
       "      <th>put_incorr</th>\n",
       "    </tr>\n",
       "  </thead>\n",
       "  <tbody>\n",
       "    <tr>\n",
       "      <th>0</th>\n",
       "      <td>1480.940881</td>\n",
       "      <td>1622.029696</td>\n",
       "      <td>577.826603</td>\n",
       "      <td>-625.608804</td>\n",
       "      <td>647.520279</td>\n",
       "      <td>67.332134</td>\n",
       "      <td>3512.912544</td>\n",
       "      <td>2055.752933</td>\n",
       "    </tr>\n",
       "    <tr>\n",
       "      <th>1</th>\n",
       "      <td>-211.889026</td>\n",
       "      <td>-35.888336</td>\n",
       "      <td>-1996.770978</td>\n",
       "      <td>-2518.414692</td>\n",
       "      <td>-1551.709386</td>\n",
       "      <td>-2086.440645</td>\n",
       "      <td>-472.000884</td>\n",
       "      <td>-2854.223174</td>\n",
       "    </tr>\n",
       "    <tr>\n",
       "      <th>2</th>\n",
       "      <td>399.480906</td>\n",
       "      <td>317.114065</td>\n",
       "      <td>585.128163</td>\n",
       "      <td>614.272786</td>\n",
       "      <td>1462.380753</td>\n",
       "      <td>2096.309052</td>\n",
       "      <td>1275.814360</td>\n",
       "      <td>1181.290367</td>\n",
       "    </tr>\n",
       "    <tr>\n",
       "      <th>3</th>\n",
       "      <td>659.765643</td>\n",
       "      <td>1053.173190</td>\n",
       "      <td>-188.204158</td>\n",
       "      <td>-827.129131</td>\n",
       "      <td>543.529289</td>\n",
       "      <td>-136.769887</td>\n",
       "      <td>-508.532877</td>\n",
       "      <td>-492.252132</td>\n",
       "    </tr>\n",
       "    <tr>\n",
       "      <th>4</th>\n",
       "      <td>-606.245148</td>\n",
       "      <td>-217.391969</td>\n",
       "      <td>-384.683076</td>\n",
       "      <td>-821.942660</td>\n",
       "      <td>-1166.423419</td>\n",
       "      <td>-1612.921436</td>\n",
       "      <td>-540.458893</td>\n",
       "      <td>-578.053213</td>\n",
       "    </tr>\n",
       "    <tr>\n",
       "      <th>5</th>\n",
       "      <td>1292.790413</td>\n",
       "      <td>1320.802975</td>\n",
       "      <td>637.302752</td>\n",
       "      <td>606.221150</td>\n",
       "      <td>2253.241316</td>\n",
       "      <td>1258.166991</td>\n",
       "      <td>3634.834551</td>\n",
       "      <td>2531.305470</td>\n",
       "    </tr>\n",
       "    <tr>\n",
       "      <th>6</th>\n",
       "      <td>-467.717621</td>\n",
       "      <td>77.242199</td>\n",
       "      <td>-1158.829344</td>\n",
       "      <td>-1974.856973</td>\n",
       "      <td>-1807.542572</td>\n",
       "      <td>-1979.611664</td>\n",
       "      <td>-1570.993237</td>\n",
       "      <td>-2035.654625</td>\n",
       "    </tr>\n",
       "    <tr>\n",
       "      <th>7</th>\n",
       "      <td>-394.455490</td>\n",
       "      <td>247.792854</td>\n",
       "      <td>-856.410956</td>\n",
       "      <td>-1046.704531</td>\n",
       "      <td>-3164.373653</td>\n",
       "      <td>-1846.410431</td>\n",
       "      <td>-1019.394406</td>\n",
       "      <td>-910.844328</td>\n",
       "    </tr>\n",
       "    <tr>\n",
       "      <th>8</th>\n",
       "      <td>234.385426</td>\n",
       "      <td>-525.117485</td>\n",
       "      <td>-2110.025278</td>\n",
       "      <td>-2912.243796</td>\n",
       "      <td>-2370.199350</td>\n",
       "      <td>-3311.969313</td>\n",
       "      <td>-713.277037</td>\n",
       "      <td>-2171.517975</td>\n",
       "    </tr>\n",
       "    <tr>\n",
       "      <th>9</th>\n",
       "      <td>109.730222</td>\n",
       "      <td>54.417584</td>\n",
       "      <td>-745.326012</td>\n",
       "      <td>-744.230900</td>\n",
       "      <td>-887.352262</td>\n",
       "      <td>-424.378121</td>\n",
       "      <td>312.126516</td>\n",
       "      <td>806.995491</td>\n",
       "    </tr>\n",
       "    <tr>\n",
       "      <th>10</th>\n",
       "      <td>397.321640</td>\n",
       "      <td>-169.951849</td>\n",
       "      <td>-94.361580</td>\n",
       "      <td>-2429.725708</td>\n",
       "      <td>33.697861</td>\n",
       "      <td>-730.342573</td>\n",
       "      <td>251.382180</td>\n",
       "      <td>-2896.359324</td>\n",
       "    </tr>\n",
       "    <tr>\n",
       "      <th>11</th>\n",
       "      <td>249.956304</td>\n",
       "      <td>11.938168</td>\n",
       "      <td>-120.326802</td>\n",
       "      <td>-710.974954</td>\n",
       "      <td>-819.452840</td>\n",
       "      <td>-240.532305</td>\n",
       "      <td>1030.371909</td>\n",
       "      <td>-262.862275</td>\n",
       "    </tr>\n",
       "    <tr>\n",
       "      <th>12</th>\n",
       "      <td>702.411793</td>\n",
       "      <td>789.711914</td>\n",
       "      <td>-771.435059</td>\n",
       "      <td>-1372.232666</td>\n",
       "      <td>-256.933815</td>\n",
       "      <td>-226.121120</td>\n",
       "      <td>891.703756</td>\n",
       "      <td>1066.710930</td>\n",
       "    </tr>\n",
       "    <tr>\n",
       "      <th>13</th>\n",
       "      <td>-71.575397</td>\n",
       "      <td>830.525593</td>\n",
       "      <td>-161.269380</td>\n",
       "      <td>156.642981</td>\n",
       "      <td>235.658872</td>\n",
       "      <td>726.270398</td>\n",
       "      <td>1052.659954</td>\n",
       "      <td>954.972942</td>\n",
       "    </tr>\n",
       "    <tr>\n",
       "      <th>14</th>\n",
       "      <td>413.503671</td>\n",
       "      <td>1058.208425</td>\n",
       "      <td>-1295.757338</td>\n",
       "      <td>-2570.596405</td>\n",
       "      <td>-2134.977264</td>\n",
       "      <td>-1153.445588</td>\n",
       "      <td>962.552740</td>\n",
       "      <td>1026.329088</td>\n",
       "    </tr>\n",
       "    <tr>\n",
       "      <th>15</th>\n",
       "      <td>-41.653685</td>\n",
       "      <td>-162.384813</td>\n",
       "      <td>-1785.350058</td>\n",
       "      <td>-2163.633342</td>\n",
       "      <td>-2253.500864</td>\n",
       "      <td>-2946.759230</td>\n",
       "      <td>-1275.223675</td>\n",
       "      <td>-1649.282644</td>\n",
       "    </tr>\n",
       "    <tr>\n",
       "      <th>16</th>\n",
       "      <td>-387.721171</td>\n",
       "      <td>-226.908196</td>\n",
       "      <td>-1569.974686</td>\n",
       "      <td>-1109.081562</td>\n",
       "      <td>-2178.056102</td>\n",
       "      <td>-2599.304237</td>\n",
       "      <td>-334.423532</td>\n",
       "      <td>-2807.271621</td>\n",
       "    </tr>\n",
       "    <tr>\n",
       "      <th>17</th>\n",
       "      <td>332.708238</td>\n",
       "      <td>612.624631</td>\n",
       "      <td>430.703103</td>\n",
       "      <td>-913.140763</td>\n",
       "      <td>828.680176</td>\n",
       "      <td>171.048532</td>\n",
       "      <td>1645.444857</td>\n",
       "      <td>-579.011850</td>\n",
       "    </tr>\n",
       "    <tr>\n",
       "      <th>18</th>\n",
       "      <td>295.706757</td>\n",
       "      <td>194.563534</td>\n",
       "      <td>-1690.233288</td>\n",
       "      <td>-2355.791739</td>\n",
       "      <td>-1459.123047</td>\n",
       "      <td>-1248.395752</td>\n",
       "      <td>-286.276989</td>\n",
       "      <td>-569.453509</td>\n",
       "    </tr>\n",
       "    <tr>\n",
       "      <th>19</th>\n",
       "      <td>514.364815</td>\n",
       "      <td>508.978003</td>\n",
       "      <td>102.593905</td>\n",
       "      <td>-313.897817</td>\n",
       "      <td>1029.107583</td>\n",
       "      <td>578.424333</td>\n",
       "      <td>1171.687802</td>\n",
       "      <td>653.540808</td>\n",
       "    </tr>\n",
       "  </tbody>\n",
       "</table>\n",
       "</div>"
      ],
      "text/plain": [
       "      caud_corr  caud_incorr      hp_corr    hp_incorr    mpfc_corr  \\\n",
       "0   1480.940881  1622.029696   577.826603  -625.608804   647.520279   \n",
       "1   -211.889026   -35.888336 -1996.770978 -2518.414692 -1551.709386   \n",
       "2    399.480906   317.114065   585.128163   614.272786  1462.380753   \n",
       "3    659.765643  1053.173190  -188.204158  -827.129131   543.529289   \n",
       "4   -606.245148  -217.391969  -384.683076  -821.942660 -1166.423419   \n",
       "5   1292.790413  1320.802975   637.302752   606.221150  2253.241316   \n",
       "6   -467.717621    77.242199 -1158.829344 -1974.856973 -1807.542572   \n",
       "7   -394.455490   247.792854  -856.410956 -1046.704531 -3164.373653   \n",
       "8    234.385426  -525.117485 -2110.025278 -2912.243796 -2370.199350   \n",
       "9    109.730222    54.417584  -745.326012  -744.230900  -887.352262   \n",
       "10   397.321640  -169.951849   -94.361580 -2429.725708    33.697861   \n",
       "11   249.956304    11.938168  -120.326802  -710.974954  -819.452840   \n",
       "12   702.411793   789.711914  -771.435059 -1372.232666  -256.933815   \n",
       "13   -71.575397   830.525593  -161.269380   156.642981   235.658872   \n",
       "14   413.503671  1058.208425 -1295.757338 -2570.596405 -2134.977264   \n",
       "15   -41.653685  -162.384813 -1785.350058 -2163.633342 -2253.500864   \n",
       "16  -387.721171  -226.908196 -1569.974686 -1109.081562 -2178.056102   \n",
       "17   332.708238   612.624631   430.703103  -913.140763   828.680176   \n",
       "18   295.706757   194.563534 -1690.233288 -2355.791739 -1459.123047   \n",
       "19   514.364815   508.978003   102.593905  -313.897817  1029.107583   \n",
       "\n",
       "    mpfc_incorr     put_corr   put_incorr  \n",
       "0     67.332134  3512.912544  2055.752933  \n",
       "1  -2086.440645  -472.000884 -2854.223174  \n",
       "2   2096.309052  1275.814360  1181.290367  \n",
       "3   -136.769887  -508.532877  -492.252132  \n",
       "4  -1612.921436  -540.458893  -578.053213  \n",
       "5   1258.166991  3634.834551  2531.305470  \n",
       "6  -1979.611664 -1570.993237 -2035.654625  \n",
       "7  -1846.410431 -1019.394406  -910.844328  \n",
       "8  -3311.969313  -713.277037 -2171.517975  \n",
       "9   -424.378121   312.126516   806.995491  \n",
       "10  -730.342573   251.382180 -2896.359324  \n",
       "11  -240.532305  1030.371909  -262.862275  \n",
       "12  -226.121120   891.703756  1066.710930  \n",
       "13   726.270398  1052.659954   954.972942  \n",
       "14 -1153.445588   962.552740  1026.329088  \n",
       "15 -2946.759230 -1275.223675 -1649.282644  \n",
       "16 -2599.304237  -334.423532 -2807.271621  \n",
       "17   171.048532  1645.444857  -579.011850  \n",
       "18 -1248.395752  -286.276989  -569.453509  \n",
       "19   578.424333  1171.687802   653.540808  "
      ]
     },
     "execution_count": 133,
     "metadata": {},
     "output_type": "execute_result"
    }
   ],
   "source": [
    "weighted_data_df"
   ]
  },
  {
   "cell_type": "markdown",
   "metadata": {},
   "source": [
    "## Hippocampus"
   ]
  },
  {
   "cell_type": "code",
   "execution_count": 149,
   "metadata": {
    "collapsed": false,
    "scrolled": false
   },
   "outputs": [
    {
     "name": "stdout",
     "output_type": "stream",
     "text": [
      "Mean HPC_corr:  -629.770173406\n",
      "STD HPC corr:  878.448832347\n",
      "\n",
      "Mean HPC_incorr:  -1201.65347624\n",
      "STD HPC incorr:  1032.17489837\n",
      "\n",
      "Paired-Samples t-Test: Ttest_relResult(statistic=3.9931387182700795, pvalue=0.00077829550059289713)\n"
     ]
    },
    {
     "data": {
      "image/png": "[encoded data removed]",
      "text/plain": [
       "<matplotlib.figure.Figure at 0x2b885de3ee10>"
      ]
     },
     "metadata": {},
     "output_type": "display_data"
    }
   ],
   "source": [
    "for acc in ['corr', 'incorr']:\n",
    "    print \"Mean HPC_{0}: \".format(acc), np.mean(weighted_data_df['hp_{0}'.format(acc)])\n",
    "    print \"STD HPC {0}: \".format(acc), np.std(weighted_data_df['hp_{0}'.format(acc)])\n",
    "    print \"\"\n",
    "print \"Paired-Samples t-Test:\", stats.ttest_rel(weighted_data_df['hp_corr'], weighted_data_df['hp_incorr'])\n",
    "N = 2\n",
    "conditions = ['Correct', 'Incorrect']\n",
    "hp_allsubjs = [weighted_data_df['hp_corr'], weighted_data_df['hp_incorr']]\n",
    "ind = np.arange(N)\n",
    "fig, ax = plt.subplots(figsize = (8,5))\n",
    "ax0 = sns.boxplot(data = hp_allsubjs, color = \"#278fea\", width = 0.3)\n",
    "ax2 = sns.swarmplot(data = hp_allsubjs, color='.25')\n",
    "ax.set_xticks(ind)\n",
    "ax.set_xticklabels(conditions)\n",
    "ax.set_ylabel(\"Arbitrary units\")\n",
    "ax.set_title(\"Hippocampus\")\n",
    "plt.show()"
   ]
  },
  {
   "cell_type": "markdown",
   "metadata": {
    "collapsed": true
   },
   "source": [
    "## mPFC"
   ]
  },
  {
   "cell_type": "code",
   "execution_count": 150,
   "metadata": {
    "collapsed": false
   },
   "outputs": [
    {
     "name": "stdout",
     "output_type": "stream",
     "text": [
      "Mean mPFC_corr:  -650.791422251\n",
      "STD mPFC corr:  1448.50182458\n",
      "\n",
      "Mean mPFC_incorr:  -782.292543046\n",
      "STD mPFC incorr:  1397.418574\n",
      "\n",
      "Paired-Samples t-Test: Ttest_relResult(statistic=0.87104635396858221, pvalue=0.39460185985973961)\n"
     ]
    },
    {
     "data": {
      "image/png": "[encoded data removed]",
      "text/plain": [
       "<matplotlib.figure.Figure at 0x2b885e1c9150>"
      ]
     },
     "metadata": {},
     "output_type": "display_data"
    }
   ],
   "source": [
    "for acc in ['corr', 'incorr']:\n",
    "    print \"Mean mPFC_{0}: \".format(acc), np.mean(weighted_data_df['mpfc_{0}'.format(acc)])\n",
    "    print \"STD mPFC {0}: \".format(acc), np.std(weighted_data_df['mpfc_{0}'.format(acc)])\n",
    "    print \"\"\n",
    "print \"Paired-Samples t-Test:\", stats.ttest_rel(weighted_data_df['mpfc_corr'], weighted_data_df['mpfc_incorr'])\n",
    "N = 2\n",
    "conditions = ['Correct', 'Incorrect']\n",
    "mPFC_allsubjs = [weighted_data_df['mpfc_corr'], weighted_data_df['mpfc_incorr']]\n",
    "ind = np.arange(N)\n",
    "fig, ax = plt.subplots(figsize = (8,5))\n",
    "ax0 = sns.boxplot(data = mPFC_allsubjs, color = \"#f97401\", width = 0.3)\n",
    "ax2 = sns.swarmplot(data = mPFC_allsubjs, color='.25')\n",
    "ax.set_xticks(ind)\n",
    "ax.set_xticklabels(conditions)\n",
    "ax.set_ylabel(\"Arbitrary units\")\n",
    "ax.set_title(\"Medial PFC\")\n",
    "plt.show()"
   ]
  },
  {
   "cell_type": "markdown",
   "metadata": {},
   "source": [
    "## Caudate"
   ]
  },
  {
   "cell_type": "code",
   "execution_count": 151,
   "metadata": {
    "collapsed": false
   },
   "outputs": [
    {
     "name": "stdout",
     "output_type": "stream",
     "text": [
      "Mean Caudate_corr:  245.090458499\n",
      "STD Caudate corr:  529.922104007\n",
      "\n",
      "Mean Caudate_incorr:  368.074009156\n",
      "STD Caudate incorr:  569.324973493\n",
      "\n",
      "Paired-Samples t-Test: Ttest_relResult(statistic=-1.3625389167004809, pvalue=0.18896165198665188)\n"
     ]
    },
    {
     "data": {
      "image/png": "[encoded data removed]",
      "text/plain": [
       "<matplotlib.figure.Figure at 0x2b885c166910>"
      ]
     },
     "metadata": {},
     "output_type": "display_data"
    }
   ],
   "source": [
    "for acc in ['corr', 'incorr']:\n",
    "    print \"Mean Caudate_{0}: \".format(acc), np.mean(weighted_data_df['caud_{0}'.format(acc)])\n",
    "    print \"STD Caudate {0}: \".format(acc), np.std(weighted_data_df['caud_{0}'.format(acc)])\n",
    "    print \"\"\n",
    "print \"Paired-Samples t-Test:\", stats.ttest_rel(weighted_data_df['caud_corr'], weighted_data_df['caud_incorr'])\n",
    "N = 2\n",
    "conditions = ['Correct', 'Incorrect']\n",
    "caud_allsubjs = [weighted_data_df['caud_corr'], weighted_data_df['caud_incorr']]\n",
    "ind = np.arange(N)\n",
    "fig, ax = plt.subplots(figsize = (8,5))\n",
    "ax0 = sns.boxplot(data = caud_allsubjs, color = \"#f9f96d\", width = 0.3)\n",
    "ax2 = sns.swarmplot(data =  caud_allsubjs, color='.25')\n",
    "ax.set_xticks(ind)\n",
    "ax.set_xticklabels(conditions)\n",
    "ax.set_ylabel(\"Arbitrary units\")\n",
    "ax.set_title(\"Caudate\")\n",
    "plt.show()"
   ]
  },
  {
   "cell_type": "markdown",
   "metadata": {},
   "source": [
    "## Putamen"
   ]
  },
  {
   "cell_type": "code",
   "execution_count": 153,
   "metadata": {
    "collapsed": false
   },
   "outputs": [
    {
     "name": "stdout",
     "output_type": "stream",
     "text": [
      "Mean Putamen corr:  451.045482071\n",
      "STD Putamen corr:  1375.74020745\n",
      "\n",
      "Mean Putamen incorr:  -376.494432047\n",
      "STD Putamen incorr:  1604.7767089\n",
      "\n",
      "Paired-Samples t-Test: Ttest_relResult(statistic=3.5113766485112419, pvalue=0.0023342869174772496)\n"
     ]
    },
    {
     "data": {
      "image/png": "[encoded data removed]",
      "text/plain": [
       "<matplotlib.figure.Figure at 0x2b885e28e950>"
      ]
     },
     "metadata": {},
     "output_type": "display_data"
    }
   ],
   "source": [
    "for acc in ['corr', 'incorr']:\n",
    "    print \"Mean Putamen {0}: \".format(acc), np.mean(weighted_data_df['put_{0}'.format(acc)])\n",
    "    print \"STD Putamen {0}: \".format(acc), np.std(weighted_data_df['put_{0}'.format(acc)])\n",
    "    print \"\"\n",
    "print \"Paired-Samples t-Test:\", stats.ttest_rel(weighted_data_df['put_corr'], weighted_data_df['put_incorr'])\n",
    "N = 2\n",
    "conditions = ['Correct', 'Incorrect']\n",
    "put_allsubjs = [weighted_data_df['put_corr'], weighted_data_df['put_incorr']]\n",
    "ind = np.arange(N)\n",
    "fig, ax = plt.subplots(figsize = (8,5))\n",
    "ax0 = sns.boxplot(data = put_allsubjs, color = \"#c34aef\", width = 0.3)\n",
    "ax2 = sns.swarmplot(data =  put_allsubjs, color='.25')\n",
    "ax.set_xticks(ind)\n",
    "ax.set_xticklabels(conditions)\n",
    "ax.set_ylabel(\"Arbitrary units\")\n",
    "ax.set_title(\"Putamen\")\n",
    "plt.show()"
   ]
  },
  {
   "cell_type": "code",
   "execution_count": null,
   "metadata": {
    "collapsed": true
   },
   "outputs": [],
   "source": []
  }
 ],
 "metadata": {
  "anaconda-cloud": {},
  "kernelspec": {
   "display_name": "Python 2",
   "language": "python",
   "name": "python2"
  },
  "language_info": {
   "codemirror_mode": {
    "name": "ipython",
    "version": 2
   },
   "file_extension": ".py",
   "mimetype": "text/x-python",
   "name": "python",
   "nbconvert_exporter": "python",
   "pygments_lexer": "ipython2",
   "version": "2.7.12"
  }
 },
 "nbformat": 4,
 "nbformat_minor": 2
}
