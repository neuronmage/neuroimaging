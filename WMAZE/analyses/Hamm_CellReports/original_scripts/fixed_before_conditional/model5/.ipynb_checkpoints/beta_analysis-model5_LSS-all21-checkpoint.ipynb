{
 "cells": [
  {
   "cell_type": "markdown",
   "metadata": {},
   "source": [
    "# MODEL 5_LSS_all21\n",
    "### Contains all fixed-before-conditional trials, regardless of interfering BL\n",
    "### Combines A & C trials into single regressor\n",
    "### Analysis isolated to only 20 trials surrounding largest deviation (point of greatest learning)"
   ]
  },
  {
   "cell_type": "markdown",
   "metadata": {
    "collapsed": true
   },
   "source": [
    "#  WMAZE Beta Series Correlation Analysis\n",
    "\n",
    "## Obtains correlation values for the regions of interest:\n",
    "### Hippocampus (FS labels: hippocampus [17, 53])\n",
    "### Dorsal caudate (hand-drawn by Mandy)\n",
    "### Medial PFC (FS labels: rostral anterior cingulate [1026,1014] & medial orbitofrontal [2026,2155])\n",
    "### Dorsolateral PFC (Lausanne atlas: dlPFC)"
   ]
  },
  {
   "cell_type": "markdown",
   "metadata": {},
   "source": [
    "### Use Glob to grab all previously created anatomy masks and beta series cope files"
   ]
  },
  {
   "cell_type": "code",
   "execution_count": 1,
   "metadata": {
    "collapsed": true
   },
   "outputs": [],
   "source": [
    "from glob import glob\n",
    "\n",
    "sids = ['WMAZE_001', 'WMAZE_002', 'WMAZE_004', 'WMAZE_005', 'WMAZE_006', \n",
    "        'WMAZE_007', 'WMAZE_008', 'WMAZE_009', 'WMAZE_010', 'WMAZE_012',\n",
    "        'WMAZE_017', 'WMAZE_018', 'WMAZE_019', 'WMAZE_020', 'WMAZE_021',  \n",
    "        'WMAZE_022', 'WMAZE_023', 'WMAZE_024', 'WMAZE_026', 'WMAZE_027']\n",
    "\n",
    "proj_dir = '/home/data/madlab/data/mri/wmaze'\n",
    " \n",
    "mask_filenames = []\n",
    "cope_files = []\n",
    "\n",
    "for SID in sids:\n",
    "    # Grab the mask files for each subject\n",
    "    mask_filenames_glob = glob(proj_dir + '/roi_analysis/mask/anat_masks/_subject_id_' + SID + '/_anatmask_xfm*/*')\n",
    "    mask_filenames.append(sorted(mask_filenames_glob))\n",
    "    # Grab the cope files for each subject\n",
    "    subjcopes_glob = glob(proj_dir + '/frstlvl/wmaze_MRthesis/fixed_before_conditional/model5_LSS_all21/merge_copes/'\n",
    "                          + SID + '/merged/cope_*')\n",
    "    cope_files.append(sorted(subjcopes_glob))\n",
    "    # If there are no cope files, print subject id\n",
    "    if len(cope_files[-1]) == 0:\n",
    "        print(SID)"
   ]
  },
  {
   "cell_type": "markdown",
   "metadata": {},
   "source": [
    "### Cell to double-check the array indexing for both the masks and the copes"
   ]
  },
  {
   "cell_type": "code",
   "execution_count": 2,
   "metadata": {
    "collapsed": false,
    "scrolled": true
   },
   "outputs": [
    {
     "name": "stdout",
     "output_type": "stream",
     "text": [
      "0. left dlPFC\n",
      "/home/data/madlab/data/mri/wmaze/roi_analysis/mask/anat_masks/_subject_id_WMAZE_001/_anatmask_xfm0/lh-dlPFC_lausanne_warped.nii.gz\n",
      "\n",
      "1. left hippocampus\n",
      "/home/data/madlab/data/mri/wmaze/roi_analysis/mask/anat_masks/_subject_id_WMAZE_001/_anatmask_xfm0/lh-hippocampus_warped.nii.gz\n",
      "\n",
      "2. left mPFC (rac-only)\n",
      "/home/data/madlab/data/mri/wmaze/roi_analysis/mask/anat_masks/_subject_id_WMAZE_001/_anatmask_xfm0/lh-mPFC_rac-only_warped.nii.gz\n",
      "\n",
      "3. left mPFC (orig)\n",
      "/home/data/madlab/data/mri/wmaze/roi_analysis/mask/anat_masks/_subject_id_WMAZE_001/_anatmask_xfm0/lh-mPFC_warped.nii.gz\n",
      "\n",
      "4. left putamen\n",
      "/home/data/madlab/data/mri/wmaze/roi_analysis/mask/anat_masks/_subject_id_WMAZE_001/_anatmask_xfm0/lh-putamen_warped.nii.gz\n",
      "\n",
      "5. left caudate\n",
      "/home/data/madlab/data/mri/wmaze/roi_analysis/mask/anat_masks/_subject_id_WMAZE_001/_anatmask_xfm0/lh_caudate_anat_mask_warped.nii.gz\n",
      "\n",
      "6. right dlPFC\n",
      "/home/data/madlab/data/mri/wmaze/roi_analysis/mask/anat_masks/_subject_id_WMAZE_001/_anatmask_xfm0/rh-dlPFC_lausanne_warped.nii.gz\n",
      "\n",
      "7. right hippocampus\n",
      "/home/data/madlab/data/mri/wmaze/roi_analysis/mask/anat_masks/_subject_id_WMAZE_001/_anatmask_xfm0/rh-hippocampus_warped.nii.gz\n",
      "\n",
      "8. right mPFC (orig)\n",
      "/home/data/madlab/data/mri/wmaze/roi_analysis/mask/anat_masks/_subject_id_WMAZE_001/_anatmask_xfm0/rh-mPFC_warped.nii.gz\n",
      "\n",
      "9. right putamen\n",
      "/home/data/madlab/data/mri/wmaze/roi_analysis/mask/anat_masks/_subject_id_WMAZE_001/_anatmask_xfm0/rh-putamen_warped.nii.gz\n",
      "\n",
      "10. right caudate\n",
      "/home/data/madlab/data/mri/wmaze/roi_analysis/mask/anat_masks/_subject_id_WMAZE_001/_anatmask_xfm0/rh_caudate_anat_mask_warped.nii.gz\n",
      "\n",
      "11. right mPFC (rac-only)\n",
      "/home/data/madlab/data/mri/wmaze/roi_analysis/mask/anat_masks/_subject_id_WMAZE_001/_anatmask_xfm1/rh-mPFC_rac-only_warped.nii.gz\n",
      "\n",
      "12. left mPFC (rac-cac)\n",
      "/home/data/madlab/data/mri/wmaze/roi_analysis/mask/anat_masks/_subject_id_WMAZE_001/_anatmask_xfm2/lh-mPFC_rac-cac_warped.nii.gz\n",
      "\n",
      "13. right mPFC (rac-cac)\n",
      "/home/data/madlab/data/mri/wmaze/roi_analysis/mask/anat_masks/_subject_id_WMAZE_001/_anatmask_xfm3/rh-mPFC_rac-cac_warped.nii.gz\n",
      "\n",
      "-----\n",
      "cope_corr\n",
      "/home/data/madlab/data/mri/wmaze/frstlvl/wmaze_MRthesis/fixed_before_conditional/model5_LSS_all21/merge_copes/WMAZE_001/merged/cope_corr.nii.gz\n",
      "\n",
      "cope_incorr\n",
      "/home/data/madlab/data/mri/wmaze/frstlvl/wmaze_MRthesis/fixed_before_conditional/model5_LSS_all21/merge_copes/WMAZE_001/merged/cope_incorr.nii.gz\n"
     ]
    }
   ],
   "source": [
    "print '0. left dlPFC'\n",
    "print(mask_filenames[0][0]) #lh-dlPFC Lausanne\n",
    "print\"\"\n",
    "print '1. left hippocampus'\n",
    "print(mask_filenames[0][1]) #lh-hippocampus\n",
    "print\"\"\n",
    "print '2. left mPFC (rac-only)'\n",
    "print(mask_filenames[0][2]) #lh-mPFC_rac-only\n",
    "print\"\"\n",
    "print '3. left mPFC (orig)'\n",
    "print(mask_filenames[0][3]) #lh-mPFC (orig)\n",
    "print\"\"\n",
    "print '4. left putamen'\n",
    "print(mask_filenames[0][4]) #lh-putamen\n",
    "print\"\"\n",
    "print '5. left caudate'\n",
    "print(mask_filenames[0][5]) #lh-caudate\n",
    "print\"\"\n",
    "print '6. right dlPFC'\n",
    "print(mask_filenames[0][6]) #rh-dlPFC Lausanne\n",
    "print\"\"\n",
    "print '7. right hippocampus'\n",
    "print(mask_filenames[0][7]) #rh-hippocampus\n",
    "print\"\"\n",
    "print '8. right mPFC (orig)'\n",
    "print(mask_filenames[0][8]) #rh-mPFC (orig)\n",
    "print\"\"\n",
    "print '9. right putamen'\n",
    "print(mask_filenames[0][9]) #rh-putamen\n",
    "print\"\"\n",
    "print '10. right caudate'\n",
    "print(mask_filenames[0][10]) #rh-caudate\n",
    "print\"\"\n",
    "print '11. right mPFC (rac-only)'\n",
    "print(mask_filenames[0][11]) #rh-mPFC_rac_only\n",
    "print\"\"\n",
    "print '12. left mPFC (rac-cac)'\n",
    "print(mask_filenames[0][12]) #lh-mPFC_rac-cac\n",
    "print\"\"\n",
    "print '13. right mPFC (rac-cac)'\n",
    "print(mask_filenames[0][13]) #rh-mPFC_rac-cac\n",
    "print\"\"\n",
    "\n",
    "print '-----'\n",
    "\n",
    "print 'cope_corr'\n",
    "print(cope_files[0][0]) #cope_corr\n",
    "print \"\"\n",
    "print 'cope_incorr'\n",
    "print(cope_files[0][1]) #cope_incorr\n",
    "\n",
    "#for i in cope_files:\n",
    "#    print(len(i))\n"
   ]
  },
  {
   "cell_type": "markdown",
   "metadata": {},
   "source": [
    "### Use binarized mask to obtain activation in left & right hemisphere for each ROI"
   ]
  },
  {
   "cell_type": "code",
   "execution_count": 26,
   "metadata": {
    "collapsed": false,
    "scrolled": true
   },
   "outputs": [],
   "source": [
    "import nibabel as nb\n",
    "import pandas as pd\n",
    "import numpy as np\n",
    "from scipy import stats\n",
    "\n",
    "\n",
    "#Dictionary containing multiple arrays referenced by keywords\n",
    "all_data = {'subjid':[],\n",
    "            'lh_hp_corr':[], 'rh_hp_corr':[], \n",
    "            'lh_hp_incorr':[], 'rh_hp_incorr':[],                 \n",
    "            'lh_caudate_corr':[], 'rh_caudate_corr':[], \n",
    "            'lh_caudate_incorr':[], 'rh_caudate_incorr':[],  \n",
    "            'lh_dlPFC_corr':[], 'rh_dlPFC_corr':[], \n",
    "            'lh_dlPFC_incorr':[], 'rh_dlPFC_incorr':[],            \n",
    "            'lh_mPFC_corr':[], 'rh_mPFC_corr':[], \n",
    "            'lh_mPFC_incorr':[], 'rh_mPFC_incorr':[]}\n",
    "\n",
    "corr_matrix = np.zeros((len(sids), 5))\n",
    "\n",
    "# For each interation in the length of subject ids\n",
    "for i in range(len(sids)):\n",
    "    #Append the subject id\n",
    "    all_data['subjid'].append(sids[i])\n",
    "    #Load the left and right hippocampus mask files using Nibabel \n",
    "    lh_hp_img = nb.load(mask_filenames[i][1])\n",
    "    rh_hp_img = nb.load(mask_filenames[i][7])\n",
    "    \n",
    "    lh_caudate_img = nb.load(mask_filenames[i][5])\n",
    "    rh_caudate_img = nb.load(mask_filenames[i][10])\n",
    "    \n",
    "    lh_dlPFC_img = nb.load(mask_filenames[i][0])\n",
    "    rh_dlPFC_img = nb.load(mask_filenames[i][6])\n",
    "    \n",
    "    lh_mPFC_img = nb.load(mask_filenames[i][12])\n",
    "    rh_mPFC_img = nb.load(mask_filenames[i][13])\n",
    "    \n",
    "    #Load copes for corr vs incorr betas\n",
    "    cope_corr_img = nb.load(cope_files[i][0])\n",
    "    cope_incorr_img = nb.load(cope_files[i][1])\n",
    "     \n",
    "  \n",
    "    ########################\n",
    "    ### Left Hippocampus ###\n",
    "    ########################\n",
    "    \n",
    "    # cope_corr\n",
    "    lh_hp_corr_data = cope_corr_img.get_data()[lh_hp_img.get_data() > 0.]\n",
    "    all_data['lh_hp_corr'].append(lh_hp_corr_data[0:-1])\n",
    "    \n",
    "    # cope_incorr\n",
    "    lh_hp_incorr_data = cope_incorr_img.get_data()[lh_hp_img.get_data() > 0.]\n",
    "    all_data['lh_hp_incorr'].append(lh_hp_incorr_data[0:-1])\n",
    "    \n",
    "    #########################\n",
    "    ### Right Hippocampus ###\n",
    "    #########################\n",
    "    \n",
    "    # cope_corr\n",
    "    rh_hp_corr_data = cope_corr_img.get_data()[rh_hp_img.get_data() > 0.]\n",
    "    all_data['rh_hp_corr'].append(rh_hp_corr_data[0:-1])\n",
    "\n",
    "    # cope_incorr\n",
    "    rh_hp_incorr_data = cope_incorr_img.get_data()[rh_hp_img.get_data() > 0.]\n",
    "    all_data['rh_hp_incorr'].append(rh_hp_incorr_data[0:-1])\n",
    "    \n",
    "    #####################\n",
    "    ### Left Caudate ###\n",
    "    ##################### \n",
    "    \n",
    "    # cope_corr\n",
    "    lh_caudate_corr_data = cope_corr_img.get_data()[lh_caudate_img.get_data() > 0.]\n",
    "    all_data['lh_caudate_corr'].append(lh_caudate_corr_data[0:-1])\n",
    "\n",
    "    # cope_incorr\n",
    "    lh_caudate_incorr_data = cope_incorr_img.get_data()[lh_caudate_img.get_data() > 0.]\n",
    "    all_data['lh_caudate_incorr'].append(lh_caudate_incorr_data[0:-1])\n",
    "    \n",
    "    #####################\n",
    "    ### Right Caudate ###\n",
    "    ##################### \n",
    "    \n",
    "    # cope_corr\n",
    "    rh_caudate_corr_data = cope_corr_img.get_data()[rh_caudate_img.get_data() > 0.]\n",
    "    all_data['rh_caudate_corr'].append(rh_caudate_corr_data[0:-1])\n",
    "\n",
    "    # cope_incorr\n",
    "    rh_caudate_incorr_data = cope_incorr_img.get_data()[rh_caudate_img.get_data() > 0.]\n",
    "    all_data['rh_caudate_incorr'].append(rh_caudate_incorr_data[0:-1])  \n",
    "    \n",
    "    ####################\n",
    "    #### Left mPFC #####\n",
    "    ####################\n",
    "    \n",
    "    # cope_corr\n",
    "    lh_mPFC_corr_data = cope_corr_img.get_data()[lh_mPFC_img.get_data() > 0.]\n",
    "    all_data['lh_mPFC_corr'].append(lh_mPFC_corr_data[0:-1])\n",
    "    \n",
    "    # cope_incorr\n",
    "    lh_mPFC_incorr_data = cope_incorr_img.get_data()[lh_mPFC_img.get_data() > 0.]\n",
    "    all_data['lh_mPFC_incorr'].append(lh_mPFC_incorr_data[0:-1])    \n",
    "    \n",
    "    #####################\n",
    "    #### Right mPFC #####\n",
    "    #####################\n",
    "    \n",
    "    # cope_corr\n",
    "    rh_mPFC_corr_data = cope_corr_img.get_data()[rh_mPFC_img.get_data() > 0.]\n",
    "    all_data['rh_mPFC_corr'].append(rh_mPFC_corr_data[0:-1])\n",
    "\n",
    "    # cope_incorr\n",
    "    rh_mPFC_incorr_data = cope_incorr_img.get_data()[rh_mPFC_img.get_data() > 0.]\n",
    "    all_data['rh_mPFC_incorr'].append(rh_mPFC_incorr_data[0:-1]) \n",
    "    \n",
    "    ####################\n",
    "    #### Left dlPFC ####\n",
    "    ####################\n",
    "    \n",
    "    # cope_corr\n",
    "    lh_dlPFC_corr_data = cope_corr_img.get_data()[lh_dlPFC_img.get_data() > 0.]\n",
    "    all_data['lh_dlPFC_corr'].append(lh_dlPFC_corr_data[0:-1])\n",
    "    \n",
    "    # cope_incorr\n",
    "    lh_dlPFC_incorr_data = cope_incorr_img.get_data()[lh_dlPFC_img.get_data() > 0.]\n",
    "    all_data['lh_dlPFC_incorr'].append(lh_dlPFC_incorr_data[0:-1])  \n",
    "    \n",
    "    #####################\n",
    "    ### Right dlPFC ###\n",
    "    #####################\n",
    "    \n",
    "    # cope_corr\n",
    "    rh_dlPFC_corr_data = cope_corr_img.get_data()[rh_dlPFC_img.get_data() > 0.]\n",
    "    all_data['rh_dlPFC_corr'].append(rh_dlPFC_corr_data[0:-1])\n",
    "\n",
    "    # cope_incorr\n",
    "    rh_dlPFC_incorr_data = cope_incorr_img.get_data()[rh_dlPFC_img.get_data() > 0.]\n",
    "    all_data['rh_dlPFC_incorr'].append(rh_dlPFC_incorr_data[0:-1])\n",
    "    \n",
    "    \n",
    "    all_keys = ['lh_hp_corr', 'rh_hp_corr', \n",
    "                'lh_hp_incorr', 'rh_hp_incorr',                 \n",
    "                'lh_caudate_corr', 'rh_caudate_corr', \n",
    "                'lh_caudate_incorr', 'rh_caudate_incorr',  \n",
    "                'lh_dlPFC_corr', 'rh_dlPFC_corr', \n",
    "                'lh_dlPFC_incorr', 'rh_dlPFC_incorr',            \n",
    "                'lh_mPFC_corr', 'rh_mPFC_corr', \n",
    "                'lh_mPFC_incorr', 'rh_mPFC_incorr']\n",
    "    \n",
    "    for key in all_keys: \n",
    "        # averaging each column for only the current participant \n",
    "        all_data[key][-1] = np.mean(all_data[key][-1], axis = 0)\n",
    "       \n",
    "    #Combined Hippocampus average for corr and incorr for current sub\n",
    "    all_data['hp_corr'] = (np.array(all_data['lh_hp_corr'][-1]) + np.array(all_data['rh_hp_corr'][-1]))/2.\n",
    "    all_data['hp_incorr'] = (np.array(all_data['lh_hp_incorr'][-1]) + np.array(all_data['rh_hp_incorr'][-1]))/2.\n",
    "                             \n",
    "    #Combined Caudate average for corr and incorr for current sub\n",
    "    all_data['caudate_corr'] = (np.array(all_data['lh_caudate_corr'][-1]) + np.array(all_data['rh_caudate_corr'][-1]))/2.\n",
    "    all_data['caudate_incorr'] = (np.array(all_data['lh_caudate_incorr'][-1]) + np.array(all_data['rh_caudate_incorr'][-1]))/2.\n",
    "\n",
    "    # Combined mPFC average for corr and incorr for current sub\n",
    "    all_data['mPFC_corr'] = (np.array(all_data['lh_mPFC_corr'][-1]) + np.array(all_data['rh_mPFC_corr'][-1]))/2.\n",
    "    all_data['mPFC_incorr'] = (np.array(all_data['lh_mPFC_incorr'][-1]) + np.array(all_data['rh_mPFC_incorr'][-1]))/2.\n",
    "\n",
    "    #Combined dlPFC average for corr and incorr for current sub\n",
    "    all_data['dlPFC_corr'] = (np.array(all_data['lh_dlPFC_corr'][-1]) + np.array(all_data['rh_dlPFC_corr'][-1]))/2.\n",
    "    all_data['dlPFC_incorr'] = (np.array(all_data['lh_dlPFC_incorr'][-1]) + np.array(all_data['rh_dlPFC_incorr'][-1]))/2.   \n",
    "   \n",
    "    \n",
    "    # Creation of the correlation matrix (with subject id column)\n",
    "    corr_matrix[i][0] = float(sids[i][-3:])\n",
    "    corr_matrix[i][1] = stats.pearsonr(all_data['hp_corr'], all_data['mPFC_corr'])[0]\n",
    "    corr_matrix[i][2] = stats.pearsonr(all_data['hp_incorr'], all_data['mPFC_incorr'])[0]\n",
    "    corr_matrix[i][3] = stats.pearsonr(all_data['caudate_corr'], all_data['dlPFC_corr'])[0]\n",
    "    corr_matrix[i][4] = stats.pearsonr(all_data['caudate_incorr'], all_data['dlPFC_incorr'])[0]"
   ]
  },
  {
   "cell_type": "markdown",
   "metadata": {},
   "source": [
    "##  Non-normalized correlation matrix for beta series"
   ]
  },
  {
   "cell_type": "code",
   "execution_count": 27,
   "metadata": {
    "collapsed": true
   },
   "outputs": [],
   "source": [
    "import pandas as pd\n",
    "corr_chart = {}\n",
    "corr_chart['HPC-mPFC_corr'] = corr_matrix[:, 1] #hpc-mpfc corr\n",
    "corr_chart['HPC-mPFC_incorr'] = corr_matrix[:, 2] #hpc-mpfc incorr\n",
    "corr_chart['Caudate-dlPFC_corr'] = corr_matrix[:, 3] #caudate-dlpfc corr\n",
    "corr_chart['Caudate-dlPFC_incorr'] = corr_matrix[:, 4] #caudate-dlpfc incorr\n",
    "corr_chart_df = pd.DataFrame.from_dict(corr_chart)"
   ]
  },
  {
   "cell_type": "code",
   "execution_count": 28,
   "metadata": {
    "collapsed": false
   },
   "outputs": [
    {
     "data": {
      "text/html": [
       "<div>\n",
       "<table border=\"1\" class=\"dataframe\">\n",
       "  <thead>\n",
       "    <tr style=\"text-align: right;\">\n",
       "      <th></th>\n",
       "      <th>Caudate-dlPFC_corr</th>\n",
       "      <th>Caudate-dlPFC_incorr</th>\n",
       "      <th>HPC-mPFC_corr</th>\n",
       "      <th>HPC-mPFC_incorr</th>\n",
       "    </tr>\n",
       "  </thead>\n",
       "  <tbody>\n",
       "    <tr>\n",
       "      <th>0</th>\n",
       "      <td>0.581055</td>\n",
       "      <td>0.642282</td>\n",
       "      <td>0.630706</td>\n",
       "      <td>0.600564</td>\n",
       "    </tr>\n",
       "    <tr>\n",
       "      <th>1</th>\n",
       "      <td>0.797703</td>\n",
       "      <td>-0.203779</td>\n",
       "      <td>0.741348</td>\n",
       "      <td>0.699202</td>\n",
       "    </tr>\n",
       "    <tr>\n",
       "      <th>2</th>\n",
       "      <td>0.308959</td>\n",
       "      <td>0.585249</td>\n",
       "      <td>0.674546</td>\n",
       "      <td>0.856116</td>\n",
       "    </tr>\n",
       "    <tr>\n",
       "      <th>3</th>\n",
       "      <td>0.698636</td>\n",
       "      <td>0.481525</td>\n",
       "      <td>0.778971</td>\n",
       "      <td>0.809298</td>\n",
       "    </tr>\n",
       "    <tr>\n",
       "      <th>4</th>\n",
       "      <td>0.285225</td>\n",
       "      <td>0.511025</td>\n",
       "      <td>0.799554</td>\n",
       "      <td>0.869286</td>\n",
       "    </tr>\n",
       "    <tr>\n",
       "      <th>5</th>\n",
       "      <td>0.560334</td>\n",
       "      <td>0.832812</td>\n",
       "      <td>0.593553</td>\n",
       "      <td>0.786110</td>\n",
       "    </tr>\n",
       "    <tr>\n",
       "      <th>6</th>\n",
       "      <td>0.711420</td>\n",
       "      <td>0.823197</td>\n",
       "      <td>0.750975</td>\n",
       "      <td>0.773803</td>\n",
       "    </tr>\n",
       "    <tr>\n",
       "      <th>7</th>\n",
       "      <td>0.252718</td>\n",
       "      <td>0.224982</td>\n",
       "      <td>0.374142</td>\n",
       "      <td>0.490312</td>\n",
       "    </tr>\n",
       "    <tr>\n",
       "      <th>8</th>\n",
       "      <td>0.385632</td>\n",
       "      <td>0.408423</td>\n",
       "      <td>0.381358</td>\n",
       "      <td>0.669755</td>\n",
       "    </tr>\n",
       "    <tr>\n",
       "      <th>9</th>\n",
       "      <td>0.388298</td>\n",
       "      <td>0.437637</td>\n",
       "      <td>0.268043</td>\n",
       "      <td>0.069007</td>\n",
       "    </tr>\n",
       "    <tr>\n",
       "      <th>10</th>\n",
       "      <td>0.749673</td>\n",
       "      <td>0.874660</td>\n",
       "      <td>0.761307</td>\n",
       "      <td>0.885682</td>\n",
       "    </tr>\n",
       "    <tr>\n",
       "      <th>11</th>\n",
       "      <td>0.474230</td>\n",
       "      <td>-0.296939</td>\n",
       "      <td>0.550228</td>\n",
       "      <td>0.757140</td>\n",
       "    </tr>\n",
       "    <tr>\n",
       "      <th>12</th>\n",
       "      <td>0.410235</td>\n",
       "      <td>0.640216</td>\n",
       "      <td>0.670573</td>\n",
       "      <td>0.196396</td>\n",
       "    </tr>\n",
       "    <tr>\n",
       "      <th>13</th>\n",
       "      <td>0.418409</td>\n",
       "      <td>0.027182</td>\n",
       "      <td>0.678888</td>\n",
       "      <td>0.449783</td>\n",
       "    </tr>\n",
       "    <tr>\n",
       "      <th>14</th>\n",
       "      <td>0.684036</td>\n",
       "      <td>0.603114</td>\n",
       "      <td>0.464102</td>\n",
       "      <td>-0.194711</td>\n",
       "    </tr>\n",
       "    <tr>\n",
       "      <th>15</th>\n",
       "      <td>0.689529</td>\n",
       "      <td>0.497769</td>\n",
       "      <td>0.258061</td>\n",
       "      <td>-0.045544</td>\n",
       "    </tr>\n",
       "    <tr>\n",
       "      <th>16</th>\n",
       "      <td>0.719107</td>\n",
       "      <td>-0.118737</td>\n",
       "      <td>0.703128</td>\n",
       "      <td>0.141425</td>\n",
       "    </tr>\n",
       "    <tr>\n",
       "      <th>17</th>\n",
       "      <td>0.774288</td>\n",
       "      <td>0.851420</td>\n",
       "      <td>0.617830</td>\n",
       "      <td>0.555605</td>\n",
       "    </tr>\n",
       "    <tr>\n",
       "      <th>18</th>\n",
       "      <td>0.311253</td>\n",
       "      <td>0.408346</td>\n",
       "      <td>0.593635</td>\n",
       "      <td>0.001478</td>\n",
       "    </tr>\n",
       "    <tr>\n",
       "      <th>19</th>\n",
       "      <td>0.853916</td>\n",
       "      <td>0.913773</td>\n",
       "      <td>0.825706</td>\n",
       "      <td>0.951693</td>\n",
       "    </tr>\n",
       "  </tbody>\n",
       "</table>\n",
       "</div>"
      ],
      "text/plain": [
       "    Caudate-dlPFC_corr  Caudate-dlPFC_incorr  HPC-mPFC_corr  HPC-mPFC_incorr\n",
       "0             0.581055              0.642282       0.630706         0.600564\n",
       "1             0.797703             -0.203779       0.741348         0.699202\n",
       "2             0.308959              0.585249       0.674546         0.856116\n",
       "3             0.698636              0.481525       0.778971         0.809298\n",
       "4             0.285225              0.511025       0.799554         0.869286\n",
       "5             0.560334              0.832812       0.593553         0.786110\n",
       "6             0.711420              0.823197       0.750975         0.773803\n",
       "7             0.252718              0.224982       0.374142         0.490312\n",
       "8             0.385632              0.408423       0.381358         0.669755\n",
       "9             0.388298              0.437637       0.268043         0.069007\n",
       "10            0.749673              0.874660       0.761307         0.885682\n",
       "11            0.474230             -0.296939       0.550228         0.757140\n",
       "12            0.410235              0.640216       0.670573         0.196396\n",
       "13            0.418409              0.027182       0.678888         0.449783\n",
       "14            0.684036              0.603114       0.464102        -0.194711\n",
       "15            0.689529              0.497769       0.258061        -0.045544\n",
       "16            0.719107             -0.118737       0.703128         0.141425\n",
       "17            0.774288              0.851420       0.617830         0.555605\n",
       "18            0.311253              0.408346       0.593635         0.001478\n",
       "19            0.853916              0.913773       0.825706         0.951693"
      ]
     },
     "execution_count": 28,
     "metadata": {},
     "output_type": "execute_result"
    }
   ],
   "source": [
    "corr_chart_df"
   ]
  },
  {
   "cell_type": "code",
   "execution_count": 29,
   "metadata": {
    "collapsed": false
   },
   "outputs": [
    {
     "name": "stdout",
     "output_type": "stream",
     "text": [
      "0.605832630396\n",
      "0.51611998445\n",
      "0.552732798457\n",
      "0.457207888365\n"
     ]
    },
    {
     "data": {
      "image/png": "[encoded data removed]",
      "text/plain": [
       "<matplotlib.figure.Figure at 0x2b0e88cb7610>"
      ]
     },
     "metadata": {},
     "output_type": "display_data"
    }
   ],
   "source": [
    "import seaborn as sns\n",
    "#sns.set_style(\"ticks\")\n",
    "sns.set_palette('muted')\n",
    "import matplotlib.pyplot as plt\n",
    "\n",
    "N = 4\n",
    "conditions = ['HPC-mPFC_corr', 'HPC-mPFC_incorr', 'Caudate-dlPFC_corr', 'Caudate-dlPFC_incorr']\n",
    "means_allsubjs = [np.average(corr_chart['HPC-mPFC_corr']), \n",
    "                  np.average(corr_chart['HPC-mPFC_incorr']),\n",
    "                  np.average(corr_chart['Caudate-dlPFC_corr']), \n",
    "                  np.average(corr_chart['Caudate-dlPFC_incorr'])]\n",
    "sem_allsubjs = [np.average(corr_chart['HPC-mPFC_corr']/(np.sqrt(len(sids)))), \n",
    "                np.average(corr_chart['HPC-mPFC_incorr']/(np.sqrt(len(sids)))),\n",
    "                np.average(corr_chart['Caudate-dlPFC_corr']/(np.sqrt(len(sids)))), \n",
    "                np.average(corr_chart['Caudate-dlPFC_incorr']/(np.sqrt(len(sids))))]\n",
    "print np.average(corr_chart['HPC-mPFC_corr'])\n",
    "print np.average(corr_chart['HPC-mPFC_incorr'])\n",
    "print np.average(corr_chart['Caudate-dlPFC_corr'])\n",
    "print np.average(corr_chart['Caudate-dlPFC_incorr'])\n",
    "\n",
    "\n",
    "ind = np.arange(N)\n",
    "width = 0.5\n",
    "\n",
    "fig, ax = plt.subplots()\n",
    "\n",
    "ax.spines['right'].set_color('none')\n",
    "ax.spines['top'].set_color('none')\n",
    "ax.xaxis.set_ticks_position('bottom')\n",
    "ax.yaxis.set_ticks_position('left')\n",
    "\n",
    "ax = sns.barplot(ind, means_allsubjs, yerr = sem_allsubjs, ecolor = 'black')\n",
    "\n",
    "ax.set_xticks(ind)\n",
    "ax.set_xticklabels(conditions)\n",
    "#ax.set_ylim(0,1)\n",
    "ax.set_ylabel(\"Pearsons r\")\n",
    "ax.set_xlabel(\"Regional Correlations\")\n",
    "ax.set_title(\"Non-Normalized R Values\")\n",
    "plt.show()"
   ]
  },
  {
   "cell_type": "markdown",
   "metadata": {},
   "source": [
    "## Normalized correlation matrix for beta series"
   ]
  },
  {
   "cell_type": "code",
   "execution_count": 30,
   "metadata": {
    "collapsed": true
   },
   "outputs": [],
   "source": [
    "# Use Numpy's arctangent function to normalize correlations\n",
    "norm_corr = np.arctanh(corr_matrix[:, 1:])\n",
    "#print(norm_corr)"
   ]
  },
  {
   "cell_type": "code",
   "execution_count": 31,
   "metadata": {
    "collapsed": true
   },
   "outputs": [],
   "source": [
    "import pandas as pd\n",
    "norm_chart = {}\n",
    "norm_chart['HPC-mPFC_corr'] = norm_corr[:, 0] #hpc-mpfc corr\n",
    "norm_chart['HPC-mPFC_incorr'] = norm_corr[:, 1] #hpc-mpfc incorr\n",
    "norm_chart['Caudate-dlPFC_corr'] = norm_corr[:, 2] #caudate-dlpfc corr\n",
    "norm_chart['Caudate-dlPFC_incorr'] = norm_corr[:, 3] #caudate-dlpfc incorr\n",
    "norm_chart_df = pd.DataFrame.from_dict(norm_chart)"
   ]
  },
  {
   "cell_type": "code",
   "execution_count": 32,
   "metadata": {
    "collapsed": false
   },
   "outputs": [
    {
     "data": {
      "text/html": [
       "<div>\n",
       "<table border=\"1\" class=\"dataframe\">\n",
       "  <thead>\n",
       "    <tr style=\"text-align: right;\">\n",
       "      <th></th>\n",
       "      <th>Caudate-dlPFC_corr</th>\n",
       "      <th>Caudate-dlPFC_incorr</th>\n",
       "      <th>HPC-mPFC_corr</th>\n",
       "      <th>HPC-mPFC_incorr</th>\n",
       "    </tr>\n",
       "  </thead>\n",
       "  <tbody>\n",
       "    <tr>\n",
       "      <th>0</th>\n",
       "      <td>0.664053</td>\n",
       "      <td>0.762048</td>\n",
       "      <td>0.742587</td>\n",
       "      <td>0.694028</td>\n",
       "    </tr>\n",
       "    <tr>\n",
       "      <th>1</th>\n",
       "      <td>1.092264</td>\n",
       "      <td>-0.206672</td>\n",
       "      <td>0.953465</td>\n",
       "      <td>0.865737</td>\n",
       "    </tr>\n",
       "    <tr>\n",
       "      <th>2</th>\n",
       "      <td>0.319394</td>\n",
       "      <td>0.670410</td>\n",
       "      <td>0.819039</td>\n",
       "      <td>1.278617</td>\n",
       "    </tr>\n",
       "    <tr>\n",
       "      <th>3</th>\n",
       "      <td>0.864631</td>\n",
       "      <td>0.524968</td>\n",
       "      <td>1.042748</td>\n",
       "      <td>1.124992</td>\n",
       "    </tr>\n",
       "    <tr>\n",
       "      <th>4</th>\n",
       "      <td>0.293361</td>\n",
       "      <td>0.564117</td>\n",
       "      <td>1.097375</td>\n",
       "      <td>1.330151</td>\n",
       "    </tr>\n",
       "    <tr>\n",
       "      <th>5</th>\n",
       "      <td>0.633319</td>\n",
       "      <td>1.197245</td>\n",
       "      <td>0.683134</td>\n",
       "      <td>1.061167</td>\n",
       "    </tr>\n",
       "    <tr>\n",
       "      <th>6</th>\n",
       "      <td>0.890053</td>\n",
       "      <td>1.166654</td>\n",
       "      <td>0.975187</td>\n",
       "      <td>1.029739</td>\n",
       "    </tr>\n",
       "    <tr>\n",
       "      <th>7</th>\n",
       "      <td>0.258315</td>\n",
       "      <td>0.228898</td>\n",
       "      <td>0.393230</td>\n",
       "      <td>0.536471</td>\n",
       "    </tr>\n",
       "    <tr>\n",
       "      <th>8</th>\n",
       "      <td>0.406659</td>\n",
       "      <td>0.433717</td>\n",
       "      <td>0.401648</td>\n",
       "      <td>0.810298</td>\n",
       "    </tr>\n",
       "    <tr>\n",
       "      <th>9</th>\n",
       "      <td>0.409794</td>\n",
       "      <td>0.469304</td>\n",
       "      <td>0.274754</td>\n",
       "      <td>0.069117</td>\n",
       "    </tr>\n",
       "    <tr>\n",
       "      <th>10</th>\n",
       "      <td>0.972209</td>\n",
       "      <td>1.352576</td>\n",
       "      <td>0.999316</td>\n",
       "      <td>1.401529</td>\n",
       "    </tr>\n",
       "    <tr>\n",
       "      <th>11</th>\n",
       "      <td>0.515513</td>\n",
       "      <td>-0.306159</td>\n",
       "      <td>0.618708</td>\n",
       "      <td>0.989479</td>\n",
       "    </tr>\n",
       "    <tr>\n",
       "      <th>12</th>\n",
       "      <td>0.435894</td>\n",
       "      <td>0.758540</td>\n",
       "      <td>0.811784</td>\n",
       "      <td>0.198981</td>\n",
       "    </tr>\n",
       "    <tr>\n",
       "      <th>13</th>\n",
       "      <td>0.445762</td>\n",
       "      <td>0.027189</td>\n",
       "      <td>0.827048</td>\n",
       "      <td>0.484428</td>\n",
       "    </tr>\n",
       "    <tr>\n",
       "      <th>14</th>\n",
       "      <td>0.836659</td>\n",
       "      <td>0.698027</td>\n",
       "      <td>0.502527</td>\n",
       "      <td>-0.197229</td>\n",
       "    </tr>\n",
       "    <tr>\n",
       "      <th>15</th>\n",
       "      <td>0.847058</td>\n",
       "      <td>0.546336</td>\n",
       "      <td>0.264030</td>\n",
       "      <td>-0.045576</td>\n",
       "    </tr>\n",
       "    <tr>\n",
       "      <th>16</th>\n",
       "      <td>0.905794</td>\n",
       "      <td>-0.119300</td>\n",
       "      <td>0.873461</td>\n",
       "      <td>0.142380</td>\n",
       "    </tr>\n",
       "    <tr>\n",
       "      <th>17</th>\n",
       "      <td>1.030947</td>\n",
       "      <td>1.261291</td>\n",
       "      <td>0.721488</td>\n",
       "      <td>0.626453</td>\n",
       "    </tr>\n",
       "    <tr>\n",
       "      <th>18</th>\n",
       "      <td>0.321932</td>\n",
       "      <td>0.433625</td>\n",
       "      <td>0.683260</td>\n",
       "      <td>0.001478</td>\n",
       "    </tr>\n",
       "    <tr>\n",
       "      <th>19</th>\n",
       "      <td>1.270435</td>\n",
       "      <td>1.549925</td>\n",
       "      <td>1.174489</td>\n",
       "      <td>1.849439</td>\n",
       "    </tr>\n",
       "  </tbody>\n",
       "</table>\n",
       "</div>"
      ],
      "text/plain": [
       "    Caudate-dlPFC_corr  Caudate-dlPFC_incorr  HPC-mPFC_corr  HPC-mPFC_incorr\n",
       "0             0.664053              0.762048       0.742587         0.694028\n",
       "1             1.092264             -0.206672       0.953465         0.865737\n",
       "2             0.319394              0.670410       0.819039         1.278617\n",
       "3             0.864631              0.524968       1.042748         1.124992\n",
       "4             0.293361              0.564117       1.097375         1.330151\n",
       "5             0.633319              1.197245       0.683134         1.061167\n",
       "6             0.890053              1.166654       0.975187         1.029739\n",
       "7             0.258315              0.228898       0.393230         0.536471\n",
       "8             0.406659              0.433717       0.401648         0.810298\n",
       "9             0.409794              0.469304       0.274754         0.069117\n",
       "10            0.972209              1.352576       0.999316         1.401529\n",
       "11            0.515513             -0.306159       0.618708         0.989479\n",
       "12            0.435894              0.758540       0.811784         0.198981\n",
       "13            0.445762              0.027189       0.827048         0.484428\n",
       "14            0.836659              0.698027       0.502527        -0.197229\n",
       "15            0.847058              0.546336       0.264030        -0.045576\n",
       "16            0.905794             -0.119300       0.873461         0.142380\n",
       "17            1.030947              1.261291       0.721488         0.626453\n",
       "18            0.321932              0.433625       0.683260         0.001478\n",
       "19            1.270435              1.549925       1.174489         1.849439"
      ]
     },
     "execution_count": 32,
     "metadata": {},
     "output_type": "execute_result"
    }
   ],
   "source": [
    "norm_chart_df"
   ]
  },
  {
   "cell_type": "markdown",
   "metadata": {},
   "source": [
    "### Descriptive Statistics"
   ]
  },
  {
   "cell_type": "code",
   "execution_count": 33,
   "metadata": {
    "collapsed": false
   },
   "outputs": [
    {
     "name": "stdout",
     "output_type": "stream",
     "text": [
      "Mean: HPC-mPFC_corr\n",
      "0.742963900627\n",
      "SD: HPC-mPFC_corr\n",
      "0.261585007578\n",
      "\n",
      "Mean: HPC-mPFC_incorr\n",
      "0.712583955561\n",
      "SD: HPC-mPFC_incorr\n",
      "0.546477962884\n",
      "\n",
      "Mean: Caudate-dlPFC_corr\n",
      "0.670702357332\n",
      "SD: Caudate-dlPFC_corr\n",
      "0.298686185608\n",
      "\n",
      "Mean: Caudate-dlPFC_incorr\n",
      "0.600636825404\n",
      "SD: Caudate-dlPFC_incorr\n",
      "0.509267024637\n"
     ]
    }
   ],
   "source": [
    "print \"Mean: HPC-mPFC_corr\"\n",
    "print np.average(norm_corr[:, 0])\n",
    "print \"SD: HPC-mPFC_corr\"\n",
    "print np.std(norm_corr[:, 0])\n",
    "print \"\"\n",
    "print \"Mean: HPC-mPFC_incorr\"\n",
    "print np.average(norm_corr[:, 1])\n",
    "print \"SD: HPC-mPFC_incorr\"\n",
    "print np.std(norm_corr[:, 1])\n",
    "print \"\"\n",
    "print \"Mean: Caudate-dlPFC_corr\"\n",
    "print np.average(norm_corr[:, 2])\n",
    "print \"SD: Caudate-dlPFC_corr\"\n",
    "print np.std(norm_corr[:, 2])\n",
    "print \"\"\n",
    "print \"Mean: Caudate-dlPFC_incorr\"\n",
    "print np.average(norm_corr[:, 3])\n",
    "print \"SD: Caudate-dlPFC_incorr\"\n",
    "print np.std(norm_corr[:, 3])"
   ]
  },
  {
   "cell_type": "markdown",
   "metadata": {},
   "source": [
    "### Assumptions Tests "
   ]
  },
  {
   "cell_type": "code",
   "execution_count": 56,
   "metadata": {
    "collapsed": false
   },
   "outputs": [
    {
     "name": "stdout",
     "output_type": "stream",
     "text": [
      "Levene's Test of Equal Variance\n",
      "LeveneResult(statistic=12.243221359784762, pvalue=0.00078425776425497388)\n",
      "\n",
      "Shapiro-Wilk Test of Normality\n",
      "HPC (0.966688871383667, 0.2955549955368042)\n",
      "mPFC (0.9465897083282471, 0.06310275942087173)\n",
      "\n",
      "D'Agostino and Pearson Test of Normality\n",
      "NormaltestResult(statistic=1.9099489838666086, pvalue=0.38482196049201955)\n"
     ]
    }
   ],
   "source": [
    "print \"Levene's Test of Equal Variance\"\n",
    "a = stats.levene(all_data['hp_corr'], all_data['mPFC_corr'])\n",
    "print a\n",
    "b = stats.shapiro(all_data['hp_corr'])\n",
    "print \"\"\n",
    "print \"Shapiro-Wilk Test of Normality\"\n",
    "print \"HPC\", b\n",
    "c = stats.shapiro(all_data['mPFC_corr'])\n",
    "print \"mPFC\", c\n",
    "print \"\"\n",
    "\n",
    "print \"D'Agostino and Pearson Test of Normality\"\n",
    "d = stats.mstats.normaltest(all_data['hp_corr'])\n",
    "print d"
   ]
  },
  {
   "cell_type": "markdown",
   "metadata": {},
   "source": [
    "### Inferential Statistics"
   ]
  },
  {
   "cell_type": "code",
   "execution_count": 53,
   "metadata": {
    "collapsed": false
   },
   "outputs": [
    {
     "name": "stdout",
     "output_type": "stream",
     "text": [
      "HPC-mPFC_corr vs. HPC-mPFC_incorr\n",
      "WilcoxonResult(statistic=101.0, pvalue=0.88129270865395981)\n",
      "\n",
      "Caudate-dlPFC_corr vs. Caudate-dlPFC_incorr\n",
      "WilcoxonResult(statistic=105.0, pvalue=1.0)\n",
      "\n",
      "Bonferroni correction\n",
      "0.05/2 = 0.025\n"
     ]
    }
   ],
   "source": [
    "print 'HPC-mPFC_corr vs. HPC-mPFC_incorr'\n",
    "print stats.wilcoxon(norm_corr[:, 0], norm_corr[:, 1])\n",
    "print \"\"\n",
    "print 'Caudate-dlPFC_corr vs. Caudate-dlPFC_incorr'\n",
    "print stats.wilcoxon(norm_corr[:, 2], norm_corr[:, 3])\n",
    "print \"\"\n",
    "print \"Bonferroni correction\"\n",
    "print '0.05/2 = 0.025'"
   ]
  },
  {
   "cell_type": "code",
   "execution_count": 52,
   "metadata": {
    "collapsed": false
   },
   "outputs": [
    {
     "name": "stdout",
     "output_type": "stream",
     "text": [
      "HPC-mPFC_corr vs. HPC-mPFC_incorr\n",
      "Ttest_relResult(statistic=0.31741392062288043, pvalue=0.75439125807472807)\n",
      "\n",
      "Caudate-dlPFC_corr vs. Caudate-dlPFC_incorr\n",
      "Ttest_relResult(statistic=0.62911029730912893, pvalue=0.53676820764272049)\n",
      "\n",
      "Bonferroni correction\n",
      "0.05/2 = 0.025\n"
     ]
    }
   ],
   "source": [
    "print 'HPC-mPFC_corr vs. HPC-mPFC_incorr'\n",
    "print stats.ttest_rel(norm_corr[:, 0], norm_corr[:, 1])\n",
    "print \"\"\n",
    "\n",
    "print 'Caudate-dlPFC_corr vs. Caudate-dlPFC_incorr'\n",
    "print stats.ttest_rel(norm_corr[:, 2], norm_corr[:, 3])\n",
    "print \"\"\n",
    "\n",
    "print \"Bonferroni correction\"\n",
    "print '0.05/2 = 0.025'"
   ]
  },
  {
   "cell_type": "markdown",
   "metadata": {},
   "source": [
    "## Scatterplots illustrating regional activation across trials: Single subject"
   ]
  },
  {
   "cell_type": "markdown",
   "metadata": {},
   "source": [
    "### Hippocampus vs. mPFC: Fixed before CORRECT"
   ]
  },
  {
   "cell_type": "code",
   "execution_count": 13,
   "metadata": {
    "collapsed": false
   },
   "outputs": [
    {
     "data": {
      "text/plain": [
       "<matplotlib.text.Text at 0x2b0e888a7f50>"
      ]
     },
     "execution_count": 13,
     "metadata": {},
     "output_type": "execute_result"
    },
    {
     "data": {
      "image/png": "[encoded data removed]",
      "text/plain": [
       "<matplotlib.figure.Figure at 0x2b0e88aabbd0>"
      ]
     },
     "metadata": {},
     "output_type": "display_data"
    }
   ],
   "source": [
    "%matplotlib inline\n",
    "# Scatterplot\n",
    "\n",
    "ax = []\n",
    "for a in range(0,39,1):\n",
    "    ax.append(a)\n",
    "\n",
    "x = ax\n",
    "\n",
    "#print len(x)\n",
    "y = all_data['hp_corr']\n",
    "z = all_data['mPFC_corr']\n",
    "#print len(y)\n",
    "#print len(z)\n",
    "\n",
    "\n",
    "fig, (ax, ax2) = plt.subplots(ncols = 2, figsize=(11, 4), sharex = True, sharey = True)\n",
    "fit = np.polyfit(x, y, deg = 1)\n",
    "ax.plot(x, np.array(fit[0]) * np.array(x) + np.array(fit[1]), color = 'blue')\n",
    "ax.scatter(x, y, c = 'blue', alpha = 0.5)\n",
    "ax.set_ylabel('Activation')\n",
    "ax.set_xlabel('Trials')\n",
    "ax.set_title('HPC Activation Across Correct Trials')\n",
    "\n",
    "\n",
    "fit2 = np.polyfit(x, z, deg = 1)\n",
    "ax2.plot(x, np.array(fit2[0]) * np.array(x) + np.array(fit2[1]), color = 'purple')\n",
    "ax2.scatter(x, z, c = 'purple', alpha = 0.5)\n",
    "ax2.set_ylabel('Activation')\n",
    "ax2.set_xlabel('Trials')\n",
    "ax2.set_title('mPFC Activation Across Correct Trials')"
   ]
  },
  {
   "cell_type": "code",
   "execution_count": 15,
   "metadata": {
    "collapsed": false
   },
   "outputs": [
    {
     "data": {
      "image/png": "[encoded data removed]",
      "text/plain": [
       "<matplotlib.figure.Figure at 0x2b0e88577d10>"
      ]
     },
     "metadata": {},
     "output_type": "display_data"
    }
   ],
   "source": [
    "%matplotlib inline\n",
    "# Scatterplot\n",
    "\n",
    "ax = []\n",
    "for a in range(0,39,1):\n",
    "    ax.append(a)\n",
    "\n",
    "x = ax\n",
    "\n",
    "#print len(x)\n",
    "y = all_data['hp_corr']\n",
    "z = all_data['mPFC_corr']\n",
    "#print len(y)\n",
    "#print len(z)\n",
    "\n",
    "fit = np.polyfit(x, y, deg = 1)\n",
    "plt.plot(x, np.array(fit[0]) * np.array(x) + np.array(fit[1]), color = 'blue')\n",
    "plt.scatter(x, y, c = 'blue', alpha = 0.5)\n",
    "\n",
    "fit2 = np.polyfit(x, z, deg = 1)\n",
    "plt.plot(x, np.array(fit2[0]) * np.array(x) + np.array(fit2[1]), color = 'purple')\n",
    "plt.scatter(x, z, c = 'purple', alpha = 0.5)\n",
    "\n",
    "plt.ylabel('Activation')\n",
    "plt.xlabel('Trials')\n",
    "plt.title('HPC vs. mPFC Activation Across Correct Trials')\n",
    "plt.show()"
   ]
  },
  {
   "cell_type": "markdown",
   "metadata": {},
   "source": [
    "### Hippocampus vs. mPFC: Fixed before INCORRECT"
   ]
  },
  {
   "cell_type": "code",
   "execution_count": 17,
   "metadata": {
    "collapsed": false
   },
   "outputs": [
    {
     "data": {
      "text/plain": [
       "<matplotlib.text.Text at 0x2b0e88e1c350>"
      ]
     },
     "execution_count": 17,
     "metadata": {},
     "output_type": "execute_result"
    },
    {
     "data": {
      "image/png": "[encoded data removed]",
      "text/plain": [
       "<matplotlib.figure.Figure at 0x2b0e88568c10>"
      ]
     },
     "metadata": {},
     "output_type": "display_data"
    }
   ],
   "source": [
    "%matplotlib inline\n",
    "# Scatterplot\n",
    "\n",
    "ax = []\n",
    "for a in range(0,18,1):\n",
    "    ax.append(a)\n",
    "\n",
    "x = ax\n",
    "\n",
    "#print len(x)\n",
    "y = all_data['hp_incorr']\n",
    "z = all_data['mPFC_incorr']\n",
    "#print len(y)\n",
    "#print len(z)\n",
    "\n",
    "fig, (ax, ax2) = plt.subplots(ncols = 2, figsize=(11, 4), sharex = True, sharey = True)\n",
    "fit = np.polyfit(x, y, deg = 1)\n",
    "ax.plot(x, np.array(fit[0]) * np.array(x) + np.array(fit[1]), color = 'blue')\n",
    "ax.scatter(x, y, c = 'blue', alpha = 0.8)\n",
    "ax.set_ylabel('Activation')\n",
    "ax.set_xlabel('Trials')\n",
    "ax.set_title('HPC Activation Across Incorrect Trials')\n",
    "\n",
    "\n",
    "fit2 = np.polyfit(x, z, deg = 1)\n",
    "ax2.plot(x, np.array(fit2[0]) * np.array(x) + np.array(fit2[1]), color = 'purple')\n",
    "ax2.scatter(x, z, c = 'purple', alpha = 0.8)\n",
    "ax2.set_ylabel('Activation')\n",
    "ax2.set_xlabel('Trials')\n",
    "ax2.set_title('mPFC Activation Across Incorrect Trials')"
   ]
  },
  {
   "cell_type": "code",
   "execution_count": 18,
   "metadata": {
    "collapsed": false
   },
   "outputs": [
    {
     "data": {
      "image/png": "[encoded data removed]",
      "text/plain": [
       "<matplotlib.figure.Figure at 0x2b0e88d89610>"
      ]
     },
     "metadata": {},
     "output_type": "display_data"
    }
   ],
   "source": [
    "%matplotlib inline\n",
    "# Scatterplot\n",
    "\n",
    "ax = []\n",
    "for a in range(0,18,1):\n",
    "    ax.append(a)\n",
    "\n",
    "x = ax\n",
    "\n",
    "#print len(x)\n",
    "y = all_data['hp_incorr']\n",
    "z = all_data['mPFC_incorr']\n",
    "#print len(y)\n",
    "#print len(z)\n",
    "\n",
    "fit = np.polyfit(x, y, deg = 1)\n",
    "plt.plot(x, np.array(fit[0]) * np.array(x) + np.array(fit[1]), color = 'blue')\n",
    "plt.scatter(x, y, c = 'blue', alpha = 0.5)\n",
    "\n",
    "fit2 = np.polyfit(x, z, deg = 1)\n",
    "plt.plot(x, np.array(fit2[0]) * np.array(x) + np.array(fit2[1]), color = 'purple')\n",
    "plt.scatter(x, z, c = 'purple', alpha = 0.5)\n",
    "\n",
    "plt.ylabel('Activation')\n",
    "plt.xlabel('Trials')\n",
    "plt.title('HPC vs. mPFC Activation Across Incorrect Trials')\n",
    "plt.show()"
   ]
  },
  {
   "cell_type": "markdown",
   "metadata": {},
   "source": [
    "### Caudate vs. dlPFC: Fixed before CORRECT"
   ]
  },
  {
   "cell_type": "code",
   "execution_count": 19,
   "metadata": {
    "collapsed": false
   },
   "outputs": [
    {
     "data": {
      "text/plain": [
       "<matplotlib.text.Text at 0x2b0e88a38150>"
      ]
     },
     "execution_count": 19,
     "metadata": {},
     "output_type": "execute_result"
    },
    {
     "data": {
      "image/png": "[encoded data removed]",
      "text/plain": [
       "<matplotlib.figure.Figure at 0x2b0e88d5b2d0>"
      ]
     },
     "metadata": {},
     "output_type": "display_data"
    }
   ],
   "source": [
    "%matplotlib inline\n",
    "# Scatterplot\n",
    "\n",
    "ax = []\n",
    "for a in range(0,39,1):\n",
    "    ax.append(a)\n",
    "\n",
    "x = ax\n",
    "\n",
    "#print len(x)\n",
    "y = all_data['caudate_corr']\n",
    "z = all_data['dlPFC_corr']\n",
    "#print len(y)\n",
    "#print len(z)\n",
    "\n",
    "fig, (ax, ax2) = plt.subplots(ncols = 2, figsize=(11, 4), sharex = True, sharey = True)\n",
    "fit = np.polyfit(x, y, deg = 1)\n",
    "ax.plot(x, np.array(fit[0]) * np.array(x) + np.array(fit[1]), color = 'blue')\n",
    "ax.scatter(x, y, c = 'blue', alpha = 0.8)\n",
    "ax.set_ylabel('Activation')\n",
    "ax.set_xlabel('Trials')\n",
    "ax.set_title('Caudate Activation Across Correct Trials')\n",
    "\n",
    "\n",
    "fit2 = np.polyfit(x, z, deg = 1)\n",
    "ax2.plot(x, np.array(fit2[0]) * np.array(x) + np.array(fit2[1]), color = 'purple')\n",
    "ax2.scatter(x, z, c = 'purple', alpha = 0.8)\n",
    "ax2.set_ylabel('Activation')\n",
    "ax2.set_xlabel('Trials')\n",
    "ax2.set_title('dlPFC Activation Across Correct Trials')"
   ]
  },
  {
   "cell_type": "code",
   "execution_count": 20,
   "metadata": {
    "collapsed": false
   },
   "outputs": [
    {
     "data": {
      "image/png": "[encoded data removed]",
      "text/plain": [
       "<matplotlib.figure.Figure at 0x2b0e88bf6950>"
      ]
     },
     "metadata": {},
     "output_type": "display_data"
    }
   ],
   "source": [
    "%matplotlib inline\n",
    "# Scatterplot\n",
    "\n",
    "ax = []\n",
    "for a in range(0,39,1):\n",
    "    ax.append(a)\n",
    "\n",
    "x = ax\n",
    "\n",
    "#print len(x)\n",
    "y = all_data['caudate_corr']\n",
    "z = all_data['dlPFC_corr']\n",
    "#print len(y)\n",
    "#print len(z)\n",
    "\n",
    "fit = np.polyfit(x, y, deg = 1)\n",
    "plt.plot(x, np.array(fit[0]) * np.array(x) + np.array(fit[1]), color = 'blue')\n",
    "plt.scatter(x, y, c = 'blue', alpha = 0.5)\n",
    "\n",
    "fit2 = np.polyfit(x, z, deg = 1)\n",
    "plt.plot(x, np.array(fit2[0]) * np.array(x) + np.array(fit2[1]), color = 'purple')\n",
    "plt.scatter(x, z, c = 'purple', alpha = 0.5)\n",
    "\n",
    "plt.ylabel('Activation')\n",
    "plt.xlabel('Trials')\n",
    "plt.title('Caudate vs. dlPFC Activation Across Correct Trials')\n",
    "plt.show()"
   ]
  },
  {
   "cell_type": "markdown",
   "metadata": {},
   "source": [
    "### Caudate vs. dlPFC: Fixed before INCORRECT"
   ]
  },
  {
   "cell_type": "code",
   "execution_count": 23,
   "metadata": {
    "collapsed": false
   },
   "outputs": [
    {
     "data": {
      "text/plain": [
       "<matplotlib.text.Text at 0x2b0e89038bd0>"
      ]
     },
     "execution_count": 23,
     "metadata": {},
     "output_type": "execute_result"
    },
    {
     "data": {
      "image/png": "[encoded data removed]",
      "text/plain": [
       "<matplotlib.figure.Figure at 0x2b0e88acfc90>"
      ]
     },
     "metadata": {},
     "output_type": "display_data"
    }
   ],
   "source": [
    "%matplotlib inline\n",
    "# Scatterplot\n",
    "\n",
    "ax = []\n",
    "for a in range(0,18,1):\n",
    "    ax.append(a)\n",
    "\n",
    "x = ax\n",
    "\n",
    "#print len(x)\n",
    "y = all_data['caudate_incorr']\n",
    "z = all_data['dlPFC_incorr']\n",
    "#print len(y)\n",
    "#print len(z)\n",
    "\n",
    "fig, (ax, ax2) = plt.subplots(ncols = 2, figsize=(11, 4), sharex = True, sharey = True)\n",
    "fit = np.polyfit(x, y, deg = 1)\n",
    "ax.plot(x, np.array(fit[0]) * np.array(x) + np.array(fit[1]), color = 'blue')\n",
    "ax.scatter(x, y, c = 'blue', alpha = 0.8)\n",
    "ax.set_ylabel('Activation')\n",
    "ax.set_xlabel('Trials')\n",
    "ax.set_title('Caudate Activation Across Incorrect Trials')\n",
    "\n",
    "fit2 = np.polyfit(x, z, deg = 1)\n",
    "ax2.plot(x, np.array(fit2[0]) * np.array(x) + np.array(fit2[1]), color = 'purple')\n",
    "ax2.scatter(x, z, c = 'purple', alpha = 0.8)\n",
    "ax2.set_ylabel('Activation')\n",
    "ax2.set_xlabel('Trials')\n",
    "ax2.set_title('dlPFC Activation Across Incorrect Trials')"
   ]
  },
  {
   "cell_type": "code",
   "execution_count": 24,
   "metadata": {
    "collapsed": false
   },
   "outputs": [
    {
     "data": {
      "image/png": "[encoded data removed]",
      "text/plain": [
       "<matplotlib.figure.Figure at 0x2b0e890b6210>"
      ]
     },
     "metadata": {},
     "output_type": "display_data"
    }
   ],
   "source": [
    "%matplotlib inline\n",
    "# Scatterplot\n",
    "\n",
    "ax = []\n",
    "for a in range(0,18,1):\n",
    "    ax.append(a)\n",
    "\n",
    "x = ax\n",
    "\n",
    "#print len(x)\n",
    "y = all_data['caudate_incorr']\n",
    "z = all_data['dlPFC_incorr']\n",
    "#print len(y)\n",
    "#print len(z)\n",
    "\n",
    "fit = np.polyfit(x, y, deg = 1)\n",
    "plt.plot(x, np.array(fit[0]) * np.array(x) + np.array(fit[1]), color = 'blue')\n",
    "plt.scatter(x, y, c = 'blue', alpha = 0.5)\n",
    "\n",
    "fit2 = np.polyfit(x, z, deg = 1)\n",
    "plt.plot(x, np.array(fit2[0]) * np.array(x) + np.array(fit2[1]), color = 'purple')\n",
    "plt.scatter(x, z, c = 'purple', alpha = 0.5)\n",
    "\n",
    "plt.ylabel('Activation')\n",
    "plt.xlabel('Trials')\n",
    "plt.title('Caudate vs. dlPFC Activation Across Incorrect Trials')\n",
    "plt.show()"
   ]
  },
  {
   "cell_type": "code",
   "execution_count": null,
   "metadata": {
    "collapsed": true
   },
   "outputs": [],
   "source": []
  }
 ],
 "metadata": {
  "anaconda-cloud": {},
  "kernelspec": {
   "display_name": "Python [default]",
   "language": "python",
   "name": "python2"
  },
  "language_info": {
   "codemirror_mode": {
    "name": "ipython",
    "version": 2
   },
   "file_extension": ".py",
   "mimetype": "text/x-python",
   "name": "python",
   "nbconvert_exporter": "python",
   "pygments_lexer": "ipython2",
   "version": "2.7.13"
  }
 },
 "nbformat": 4,
 "nbformat_minor": 2
}
