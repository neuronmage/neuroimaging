{
 "cells": [
  {
   "cell_type": "markdown",
   "metadata": {},
   "source": [
    "# Creation of the region-specific masks using Freesurfer's Binarize"
   ]
  },
  {
   "cell_type": "markdown",
   "metadata": {},
   "source": [
    "### Masks for hippocampus and caudate using FS aparc+aseg"
   ]
  },
  {
   "cell_type": "code",
   "execution_count": null,
   "metadata": {
    "collapsed": true,
    "scrolled": true
   },
   "outputs": [],
   "source": [
    "import nipype.pipeline as pe\n",
    "import nipype.interfaces.io as nio\n",
    "import os\n",
    "import nipype.interfaces.freesurfer as fs\n",
    "from nipype import IdentityInterface\n",
    "\n",
    "\n",
    "subjects_dir = '/home/data/madlab/surfaces/wmaze'\n",
    "work_dir = '/scratch/madlab/wmaze/regions_workdir'\n",
    "sink_dir = '/home/data/madlab/data/mri/wmaze/roi_analysis/MRthesis/fb4c_2/mask'\n",
    "\n",
    "sids = ['WMAZE_001', 'WMAZE_002', 'WMAZE_004', 'WMAZE_005', 'WMAZE_006', \n",
    "        'WMAZE_007', 'WMAZE_008', 'WMAZE_009', 'WMAZE_010', 'WMAZE_012', \n",
    "        'WMAZE_017', 'WMAZE_018', 'WMAZE_019', 'WMAZE_020', 'WMAZE_021', \n",
    "        'WMAZE_022', 'WMAZE_023', 'WMAZE_024', 'WMAZE_026', 'WMAZE_027']\n",
    "\n",
    "wf = pe.Workflow(name = 'wf')\n",
    "wf.base_dir = work_dir\n",
    "\n",
    "# Node: subject_iterable\n",
    "subj_iterable = pe.Node(IdentityInterface(fields = ['subject_id'], \n",
    "                                          mandatory_inputs = True),\n",
    "                        name = 'subj_iterable')\n",
    "subj_iterable.iterables = ('subject_id', sids)\n",
    "\n",
    "info = dict(ref_epi_file = [['subject_id']],\n",
    "            bbreg_xfm = [['subject_id']],\n",
    "            aparc_aseg = [['subject_id']])\n",
    "\n",
    "# Node: Datagrabber\n",
    "datasource = pe.Node(nio.DataGrabber(infields = ['subject_id'],\n",
    "                                     outfields = info.keys()),\n",
    "                     name = 'datasource')\n",
    "datasource.inputs.base_directory = os.path.abspath('/home/data/madlab/')\n",
    "datasource.inputs.field_template = dict(ref_epi_file = 'data/mri/wmaze/preproc/%s/ref/*.nii.gz',\n",
    "                                        bbreg_xfm = 'data/mri/wmaze/preproc/%s/bbreg/_fs_register0/*.dat',\n",
    "                                        aparc_aseg = 'surfaces/wmaze/%s/mri/aparc+aseg.mgz')\n",
    "datasource.inputs.template = '*'\n",
    "datasource.inputs.template_args = info\n",
    "datasource.inputs.sort_filelist = True\n",
    "datasource.inputs.ignore_exception = False\n",
    "datasource.inputs.raise_on_empty = True\n",
    "wf.connect(subj_iterable, 'subject_id', datasource, 'subject_id')\n",
    "\n",
    "#### subj_iterable (subject_id) ----> datasource (subject_id)\n",
    "\n",
    "\n",
    "# MapNode: Create binarized ROI masks\n",
    "anat_mask = pe.MapNode(fs.Binarize(),\n",
    "                       iterfield = ['match', 'binary_file'], \n",
    "                       name = 'anat_mask')\n",
    "anat_mask.inputs.match = [[17],[53], #hippocampus\n",
    "                          [12], [51]] #putamen\n",
    "                          \n",
    "anat_mask.inputs.binary_file = ['lh-hippocampus.nii.gz','rh-hippocampus.nii.gz',\n",
    "                                'lh-putamen.nii.gz', 'rh-putamen.nii.gz']\n",
    "wf.connect(datasource, 'aparc_aseg', anat_mask, 'in_file')\n",
    "\n",
    "#### datasource (aparc_aseg) ----> anat_mask (in_file)\n",
    "\n",
    "\n",
    "# MapNode: Transform the masks to 1st volume of 1st run (EPI space)\n",
    "anatmask_xfm = pe.MapNode(fs.ApplyVolTransform(inverse = True,\n",
    "                                               interp = 'nearest'),\n",
    "                          iterfield = ['target_file'],\n",
    "                          name = 'anatmask_xfm')\n",
    "anatmask_xfm.inputs.subjects_dir = subjects_dir\n",
    "wf.connect(datasource, 'ref_epi_file', anatmask_xfm, 'source_file')\n",
    "wf.connect(datasource, 'bbreg_xfm', anatmask_xfm, 'reg_file')\n",
    "wf.connect(anat_mask, 'binary_file', anatmask_xfm, 'target_file')\n",
    "\n",
    "#### datasource (ref_epi_file) ----> anatmask_xfm (source_file)\n",
    "#### datasource (bbreg_xfm) ----> anatmask_xfm (reg_file)\n",
    "#### datasource (binary_file) ----> anatmask_xfm (target_file)\n",
    "\n",
    "\n",
    "# Node: Datasink\n",
    "sinker = pe.Node(nio.DataSink(infields = None),\n",
    "                 name = \"sinker\")\n",
    "sinker.inputs._outputs = {}\n",
    "sinker.inputs.base_directory = sink_dir\n",
    "sinker.inputs.ignore_exception = False\n",
    "sinker.inputs.parameterization = True\n",
    "sinker.inputs.remove_dest_dir = False\n",
    "wf.connect(anatmask_xfm, 'transformed_file', sinker, 'anat_masks')\n",
    "\n",
    "#### anatmask_xfm (transformed_file) ----> sinker (anat_masks)\n",
    "\n",
    "wf.run(plugin = 'LSF', plugin_args = {'bsub_args': '-q PQ_madlab'})"
   ]
  },
  {
   "cell_type": "markdown",
   "metadata": {},
   "source": [
    "### Use Glob to grab all newly created anatomy masks and 2nd lvl cope files"
   ]
  },
  {
   "cell_type": "code",
   "execution_count": 1,
   "metadata": {
    "scrolled": true
   },
   "outputs": [],
   "source": [
    "from glob import glob\n",
    "\n",
    "sids = ['WMAZE_001', 'WMAZE_002', 'WMAZE_004', 'WMAZE_005', 'WMAZE_006', \n",
    "        'WMAZE_007', 'WMAZE_008', 'WMAZE_009', 'WMAZE_010', 'WMAZE_012', \n",
    "        'WMAZE_017', 'WMAZE_018', 'WMAZE_019', 'WMAZE_020', 'WMAZE_021',  \n",
    "        'WMAZE_022', 'WMAZE_023', 'WMAZE_024', 'WMAZE_026', 'WMAZE_027']\n",
    "\n",
    "proj_dir = '/home/data/madlab/data/mri/wmaze'\n",
    " \n",
    "mask_filenames = []\n",
    "cope_files = []\n",
    "\n",
    "for SID in sids:\n",
    "    mask_filenames_glob = glob(proj_dir + '/roi_analysis/MRthesis/fb4c_2/mask/anat_masks/_subject_id_' \n",
    "                               + SID + '/_anatmask_xfm*/*')\n",
    "    mask_filenames.append(mask_filenames_glob)\n",
    "\n",
    "    subjcopes_glob = glob(proj_dir + '/scndlvl/wmaze_MRthesis/fixed_before_conditional/model5orig_3-2/' \n",
    "                          + SID + '/fixedfx/cope_*')\n",
    "    cope_files.append(subjcopes_glob)\n",
    "    if len(cope_files[-1]) == 0:\n",
    "        print(SID)"
   ]
  },
  {
   "cell_type": "markdown",
   "metadata": {},
   "source": [
    "## Cell to double-check the array indexing"
   ]
  },
  {
   "cell_type": "code",
   "execution_count": 2,
   "metadata": {
    "scrolled": true
   },
   "outputs": [
    {
     "name": "stdout",
     "output_type": "stream",
     "text": [
      "left hippocampus\n",
      "/home/data/madlab/data/mri/wmaze/roi_analysis/MRthesis/fb4c_2/mask/anat_masks/_subject_id_WMAZE_001/_anatmask_xfm0/lh-hippocampus_warped.nii.gz\n",
      "left caudate\n",
      "/home/data/madlab/data/mri/wmaze/roi_analysis/MRthesis/fb4c_2/mask/anat_masks/_subject_id_WMAZE_001/_anatmask_xfm0/lh_caudate_anat_mask_warped.nii.gz\n",
      "right caudate\n",
      "/home/data/madlab/data/mri/wmaze/roi_analysis/MRthesis/fb4c_2/mask/anat_masks/_subject_id_WMAZE_001/_anatmask_xfm0/rh_caudate_anat_mask_warped.nii.gz\n",
      "right hippocampus\n",
      "/home/data/madlab/data/mri/wmaze/roi_analysis/MRthesis/fb4c_2/mask/anat_masks/_subject_id_WMAZE_001/_anatmask_xfm1/rh-hippocampus_warped.nii.gz\n",
      "left putamen\n",
      "/home/data/madlab/data/mri/wmaze/roi_analysis/MRthesis/fb4c_2/mask/anat_masks/_subject_id_WMAZE_001/_anatmask_xfm2/lh-putamen_warped.nii.gz\n",
      "right putamen\n",
      "/home/data/madlab/data/mri/wmaze/roi_analysis/MRthesis/fb4c_2/mask/anat_masks/_subject_id_WMAZE_001/_anatmask_xfm3/rh-putamen_warped.nii.gz\n",
      "-----\n",
      "all_before_B_corr\n",
      "/home/data/madlab/data/mri/wmaze/scndlvl/wmaze_MRthesis/fixed_before_conditional/model5/WMAZE_001/fixedfx/cope_all_before_B_corr.nii.gz\n",
      "all_before_B_incorr\n",
      "/home/data/madlab/data/mri/wmaze/scndlvl/wmaze_MRthesis/fixed_before_conditional/model5/WMAZE_001/fixedfx/cope_all_before_B_incorr.nii.gz\n",
      "all_remaining\n",
      "/home/data/madlab/data/mri/wmaze/scndlvl/wmaze_MRthesis/fixed_before_conditional/model5/WMAZE_001/fixedfx/cope_all_remaining.nii.gz\n",
      "all_corr_vs_all_incorr\n",
      "/home/data/madlab/data/mri/wmaze/scndlvl/wmaze_MRthesis/fixed_before_conditional/model5/WMAZE_001/fixedfx/cope_all_corr_minus_all_incorr.nii.gz\n",
      "all_incorr_vs_all_corr\n",
      "/home/data/madlab/data/mri/wmaze/scndlvl/wmaze_MRthesis/fixed_before_conditional/model5/WMAZE_001/fixedfx/cope_all_incorr_minus_all_corr.nii.gz\n",
      "5\n",
      "5\n",
      "5\n",
      "5\n",
      "5\n",
      "5\n",
      "5\n",
      "5\n",
      "5\n",
      "5\n",
      "5\n",
      "5\n",
      "5\n",
      "5\n",
      "5\n",
      "5\n",
      "5\n",
      "5\n",
      "5\n",
      "5\n"
     ]
    }
   ],
   "source": [
    "print 'left hippocampus'\n",
    "print(mask_filenames[0][0]) #lh-hippocampus\n",
    "print 'left caudate'\n",
    "print(mask_filenames[0][1]) #lh-caudate\n",
    "print 'right caudate'\n",
    "print(mask_filenames[0][2]) #rh-caudate\n",
    "print 'right hippocampus'\n",
    "print(mask_filenames[0][3]) #rh-hippocamus\n",
    "print 'left putamen'\n",
    "print(mask_filenames[0][4]) #lh-putamen\n",
    "print 'right putamen'\n",
    "print(mask_filenames[0][5]) #rh-putamen\n",
    "\n",
    "print '-----'\n",
    "\n",
    "print 'all_before_B_corr'\n",
    "print(cope_files[0][0]) #all_before_B_corr\n",
    "print 'all_before_B_incorr'\n",
    "print(cope_files[0][1]) #all_before_B_incorr\n",
    "print 'all_remaining'\n",
    "print(cope_files[0][2]) #all_remaining\n",
    "print 'all_corr_vs_all_incorr'\n",
    "print(cope_files[0][3]) #all_corr_vs_all_incorr\n",
    "print 'all_incorr_vs_all_corr'\n",
    "print(cope_files[0][4]) #all_incorr_vs_all_corr\n",
    "\n",
    "\n",
    "\n",
    "for i in cope_files:\n",
    "    print(len(i))\n"
   ]
  },
  {
   "cell_type": "markdown",
   "metadata": {},
   "source": [
    "### Use binarized mask to obtain activation in left & right hemisphere for each region of interest"
   ]
  },
  {
   "cell_type": "code",
   "execution_count": 2,
   "metadata": {
    "scrolled": true
   },
   "outputs": [],
   "source": [
    "import nibabel as nb\n",
    "import pandas as pd\n",
    "import numpy as np\n",
    "\n",
    "\n",
    "#Dictionary containing multiple arrays referenced by keywords\n",
    "all_data = {'subjid':[],\n",
    "            'lhhp_all_before_B_corr':[], 'rhhp_all_before_B_corr':[], \n",
    "            'lhhp_all_before_B_incorr':[], 'rhhp_all_before_B_incorr':[],\n",
    "            'lhhp_all_remaining':[], 'rhhp_all_remaining':[],\n",
    "            'lhhp_all_corr_vs_all_incorr':[], 'rhhp_all_corr_vs_all_incorr':[], \n",
    "            'lhhp_all_incorr_vs_all_corr':[], 'rhhp_all_incorr_vs_all_corr':[],\n",
    "            \n",
    "            'lhcaudate_all_before_B_corr':[], 'rhcaudate_all_before_B_corr':[], \n",
    "            'lhcaudate_all_before_B_incorr':[], 'rhcaudate_all_before_B_incorr':[],\n",
    "            'lhcaudate_all_remaining':[], 'rhcaudate_all_remaining':[],\n",
    "            'lhcaudate_all_corr_vs_all_incorr':[], 'rhcaudate_all_corr_vs_all_incorr':[], \n",
    "            'lhcaudate_all_incorr_vs_all_corr':[], 'rhcaudate_all_incorr_vs_all_corr':[],\n",
    "            \n",
    "            'lhputamen_all_before_B_corr':[], 'rhputamen_all_before_B_corr':[], \n",
    "            'lhputamen_all_before_B_incorr':[], 'rhputamen_all_before_B_incorr':[],\n",
    "            'lhputamen_all_remaining':[], 'rhputamen_all_remaining':[],\n",
    "            'lhputamen_all_corr_vs_all_incorr':[], 'rhputamen_all_corr_vs_all_incorr':[], \n",
    "            'lhputamen_all_incorr_vs_all_corr':[], 'rhputamen_all_incorr_vs_all_corr':[]}\n",
    "\n",
    "\n",
    "# For each interation in the length of subject ids\n",
    "for i in range(len(sids)):\n",
    "    #Append the subject id\n",
    "    all_data['subjid'].append(sids[i])\n",
    "    #Load the left and right hippocampus mask files using Nibabel \n",
    "    lh_hp_img = nb.load(mask_filenames[i][0])\n",
    "    rh_hp_img = nb.load(mask_filenames[i][3])\n",
    "    lh_caudate_img = nb.load(mask_filenames[i][1])\n",
    "    rh_caudate_img = nb.load(mask_filenames[i][2])\n",
    "    lh_putamen_img = nb.load(mask_filenames[i][4])\n",
    "    rh_putamen_img = nb.load(mask_filenames[i][5])\n",
    "\n",
    "    \n",
    "    #Load copes for individual trial types\n",
    "    all_before_B_corr_img = nb.load(cope_files[i][0])\n",
    "    all_before_B_incorr_img = nb.load(cope_files[i][1])\n",
    "    all_remaining_img = nb.load(cope_files[i][2])\n",
    "    all_corr_vs_all_incorr_img = nb.load(cope_files[i][3])\n",
    "    all_incorr_vs_all_corr_img = nb.load(cope_files[i][4])\n",
    "\n",
    "    \n",
    "    \n",
    "    ########################\n",
    "    ### Left Hippocampus ###\n",
    "    ########################\n",
    "    \n",
    "    # all_before_B_corr\n",
    "    lh_hp_all_before_B_corr_data = all_before_B_corr_img.get_data()[lh_hp_img.get_data() > 0.]\n",
    "    all_data['lhhp_all_before_B_corr'].append(np.mean(lh_hp_all_before_B_corr_data))\n",
    "    \n",
    "    # all_before_B_incorr\n",
    "    lh_hp_all_before_B_incorr_data = all_before_B_incorr_img.get_data()[lh_hp_img.get_data() > 0.]\n",
    "    all_data['lhhp_all_before_B_incorr'].append(np.mean(lh_hp_all_before_B_incorr_data))\n",
    "    \n",
    "    # all_remaining\n",
    "    lh_hp_all_remaining_data = all_remaining_img.get_data()[lh_hp_img.get_data() > 0.]\n",
    "    all_data['lhhp_all_remaining'].append(np.mean(lh_hp_all_remaining_data))\n",
    "       \n",
    "    # all_corr_vs_all_incorr\n",
    "    lh_hp_all_corr_vs_all_incorr_data = all_corr_vs_all_incorr_img.get_data()[lh_hp_img.get_data() > 0.]\n",
    "    all_data['lhhp_all_corr_vs_all_incorr'].append(np.mean(lh_hp_all_corr_vs_all_incorr_data)) \n",
    "    \n",
    "    # all_incorr_vs_all_corr\n",
    "    lh_hp_all_incorr_vs_all_corr_data = all_incorr_vs_all_corr_img.get_data()[lh_hp_img.get_data() > 0.]\n",
    "    all_data['lhhp_all_incorr_vs_all_corr'].append(np.mean(lh_hp_all_incorr_vs_all_corr_data)) \n",
    "\n",
    "    \n",
    "    #########################\n",
    "    ### Right Hippocampus ###\n",
    "    #########################\n",
    "    \n",
    "    # all_before_B_corr\n",
    "    rh_hp_all_before_B_corr_data = all_before_B_corr_img.get_data()[rh_hp_img.get_data() > 0.]\n",
    "    all_data['rhhp_all_before_B_corr'].append(np.mean(rh_hp_all_before_B_corr_data))\n",
    "\n",
    "    # all_before_B_incorr\n",
    "    rh_hp_all_before_B_incorr_data = all_before_B_incorr_img.get_data()[rh_hp_img.get_data() > 0.]\n",
    "    all_data['rhhp_all_before_B_incorr'].append(np.mean(rh_hp_all_before_B_incorr_data))\n",
    "\n",
    "    # all_remaining\n",
    "    rh_hp_all_remaining_data = all_remaining_img.get_data()[rh_hp_img.get_data() > 0.]\n",
    "    all_data['rhhp_all_remaining'].append(np.mean(rh_hp_all_remaining_data))\n",
    "\n",
    "    # all_corr_vs_all_incorr\n",
    "    rh_hp_all_corr_vs_all_incorr_data = all_corr_vs_all_incorr_img.get_data()[rh_hp_img.get_data() > 0.]\n",
    "    all_data['rhhp_all_corr_vs_all_incorr'].append(np.mean(rh_hp_all_corr_vs_all_incorr_data)) \n",
    "\n",
    "    # all_incorr_vs_all_corr\n",
    "    rh_hp_all_incorr_vs_all_corr_data = all_incorr_vs_all_corr_img.get_data()[rh_hp_img.get_data() > 0.]\n",
    "    all_data['rhhp_all_incorr_vs_all_corr'].append(np.mean(rh_hp_all_incorr_vs_all_corr_data)) \n",
    "\n",
    "    \n",
    "    ####################\n",
    "    ### Left Caudate ###\n",
    "    ####################\n",
    "    \n",
    "    # all_before_B_corr\n",
    "    lh_caudate_all_before_B_corr_data = all_before_B_corr_img.get_data()[lh_caudate_img.get_data() > 0.]\n",
    "    all_data['lhcaudate_all_before_B_corr'].append(np.mean(lh_caudate_all_before_B_corr_data))\n",
    "    \n",
    "    # all_before_B_incorr\n",
    "    lh_caudate_all_before_B_incorr_data = all_before_B_incorr_img.get_data()[lh_caudate_img.get_data() > 0.]\n",
    "    all_data['lhcaudate_all_before_B_incorr'].append(np.mean(lh_caudate_all_before_B_incorr_data))\n",
    "    \n",
    "    # all_remaining\n",
    "    lh_caudate_all_remaining_data = all_remaining_img.get_data()[lh_caudate_img.get_data() > 0.]\n",
    "    all_data['lhcaudate_all_remaining'].append(np.mean(lh_caudate_all_remaining_data))\n",
    "       \n",
    "    # all_corr_vs_all_incorr\n",
    "    lh_caudate_all_corr_vs_all_incorr_data = all_corr_vs_all_incorr_img.get_data()[lh_caudate_img.get_data() > 0.]\n",
    "    all_data['lhcaudate_all_corr_vs_all_incorr'].append(np.mean(lh_caudate_all_corr_vs_all_incorr_data)) \n",
    "    \n",
    "    # all_incorr_vs_all_corr\n",
    "    lh_caudate_all_incorr_vs_all_corr_data = all_incorr_vs_all_corr_img.get_data()[lh_caudate_img.get_data() > 0.]\n",
    "    all_data['lhcaudate_all_incorr_vs_all_corr'].append(np.mean(lh_caudate_all_incorr_vs_all_corr_data)) \n",
    "    \n",
    "    \n",
    "    #####################\n",
    "    ### Right Caudate ###\n",
    "    ##################### \n",
    "    \n",
    "    # all_before_B_corr\n",
    "    rh_caudate_all_before_B_corr_data = all_before_B_corr_img.get_data()[rh_caudate_img.get_data() > 0.]\n",
    "    all_data['rhcaudate_all_before_B_corr'].append(np.mean(rh_caudate_all_before_B_corr_data))\n",
    "\n",
    "    # all_before_B_incorr\n",
    "    rh_caudate_all_before_B_incorr_data = all_before_B_incorr_img.get_data()[rh_caudate_img.get_data() > 0.]\n",
    "    all_data['rhcaudate_all_before_B_incorr'].append(np.mean(rh_caudate_all_before_B_incorr_data))\n",
    "\n",
    "    # all_remaining\n",
    "    rh_caudate_all_remaining_data = all_remaining_img.get_data()[rh_caudate_img.get_data() > 0.]\n",
    "    all_data['rhcaudate_all_remaining'].append(np.mean(rh_caudate_all_remaining_data))\n",
    "\n",
    "    # all_corr_vs_all_incorr\n",
    "    rh_caudate_all_corr_vs_all_incorr_data = all_corr_vs_all_incorr_img.get_data()[rh_caudate_img.get_data() > 0.]\n",
    "    all_data['rhcaudate_all_corr_vs_all_incorr'].append(np.mean(rh_caudate_all_corr_vs_all_incorr_data)) \n",
    "\n",
    "    # all_incorr_vs_all_corr\n",
    "    rh_caudate_all_incorr_vs_all_corr_data = all_incorr_vs_all_corr_img.get_data()[rh_caudate_img.get_data() > 0.]\n",
    "    all_data['rhcaudate_all_incorr_vs_all_corr'].append(np.mean(rh_caudate_all_incorr_vs_all_corr_data)) \n",
    "    \n",
    "    \n",
    "    ####################\n",
    "    ### Left Putamen ###\n",
    "    ####################\n",
    "    \n",
    "    # all_before_B_corr\n",
    "    lh_putamen_all_before_B_corr_data = all_before_B_corr_img.get_data()[lh_putamen_img.get_data() > 0.]\n",
    "    all_data['lhputamen_all_before_B_corr'].append(np.mean(lh_putamen_all_before_B_corr_data))\n",
    "    \n",
    "    # all_before_B_incorr\n",
    "    lh_putamen_all_before_B_incorr_data = all_before_B_incorr_img.get_data()[lh_putamen_img.get_data() > 0.]\n",
    "    all_data['lhputamen_all_before_B_incorr'].append(np.mean(lh_putamen_all_before_B_incorr_data))\n",
    "    \n",
    "    # all_remaining\n",
    "    lh_putamen_all_remaining_data = all_remaining_img.get_data()[lh_putamen_img.get_data() > 0.]\n",
    "    all_data['lhputamen_all_remaining'].append(np.mean(lh_putamen_all_remaining_data))\n",
    "       \n",
    "    # all_corr_vs_all_incorr\n",
    "    lh_putamen_all_corr_vs_all_incorr_data = all_corr_vs_all_incorr_img.get_data()[lh_putamen_img.get_data() > 0.]\n",
    "    all_data['lhputamen_all_corr_vs_all_incorr'].append(np.mean(lh_putamen_all_corr_vs_all_incorr_data)) \n",
    "    \n",
    "    # all_incorr_vs_all_corr\n",
    "    lh_putamen_all_incorr_vs_all_corr_data = all_incorr_vs_all_corr_img.get_data()[lh_putamen_img.get_data() > 0.]\n",
    "    all_data['lhputamen_all_incorr_vs_all_corr'].append(np.mean(lh_putamen_all_incorr_vs_all_corr_data)) \n",
    "    \n",
    "    \n",
    "    #####################\n",
    "    ### Right Putamen ###\n",
    "    #####################\n",
    "    \n",
    "    # all_before_B_corr\n",
    "    rh_putamen_all_before_B_corr_data = all_before_B_corr_img.get_data()[rh_putamen_img.get_data() > 0.]\n",
    "    all_data['rhputamen_all_before_B_corr'].append(np.mean(rh_putamen_all_before_B_corr_data))\n",
    "\n",
    "    # all_before_B_incorr\n",
    "    rh_putamen_all_before_B_incorr_data = all_before_B_incorr_img.get_data()[rh_putamen_img.get_data() > 0.]\n",
    "    all_data['rhputamen_all_before_B_incorr'].append(np.mean(rh_putamen_all_before_B_incorr_data))\n",
    "\n",
    "    # all_remaining\n",
    "    rh_putamen_all_remaining_data = all_remaining_img.get_data()[rh_putamen_img.get_data() > 0.]\n",
    "    all_data['rhputamen_all_remaining'].append(np.mean(rh_putamen_all_remaining_data))\n",
    "\n",
    "    # all_corr_vs_all_incorr\n",
    "    rh_putamen_all_corr_vs_all_incorr_data = all_corr_vs_all_incorr_img.get_data()[rh_putamen_img.get_data() > 0.]\n",
    "    all_data['rhputamen_all_corr_vs_all_incorr'].append(np.mean(rh_putamen_all_corr_vs_all_incorr_data)) \n",
    "\n",
    "    # all_incorr_vs_all_corr\n",
    "    rh_putamen_all_incorr_vs_all_corr_data = all_incorr_vs_all_corr_img.get_data()[rh_putamen_img.get_data() > 0.]\n",
    "    all_data['rhputamen_all_incorr_vs_all_corr'].append(np.mean(rh_putamen_all_incorr_vs_all_corr_data)) \n",
    "\n",
    "    \n",
    "all_data_df = pd.DataFrame(all_data)"
   ]
  },
  {
   "cell_type": "markdown",
   "metadata": {},
   "source": [
    "### Combine the two hemispheres to create one regional average"
   ]
  },
  {
   "cell_type": "code",
   "execution_count": 3,
   "metadata": {
    "scrolled": true
   },
   "outputs": [],
   "source": [
    "#Hippocampus average for each trial type\n",
    "all_data_df['hp_all_before_B_corr'] = (all_data_df['lhhp_all_before_B_corr'] + \n",
    "                                       all_data_df['rhhp_all_before_B_corr'])/2.\n",
    "all_data_df['hp_all_before_B_incorr'] = (all_data_df['lhhp_all_before_B_incorr'] + \n",
    "                                         all_data_df['rhhp_all_before_B_incorr'])/2.\n",
    "all_data_df['hp_all_remaining'] = (all_data_df['lhhp_all_remaining'] + \n",
    "                                   all_data_df['rhhp_all_remaining'])/2.\n",
    "all_data_df['hp_all_corr_vs_all_incorr'] = (all_data_df['lhhp_all_corr_vs_all_incorr'] + \n",
    "                                            all_data_df['rhhp_all_corr_vs_all_incorr'])/2.\n",
    "all_data_df['hp_all_incorr_vs_all_corr'] = (all_data_df['lhhp_all_incorr_vs_all_corr'] + \n",
    "                                            all_data_df['rhhp_all_incorr_vs_all_corr'])/2.\n",
    "\n",
    "\n",
    "#Caudate average for each trial type\n",
    "all_data_df['caudate_all_before_B_corr'] = (all_data_df['lhcaudate_all_before_B_corr'] + \n",
    "                                            all_data_df['rhcaudate_all_before_B_corr'])/2.\n",
    "all_data_df['caudate_all_before_B_incorr'] = (all_data_df['lhcaudate_all_before_B_incorr'] + \n",
    "                                              all_data_df['rhcaudate_all_before_B_incorr'])/2.\n",
    "all_data_df['caudate_all_remaining'] = (all_data_df['lhcaudate_all_remaining'] + \n",
    "                                        all_data_df['rhcaudate_all_remaining'])/2.\n",
    "all_data_df['caudate_all_corr_vs_all_incorr'] = (all_data_df['lhcaudate_all_corr_vs_all_incorr'] + \n",
    "                                                 all_data_df['rhcaudate_all_corr_vs_all_incorr'])/2.\n",
    "all_data_df['caudate_all_incorr_vs_all_corr'] = (all_data_df['lhcaudate_all_incorr_vs_all_corr'] + \n",
    "                                                 all_data_df['rhcaudate_all_incorr_vs_all_corr'])/2.\n",
    "\n",
    "\n",
    "#Putamen average for each trial type\n",
    "all_data_df['putamen_all_before_B_corr'] = (all_data_df['lhputamen_all_before_B_corr'] + \n",
    "                                            all_data_df['rhputamen_all_before_B_corr'])/2.\n",
    "all_data_df['putamen_all_before_B_incorr'] = (all_data_df['lhputamen_all_before_B_incorr'] + \n",
    "                                              all_data_df['rhputamen_all_before_B_incorr'])/2.\n",
    "all_data_df['putamen_all_remaining'] = (all_data_df['lhputamen_all_remaining'] + \n",
    "                                        all_data_df['rhputamen_all_remaining'])/2.\n",
    "all_data_df['putamen_all_corr_vs_all_incorr'] = (all_data_df['lhputamen_all_corr_vs_all_incorr'] + \n",
    "                                                 all_data_df['rhputamen_all_corr_vs_all_incorr'])/2.\n",
    "all_data_df['putamen_all_incorr_vs_all_corr'] = (all_data_df['lhputamen_all_incorr_vs_all_corr'] + \n",
    "                                                 all_data_df['rhputamen_all_incorr_vs_all_corr'])/2."
   ]
  },
  {
   "cell_type": "markdown",
   "metadata": {},
   "source": [
    "## Hippocampus Activation: Fixed vs. Conditional Trials"
   ]
  },
  {
   "cell_type": "code",
   "execution_count": 4,
   "metadata": {
    "scrolled": true
   },
   "outputs": [
    {
     "name": "stdout",
     "output_type": "stream",
     "text": [
      "all_before_B_corr mean\n",
      "-0.7079552618088201\n",
      "all_before_B_incorr\n",
      "-1.2352644839324056\n",
      "T-test: Hippocampus all_before_B_corr vs. all_before_B_incorr\n",
      "Ttest_relResult(statistic=2.4280171250714093, pvalue=0.025284804604265066)\n"
     ]
    }
   ],
   "source": [
    "from scipy import stats\n",
    "\n",
    "print 'all_before_B_corr mean'\n",
    "print all_data_df['hp_all_before_B_corr'].mean()\n",
    "print 'all_before_B_incorr'\n",
    "print all_data_df['hp_all_before_B_incorr'].mean()\n",
    "\n",
    "\n",
    "print 'T-test: Hippocampus all_before_B_corr vs. all_before_B_incorr'\n",
    "print stats.ttest_rel(all_data_df['hp_all_before_B_corr'], all_data_df['hp_all_before_B_incorr'])\n"
   ]
  },
  {
   "cell_type": "markdown",
   "metadata": {},
   "source": [
    "### Hippocampus Activation: All Before Correct vs. Incorrect Trials"
   ]
  },
  {
   "cell_type": "code",
   "execution_count": 5,
   "metadata": {
    "scrolled": false
   },
   "outputs": [
    {
     "ename": "ImportError",
     "evalue": "No module named seaborn",
     "output_type": "error",
     "traceback": [
      "\u001b[0;31m---------------------------------------------------------------------------\u001b[0m",
      "\u001b[0;31mImportError\u001b[0m                               Traceback (most recent call last)",
      "\u001b[0;32m<ipython-input-5-43f696141ecd>\u001b[0m in \u001b[0;36m<module>\u001b[0;34m()\u001b[0m\n\u001b[0;32m----> 1\u001b[0;31m \u001b[0;32mimport\u001b[0m \u001b[0mseaborn\u001b[0m \u001b[0;32mas\u001b[0m \u001b[0msns\u001b[0m\u001b[0;34m\u001b[0m\u001b[0m\n\u001b[0m\u001b[1;32m      2\u001b[0m \u001b[0;32mimport\u001b[0m \u001b[0mmatplotlib\u001b[0m\u001b[0;34m.\u001b[0m\u001b[0mpyplot\u001b[0m \u001b[0;32mas\u001b[0m \u001b[0mplt\u001b[0m\u001b[0;34m\u001b[0m\u001b[0m\n\u001b[1;32m      3\u001b[0m \u001b[0msns\u001b[0m\u001b[0;34m.\u001b[0m\u001b[0mset_palette\u001b[0m\u001b[0;34m(\u001b[0m\u001b[0;34m'muted'\u001b[0m\u001b[0;34m)\u001b[0m\u001b[0;34m\u001b[0m\u001b[0m\n\u001b[1;32m      4\u001b[0m \u001b[0msns\u001b[0m\u001b[0;34m.\u001b[0m\u001b[0mset_style\u001b[0m\u001b[0;34m(\u001b[0m\u001b[0;34m\"darkgrid\"\u001b[0m\u001b[0;34m)\u001b[0m\u001b[0;34m\u001b[0m\u001b[0m\n\u001b[1;32m      5\u001b[0m \u001b[0;34m\u001b[0m\u001b[0m\n",
      "\u001b[0;31mImportError\u001b[0m: No module named seaborn"
     ]
    }
   ],
   "source": [
    "import seaborn as sns\n",
    "import matplotlib.pyplot as plt\n",
    "sns.set_palette('muted')\n",
    "sns.set_style(\"darkgrid\")\n",
    "\n",
    "\n",
    "N = 2\n",
    "conditions = ['Fixed before correct conditional', 'Fixed before incorrect conditional']\n",
    "hp_means_allsubjs = [all_data_df['hp_all_before_B_corr'].mean(), \n",
    "                     all_data_df['hp_all_before_B_incorr'].mean()]\n",
    "hp_sem_allsubjs = [all_data_df['hp_all_before_B_corr'].std()/(np.sqrt(len(sids))), \n",
    "                   all_data_df['hp_all_before_B_incorr'].std()/(np.sqrt(len(sids)))]\n",
    "\n",
    "ind = np.arange(N)\n",
    "width = 0.5\n",
    "\n",
    "fig, ax = plt.subplots()\n",
    "\n",
    "ax.spines['right'].set_color('none')\n",
    "ax.spines['top'].set_color('none')\n",
    "ax.xaxis.set_ticks_position('bottom')\n",
    "ax.yaxis.set_ticks_position('left')\n",
    "\n",
    "ax = sns.barplot(ind, hp_means_allsubjs, yerr = hp_sem_allsubjs, ecolor = 'black')\n",
    "\n",
    "ax.set_xticks(ind)\n",
    "ax.set_xticklabels(conditions)\n",
    "ax.set_ylabel(\"Arbitrary units\")\n",
    "#ax.set_xlabel(\"Trial Type\")\n",
    "ax.set_title(\"Hippocampal Activation\")\n",
    "\n",
    "plt.show()"
   ]
  },
  {
   "cell_type": "code",
   "execution_count": 7,
   "metadata": {},
   "outputs": [
    {
     "data": {
      "image/png": "[encoded data removed]",
      "text/plain": [
       "<matplotlib.figure.Figure at 0x2aad18fd6950>"
      ]
     },
     "metadata": {},
     "output_type": "display_data"
    }
   ],
   "source": [
    "cols = [['hp_all_before_B_corr', 'hp_all_before_B_incorr'],\n",
    "        ['caudate_all_before_B_corr', 'caudate_all_before_B_incorr']]\n",
    "rois = ['Hippocampus', 'Caudate']\n",
    "\n",
    "fig, axes = plt.subplots(ncols=2, figsize=(10, 6), sharey=True)\n",
    "\n",
    "for i, roi in enumerate(rois):\n",
    "    pal = [\"#00CC00\", \"#e74c3c\"]\n",
    "    pal = sns.color_palette(pal)\n",
    "    temp_df = all_data_df[cols[i]]\n",
    "    temp_df = temp_df.rename(columns={cols[i][0]: 'Fixed Before\\nCorrect Conditional',\n",
    "                                      cols[i][1]: 'Fixed Before\\nIncorrect Conditional'})\n",
    "    temp_df['subject'] = temp_df.index\n",
    "    temp_df = pd.melt(temp_df, id_vars='subject',\n",
    "                      value_vars=['Fixed Before\\nCorrect Conditional',\n",
    "                                  'Fixed Before\\nIncorrect Conditional'],\n",
    "                      value_name='Arbitrary Value', var_name='Condition')\n",
    "    sns.violinplot(data=temp_df, x='Condition', y='Arbitrary Value', ax=axes[i], palette=pal)\n",
    "    axes[i].set_title(roi, fontsize=16)\n",
    "    axes[i].set_ylim((-8, 10))\n",
    "axes[1].set_ylabel('')\n",
    "plt.tight_layout()\n",
    "plt.show()\n"
   ]
  },
  {
   "cell_type": "markdown",
   "metadata": {},
   "source": [
    "### Caudate Stats"
   ]
  },
  {
   "cell_type": "code",
   "execution_count": 8,
   "metadata": {
    "scrolled": true
   },
   "outputs": [
    {
     "name": "stdout",
     "output_type": "stream",
     "text": [
      "all_before_B_corr\n",
      "0.66125210952\n",
      "all_before_B_incorr\n",
      "1.22229822995\n",
      "T-test: Caudate all_before_B_corr vs. all_before_B_incorr\n",
      "Ttest_relResult(statistic=-1.6344895230282694, pvalue=0.11861624543461313)\n"
     ]
    }
   ],
   "source": [
    "from scipy import stats\n",
    "\n",
    "print 'all_before_B_corr'\n",
    "print all_data_df['caudate_all_before_B_corr'].mean()\n",
    "print 'all_before_B_incorr'\n",
    "print all_data_df['caudate_all_before_B_incorr'].mean()\n",
    "\n",
    "\n",
    "print 'T-test: Caudate all_before_B_corr vs. all_before_B_incorr'\n",
    "print stats.ttest_rel(all_data_df['caudate_all_before_B_corr'], all_data_df['caudate_all_before_B_incorr'])"
   ]
  },
  {
   "cell_type": "code",
   "execution_count": 9,
   "metadata": {
    "scrolled": true
   },
   "outputs": [
    {
     "data": {
      "image/png": "[encoded data removed]",
      "text/plain": [
       "<matplotlib.figure.Figure at 0x2aad18ce6590>"
      ]
     },
     "metadata": {},
     "output_type": "display_data"
    }
   ],
   "source": [
    "import seaborn as sns\n",
    "import matplotlib.pyplot as plt\n",
    "sns.set_palette('muted')\n",
    "sns.set_style(\"darkgrid\")\n",
    "\n",
    "N = 2\n",
    "conditions = ['Fixed before correct conditional', 'Fixed before incorrect conditional']\n",
    "bar_colors = ['blue']\n",
    "caudate_means_allsubjs = [all_data_df['caudate_all_before_B_corr'].mean(), \n",
    "                          all_data_df['caudate_all_before_B_incorr'].mean()]\n",
    "caudate_sem_allsubjs = [all_data_df['caudate_all_before_B_corr'].std()/(np.sqrt(len(sids))), \n",
    "                        all_data_df['caudate_all_before_B_incorr'].std()/(np.sqrt(len(sids)))]\n",
    "\n",
    "ind = np.arange(N)\n",
    "width = 0.5\n",
    "\n",
    "fig, ax = plt.subplots()\n",
    "\n",
    "ax.spines['right'].set_color('none')\n",
    "ax.spines['top'].set_color('none')\n",
    "ax.xaxis.set_ticks_position('bottom')\n",
    "ax.yaxis.set_ticks_position('left')\n",
    "\n",
    "ax = sns.barplot(ind, caudate_means_allsubjs, yerr = caudate_sem_allsubjs, ecolor = 'black')\n",
    "\n",
    "ax.set_xticks(ind)\n",
    "ax.set_xticklabels(conditions)\n",
    "ax.set_ylabel(\"Arbitrary units\")\n",
    "#ax.set_xlabel(\"Trial Type\")\n",
    "ax.set_title(\"Caudate Activation\")\n",
    "\n",
    "plt.show()"
   ]
  },
  {
   "cell_type": "markdown",
   "metadata": {},
   "source": [
    "### Putamen Stats"
   ]
  },
  {
   "cell_type": "code",
   "execution_count": 10,
   "metadata": {
    "scrolled": true
   },
   "outputs": [
    {
     "name": "stdout",
     "output_type": "stream",
     "text": [
      "all_before_B_corr\n",
      "0.537238839269\n",
      "all_before_B_incorr\n",
      "-0.157612734474\n",
      "T-test: putamen all_before_B_corr vs. all_before_B_incorr\n",
      "Ttest_relResult(statistic=2.4776776716258486, pvalue=0.022786356903428343)\n"
     ]
    }
   ],
   "source": [
    "from scipy import stats\n",
    "\n",
    "print 'all_before_B_corr'\n",
    "print all_data_df['putamen_all_before_B_corr'].mean()\n",
    "print 'all_before_B_incorr'\n",
    "print all_data_df['putamen_all_before_B_incorr'].mean()\n",
    "\n",
    "\n",
    "print 'T-test: putamen all_before_B_corr vs. all_before_B_incorr'\n",
    "print stats.ttest_rel(all_data_df['putamen_all_before_B_corr'], all_data_df['putamen_all_before_B_incorr'])"
   ]
  },
  {
   "cell_type": "code",
   "execution_count": 11,
   "metadata": {
    "scrolled": true
   },
   "outputs": [
    {
     "data": {
      "image/png": "[encoded data removed]",
      "text/plain": [
       "<matplotlib.figure.Figure at 0x2aad19036350>"
      ]
     },
     "metadata": {},
     "output_type": "display_data"
    }
   ],
   "source": [
    "import seaborn as sns\n",
    "import matplotlib.pyplot as plt\n",
    "sns.set_palette('muted')\n",
    "sns.set_style(\"darkgrid\")\n",
    "\n",
    "N = 2\n",
    "conditions = ['Fixed before correct conditional', 'Fixed before incorrect conditional']\n",
    "putamen_means_allsubjs = [all_data_df['putamen_all_before_B_corr'].mean(), \n",
    "                          all_data_df['putamen_all_before_B_incorr'].mean()]\n",
    "putamen_sem_allsubjs = [all_data_df['putamen_all_before_B_corr'].std()/(np.sqrt(len(sids))), \n",
    "                        all_data_df['putamen_all_before_B_incorr'].std()/(np.sqrt(len(sids)))]\n",
    "\n",
    "ind = np.arange(N)\n",
    "width = 0.5\n",
    "\n",
    "fig, ax = plt.subplots()\n",
    "\n",
    "ax.spines['right'].set_color('none')\n",
    "ax.spines['top'].set_color('none')\n",
    "ax.xaxis.set_ticks_position('bottom')\n",
    "ax.yaxis.set_ticks_position('left')\n",
    "\n",
    "ax = sns.barplot(ind, putamen_means_allsubjs, yerr = putamen_sem_allsubjs, ecolor = 'black')\n",
    "\n",
    "ax.set_xticks(ind)\n",
    "ax.set_xticklabels(conditions)\n",
    "ax.set_ylabel(\"Arbitrary units\")\n",
    "ax.set_title(\"Putamen Activation\")\n",
    "\n",
    "plt.show()"
   ]
  }
 ],
 "metadata": {
  "anaconda-cloud": {},
  "kernelspec": {
   "display_name": "Python 2",
   "language": "python",
   "name": "python2"
  },
  "language_info": {
   "codemirror_mode": {
    "name": "ipython",
    "version": 2
   },
   "file_extension": ".py",
   "mimetype": "text/x-python",
   "name": "python",
   "nbconvert_exporter": "python",
   "pygments_lexer": "ipython2",
   "version": "2.7.14"
  }
 },
 "nbformat": 4,
 "nbformat_minor": 2
}
