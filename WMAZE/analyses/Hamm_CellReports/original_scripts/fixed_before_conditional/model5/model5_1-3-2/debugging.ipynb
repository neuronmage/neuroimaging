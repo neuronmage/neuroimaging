{
 "cells": [
  {
   "cell_type": "code",
   "execution_count": 2,
   "metadata": {},
   "outputs": [
    {
     "name": "stdout",
     "output_type": "stream",
     "text": [
      "200\n"
     ]
    }
   ],
   "source": [
    "import numpy as np\n",
    "fuckery = np.genfromtxt(\"/home/data/madlab/data/mri/wmaze/preproc/WMAZE_001/noise/motion_regressor00.txt\")\n",
    "print len(fuckery)"
   ]
  },
  {
   "cell_type": "code",
   "execution_count": 4,
   "metadata": {},
   "outputs": [
    {
     "name": "stdout",
     "output_type": "stream",
     "text": [
      "<class 'nibabel.nifti1.Nifti1Image'>\n",
      "data shape (96, 96, 42, 200)\n",
      "affine: \n",
      "[[ -2.48171425e+00   5.10274842e-02   3.56942683e-01   1.11510391e+02]\n",
      " [ -1.06421225e-01   2.15781951e+00  -1.50945055e+00  -5.21768532e+01]\n",
      " [  2.82434911e-01   1.26143217e+00   2.56764340e+00  -1.02998154e+02]\n",
      " [  0.00000000e+00   0.00000000e+00   0.00000000e+00   1.00000000e+00]]\n",
      "metadata:\n",
      "<class 'nibabel.nifti1.Nifti1Header'> object, endian='<'\n",
      "sizeof_hdr      : 348\n",
      "data_type       : \n",
      "db_name         : \n",
      "extents         : 0\n",
      "session_error   : 0\n",
      "regular         : r\n",
      "dim_info        : 0\n",
      "dim             : [  4  96  96  42 200   1   1   1]\n",
      "intent_p1       : 0.0\n",
      "intent_p2       : 0.0\n",
      "intent_p3       : 0.0\n",
      "intent_code     : none\n",
      "datatype        : float64\n",
      "bitpix          : 64\n",
      "slice_start     : 0\n",
      "pixdim          : [-1.         2.5        2.5        2.9997735  1.         0.         0.         0.       ]\n",
      "vox_offset      : 0.0\n",
      "scl_slope       : nan\n",
      "scl_inter       : nan\n",
      "slice_end       : 0\n",
      "slice_code      : unknown\n",
      "xyzt_units      : 10\n",
      "cal_max         : 0.0\n",
      "cal_min         : 0.0\n",
      "slice_duration  : 0.0\n",
      "toffset         : 0.0\n",
      "glmax           : 0\n",
      "glmin           : 0\n",
      "descrip         : FSL5.0\n",
      "aux_file        : \n",
      "qform_code      : scanner\n",
      "sform_code      : scanner\n",
      "quatern_b       : 0.00575043587014\n",
      "quatern_c       : -0.963296294212\n",
      "quatern_d       : -0.261539727449\n",
      "qoffset_x       : 111.510391235\n",
      "qoffset_y       : -52.1768531799\n",
      "qoffset_z       : -102.998153687\n",
      "srow_x          : [ -2.48171425e+00   5.10274842e-02   3.56942683e-01   1.11510391e+02]\n",
      "srow_y          : [ -0.10642122   2.15781951  -1.50945055 -52.17685318]\n",
      "srow_z          : [   0.28243491    1.26143217    2.5676434  -102.99815369]\n",
      "intent_name     : \n",
      "magic           : n+1\n"
     ]
    }
   ],
   "source": [
    "import nibabel as nb\n",
    "\n",
    "more_fuckery = nb.load('/home/data/madlab/data/mri/wmaze/preproc/WMAZE_001/func/smoothed_fullspectrum/_maskfunc20/corr_wmaze_01_dtype_despike_bet_smooth_mask.nii.gz')\n",
    "print more_fuckery"
   ]
  },
  {
   "cell_type": "code",
   "execution_count": 1,
   "metadata": {},
   "outputs": [
    {
     "name": "stdout",
     "output_type": "stream",
     "text": [
      "<class 'nibabel.nifti1.Nifti1Image'>\n",
      "data shape (96, 96, 42)\n",
      "affine: \n",
      "[[-2.48171425e+00  5.10274842e-02  3.56942713e-01  1.11510391e+02]\n",
      " [-1.06421217e-01  2.15781951e+00 -1.50945044e+00 -5.21768532e+01]\n",
      " [ 2.82434881e-01  1.26143217e+00  2.56764317e+00 -1.02998154e+02]\n",
      " [ 0.00000000e+00  0.00000000e+00  0.00000000e+00  1.00000000e+00]]\n",
      "metadata:\n",
      "<class 'nibabel.nifti1.Nifti1Header'> object, endian='<'\n",
      "sizeof_hdr      : 348\n",
      "data_type       : \n",
      "db_name         : \n",
      "extents         : 0\n",
      "session_error   : 0\n",
      "regular         : r\n",
      "dim_info        : 0\n",
      "dim             : [ 3 96 96 42  1  1  1  1]\n",
      "intent_p1       : 0.0\n",
      "intent_p2       : 0.0\n",
      "intent_p3       : 0.0\n",
      "intent_code     : estimate\n",
      "datatype        : float32\n",
      "bitpix          : 32\n",
      "slice_start     : 0\n",
      "pixdim          : [-1.         2.5        2.5        2.9997735  1.         0.\n",
      "  0.         0.       ]\n",
      "vox_offset      : 0.0\n",
      "scl_slope       : nan\n",
      "scl_inter       : nan\n",
      "slice_end       : 0\n",
      "slice_code      : unknown\n",
      "xyzt_units      : 10\n",
      "cal_max         : 145.42749\n",
      "cal_min         : -27.829952\n",
      "slice_duration  : 0.0\n",
      "toffset         : 0.0\n",
      "glmax           : 0\n",
      "glmin           : 0\n",
      "descrip         : FSL5.0\n",
      "aux_file        : \n",
      "qform_code      : scanner\n",
      "sform_code      : scanner\n",
      "quatern_b       : 0.005750436\n",
      "quatern_c       : -0.9632963\n",
      "quatern_d       : -0.26153973\n",
      "qoffset_x       : 111.51039\n",
      "qoffset_y       : -52.176853\n",
      "qoffset_z       : -102.99815\n",
      "srow_x          : [-2.4817142e+00  5.1027484e-02  3.5694271e-01  1.1151039e+02]\n",
      "srow_y          : [ -0.10642122   2.1578195   -1.5094504  -52.176853  ]\n",
      "srow_z          : [   0.28243488    1.2614322     2.5676432  -102.99815   ]\n",
      "intent_name     : \n",
      "magic           : n+1\n"
     ]
    }
   ],
   "source": [
    "import nibabel as nb\n",
    "\n",
    "more_fuckery2 = nb.load('/home/data/madlab/data/mri/wmaze/scndlvl/wmaze_MRthesis/fixed_before_conditional/model5orig_3-2/WMAZE_001/fixedfx/cope_all_before_B_corr.nii.gz')\n",
    "print more_fuckery2"
   ]
  },
  {
   "cell_type": "code",
   "execution_count": 3,
   "metadata": {},
   "outputs": [
    {
     "name": "stdout",
     "output_type": "stream",
     "text": [
      "<class 'nibabel.nifti1.Nifti1Image'>\n",
      "data shape (96, 96, 42)\n",
      "affine: \n",
      "[[-2.48171425e+00  5.10274842e-02  3.56942713e-01  1.11510391e+02]\n",
      " [-1.06421217e-01  2.15781951e+00 -1.50945044e+00 -5.21768532e+01]\n",
      " [ 2.82434881e-01  1.26143217e+00  2.56764317e+00 -1.02998154e+02]\n",
      " [ 0.00000000e+00  0.00000000e+00  0.00000000e+00  1.00000000e+00]]\n",
      "metadata:\n",
      "<class 'nibabel.nifti1.Nifti1Header'> object, endian='<'\n",
      "sizeof_hdr      : 348\n",
      "data_type       : \n",
      "db_name         : \n",
      "extents         : 0\n",
      "session_error   : 0\n",
      "regular         : r\n",
      "dim_info        : 0\n",
      "dim             : [ 3 96 96 42  1  1  1  1]\n",
      "intent_p1       : 0.0\n",
      "intent_p2       : 0.0\n",
      "intent_p3       : 0.0\n",
      "intent_code     : estimate\n",
      "datatype        : float32\n",
      "bitpix          : 32\n",
      "slice_start     : 0\n",
      "pixdim          : [-1.         2.5        2.5        2.9997735  1.         0.\n",
      "  0.         0.       ]\n",
      "vox_offset      : 0.0\n",
      "scl_slope       : nan\n",
      "scl_inter       : nan\n",
      "slice_end       : 0\n",
      "slice_code      : unknown\n",
      "xyzt_units      : 10\n",
      "cal_max         : 177.67975\n",
      "cal_min         : -27.671682\n",
      "slice_duration  : 0.0\n",
      "toffset         : 0.0\n",
      "glmax           : 0\n",
      "glmin           : 0\n",
      "descrip         : FSL5.0\n",
      "aux_file        : \n",
      "qform_code      : scanner\n",
      "sform_code      : scanner\n",
      "quatern_b       : 0.005750436\n",
      "quatern_c       : -0.9632963\n",
      "quatern_d       : -0.26153973\n",
      "qoffset_x       : 111.51039\n",
      "qoffset_y       : -52.176853\n",
      "qoffset_z       : -102.99815\n",
      "srow_x          : [-2.4817142e+00  5.1027484e-02  3.5694271e-01  1.1151039e+02]\n",
      "srow_y          : [ -0.10642122   2.1578195   -1.5094504  -52.176853  ]\n",
      "srow_z          : [   0.28243488    1.2614322     2.5676432  -102.99815   ]\n",
      "intent_name     : \n",
      "magic           : n+1\n"
     ]
    }
   ],
   "source": [
    "import nibabel as nb\n",
    "\n",
    "more_fuckery2 = nb.load('/home/data/madlab/data/mri/wmaze/scndlvl/wmaze_MRthesis/fixed_before_conditional/model3/WMAZE_001/fixedfx/cope_all_before_B_corr.nii.gz')\n",
    "print more_fuckery2"
   ]
  },
  {
   "cell_type": "code",
   "execution_count": null,
   "metadata": {},
   "outputs": [],
   "source": []
  }
 ],
 "metadata": {
  "kernelspec": {
   "display_name": "Python 2",
   "language": "python",
   "name": "python2"
  },
  "language_info": {
   "codemirror_mode": {
    "name": "ipython",
    "version": 2
   },
   "file_extension": ".py",
   "mimetype": "text/x-python",
   "name": "python",
   "nbconvert_exporter": "python",
   "pygments_lexer": "ipython2",
   "version": "2.7.14"
  }
 },
 "nbformat": 4,
 "nbformat_minor": 2
}
