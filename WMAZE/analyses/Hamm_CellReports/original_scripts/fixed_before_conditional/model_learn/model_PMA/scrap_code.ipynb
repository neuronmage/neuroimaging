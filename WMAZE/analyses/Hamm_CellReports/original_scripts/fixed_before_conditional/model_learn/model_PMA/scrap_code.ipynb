{
 "cells": [
  {
   "cell_type": "code",
   "execution_count": null,
   "metadata": {
    "collapsed": false
   },
   "outputs": [],
   "source": [
    "for d in ['pmod', 'event']:\n",
    "    print \"{0} Mean: \".format(d), np.mean(mpfc_chart['{0}'.format(d)])\n",
    "    print \"{0} STD: \".format(d), np.std(mpfc_chart['{0}'.format(d)])\n",
    "    print \"\"\n",
    "    \n",
    "print 'T-test: PMOD vs. EVENT'\n",
    "print stats.ttest_rel(mpfc_chart['pmod'], mpfc_chart['event'])\n",
    "cohens_d = ((np.average(mpfc_chart['pmod']) - np.average(mpfc_chart['event'])) \n",
    "            / (sqrt((np.std(mpfc_chart['pmod'], ddof = 1)) ** 2 + np.std(mpfc_chart['event'], ddof = 1) ** 2) / 2))\n",
    "print \"Cohen's d = \", cohens_d\n",
    "\n",
    "N = 2\n",
    "conditions = ['Pmod', 'Event']\n",
    "mpfc_allsubjs = [mpfc_chart['pmod'], mpfc_chart['event']]\n",
    "ind = np.arange(N)\n",
    "width = 0.5\n",
    "fig, ax = plt.subplots(figsize = (8,5))\n",
    "ax0 = sns.boxplot(data = mpfc_allsubjs, color = \"#278fea\", width = 0.3)\n",
    "ax2 = sns.swarmplot(data = mpfc_allsubjs, color='.25')\n",
    "ax.set_xticks(ind)\n",
    "ax.set_xticklabels(conditions)\n",
    "ax.set_ylabel(\"Arbitrary units\")\n",
    "ax.set_title(\"mpfcate Activation\")\n",
    "plt.show()"
   ]
  },
  {
   "cell_type": "code",
   "execution_count": null,
   "metadata": {
    "collapsed": true
   },
   "outputs": [],
   "source": []
  }
 ],
 "metadata": {
  "kernelspec": {
   "display_name": "Python 2",
   "language": "python",
   "name": "python2"
  },
  "language_info": {
   "codemirror_mode": {
    "name": "ipython",
    "version": 2
   },
   "file_extension": ".py",
   "mimetype": "text/x-python",
   "name": "python",
   "nbconvert_exporter": "python",
   "pygments_lexer": "ipython2",
   "version": "2.7.12"
  }
 },
 "nbformat": 4,
 "nbformat_minor": 1
}
