{
 "cells": [
  {
   "cell_type": "markdown",
   "metadata": {},
   "source": [
    "# Model Conditional Curve - Parametric Modulation Analysis\n",
    "## Useful if you are anticipating that the amplitude of the response may be different for each stimulus dimension or will change over time\n",
    "### PMOD -  Modulated regressor\n",
    "### EVENT - Event regressor"
   ]
  },
  {
   "cell_type": "code",
   "execution_count": 1,
   "metadata": {
    "collapsed": false,
    "scrolled": true
   },
   "outputs": [],
   "source": [
    "from glob import glob\n",
    "from scipy import stats\n",
    "from math import sqrt\n",
    "import nibabel as nb\n",
    "import pandas as pd\n",
    "import numpy as np\n",
    "import seaborn as sns\n",
    "import matplotlib.pyplot as plt\n",
    "%matplotlib inline\n",
    "sns.set_palette('muted')\n",
    "\n",
    "sids = ['WMAZE_001', 'WMAZE_002', 'WMAZE_004', 'WMAZE_005', 'WMAZE_006',\n",
    "        'WMAZE_007', 'WMAZE_008', 'WMAZE_009', 'WMAZE_010', 'WMAZE_012',\n",
    "        'WMAZE_017', 'WMAZE_018', 'WMAZE_019', 'WMAZE_020', 'WMAZE_021',\n",
    "        'WMAZE_022', 'WMAZE_023', 'WMAZE_024', 'WMAZE_026', 'WMAZE_027']\n",
    "\n",
    "proj_dir = '/home/data/madlab/data/mri/wmaze' \n",
    "mask_filenames = []\n",
    "cope_files = []\n",
    "for SID in sids:\n",
    "    mask_filenames_glob = glob(proj_dir + '/roi_analysis/MRthesis/fb4c_2/mask/anat_masks/_subject_id_' \n",
    "                               + SID + '/_anatmask_xfm*/*')\n",
    "    mask_filenames.append(mask_filenames_glob)\n",
    "    subjcopes_glob = glob(proj_dir + '/scndlvl/wmaze_MRthesis/fixed_before_conditional/model_cond_PMA/' \n",
    "                          + SID + '/fixedfx/cope_PMA*')\n",
    "    subjcopes_glob.sort()\n",
    "    cope_files.append(subjcopes_glob)    \n",
    "    if len(cope_files[-1]) == 0 or len(cope_files[-1]) != 2:\n",
    "        print(SID)"
   ]
  },
  {
   "cell_type": "markdown",
   "metadata": {},
   "source": [
    "## Cell to double-check the array indexing"
   ]
  },
  {
   "cell_type": "code",
   "execution_count": 2,
   "metadata": {
    "collapsed": false
   },
   "outputs": [
    {
     "name": "stdout",
     "output_type": "stream",
     "text": [
      "(0, 'lh-hippocampus_warped')\n",
      "(1, 'lh_caudate_anat_mask_warped')\n",
      "(2, 'rh_caudate_anat_mask_warped')\n",
      "(3, 'lh-dmPFC_warped')\n",
      "(4, 'lh-mPFC_lausanne_warped')\n",
      "(5, 'lh-mPFC_fs_warped')\n",
      "(6, 'lh-motor_warped')\n",
      "(7, 'lh-mPFC_fs-3reg_warped')\n",
      "(8, 'rh-hippocampus_warped')\n",
      "(9, 'rh-dmPFC_warped')\n",
      "(10, 'rh-mPFC_lausanne_warped')\n",
      "(11, 'rh-mPFC_fs_warped')\n",
      "(12, 'rh-motor_warped')\n",
      "(13, 'rh-mPFC_fs-3reg_warped')\n",
      "(14, 'lh-putamen_warped')\n",
      "(15, 'rh-putamen_warped')\n"
     ]
    }
   ],
   "source": [
    "for i, curr_mask in enumerate(mask_filenames[0]):\n",
    "    print(i, mask_filenames[0][i].split('/')[-1][:-7])"
   ]
  },
  {
   "cell_type": "code",
   "execution_count": 3,
   "metadata": {
    "collapsed": false
   },
   "outputs": [
    {
     "name": "stdout",
     "output_type": "stream",
     "text": [
      "(0, 'PMA_event')\n",
      "(1, 'PMA_pmod')\n"
     ]
    }
   ],
   "source": [
    "for i, curr_cope in enumerate(cope_files[0]):\n",
    "    print(i, cope_files[5][i].split('/')[-1][5:-7]) "
   ]
  },
  {
   "cell_type": "markdown",
   "metadata": {},
   "source": [
    "### Use binarized mask to obtain activation in left & right hemisphere for each region of interest"
   ]
  },
  {
   "cell_type": "code",
   "execution_count": 4,
   "metadata": {
    "collapsed": false,
    "scrolled": true
   },
   "outputs": [],
   "source": [
    "all_data = {'subjid':[],\n",
    "            #HPC\n",
    "            'lhhp_event':[], 'rhhp_event':[], 'lhhp_pmod':[], 'rhhp_pmod':[],\n",
    "            #mPFC\n",
    "            'lhmpfc_event':[], 'rhmpfc_event':[], 'lhmpfc_pmod':[], 'rhmpfc_pmod':[],\n",
    "            #Caudate\n",
    "            'lhcaud_event':[], 'rhcaud_event':[], 'lhcaud_pmod':[], 'rhcaud_pmod':[],\n",
    "            #Putamen\n",
    "            'lhput_event':[], 'rhput_event':[], 'lhput_pmod':[], 'rhput_pmod':[]}\n",
    "\n",
    "for i in range(len(sids)):\n",
    "    all_data['subjid'].append(sids[i])\n",
    "    lh_hp_img = nb.load(mask_filenames[i][0])\n",
    "    rh_hp_img = nb.load(mask_filenames[i][8])\n",
    "    lh_mpfc_img = nb.load(mask_filenames[i][5])\n",
    "    rh_mpfc_img = nb.load(mask_filenames[i][11])\n",
    "    lh_caud_img = nb.load(mask_filenames[i][1])\n",
    "    rh_caud_img = nb.load(mask_filenames[i][2])\n",
    "    lh_put_img = nb.load(mask_filenames[i][14])\n",
    "    rh_put_img = nb.load(mask_filenames[i][15])\n",
    "    \n",
    "    event_img = nb.load(cope_files[i][0])\n",
    "    pmod_img = nb.load(cope_files[i][1])\n",
    "    \n",
    "    region = ['hp', 'mpfc', 'caud', 'put']\n",
    "    contrasts = ['event', 'pmod']\n",
    "   \n",
    "    for r in region:\n",
    "        for c in contrasts:\n",
    "            lh_data = eval('{0}_img.get_data()[lh_{1}_img.get_data() > 0.]'.format(c,r))\n",
    "            all_data['lh{0}_{1}'.format(r,c)].append(np.mean(lh_data))            \n",
    "            rh_data = eval('{0}_img.get_data()[rh_{1}_img.get_data() > 0.]'.format(c,r))\n",
    "            all_data['rh{0}_{1}'.format(r,c)].append(np.mean(rh_data))\n",
    "\n",
    "all_data_df = pd.DataFrame(all_data)    "
   ]
  },
  {
   "cell_type": "markdown",
   "metadata": {},
   "source": [
    "### Combine the two hemispheres to create one regional average"
   ]
  },
  {
   "cell_type": "code",
   "execution_count": 5,
   "metadata": {
    "collapsed": false,
    "scrolled": true
   },
   "outputs": [],
   "source": [
    "plot = {}\n",
    "region = ['hp', 'mpfc', 'caud', 'put']\n",
    "contrasts = ['event', 'pmod']\n",
    "\n",
    "for r in region:\n",
    "    for c in contrasts:\n",
    "        all_data_df['{0}_all_{1}'.format(r,c)] = (all_data_df['lh{0}_{1}'.format(r,c)] \n",
    "                                                  + all_data_df['rh{0}_{1}'.format(r,c)])/2.\n",
    "        plot['{0}_{1}'.format(r,c)] = all_data_df['{0}_all_{1}'.format(r,c)]\n",
    "plot_df = pd.DataFrame.from_dict(plot)"
   ]
  },
  {
   "cell_type": "markdown",
   "metadata": {},
   "source": [
    "## Hippocampus"
   ]
  },
  {
   "cell_type": "code",
   "execution_count": 6,
   "metadata": {
    "collapsed": false
   },
   "outputs": [],
   "source": [
    "hp_chart = {}\n",
    "for x in ['event', 'pmod']:\n",
    "    hp_chart['{0}'.format(x)] = all_data_df['hp_all_{0}'.format(x)] \n",
    "hp_chart_df = pd.DataFrame.from_dict(hp_chart)"
   ]
  },
  {
   "cell_type": "code",
   "execution_count": 7,
   "metadata": {
    "collapsed": false
   },
   "outputs": [
    {
     "data": {
      "text/html": [
       "<div>\n",
       "<style scoped>\n",
       "    .dataframe tbody tr th:only-of-type {\n",
       "        vertical-align: middle;\n",
       "    }\n",
       "\n",
       "    .dataframe tbody tr th {\n",
       "        vertical-align: top;\n",
       "    }\n",
       "\n",
       "    .dataframe thead th {\n",
       "        text-align: right;\n",
       "    }\n",
       "</style>\n",
       "<table border=\"1\" class=\"dataframe\">\n",
       "  <thead>\n",
       "    <tr style=\"text-align: right;\">\n",
       "      <th></th>\n",
       "      <th>event</th>\n",
       "      <th>pmod</th>\n",
       "    </tr>\n",
       "  </thead>\n",
       "  <tbody>\n",
       "    <tr>\n",
       "      <th>0</th>\n",
       "      <td>-4.007704</td>\n",
       "      <td>4.435612</td>\n",
       "    </tr>\n",
       "    <tr>\n",
       "      <th>1</th>\n",
       "      <td>-9.869626</td>\n",
       "      <td>10.547173</td>\n",
       "    </tr>\n",
       "    <tr>\n",
       "      <th>2</th>\n",
       "      <td>-0.311794</td>\n",
       "      <td>0.511501</td>\n",
       "    </tr>\n",
       "    <tr>\n",
       "      <th>3</th>\n",
       "      <td>-0.030531</td>\n",
       "      <td>-1.571757</td>\n",
       "    </tr>\n",
       "    <tr>\n",
       "      <th>4</th>\n",
       "      <td>-7.770180</td>\n",
       "      <td>9.509990</td>\n",
       "    </tr>\n",
       "    <tr>\n",
       "      <th>5</th>\n",
       "      <td>-2.946323</td>\n",
       "      <td>3.237410</td>\n",
       "    </tr>\n",
       "    <tr>\n",
       "      <th>6</th>\n",
       "      <td>-7.256825</td>\n",
       "      <td>9.331097</td>\n",
       "    </tr>\n",
       "    <tr>\n",
       "      <th>7</th>\n",
       "      <td>7.982245</td>\n",
       "      <td>-11.721859</td>\n",
       "    </tr>\n",
       "    <tr>\n",
       "      <th>8</th>\n",
       "      <td>-2.284766</td>\n",
       "      <td>0.344564</td>\n",
       "    </tr>\n",
       "    <tr>\n",
       "      <th>9</th>\n",
       "      <td>-2.628304</td>\n",
       "      <td>5.124384</td>\n",
       "    </tr>\n",
       "    <tr>\n",
       "      <th>10</th>\n",
       "      <td>-2.544512</td>\n",
       "      <td>2.094345</td>\n",
       "    </tr>\n",
       "    <tr>\n",
       "      <th>11</th>\n",
       "      <td>0.714868</td>\n",
       "      <td>-0.535910</td>\n",
       "    </tr>\n",
       "    <tr>\n",
       "      <th>12</th>\n",
       "      <td>-0.410406</td>\n",
       "      <td>3.090157</td>\n",
       "    </tr>\n",
       "    <tr>\n",
       "      <th>13</th>\n",
       "      <td>-5.082572</td>\n",
       "      <td>6.177896</td>\n",
       "    </tr>\n",
       "    <tr>\n",
       "      <th>14</th>\n",
       "      <td>1.780956</td>\n",
       "      <td>-4.404079</td>\n",
       "    </tr>\n",
       "    <tr>\n",
       "      <th>15</th>\n",
       "      <td>1.600091</td>\n",
       "      <td>-7.634123</td>\n",
       "    </tr>\n",
       "    <tr>\n",
       "      <th>16</th>\n",
       "      <td>-2.153128</td>\n",
       "      <td>4.724586</td>\n",
       "    </tr>\n",
       "    <tr>\n",
       "      <th>17</th>\n",
       "      <td>-8.534131</td>\n",
       "      <td>9.693172</td>\n",
       "    </tr>\n",
       "    <tr>\n",
       "      <th>18</th>\n",
       "      <td>-10.863643</td>\n",
       "      <td>12.342151</td>\n",
       "    </tr>\n",
       "    <tr>\n",
       "      <th>19</th>\n",
       "      <td>-8.028913</td>\n",
       "      <td>9.375450</td>\n",
       "    </tr>\n",
       "  </tbody>\n",
       "</table>\n",
       "</div>"
      ],
      "text/plain": [
       "        event       pmod\n",
       "0   -4.007704   4.435612\n",
       "1   -9.869626  10.547173\n",
       "2   -0.311794   0.511501\n",
       "3   -0.030531  -1.571757\n",
       "4   -7.770180   9.509990\n",
       "5   -2.946323   3.237410\n",
       "6   -7.256825   9.331097\n",
       "7    7.982245 -11.721859\n",
       "8   -2.284766   0.344564\n",
       "9   -2.628304   5.124384\n",
       "10  -2.544512   2.094345\n",
       "11   0.714868  -0.535910\n",
       "12  -0.410406   3.090157\n",
       "13  -5.082572   6.177896\n",
       "14   1.780956  -4.404079\n",
       "15   1.600091  -7.634123\n",
       "16  -2.153128   4.724586\n",
       "17  -8.534131   9.693172\n",
       "18 -10.863643  12.342151\n",
       "19  -8.028913   9.375450"
      ]
     },
     "execution_count": 7,
     "metadata": {},
     "output_type": "execute_result"
    }
   ],
   "source": [
    "hp_chart_df"
   ]
  },
  {
   "cell_type": "code",
   "execution_count": 19,
   "metadata": {
    "collapsed": false,
    "scrolled": false
   },
   "outputs": [
    {
     "name": "stdout",
     "output_type": "stream",
     "text": [
      "Mean pmod:  3.23358795531\n",
      "STD pmod:  6.17604079343\n",
      "\n",
      "Mean event:  -3.13225978874\n",
      "STD event:  4.54741076444\n",
      "\n",
      "T-test: PMOD vs. EVENT (2.6134454770274202, 0.017087491599356804) *\n",
      "Cohen's d =  1.61799280034\n"
     ]
    },
    {
     "data": {
      "image/png": "[encoded data removed]",
      "text/plain": [
       "<matplotlib.figure.Figure at 0x2b094954ab50>"
      ]
     },
     "metadata": {},
     "output_type": "display_data"
    }
   ],
   "source": [
    "for d in ['pmod', 'event']:\n",
    "    print \"Mean {0}: \".format(d), np.mean(hp_chart['{0}'.format(d)])\n",
    "    print \"STD {0}: \".format(d), np.std(hp_chart['{0}'.format(d)])\n",
    "    print \"\"\n",
    "    \n",
    "print 'T-test: PMOD vs. EVENT', stats.ttest_rel(hp_chart['pmod'], hp_chart['event'])[:], \"*\"\n",
    "cohens_d = ((np.average(hp_chart['pmod']) - np.average(hp_chart['event'])) \n",
    "            / (sqrt((np.std(hp_chart['pmod'], ddof = 1)) ** 2 + np.std(hp_chart['event'], ddof = 1) ** 2) / 2))\n",
    "print \"Cohen's d = \", cohens_d\n",
    "\n",
    "N = 2\n",
    "conditions = ['Pmod', 'Event']\n",
    "hp_allsubjs = [hp_chart['pmod'], hp_chart['event']]\n",
    "ind = np.arange(N)\n",
    "width = 0.5\n",
    "fig, ax = plt.subplots(figsize = (8,5))\n",
    "ax0 = sns.boxplot(data = hp_allsubjs, color = \"#278fea\", width = 0.3)\n",
    "ax2 = sns.swarmplot(data = hp_allsubjs, color='.25')\n",
    "ax.set_xticks(ind)\n",
    "ax.set_xticklabels(conditions)\n",
    "ax.set_ylabel(\"Arbitrary units\")\n",
    "ax.set_title(\"HPC Activation\")\n",
    "plt.show()"
   ]
  },
  {
   "cell_type": "markdown",
   "metadata": {},
   "source": [
    "## mPFC"
   ]
  },
  {
   "cell_type": "code",
   "execution_count": 10,
   "metadata": {
    "collapsed": true
   },
   "outputs": [],
   "source": [
    "mpfc_chart = {}\n",
    "for x in ['event', 'pmod']:\n",
    "    mpfc_chart['{0}'.format(x)] = all_data_df['mpfc_all_{0}'.format(x)] \n",
    "mpfc_chart_df = pd.DataFrame.from_dict(mpfc_chart)"
   ]
  },
  {
   "cell_type": "code",
   "execution_count": 11,
   "metadata": {
    "collapsed": false
   },
   "outputs": [
    {
     "data": {
      "text/html": [
       "<div>\n",
       "<style scoped>\n",
       "    .dataframe tbody tr th:only-of-type {\n",
       "        vertical-align: middle;\n",
       "    }\n",
       "\n",
       "    .dataframe tbody tr th {\n",
       "        vertical-align: top;\n",
       "    }\n",
       "\n",
       "    .dataframe thead th {\n",
       "        text-align: right;\n",
       "    }\n",
       "</style>\n",
       "<table border=\"1\" class=\"dataframe\">\n",
       "  <thead>\n",
       "    <tr style=\"text-align: right;\">\n",
       "      <th></th>\n",
       "      <th>event</th>\n",
       "      <th>pmod</th>\n",
       "    </tr>\n",
       "  </thead>\n",
       "  <tbody>\n",
       "    <tr>\n",
       "      <th>0</th>\n",
       "      <td>-7.778912</td>\n",
       "      <td>10.985237</td>\n",
       "    </tr>\n",
       "    <tr>\n",
       "      <th>1</th>\n",
       "      <td>-6.789781</td>\n",
       "      <td>7.406094</td>\n",
       "    </tr>\n",
       "    <tr>\n",
       "      <th>2</th>\n",
       "      <td>3.284325</td>\n",
       "      <td>-4.302417</td>\n",
       "    </tr>\n",
       "    <tr>\n",
       "      <th>3</th>\n",
       "      <td>0.519837</td>\n",
       "      <td>-2.573064</td>\n",
       "    </tr>\n",
       "    <tr>\n",
       "      <th>4</th>\n",
       "      <td>-8.649755</td>\n",
       "      <td>9.916684</td>\n",
       "    </tr>\n",
       "    <tr>\n",
       "      <th>5</th>\n",
       "      <td>-4.650495</td>\n",
       "      <td>4.879373</td>\n",
       "    </tr>\n",
       "    <tr>\n",
       "      <th>6</th>\n",
       "      <td>-6.893687</td>\n",
       "      <td>11.637657</td>\n",
       "    </tr>\n",
       "    <tr>\n",
       "      <th>7</th>\n",
       "      <td>7.800922</td>\n",
       "      <td>-12.292915</td>\n",
       "    </tr>\n",
       "    <tr>\n",
       "      <th>8</th>\n",
       "      <td>-2.724318</td>\n",
       "      <td>-0.122476</td>\n",
       "    </tr>\n",
       "    <tr>\n",
       "      <th>9</th>\n",
       "      <td>-2.985735</td>\n",
       "      <td>7.335069</td>\n",
       "    </tr>\n",
       "    <tr>\n",
       "      <th>10</th>\n",
       "      <td>-10.113158</td>\n",
       "      <td>9.499800</td>\n",
       "    </tr>\n",
       "    <tr>\n",
       "      <th>11</th>\n",
       "      <td>1.865506</td>\n",
       "      <td>-4.250023</td>\n",
       "    </tr>\n",
       "    <tr>\n",
       "      <th>12</th>\n",
       "      <td>2.460934</td>\n",
       "      <td>0.212171</td>\n",
       "    </tr>\n",
       "    <tr>\n",
       "      <th>13</th>\n",
       "      <td>-7.665120</td>\n",
       "      <td>9.142853</td>\n",
       "    </tr>\n",
       "    <tr>\n",
       "      <th>14</th>\n",
       "      <td>4.579236</td>\n",
       "      <td>-7.792864</td>\n",
       "    </tr>\n",
       "    <tr>\n",
       "      <th>15</th>\n",
       "      <td>-5.493603</td>\n",
       "      <td>7.924993</td>\n",
       "    </tr>\n",
       "    <tr>\n",
       "      <th>16</th>\n",
       "      <td>-1.469569</td>\n",
       "      <td>4.392470</td>\n",
       "    </tr>\n",
       "    <tr>\n",
       "      <th>17</th>\n",
       "      <td>-5.436004</td>\n",
       "      <td>7.439936</td>\n",
       "    </tr>\n",
       "    <tr>\n",
       "      <th>18</th>\n",
       "      <td>-1.275108</td>\n",
       "      <td>0.334330</td>\n",
       "    </tr>\n",
       "    <tr>\n",
       "      <th>19</th>\n",
       "      <td>-12.554240</td>\n",
       "      <td>17.096336</td>\n",
       "    </tr>\n",
       "  </tbody>\n",
       "</table>\n",
       "</div>"
      ],
      "text/plain": [
       "        event       pmod\n",
       "0   -7.778912  10.985237\n",
       "1   -6.789781   7.406094\n",
       "2    3.284325  -4.302417\n",
       "3    0.519837  -2.573064\n",
       "4   -8.649755   9.916684\n",
       "5   -4.650495   4.879373\n",
       "6   -6.893687  11.637657\n",
       "7    7.800922 -12.292915\n",
       "8   -2.724318  -0.122476\n",
       "9   -2.985735   7.335069\n",
       "10 -10.113158   9.499800\n",
       "11   1.865506  -4.250023\n",
       "12   2.460934   0.212171\n",
       "13  -7.665120   9.142853\n",
       "14   4.579236  -7.792864\n",
       "15  -5.493603   7.924993\n",
       "16  -1.469569   4.392470\n",
       "17  -5.436004   7.439936\n",
       "18  -1.275108   0.334330\n",
       "19 -12.554240  17.096336"
      ]
     },
     "execution_count": 11,
     "metadata": {},
     "output_type": "execute_result"
    }
   ],
   "source": [
    "mpfc_chart_df"
   ]
  },
  {
   "cell_type": "code",
   "execution_count": 20,
   "metadata": {
    "collapsed": false
   },
   "outputs": [
    {
     "name": "stdout",
     "output_type": "stream",
     "text": [
      "Mean pmod:  3.84346211106\n",
      "STD pmod :  7.24656409594\n",
      "\n",
      "Mean event:  -3.19843626753\n",
      "STD event :  5.22919194264\n",
      "\n",
      "T-test: PMOD vs. EVENT (2.4857541283386917, 0.022402587443002667) *\n",
      "Cohen's d =  1.53611834882\n"
     ]
    },
    {
     "data": {
      "image/png": "[encoded data removed]",
      "text/plain": [
       "<matplotlib.figure.Figure at 0x2b09491f5dd0>"
      ]
     },
     "metadata": {},
     "output_type": "display_data"
    }
   ],
   "source": [
    "for d in ['pmod', 'event']:\n",
    "    print \"Mean {0}: \".format(d), np.mean(mpfc_chart['{0}'.format(d)])\n",
    "    print \"STD {0} : \".format(d), np.std(mpfc_chart['{0}'.format(d)])\n",
    "    print \"\"\n",
    "    \n",
    "print 'T-test: PMOD vs. EVENT', stats.ttest_rel(mpfc_chart['pmod'], mpfc_chart['event'])[:], \"*\"\n",
    "cohens_d = ((np.average(mpfc_chart['pmod']) - np.average(mpfc_chart['event'])) \n",
    "            / (sqrt((np.std(mpfc_chart['pmod'], ddof = 1)) ** 2 + np.std(mpfc_chart['event'], ddof = 1) ** 2) / 2))\n",
    "print \"Cohen's d = \", cohens_d\n",
    "\n",
    "N = 2\n",
    "conditions = ['Pmod', 'Event']\n",
    "mpfc_allsubjs = [mpfc_chart['pmod'], mpfc_chart['event']]\n",
    "ind = np.arange(N)\n",
    "width = 0.5\n",
    "fig, ax = plt.subplots(figsize = (8,5))\n",
    "ax0 = sns.boxplot(data = mpfc_allsubjs, color = \"#f97401\", width = 0.3)\n",
    "ax2 = sns.swarmplot(data = mpfc_allsubjs, color='.25')\n",
    "ax.set_xticks(ind)\n",
    "ax.set_xticklabels(conditions)\n",
    "ax.set_ylabel(\"Arbitrary units\")\n",
    "ax.set_title(\"mPFC Activation\")\n",
    "plt.show()"
   ]
  },
  {
   "cell_type": "markdown",
   "metadata": {},
   "source": [
    "## Caudate"
   ]
  },
  {
   "cell_type": "code",
   "execution_count": 13,
   "metadata": {
    "collapsed": true
   },
   "outputs": [],
   "source": [
    "caud_chart = {}\n",
    "for x in ['event', 'pmod']:\n",
    "    caud_chart['{0}'.format(x)] = all_data_df['caud_all_{0}'.format(x)] \n",
    "caud_chart_df = pd.DataFrame.from_dict(caud_chart)"
   ]
  },
  {
   "cell_type": "code",
   "execution_count": 14,
   "metadata": {
    "collapsed": false
   },
   "outputs": [
    {
     "data": {
      "text/html": [
       "<div>\n",
       "<style scoped>\n",
       "    .dataframe tbody tr th:only-of-type {\n",
       "        vertical-align: middle;\n",
       "    }\n",
       "\n",
       "    .dataframe tbody tr th {\n",
       "        vertical-align: top;\n",
       "    }\n",
       "\n",
       "    .dataframe thead th {\n",
       "        text-align: right;\n",
       "    }\n",
       "</style>\n",
       "<table border=\"1\" class=\"dataframe\">\n",
       "  <thead>\n",
       "    <tr style=\"text-align: right;\">\n",
       "      <th></th>\n",
       "      <th>event</th>\n",
       "      <th>pmod</th>\n",
       "    </tr>\n",
       "  </thead>\n",
       "  <tbody>\n",
       "    <tr>\n",
       "      <th>0</th>\n",
       "      <td>7.147452</td>\n",
       "      <td>-10.919598</td>\n",
       "    </tr>\n",
       "    <tr>\n",
       "      <th>1</th>\n",
       "      <td>-0.383466</td>\n",
       "      <td>-0.055449</td>\n",
       "    </tr>\n",
       "    <tr>\n",
       "      <th>2</th>\n",
       "      <td>18.328802</td>\n",
       "      <td>-23.404768</td>\n",
       "    </tr>\n",
       "    <tr>\n",
       "      <th>3</th>\n",
       "      <td>6.428277</td>\n",
       "      <td>-9.779299</td>\n",
       "    </tr>\n",
       "    <tr>\n",
       "      <th>4</th>\n",
       "      <td>-0.906544</td>\n",
       "      <td>0.378130</td>\n",
       "    </tr>\n",
       "    <tr>\n",
       "      <th>5</th>\n",
       "      <td>5.378553</td>\n",
       "      <td>-4.808114</td>\n",
       "    </tr>\n",
       "    <tr>\n",
       "      <th>6</th>\n",
       "      <td>-2.969019</td>\n",
       "      <td>4.030625</td>\n",
       "    </tr>\n",
       "    <tr>\n",
       "      <th>7</th>\n",
       "      <td>21.369527</td>\n",
       "      <td>-28.035648</td>\n",
       "    </tr>\n",
       "    <tr>\n",
       "      <th>8</th>\n",
       "      <td>-5.775007</td>\n",
       "      <td>10.394461</td>\n",
       "    </tr>\n",
       "    <tr>\n",
       "      <th>9</th>\n",
       "      <td>4.212139</td>\n",
       "      <td>-5.950105</td>\n",
       "    </tr>\n",
       "    <tr>\n",
       "      <th>10</th>\n",
       "      <td>-8.940816</td>\n",
       "      <td>10.205235</td>\n",
       "    </tr>\n",
       "    <tr>\n",
       "      <th>11</th>\n",
       "      <td>7.141451</td>\n",
       "      <td>-9.593803</td>\n",
       "    </tr>\n",
       "    <tr>\n",
       "      <th>12</th>\n",
       "      <td>-5.016334</td>\n",
       "      <td>10.250166</td>\n",
       "    </tr>\n",
       "    <tr>\n",
       "      <th>13</th>\n",
       "      <td>1.508015</td>\n",
       "      <td>-2.070102</td>\n",
       "    </tr>\n",
       "    <tr>\n",
       "      <th>14</th>\n",
       "      <td>21.547406</td>\n",
       "      <td>-23.308450</td>\n",
       "    </tr>\n",
       "    <tr>\n",
       "      <th>15</th>\n",
       "      <td>-3.470174</td>\n",
       "      <td>3.837950</td>\n",
       "    </tr>\n",
       "    <tr>\n",
       "      <th>16</th>\n",
       "      <td>26.462141</td>\n",
       "      <td>-27.190282</td>\n",
       "    </tr>\n",
       "    <tr>\n",
       "      <th>17</th>\n",
       "      <td>13.398125</td>\n",
       "      <td>-18.225129</td>\n",
       "    </tr>\n",
       "    <tr>\n",
       "      <th>18</th>\n",
       "      <td>2.406154</td>\n",
       "      <td>-4.247718</td>\n",
       "    </tr>\n",
       "    <tr>\n",
       "      <th>19</th>\n",
       "      <td>-2.444162</td>\n",
       "      <td>2.167864</td>\n",
       "    </tr>\n",
       "  </tbody>\n",
       "</table>\n",
       "</div>"
      ],
      "text/plain": [
       "        event       pmod\n",
       "0    7.147452 -10.919598\n",
       "1   -0.383466  -0.055449\n",
       "2   18.328802 -23.404768\n",
       "3    6.428277  -9.779299\n",
       "4   -0.906544   0.378130\n",
       "5    5.378553  -4.808114\n",
       "6   -2.969019   4.030625\n",
       "7   21.369527 -28.035648\n",
       "8   -5.775007  10.394461\n",
       "9    4.212139  -5.950105\n",
       "10  -8.940816  10.205235\n",
       "11   7.141451  -9.593803\n",
       "12  -5.016334  10.250166\n",
       "13   1.508015  -2.070102\n",
       "14  21.547406 -23.308450\n",
       "15  -3.470174   3.837950\n",
       "16  26.462141 -27.190282\n",
       "17  13.398125 -18.225129\n",
       "18   2.406154  -4.247718\n",
       "19  -2.444162   2.167864"
      ]
     },
     "execution_count": 14,
     "metadata": {},
     "output_type": "execute_result"
    }
   ],
   "source": [
    "caud_chart_df"
   ]
  },
  {
   "cell_type": "code",
   "execution_count": 21,
   "metadata": {
    "collapsed": false,
    "scrolled": true
   },
   "outputs": [
    {
     "name": "stdout",
     "output_type": "stream",
     "text": [
      "Mean pmod:  -6.31620173641\n",
      "STD pmod :  12.0239049496\n",
      "\n",
      "Mean event:  5.27112591476\n",
      "STD event :  9.8624234244\n",
      "\n",
      "T-test: PMOD vs. EVENT (-2.31652572300725, 0.031853924810096947) *\n",
      "Cohen's d =  -1.45247780544\n"
     ]
    },
    {
     "data": {
      "image/png": "[encoded data removed]",
      "text/plain": [
       "<matplotlib.figure.Figure at 0x2b09496ead10>"
      ]
     },
     "metadata": {},
     "output_type": "display_data"
    }
   ],
   "source": [
    "for d in ['pmod', 'event']:\n",
    "    print \"Mean {0}: \".format(d), np.mean(caud_chart['{0}'.format(d)])\n",
    "    print \"STD {0} : \".format(d), np.std(caud_chart['{0}'.format(d)])\n",
    "    print \"\"\n",
    "    \n",
    "print 'T-test: PMOD vs. EVENT', stats.ttest_rel(caud_chart['pmod'], caud_chart['event'])[:], \"*\"\n",
    "cohens_d = ((np.average(caud_chart['pmod']) - np.average(caud_chart['event'])) \n",
    "            / (sqrt((np.std(caud_chart['pmod'], ddof = 1)) ** 2 + np.std(caud_chart['event'], ddof = 1) ** 2) / 2))\n",
    "print \"Cohen's d = \", cohens_d\n",
    "\n",
    "N = 2\n",
    "conditions = ['Pmod', 'Event']\n",
    "caud_allsubjs = [caud_chart['pmod'], caud_chart['event']]\n",
    "ind = np.arange(N)\n",
    "width = 0.5\n",
    "fig, ax = plt.subplots(figsize = (8,5))\n",
    "ax0 = sns.boxplot(data = caud_allsubjs, color = \"#f9f96d\", width = 0.3)\n",
    "ax2 = sns.swarmplot(data = caud_allsubjs, color='.25')\n",
    "ax.set_xticks(ind)\n",
    "ax.set_xticklabels(conditions)\n",
    "ax.set_ylabel(\"Arbitrary units\")\n",
    "ax.set_title(\"Caudate Activation\")\n",
    "plt.show()"
   ]
  },
  {
   "cell_type": "markdown",
   "metadata": {},
   "source": [
    "## Putamen"
   ]
  },
  {
   "cell_type": "code",
   "execution_count": 16,
   "metadata": {
    "collapsed": false
   },
   "outputs": [],
   "source": [
    "put_chart = {}\n",
    "for x in ['event', 'pmod']:\n",
    "    put_chart['{0}'.format(x)] = all_data_df['put_all_{0}'.format(x)] \n",
    "put_chart_df = pd.DataFrame.from_dict(put_chart)"
   ]
  },
  {
   "cell_type": "code",
   "execution_count": 17,
   "metadata": {
    "collapsed": false
   },
   "outputs": [
    {
     "data": {
      "text/html": [
       "<div>\n",
       "<style scoped>\n",
       "    .dataframe tbody tr th:only-of-type {\n",
       "        vertical-align: middle;\n",
       "    }\n",
       "\n",
       "    .dataframe tbody tr th {\n",
       "        vertical-align: top;\n",
       "    }\n",
       "\n",
       "    .dataframe thead th {\n",
       "        text-align: right;\n",
       "    }\n",
       "</style>\n",
       "<table border=\"1\" class=\"dataframe\">\n",
       "  <thead>\n",
       "    <tr style=\"text-align: right;\">\n",
       "      <th></th>\n",
       "      <th>event</th>\n",
       "      <th>pmod</th>\n",
       "    </tr>\n",
       "  </thead>\n",
       "  <tbody>\n",
       "    <tr>\n",
       "      <th>0</th>\n",
       "      <td>1.593402</td>\n",
       "      <td>-2.976442</td>\n",
       "    </tr>\n",
       "    <tr>\n",
       "      <th>1</th>\n",
       "      <td>-6.755811</td>\n",
       "      <td>7.975622</td>\n",
       "    </tr>\n",
       "    <tr>\n",
       "      <th>2</th>\n",
       "      <td>6.026781</td>\n",
       "      <td>-8.461804</td>\n",
       "    </tr>\n",
       "    <tr>\n",
       "      <th>3</th>\n",
       "      <td>1.019361</td>\n",
       "      <td>-3.151336</td>\n",
       "    </tr>\n",
       "    <tr>\n",
       "      <th>4</th>\n",
       "      <td>-5.975581</td>\n",
       "      <td>7.399626</td>\n",
       "    </tr>\n",
       "    <tr>\n",
       "      <th>5</th>\n",
       "      <td>-3.812069</td>\n",
       "      <td>6.359742</td>\n",
       "    </tr>\n",
       "    <tr>\n",
       "      <th>6</th>\n",
       "      <td>-4.613606</td>\n",
       "      <td>7.260340</td>\n",
       "    </tr>\n",
       "    <tr>\n",
       "      <th>7</th>\n",
       "      <td>5.798993</td>\n",
       "      <td>-6.970798</td>\n",
       "    </tr>\n",
       "    <tr>\n",
       "      <th>8</th>\n",
       "      <td>-4.514623</td>\n",
       "      <td>4.394375</td>\n",
       "    </tr>\n",
       "    <tr>\n",
       "      <th>9</th>\n",
       "      <td>-0.758849</td>\n",
       "      <td>2.176827</td>\n",
       "    </tr>\n",
       "    <tr>\n",
       "      <th>10</th>\n",
       "      <td>-10.546061</td>\n",
       "      <td>13.477643</td>\n",
       "    </tr>\n",
       "    <tr>\n",
       "      <th>11</th>\n",
       "      <td>-0.605323</td>\n",
       "      <td>1.098293</td>\n",
       "    </tr>\n",
       "    <tr>\n",
       "      <th>12</th>\n",
       "      <td>-1.559743</td>\n",
       "      <td>3.389036</td>\n",
       "    </tr>\n",
       "    <tr>\n",
       "      <th>13</th>\n",
       "      <td>0.073858</td>\n",
       "      <td>-0.494474</td>\n",
       "    </tr>\n",
       "    <tr>\n",
       "      <th>14</th>\n",
       "      <td>9.700941</td>\n",
       "      <td>-12.442493</td>\n",
       "    </tr>\n",
       "    <tr>\n",
       "      <th>15</th>\n",
       "      <td>1.238942</td>\n",
       "      <td>-4.185420</td>\n",
       "    </tr>\n",
       "    <tr>\n",
       "      <th>16</th>\n",
       "      <td>14.321883</td>\n",
       "      <td>-14.560025</td>\n",
       "    </tr>\n",
       "    <tr>\n",
       "      <th>17</th>\n",
       "      <td>1.014862</td>\n",
       "      <td>-1.964441</td>\n",
       "    </tr>\n",
       "    <tr>\n",
       "      <th>18</th>\n",
       "      <td>-8.757626</td>\n",
       "      <td>10.046808</td>\n",
       "    </tr>\n",
       "    <tr>\n",
       "      <th>19</th>\n",
       "      <td>-8.642485</td>\n",
       "      <td>8.284805</td>\n",
       "    </tr>\n",
       "  </tbody>\n",
       "</table>\n",
       "</div>"
      ],
      "text/plain": [
       "        event       pmod\n",
       "0    1.593402  -2.976442\n",
       "1   -6.755811   7.975622\n",
       "2    6.026781  -8.461804\n",
       "3    1.019361  -3.151336\n",
       "4   -5.975581   7.399626\n",
       "5   -3.812069   6.359742\n",
       "6   -4.613606   7.260340\n",
       "7    5.798993  -6.970798\n",
       "8   -4.514623   4.394375\n",
       "9   -0.758849   2.176827\n",
       "10 -10.546061  13.477643\n",
       "11  -0.605323   1.098293\n",
       "12  -1.559743   3.389036\n",
       "13   0.073858  -0.494474\n",
       "14   9.700941 -12.442493\n",
       "15   1.238942  -4.185420\n",
       "16  14.321883 -14.560025\n",
       "17   1.014862  -1.964441\n",
       "18  -8.757626  10.046808\n",
       "19  -8.642485   8.284805"
      ]
     },
     "execution_count": 17,
     "metadata": {},
     "output_type": "execute_result"
    }
   ],
   "source": [
    "put_chart_df"
   ]
  },
  {
   "cell_type": "code",
   "execution_count": 18,
   "metadata": {
    "collapsed": false,
    "scrolled": true
   },
   "outputs": [
    {
     "name": "stdout",
     "output_type": "stream",
     "text": [
      "Mean pmod:  0.832794195693\n",
      "STD pmod:  7.46000203314\n",
      "\n",
      "Mean event:  -0.787637687847\n",
      "STD event:  6.19050317469\n",
      "\n",
      "T-test: PMOD vs. EVENT (0.51966266466561084, 0.6093002799249494)\n",
      "Cohen's d =  0.325850817017\n"
     ]
    },
    {
     "data": {
      "image/png": "[encoded data removed]",
      "text/plain": [
       "<matplotlib.figure.Figure at 0x2b09496ed850>"
      ]
     },
     "metadata": {},
     "output_type": "display_data"
    }
   ],
   "source": [
    "for d in ['pmod', 'event']:\n",
    "    print \"Mean {0}: \".format(d), np.mean(put_chart['{0}'.format(d)])\n",
    "    print \"STD {0}: \".format(d), np.std(put_chart['{0}'.format(d)])\n",
    "    print \"\"\n",
    "    \n",
    "print 'T-test: PMOD vs. EVENT', stats.ttest_rel(put_chart['pmod'], put_chart['event'])[:]\n",
    "cohens_d = ((np.average(put_chart['pmod']) - np.average(put_chart['event'])) \n",
    "            / (sqrt((np.std(put_chart['pmod'], ddof = 1)) ** 2 + np.std(put_chart['event'], ddof = 1) ** 2) / 2))\n",
    "print \"Cohen's d = \", cohens_d\n",
    "\n",
    "N = 2\n",
    "conditions = ['Pmod', 'Event']\n",
    "put_allsubjs = [put_chart['pmod'], put_chart['event']]\n",
    "ind = np.arange(N)\n",
    "width = 0.5\n",
    "fig, ax = plt.subplots(figsize = (8,5))\n",
    "ax0 = sns.boxplot(data = put_allsubjs, color = \"#c34aef\", width = 0.3)\n",
    "ax2 = sns.swarmplot(data = put_allsubjs, color='.25')\n",
    "ax.set_xticks(ind)\n",
    "ax.set_xticklabels(conditions)\n",
    "ax.set_ylabel(\"Arbitrary units\")\n",
    "ax.set_title(\"putate Activation\")\n",
    "plt.show()"
   ]
  },
  {
   "cell_type": "code",
   "execution_count": null,
   "metadata": {
    "collapsed": true
   },
   "outputs": [],
   "source": []
  }
 ],
 "metadata": {
  "anaconda-cloud": {},
  "kernelspec": {
   "display_name": "Python 2",
   "language": "python",
   "name": "python2"
  },
  "language_info": {
   "codemirror_mode": {
    "name": "ipython",
    "version": 2
   },
   "file_extension": ".py",
   "mimetype": "text/x-python",
   "name": "python",
   "nbconvert_exporter": "python",
   "pygments_lexer": "ipython2",
   "version": "2.7.12"
  }
 },
 "nbformat": 4,
 "nbformat_minor": 2
}
