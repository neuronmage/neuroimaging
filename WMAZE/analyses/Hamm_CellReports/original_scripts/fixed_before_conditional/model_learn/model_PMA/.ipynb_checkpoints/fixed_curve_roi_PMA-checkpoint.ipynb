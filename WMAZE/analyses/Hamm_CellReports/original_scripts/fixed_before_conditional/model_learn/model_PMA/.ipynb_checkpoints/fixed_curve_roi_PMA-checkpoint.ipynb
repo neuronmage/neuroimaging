{
 "cells": [
  {
   "cell_type": "markdown",
   "metadata": {},
   "source": [
    "# Model Fixed Curve - Parametric Modulation Analysis\n",
    "## Useful if you are anticipating that the amplitude of the response may be different for each stimulus dimension or will change over time\n",
    "### PMOD -  Modulated regressor\n",
    "### EVENT - Event regressor"
   ]
  },
  {
   "cell_type": "code",
   "execution_count": 1,
   "metadata": {
    "collapsed": false,
    "scrolled": true
   },
   "outputs": [],
   "source": [
    "from glob import glob\n",
    "from scipy import stats\n",
    "from math import sqrt\n",
    "import nibabel as nb\n",
    "import pandas as pd\n",
    "import numpy as np\n",
    "import seaborn as sns\n",
    "import matplotlib.pyplot as plt\n",
    "%matplotlib inline\n",
    "sns.set_palette('muted')\n",
    "\n",
    "sids = ['WMAZE_001', 'WMAZE_002', 'WMAZE_004', 'WMAZE_005', 'WMAZE_006',\n",
    "        'WMAZE_007', 'WMAZE_008', 'WMAZE_009', 'WMAZE_010', 'WMAZE_012',\n",
    "        'WMAZE_017', 'WMAZE_018', 'WMAZE_019', 'WMAZE_020', 'WMAZE_021',\n",
    "        'WMAZE_022', 'WMAZE_023', 'WMAZE_024', 'WMAZE_026', 'WMAZE_027']\n",
    "\n",
    "proj_dir = '/home/data/madlab/data/mri/wmaze' \n",
    "mask_filenames = []\n",
    "cope_files = []\n",
    "for SID in sids:\n",
    "    mask_filenames_glob = glob(proj_dir + '/roi_analysis/MRthesis/fb4c_2/mask/anat_masks/_subject_id_' \n",
    "                               + SID + '/_anatmask_xfm*/*')\n",
    "    mask_filenames.append(mask_filenames_glob)\n",
    "    subjcopes_glob = glob(proj_dir + '/scndlvl/wmaze_MRthesis/fixed_before_conditional/model_fixed_PMA/' \n",
    "                          + SID + '/fixedfx/cope_PMA*')\n",
    "    subjcopes_glob.sort()\n",
    "    cope_files.append(subjcopes_glob)    \n",
    "    if len(cope_files[-1]) == 0 or len(cope_files[-1]) != 2:\n",
    "        print(SID)"
   ]
  },
  {
   "cell_type": "markdown",
   "metadata": {},
   "source": [
    "## Cell to double-check the array indexing"
   ]
  },
  {
   "cell_type": "code",
   "execution_count": 2,
   "metadata": {
    "collapsed": false
   },
   "outputs": [
    {
     "name": "stdout",
     "output_type": "stream",
     "text": [
      "(0, 'lh-hippocampus_warped')\n",
      "(1, 'lh_caudate_anat_mask_warped')\n",
      "(2, 'rh_caudate_anat_mask_warped')\n",
      "(3, 'lh-dmPFC_warped')\n",
      "(4, 'lh-mPFC_lausanne_warped')\n",
      "(5, 'lh-mPFC_fs_warped')\n",
      "(6, 'lh-motor_warped')\n",
      "(7, 'lh-mPFC_fs-3reg_warped')\n",
      "(8, 'rh-hippocampus_warped')\n",
      "(9, 'rh-dmPFC_warped')\n",
      "(10, 'rh-mPFC_lausanne_warped')\n",
      "(11, 'rh-mPFC_fs_warped')\n",
      "(12, 'rh-motor_warped')\n",
      "(13, 'rh-mPFC_fs-3reg_warped')\n",
      "(14, 'lh-putamen_warped')\n",
      "(15, 'rh-putamen_warped')\n"
     ]
    }
   ],
   "source": [
    "for i, curr_mask in enumerate(mask_filenames[0]):\n",
    "    print(i, mask_filenames[0][i].split('/')[-1][:-7])"
   ]
  },
  {
   "cell_type": "code",
   "execution_count": 3,
   "metadata": {
    "collapsed": false
   },
   "outputs": [
    {
     "name": "stdout",
     "output_type": "stream",
     "text": [
      "(0, 'PMA_event')\n",
      "(1, 'PMA_pmod')\n"
     ]
    }
   ],
   "source": [
    "for i, curr_cope in enumerate(cope_files[0]):\n",
    "    print(i, cope_files[5][i].split('/')[-1][5:-7]) "
   ]
  },
  {
   "cell_type": "markdown",
   "metadata": {},
   "source": [
    "### Use binarized mask to obtain activation in left & right hemisphere for each region of interest"
   ]
  },
  {
   "cell_type": "code",
   "execution_count": 4,
   "metadata": {
    "collapsed": false,
    "scrolled": true
   },
   "outputs": [],
   "source": [
    "all_data = {'subjid':[],\n",
    "            #HPC\n",
    "            'lhhp_event':[], 'rhhp_event':[], 'lhhp_pmod':[], 'rhhp_pmod':[],\n",
    "            #mPFC\n",
    "            'lhmpfc_event':[], 'rhmpfc_event':[], 'lhmpfc_pmod':[], 'rhmpfc_pmod':[],\n",
    "            #Caudate\n",
    "            'lhcaud_event':[], 'rhcaud_event':[], 'lhcaud_pmod':[], 'rhcaud_pmod':[],\n",
    "            #Putamen\n",
    "            'lhput_event':[], 'rhput_event':[], 'lhput_pmod':[], 'rhput_pmod':[]}\n",
    "\n",
    "for i in range(len(sids)):\n",
    "    all_data['subjid'].append(sids[i])\n",
    "    lh_hp_img = nb.load(mask_filenames[i][0])\n",
    "    rh_hp_img = nb.load(mask_filenames[i][8])\n",
    "    lh_mpfc_img = nb.load(mask_filenames[i][5])\n",
    "    rh_mpfc_img = nb.load(mask_filenames[i][11])\n",
    "    lh_caud_img = nb.load(mask_filenames[i][1])\n",
    "    rh_caud_img = nb.load(mask_filenames[i][2])\n",
    "    lh_put_img = nb.load(mask_filenames[i][14])\n",
    "    rh_put_img = nb.load(mask_filenames[i][15])\n",
    "    \n",
    "    event_img = nb.load(cope_files[i][0])\n",
    "    pmod_img = nb.load(cope_files[i][1])\n",
    "    \n",
    "    region = ['hp', 'mpfc', 'caud', 'put']\n",
    "    contrasts = ['event', 'pmod']\n",
    "   \n",
    "    for r in region:\n",
    "        for c in contrasts:\n",
    "            lh_data = eval('{0}_img.get_data()[lh_{1}_img.get_data() > 0.]'.format(c,r))\n",
    "            all_data['lh{0}_{1}'.format(r,c)].append(np.mean(lh_data))            \n",
    "            rh_data = eval('{0}_img.get_data()[rh_{1}_img.get_data() > 0.]'.format(c,r))\n",
    "            all_data['rh{0}_{1}'.format(r,c)].append(np.mean(rh_data))\n",
    "\n",
    "all_data_df = pd.DataFrame(all_data)    "
   ]
  },
  {
   "cell_type": "markdown",
   "metadata": {},
   "source": [
    "### Combine the two hemispheres to create one regional average"
   ]
  },
  {
   "cell_type": "code",
   "execution_count": 5,
   "metadata": {
    "collapsed": false,
    "scrolled": true
   },
   "outputs": [],
   "source": [
    "plot = {}\n",
    "region = ['hp', 'mpfc', 'caud', 'put']\n",
    "contrasts = ['event', 'pmod']\n",
    "\n",
    "for r in region:\n",
    "    for c in contrasts:\n",
    "        all_data_df['{0}_all_{1}'.format(r,c)] = (all_data_df['lh{0}_{1}'.format(r,c)] \n",
    "                                                  + all_data_df['rh{0}_{1}'.format(r,c)])/2.\n",
    "        plot['{0}_{1}'.format(r,c)] = all_data_df['{0}_all_{1}'.format(r,c)]\n",
    "plot_df = pd.DataFrame.from_dict(plot)"
   ]
  },
  {
   "cell_type": "markdown",
   "metadata": {},
   "source": [
    "## Hippocampus"
   ]
  },
  {
   "cell_type": "code",
   "execution_count": 6,
   "metadata": {
    "collapsed": false
   },
   "outputs": [],
   "source": [
    "hp_chart = {}\n",
    "for x in ['event', 'pmod']:\n",
    "    hp_chart['{0}'.format(x)] = all_data_df['hp_all_{0}'.format(x)] \n",
    "hp_chart_df = pd.DataFrame.from_dict(hp_chart)"
   ]
  },
  {
   "cell_type": "code",
   "execution_count": 7,
   "metadata": {
    "collapsed": false
   },
   "outputs": [
    {
     "data": {
      "text/html": [
       "<div>\n",
       "<style scoped>\n",
       "    .dataframe tbody tr th:only-of-type {\n",
       "        vertical-align: middle;\n",
       "    }\n",
       "\n",
       "    .dataframe tbody tr th {\n",
       "        vertical-align: top;\n",
       "    }\n",
       "\n",
       "    .dataframe thead th {\n",
       "        text-align: right;\n",
       "    }\n",
       "</style>\n",
       "<table border=\"1\" class=\"dataframe\">\n",
       "  <thead>\n",
       "    <tr style=\"text-align: right;\">\n",
       "      <th></th>\n",
       "      <th>event</th>\n",
       "      <th>pmod</th>\n",
       "    </tr>\n",
       "  </thead>\n",
       "  <tbody>\n",
       "    <tr>\n",
       "      <th>0</th>\n",
       "      <td>-1.973424</td>\n",
       "      <td>5.198054</td>\n",
       "    </tr>\n",
       "    <tr>\n",
       "      <th>1</th>\n",
       "      <td>-15.266747</td>\n",
       "      <td>8.906802</td>\n",
       "    </tr>\n",
       "    <tr>\n",
       "      <th>2</th>\n",
       "      <td>-4.610958</td>\n",
       "      <td>8.004866</td>\n",
       "    </tr>\n",
       "    <tr>\n",
       "      <th>3</th>\n",
       "      <td>-2.142749</td>\n",
       "      <td>1.560627</td>\n",
       "    </tr>\n",
       "    <tr>\n",
       "      <th>4</th>\n",
       "      <td>-9.138647</td>\n",
       "      <td>11.411491</td>\n",
       "    </tr>\n",
       "    <tr>\n",
       "      <th>5</th>\n",
       "      <td>-2.000123</td>\n",
       "      <td>2.058329</td>\n",
       "    </tr>\n",
       "    <tr>\n",
       "      <th>6</th>\n",
       "      <td>0.923628</td>\n",
       "      <td>-0.890328</td>\n",
       "    </tr>\n",
       "    <tr>\n",
       "      <th>7</th>\n",
       "      <td>-2.502999</td>\n",
       "      <td>0.668068</td>\n",
       "    </tr>\n",
       "    <tr>\n",
       "      <th>8</th>\n",
       "      <td>0.189416</td>\n",
       "      <td>-6.548111</td>\n",
       "    </tr>\n",
       "    <tr>\n",
       "      <th>9</th>\n",
       "      <td>-3.887820</td>\n",
       "      <td>6.124732</td>\n",
       "    </tr>\n",
       "    <tr>\n",
       "      <th>10</th>\n",
       "      <td>-3.815196</td>\n",
       "      <td>5.503557</td>\n",
       "    </tr>\n",
       "    <tr>\n",
       "      <th>11</th>\n",
       "      <td>5.601760</td>\n",
       "      <td>-5.742011</td>\n",
       "    </tr>\n",
       "    <tr>\n",
       "      <th>12</th>\n",
       "      <td>-1.732382</td>\n",
       "      <td>5.394315</td>\n",
       "    </tr>\n",
       "    <tr>\n",
       "      <th>13</th>\n",
       "      <td>-1.856870</td>\n",
       "      <td>2.313124</td>\n",
       "    </tr>\n",
       "    <tr>\n",
       "      <th>14</th>\n",
       "      <td>13.362443</td>\n",
       "      <td>-22.734192</td>\n",
       "    </tr>\n",
       "    <tr>\n",
       "      <th>15</th>\n",
       "      <td>-4.477412</td>\n",
       "      <td>-1.647060</td>\n",
       "    </tr>\n",
       "    <tr>\n",
       "      <th>16</th>\n",
       "      <td>-4.432903</td>\n",
       "      <td>8.735228</td>\n",
       "    </tr>\n",
       "    <tr>\n",
       "      <th>17</th>\n",
       "      <td>-4.975089</td>\n",
       "      <td>5.249405</td>\n",
       "    </tr>\n",
       "    <tr>\n",
       "      <th>18</th>\n",
       "      <td>-15.664336</td>\n",
       "      <td>14.992530</td>\n",
       "    </tr>\n",
       "    <tr>\n",
       "      <th>19</th>\n",
       "      <td>-1.393166</td>\n",
       "      <td>3.583680</td>\n",
       "    </tr>\n",
       "  </tbody>\n",
       "</table>\n",
       "</div>"
      ],
      "text/plain": [
       "        event       pmod\n",
       "0   -1.973424   5.198054\n",
       "1  -15.266747   8.906802\n",
       "2   -4.610958   8.004866\n",
       "3   -2.142749   1.560627\n",
       "4   -9.138647  11.411491\n",
       "5   -2.000123   2.058329\n",
       "6    0.923628  -0.890328\n",
       "7   -2.502999   0.668068\n",
       "8    0.189416  -6.548111\n",
       "9   -3.887820   6.124732\n",
       "10  -3.815196   5.503557\n",
       "11   5.601760  -5.742011\n",
       "12  -1.732382   5.394315\n",
       "13  -1.856870   2.313124\n",
       "14  13.362443 -22.734192\n",
       "15  -4.477412  -1.647060\n",
       "16  -4.432903   8.735228\n",
       "17  -4.975089   5.249405\n",
       "18 -15.664336  14.992530\n",
       "19  -1.393166   3.583680"
      ]
     },
     "execution_count": 7,
     "metadata": {},
     "output_type": "execute_result"
    }
   ],
   "source": [
    "hp_chart_df"
   ]
  },
  {
   "cell_type": "code",
   "execution_count": 26,
   "metadata": {
    "collapsed": false,
    "scrolled": false
   },
   "outputs": [
    {
     "name": "stdout",
     "output_type": "stream",
     "text": [
      "Mean pmod:  2.6071553573\n",
      "STD pmod:  7.78380237217\n",
      "\n",
      "Mean event:  -2.98967858553\n",
      "STD event:  6.0685348072\n",
      "\n",
      "T-test: PMOD vs. EVENT (1.814051195247482, 0.085494715057253562)\n",
      "Cohen's d =  1.10540642485\n"
     ]
    },
    {
     "data": {
      "image/png": "[encoded data removed]",
      "text/plain": [
       "<matplotlib.figure.Figure at 0x2ab3118fb050>"
      ]
     },
     "metadata": {},
     "output_type": "display_data"
    }
   ],
   "source": [
    "for d in ['pmod', 'event']:\n",
    "    print \"Mean {0}: \".format(d), np.mean(hp_chart['{0}'.format(d)])\n",
    "    print \"STD {0}: \".format(d), np.std(hp_chart['{0}'.format(d)])\n",
    "    print \"\"\n",
    "    \n",
    "print 'T-test: PMOD vs. EVENT', stats.ttest_rel(hp_chart['pmod'], hp_chart['event'])[:]\n",
    "cohens_d = ((np.average(hp_chart['pmod']) - np.average(hp_chart['event'])) \n",
    "            / (sqrt((np.std(hp_chart['pmod'], ddof = 1)) ** 2 + np.std(hp_chart['event'], ddof = 1) ** 2) / 2))\n",
    "print \"Cohen's d = \", cohens_d\n",
    "\n",
    "N = 2\n",
    "conditions = ['Pmod', 'Event']\n",
    "hp_allsubjs = [hp_chart['pmod'], hp_chart['event']]\n",
    "ind = np.arange(N)\n",
    "width = 0.5\n",
    "fig, ax = plt.subplots(figsize = (8,5))\n",
    "ax0 = sns.boxplot(data = hp_allsubjs, color = \"#278fea\", width = 0.3)\n",
    "ax2 = sns.swarmplot(data = hp_allsubjs, color='.25')\n",
    "ax.set_xticks(ind)\n",
    "ax.set_xticklabels(conditions)\n",
    "ax.set_ylabel(\"Arbitrary units\")\n",
    "ax.set_title(\"HPC Activation\")\n",
    "plt.show()"
   ]
  },
  {
   "cell_type": "markdown",
   "metadata": {},
   "source": [
    "## mPFC"
   ]
  },
  {
   "cell_type": "code",
   "execution_count": 11,
   "metadata": {
    "collapsed": true
   },
   "outputs": [],
   "source": [
    "mpfc_chart = {}\n",
    "for x in ['event', 'pmod']:\n",
    "    mpfc_chart['{0}'.format(x)] = all_data_df['mpfc_all_{0}'.format(x)] \n",
    "mpfc_chart_df = pd.DataFrame.from_dict(mpfc_chart)"
   ]
  },
  {
   "cell_type": "code",
   "execution_count": 12,
   "metadata": {
    "collapsed": false
   },
   "outputs": [
    {
     "data": {
      "text/html": [
       "<div>\n",
       "<style scoped>\n",
       "    .dataframe tbody tr th:only-of-type {\n",
       "        vertical-align: middle;\n",
       "    }\n",
       "\n",
       "    .dataframe tbody tr th {\n",
       "        vertical-align: top;\n",
       "    }\n",
       "\n",
       "    .dataframe thead th {\n",
       "        text-align: right;\n",
       "    }\n",
       "</style>\n",
       "<table border=\"1\" class=\"dataframe\">\n",
       "  <thead>\n",
       "    <tr style=\"text-align: right;\">\n",
       "      <th></th>\n",
       "      <th>event</th>\n",
       "      <th>pmod</th>\n",
       "    </tr>\n",
       "  </thead>\n",
       "  <tbody>\n",
       "    <tr>\n",
       "      <th>0</th>\n",
       "      <td>-5.421373</td>\n",
       "      <td>10.876139</td>\n",
       "    </tr>\n",
       "    <tr>\n",
       "      <th>1</th>\n",
       "      <td>-10.101738</td>\n",
       "      <td>9.633662</td>\n",
       "    </tr>\n",
       "    <tr>\n",
       "      <th>2</th>\n",
       "      <td>3.083599</td>\n",
       "      <td>-1.013089</td>\n",
       "    </tr>\n",
       "    <tr>\n",
       "      <th>3</th>\n",
       "      <td>1.096994</td>\n",
       "      <td>-0.784419</td>\n",
       "    </tr>\n",
       "    <tr>\n",
       "      <th>4</th>\n",
       "      <td>-9.803432</td>\n",
       "      <td>9.646922</td>\n",
       "    </tr>\n",
       "    <tr>\n",
       "      <th>5</th>\n",
       "      <td>1.157664</td>\n",
       "      <td>2.067021</td>\n",
       "    </tr>\n",
       "    <tr>\n",
       "      <th>6</th>\n",
       "      <td>1.987643</td>\n",
       "      <td>1.410453</td>\n",
       "    </tr>\n",
       "    <tr>\n",
       "      <th>7</th>\n",
       "      <td>-13.418323</td>\n",
       "      <td>10.025493</td>\n",
       "    </tr>\n",
       "    <tr>\n",
       "      <th>8</th>\n",
       "      <td>-4.340292</td>\n",
       "      <td>-3.685529</td>\n",
       "    </tr>\n",
       "    <tr>\n",
       "      <th>9</th>\n",
       "      <td>1.420123</td>\n",
       "      <td>-1.214732</td>\n",
       "    </tr>\n",
       "    <tr>\n",
       "      <th>10</th>\n",
       "      <td>-1.471548</td>\n",
       "      <td>0.315285</td>\n",
       "    </tr>\n",
       "    <tr>\n",
       "      <th>11</th>\n",
       "      <td>3.028763</td>\n",
       "      <td>-4.624356</td>\n",
       "    </tr>\n",
       "    <tr>\n",
       "      <th>12</th>\n",
       "      <td>-0.407160</td>\n",
       "      <td>5.751843</td>\n",
       "    </tr>\n",
       "    <tr>\n",
       "      <th>13</th>\n",
       "      <td>-0.491079</td>\n",
       "      <td>1.418267</td>\n",
       "    </tr>\n",
       "    <tr>\n",
       "      <th>14</th>\n",
       "      <td>6.960783</td>\n",
       "      <td>-11.583718</td>\n",
       "    </tr>\n",
       "    <tr>\n",
       "      <th>15</th>\n",
       "      <td>-10.446254</td>\n",
       "      <td>0.384370</td>\n",
       "    </tr>\n",
       "    <tr>\n",
       "      <th>16</th>\n",
       "      <td>-2.351561</td>\n",
       "      <td>1.521592</td>\n",
       "    </tr>\n",
       "    <tr>\n",
       "      <th>17</th>\n",
       "      <td>-2.239787</td>\n",
       "      <td>3.230575</td>\n",
       "    </tr>\n",
       "    <tr>\n",
       "      <th>18</th>\n",
       "      <td>-2.615904</td>\n",
       "      <td>1.104507</td>\n",
       "    </tr>\n",
       "    <tr>\n",
       "      <th>19</th>\n",
       "      <td>4.123517</td>\n",
       "      <td>5.331269</td>\n",
       "    </tr>\n",
       "  </tbody>\n",
       "</table>\n",
       "</div>"
      ],
      "text/plain": [
       "        event       pmod\n",
       "0   -5.421373  10.876139\n",
       "1  -10.101738   9.633662\n",
       "2    3.083599  -1.013089\n",
       "3    1.096994  -0.784419\n",
       "4   -9.803432   9.646922\n",
       "5    1.157664   2.067021\n",
       "6    1.987643   1.410453\n",
       "7  -13.418323  10.025493\n",
       "8   -4.340292  -3.685529\n",
       "9    1.420123  -1.214732\n",
       "10  -1.471548   0.315285\n",
       "11   3.028763  -4.624356\n",
       "12  -0.407160   5.751843\n",
       "13  -0.491079   1.418267\n",
       "14   6.960783 -11.583718\n",
       "15 -10.446254   0.384370\n",
       "16  -2.351561   1.521592\n",
       "17  -2.239787   3.230575\n",
       "18  -2.615904   1.104507\n",
       "19   4.123517   5.331269"
      ]
     },
     "execution_count": 12,
     "metadata": {},
     "output_type": "execute_result"
    }
   ],
   "source": [
    "mpfc_chart_df"
   ]
  },
  {
   "cell_type": "code",
   "execution_count": 25,
   "metadata": {
    "collapsed": false
   },
   "outputs": [
    {
     "name": "stdout",
     "output_type": "stream",
     "text": [
      "Mean pmod:  1.99057776742\n",
      "STD pmod :  5.39300256042\n",
      "\n",
      "Mean event:  -2.01246821741\n",
      "STD event :  5.32525878824\n",
      "\n",
      "T-test: PMOD vs. EVENT (1.7826520667220167, 0.090629565357687028)\n",
      "Cohen's d =  1.02959010111\n"
     ]
    },
    {
     "data": {
      "image/png": "[encoded data removed]",
      "text/plain": [
       "<matplotlib.figure.Figure at 0x2ab311538590>"
      ]
     },
     "metadata": {},
     "output_type": "display_data"
    }
   ],
   "source": [
    "for d in ['pmod', 'event']:\n",
    "    print \"Mean {0}: \".format(d), np.mean(mpfc_chart['{0}'.format(d)])\n",
    "    print \"STD {0} : \".format(d), np.std(mpfc_chart['{0}'.format(d)])\n",
    "    print \"\"\n",
    "    \n",
    "print 'T-test: PMOD vs. EVENT', stats.ttest_rel(mpfc_chart['pmod'], mpfc_chart['event'])[:]\n",
    "cohens_d = ((np.average(mpfc_chart['pmod']) - np.average(mpfc_chart['event'])) \n",
    "            / (sqrt((np.std(mpfc_chart['pmod'], ddof = 1)) ** 2 + np.std(mpfc_chart['event'], ddof = 1) ** 2) / 2))\n",
    "print \"Cohen's d = \", cohens_d\n",
    "\n",
    "N = 2\n",
    "conditions = ['Pmod', 'Event']\n",
    "mpfc_allsubjs = [mpfc_chart['pmod'], mpfc_chart['event']]\n",
    "ind = np.arange(N)\n",
    "width = 0.5\n",
    "fig, ax = plt.subplots(figsize = (8,5))\n",
    "ax0 = sns.boxplot(data = mpfc_allsubjs, color = \"#f97401\", width = 0.3)\n",
    "ax2 = sns.swarmplot(data = mpfc_allsubjs, color='.25')\n",
    "ax.set_xticks(ind)\n",
    "ax.set_xticklabels(conditions)\n",
    "ax.set_ylabel(\"Arbitrary units\")\n",
    "ax.set_title(\"mPFC Activation\")\n",
    "plt.show()"
   ]
  },
  {
   "cell_type": "markdown",
   "metadata": {},
   "source": [
    "## Caudate"
   ]
  },
  {
   "cell_type": "code",
   "execution_count": 15,
   "metadata": {
    "collapsed": true
   },
   "outputs": [],
   "source": [
    "caud_chart = {}\n",
    "for x in ['event', 'pmod']:\n",
    "    caud_chart['{0}'.format(x)] = all_data_df['caud_all_{0}'.format(x)] \n",
    "caud_chart_df = pd.DataFrame.from_dict(caud_chart)"
   ]
  },
  {
   "cell_type": "code",
   "execution_count": 16,
   "metadata": {
    "collapsed": false
   },
   "outputs": [
    {
     "data": {
      "text/html": [
       "<div>\n",
       "<style scoped>\n",
       "    .dataframe tbody tr th:only-of-type {\n",
       "        vertical-align: middle;\n",
       "    }\n",
       "\n",
       "    .dataframe tbody tr th {\n",
       "        vertical-align: top;\n",
       "    }\n",
       "\n",
       "    .dataframe thead th {\n",
       "        text-align: right;\n",
       "    }\n",
       "</style>\n",
       "<table border=\"1\" class=\"dataframe\">\n",
       "  <thead>\n",
       "    <tr style=\"text-align: right;\">\n",
       "      <th></th>\n",
       "      <th>event</th>\n",
       "      <th>pmod</th>\n",
       "    </tr>\n",
       "  </thead>\n",
       "  <tbody>\n",
       "    <tr>\n",
       "      <th>0</th>\n",
       "      <td>11.013535</td>\n",
       "      <td>-9.440007</td>\n",
       "    </tr>\n",
       "    <tr>\n",
       "      <th>1</th>\n",
       "      <td>-6.339293</td>\n",
       "      <td>2.579224</td>\n",
       "    </tr>\n",
       "    <tr>\n",
       "      <th>2</th>\n",
       "      <td>14.396790</td>\n",
       "      <td>-15.411898</td>\n",
       "    </tr>\n",
       "    <tr>\n",
       "      <th>3</th>\n",
       "      <td>11.202985</td>\n",
       "      <td>-11.995262</td>\n",
       "    </tr>\n",
       "    <tr>\n",
       "      <th>4</th>\n",
       "      <td>4.288951</td>\n",
       "      <td>-10.343600</td>\n",
       "    </tr>\n",
       "    <tr>\n",
       "      <th>5</th>\n",
       "      <td>5.618348</td>\n",
       "      <td>-4.697719</td>\n",
       "    </tr>\n",
       "    <tr>\n",
       "      <th>6</th>\n",
       "      <td>5.773709</td>\n",
       "      <td>-4.259453</td>\n",
       "    </tr>\n",
       "    <tr>\n",
       "      <th>7</th>\n",
       "      <td>12.766853</td>\n",
       "      <td>-19.470194</td>\n",
       "    </tr>\n",
       "    <tr>\n",
       "      <th>8</th>\n",
       "      <td>2.517809</td>\n",
       "      <td>-5.530631</td>\n",
       "    </tr>\n",
       "    <tr>\n",
       "      <th>9</th>\n",
       "      <td>7.023232</td>\n",
       "      <td>-7.677667</td>\n",
       "    </tr>\n",
       "    <tr>\n",
       "      <th>10</th>\n",
       "      <td>7.852185</td>\n",
       "      <td>-12.929967</td>\n",
       "    </tr>\n",
       "    <tr>\n",
       "      <th>11</th>\n",
       "      <td>15.799286</td>\n",
       "      <td>-16.337684</td>\n",
       "    </tr>\n",
       "    <tr>\n",
       "      <th>12</th>\n",
       "      <td>-7.993129</td>\n",
       "      <td>15.607906</td>\n",
       "    </tr>\n",
       "    <tr>\n",
       "      <th>13</th>\n",
       "      <td>18.088940</td>\n",
       "      <td>-19.443052</td>\n",
       "    </tr>\n",
       "    <tr>\n",
       "      <th>14</th>\n",
       "      <td>22.087966</td>\n",
       "      <td>-26.320747</td>\n",
       "    </tr>\n",
       "    <tr>\n",
       "      <th>15</th>\n",
       "      <td>-1.556208</td>\n",
       "      <td>0.092616</td>\n",
       "    </tr>\n",
       "    <tr>\n",
       "      <th>16</th>\n",
       "      <td>13.586452</td>\n",
       "      <td>-12.974688</td>\n",
       "    </tr>\n",
       "    <tr>\n",
       "      <th>17</th>\n",
       "      <td>19.165359</td>\n",
       "      <td>-20.603931</td>\n",
       "    </tr>\n",
       "    <tr>\n",
       "      <th>18</th>\n",
       "      <td>-2.143360</td>\n",
       "      <td>2.813939</td>\n",
       "    </tr>\n",
       "    <tr>\n",
       "      <th>19</th>\n",
       "      <td>10.248323</td>\n",
       "      <td>-8.364553</td>\n",
       "    </tr>\n",
       "  </tbody>\n",
       "</table>\n",
       "</div>"
      ],
      "text/plain": [
       "        event       pmod\n",
       "0   11.013535  -9.440007\n",
       "1   -6.339293   2.579224\n",
       "2   14.396790 -15.411898\n",
       "3   11.202985 -11.995262\n",
       "4    4.288951 -10.343600\n",
       "5    5.618348  -4.697719\n",
       "6    5.773709  -4.259453\n",
       "7   12.766853 -19.470194\n",
       "8    2.517809  -5.530631\n",
       "9    7.023232  -7.677667\n",
       "10   7.852185 -12.929967\n",
       "11  15.799286 -16.337684\n",
       "12  -7.993129  15.607906\n",
       "13  18.088940 -19.443052\n",
       "14  22.087966 -26.320747\n",
       "15  -1.556208   0.092616\n",
       "16  13.586452 -12.974688\n",
       "17  19.165359 -20.603931\n",
       "18  -2.143360   2.813939\n",
       "19  10.248323  -8.364553"
      ]
     },
     "execution_count": 16,
     "metadata": {},
     "output_type": "execute_result"
    }
   ],
   "source": [
    "caud_chart_df"
   ]
  },
  {
   "cell_type": "code",
   "execution_count": 24,
   "metadata": {
    "collapsed": false,
    "scrolled": true
   },
   "outputs": [
    {
     "name": "stdout",
     "output_type": "stream",
     "text": [
      "Mean pmod:  -9.23536851555\n",
      "STD pmod :  9.50380107203\n",
      "\n",
      "Mean event:  8.16993668638\n",
      "STD event :  8.11003992286\n",
      "\n",
      "T-test: PMOD vs. EVENT (-4.3651335882163753, 0.00033312129958818073) **\n",
      "Cohen's d =  -2.71568235096\n"
     ]
    },
    {
     "data": {
      "image/png": "[encoded data removed]",
      "text/plain": [
       "<matplotlib.figure.Figure at 0x2ab31185e450>"
      ]
     },
     "metadata": {},
     "output_type": "display_data"
    }
   ],
   "source": [
    "for d in ['pmod', 'event']:\n",
    "    print \"Mean {0}: \".format(d), np.mean(caud_chart['{0}'.format(d)])\n",
    "    print \"STD {0} : \".format(d), np.std(caud_chart['{0}'.format(d)])\n",
    "    print \"\"\n",
    "    \n",
    "print 'T-test: PMOD vs. EVENT', stats.ttest_rel(caud_chart['pmod'], caud_chart['event'])[:], \"**\"\n",
    "cohens_d = ((np.average(caud_chart['pmod']) - np.average(caud_chart['event'])) \n",
    "            / (sqrt((np.std(caud_chart['pmod'], ddof = 1)) ** 2 + np.std(caud_chart['event'], ddof = 1) ** 2) / 2))\n",
    "print \"Cohen's d = \", cohens_d\n",
    "\n",
    "N = 2\n",
    "conditions = ['Pmod', 'Event']\n",
    "caud_allsubjs = [caud_chart['pmod'], caud_chart['event']]\n",
    "ind = np.arange(N)\n",
    "width = 0.5\n",
    "fig, ax = plt.subplots(figsize = (8,5))\n",
    "ax0 = sns.boxplot(data = caud_allsubjs, color = \"#f9f96d\", width = 0.3)\n",
    "ax2 = sns.swarmplot(data = caud_allsubjs, color='.25')\n",
    "ax.set_xticks(ind)\n",
    "ax.set_xticklabels(conditions)\n",
    "ax.set_ylabel(\"Arbitrary units\")\n",
    "ax.set_title(\"Caudate Activation\")\n",
    "plt.show()"
   ]
  },
  {
   "cell_type": "markdown",
   "metadata": {},
   "source": [
    "## Putamen"
   ]
  },
  {
   "cell_type": "code",
   "execution_count": 19,
   "metadata": {
    "collapsed": false
   },
   "outputs": [],
   "source": [
    "put_chart = {}\n",
    "for x in ['event', 'pmod']:\n",
    "    put_chart['{0}'.format(x)] = all_data_df['put_all_{0}'.format(x)] \n",
    "put_chart_df = pd.DataFrame.from_dict(put_chart)"
   ]
  },
  {
   "cell_type": "code",
   "execution_count": 20,
   "metadata": {
    "collapsed": false
   },
   "outputs": [
    {
     "data": {
      "text/html": [
       "<div>\n",
       "<style scoped>\n",
       "    .dataframe tbody tr th:only-of-type {\n",
       "        vertical-align: middle;\n",
       "    }\n",
       "\n",
       "    .dataframe tbody tr th {\n",
       "        vertical-align: top;\n",
       "    }\n",
       "\n",
       "    .dataframe thead th {\n",
       "        text-align: right;\n",
       "    }\n",
       "</style>\n",
       "<table border=\"1\" class=\"dataframe\">\n",
       "  <thead>\n",
       "    <tr style=\"text-align: right;\">\n",
       "      <th></th>\n",
       "      <th>event</th>\n",
       "      <th>pmod</th>\n",
       "    </tr>\n",
       "  </thead>\n",
       "  <tbody>\n",
       "    <tr>\n",
       "      <th>0</th>\n",
       "      <td>6.669243</td>\n",
       "      <td>-6.007362</td>\n",
       "    </tr>\n",
       "    <tr>\n",
       "      <th>1</th>\n",
       "      <td>-12.353111</td>\n",
       "      <td>7.426419</td>\n",
       "    </tr>\n",
       "    <tr>\n",
       "      <th>2</th>\n",
       "      <td>4.664163</td>\n",
       "      <td>-4.737754</td>\n",
       "    </tr>\n",
       "    <tr>\n",
       "      <th>3</th>\n",
       "      <td>3.661405</td>\n",
       "      <td>-5.417554</td>\n",
       "    </tr>\n",
       "    <tr>\n",
       "      <th>4</th>\n",
       "      <td>-2.681495</td>\n",
       "      <td>2.774496</td>\n",
       "    </tr>\n",
       "    <tr>\n",
       "      <th>5</th>\n",
       "      <td>-2.495115</td>\n",
       "      <td>10.340534</td>\n",
       "    </tr>\n",
       "    <tr>\n",
       "      <th>6</th>\n",
       "      <td>-2.883244</td>\n",
       "      <td>5.718156</td>\n",
       "    </tr>\n",
       "    <tr>\n",
       "      <th>7</th>\n",
       "      <td>-1.394817</td>\n",
       "      <td>-4.181900</td>\n",
       "    </tr>\n",
       "    <tr>\n",
       "      <th>8</th>\n",
       "      <td>0.580957</td>\n",
       "      <td>-4.675390</td>\n",
       "    </tr>\n",
       "    <tr>\n",
       "      <th>9</th>\n",
       "      <td>0.847581</td>\n",
       "      <td>1.272512</td>\n",
       "    </tr>\n",
       "    <tr>\n",
       "      <th>10</th>\n",
       "      <td>-2.777581</td>\n",
       "      <td>3.426765</td>\n",
       "    </tr>\n",
       "    <tr>\n",
       "      <th>11</th>\n",
       "      <td>8.036162</td>\n",
       "      <td>-8.086350</td>\n",
       "    </tr>\n",
       "    <tr>\n",
       "      <th>12</th>\n",
       "      <td>3.572116</td>\n",
       "      <td>-1.589184</td>\n",
       "    </tr>\n",
       "    <tr>\n",
       "      <th>13</th>\n",
       "      <td>7.752783</td>\n",
       "      <td>-8.369637</td>\n",
       "    </tr>\n",
       "    <tr>\n",
       "      <th>14</th>\n",
       "      <td>18.815966</td>\n",
       "      <td>-23.150480</td>\n",
       "    </tr>\n",
       "    <tr>\n",
       "      <th>15</th>\n",
       "      <td>-0.900163</td>\n",
       "      <td>-6.548670</td>\n",
       "    </tr>\n",
       "    <tr>\n",
       "      <th>16</th>\n",
       "      <td>11.485075</td>\n",
       "      <td>-9.127663</td>\n",
       "    </tr>\n",
       "    <tr>\n",
       "      <th>17</th>\n",
       "      <td>1.981457</td>\n",
       "      <td>-1.640302</td>\n",
       "    </tr>\n",
       "    <tr>\n",
       "      <th>18</th>\n",
       "      <td>-9.997461</td>\n",
       "      <td>12.673069</td>\n",
       "    </tr>\n",
       "    <tr>\n",
       "      <th>19</th>\n",
       "      <td>2.768250</td>\n",
       "      <td>-5.690716</td>\n",
       "    </tr>\n",
       "  </tbody>\n",
       "</table>\n",
       "</div>"
      ],
      "text/plain": [
       "        event       pmod\n",
       "0    6.669243  -6.007362\n",
       "1  -12.353111   7.426419\n",
       "2    4.664163  -4.737754\n",
       "3    3.661405  -5.417554\n",
       "4   -2.681495   2.774496\n",
       "5   -2.495115  10.340534\n",
       "6   -2.883244   5.718156\n",
       "7   -1.394817  -4.181900\n",
       "8    0.580957  -4.675390\n",
       "9    0.847581   1.272512\n",
       "10  -2.777581   3.426765\n",
       "11   8.036162  -8.086350\n",
       "12   3.572116  -1.589184\n",
       "13   7.752783  -8.369637\n",
       "14  18.815966 -23.150480\n",
       "15  -0.900163  -6.548670\n",
       "16  11.485075  -9.127663\n",
       "17   1.981457  -1.640302\n",
       "18  -9.997461  12.673069\n",
       "19   2.768250  -5.690716"
      ]
     },
     "execution_count": 20,
     "metadata": {},
     "output_type": "execute_result"
    }
   ],
   "source": [
    "put_chart_df"
   ]
  },
  {
   "cell_type": "code",
   "execution_count": 27,
   "metadata": {
    "collapsed": false,
    "scrolled": true
   },
   "outputs": [
    {
     "name": "stdout",
     "output_type": "stream",
     "text": [
      "Mean pmod:  -2.27955058217\n",
      "STD pmod:  7.85789919854\n",
      "\n",
      "Mean event:  1.76760861203\n",
      "STD event:  6.84812791456\n",
      "\n",
      "T-test: PMOD vs. EVENT (-1.231985528810055, 0.23298424610159327)\n",
      "Cohen's d =  -0.756903198141\n"
     ]
    },
    {
     "data": {
      "image/png": "[encoded data removed]",
      "text/plain": [
       "<matplotlib.figure.Figure at 0x2ab311a9b0d0>"
      ]
     },
     "metadata": {},
     "output_type": "display_data"
    }
   ],
   "source": [
    "for d in ['pmod', 'event']:\n",
    "    print \"Mean {0}: \".format(d), np.mean(put_chart['{0}'.format(d)])\n",
    "    print \"STD {0}: \".format(d), np.std(put_chart['{0}'.format(d)])\n",
    "    print \"\"\n",
    "    \n",
    "print 'T-test: PMOD vs. EVENT', stats.ttest_rel(put_chart['pmod'], put_chart['event'])[:]\n",
    "cohens_d = ((np.average(put_chart['pmod']) - np.average(put_chart['event'])) \n",
    "            / (sqrt((np.std(put_chart['pmod'], ddof = 1)) ** 2 + np.std(put_chart['event'], ddof = 1) ** 2) / 2))\n",
    "print \"Cohen's d = \", cohens_d\n",
    "\n",
    "N = 2\n",
    "conditions = ['Pmod', 'Event']\n",
    "put_allsubjs = [put_chart['pmod'], put_chart['event']]\n",
    "ind = np.arange(N)\n",
    "width = 0.5\n",
    "fig, ax = plt.subplots(figsize = (8,5))\n",
    "ax0 = sns.boxplot(data = put_allsubjs, color = \"#c34aef\", width = 0.3)\n",
    "ax2 = sns.swarmplot(data = put_allsubjs, color='.25')\n",
    "ax.set_xticks(ind)\n",
    "ax.set_xticklabels(conditions)\n",
    "ax.set_ylabel(\"Arbitrary units\")\n",
    "ax.set_title(\"Putamen Activation\")\n",
    "plt.show()"
   ]
  },
  {
   "cell_type": "code",
   "execution_count": null,
   "metadata": {
    "collapsed": true
   },
   "outputs": [],
   "source": []
  }
 ],
 "metadata": {
  "anaconda-cloud": {},
  "kernelspec": {
   "display_name": "Python 2",
   "language": "python",
   "name": "python2"
  },
  "language_info": {
   "codemirror_mode": {
    "name": "ipython",
    "version": 2
   },
   "file_extension": ".py",
   "mimetype": "text/x-python",
   "name": "python",
   "nbconvert_exporter": "python",
   "pygments_lexer": "ipython2",
   "version": "2.7.12"
  }
 },
 "nbformat": 4,
 "nbformat_minor": 2
}
