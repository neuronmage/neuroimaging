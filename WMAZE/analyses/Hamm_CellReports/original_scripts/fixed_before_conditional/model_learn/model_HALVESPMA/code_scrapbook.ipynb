{
 "cells": [
  {
   "cell_type": "code",
   "execution_count": 1,
   "metadata": {
    "collapsed": true
   },
   "outputs": [
    {
     "ename": "NameError",
     "evalue": "name 'all_data_df' is not defined",
     "output_type": "error",
     "traceback": [
      "\u001b[0;31m---------------------------------------------------------------------------\u001b[0m",
      "\u001b[0;31mNameError\u001b[0m                                 Traceback (most recent call last)",
      "\u001b[0;32m<ipython-input-1-0a35f53d9abc>\u001b[0m in \u001b[0;36m<module>\u001b[0;34m()\u001b[0m\n\u001b[1;32m      1\u001b[0m \u001b[0mplot4\u001b[0m \u001b[0;34m=\u001b[0m \u001b[0;34m{\u001b[0m\u001b[0;34m}\u001b[0m\u001b[0;34m\u001b[0m\u001b[0m\n\u001b[0;32m----> 2\u001b[0;31m \u001b[0mplot4\u001b[0m\u001b[0;34m[\u001b[0m\u001b[0;34m'early_event'\u001b[0m\u001b[0;34m]\u001b[0m \u001b[0;34m=\u001b[0m \u001b[0mall_data_df\u001b[0m\u001b[0;34m[\u001b[0m\u001b[0;34m[\u001b[0m\u001b[0;34m'put_all_early_learn_event'\u001b[0m\u001b[0;34m,\u001b[0m\u001b[0;34m'put_all_early_nonlearn_event'\u001b[0m\u001b[0;34m]\u001b[0m\u001b[0;34m]\u001b[0m\u001b[0;34m.\u001b[0m\u001b[0mmean\u001b[0m\u001b[0;34m(\u001b[0m\u001b[0maxis\u001b[0m\u001b[0;34m=\u001b[0m\u001b[0;36m1\u001b[0m\u001b[0;34m)\u001b[0m\u001b[0;34m\u001b[0m\u001b[0m\n\u001b[0m\u001b[1;32m      3\u001b[0m \u001b[0mplot4\u001b[0m\u001b[0;34m[\u001b[0m\u001b[0;34m'late_event'\u001b[0m\u001b[0;34m]\u001b[0m \u001b[0;34m=\u001b[0m \u001b[0mall_data_df\u001b[0m\u001b[0;34m[\u001b[0m\u001b[0;34m[\u001b[0m\u001b[0;34m'put_all_late_learn_event'\u001b[0m\u001b[0;34m,\u001b[0m\u001b[0;34m'put_all_late_nonlearn_event'\u001b[0m\u001b[0;34m]\u001b[0m\u001b[0;34m]\u001b[0m\u001b[0;34m.\u001b[0m\u001b[0mmean\u001b[0m\u001b[0;34m(\u001b[0m\u001b[0maxis\u001b[0m\u001b[0;34m=\u001b[0m\u001b[0;36m1\u001b[0m\u001b[0;34m)\u001b[0m\u001b[0;34m\u001b[0m\u001b[0m\n\u001b[1;32m      4\u001b[0m \u001b[0mplot4\u001b[0m\u001b[0;34m[\u001b[0m\u001b[0;34m'early_pmod'\u001b[0m\u001b[0;34m]\u001b[0m \u001b[0;34m=\u001b[0m \u001b[0mall_data_df\u001b[0m\u001b[0;34m[\u001b[0m\u001b[0;34m[\u001b[0m\u001b[0;34m'put_all_early_learn_pmod'\u001b[0m\u001b[0;34m,\u001b[0m\u001b[0;34m'put_all_early_nonlearn_pmod'\u001b[0m\u001b[0;34m]\u001b[0m\u001b[0;34m]\u001b[0m\u001b[0;34m.\u001b[0m\u001b[0mmean\u001b[0m\u001b[0;34m(\u001b[0m\u001b[0maxis\u001b[0m\u001b[0;34m=\u001b[0m\u001b[0;36m1\u001b[0m\u001b[0;34m)\u001b[0m\u001b[0;34m\u001b[0m\u001b[0m\n\u001b[1;32m      5\u001b[0m \u001b[0mplot4\u001b[0m\u001b[0;34m[\u001b[0m\u001b[0;34m'late_pmod'\u001b[0m\u001b[0;34m]\u001b[0m \u001b[0;34m=\u001b[0m \u001b[0mall_data_df\u001b[0m\u001b[0;34m[\u001b[0m\u001b[0;34m[\u001b[0m\u001b[0;34m'put_all_late_learn_pmod'\u001b[0m\u001b[0;34m,\u001b[0m\u001b[0;34m'put_all_late_nonlearn_pmod'\u001b[0m\u001b[0;34m]\u001b[0m\u001b[0;34m]\u001b[0m\u001b[0;34m.\u001b[0m\u001b[0mmean\u001b[0m\u001b[0;34m(\u001b[0m\u001b[0maxis\u001b[0m\u001b[0;34m=\u001b[0m\u001b[0;36m1\u001b[0m\u001b[0;34m)\u001b[0m\u001b[0;34m\u001b[0m\u001b[0m\n",
      "\u001b[0;31mNameError\u001b[0m: name 'all_data_df' is not defined"
     ]
    }
   ],
   "source": [
    "plot4 = {}\n",
    "plot4['early_event'] = all_data_df[['put_all_early_learn_event','put_all_early_nonlearn_event']].mean(axis=1)\n",
    "plot4['late_event'] = all_data_df[['put_all_late_learn_event','put_all_late_nonlearn_event']].mean(axis=1)\n",
    "plot4['early_pmod'] = all_data_df[['put_all_early_learn_pmod','put_all_early_nonlearn_pmod']].mean(axis=1)\n",
    "plot4['late_pmod'] = all_data_df[['put_all_late_learn_pmod','put_all_late_nonlearn_pmod']].mean(axis=1)\n",
    "plot4_df = pd.DataFrame.from_dict(plot4)\n",
    "\n",
    "sns.set_style(\"white\")\n",
    "for d in ['early_event', 'late_event', 'early_pmod', 'late_pmod']:\n",
    "    print \"{0} Mean: \".format(d), np.mean(plot4['{0}'.format(d)])\n",
    "    print \"{0} STD: \".format(d), np.std(plot4['{0}'.format(d)])\n",
    "    print \"\"\n",
    "    \n",
    "print \"Early - Event vs. Pmod t-test: \", stats.ttest_rel(plot4['early_event'], plot4['early_pmod'])[:]\n",
    "print \"Late - Event vs. Pmod t-test: \",stats.ttest_rel(plot4['late_event'], plot4['late_pmod'])[:]\n",
    "                       \n",
    "N = 4\n",
    "conditions = ['early_event', 'late_event', 'early_pmod', 'late_pmod']\n",
    "put_allsubjs = [plot4['early_event'], plot4['late_event'], \n",
    "               plot4['early_pmod'], plot4['late_pmod']]\n",
    "ind = np.arange(N)\n",
    "width = 0.5\n",
    "fig, ax = plt.subplots(figsize = (8,8))\n",
    "ax0 = sns.boxplot(data = put_allsubjs, color = \"#c34aef\", width = 0.3)\n",
    "ax2 = sns.swarmplot(data = put_allsubjs, color='.25')\n",
    "ax.set_xticks(ind)\n",
    "ax.set_xticklabels(conditions)\n",
    "ax.set_ylabel(\"Arbitrary units\")\n",
    "#ax.set_title(\"Putamen Activation\")\n",
    "plt.show()"
   ]
  },
  {
   "cell_type": "code",
   "execution_count": null,
   "metadata": {
    "collapsed": true
   },
   "outputs": [],
   "source": []
  }
 ],
 "metadata": {
  "kernelspec": {
   "display_name": "Python 2",
   "language": "python",
   "name": "python2"
  },
  "language_info": {
   "codemirror_mode": {
    "name": "ipython",
    "version": 2
   },
   "file_extension": ".py",
   "mimetype": "text/x-python",
   "name": "python",
   "nbconvert_exporter": "python",
   "pygments_lexer": "ipython2",
   "version": "2.7.12"
  }
 },
 "nbformat": 4,
 "nbformat_minor": 1
}
