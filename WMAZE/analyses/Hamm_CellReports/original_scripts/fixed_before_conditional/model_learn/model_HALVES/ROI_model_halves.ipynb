{
 "cells": [
  {
   "cell_type": "markdown",
   "metadata": {},
   "source": [
    "# Model Halves"
   ]
  },
  {
   "cell_type": "raw",
   "metadata": {},
   "source": [
    "Objective: \n",
    "Compare activation in regions of interest during specific timepoints. Create box/swarm plots to represent data.\n",
    "\n",
    "Strategy: \n",
    "Create/import regional masks, isolate regional activation during trials of interest, plot data. \n",
    "\n",
    "Important details: \n",
    "1. Make sure to use the correct pathway for the regional masks (there are several). If a new region is required, consult older versions of this script to obtain code for creating binarized masks.\n",
    "2. Regional masks are not bilateral -- lh and rh will need to be combined.\n",
    "3. Regional masks are binarized and in nii.gz format; voxels constituting the ROI == 1, while non-ROI == 0.  \n",
    "4. Be sure to consult the cell entitled \"Double-check array indexing\" to ensure you are indexing the correct files for both masks and cope files.\n",
    "\n",
    "Strategy: \n",
    "1. Loop through subjects and glob mask and cope files. Sort to make sure glob arranges all subjects' in the same order (do not assume it will -- you have been warned). Use a simple conditional statement to print subjeect ID for any participant with a missing contrast (2nd level cope file).\n",
    "2a-b. Loop through mask_files and cope_files and print the index and name of each (this info is used later).\n",
    "3. Create a huge dictionary to organize data by hemisphere, region, and condition (32 keys total).\n",
    "4. Iterate through subjects, load the respective mask and cope files for each. Use the indexing obtaining in STEP 2a-b.\n",
    "5. Create lists of strings for 'region' and 'learn_type'. Loop through region, and then sub-loop  through learn_type. Create a variable for each hemisphere (lh and rh) - use eval() and .format() to insert the current string for both region (r) and learn_type (l). Use .get_data() on the resepective learn_type Nibabel data, then index at the voxels with a value > 0 in the regional mask (lh or rh). Append these masked cope values to their key in the large dictionary. Once the loops finish, convert dictionary to a Pandas dataframe ('all_data_df').\n",
    "6. Combine the two hemispheres into once regional average. Loop in the same fashion as STEP 5, create new keys in all_data_df for the combined regional/learn values. \n",
    "7. Create new Pandas dataframe isolating HPC regional activations (used for inspection of individual subject values).\n",
    "8. Script for organizing data and drawing plot (HPC - see code) of all contrasts (4).\n",
    "9. Create dictionary for new averaged values for learning and nonlearning - early vs. late. Convert to Panda's dataframe. Use the new dataframe (plot_df) to create collapses box/swarm plot.\n",
    "REPEAT STEPS 7-9 FOR EACH REGION \n",
    "\n",
    "Status:\n",
    "- *Success*"
   ]
  },
  {
   "cell_type": "code",
   "execution_count": 7,
   "metadata": {
    "collapsed": false,
    "scrolled": true
   },
   "outputs": [
    {
     "name": "stdout",
     "output_type": "stream",
     "text": [
      "WMAZE_007\n"
     ]
    }
   ],
   "source": [
    "from glob import glob\n",
    "from scipy import stats\n",
    "from math import sqrt\n",
    "import nibabel as nb\n",
    "import pandas as pd\n",
    "import numpy as np\n",
    "import seaborn as sns\n",
    "import matplotlib.pyplot as plt\n",
    "%matplotlib inline\n",
    "sns.set_palette('muted')\n",
    "\n",
    "#removed WMAZE_007 due to no 2nd level late_nonlearn\n",
    "sids = ['WMAZE_001', 'WMAZE_002', 'WMAZE_004', 'WMAZE_005', 'WMAZE_006',\n",
    "        'WMAZE_008', 'WMAZE_009', 'WMAZE_010', 'WMAZE_012', \n",
    "        'WMAZE_017', 'WMAZE_018', 'WMAZE_019', 'WMAZE_020', 'WMAZE_021',\n",
    "        'WMAZE_022', 'WMAZE_023', 'WMAZE_024', 'WMAZE_026', 'WMAZE_027']\n",
    "\n",
    "proj_dir = '/home/data/madlab/data/mri/wmaze' \n",
    "mask_filenames = []\n",
    "cope_files = []\n",
    "for SID in sids:\n",
    "    mask_filenames_glob = glob(proj_dir + '/roi_analysis/MRthesis/fb4c_2/mask/anat_masks/_subject_id_' \n",
    "                               + SID + '/_anatmask_xfm*/*')\n",
    "    mask_filenames.append(mask_filenames_glob)\n",
    "    subjcopes_glob = glob(proj_dir + '/scndlvl/wmaze_MRthesis/fixed_before_conditional/old/model_HALVES/' \n",
    "                          + SID + '/fixedfx/cope_*')\n",
    "    subjcopes_glob.sort()\n",
    "    cope_files.append(subjcopes_glob)\n",
    "    \n",
    "    if len(cope_files[-1]) == 0 or len(cope_files[-1]) != 16: \n",
    "        print(SID)"
   ]
  },
  {
   "cell_type": "markdown",
   "metadata": {},
   "source": [
    "## Cell to double-check the array indexing"
   ]
  },
  {
   "cell_type": "code",
   "execution_count": 3,
   "metadata": {
    "collapsed": false
   },
   "outputs": [
    {
     "name": "stdout",
     "output_type": "stream",
     "text": [
      "(0, 'lh-hippocampus_warped')\n",
      "(1, 'lh_caudate_anat_mask_warped')\n",
      "(2, 'rh_caudate_anat_mask_warped')\n",
      "(3, 'lh-dmPFC_warped')\n",
      "(4, 'lh-mPFC_lausanne_warped')\n",
      "(5, 'lh-mPFC_fs_warped')\n",
      "(6, 'lh-motor_warped')\n",
      "(7, 'lh-mPFC_fs-3reg_warped')\n",
      "(8, 'rh-hippocampus_warped')\n",
      "(9, 'rh-dmPFC_warped')\n",
      "(10, 'rh-mPFC_lausanne_warped')\n",
      "(11, 'rh-mPFC_fs_warped')\n",
      "(12, 'rh-motor_warped')\n",
      "(13, 'rh-mPFC_fs-3reg_warped')\n",
      "(14, 'lh-putamen_warped')\n",
      "(15, 'rh-putamen_warped')\n"
     ]
    }
   ],
   "source": [
    "#change first index of cope_files to indicate participant index in sids array\n",
    "for i, curr_mask in enumerate(mask_filenames[0]):\n",
    "    print(i, mask_filenames[0][i].split('/')[-1][:-7])  "
   ]
  },
  {
   "cell_type": "code",
   "execution_count": 6,
   "metadata": {
    "collapsed": false
   },
   "outputs": [
    {
     "name": "stdout",
     "output_type": "stream",
     "text": [
      "(0, 'AllVsBase')\n",
      "(1, 'all_early_minus_all_late')\n",
      "(2, 'all_late_minus_all_early')\n",
      "(3, 'all_remaining')\n",
      "(4, 'early_learn_minus_early_nonlearn')\n",
      "(5, 'early_learn_minus_late_learn')\n",
      "(6, 'early_learning')\n",
      "(7, 'early_nonlearn_minus_early_learn')\n",
      "(8, 'early_nonlearn_minus_late_nonlearn')\n",
      "(9, 'early_nonlearning')\n",
      "(10, 'late_learn_minus_early_learn')\n",
      "(11, 'late_learn_minus_late_nonlearn')\n",
      "(12, 'late_learning')\n",
      "(13, 'late_nonlearn_minus_early_nonlearn')\n",
      "(14, 'late_nonlearn_minus_late_learn')\n",
      "(15, 'late_nonlearning')\n",
      "/home/data/madlab/data/mri/wmaze/scndlvl/wmaze_MRthesis/fixed_before_conditional/old/model_HALVES/WMAZE_001/fixedfx/cope_all_early_minus_all_late.nii.gz\n"
     ]
    }
   ],
   "source": [
    "for i, curr_cope in enumerate(cope_files[0]):\n",
    "    print(i, cope_files[0][i].split('/')[-1][5:-7]) \n",
    "    \n",
    "print cope_files[0][1]"
   ]
  },
  {
   "cell_type": "markdown",
   "metadata": {},
   "source": [
    "### Use binarized mask to obtain activation in left & right hemisphere for each region of interest"
   ]
  },
  {
   "cell_type": "code",
   "execution_count": 2,
   "metadata": {
    "collapsed": true,
    "scrolled": true
   },
   "outputs": [],
   "source": [
    "all_data = {'subjid':[],\n",
    "            #HPC\n",
    "            'lhhp_early_learn':[], 'rhhp_early_learn':[], 'lhhp_late_learn':[], 'rhhp_late_learn':[],\n",
    "            'lhhp_early_nonlearn':[], 'rhhp_early_nonlearn':[], 'lhhp_late_nonlearn':[], 'rhhp_late_nonlearn':[],\n",
    "            #mPFC\n",
    "            'lhmpfc_early_learn':[], 'rhmpfc_early_learn':[], 'lhmpfc_late_learn':[], 'rhmpfc_late_learn':[],\n",
    "            'lhmpfc_early_nonlearn':[], 'rhmpfc_early_nonlearn':[], 'lhmpfc_late_nonlearn':[], 'rhmpfc_late_nonlearn':[],\n",
    "            #Caudate\n",
    "            'lhcaud_early_learn':[], 'rhcaud_early_learn':[], 'lhcaud_late_learn':[], 'rhcaud_late_learn':[],\n",
    "            'lhcaud_early_nonlearn':[], 'rhcaud_early_nonlearn':[], 'lhcaud_late_nonlearn':[], 'rhcaud_late_nonlearn':[],\n",
    "            #Putamen\n",
    "            'lhput_early_learn':[], 'rhput_early_learn':[], 'lhput_late_learn':[], 'rhput_late_learn':[],\n",
    "            'lhput_early_nonlearn':[], 'rhput_early_nonlearn':[], 'lhput_late_nonlearn':[], 'rhput_late_nonlearn':[]}\n",
    "\n",
    "for i in range(len(sids)):\n",
    "    all_data['subjid'].append(sids[i])\n",
    "    lh_hp_img = nb.load(mask_filenames[i][0])\n",
    "    rh_hp_img = nb.load(mask_filenames[i][8])\n",
    "    lh_mpfc_img = nb.load(mask_filenames[i][5])\n",
    "    rh_mpfc_img = nb.load(mask_filenames[i][11])\n",
    "    lh_caud_img = nb.load(mask_filenames[i][1])\n",
    "    rh_caud_img = nb.load(mask_filenames[i][2])\n",
    "    lh_put_img = nb.load(mask_filenames[i][14])\n",
    "    rh_put_img = nb.load(mask_filenames[i][15])\n",
    "    \n",
    "    early_learn_img = nb.load(cope_files[i][6])\n",
    "    late_learn_img = nb.load(cope_files[i][12])\n",
    "    early_nonlearn_img = nb.load(cope_files[i][9])\n",
    "    late_nonlearn_img = nb.load(cope_files[i][15])\n",
    "    \n",
    "    region = ['hp', 'mpfc', 'caud', 'put']\n",
    "    learn_type = ['early_learn', 'late_learn', 'early_nonlearn', 'late_nonlearn']\n",
    "   \n",
    "    for r in region:\n",
    "        for l in learn_type:\n",
    "            lh_data = eval('{0}_img.get_data()[lh_{1}_img.get_data() > 0.]'.format(l,r))\n",
    "            all_data['lh{0}_{1}'.format(r,l)].append(np.mean(lh_data))            \n",
    "            rh_data = eval('{0}_img.get_data()[rh_{1}_img.get_data() > 0.]'.format(l,r))\n",
    "            all_data['rh{0}_{1}'.format(r,l)].append(np.mean(rh_data))\n",
    "\n",
    "all_data_df = pd.DataFrame(all_data)"
   ]
  },
  {
   "cell_type": "markdown",
   "metadata": {},
   "source": [
    "### Combine the two hemispheres to create one regional average"
   ]
  },
  {
   "cell_type": "code",
   "execution_count": 33,
   "metadata": {
    "collapsed": true,
    "scrolled": true
   },
   "outputs": [],
   "source": [
    "region = ['hp', 'mpfc', 'caud', 'put']\n",
    "learn_type = ['early_learn', 'late_learn', 'early_nonlearn', 'late_nonlearn']\n",
    "for r in region:\n",
    "    for l in learn_type:\n",
    "        all_data_df['{0}_all_{1}'.format(r,l)] = (all_data_df['lh{0}_{1}'.format(r,l)] \n",
    "                                                  + all_data_df['rh{0}_{1}'.format(r,l)])/2."
   ]
  },
  {
   "cell_type": "markdown",
   "metadata": {},
   "source": [
    "## Hippocampus"
   ]
  },
  {
   "cell_type": "code",
   "execution_count": 4,
   "metadata": {
    "collapsed": true
   },
   "outputs": [],
   "source": [
    "hp_chart = {}\n",
    "for x in ['early_learn', 'late_learn', 'early_nonlearn', 'late_nonlearn']:\n",
    "    hp_chart['{0}'.format(x)] = all_data_df['hp_all_{0}'.format(x)] \n",
    "hp_chart_df = pd.DataFrame.from_dict(hp_chart)"
   ]
  },
  {
   "cell_type": "code",
   "execution_count": 5,
   "metadata": {
    "collapsed": false
   },
   "outputs": [
    {
     "data": {
      "text/html": [
       "<div>\n",
       "<style scoped>\n",
       "    .dataframe tbody tr th:only-of-type {\n",
       "        vertical-align: middle;\n",
       "    }\n",
       "\n",
       "    .dataframe tbody tr th {\n",
       "        vertical-align: top;\n",
       "    }\n",
       "\n",
       "    .dataframe thead th {\n",
       "        text-align: right;\n",
       "    }\n",
       "</style>\n",
       "<table border=\"1\" class=\"dataframe\">\n",
       "  <thead>\n",
       "    <tr style=\"text-align: right;\">\n",
       "      <th></th>\n",
       "      <th>early_learn</th>\n",
       "      <th>early_nonlearn</th>\n",
       "      <th>late_learn</th>\n",
       "      <th>late_nonlearn</th>\n",
       "    </tr>\n",
       "  </thead>\n",
       "  <tbody>\n",
       "    <tr>\n",
       "      <th>0</th>\n",
       "      <td>0.419794</td>\n",
       "      <td>0.683453</td>\n",
       "      <td>0.417978</td>\n",
       "      <td>2.907409</td>\n",
       "    </tr>\n",
       "    <tr>\n",
       "      <th>1</th>\n",
       "      <td>-5.009438</td>\n",
       "      <td>-7.903021</td>\n",
       "      <td>-6.524716</td>\n",
       "      <td>-6.713285</td>\n",
       "    </tr>\n",
       "    <tr>\n",
       "      <th>2</th>\n",
       "      <td>1.126333</td>\n",
       "      <td>0.527425</td>\n",
       "      <td>2.401505</td>\n",
       "      <td>2.727571</td>\n",
       "    </tr>\n",
       "    <tr>\n",
       "      <th>3</th>\n",
       "      <td>-0.376072</td>\n",
       "      <td>-3.701677</td>\n",
       "      <td>0.303185</td>\n",
       "      <td>0.272023</td>\n",
       "    </tr>\n",
       "    <tr>\n",
       "      <th>4</th>\n",
       "      <td>-1.445610</td>\n",
       "      <td>-0.872663</td>\n",
       "      <td>-0.624472</td>\n",
       "      <td>-0.373629</td>\n",
       "    </tr>\n",
       "    <tr>\n",
       "      <th>5</th>\n",
       "      <td>-0.808468</td>\n",
       "      <td>-0.121015</td>\n",
       "      <td>-0.349234</td>\n",
       "      <td>-0.490069</td>\n",
       "    </tr>\n",
       "    <tr>\n",
       "      <th>6</th>\n",
       "      <td>-1.007543</td>\n",
       "      <td>-1.491377</td>\n",
       "      <td>-2.189295</td>\n",
       "      <td>-1.518280</td>\n",
       "    </tr>\n",
       "    <tr>\n",
       "      <th>7</th>\n",
       "      <td>-0.808314</td>\n",
       "      <td>-4.048887</td>\n",
       "      <td>-3.751085</td>\n",
       "      <td>-4.720895</td>\n",
       "    </tr>\n",
       "    <tr>\n",
       "      <th>8</th>\n",
       "      <td>-1.033626</td>\n",
       "      <td>-4.034956</td>\n",
       "      <td>-0.196974</td>\n",
       "      <td>-2.470157</td>\n",
       "    </tr>\n",
       "    <tr>\n",
       "      <th>9</th>\n",
       "      <td>1.246265</td>\n",
       "      <td>-0.119973</td>\n",
       "      <td>-0.019766</td>\n",
       "      <td>0.898961</td>\n",
       "    </tr>\n",
       "    <tr>\n",
       "      <th>10</th>\n",
       "      <td>0.788738</td>\n",
       "      <td>1.554443</td>\n",
       "      <td>2.285059</td>\n",
       "      <td>0.670742</td>\n",
       "    </tr>\n",
       "    <tr>\n",
       "      <th>11</th>\n",
       "      <td>1.429394</td>\n",
       "      <td>0.970925</td>\n",
       "      <td>0.603192</td>\n",
       "      <td>2.666670</td>\n",
       "    </tr>\n",
       "    <tr>\n",
       "      <th>12</th>\n",
       "      <td>0.408538</td>\n",
       "      <td>-1.615246</td>\n",
       "      <td>1.081067</td>\n",
       "      <td>0.275436</td>\n",
       "    </tr>\n",
       "    <tr>\n",
       "      <th>13</th>\n",
       "      <td>-0.803798</td>\n",
       "      <td>-0.585192</td>\n",
       "      <td>-4.714158</td>\n",
       "      <td>-2.523526</td>\n",
       "    </tr>\n",
       "    <tr>\n",
       "      <th>14</th>\n",
       "      <td>-4.835866</td>\n",
       "      <td>-5.801258</td>\n",
       "      <td>-3.973623</td>\n",
       "      <td>-5.169113</td>\n",
       "    </tr>\n",
       "    <tr>\n",
       "      <th>15</th>\n",
       "      <td>-0.549890</td>\n",
       "      <td>-0.010990</td>\n",
       "      <td>-3.439888</td>\n",
       "      <td>-2.693380</td>\n",
       "    </tr>\n",
       "    <tr>\n",
       "      <th>16</th>\n",
       "      <td>-1.459417</td>\n",
       "      <td>-0.021099</td>\n",
       "      <td>-0.886719</td>\n",
       "      <td>1.487093</td>\n",
       "    </tr>\n",
       "    <tr>\n",
       "      <th>17</th>\n",
       "      <td>-4.345286</td>\n",
       "      <td>-3.368025</td>\n",
       "      <td>-2.583536</td>\n",
       "      <td>-3.199587</td>\n",
       "    </tr>\n",
       "    <tr>\n",
       "      <th>18</th>\n",
       "      <td>1.507066</td>\n",
       "      <td>2.751774</td>\n",
       "      <td>1.867755</td>\n",
       "      <td>1.266222</td>\n",
       "    </tr>\n",
       "  </tbody>\n",
       "</table>\n",
       "</div>"
      ],
      "text/plain": [
       "    early_learn  early_nonlearn  late_learn  late_nonlearn\n",
       "0      0.419794        0.683453    0.417978       2.907409\n",
       "1     -5.009438       -7.903021   -6.524716      -6.713285\n",
       "2      1.126333        0.527425    2.401505       2.727571\n",
       "3     -0.376072       -3.701677    0.303185       0.272023\n",
       "4     -1.445610       -0.872663   -0.624472      -0.373629\n",
       "5     -0.808468       -0.121015   -0.349234      -0.490069\n",
       "6     -1.007543       -1.491377   -2.189295      -1.518280\n",
       "7     -0.808314       -4.048887   -3.751085      -4.720895\n",
       "8     -1.033626       -4.034956   -0.196974      -2.470157\n",
       "9      1.246265       -0.119973   -0.019766       0.898961\n",
       "10     0.788738        1.554443    2.285059       0.670742\n",
       "11     1.429394        0.970925    0.603192       2.666670\n",
       "12     0.408538       -1.615246    1.081067       0.275436\n",
       "13    -0.803798       -0.585192   -4.714158      -2.523526\n",
       "14    -4.835866       -5.801258   -3.973623      -5.169113\n",
       "15    -0.549890       -0.010990   -3.439888      -2.693380\n",
       "16    -1.459417       -0.021099   -0.886719       1.487093\n",
       "17    -4.345286       -3.368025   -2.583536      -3.199587\n",
       "18     1.507066        2.751774    1.867755       1.266222"
      ]
     },
     "execution_count": 5,
     "metadata": {},
     "output_type": "execute_result"
    }
   ],
   "source": [
    "hp_chart_df"
   ]
  },
  {
   "cell_type": "code",
   "execution_count": 8,
   "metadata": {
    "collapsed": false,
    "scrolled": false
   },
   "outputs": [
    {
     "name": "stdout",
     "output_type": "stream",
     "text": [
      "Mean early_learn:  -0.818800031551\n",
      "STD early_learn:  1.93886722506\n",
      "\n",
      "Mean late_learn:  -1.06809083068\n",
      "STD late_learn:  2.44835351867\n",
      "\n",
      "Mean early_nonlearn:  -1.43196631635\n",
      "STD early_nonlearn:  2.64093311799\n",
      "\n",
      "Mean late_nonlearn:  -0.878936529748\n",
      "STD late_nonlearn:  2.71709613806\n",
      "\n",
      "Early vs. Late Learn t-test:  (0.66702878513355535, 0.51321449736148028)\n",
      "Early vs. Late Nonlearn t-test:  (-1.4670636923236375, 0.15961375982568146)\n"
     ]
    },
    {
     "data": {
      "image/png": "[encoded data removed]",
      "text/plain": [
       "<matplotlib.figure.Figure at 0x2ac12b5541d0>"
      ]
     },
     "metadata": {},
     "output_type": "display_data"
    }
   ],
   "source": [
    "sns.set_style(\"white\")\n",
    "for d in ['early_learn', 'late_learn', 'early_nonlearn', 'late_nonlearn']:\n",
    "    print \"Mean {0}: \".format(d), np.mean(hp_chart['{0}'.format(d)])\n",
    "    print \"STD {0}: \".format(d), np.std(hp_chart['{0}'.format(d)])\n",
    "    print \"\"\n",
    "print \"Early vs. Late Learn t-test: \", stats.ttest_rel(hp_chart['early_learn'], hp_chart['late_learn'])[:]\n",
    "print \"Early vs. Late Nonlearn t-test: \", stats.ttest_rel(hp_chart['early_nonlearn'], hp_chart['late_nonlearn'])[:]\n",
    "N = 4\n",
    "conditions = ['early_learn', 'late_learn', 'early_nonlearn', 'late_nonlearn']\n",
    "hp_allsubjs = [hp_chart['early_learn'], hp_chart['late_learn'], \n",
    "               hp_chart['early_nonlearn'], hp_chart['late_nonlearn']]\n",
    "ind = np.arange(N)\n",
    "fig, ax = plt.subplots(figsize = (8,6))\n",
    "ax0 = sns.boxplot(data = hp_allsubjs, color = \"#278fea\", width = 0.3)\n",
    "ax2 = sns.swarmplot(data = hp_allsubjs, color='.25')\n",
    "ax.set_xticks(ind)\n",
    "ax.set_xticklabels(conditions)\n",
    "ax.set_ylabel(\"Arbitrary units\")\n",
    "ax.set_title(\"Hippocampus\")\n",
    "#plt.savefig(\"/home/arenf001/halves-HPC1.jpg\", dpi = 1080)\n",
    "plt.show()"
   ]
  },
  {
   "cell_type": "code",
   "execution_count": 32,
   "metadata": {
    "collapsed": false
   },
   "outputs": [
    {
     "name": "stdout",
     "output_type": "stream",
     "text": [
      "Mean early:  -1.12538317395\n",
      "STD early:  2.18252133666\n",
      "\n",
      "Mean late:  -0.973513680216\n",
      "STD late:  2.49870439932\n",
      "\n",
      "Early vs. Late t-test:  (-0.46867987328377758, 0.64492456119206731)\n"
     ]
    },
    {
     "data": {
      "image/png": "[encoded data removed]",
      "text/plain": [
       "<matplotlib.figure.Figure at 0x2ac12ab79590>"
      ]
     },
     "metadata": {},
     "output_type": "display_data"
    }
   ],
   "source": [
    "plot = {}\n",
    "plot['early'] = all_data_df[['hp_all_early_learn','hp_all_early_nonlearn']].mean(axis=1)\n",
    "plot['late'] = all_data_df[['hp_all_late_learn','hp_all_late_nonlearn']].mean(axis=1)\n",
    "plot_df = pd.DataFrame.from_dict(plot)\n",
    "\n",
    "for d in ['early', 'late']:\n",
    "    print \"Mean {0}: \".format(d), np.mean(plot['{0}'.format(d)])\n",
    "    print \"STD {0}: \".format(d), np.std(plot['{0}'.format(d)])\n",
    "    print \"\"    \n",
    "print \"Early vs. Late t-test: \", stats.ttest_rel(plot['early'], plot['late'])[:]\n",
    "                       \n",
    "N = 2\n",
    "conditions = ['early', 'late']\n",
    "hp_allsubjs = [plot['early'], plot['late']]\n",
    "ind = np.arange(N)\n",
    "fig, ax = plt.subplots(figsize = (6,5))\n",
    "ax0 = sns.boxplot(data = hp_allsubjs, color = \"#278fea\", width = 0.3)\n",
    "ax2 = sns.swarmplot(data = hp_allsubjs, color='.25')\n",
    "ax.set_xticks(ind)\n",
    "ax.set_xticklabels(conditions)\n",
    "ax.set_ylabel(\"Arbitrary units\")\n",
    "ax.set_title(\"Hippocampus\")\n",
    "#plt.savefig(\"/home/arenf001/halves-HPC2.jpg\", dpi = 1080)\n",
    "plt.show()"
   ]
  },
  {
   "cell_type": "markdown",
   "metadata": {},
   "source": [
    "## mPFC"
   ]
  },
  {
   "cell_type": "code",
   "execution_count": 15,
   "metadata": {
    "collapsed": true
   },
   "outputs": [],
   "source": [
    "mpfc_chart = {}\n",
    "for x in ['early_learn', 'late_learn', 'early_nonlearn', 'late_nonlearn']:\n",
    "    mpfc_chart['{0}'.format(x)] = all_data_df['mpfc_all_{0}'.format(x)] \n",
    "mpfc_chart_df = pd.DataFrame.from_dict(mpfc_chart)"
   ]
  },
  {
   "cell_type": "code",
   "execution_count": 16,
   "metadata": {
    "collapsed": false
   },
   "outputs": [
    {
     "data": {
      "text/html": [
       "<div>\n",
       "<style scoped>\n",
       "    .dataframe tbody tr th:only-of-type {\n",
       "        vertical-align: middle;\n",
       "    }\n",
       "\n",
       "    .dataframe tbody tr th {\n",
       "        vertical-align: top;\n",
       "    }\n",
       "\n",
       "    .dataframe thead th {\n",
       "        text-align: right;\n",
       "    }\n",
       "</style>\n",
       "<table border=\"1\" class=\"dataframe\">\n",
       "  <thead>\n",
       "    <tr style=\"text-align: right;\">\n",
       "      <th></th>\n",
       "      <th>early_learn</th>\n",
       "      <th>early_nonlearn</th>\n",
       "      <th>late_learn</th>\n",
       "      <th>late_nonlearn</th>\n",
       "    </tr>\n",
       "  </thead>\n",
       "  <tbody>\n",
       "    <tr>\n",
       "      <th>0</th>\n",
       "      <td>0.918298</td>\n",
       "      <td>-1.589642</td>\n",
       "      <td>1.314111</td>\n",
       "      <td>3.156925</td>\n",
       "    </tr>\n",
       "    <tr>\n",
       "      <th>1</th>\n",
       "      <td>-3.431127</td>\n",
       "      <td>-7.395319</td>\n",
       "      <td>-3.700661</td>\n",
       "      <td>-6.674686</td>\n",
       "    </tr>\n",
       "    <tr>\n",
       "      <th>2</th>\n",
       "      <td>0.154035</td>\n",
       "      <td>-0.861398</td>\n",
       "      <td>1.680491</td>\n",
       "      <td>2.228913</td>\n",
       "    </tr>\n",
       "    <tr>\n",
       "      <th>3</th>\n",
       "      <td>0.314386</td>\n",
       "      <td>-2.174422</td>\n",
       "      <td>2.108455</td>\n",
       "      <td>4.792186</td>\n",
       "    </tr>\n",
       "    <tr>\n",
       "      <th>4</th>\n",
       "      <td>-2.251388</td>\n",
       "      <td>-2.955458</td>\n",
       "      <td>-0.603991</td>\n",
       "      <td>-2.188478</td>\n",
       "    </tr>\n",
       "    <tr>\n",
       "      <th>5</th>\n",
       "      <td>1.183516</td>\n",
       "      <td>-0.458477</td>\n",
       "      <td>2.245473</td>\n",
       "      <td>1.432277</td>\n",
       "    </tr>\n",
       "    <tr>\n",
       "      <th>6</th>\n",
       "      <td>-4.246774</td>\n",
       "      <td>-5.580336</td>\n",
       "      <td>-5.269410</td>\n",
       "      <td>-5.721530</td>\n",
       "    </tr>\n",
       "    <tr>\n",
       "      <th>7</th>\n",
       "      <td>-4.565593</td>\n",
       "      <td>-6.465851</td>\n",
       "      <td>-6.152014</td>\n",
       "      <td>-7.198882</td>\n",
       "    </tr>\n",
       "    <tr>\n",
       "      <th>8</th>\n",
       "      <td>-0.355726</td>\n",
       "      <td>-0.340944</td>\n",
       "      <td>-0.157616</td>\n",
       "      <td>-1.063374</td>\n",
       "    </tr>\n",
       "    <tr>\n",
       "      <th>9</th>\n",
       "      <td>2.655207</td>\n",
       "      <td>3.573424</td>\n",
       "      <td>3.036675</td>\n",
       "      <td>3.419889</td>\n",
       "    </tr>\n",
       "    <tr>\n",
       "      <th>10</th>\n",
       "      <td>0.400440</td>\n",
       "      <td>3.249242</td>\n",
       "      <td>-0.373634</td>\n",
       "      <td>-1.187339</td>\n",
       "    </tr>\n",
       "    <tr>\n",
       "      <th>11</th>\n",
       "      <td>3.230204</td>\n",
       "      <td>3.144067</td>\n",
       "      <td>3.316319</td>\n",
       "      <td>4.369233</td>\n",
       "    </tr>\n",
       "    <tr>\n",
       "      <th>12</th>\n",
       "      <td>1.438476</td>\n",
       "      <td>-0.624191</td>\n",
       "      <td>2.100900</td>\n",
       "      <td>0.402342</td>\n",
       "    </tr>\n",
       "    <tr>\n",
       "      <th>13</th>\n",
       "      <td>-3.407903</td>\n",
       "      <td>-1.292305</td>\n",
       "      <td>-6.056683</td>\n",
       "      <td>-2.086863</td>\n",
       "    </tr>\n",
       "    <tr>\n",
       "      <th>14</th>\n",
       "      <td>-4.160980</td>\n",
       "      <td>-2.667973</td>\n",
       "      <td>-3.986020</td>\n",
       "      <td>-0.519855</td>\n",
       "    </tr>\n",
       "    <tr>\n",
       "      <th>15</th>\n",
       "      <td>-3.488652</td>\n",
       "      <td>-4.152246</td>\n",
       "      <td>-5.341348</td>\n",
       "      <td>-4.707270</td>\n",
       "    </tr>\n",
       "    <tr>\n",
       "      <th>16</th>\n",
       "      <td>-0.301743</td>\n",
       "      <td>0.936496</td>\n",
       "      <td>0.746275</td>\n",
       "      <td>3.363513</td>\n",
       "    </tr>\n",
       "    <tr>\n",
       "      <th>17</th>\n",
       "      <td>-3.527626</td>\n",
       "      <td>-4.800799</td>\n",
       "      <td>-0.835721</td>\n",
       "      <td>-0.004803</td>\n",
       "    </tr>\n",
       "    <tr>\n",
       "      <th>18</th>\n",
       "      <td>3.626707</td>\n",
       "      <td>6.961316</td>\n",
       "      <td>3.607664</td>\n",
       "      <td>3.839303</td>\n",
       "    </tr>\n",
       "  </tbody>\n",
       "</table>\n",
       "</div>"
      ],
      "text/plain": [
       "    early_learn  early_nonlearn  late_learn  late_nonlearn\n",
       "0      0.918298       -1.589642    1.314111       3.156925\n",
       "1     -3.431127       -7.395319   -3.700661      -6.674686\n",
       "2      0.154035       -0.861398    1.680491       2.228913\n",
       "3      0.314386       -2.174422    2.108455       4.792186\n",
       "4     -2.251388       -2.955458   -0.603991      -2.188478\n",
       "5      1.183516       -0.458477    2.245473       1.432277\n",
       "6     -4.246774       -5.580336   -5.269410      -5.721530\n",
       "7     -4.565593       -6.465851   -6.152014      -7.198882\n",
       "8     -0.355726       -0.340944   -0.157616      -1.063374\n",
       "9      2.655207        3.573424    3.036675       3.419889\n",
       "10     0.400440        3.249242   -0.373634      -1.187339\n",
       "11     3.230204        3.144067    3.316319       4.369233\n",
       "12     1.438476       -0.624191    2.100900       0.402342\n",
       "13    -3.407903       -1.292305   -6.056683      -2.086863\n",
       "14    -4.160980       -2.667973   -3.986020      -0.519855\n",
       "15    -3.488652       -4.152246   -5.341348      -4.707270\n",
       "16    -0.301743        0.936496    0.746275       3.363513\n",
       "17    -3.527626       -4.800799   -0.835721      -0.004803\n",
       "18     3.626707        6.961316    3.607664       3.839303"
      ]
     },
     "execution_count": 16,
     "metadata": {},
     "output_type": "execute_result"
    }
   ],
   "source": [
    "mpfc_chart_df"
   ]
  },
  {
   "cell_type": "code",
   "execution_count": 17,
   "metadata": {
    "collapsed": false
   },
   "outputs": [
    {
     "name": "stdout",
     "output_type": "stream",
     "text": [
      "Mean early_learn:  -0.832433827712\n",
      "STD early_learn:  2.63127529441\n",
      "\n",
      "Mean late_learn:  -0.648459702534\n",
      "STD late_learn:  3.29187817766\n",
      "\n",
      "Mean early_nonlearn:  -1.23656921363\n",
      "STD early_nonlearn:  3.61035790927\n",
      "\n",
      "Mean late_nonlearn:  -0.228868442539\n",
      "STD late_nonlearn:  3.69339044424\n",
      "\n",
      "Early vs. Late Learn t-test:  (-0.59594211038522493, 0.55863400842586086)\n",
      "Early vs. Late Nonlearn t-test:  (-1.6126707085415952, 0.124210568697549)\n"
     ]
    },
    {
     "data": {
      "image/png": "[encoded data removed]",
      "text/plain": [
       "<matplotlib.figure.Figure at 0x2ac12d6ac490>"
      ]
     },
     "metadata": {},
     "output_type": "display_data"
    }
   ],
   "source": [
    "for d in ['early_learn', 'late_learn', 'early_nonlearn', 'late_nonlearn']:\n",
    "    print \"Mean {0}: \".format(d), np.mean(mpfc_chart['{0}'.format(d)])\n",
    "    print \"STD {0}: \".format(d), np.std(mpfc_chart['{0}'.format(d)])\n",
    "    print \"\"\n",
    "print \"Early vs. Late Learn t-test: \", stats.ttest_rel(mpfc_chart['early_learn'], mpfc_chart['late_learn'])[:]\n",
    "print \"Early vs. Late Nonlearn t-test: \",stats.ttest_rel(mpfc_chart['early_nonlearn'], mpfc_chart['late_nonlearn'])[:]\n",
    " \n",
    "N = 4\n",
    "conditions = ['early_learn', 'late_learn', 'early_nonlearn', 'late_nonlearn']\n",
    "mpfc_allsubjs = [mpfc_chart['early_learn'], mpfc_chart['late_learn'],\n",
    "                 mpfc_chart['early_nonlearn'], mpfc_chart['late_nonlearn']]\n",
    "ind = np.arange(N)\n",
    "fig, ax = plt.subplots(figsize = (8,6))\n",
    "ax0 = sns.boxplot(data = mpfc_allsubjs, color = \"#f97401\", width = 0.3)\n",
    "ax2 = sns.swarmplot(data = mpfc_allsubjs, color='.25')\n",
    "ax.set_xticks(ind)\n",
    "ax.set_xticklabels(conditions)\n",
    "ax.set_ylabel(\"Arbitrary units\")\n",
    "ax.set_title(\"Medial Prefrontal Cortex\")\n",
    "#plt.savefig(\"/home/arenf001/halves-mpfc.jpg\", dpi = 1080)\n",
    "plt.show()"
   ]
  },
  {
   "cell_type": "code",
   "execution_count": 31,
   "metadata": {
    "collapsed": false
   },
   "outputs": [
    {
     "name": "stdout",
     "output_type": "stream",
     "text": [
      "Mean early:  -1.03450152067\n",
      "STD early:  3.01109188387\n",
      "\n",
      "Mean late:  -0.438664072536\n",
      "STD late:  3.37928002327\n",
      "\n",
      "Early vs. Late t-test:  (-1.387920760979992, 0.18210287770341335)\n"
     ]
    },
    {
     "data": {
      "image/png": "[encoded data removed]",
      "text/plain": [
       "<matplotlib.figure.Figure at 0x2ac12d99e390>"
      ]
     },
     "metadata": {},
     "output_type": "display_data"
    }
   ],
   "source": [
    "plot2 = {}\n",
    "plot2['early'] = all_data_df[['mpfc_all_early_learn','mpfc_all_early_nonlearn']].mean(axis=1)\n",
    "plot2['late'] = all_data_df[['mpfc_all_late_learn','mpfc_all_late_nonlearn']].mean(axis=1)\n",
    "plot2_df = pd.DataFrame.from_dict(plot2)\n",
    "\n",
    "for d in ['early', 'late']:\n",
    "    print \"Mean {0}: \".format(d), np.mean(plot2['{0}'.format(d)])\n",
    "    print \"STD {0}: \".format(d), np.std(plot2['{0}'.format(d)])\n",
    "    print \"\"    \n",
    "print \"Early vs. Late t-test: \", stats.ttest_rel(plot2['early'], plot2['late'])[:]\n",
    "                       \n",
    "N = 2\n",
    "conditions = ['early', 'late']\n",
    "mpfc_allsubjs = [plot2['early'], plot2['late']]\n",
    "ind = np.arange(N)\n",
    "fig, ax = plt.subplots(figsize = (6,5))\n",
    "ax0 = sns.boxplot(data = mpfc_allsubjs, color = \"#f97401\", width = 0.3)\n",
    "ax2 = sns.swarmplot(data = mpfc_allsubjs, color='.25')\n",
    "ax.set_xticks(ind)\n",
    "ax.set_xticklabels(conditions)\n",
    "ax.set_ylabel(\"Arbitrary units\")\n",
    "ax.set_title(\"Medial Prefrontal Cortex\")\n",
    "#plt.savefig(\"/home/arenf001/halves-mpfc2.jpg\", dpi = 1080)\n",
    "plt.show()"
   ]
  },
  {
   "cell_type": "markdown",
   "metadata": {},
   "source": [
    "## Caudate"
   ]
  },
  {
   "cell_type": "code",
   "execution_count": 20,
   "metadata": {
    "collapsed": false
   },
   "outputs": [
    {
     "name": "stdout",
     "output_type": "stream",
     "text": [
      "\n"
     ]
    }
   ],
   "source": [
    "caud_chart = {}\n",
    "for x in ['early_learn', 'late_learn', 'early_nonlearn', 'late_nonlearn']:\n",
    "    caud_chart['{0}'.format(x)] = all_data_df['caud_all_{0}'.format(x)] \n",
    "caud_chart_df = pd.DataFrame.from_dict(caud_chart)"
   ]
  },
  {
   "cell_type": "code",
   "execution_count": 21,
   "metadata": {
    "collapsed": false
   },
   "outputs": [
    {
     "data": {
      "text/html": [
       "<div>\n",
       "<style scoped>\n",
       "    .dataframe tbody tr th:only-of-type {\n",
       "        vertical-align: middle;\n",
       "    }\n",
       "\n",
       "    .dataframe tbody tr th {\n",
       "        vertical-align: top;\n",
       "    }\n",
       "\n",
       "    .dataframe thead th {\n",
       "        text-align: right;\n",
       "    }\n",
       "</style>\n",
       "<table border=\"1\" class=\"dataframe\">\n",
       "  <thead>\n",
       "    <tr style=\"text-align: right;\">\n",
       "      <th></th>\n",
       "      <th>early_learn</th>\n",
       "      <th>early_nonlearn</th>\n",
       "      <th>late_learn</th>\n",
       "      <th>late_nonlearn</th>\n",
       "    </tr>\n",
       "  </thead>\n",
       "  <tbody>\n",
       "    <tr>\n",
       "      <th>0</th>\n",
       "      <td>7.115047</td>\n",
       "      <td>3.992658</td>\n",
       "      <td>1.132422</td>\n",
       "      <td>5.088925</td>\n",
       "    </tr>\n",
       "    <tr>\n",
       "      <th>1</th>\n",
       "      <td>-1.795894</td>\n",
       "      <td>-5.707460</td>\n",
       "      <td>-3.038950</td>\n",
       "      <td>-4.432319</td>\n",
       "    </tr>\n",
       "    <tr>\n",
       "      <th>2</th>\n",
       "      <td>1.879712</td>\n",
       "      <td>-0.176573</td>\n",
       "      <td>1.068074</td>\n",
       "      <td>0.506824</td>\n",
       "    </tr>\n",
       "    <tr>\n",
       "      <th>3</th>\n",
       "      <td>4.995865</td>\n",
       "      <td>1.850719</td>\n",
       "      <td>5.394430</td>\n",
       "      <td>4.405126</td>\n",
       "    </tr>\n",
       "    <tr>\n",
       "      <th>4</th>\n",
       "      <td>-2.717110</td>\n",
       "      <td>-2.686082</td>\n",
       "      <td>-4.192222</td>\n",
       "      <td>-4.123295</td>\n",
       "    </tr>\n",
       "    <tr>\n",
       "      <th>5</th>\n",
       "      <td>1.881152</td>\n",
       "      <td>1.543798</td>\n",
       "      <td>0.904600</td>\n",
       "      <td>-0.080188</td>\n",
       "    </tr>\n",
       "    <tr>\n",
       "      <th>6</th>\n",
       "      <td>1.548981</td>\n",
       "      <td>0.752545</td>\n",
       "      <td>-2.152304</td>\n",
       "      <td>-0.704797</td>\n",
       "    </tr>\n",
       "    <tr>\n",
       "      <th>7</th>\n",
       "      <td>2.785360</td>\n",
       "      <td>3.983549</td>\n",
       "      <td>0.499699</td>\n",
       "      <td>-0.989945</td>\n",
       "    </tr>\n",
       "    <tr>\n",
       "      <th>8</th>\n",
       "      <td>2.353981</td>\n",
       "      <td>-3.137753</td>\n",
       "      <td>0.015916</td>\n",
       "      <td>-1.270962</td>\n",
       "    </tr>\n",
       "    <tr>\n",
       "      <th>9</th>\n",
       "      <td>5.746642</td>\n",
       "      <td>4.231850</td>\n",
       "      <td>3.958516</td>\n",
       "      <td>5.876891</td>\n",
       "    </tr>\n",
       "    <tr>\n",
       "      <th>10</th>\n",
       "      <td>2.796432</td>\n",
       "      <td>3.905552</td>\n",
       "      <td>-0.403642</td>\n",
       "      <td>1.107228</td>\n",
       "    </tr>\n",
       "    <tr>\n",
       "      <th>11</th>\n",
       "      <td>4.998613</td>\n",
       "      <td>6.242102</td>\n",
       "      <td>5.547940</td>\n",
       "      <td>7.768687</td>\n",
       "    </tr>\n",
       "    <tr>\n",
       "      <th>12</th>\n",
       "      <td>1.642753</td>\n",
       "      <td>-1.445992</td>\n",
       "      <td>1.510180</td>\n",
       "      <td>-0.967792</td>\n",
       "    </tr>\n",
       "    <tr>\n",
       "      <th>13</th>\n",
       "      <td>3.887866</td>\n",
       "      <td>4.356705</td>\n",
       "      <td>-0.190838</td>\n",
       "      <td>3.898860</td>\n",
       "    </tr>\n",
       "    <tr>\n",
       "      <th>14</th>\n",
       "      <td>0.541157</td>\n",
       "      <td>-0.794589</td>\n",
       "      <td>0.801963</td>\n",
       "      <td>2.585491</td>\n",
       "    </tr>\n",
       "    <tr>\n",
       "      <th>15</th>\n",
       "      <td>2.008326</td>\n",
       "      <td>-2.089937</td>\n",
       "      <td>-3.452560</td>\n",
       "      <td>-1.607112</td>\n",
       "    </tr>\n",
       "    <tr>\n",
       "      <th>16</th>\n",
       "      <td>4.167348</td>\n",
       "      <td>5.218666</td>\n",
       "      <td>0.717328</td>\n",
       "      <td>0.066679</td>\n",
       "    </tr>\n",
       "    <tr>\n",
       "      <th>17</th>\n",
       "      <td>0.725898</td>\n",
       "      <td>-1.676210</td>\n",
       "      <td>-0.617685</td>\n",
       "      <td>1.036622</td>\n",
       "    </tr>\n",
       "    <tr>\n",
       "      <th>18</th>\n",
       "      <td>5.470113</td>\n",
       "      <td>7.899214</td>\n",
       "      <td>2.937230</td>\n",
       "      <td>2.548422</td>\n",
       "    </tr>\n",
       "  </tbody>\n",
       "</table>\n",
       "</div>"
      ],
      "text/plain": [
       "    early_learn  early_nonlearn  late_learn  late_nonlearn\n",
       "0      7.115047        3.992658    1.132422       5.088925\n",
       "1     -1.795894       -5.707460   -3.038950      -4.432319\n",
       "2      1.879712       -0.176573    1.068074       0.506824\n",
       "3      4.995865        1.850719    5.394430       4.405126\n",
       "4     -2.717110       -2.686082   -4.192222      -4.123295\n",
       "5      1.881152        1.543798    0.904600      -0.080188\n",
       "6      1.548981        0.752545   -2.152304      -0.704797\n",
       "7      2.785360        3.983549    0.499699      -0.989945\n",
       "8      2.353981       -3.137753    0.015916      -1.270962\n",
       "9      5.746642        4.231850    3.958516       5.876891\n",
       "10     2.796432        3.905552   -0.403642       1.107228\n",
       "11     4.998613        6.242102    5.547940       7.768687\n",
       "12     1.642753       -1.445992    1.510180      -0.967792\n",
       "13     3.887866        4.356705   -0.190838       3.898860\n",
       "14     0.541157       -0.794589    0.801963       2.585491\n",
       "15     2.008326       -2.089937   -3.452560      -1.607112\n",
       "16     4.167348        5.218666    0.717328       0.066679\n",
       "17     0.725898       -1.676210   -0.617685       1.036622\n",
       "18     5.470113        7.899214    2.937230       2.548422"
      ]
     },
     "execution_count": 21,
     "metadata": {},
     "output_type": "execute_result"
    }
   ],
   "source": [
    "caud_chart_df"
   ]
  },
  {
   "cell_type": "code",
   "execution_count": 23,
   "metadata": {
    "collapsed": false,
    "scrolled": true
   },
   "outputs": [
    {
     "name": "stdout",
     "output_type": "stream",
     "text": [
      "Mean early_learn:  2.63327586577\n",
      "STD early_learn :  2.43871100325\n",
      "\n",
      "Mean late_learn:  0.549478714207\n",
      "STD late_learn :  2.60882353021\n",
      "\n",
      "Mean early_nonlearn:  1.38225065819\n",
      "STD early_nonlearn :  3.57025959261\n",
      "\n",
      "Mean late_nonlearn:  1.09017610334\n",
      "STD late_nonlearn :  3.17737538793\n",
      "\n",
      "Early vs. Late Learn t-test:  (4.8329728402629009, 0.00013344652070724274) **\n",
      "Early vs. Late Nonlearn t-test:  (0.47238611097205296, 0.64232795363673878)\n"
     ]
    },
    {
     "data": {
      "image/png": "[encoded data removed]",
      "text/plain": [
       "<matplotlib.figure.Figure at 0x2ac12b543e90>"
      ]
     },
     "metadata": {},
     "output_type": "display_data"
    }
   ],
   "source": [
    "for d in ['early_learn', 'late_learn', 'early_nonlearn', 'late_nonlearn']:\n",
    "    print \"Mean {0}: \".format(d), np.mean(caud_chart['{0}'.format(d)])\n",
    "    print \"STD {0} : \".format(d), np.std(caud_chart['{0}'.format(d)])\n",
    "    print \"\"\n",
    "print \"Early vs. Late Learn t-test: \", stats.ttest_rel(caud_chart['early_learn'], caud_chart['late_learn'])[:], \"**\"\n",
    "print \"Early vs. Late Nonlearn t-test: \",stats.ttest_rel(caud_chart['early_nonlearn'], caud_chart['late_nonlearn'])[:]\n",
    "N = 4\n",
    "conditions = ['early_learn', 'late_learn', 'early_nonlearn', 'late_nonlearn']\n",
    "caud_allsubjs = [caud_chart['early_learn'], caud_chart['late_learn'],\n",
    "                 caud_chart['early_nonlearn'], caud_chart['late_nonlearn']]\n",
    "ind = np.arange(N)\n",
    "fig, ax = plt.subplots(figsize = (8,6))\n",
    "ax0 = sns.boxplot(data = caud_allsubjs, color = \"#f9f96d\", width = 0.3)\n",
    "ax2 = sns.swarmplot(data = caud_allsubjs, color='.25')\n",
    "ax.set_xticks(ind)\n",
    "ax.set_xticklabels(conditions)\n",
    "ax.set_ylabel(\"Arbitrary units\")\n",
    "ax.set_title(\"Caudate\")\n",
    "#plt.savefig(\"/home/arenf001/halves-caud.jpg\", dpi = 1080)\n",
    "plt.show()"
   ]
  },
  {
   "cell_type": "code",
   "execution_count": 30,
   "metadata": {
    "collapsed": false
   },
   "outputs": [
    {
     "name": "stdout",
     "output_type": "stream",
     "text": [
      "Mean early :  2.00776326198\n",
      "STD early:  2.86174825052\n",
      "\n",
      "Mean late :  0.819827408775\n",
      "STD late:  2.7585413403\n",
      "\n",
      "Early vs. Late t-test:  (2.7396526381823811, 0.013466239080495499) *\n"
     ]
    },
    {
     "data": {
      "image/png": "[encoded data removed]",
      "text/plain": [
       "<matplotlib.figure.Figure at 0x2ac12ddd8290>"
      ]
     },
     "metadata": {},
     "output_type": "display_data"
    }
   ],
   "source": [
    "plot3 = {}\n",
    "plot3['early'] = all_data_df[['caud_all_early_learn','caud_all_early_nonlearn']].mean(axis=1)\n",
    "plot3['late'] = all_data_df[['caud_all_late_learn','caud_all_late_nonlearn']].mean(axis=1)\n",
    "plot3_df = pd.DataFrame.from_dict(plot3)\n",
    "\n",
    "sns.set_style(\"white\")\n",
    "for d in ['early', 'late']:\n",
    "    print \"Mean {0} : \".format(d), np.mean(plot3['{0}'.format(d)])\n",
    "    print \"STD {0}: \".format(d), np.std(plot3['{0}'.format(d)])\n",
    "    print \"\"    \n",
    "print \"Early vs. Late t-test: \", stats.ttest_rel(plot3['early'], plot3['late'])[:], \"*\"\n",
    "                       \n",
    "N = 2\n",
    "conditions = ['early', 'late']\n",
    "caud_allsubjs = [plot3['early'], plot3['late']]\n",
    "ind = np.arange(N)\n",
    "fig, ax = plt.subplots(figsize = (6,5))\n",
    "ax0 = sns.boxplot(data = caud_allsubjs, color = \"#f9f96d\", width = 0.3)\n",
    "ax2 = sns.swarmplot(data = caud_allsubjs, color='.25')\n",
    "ax.set_xticks(ind)\n",
    "ax.set_xticklabels(conditions)\n",
    "ax.set_ylabel(\"Arbitrary units\")\n",
    "ax.set_title(\"Caudate\")\n",
    "#plt.savefig(\"/home/arenf001/halves-caud2.jpg\", dpi = 1080)\n",
    "plt.show()"
   ]
  },
  {
   "cell_type": "markdown",
   "metadata": {},
   "source": [
    "## Putamen"
   ]
  },
  {
   "cell_type": "code",
   "execution_count": 26,
   "metadata": {
    "collapsed": true
   },
   "outputs": [],
   "source": [
    "put_chart = {}\n",
    "for x in ['early_learn', 'late_learn', 'early_nonlearn', 'late_nonlearn']:\n",
    "    put_chart['{0}'.format(x)] = all_data_df['put_all_{0}'.format(x)] \n",
    "put_chart_df = pd.DataFrame.from_dict(put_chart)"
   ]
  },
  {
   "cell_type": "code",
   "execution_count": 27,
   "metadata": {
    "collapsed": false
   },
   "outputs": [
    {
     "data": {
      "text/html": [
       "<div>\n",
       "<style scoped>\n",
       "    .dataframe tbody tr th:only-of-type {\n",
       "        vertical-align: middle;\n",
       "    }\n",
       "\n",
       "    .dataframe tbody tr th {\n",
       "        vertical-align: top;\n",
       "    }\n",
       "\n",
       "    .dataframe thead th {\n",
       "        text-align: right;\n",
       "    }\n",
       "</style>\n",
       "<table border=\"1\" class=\"dataframe\">\n",
       "  <thead>\n",
       "    <tr style=\"text-align: right;\">\n",
       "      <th></th>\n",
       "      <th>early_learn</th>\n",
       "      <th>early_nonlearn</th>\n",
       "      <th>late_learn</th>\n",
       "      <th>late_nonlearn</th>\n",
       "    </tr>\n",
       "  </thead>\n",
       "  <tbody>\n",
       "    <tr>\n",
       "      <th>0</th>\n",
       "      <td>4.126452</td>\n",
       "      <td>5.809579</td>\n",
       "      <td>0.294266</td>\n",
       "      <td>4.571041</td>\n",
       "    </tr>\n",
       "    <tr>\n",
       "      <th>1</th>\n",
       "      <td>-3.585522</td>\n",
       "      <td>-5.755162</td>\n",
       "      <td>-3.506670</td>\n",
       "      <td>-3.372800</td>\n",
       "    </tr>\n",
       "    <tr>\n",
       "      <th>2</th>\n",
       "      <td>0.807962</td>\n",
       "      <td>-0.579922</td>\n",
       "      <td>0.252270</td>\n",
       "      <td>0.461027</td>\n",
       "    </tr>\n",
       "    <tr>\n",
       "      <th>3</th>\n",
       "      <td>-1.019342</td>\n",
       "      <td>-1.923424</td>\n",
       "      <td>-1.099221</td>\n",
       "      <td>-1.063372</td>\n",
       "    </tr>\n",
       "    <tr>\n",
       "      <th>4</th>\n",
       "      <td>-0.738825</td>\n",
       "      <td>-0.100612</td>\n",
       "      <td>-1.359436</td>\n",
       "      <td>-1.201502</td>\n",
       "    </tr>\n",
       "    <tr>\n",
       "      <th>5</th>\n",
       "      <td>0.102766</td>\n",
       "      <td>-0.828469</td>\n",
       "      <td>1.073618</td>\n",
       "      <td>-0.020148</td>\n",
       "    </tr>\n",
       "    <tr>\n",
       "      <th>6</th>\n",
       "      <td>-3.583837</td>\n",
       "      <td>-1.907971</td>\n",
       "      <td>-3.864843</td>\n",
       "      <td>-2.323383</td>\n",
       "    </tr>\n",
       "    <tr>\n",
       "      <th>7</th>\n",
       "      <td>0.784315</td>\n",
       "      <td>0.166065</td>\n",
       "      <td>-0.837664</td>\n",
       "      <td>-2.104578</td>\n",
       "    </tr>\n",
       "    <tr>\n",
       "      <th>8</th>\n",
       "      <td>1.434823</td>\n",
       "      <td>-1.724417</td>\n",
       "      <td>1.047790</td>\n",
       "      <td>-0.183129</td>\n",
       "    </tr>\n",
       "    <tr>\n",
       "      <th>9</th>\n",
       "      <td>1.521705</td>\n",
       "      <td>1.841101</td>\n",
       "      <td>2.390874</td>\n",
       "      <td>2.279006</td>\n",
       "    </tr>\n",
       "    <tr>\n",
       "      <th>10</th>\n",
       "      <td>1.478874</td>\n",
       "      <td>5.094559</td>\n",
       "      <td>2.108034</td>\n",
       "      <td>1.608607</td>\n",
       "    </tr>\n",
       "    <tr>\n",
       "      <th>11</th>\n",
       "      <td>2.370747</td>\n",
       "      <td>2.371299</td>\n",
       "      <td>2.196074</td>\n",
       "      <td>3.833285</td>\n",
       "    </tr>\n",
       "    <tr>\n",
       "      <th>12</th>\n",
       "      <td>2.071129</td>\n",
       "      <td>0.101535</td>\n",
       "      <td>2.416049</td>\n",
       "      <td>2.843939</td>\n",
       "    </tr>\n",
       "    <tr>\n",
       "      <th>13</th>\n",
       "      <td>2.481537</td>\n",
       "      <td>3.258608</td>\n",
       "      <td>-0.530969</td>\n",
       "      <td>0.459040</td>\n",
       "    </tr>\n",
       "    <tr>\n",
       "      <th>14</th>\n",
       "      <td>-2.549018</td>\n",
       "      <td>-3.455843</td>\n",
       "      <td>-2.283324</td>\n",
       "      <td>-1.251516</td>\n",
       "    </tr>\n",
       "    <tr>\n",
       "      <th>15</th>\n",
       "      <td>2.767339</td>\n",
       "      <td>1.735229</td>\n",
       "      <td>0.052456</td>\n",
       "      <td>1.450518</td>\n",
       "    </tr>\n",
       "    <tr>\n",
       "      <th>16</th>\n",
       "      <td>1.451376</td>\n",
       "      <td>1.842336</td>\n",
       "      <td>0.269407</td>\n",
       "      <td>2.588956</td>\n",
       "    </tr>\n",
       "    <tr>\n",
       "      <th>17</th>\n",
       "      <td>-0.647087</td>\n",
       "      <td>-1.765411</td>\n",
       "      <td>-0.027535</td>\n",
       "      <td>-0.257766</td>\n",
       "    </tr>\n",
       "    <tr>\n",
       "      <th>18</th>\n",
       "      <td>1.430864</td>\n",
       "      <td>2.195923</td>\n",
       "      <td>0.196173</td>\n",
       "      <td>-0.858316</td>\n",
       "    </tr>\n",
       "  </tbody>\n",
       "</table>\n",
       "</div>"
      ],
      "text/plain": [
       "    early_learn  early_nonlearn  late_learn  late_nonlearn\n",
       "0      4.126452        5.809579    0.294266       4.571041\n",
       "1     -3.585522       -5.755162   -3.506670      -3.372800\n",
       "2      0.807962       -0.579922    0.252270       0.461027\n",
       "3     -1.019342       -1.923424   -1.099221      -1.063372\n",
       "4     -0.738825       -0.100612   -1.359436      -1.201502\n",
       "5      0.102766       -0.828469    1.073618      -0.020148\n",
       "6     -3.583837       -1.907971   -3.864843      -2.323383\n",
       "7      0.784315        0.166065   -0.837664      -2.104578\n",
       "8      1.434823       -1.724417    1.047790      -0.183129\n",
       "9      1.521705        1.841101    2.390874       2.279006\n",
       "10     1.478874        5.094559    2.108034       1.608607\n",
       "11     2.370747        2.371299    2.196074       3.833285\n",
       "12     2.071129        0.101535    2.416049       2.843939\n",
       "13     2.481537        3.258608   -0.530969       0.459040\n",
       "14    -2.549018       -3.455843   -2.283324      -1.251516\n",
       "15     2.767339        1.735229    0.052456       1.450518\n",
       "16     1.451376        1.842336    0.269407       2.588956\n",
       "17    -0.647087       -1.765411   -0.027535      -0.257766\n",
       "18     1.430864        2.195923    0.196173      -0.858316"
      ]
     },
     "execution_count": 27,
     "metadata": {},
     "output_type": "execute_result"
    }
   ],
   "source": [
    "put_chart_df"
   ]
  },
  {
   "cell_type": "code",
   "execution_count": 28,
   "metadata": {
    "collapsed": false,
    "scrolled": true
   },
   "outputs": [
    {
     "name": "stdout",
     "output_type": "stream",
     "text": [
      "Mean early_learn:  0.56348729761\n",
      "STD early_learn:  2.06366698282\n",
      "\n",
      "Mean late_learn:  -0.0638237466153\n",
      "STD late_learn:  1.77327126464\n",
      "\n",
      "Mean early_nonlearn:  0.335526398922\n",
      "STD early_nonlearn:  2.79087719402\n",
      "\n",
      "Mean late_nonlearn:  0.392574210137\n",
      "STD late_nonlearn:  2.10188681308\n",
      "\n",
      "Early vs. Late Learn t-test:  (2.0243917817050567, 0.058028354330264133)\n",
      "Early vs. Late Nonlearn t-test:  (-0.13037734739649287, 0.89771390085613256)\n"
     ]
    },
    {
     "data": {
      "image/png": "[encoded data removed]",
      "text/plain": [
       "<matplotlib.figure.Figure at 0x2ac12dded210>"
      ]
     },
     "metadata": {},
     "output_type": "display_data"
    }
   ],
   "source": [
    "for d in ['early_learn', 'late_learn', 'early_nonlearn', 'late_nonlearn']:\n",
    "    print \"Mean {0}: \".format(d), np.mean(put_chart['{0}'.format(d)])\n",
    "    print \"STD {0}: \".format(d), np.std(put_chart['{0}'.format(d)])\n",
    "    print \"\"\n",
    "print \"Early vs. Late Learn t-test: \", stats.ttest_rel(put_chart['early_learn'], put_chart['late_learn'])[:]\n",
    "print \"Early vs. Late Nonlearn t-test: \",stats.ttest_rel(put_chart['early_nonlearn'], put_chart['late_nonlearn'])[:]\n",
    "\n",
    "N = 4\n",
    "conditions = ['early_learn', 'late_learn', 'early_nonlearn', 'late_nonlearn']\n",
    "put_allsubjs = [put_chart['early_learn'], put_chart['late_learn'],\n",
    "                put_chart['early_nonlearn'], put_chart['late_nonlearn']]\n",
    "ind = np.arange(N)\n",
    "fig, ax = plt.subplots(figsize = (8,6))\n",
    "ax0 = sns.boxplot(data = put_allsubjs, color = \"#c34aef\", width = 0.3)\n",
    "ax2 = sns.swarmplot(data = put_allsubjs, color='.25')\n",
    "ax.set_xticks(ind)\n",
    "ax.set_xticklabels(conditions)\n",
    "ax.set_ylabel(\"Arbitrary units\")\n",
    "ax.set_title(\"Putamen\")\n",
    "#plt.savefig(\"/home/arenf001/halves-put.jpg\", dpi = 1080)\n",
    "plt.show()"
   ]
  },
  {
   "cell_type": "code",
   "execution_count": 29,
   "metadata": {
    "collapsed": false
   },
   "outputs": [
    {
     "name": "stdout",
     "output_type": "stream",
     "text": [
      "Mean early:  0.449506848266\n",
      "STD early:  2.32982932906\n",
      "\n",
      "Mean late:  0.164375231761\n",
      "STD late:  1.82305538787\n",
      "\n",
      "Early vs. Late t-test:  (0.88319822631611933, 0.38877297719330028)\n"
     ]
    },
    {
     "data": {
      "image/png": "[encoded data removed]",
      "text/plain": [
       "<matplotlib.figure.Figure at 0x2ac12dde4910>"
      ]
     },
     "metadata": {},
     "output_type": "display_data"
    }
   ],
   "source": [
    "plot4 = {}\n",
    "plot4['early'] = all_data_df[['put_all_early_learn','put_all_early_nonlearn']].mean(axis=1)\n",
    "plot4['late'] = all_data_df[['put_all_late_learn','put_all_late_nonlearn']].mean(axis=1)\n",
    "plot4_df = pd.DataFrame.from_dict(plot4)\n",
    "\n",
    "for d in ['early', 'late']:\n",
    "    print \"Mean {0}: \".format(d), np.mean(plot4['{0}'.format(d)])\n",
    "    print \"STD {0}: \".format(d), np.std(plot4['{0}'.format(d)])\n",
    "    print \"\"    \n",
    "print \"Early vs. Late t-test: \", stats.ttest_rel(plot4['early'], plot4['late'])[:]\n",
    "                       \n",
    "N = 2\n",
    "conditions = ['early', 'late']\n",
    "put_allsubjs = [plot4['early'], plot4['late']]\n",
    "ind = np.arange(N)\n",
    "fig, ax = plt.subplots(figsize = (6,5))\n",
    "ax0 = sns.boxplot(data = put_allsubjs, color = \"#c34aef\", width = 0.3)\n",
    "ax2 = sns.swarmplot(data = put_allsubjs, color='.25')\n",
    "ax.set_xticks(ind)\n",
    "ax.set_xticklabels(conditions)\n",
    "ax.set_ylabel(\"Arbitrary units\")\n",
    "#plt.savefig(\"/home/arenf001/halves-put2.jpg\", dpi = 1080)\n",
    "ax.set_title(\"Putamen\")\n",
    "plt.show()"
   ]
  },
  {
   "cell_type": "code",
   "execution_count": null,
   "metadata": {
    "collapsed": true
   },
   "outputs": [],
   "source": []
  }
 ],
 "metadata": {
  "anaconda-cloud": {},
  "kernelspec": {
   "display_name": "Python 2",
   "language": "python",
   "name": "python2"
  },
  "language_info": {
   "codemirror_mode": {
    "name": "ipython",
    "version": 2
   },
   "file_extension": ".py",
   "mimetype": "text/x-python",
   "name": "python",
   "nbconvert_exporter": "python",
   "pygments_lexer": "ipython2",
   "version": "2.7.12"
  }
 },
 "nbformat": 4,
 "nbformat_minor": 2
}
