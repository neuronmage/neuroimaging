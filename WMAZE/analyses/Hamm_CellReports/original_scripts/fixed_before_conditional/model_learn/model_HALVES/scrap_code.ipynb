{
 "cells": [
  {
   "cell_type": "code",
   "execution_count": null,
   "metadata": {
    "collapsed": false
   },
   "outputs": [],
   "source": [
    "for d in ['early_learn_event', 'early_learn_pmod', 'late_learn_event', 'late_learn_pmod',\n",
    "          'early_nonlearn_event', 'early_nonlearn_pmod', 'late_nonlearn_event', 'late_nonlearn_pmod']:\n",
    "    print \"Mean {0}: \".format(d), np.mean(put_chart['{0}'.format(d)])\n",
    "    print \"STD {0}: \".format(d), np.std(put_chart['{0}'.format(d)])\n",
    "    print \"\"\n",
    "print \"Early Learning: \", stats.ttest_rel(put_chart['early_learn_event'], put_chart['early_learn_pmod'])[:], \"**\"\n",
    "print \"Late Learning: \", stats.ttest_rel(put_chart['late_learn_event'], put_chart['late_learn_pmod'],)[:]\n",
    "print \"Early Nonlearning: \", stats.ttest_rel(put_chart['early_nonlearn_event'], put_chart['early_nonlearn_pmod'])[:]\n",
    "print \"Late Nonlearning: \", stats.ttest_rel( put_chart['late_nonlearn_event'], put_chart['late_nonlearn_pmod'])[:]\n",
    "    \n",
    "N = 4\n",
    "conditions = ['Run1 learn event', 'Run1 learn pmod', 'Run2 learn event', 'Run2 learn pmod', \n",
    "              'Run1 nonlearn event', 'Run1 nonlearn pmod', 'Run2 nonlearn event', 'Run2 nonlearn pmod'] \n",
    "\n",
    "put_allsubjs = [put_chart['early_learn_event'], put_chart['early_learn_pmod'],\n",
    "                 put_chart['late_learn_event'], put_chart['late_learn_pmod'],\n",
    "                 put_chart['early_nonlearn_event'], put_chart['early_nonlearn_pmod'],\n",
    "                 put_chart['late_nonlearn_event'], put_chart['late_nonlearn_pmod']] \n",
    "\n",
    "ind = np.arange(N)\n",
    "for i in range(2):\n",
    "    fig, ax = plt.subplots(figsize = (8,6)) \n",
    "    if i == 0:\n",
    "        ax0 = sns.boxplot(data = put_allsubjs[:4], color = \"#c34aef\", width = 0.3) \n",
    "        ax2 = sns.swarmplot(data = put_allsubjs[:4], color='.25') \n",
    "        ax.set_xticklabels(conditions[:4]) \n",
    "        ax.set_title(\"Putamen - Learning\")         \n",
    "    else:\n",
    "        ax0 = sns.boxplot(data = put_allsubjs[4:], color = \"#c34aef\", width = 0.3) \n",
    "        ax2 = sns.swarmplot(data = put_allsubjs[4:], color='.25') \n",
    "        ax.set_xticklabels(conditions[4:])\n",
    "        ax.set_title(\"Putamen - NonLearning\") \n",
    "    ax.set_xticks(ind) \n",
    "    ax.set_ylabel(\"Arbitrary units\") \n",
    "    #plt.savefig(\"/home/arenf001/halvespma-putC{0}.jpg\".format(i), dpi = 1080)\n",
    "plt.show() "
   ]
  },
  {
   "cell_type": "code",
   "execution_count": null,
   "metadata": {
    "collapsed": true
   },
   "outputs": [],
   "source": []
  }
 ],
 "metadata": {
  "kernelspec": {
   "display_name": "Python 2",
   "language": "python",
   "name": "python2"
  },
  "language_info": {
   "codemirror_mode": {
    "name": "ipython",
    "version": 2
   },
   "file_extension": ".py",
   "mimetype": "text/x-python",
   "name": "python",
   "nbconvert_exporter": "python",
   "pygments_lexer": "ipython2",
   "version": "2.7.12"
  }
 },
 "nbformat": 4,
 "nbformat_minor": 1
}
