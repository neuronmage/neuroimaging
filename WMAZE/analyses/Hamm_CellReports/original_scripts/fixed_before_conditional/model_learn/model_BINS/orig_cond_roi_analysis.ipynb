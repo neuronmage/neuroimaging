{
 "cells": [
  {
   "cell_type": "markdown",
   "metadata": {},
   "source": [
    "# Model Conditional Curve "
   ]
  },
  {
   "cell_type": "code",
   "execution_count": 2,
   "metadata": {
    "collapsed": true,
    "scrolled": true
   },
   "outputs": [],
   "source": [
    "from glob import glob\n",
    "from scipy import stats\n",
    "from math import sqrt\n",
    "import nibabel as nb\n",
    "import pandas as pd\n",
    "import numpy as np\n",
    "import seaborn as sns\n",
    "import matplotlib.pyplot as plt\n",
    "%matplotlib inline\n",
    "sns.set_palette('muted')\n",
    "\n",
    "sids = ['WMAZE_001', 'WMAZE_002', 'WMAZE_004', 'WMAZE_005', 'WMAZE_006',\n",
    "        'WMAZE_007', 'WMAZE_008', 'WMAZE_009', 'WMAZE_010', 'WMAZE_012',\n",
    "        'WMAZE_017', 'WMAZE_018', 'WMAZE_019', 'WMAZE_020', 'WMAZE_021',\n",
    "        'WMAZE_022', 'WMAZE_023', 'WMAZE_024', 'WMAZE_026', 'WMAZE_027']\n",
    "\n",
    "proj_dir = '/home/data/madlab/data/mri/wmaze' \n",
    "mask_filenames = []\n",
    "cope_files = []\n",
    "for SID in sids:\n",
    "    mask_filenames_glob = glob(proj_dir + '/roi_analysis/MRthesis/fb4c_2/mask/anat_masks/_subject_id_' \n",
    "                               + SID + '/_anatmask_xfm*/*')\n",
    "    mask_filenames.append(mask_filenames_glob)\n",
    "    subjcopes_glob = glob(proj_dir + '/scndlvl/wmaze_MRthesis/fixed_before_conditional/old/model_cond_curve/' \n",
    "                          + SID + '/fixedfx/cope_curve*')\n",
    "    subjcopes_glob.sort()\n",
    "    cope_files.append(subjcopes_glob)    \n",
    "    if len(cope_files[-1]) == 0 or len(cope_files[-1]) != 3:\n",
    "        print(SID)"
   ]
  },
  {
   "cell_type": "markdown",
   "metadata": {},
   "source": [
    "## Cell to double-check the array indexing"
   ]
  },
  {
   "cell_type": "code",
   "execution_count": 3,
   "metadata": {
    "collapsed": false
   },
   "outputs": [
    {
     "name": "stdout",
     "output_type": "stream",
     "text": [
      "(0, 'lh-hippocampus_warped')\n",
      "(1, 'lh_caudate_anat_mask_warped')\n",
      "(2, 'rh_caudate_anat_mask_warped')\n",
      "(3, 'lh-dmPFC_warped')\n",
      "(4, 'lh-mPFC_lausanne_warped')\n",
      "(5, 'lh-mPFC_fs_warped')\n",
      "(6, 'lh-motor_warped')\n",
      "(7, 'lh-mPFC_fs-3reg_warped')\n",
      "(8, 'rh-hippocampus_warped')\n",
      "(9, 'rh-dmPFC_warped')\n",
      "(10, 'rh-mPFC_lausanne_warped')\n",
      "(11, 'rh-mPFC_fs_warped')\n",
      "(12, 'rh-motor_warped')\n",
      "(13, 'rh-mPFC_fs-3reg_warped')\n",
      "(14, 'lh-putamen_warped')\n",
      "(15, 'rh-putamen_warped')\n"
     ]
    }
   ],
   "source": [
    "#change first index of cope_files to indicate participant index in sids array\n",
    "for i, curr_mask in enumerate(mask_filenames[0]):\n",
    "    print(i, mask_filenames[0][i].split('/')[-1][:-7])"
   ]
  },
  {
   "cell_type": "code",
   "execution_count": 16,
   "metadata": {
    "collapsed": false
   },
   "outputs": [
    {
     "name": "stdout",
     "output_type": "stream",
     "text": [
      "(0, 'curve_bin1')\n",
      "(1, 'curve_bin2')\n",
      "(2, 'curve_bin3')\n"
     ]
    }
   ],
   "source": [
    "for i, curr_cope in enumerate(cope_files[0]):\n",
    "    print(i, cope_files[0][i].split('/')[-1][5:-7]) "
   ]
  },
  {
   "cell_type": "markdown",
   "metadata": {},
   "source": [
    "### Use binarized mask to obtain activation in left & right hemisphere for each region of interest"
   ]
  },
  {
   "cell_type": "code",
   "execution_count": 55,
   "metadata": {
    "collapsed": true,
    "scrolled": true
   },
   "outputs": [],
   "source": [
    "all_data = {'subjid':[],\n",
    "            'lhhp_bin1':[], 'rhhp_bin1':[], 'lhhp_bin2':[], 'rhhp_bin2':[], 'lhhp_bin3':[], 'rhhp_bin3':[],\n",
    "            'lhmpfc_bin1':[], 'rhmpfc_bin1':[], 'lhmpfc_bin2':[], 'rhmpfc_bin2':[], 'lhmpfc_bin3':[], 'rhmpfc_bin3':[],\n",
    "            'lhcaud_bin1':[], 'rhcaud_bin1':[], 'lhcaud_bin2':[], 'rhcaud_bin2':[], 'lhcaud_bin3':[], 'rhcaud_bin3':[],\n",
    "            'lhput_bin1':[], 'rhput_bin1':[], 'lhput_bin2':[], 'rhput_bin2':[], 'lhput_bin3':[], 'rhput_bin3':[]}\n",
    "\n",
    "for i in range(len(sids)):\n",
    "    all_data['subjid'].append(sids[i])\n",
    "    lh_hp_img = nb.load(mask_filenames[i][0])\n",
    "    rh_hp_img = nb.load(mask_filenames[i][8])\n",
    "    lh_mpfc_img = nb.load(mask_filenames[i][5])\n",
    "    rh_mpfc_img = nb.load(mask_filenames[i][11])\n",
    "    lh_caud_img = nb.load(mask_filenames[i][1])\n",
    "    rh_caud_img = nb.load(mask_filenames[i][2])\n",
    "    lh_put_img = nb.load(mask_filenames[i][14])\n",
    "    rh_put_img = nb.load(mask_filenames[i][15])\n",
    "    \n",
    "    bin1_img = nb.load(cope_files[i][0])\n",
    "    bin2_img = nb.load(cope_files[i][1])\n",
    "    bin3_img = nb.load(cope_files[i][2])\n",
    "\n",
    "    region = ['hp', 'mpfc', 'caud', 'put']\n",
    "    learn_bin = ['bin1', 'bin2', 'bin3']\n",
    "   \n",
    "    for r in region:\n",
    "        for l in learn_bin:\n",
    "            lh_data = eval('{0}_img.get_data()[lh_{1}_img.get_data() > 0.]'.format(l,r))\n",
    "            all_data['lh{0}_{1}'.format(r,l)].append(np.mean(lh_data))            \n",
    "            rh_data = eval('{0}_img.get_data()[rh_{1}_img.get_data() > 0.]'.format(l,r))\n",
    "            all_data['rh{0}_{1}'.format(r,l)].append(np.mean(rh_data))\n",
    "\n",
    "all_data_df = pd.DataFrame(all_data)    "
   ]
  },
  {
   "cell_type": "markdown",
   "metadata": {},
   "source": [
    "### Combine the two hemispheres to create one regional average"
   ]
  },
  {
   "cell_type": "code",
   "execution_count": 56,
   "metadata": {
    "collapsed": true,
    "scrolled": true
   },
   "outputs": [],
   "source": [
    "region = ['hp', 'mpfc', 'caud', 'put']\n",
    "learn_bin = ['bin1', 'bin2', 'bin3']\n",
    "plot = {}\n",
    "for r in region:\n",
    "    for l in learn_bin:\n",
    "        all_data_df['{0}_all_{1}'.format(r,l)] = (all_data_df['lh{0}_{1}'.format(r,l)] \n",
    "                                                  + all_data_df['rh{0}_{1}'.format(r,l)])/2.\n",
    "        plot['{0}_{1}'.format(r,l)] = all_data_df['{0}_all_{1}'.format(r,l)]\n",
    "plot_df = pd.DataFrame.from_dict(plot)"
   ]
  },
  {
   "cell_type": "markdown",
   "metadata": {},
   "source": [
    "## Hippocampus"
   ]
  },
  {
   "cell_type": "code",
   "execution_count": 57,
   "metadata": {
    "collapsed": true
   },
   "outputs": [],
   "source": [
    "hp_chart = {}\n",
    "for x in ['bin1', 'bin2', 'bin3']:\n",
    "    hp_chart['{0}'.format(x)] = all_data_df['hp_all_{0}'.format(x)] \n",
    "hp_chart_df = pd.DataFrame.from_dict(hp_chart)"
   ]
  },
  {
   "cell_type": "code",
   "execution_count": null,
   "metadata": {
    "collapsed": true
   },
   "outputs": [],
   "source": [
    "hp_chart_df"
   ]
  },
  {
   "cell_type": "code",
   "execution_count": 58,
   "metadata": {
    "collapsed": false,
    "scrolled": false
   },
   "outputs": [
    {
     "name": "stdout",
     "output_type": "stream",
     "text": [
      "Mean bin1:  -1.363941985\n",
      "STD bin1:  2.09351256269\n",
      "\n",
      "Mean bin2:  -1.08889696491\n",
      "STD bin2:  2.40329736257\n",
      "\n",
      "Mean bin3:  -0.748854875565\n",
      "STD bin3:  2.35451148305\n",
      "\n",
      "Bin1 vs. Bin3:  Ttest_relResult(statistic=-2.3670255513655296, pvalue=0.028703319982908513)\n"
     ]
    },
    {
     "data": {
      "image/png": "[encoded data removed]",
      "text/plain": [
       "<matplotlib.figure.Figure at 0x2b50e91c1050>"
      ]
     },
     "metadata": {},
     "output_type": "display_data"
    }
   ],
   "source": [
    "for d in ['bin1', 'bin2', 'bin3']:\n",
    "    print \"Mean {0}: \".format(d), np.mean(hp_chart['{0}'.format(d)])\n",
    "    print \"STD {0}: \".format(d), np.std(hp_chart['{0}'.format(d)])\n",
    "    print \"\"\n",
    "print \"Bin1 vs. Bin3: \", stats.ttest_rel(hp_chart['bin1'], hp_chart['bin3'])\n",
    "N = 3\n",
    "conditions = ['Learning Bin1', 'Learning Bin2', 'Learning Bin3']\n",
    "hp_allsubjs = [hp_chart['bin1'], hp_chart['bin2'], hp_chart['bin3']]\n",
    "ind = np.arange(N)\n",
    "fig, ax = plt.subplots(figsize = (8,5))\n",
    "ax0 = sns.boxplot(data = hp_allsubjs, color = \"#278fea\", width = 0.3)\n",
    "ax2 = sns.swarmplot(data = hp_allsubjs, color='.25')\n",
    "ax.set_xticks(ind)\n",
    "ax.set_xticklabels(conditions)\n",
    "ax.set_ylabel(\"Arbitrary units\")\n",
    "ax.set_title(\"HPC\")\n",
    "plt.show()"
   ]
  },
  {
   "cell_type": "markdown",
   "metadata": {},
   "source": [
    "## mPFC"
   ]
  },
  {
   "cell_type": "code",
   "execution_count": 59,
   "metadata": {
    "collapsed": true
   },
   "outputs": [],
   "source": [
    "mpfc_chart = {}\n",
    "for x in ['bin1', 'bin2', 'bin3']:\n",
    "    mpfc_chart['{0}'.format(x)] = all_data_df['mpfc_all_{0}'.format(x)] \n",
    "mpfc_chart_df = pd.DataFrame.from_dict(mpfc_chart)"
   ]
  },
  {
   "cell_type": "code",
   "execution_count": 60,
   "metadata": {
    "collapsed": false
   },
   "outputs": [
    {
     "data": {
      "text/html": [
       "<div>\n",
       "<style scoped>\n",
       "    .dataframe tbody tr th:only-of-type {\n",
       "        vertical-align: middle;\n",
       "    }\n",
       "\n",
       "    .dataframe tbody tr th {\n",
       "        vertical-align: top;\n",
       "    }\n",
       "\n",
       "    .dataframe thead th {\n",
       "        text-align: right;\n",
       "    }\n",
       "</style>\n",
       "<table border=\"1\" class=\"dataframe\">\n",
       "  <thead>\n",
       "    <tr style=\"text-align: right;\">\n",
       "      <th></th>\n",
       "      <th>bin1</th>\n",
       "      <th>bin2</th>\n",
       "      <th>bin3</th>\n",
       "    </tr>\n",
       "  </thead>\n",
       "  <tbody>\n",
       "    <tr>\n",
       "      <th>0</th>\n",
       "      <td>0.065771</td>\n",
       "      <td>3.092899</td>\n",
       "      <td>2.558825</td>\n",
       "    </tr>\n",
       "    <tr>\n",
       "      <th>1</th>\n",
       "      <td>-3.589852</td>\n",
       "      <td>-3.654166</td>\n",
       "      <td>-3.530211</td>\n",
       "    </tr>\n",
       "    <tr>\n",
       "      <th>2</th>\n",
       "      <td>0.851871</td>\n",
       "      <td>-0.296773</td>\n",
       "      <td>-2.043519</td>\n",
       "    </tr>\n",
       "    <tr>\n",
       "      <th>3</th>\n",
       "      <td>0.127769</td>\n",
       "      <td>0.972959</td>\n",
       "      <td>-0.245714</td>\n",
       "    </tr>\n",
       "    <tr>\n",
       "      <th>4</th>\n",
       "      <td>-2.799586</td>\n",
       "      <td>-2.713010</td>\n",
       "      <td>-1.529015</td>\n",
       "    </tr>\n",
       "    <tr>\n",
       "      <th>5</th>\n",
       "      <td>2.957663</td>\n",
       "      <td>0.364324</td>\n",
       "      <td>3.299010</td>\n",
       "    </tr>\n",
       "    <tr>\n",
       "      <th>6</th>\n",
       "      <td>0.821516</td>\n",
       "      <td>1.570432</td>\n",
       "      <td>2.006929</td>\n",
       "    </tr>\n",
       "    <tr>\n",
       "      <th>7</th>\n",
       "      <td>-3.678367</td>\n",
       "      <td>-6.179242</td>\n",
       "      <td>-5.696481</td>\n",
       "    </tr>\n",
       "    <tr>\n",
       "      <th>8</th>\n",
       "      <td>-6.713032</td>\n",
       "      <td>-8.675179</td>\n",
       "      <td>-6.652923</td>\n",
       "    </tr>\n",
       "    <tr>\n",
       "      <th>9</th>\n",
       "      <td>-1.456021</td>\n",
       "      <td>-0.792126</td>\n",
       "      <td>0.646130</td>\n",
       "    </tr>\n",
       "    <tr>\n",
       "      <th>10</th>\n",
       "      <td>2.791252</td>\n",
       "      <td>1.999355</td>\n",
       "      <td>2.434906</td>\n",
       "    </tr>\n",
       "    <tr>\n",
       "      <th>11</th>\n",
       "      <td>1.021423</td>\n",
       "      <td>0.503692</td>\n",
       "      <td>0.353697</td>\n",
       "    </tr>\n",
       "    <tr>\n",
       "      <th>12</th>\n",
       "      <td>2.418609</td>\n",
       "      <td>3.113808</td>\n",
       "      <td>3.030367</td>\n",
       "    </tr>\n",
       "    <tr>\n",
       "      <th>13</th>\n",
       "      <td>0.257425</td>\n",
       "      <td>3.651524</td>\n",
       "      <td>0.613784</td>\n",
       "    </tr>\n",
       "    <tr>\n",
       "      <th>14</th>\n",
       "      <td>-4.361525</td>\n",
       "      <td>-2.078181</td>\n",
       "      <td>-4.385404</td>\n",
       "    </tr>\n",
       "    <tr>\n",
       "      <th>15</th>\n",
       "      <td>-4.354178</td>\n",
       "      <td>-1.710826</td>\n",
       "      <td>-2.905639</td>\n",
       "    </tr>\n",
       "    <tr>\n",
       "      <th>16</th>\n",
       "      <td>-3.590236</td>\n",
       "      <td>-4.935760</td>\n",
       "      <td>-3.128143</td>\n",
       "    </tr>\n",
       "    <tr>\n",
       "      <th>17</th>\n",
       "      <td>0.436270</td>\n",
       "      <td>1.799929</td>\n",
       "      <td>1.635749</td>\n",
       "    </tr>\n",
       "    <tr>\n",
       "      <th>18</th>\n",
       "      <td>-3.486105</td>\n",
       "      <td>-2.483442</td>\n",
       "      <td>-2.923484</td>\n",
       "    </tr>\n",
       "    <tr>\n",
       "      <th>19</th>\n",
       "      <td>2.359683</td>\n",
       "      <td>-2.962515</td>\n",
       "      <td>5.004825</td>\n",
       "    </tr>\n",
       "  </tbody>\n",
       "</table>\n",
       "</div>"
      ],
      "text/plain": [
       "        bin1      bin2      bin3\n",
       "0   0.065771  3.092899  2.558825\n",
       "1  -3.589852 -3.654166 -3.530211\n",
       "2   0.851871 -0.296773 -2.043519\n",
       "3   0.127769  0.972959 -0.245714\n",
       "4  -2.799586 -2.713010 -1.529015\n",
       "5   2.957663  0.364324  3.299010\n",
       "6   0.821516  1.570432  2.006929\n",
       "7  -3.678367 -6.179242 -5.696481\n",
       "8  -6.713032 -8.675179 -6.652923\n",
       "9  -1.456021 -0.792126  0.646130\n",
       "10  2.791252  1.999355  2.434906\n",
       "11  1.021423  0.503692  0.353697\n",
       "12  2.418609  3.113808  3.030367\n",
       "13  0.257425  3.651524  0.613784\n",
       "14 -4.361525 -2.078181 -4.385404\n",
       "15 -4.354178 -1.710826 -2.905639\n",
       "16 -3.590236 -4.935760 -3.128143\n",
       "17  0.436270  1.799929  1.635749\n",
       "18 -3.486105 -2.483442 -2.923484\n",
       "19  2.359683 -2.962515  5.004825"
      ]
     },
     "execution_count": 60,
     "metadata": {},
     "output_type": "execute_result"
    }
   ],
   "source": [
    "mpfc_chart_df"
   ]
  },
  {
   "cell_type": "code",
   "execution_count": 61,
   "metadata": {
    "collapsed": false
   },
   "outputs": [
    {
     "name": "stdout",
     "output_type": "stream",
     "text": [
      "Mean bin1:  -0.995982504543\n",
      "STD bin1:  2.78659754811\n",
      "\n",
      "Mean bin2:  -0.970614974201\n",
      "STD bin2:  3.21101390377\n",
      "\n",
      "Mean bin3:  -0.57281544134\n",
      "STD bin3:  3.16548633296\n",
      "\n",
      "Bin1 vs. Bin3:  Ttest_relResult(statistic=-1.3957341157338088, pvalue=0.1788928774878244)\n"
     ]
    },
    {
     "data": {
      "image/png": "[encoded data removed]",
      "text/plain": [
       "<matplotlib.figure.Figure at 0x2b50e9600e90>"
      ]
     },
     "metadata": {},
     "output_type": "display_data"
    }
   ],
   "source": [
    "for d in ['bin1', 'bin2', 'bin3']:\n",
    "    print \"Mean {0}: \".format(d), np.mean(mpfc_chart['{0}'.format(d)])\n",
    "    print \"STD {0}: \".format(d), np.std(mpfc_chart['{0}'.format(d)])\n",
    "    print \"\"\n",
    "print \"Bin1 vs. Bin3: \", stats.ttest_rel(mpfc_chart['bin1'], mpfc_chart['bin3'])\n",
    "N = 3\n",
    "conditions = ['Learning Bin1', 'Learning Bin2', 'Learning Bin3']\n",
    "mpfc_allsubjs = [mpfc_chart['bin1'], mpfc_chart['bin2'], mpfc_chart['bin3']]\n",
    "ind = np.arange(N)\n",
    "fig, ax = plt.subplots(figsize = (8,5))\n",
    "ax0 = sns.boxplot(data = mpfc_allsubjs, color = \"#f97401\", width = 0.3)\n",
    "ax2 = sns.swarmplot(data = mpfc_allsubjs, color='.25')\n",
    "ax.set_xticks(ind)\n",
    "ax.set_xticklabels(conditions)\n",
    "ax.set_ylabel(\"Arbitrary units\")\n",
    "ax.set_title(\"mPFC\")\n",
    "plt.show()"
   ]
  },
  {
   "cell_type": "markdown",
   "metadata": {},
   "source": [
    "## Caudate"
   ]
  },
  {
   "cell_type": "code",
   "execution_count": 62,
   "metadata": {
    "collapsed": true
   },
   "outputs": [],
   "source": [
    "caud_chart = {}\n",
    "for x in ['bin1', 'bin2', 'bin3']:\n",
    "    caud_chart['{0}'.format(x)] = all_data_df['caud_all_{0}'.format(x)] \n",
    "caud_chart_df = pd.DataFrame.from_dict(caud_chart)"
   ]
  },
  {
   "cell_type": "code",
   "execution_count": null,
   "metadata": {
    "collapsed": true
   },
   "outputs": [],
   "source": [
    "caud_chart_df"
   ]
  },
  {
   "cell_type": "code",
   "execution_count": 63,
   "metadata": {
    "collapsed": false,
    "scrolled": true
   },
   "outputs": [
    {
     "name": "stdout",
     "output_type": "stream",
     "text": [
      "Mean bin1:  2.13520215005\n",
      "STD bin1:  2.08103732683\n",
      "\n",
      "Mean bin2:  1.27767074071\n",
      "STD bin2:  2.63078846221\n",
      "\n",
      "Mean bin3:  1.01845246395\n",
      "STD bin3:  2.13043013506\n",
      "\n",
      "Bin1 vs. Bin2:  Ttest_relResult(statistic=2.1031119602812232, pvalue=0.049011307951048251)\n",
      "Bin1 vs. Bin3:  Ttest_relResult(statistic=3.1849870713790351, pvalue=0.0048754791078185209) **\n"
     ]
    },
    {
     "data": {
      "image/png": "[encoded data removed]",
      "text/plain": [
       "<matplotlib.figure.Figure at 0x2b50e9c6a610>"
      ]
     },
     "metadata": {},
     "output_type": "display_data"
    }
   ],
   "source": [
    "for d in ['bin1', 'bin2', 'bin3']:\n",
    "    print \"Mean {0}: \".format(d), np.mean(caud_chart['{0}'.format(d)])\n",
    "    print \"STD {0}: \".format(d), np.std(caud_chart['{0}'.format(d)])\n",
    "    print \"\"\n",
    "print \"Bin1 vs. Bin2: \", stats.ttest_rel(caud_chart['bin1'], caud_chart['bin2'])\n",
    "print \"Bin1 vs. Bin3: \", stats.ttest_rel(caud_chart['bin1'], caud_chart['bin3']), \"**\"\n",
    "N = 3\n",
    "conditions = ['Learning Bin1', 'Learning Bin2', 'Learning Bin3']\n",
    "caud_allsubjs = [caud_chart['bin1'], caud_chart['bin2'], caud_chart['bin3']]\n",
    "ind = np.arange(N)\n",
    "fig, ax = plt.subplots(figsize = (8,5))\n",
    "ax0 = sns.boxplot(data = caud_allsubjs, color = \"#f9f96d\", width = 0.3)\n",
    "ax2 = sns.swarmplot(data = caud_allsubjs, color='.25')\n",
    "ax.set_xticks(ind)\n",
    "ax.set_xticklabels(conditions)\n",
    "ax.set_ylabel(\"Arbitrary units\")\n",
    "ax.set_title(\"Caudate\")\n",
    "plt.show()"
   ]
  },
  {
   "cell_type": "markdown",
   "metadata": {},
   "source": [
    "## Putamen"
   ]
  },
  {
   "cell_type": "code",
   "execution_count": 49,
   "metadata": {
    "collapsed": true
   },
   "outputs": [],
   "source": [
    "put_chart = {}\n",
    "for x in ['bin1', 'bin2', 'bin3']:\n",
    "    put_chart['{0}'.format(x)] = all_data_df['put_all_{0}'.format(x)] \n",
    "put_chart_df = pd.DataFrame.from_dict(put_chart)"
   ]
  },
  {
   "cell_type": "code",
   "execution_count": null,
   "metadata": {
    "collapsed": true
   },
   "outputs": [],
   "source": [
    "put_chart_df"
   ]
  },
  {
   "cell_type": "code",
   "execution_count": 50,
   "metadata": {
    "collapsed": false
   },
   "outputs": [
    {
     "name": "stdout",
     "output_type": "stream",
     "text": [
      "Mean bin1:  0.337153174356\n",
      "STD bin1:  1.95348194947\n",
      "\n",
      "Mean bin2:  0.180644585378\n",
      "STD bin2:  2.14067506238\n",
      "\n",
      "Mean bin3:  0.439891786501\n",
      "STD bin3:  2.28450291688\n",
      "\n"
     ]
    },
    {
     "data": {
      "image/png": "[encoded data removed]",
      "text/plain": [
       "<matplotlib.figure.Figure at 0x2b50e9195fd0>"
      ]
     },
     "metadata": {},
     "output_type": "display_data"
    }
   ],
   "source": [
    "for d in ['bin1', 'bin2', 'bin3']:\n",
    "    print \"Mean {0}: \".format(d), np.mean(put_chart['{0}'.format(d)])\n",
    "    print \"STD {0}: \".format(d), np.std(put_chart['{0}'.format(d)])\n",
    "    print \"\"\n",
    "N = 3\n",
    "conditions = ['Learning Bin1', 'Learning Bin2', 'Learning Bin3']\n",
    "put_allsubjs = [put_chart['bin1'], put_chart['bin2'],  put_chart['bin3']]\n",
    "ind = np.arange(N)\n",
    "fig, ax = plt.subplots(figsize = (8,5))\n",
    "ax0 = sns.boxplot(data = put_allsubjs, color = \"#c34aef\", width = 0.3)\n",
    "ax2 = sns.swarmplot(data = put_allsubjs, color='.25')\n",
    "ax.set_xticks(ind)\n",
    "ax.set_xticklabels(conditions)\n",
    "ax.set_ylabel(\"Arbitrary units\")\n",
    "ax.set_title(\"Putamen\")\n",
    "plt.show()"
   ]
  },
  {
   "cell_type": "code",
   "execution_count": null,
   "metadata": {
    "collapsed": true
   },
   "outputs": [],
   "source": []
  }
 ],
 "metadata": {
  "anaconda-cloud": {},
  "kernelspec": {
   "display_name": "Python 2",
   "language": "python",
   "name": "python2"
  },
  "language_info": {
   "codemirror_mode": {
    "name": "ipython",
    "version": 2
   },
   "file_extension": ".py",
   "mimetype": "text/x-python",
   "name": "python",
   "nbconvert_exporter": "python",
   "pygments_lexer": "ipython2",
   "version": "2.7.12"
  }
 },
 "nbformat": 4,
 "nbformat_minor": 2
}
