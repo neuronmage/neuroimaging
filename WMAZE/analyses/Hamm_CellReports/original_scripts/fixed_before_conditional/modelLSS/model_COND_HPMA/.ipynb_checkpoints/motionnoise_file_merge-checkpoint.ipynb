{
 "cells": [
  {
   "cell_type": "markdown",
   "metadata": {},
   "source": [
    "# Model Conditional Halves PMA\n",
    "## Motion Noise File Merge Script"
   ]
  },
  {
   "cell_type": "raw",
   "metadata": {},
   "source": [
    "Objective: Merge all 6 run filter_regressor files into a single array across all runs/sets.\n",
    "\n",
    "Strategy: Import files, inspect shape of each to determine file with greatest number of columns, insert zeros columns in remaining arrays to permit vertical concatenation.\n",
    "\n",
    "Important details:\n",
    "1. Number of columns for each run fiter_regressor file reflect number of noise regressors, as well as outliers. How many outliers are present in each run may vary. \n",
    "\n",
    "Code Explanation:\n",
    "1. Loop through subjects and import all filter_regressor files (6 per subject, 1 per run), sort.\n",
    "2. Loop through motionnoise_files and load as Numpy array, save to dictionary. Append number of columns for each file into num_columns array.\n",
    "3. Use np.argmax() to find the index with the greatest value in num_columns. Add 1 to this indice to find the run with the most columns -- get the number of rows and columns from this dictionary key.\n",
    "4. Loop 6 times (one for each run) -- subtract the number of columns from the max number of columns to obtain how many needs to be added to the current run's array. Create np.zeros() array with the same number of rows as the max array, and with as many columns as is short (e.g. 20-17 = 3). Use np.hstack to horizontally concatenate the two arrays, then append into appropriate run key in new_dict.\n",
    "5. Use np.vstack() to vertically stack all 6 into a single array for the participant. \n",
    "6. Save as all_filter_regressors.txt"
   ]
  },
  {
   "cell_type": "code",
   "execution_count": 3,
   "metadata": {
    "collapsed": true
   },
   "outputs": [],
   "source": [
    "%matplotlib inline\n",
    "import shutil \n",
    "import os\n",
    "from os.path import join, split, basename\n",
    "import numpy as np\n",
    "import pandas as pd\n",
    "from glob import glob\n",
    "from pylab import *"
   ]
  },
  {
   "cell_type": "code",
   "execution_count": 44,
   "metadata": {
    "collapsed": false
   },
   "outputs": [],
   "source": [
    "#subs = ['WMAZE_001']\n",
    "\n",
    "subs = ['WMAZE_001', 'WMAZE_002', 'WMAZE_004', 'WMAZE_005', 'WMAZE_006',\n",
    "        'WMAZE_007', 'WMAZE_008', 'WMAZE_009', 'WMAZE_010', 'WMAZE_012',\n",
    "        'WMAZE_017', 'WMAZE_018', 'WMAZE_019', 'WMAZE_020', 'WMAZE_021',\n",
    "        'WMAZE_022', 'WMAZE_023', 'WMAZE_024', 'WMAZE_026', 'WMAZE_027']\n",
    "\n",
    "motion_dict = {'run1':[], 'run2':[], 'run3':[], 'run4':[], 'run5':[], 'run6':[]}\n",
    "new_dict = {'run1':[], 'run2':[], 'run3':[], 'run4':[], 'run5':[], 'run6':[]}\n",
    "\n",
    "num_columns = []\n",
    "\n",
    "for sub in subs:\n",
    "    sub_dir = '/home/data/madlab/data/mri/wmaze/'\n",
    "    save_dir = '/home/data/madlab/data/mri/wmaze/preproc/{0}/noise/'.format(sub)\n",
    "    motionregressor_files = glob(join(sub_dir, 'preproc/{0}/noise/filter_regressor0*.txt'.format(sub))) \n",
    "    motionregressor_files.sort()     \n",
    "    \n",
    "    for i, curr_file in enumerate(motionregressor_files): \n",
    "        motionnoise = np.loadtxt(motionregressor_files[i])\n",
    "        motion_dict['run{0}'.format(i + 1)].append(motionnoise[:-3])\n",
    "        num_columns.append(np.array(motion_dict['run{0}'.format(i + 1)]).shape[2])\n",
    "        \n",
    "    max_array_index = np.argmax(num_columns)\n",
    "    x_dim = np.array(motion_dict['run{0}'.format(max_array_index + 1)]).shape[2]\n",
    "    y_dim = np.array(motion_dict['run{0}'.format(max_array_index + 1)]).shape[1] \n",
    "    for i in range(6):\n",
    "        add_outs = x_dim - np.array(motion_dict['run{0}'.format(i + 1)]).shape[2]\n",
    "        extra_columns = np.zeros([np.array(motion_dict['run{0}'.format(max_array_index + 1)]).shape[1], add_outs])\n",
    "        new_run = np.hstack((np.array(motion_dict['run{0}'.format(i + 1)][0]), extra_columns))\n",
    "        new_dict['run{0}'.format(i + 1)].append(new_run)\n",
    "\n",
    "    merged_motion = np.vstack((np.array(new_dict['run1'][0]), np.array(new_dict['run2'][0]), \n",
    "                               np.array(new_dict['run3'][0]), np.array(new_dict['run4'][0]), \n",
    "                               np.array(new_dict['run5'][0]), np.array(new_dict['run6'][0])))\n",
    "    \n",
    "    np.savetxt(save_dir + 'all_filter_regressors.txt', merged_motion, delimiter='\\t', fmt='%.4f')"
   ]
  },
  {
   "cell_type": "code",
   "execution_count": null,
   "metadata": {
    "collapsed": true
   },
   "outputs": [],
   "source": []
  }
 ],
 "metadata": {
  "kernelspec": {
   "display_name": "Python 2",
   "language": "python",
   "name": "python2"
  },
  "language_info": {
   "codemirror_mode": {
    "name": "ipython",
    "version": 2
   },
   "file_extension": ".py",
   "mimetype": "text/x-python",
   "name": "python",
   "nbconvert_exporter": "python",
   "pygments_lexer": "ipython2",
   "version": "2.7.12"
  }
 },
 "nbformat": 4,
 "nbformat_minor": 1
}
