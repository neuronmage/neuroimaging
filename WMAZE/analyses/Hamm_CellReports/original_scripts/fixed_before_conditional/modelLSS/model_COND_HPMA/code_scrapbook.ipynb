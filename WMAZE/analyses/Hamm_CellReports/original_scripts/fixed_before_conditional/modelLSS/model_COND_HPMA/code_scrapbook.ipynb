{
 "cells": [
  {
   "cell_type": "code",
   "execution_count": 23,
   "metadata": {
    "collapsed": false
   },
   "outputs": [
    {
     "ename": "NameError",
     "evalue": "name 'data_all_remaining' is not defined",
     "output_type": "error",
     "traceback": [
      "\u001b[0;31m---------------------------------------------------------------------------\u001b[0m",
      "\u001b[0;31mNameError\u001b[0m                                 Traceback (most recent call last)",
      "\u001b[0;32m<ipython-input-23-0a3f02e3f116>\u001b[0m in \u001b[0;36m<module>\u001b[0;34m()\u001b[0m\n\u001b[1;32m     67\u001b[0m \u001b[0;34m\u001b[0m\u001b[0m\n\u001b[1;32m     68\u001b[0m \u001b[0mcurr_names\u001b[0m \u001b[0;34m=\u001b[0m \u001b[0;34m[\u001b[0m\u001b[0;34m'all_remaining'\u001b[0m\u001b[0;34m]\u001b[0m\u001b[0;34m\u001b[0m\u001b[0m\n\u001b[0;32m---> 69\u001b[0;31m \u001b[0mcurr_onsets\u001b[0m \u001b[0;34m=\u001b[0m \u001b[0mmap\u001b[0m\u001b[0;34m(\u001b[0m\u001b[0mfloat\u001b[0m\u001b[0;34m,\u001b[0m \u001b[0mdata_all_remaining\u001b[0m\u001b[0;34m[\u001b[0m\u001b[0;34m:\u001b[0m\u001b[0;34m,\u001b[0m\u001b[0;36m0\u001b[0m\u001b[0;34m]\u001b[0m\u001b[0;34m)\u001b[0m\u001b[0;34m\u001b[0m\u001b[0m\n\u001b[0m\u001b[1;32m     70\u001b[0m \u001b[0mcurr_durations\u001b[0m \u001b[0;34m=\u001b[0m \u001b[0mmap\u001b[0m\u001b[0;34m(\u001b[0m\u001b[0mfloat\u001b[0m\u001b[0;34m,\u001b[0m \u001b[0mdata_all_remaining\u001b[0m\u001b[0;34m[\u001b[0m\u001b[0;34m:\u001b[0m\u001b[0;34m,\u001b[0m\u001b[0;36m1\u001b[0m\u001b[0;34m]\u001b[0m\u001b[0;34m)\u001b[0m\u001b[0;34m\u001b[0m\u001b[0m\n\u001b[1;32m     71\u001b[0m \u001b[0mcurr_amplitudes\u001b[0m \u001b[0;34m=\u001b[0m \u001b[0mmap\u001b[0m\u001b[0;34m(\u001b[0m\u001b[0mfloat\u001b[0m\u001b[0;34m,\u001b[0m \u001b[0mdata_all_remaining\u001b[0m\u001b[0;34m[\u001b[0m\u001b[0;34m:\u001b[0m\u001b[0;34m,\u001b[0m\u001b[0;36m2\u001b[0m\u001b[0;34m]\u001b[0m\u001b[0;34m)\u001b[0m\u001b[0;34m\u001b[0m\u001b[0m\n",
      "\u001b[0;31mNameError\u001b[0m: name 'data_all_remaining' is not defined"
     ]
    }
   ],
   "source": [
    "import os\n",
    "from nipype.interfaces.base import Bunch\n",
    "from copy import deepcopy\n",
    "import numpy as np\n",
    "base_proj_dir = '/home/data/madlab/data/mri/wmaze/scanner_behav'\n",
    "output = []\n",
    "\n",
    "subject_id = 'WMAZE_001'\n",
    "names = []\n",
    "onsets = []\n",
    "durations = []\n",
    "amplitudes = []\n",
    "\n",
    "data = {'set1_early_learn_event': [], 'set1_late_learn_event': [], \n",
    "        'set1_early_nonlearn_event':[], 'set1_late_nonlearn_event':[], \n",
    "        'set1_early_learn_pmod':[], 'set1_late_learn_pmod':[], \n",
    "        'set1_early_nonlearn_pmod':[], 'set1_late_nonlearn_pmod':[],\n",
    "        'set2_early_learn_event': [], 'set2_late_learn_event': [], \n",
    "        'set2_early_nonlearn_event':[], 'set2_late_nonlearn_event':[], \n",
    "        'set2_early_learn_pmod':[], 'set2_late_learn_pmod':[], \n",
    "        'set2_early_nonlearn_pmod':[], 'set2_late_nonlearn_pmod':[],\n",
    "        'set3_early_learn_event': [], 'set3_late_learn_event': [], \n",
    "        'set3_early_nonlearn_event':[], 'set3_late_nonlearn_event':[], \n",
    "        'set3_early_learn_pmod':[], 'set3_late_learn_pmod':[], \n",
    "        'set3_early_nonlearn_pmod':[], 'set3_late_nonlearn_pmod':[]}\n",
    "\n",
    "\n",
    "for i, curr_key in enumerate(data.keys()):\n",
    "    #print type(curr_key)\n",
    "    EV_file = np.genfromtxt(base_proj_dir + \n",
    "                            '/{0}/MRthesis/model_COND_HPMA/{1}.txt'.format(subject_id, curr_key), dtype = str)\n",
    "    data['{0}'.format(curr_key)].append(EV_file)\n",
    "\n",
    "\n",
    "all_remaining = np.genfromtxt(base_proj_dir + \n",
    "                              '/{0}/MRthesis/model_COND_HPMA/all_remaining.txt'.format(subject_id), dtype = str) \n",
    "\n",
    "\n",
    "for curr_key in data.keys():\n",
    "    ev_array = np.array(data['{0}'.format(curr_key)][0])\n",
    "    #print ev_array\n",
    "    if ev_array.size == 3: #ONLY ONE TRIAL \n",
    "        curr_names = [curr_key]\n",
    "        curr_onsets = [float(ev_array[0])]\n",
    "        curr_durations = [float(ev_array[1])]\n",
    "        curr_amplitudes = [float(ev_array[2])]\n",
    "\n",
    "        curr_onsets = [curr_onsets]\n",
    "        curr_durations = [curr_durations]\n",
    "        curr_amplitudes = [curr_amplitudes]\n",
    "\n",
    "        names.append(curr_names) \n",
    "        onsets.append(curr_onsets)\n",
    "        durations.append(curr_durations)\n",
    "        amplitudes.append(curr_amplitudes)\n",
    "\n",
    "    elif ev_array.size > 0: #MORE THAN ONE TRIAL\n",
    "        curr_names = [curr_key]\n",
    "        curr_onsets = map(float, ev_array[:,0])\n",
    "        curr_durations = map(float, ev_array[:,1])\n",
    "        curr_amplitudes = map(float, ev_array[:,2])\n",
    "\n",
    "        curr_onsets = [curr_onsets]\n",
    "        curr_durations = [curr_durations]\n",
    "        curr_amplitudes = [curr_amplitudes]\n",
    "\n",
    "        names.append(curr_names) \n",
    "        onsets.append(curr_onsets)\n",
    "        durations.append(curr_durations)\n",
    "        amplitudes.append(curr_amplitudes)\n",
    "\n",
    "curr_names = ['all_remaining']\n",
    "curr_onsets = map(float, data_all_remaining[:,0])\n",
    "curr_durations = map(float, data_all_remaining[:,1])\n",
    "curr_amplitudes = map(float, data_all_remaining[:,2])\n",
    "\n",
    "curr_onsets = [curr_onsets]\n",
    "curr_durations = [curr_durations]\n",
    "curr_amplitudes = [curr_amplitudes] \n",
    "\n",
    "names.append(curr_names)  \n",
    "onsets.append(curr_onsets)\n",
    "durations.append(curr_durations)\n",
    "amplitudes.append(curr_amplitudes) \n",
    "\n",
    "print names"
   ]
  },
  {
   "cell_type": "code",
   "execution_count": null,
   "metadata": {
    "collapsed": true
   },
   "outputs": [],
   "source": []
  }
 ],
 "metadata": {
  "kernelspec": {
   "display_name": "Python 2",
   "language": "python",
   "name": "python2"
  },
  "language_info": {
   "codemirror_mode": {
    "name": "ipython",
    "version": 2
   },
   "file_extension": ".py",
   "mimetype": "text/x-python",
   "name": "python",
   "nbconvert_exporter": "python",
   "pygments_lexer": "ipython2",
   "version": "2.7.12"
  }
 },
 "nbformat": 4,
 "nbformat_minor": 1
}
