{
 "cells": [
  {
   "cell_type": "code",
   "execution_count": 1,
   "metadata": {
    "collapsed": true
   },
   "outputs": [],
   "source": [
    "import os\n",
    "from os.path import join\n",
    "import numpy as np\n",
    "import pandas as pd\n",
    "from glob import glob"
   ]
  },
  {
   "cell_type": "code",
   "execution_count": null,
   "metadata": {
    "collapsed": false
   },
   "outputs": [],
   "source": [
    "total_num_trls = 80\n",
    "\n",
    "# create array with value for each stim type\n",
    "curr_trls = np.array([0, 1, 2, 3, 4, 5])\n",
    "# For each iteration of 80 image presentations\n",
    "for i in range(total_num_trls):\n",
    "    # If the current iteration is the first\n",
    "    if i == 0:\n",
    "        # set tot_trials to contain 0, 1, 2\n",
    "        tot_trials = np.random.permutation(curr_trls)\n",
    "        while tot_trials[0] in (1,4):\n",
    "            curr_trls = np.random.permutation(curr_trls)\n",
    "    else:\n",
    "        # if not the first trial (iteration) current trials will be randomized again\n",
    "        curr_trls = np.random.permutation(curr_trls)\n",
    "        if tot_trials[-1] in (1, 4) and curr_trls[0] in (1, 4): # If the last trial and the current trial are both conditionals...\n",
    "            while curr_trls[0] in (1, 4):\n",
    "        # If the previous and present trial would both be conditional\n",
    "        #if tot_trials[-1] == 1 and curr_trls[0] == 1:\n",
    "            # While the current trial is set to conditional\n",
    "            #while curr_trls[0] == 1:\n",
    "                # Randomize the current trial until it is not conditional\n",
    "                curr_trls = np.random.permutation(curr_trls)\n",
    "        # Total trials = concatenation of growing total list + current trial\n",
    "        tot_trials = np.concatenate((tot_trials, curr_trls))\n",
    "\n",
    "        \n",
    "print(tot_trials)\n",
    "'''       \n",
    "corr_resps = []\n",
    "last_trial = []\n",
    "# keep track of trial # as it iterates through tot_trials\n",
    "for counter, i in enumerate(tot_trials):\n",
    "    # if the first trial is an A (fixed)\n",
    "    if counter == 0 and i == 0:\n",
    "        # append '2' as the correct response\n",
    "        corr_resps.append('2')\n",
    "        # append the identity of the current trial to last_trial\n",
    "        last_trial.append(tot_trials[counter])\n",
    "    else:\n",
    "        # if the trial is A (fixed)\n",
    "        if i == 0:\n",
    "            # correct response is 2\n",
    "            corr_resps.append('2')\n",
    "            last_trial.append(tot_trials[counter])\n",
    "        # if the trial is C (fixed)\n",
    "        elif i == 2:\n",
    "            # correct response is 1\n",
    "            corr_resps.append('1')\n",
    "            last_trial.append(tot_trials[counter])\n",
    "        # if the trial is B (conditional) and the last trial was A\n",
    "        elif i == 1 and last_trial[-1] == 0:\n",
    "            # correct response is 1\n",
    "            corr_resps.append('1')\n",
    "            last_trial.append(tot_trials[counter])\n",
    "        # if the trial is B and the last trail was C\n",
    "        elif i == 1 and last_trial[-1] == 2:\n",
    "            # correct response is 2\n",
    "            corr_resps.append('2')\n",
    "            last_trial.append(tot_trials[counter])\n",
    "'''"
   ]
  },
  {
   "cell_type": "code",
   "execution_count": null,
   "metadata": {
    "collapsed": true
   },
   "outputs": [],
   "source": []
  },
  {
   "cell_type": "code",
   "execution_count": null,
   "metadata": {
    "collapsed": true
   },
   "outputs": [],
   "source": []
  }
 ],
 "metadata": {
  "kernelspec": {
   "display_name": "Python 2",
   "language": "python",
   "name": "python2"
  },
  "language_info": {
   "codemirror_mode": {
    "name": "ipython",
    "version": 2
   },
   "file_extension": ".py",
   "mimetype": "text/x-python",
   "name": "python",
   "nbconvert_exporter": "python",
   "pygments_lexer": "ipython2",
   "version": "2.7.12"
  }
 },
 "nbformat": 4,
 "nbformat_minor": 1
}
