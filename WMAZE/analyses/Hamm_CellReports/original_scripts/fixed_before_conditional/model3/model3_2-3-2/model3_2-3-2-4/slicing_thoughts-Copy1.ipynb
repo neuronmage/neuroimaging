{
 "cells": [
  {
   "cell_type": "markdown",
   "metadata": {
    "collapsed": true
   },
   "source": [
    "# WMAZE Model 5 Version 2.3.2\n",
    "## LSS Model\n",
    "## Removes last 3 noisy volumes (FSL ROI)"
   ]
  },
  {
   "cell_type": "code",
   "execution_count": 2,
   "metadata": {
    "collapsed": false
   },
   "outputs": [],
   "source": [
    "%matplotlib inline\n",
    "import os\n",
    "from os.path import join\n",
    "import numpy as np\n",
    "import pandas as pd\n",
    "from scipy import stats\n",
    "import matplotlib.pyplot as plt\n",
    "from glob import glob\n",
    "from pylab import *"
   ]
  },
  {
   "cell_type": "markdown",
   "metadata": {},
   "source": [
    "## Subjects and sets are affected by different index slices\n",
    "### Beginning and end 10 trials removed to avoid selecting a target trial without a complete surrounding window"
   ]
  },
  {
   "cell_type": "markdown",
   "metadata": {},
   "source": [
    "# Learning curve and derivative\n",
    "### Visually demonstrates which potential target trials are affected by window-related index slicing"
   ]
  },
  {
   "cell_type": "code",
   "execution_count": 13,
   "metadata": {
    "collapsed": false
   },
   "outputs": [
    {
     "name": "stdout",
     "output_type": "stream",
     "text": [
      "Subject WMAZE_020\n",
      "Stimulus set1\n",
      "Maximum Derivative\n",
      "0.2245\n",
      "Mean\n",
      "0.0414259259259\n",
      "STD\n",
      "0.0699514872066\n",
      "One-Sample t-test\n",
      "Ttest_1sampResult(statistic=5.2968816018258762, pvalue=1.0123675996793091e-06)\n",
      "\n",
      "Target Trial\n",
      "8\n",
      "Alternative Target Trial\n",
      "35\n"
     ]
    },
    {
     "data": {
      "image/png": "[encoded data removed]",
      "text/plain": [
       "<matplotlib.figure.Figure at 0x2b35d8d0f5d0>"
      ]
     },
     "metadata": {},
     "output_type": "display_data"
    }
   ],
   "source": [
    "import seaborn as sns\n",
    "#sns.set_style(\"ticks\")\n",
    "sns.set_palette('muted')\n",
    "import matplotlib.pyplot as plt\n",
    "\n",
    "\n",
    "#subs = ['WMAZE_001']\n",
    "\n",
    "subs = ['WMAZE_020', ]\n",
    "\n",
    "\n",
    "sets = ['set1']\n",
    "\n",
    "\n",
    "for sub in subs:\n",
    "    sub_dir = '/home/data/madlab/data/mri/wmaze/scanner_behav/{0}/'.format(sub)\n",
    "    #new derivative files combining behavioral runs into set\n",
    "    frst_deriv_files = glob(join(sub_dir, 'Bprime_pmode_set*.txt'))    \n",
    "    frst_deriv_files.sort()\n",
    "    lower_05_files = glob(join(sub_dir, 'B_p05_set*.txt'))\n",
    "    lower_05_files.sort()\n",
    "    upper_95_files = glob(join(sub_dir, 'B_p95_set*.txt'))\n",
    "    upper_95_files.sort()\n",
    "    #new learning files combining behavioral runs into set\n",
    "    learning_files = glob(join(sub_dir, 'B_pmode_set*')) \n",
    "    learning_files.sort()\n",
    "    #print learning_curves\n",
    "    #print frst_deriv_files\n",
    "    \n",
    "    for i, curr_set in enumerate(sets): \n",
    "        #load learning curve and derivative files\n",
    "        deriv_file = np.loadtxt(frst_deriv_files[i])\n",
    "        learning_curve = np.loadtxt(learning_files[i]) \n",
    "        #print len(learning_curve)\n",
    "        upper_95 = np.loadtxt(upper_95_files[i])\n",
    "        lower_05 = np.loadtxt(lower_05_files[i])\n",
    "        #plt.plot(deriv_file) #before shaving\n",
    "        alt_lower_05 = lower_05[10:-10]\n",
    "        alt_upper_95 = upper_95[10:-10]\n",
    "        alt_deriv_file = deriv_file[10:-10]\n",
    "        #plt.plot(learning_curve #)\n",
    "        alt_learning_curve = learning_curve[10:-10] \n",
    "        #plt.plot(alt_deriv_file) #after shaving\n",
    "        target_trial = np.argmax(deriv_file)\n",
    "        #grabs the index of the largest derivative\n",
    "        alt_target_trial = np.argmax(alt_deriv_file)+10\n",
    "        #print target_trial\n",
    "        #plt.plot(learning_curve)\n",
    "        \n",
    "        x = range(len(learning_curve))\n",
    "        x1 = range(len(alt_learning_curve))\n",
    "        chance = np.ones(len(x)) * 0.5\n",
    "        chance1 = np.ones(len(x1)) * 0.5\n",
    "        \n",
    "\n",
    "        fig, ax0 = plt.subplots()  \n",
    "        ax0.plot(x, learning_curve, \"#fc3116\", linewidth = 3)\n",
    "        ax0.plot(x, chance, 'b', linewidth = 1)\n",
    "        ax0.fill_between(x, learning_curve, upper_95, color = \"#fc3116\", alpha = 0.2)\n",
    "        ax0.fill_between(x, learning_curve, lower_05, color = \"#fc3116\", alpha = 0.2)\n",
    "        #ax0.plot(x, deriv_file, \"#00CCCC\", linewidth = 3)\n",
    "        ax0.set_ylim(0,1)\n",
    "        ax0.set_xlabel('Trials')\n",
    "        ax0.set_ylabel('Probability of Correct Response')\n",
    "        \n",
    "        \n",
    "        print 'Subject ' + sub\n",
    "        print 'Stimulus ' + curr_set\n",
    "        print \"Maximum Derivative\"\n",
    "        print max((deriv_file))\n",
    "        print \"Mean\"\n",
    "        print np.mean(deriv_file)\n",
    "        print \"STD\"\n",
    "        print np.std(deriv_file)\n",
    "        print \"One-Sample t-test\"\n",
    "        print stats.ttest_1samp(deriv_file, 0)\n",
    "        print \"\"\n",
    "        print 'Target Trial'\n",
    "        print target_trial\n",
    "        print 'Alternative Target Trial'\n",
    "        print alt_target_trial\n",
    "        plt.savefig(\"/home/data/madlab/scripts/wmaze/anal_MR_thesis/fixed_before_conditional/model3/curve.jpg\")\n",
    "        plt.show()\n"
   ]
  },
  {
   "cell_type": "code",
   "execution_count": null,
   "metadata": {
    "collapsed": true
   },
   "outputs": [],
   "source": []
  }
 ],
 "metadata": {
  "anaconda-cloud": {},
  "kernelspec": {
   "display_name": "Python [default]",
   "language": "python",
   "name": "python2"
  },
  "language_info": {
   "codemirror_mode": {
    "name": "ipython",
    "version": 2
   },
   "file_extension": ".py",
   "mimetype": "text/x-python",
   "name": "python",
   "nbconvert_exporter": "python",
   "pygments_lexer": "ipython2",
   "version": "2.7.13"
  }
 },
 "nbformat": 4,
 "nbformat_minor": 2
}
