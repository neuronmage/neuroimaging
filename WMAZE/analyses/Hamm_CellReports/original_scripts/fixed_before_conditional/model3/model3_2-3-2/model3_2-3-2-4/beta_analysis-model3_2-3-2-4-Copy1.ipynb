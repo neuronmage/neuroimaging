{
 "cells": [
  {
   "cell_type": "markdown",
   "metadata": {},
   "source": [
    "# MODEL 3 Version 2.3.2.4\n",
    "### Contains only fixed-before-conditional trials without intervening BLs\n",
    "### Combines A & C trials into single regressor\n",
    "### Accounts for last three noisy volumes via FSL ROI -- removal and recreation of EPI files\n",
    "### Considers only 11/11 window data"
   ]
  },
  {
   "cell_type": "markdown",
   "metadata": {
    "collapsed": true
   },
   "source": [
    "#  WMAZE Beta Series correlation Analysis\n",
    "\n",
    "## Obtains Correlation values for the regions of interest:\n",
    "### Hippocampus (FS labels: hippocampus [17, 53])\n",
    "### Dorsal caudate (hand-drawn by Mandy)\n",
    "### Medial PFC (FS labels: rostral anterior cingulate [1026, 2026] & caudal anterior cingulate [1002, 2002])\n",
    "### Dorsolateral PFC (Lausanne atlas: dlPFC)"
   ]
  },
  {
   "cell_type": "markdown",
   "metadata": {},
   "source": [
    "### Use Glob to grab all previously created anatomy masks and beta series cope files"
   ]
  },
  {
   "cell_type": "code",
   "execution_count": 15,
   "metadata": {
    "collapsed": false
   },
   "outputs": [],
   "source": [
    "from glob import glob\n",
    "\n",
    "#Removed WMAZE_006 and WMAZE_023 \n",
    "#Removed WMAZE_006 and WMAZE_023 \n",
    "sids = ['WMAZE_001', 'WMAZE_002', 'WMAZE_004', 'WMAZE_005', \n",
    "        'WMAZE_007', 'WMAZE_008', 'WMAZE_009', 'WMAZE_010', 'WMAZE_012',\n",
    "        'WMAZE_017', 'WMAZE_018', 'WMAZE_019', 'WMAZE_020', 'WMAZE_021',  \n",
    "        'WMAZE_022', 'WMAZE_024', 'WMAZE_026', 'WMAZE_027']\n",
    "proj_dir = '/home/data/madlab/data/mri/wmaze'\n",
    " \n",
    "mask_filenames = []\n",
    "cope_files = []\n",
    "\n",
    "for SID in sids:\n",
    "    # Grab the mask files for each subject\n",
    "    mask_filenames_glob = glob(proj_dir + '/roi_analysis/model3_betaseries/mask/anat_masks/_subject_id_' \n",
    "                               + SID + '/_anatmask_xfm*/*')\n",
    "    mask_filenames.append(sorted(mask_filenames_glob))\n",
    "    # Grab the cope files for each subject\n",
    "    subjcopes_glob = glob(proj_dir + '/frstlvl/wmaze_MRthesis/fixed_before_conditional/model3_2-3-2-4/11-11window/merge_copes/'\n",
    "                          + SID + '/merged/cope_*')\n",
    "    cope_files.append(sorted(subjcopes_glob))\n",
    "    # If there are no cope files, print subject id\n",
    "    if len(cope_files[-1]) == 0:\n",
    "        print(SID)"
   ]
  },
  {
   "cell_type": "markdown",
   "metadata": {},
   "source": [
    "### Cell to double-check the array indexing for both the masks and the copes"
   ]
  },
  {
   "cell_type": "code",
   "execution_count": 16,
   "metadata": {
    "collapsed": false,
    "scrolled": true
   },
   "outputs": [
    {
     "name": "stdout",
     "output_type": "stream",
     "text": [
      "(0, 'lh-dlPFC_lausanne_warped')\n",
      "(1, 'lh-hippocampus_warped')\n",
      "(2, 'lh-mPFC_fs-3reg_warped')\n",
      "(3, 'lh-mPFC_lausanne_warped')\n",
      "(4, 'lh-mPFC_rac-only_warped')\n",
      "(5, 'lh-mPFC_warped')\n",
      "(6, 'lh-motor_warped')\n",
      "(7, 'lh-putamen_warped')\n",
      "(8, 'lh_caudate_anat_mask_warped')\n",
      "(9, 'rh-dlPFC_lausanne_warped')\n",
      "(10, 'rh-hippocampus_warped')\n",
      "(11, 'rh-mPFC_warped')\n",
      "(12, 'rh-putamen_warped')\n",
      "(13, 'rh_caudate_anat_mask_warped')\n",
      "(14, 'rh-mPFC_fs-3reg_warped')\n",
      "(15, 'rh-mPFC_lausanne_warped')\n",
      "(16, 'rh-mPFC_rac-only_warped')\n",
      "(17, 'rh-motor_warped')\n",
      "(18, 'lh-mPFC_rac-cac_warped')\n",
      "(19, 'rh-mPFC_rac-cac_warped')\n"
     ]
    }
   ],
   "source": [
    "for i, curr_mask in enumerate(mask_filenames[0]):\n",
    "    print(i, mask_filenames[0][i].split('/')[-1][:-7])"
   ]
  },
  {
   "cell_type": "markdown",
   "metadata": {},
   "source": [
    "### Use binarized mask to obtain activation in left & right hemisphere for each ROI"
   ]
  },
  {
   "cell_type": "code",
   "execution_count": 41,
   "metadata": {
    "collapsed": false,
    "scrolled": true
   },
   "outputs": [],
   "source": [
    "import nibabel as nb\n",
    "import pandas as pd\n",
    "import numpy as np\n",
    "from scipy import stats\n",
    "\n",
    "\n",
    "#Dictionary containing multiple arrays referenced by keywords\n",
    "all_data = {'subjid':[],\n",
    "            'lh_hp_after11':[], 'rh_hp_after11':[], \n",
    "            'lh_hp_during11':[], 'rh_hp_during11':[],                 \n",
    "            'lh_caudate_after11':[], 'rh_caudate_after11':[], \n",
    "            'lh_caudate_during11':[], 'rh_caudate_during11':[],  \n",
    "            'lh_dlPFC_after11':[], 'rh_dlPFC_after11':[], \n",
    "            'lh_dlPFC_during11':[], 'rh_dlPFC_during11':[],            \n",
    "            'lh_mPFC_after11':[], 'rh_mPFC_after11':[], \n",
    "            'lh_mPFC_during11':[], 'rh_mPFC_during11':[]}\n",
    "\n",
    "corr_matrix = np.zeros((len(sids), 5))\n",
    "\n",
    "# For each interation in the length of subject ids\n",
    "for i in range(len(sids)):\n",
    "    #Append the subject id\n",
    "    all_data['subjid'].append(sids[i])\n",
    "    #Load the left and right hippocampus mask files using Nibabel \n",
    "    lh_hp_img = nb.load(mask_filenames[i][1])\n",
    "    rh_hp_img = nb.load(mask_filenames[i][10])\n",
    "    \n",
    "    lh_caudate_img = nb.load(mask_filenames[i][8])\n",
    "    rh_caudate_img = nb.load(mask_filenames[i][13])\n",
    "    \n",
    "    lh_dlPFC_img = nb.load(mask_filenames[i][0])\n",
    "    rh_dlPFC_img = nb.load(mask_filenames[i][9])\n",
    "    \n",
    "    lh_mPFC_img = nb.load(mask_filenames[i][1])\n",
    "    rh_mPFC_img = nb.load(mask_filenames[i][13])\n",
    "    \n",
    "    #Load copes for after11 vs during11 betas\n",
    "    cope_after11_img = nb.load(cope_files[i][0])\n",
    "    cope_during11_img = nb.load(cope_files[i][1])\n",
    "     \n",
    "  \n",
    "    ########################\n",
    "    ### Left Hippocampus ###\n",
    "    ########################\n",
    "    \n",
    "    # cope_after11\n",
    "    lh_hp_after11_data = cope_after11_img.get_data()[lh_hp_img.get_data() > 0.]\n",
    "    all_data['lh_hp_after11'].append(lh_hp_after11_data[0:-1])\n",
    "    \n",
    "    # cope_during11\n",
    "    lh_hp_during11_data = cope_during11_img.get_data()[lh_hp_img.get_data() > 0.]\n",
    "    all_data['lh_hp_during11'].append(lh_hp_during11_data[0:-1])\n",
    "    \n",
    "    #########################\n",
    "    ### Right Hippocampus ###\n",
    "    #########################\n",
    "    \n",
    "    # cope_after11\n",
    "    rh_hp_after11_data = cope_after11_img.get_data()[rh_hp_img.get_data() > 0.]\n",
    "    all_data['rh_hp_after11'].append(rh_hp_after11_data[0:-1])\n",
    "\n",
    "    # cope_during11\n",
    "    rh_hp_during11_data = cope_during11_img.get_data()[rh_hp_img.get_data() > 0.]\n",
    "    all_data['rh_hp_during11'].append(rh_hp_during11_data[0:-1])\n",
    "    \n",
    "    #####################\n",
    "    ### Left Caudate ###\n",
    "    ##################### \n",
    "    \n",
    "    # cope_after11\n",
    "    lh_caudate_after11_data = cope_after11_img.get_data()[lh_caudate_img.get_data() > 0.]\n",
    "    all_data['lh_caudate_after11'].append(lh_caudate_after11_data[0:-1])\n",
    "\n",
    "    # cope_during11\n",
    "    lh_caudate_during11_data = cope_during11_img.get_data()[lh_caudate_img.get_data() > 0.]\n",
    "    all_data['lh_caudate_during11'].append(lh_caudate_during11_data[0:-1])\n",
    "    \n",
    "    #####################\n",
    "    ### Right Caudate ###\n",
    "    ##################### \n",
    "    \n",
    "    # cope_after11\n",
    "    rh_caudate_after11_data = cope_after11_img.get_data()[rh_caudate_img.get_data() > 0.]\n",
    "    all_data['rh_caudate_after11'].append(rh_caudate_after11_data[0:-1])\n",
    "\n",
    "    # cope_during11\n",
    "    rh_caudate_during11_data = cope_during11_img.get_data()[rh_caudate_img.get_data() > 0.]\n",
    "    all_data['rh_caudate_during11'].append(rh_caudate_during11_data[0:-1])  \n",
    "    \n",
    "    ####################\n",
    "    #### Left mPFC #####\n",
    "    ####################\n",
    "    \n",
    "    # cope_after11\n",
    "    lh_mPFC_after11_data = cope_after11_img.get_data()[lh_mPFC_img.get_data() > 0.]\n",
    "    all_data['lh_mPFC_after11'].append(lh_mPFC_after11_data[0:-1])\n",
    "    \n",
    "    # cope_during11\n",
    "    lh_mPFC_during11_data = cope_during11_img.get_data()[lh_mPFC_img.get_data() > 0.]\n",
    "    all_data['lh_mPFC_during11'].append(lh_mPFC_during11_data[0:-1])    \n",
    "    \n",
    "    #####################\n",
    "    #### Right mPFC #####\n",
    "    #####################\n",
    "    \n",
    "    # cope_after11\n",
    "    rh_mPFC_after11_data = cope_after11_img.get_data()[rh_mPFC_img.get_data() > 0.]\n",
    "    all_data['rh_mPFC_after11'].append(rh_mPFC_after11_data[0:-1])\n",
    "\n",
    "    # cope_during11\n",
    "    rh_mPFC_during11_data = cope_during11_img.get_data()[rh_mPFC_img.get_data() > 0.]\n",
    "    all_data['rh_mPFC_during11'].append(rh_mPFC_during11_data[0:-1]) \n",
    "    \n",
    "    ####################\n",
    "    #### Left dlPFC ####\n",
    "    ####################\n",
    "    \n",
    "    # cope_after11\n",
    "    lh_dlPFC_after11_data = cope_after11_img.get_data()[lh_dlPFC_img.get_data() > 0.]\n",
    "    all_data['lh_dlPFC_after11'].append(lh_dlPFC_after11_data[0:-1])\n",
    "    \n",
    "    # cope_during11\n",
    "    lh_dlPFC_during11_data = cope_during11_img.get_data()[lh_dlPFC_img.get_data() > 0.]\n",
    "    all_data['lh_dlPFC_during11'].append(lh_dlPFC_during11_data[0:-1])  \n",
    "    \n",
    "    #####################\n",
    "    ### Right dlPFC ###\n",
    "    #####################\n",
    "    \n",
    "    # cope_after11\n",
    "    rh_dlPFC_after11_data = cope_after11_img.get_data()[rh_dlPFC_img.get_data() > 0.]\n",
    "    all_data['rh_dlPFC_after11'].append(rh_dlPFC_after11_data[0:-1])\n",
    "\n",
    "    # cope_during11\n",
    "    rh_dlPFC_during11_data = cope_during11_img.get_data()[rh_dlPFC_img.get_data() > 0.]\n",
    "    all_data['rh_dlPFC_during11'].append(rh_dlPFC_during11_data[0:-1])    \n",
    "    \n",
    "    #array with keys for each part of all_data dictionary\n",
    "    all_keys = ['lh_hp_after11', 'rh_hp_after11', \n",
    "                'lh_hp_during11', 'rh_hp_during11',                 \n",
    "                'lh_caudate_after11', 'rh_caudate_after11', \n",
    "                'lh_caudate_during11', 'rh_caudate_during11',  \n",
    "                'lh_dlPFC_after11', 'rh_dlPFC_after11', \n",
    "                'lh_dlPFC_during11', 'rh_dlPFC_during11',            \n",
    "                'lh_mPFC_after11', 'rh_mPFC_after11', \n",
    "                'lh_mPFC_during11', 'rh_mPFC_during11']\n",
    "    \n",
    "    for key in all_keys: \n",
    "        # averaging each column for only the current participant \n",
    "        all_data[key][-1] = np.mean(all_data[key][-1], axis = 0)\n",
    "       \n",
    "    #Combined Hippocampus average for after11 and during11 for current sub\n",
    "    all_data['hp_after11'] = (np.array(all_data['lh_hp_after11'][-1]) + \n",
    "                              np.array(all_data['rh_hp_after11'][-1]))/2.\n",
    "    all_data['hp_during11'] = (np.array(all_data['lh_hp_during11'][-1]) + \n",
    "                               np.array(all_data['rh_hp_during11'][-1]))/2.\n",
    "                             \n",
    "    #Combined Caudate average for after11 and during11 for current sub\n",
    "    all_data['caudate_after11'] = (np.array(all_data['lh_caudate_after11'][-1]) + \n",
    "                                   np.array(all_data['rh_caudate_after11'][-1]))/2.\n",
    "    all_data['caudate_during11'] = (np.array(all_data['lh_caudate_during11'][-1]) + \n",
    "                                    np.array(all_data['rh_caudate_during11'][-1]))/2.\n",
    "\n",
    "    # Combined mPFC average for after11 and during11 for current sub\n",
    "    all_data['mPFC_after11'] = (np.array(all_data['lh_mPFC_after11'][-1]) + \n",
    "                                np.array(all_data['rh_mPFC_after11'][-1]))/2.\n",
    "    all_data['mPFC_during11'] = (np.array(all_data['lh_mPFC_during11'][-1]) + \n",
    "                                 np.array(all_data['rh_mPFC_during11'][-1]))/2.\n",
    "\n",
    "    #Combined dlPFC average for after11 and during11 for current sub\n",
    "    all_data['dlPFC_after11'] = (np.array(all_data['lh_dlPFC_after11'][-1]) + \n",
    "                                 np.array(all_data['rh_dlPFC_after11'][-1]))/2.\n",
    "    all_data['dlPFC_during11'] = (np.array(all_data['lh_dlPFC_during11'][-1]) + \n",
    "                                  np.array(all_data['rh_dlPFC_during11'][-1]))/2.   \n",
    "   \n",
    "    \n",
    "    # Creation of the correlation matrix (with subject id column)\n",
    "    corr_matrix[i][0] = float(sids[i][-3:])\n",
    "    corr_matrix[i][1] = stats.pearsonr(all_data['hp_after11'], all_data['mPFC_after11'])[0]\n",
    "    corr_matrix[i][2] = stats.pearsonr(all_data['hp_during11'], all_data['mPFC_during11'])[0]\n",
    "    corr_matrix[i][3] = stats.pearsonr(all_data['caudate_after11'], all_data['dlPFC_after11'])[0]\n",
    "    corr_matrix[i][4] = stats.pearsonr(all_data['caudate_during11'], all_data['dlPFC_during11'])[0]"
   ]
  },
  {
   "cell_type": "code",
   "execution_count": 43,
   "metadata": {
    "collapsed": false
   },
   "outputs": [
    {
     "name": "stdout",
     "output_type": "stream",
     "text": [
      "[  8.40380096  -8.62128639 -10.81616783  23.09667587 -32.55081177\n",
      "   1.34153926 -12.02800274 -12.16780567 -13.90763378   3.42003775\n",
      "  -4.4815321 ]\n"
     ]
    }
   ],
   "source": [
    "print all_data['lh_dlPFC_after11'][-1]"
   ]
  },
  {
   "cell_type": "markdown",
   "metadata": {},
   "source": [
    "##  Non-normalized correlation matrix for beta series"
   ]
  },
  {
   "cell_type": "code",
   "execution_count": 25,
   "metadata": {
    "collapsed": true
   },
   "outputs": [],
   "source": [
    "import pandas as pd\n",
    "#create Pandas dataframe to store correlations\n",
    "correlation_chart = {}\n",
    "correlation_chart['HPC-mPFC_after11'] = corr_matrix[:, 1] #hpc-mpfc after11\n",
    "correlation_chart['HPC-mPFC_during11'] = corr_matrix[:, 2] #hpc-mpfc during11\n",
    "correlation_chart['Caudate-dlPFC_after11'] = corr_matrix[:, 3] #caudate-dlpfc after11\n",
    "correlation_chart['Caudate-dlPFC_during11'] = corr_matrix[:, 4] #caudate-dlpfc during11\n",
    "correlation_chart_df = pd.DataFrame.from_dict(correlation_chart)"
   ]
  },
  {
   "cell_type": "code",
   "execution_count": 26,
   "metadata": {
    "collapsed": false
   },
   "outputs": [
    {
     "data": {
      "text/html": [
       "<div>\n",
       "<style scoped>\n",
       "    .dataframe tbody tr th:only-of-type {\n",
       "        vertical-align: middle;\n",
       "    }\n",
       "\n",
       "    .dataframe tbody tr th {\n",
       "        vertical-align: top;\n",
       "    }\n",
       "\n",
       "    .dataframe thead th {\n",
       "        text-align: right;\n",
       "    }\n",
       "</style>\n",
       "<table border=\"1\" class=\"dataframe\">\n",
       "  <thead>\n",
       "    <tr style=\"text-align: right;\">\n",
       "      <th></th>\n",
       "      <th>Caudate-dlPFC_after11</th>\n",
       "      <th>Caudate-dlPFC_during11</th>\n",
       "      <th>HPC-mPFC_after11</th>\n",
       "      <th>HPC-mPFC_during11</th>\n",
       "    </tr>\n",
       "  </thead>\n",
       "  <tbody>\n",
       "    <tr>\n",
       "      <th>0</th>\n",
       "      <td>0.460766</td>\n",
       "      <td>0.440489</td>\n",
       "      <td>0.810134</td>\n",
       "      <td>0.713998</td>\n",
       "    </tr>\n",
       "    <tr>\n",
       "      <th>1</th>\n",
       "      <td>0.908796</td>\n",
       "      <td>0.394611</td>\n",
       "      <td>0.975374</td>\n",
       "      <td>0.770179</td>\n",
       "    </tr>\n",
       "    <tr>\n",
       "      <th>2</th>\n",
       "      <td>0.664353</td>\n",
       "      <td>0.289967</td>\n",
       "      <td>0.725598</td>\n",
       "      <td>0.761464</td>\n",
       "    </tr>\n",
       "    <tr>\n",
       "      <th>3</th>\n",
       "      <td>0.595715</td>\n",
       "      <td>0.284513</td>\n",
       "      <td>0.760401</td>\n",
       "      <td>0.765271</td>\n",
       "    </tr>\n",
       "    <tr>\n",
       "      <th>4</th>\n",
       "      <td>0.779449</td>\n",
       "      <td>0.377280</td>\n",
       "      <td>0.785094</td>\n",
       "      <td>0.733541</td>\n",
       "    </tr>\n",
       "    <tr>\n",
       "      <th>5</th>\n",
       "      <td>0.821764</td>\n",
       "      <td>0.815392</td>\n",
       "      <td>0.915378</td>\n",
       "      <td>0.732639</td>\n",
       "    </tr>\n",
       "    <tr>\n",
       "      <th>6</th>\n",
       "      <td>0.700218</td>\n",
       "      <td>0.641753</td>\n",
       "      <td>0.853678</td>\n",
       "      <td>0.553237</td>\n",
       "    </tr>\n",
       "    <tr>\n",
       "      <th>7</th>\n",
       "      <td>0.193750</td>\n",
       "      <td>0.692863</td>\n",
       "      <td>0.481192</td>\n",
       "      <td>0.677939</td>\n",
       "    </tr>\n",
       "    <tr>\n",
       "      <th>8</th>\n",
       "      <td>0.639865</td>\n",
       "      <td>0.525240</td>\n",
       "      <td>0.507341</td>\n",
       "      <td>0.836089</td>\n",
       "    </tr>\n",
       "    <tr>\n",
       "      <th>9</th>\n",
       "      <td>0.591090</td>\n",
       "      <td>0.821668</td>\n",
       "      <td>0.738806</td>\n",
       "      <td>0.948062</td>\n",
       "    </tr>\n",
       "    <tr>\n",
       "      <th>10</th>\n",
       "      <td>0.285813</td>\n",
       "      <td>0.124964</td>\n",
       "      <td>0.763310</td>\n",
       "      <td>0.870504</td>\n",
       "    </tr>\n",
       "    <tr>\n",
       "      <th>11</th>\n",
       "      <td>0.142204</td>\n",
       "      <td>0.230018</td>\n",
       "      <td>0.660643</td>\n",
       "      <td>0.589347</td>\n",
       "    </tr>\n",
       "    <tr>\n",
       "      <th>12</th>\n",
       "      <td>0.477911</td>\n",
       "      <td>0.600285</td>\n",
       "      <td>0.295570</td>\n",
       "      <td>0.785600</td>\n",
       "    </tr>\n",
       "    <tr>\n",
       "      <th>13</th>\n",
       "      <td>0.561948</td>\n",
       "      <td>0.691910</td>\n",
       "      <td>0.815993</td>\n",
       "      <td>0.696156</td>\n",
       "    </tr>\n",
       "    <tr>\n",
       "      <th>14</th>\n",
       "      <td>0.754589</td>\n",
       "      <td>0.475438</td>\n",
       "      <td>0.671654</td>\n",
       "      <td>0.649830</td>\n",
       "    </tr>\n",
       "    <tr>\n",
       "      <th>15</th>\n",
       "      <td>0.824174</td>\n",
       "      <td>0.757429</td>\n",
       "      <td>0.876663</td>\n",
       "      <td>0.893113</td>\n",
       "    </tr>\n",
       "    <tr>\n",
       "      <th>16</th>\n",
       "      <td>0.416646</td>\n",
       "      <td>0.371706</td>\n",
       "      <td>0.389249</td>\n",
       "      <td>0.487535</td>\n",
       "    </tr>\n",
       "    <tr>\n",
       "      <th>17</th>\n",
       "      <td>0.876114</td>\n",
       "      <td>0.748547</td>\n",
       "      <td>0.928512</td>\n",
       "      <td>0.915491</td>\n",
       "    </tr>\n",
       "  </tbody>\n",
       "</table>\n",
       "</div>"
      ],
      "text/plain": [
       "    Caudate-dlPFC_after11  Caudate-dlPFC_during11  HPC-mPFC_after11  \\\n",
       "0                0.460766                0.440489          0.810134   \n",
       "1                0.908796                0.394611          0.975374   \n",
       "2                0.664353                0.289967          0.725598   \n",
       "3                0.595715                0.284513          0.760401   \n",
       "4                0.779449                0.377280          0.785094   \n",
       "5                0.821764                0.815392          0.915378   \n",
       "6                0.700218                0.641753          0.853678   \n",
       "7                0.193750                0.692863          0.481192   \n",
       "8                0.639865                0.525240          0.507341   \n",
       "9                0.591090                0.821668          0.738806   \n",
       "10               0.285813                0.124964          0.763310   \n",
       "11               0.142204                0.230018          0.660643   \n",
       "12               0.477911                0.600285          0.295570   \n",
       "13               0.561948                0.691910          0.815993   \n",
       "14               0.754589                0.475438          0.671654   \n",
       "15               0.824174                0.757429          0.876663   \n",
       "16               0.416646                0.371706          0.389249   \n",
       "17               0.876114                0.748547          0.928512   \n",
       "\n",
       "    HPC-mPFC_during11  \n",
       "0            0.713998  \n",
       "1            0.770179  \n",
       "2            0.761464  \n",
       "3            0.765271  \n",
       "4            0.733541  \n",
       "5            0.732639  \n",
       "6            0.553237  \n",
       "7            0.677939  \n",
       "8            0.836089  \n",
       "9            0.948062  \n",
       "10           0.870504  \n",
       "11           0.589347  \n",
       "12           0.785600  \n",
       "13           0.696156  \n",
       "14           0.649830  \n",
       "15           0.893113  \n",
       "16           0.487535  \n",
       "17           0.915491  "
      ]
     },
     "execution_count": 26,
     "metadata": {},
     "output_type": "execute_result"
    }
   ],
   "source": [
    "correlation_chart_df"
   ]
  },
  {
   "cell_type": "code",
   "execution_count": 27,
   "metadata": {
    "collapsed": false
   },
   "outputs": [
    {
     "name": "stdout",
     "output_type": "stream",
     "text": [
      "\n",
      "T-test: HPC-mPFC_after11 vs. HPC-mPFC_during11\n",
      "Ttest_relResult(statistic=0.51631995402936215, pvalue=0.61228187335807727)\n",
      "\n",
      "T-test: Caudate-dlPFC_after11 vs. Caudate-dlPFC_during11\n",
      "Ttest_relResult(statistic=-1.3460470133995992, pvalue=0.19596401911087558)\n",
      "\n"
     ]
    },
    {
     "data": {
      "image/png": "[encoded data removed]",
      "text/plain": [
       "<matplotlib.figure.Figure at 0x2b9ad22a3950>"
      ]
     },
     "metadata": {},
     "output_type": "display_data"
    }
   ],
   "source": [
    "%matplotlib inline\n",
    "import seaborn as sns\n",
    "sns.set_palette('muted')\n",
    "import matplotlib.pyplot as plt\n",
    "\n",
    "N = 4\n",
    "conditions = ['HPC-mPFC_during', 'HPC-mPFC_after', 'Caud-dlPFC_during', 'Caud-dlPFC_after']\n",
    "means_allsubjs = [np.average(correlation_chart['HPC-mPFC_during11']),\n",
    "                  np.average(correlation_chart['HPC-mPFC_after11']),\n",
    "                  np.average(correlation_chart['Caudate-dlPFC_during11']),\n",
    "                  np.average(correlation_chart['Caudate-dlPFC_after11'])]\n",
    "sem_allsubjs = [stats.sem(correlation_chart['HPC-mPFC_during11']),\n",
    "                stats.sem(correlation_chart['HPC-mPFC_after11']),\n",
    "                stats.sem(correlation_chart['Caudate-dlPFC_during11']),\n",
    "                stats.sem(correlation_chart['Caudate-dlPFC_after11'])]\n",
    "\n",
    "\n",
    "print \"\"\n",
    "print 'T-test: HPC-mPFC_after11 vs. HPC-mPFC_during11'\n",
    "print stats.ttest_rel(correlation_chart['HPC-mPFC_during11'], correlation_chart['HPC-mPFC_after11'])\n",
    "print \"\"\n",
    "\n",
    "print 'T-test: Caudate-dlPFC_after11 vs. Caudate-dlPFC_during11'\n",
    "print stats.ttest_rel(correlation_chart['Caudate-dlPFC_during11'], correlation_chart['Caudate-dlPFC_after11'])\n",
    "print \"\"\n",
    "\n",
    "ind = np.arange(N)\n",
    "width = 0.5\n",
    "\n",
    "fig, ax = plt.subplots(figsize=(10,5))\n",
    "\n",
    "ax.spines['right'].set_color('none')\n",
    "ax.spines['top'].set_color('none')\n",
    "ax.xaxis.set_ticks_position('bottom')\n",
    "ax.yaxis.set_ticks_position('left')\n",
    "\n",
    "ax = sns.barplot(ind, means_allsubjs, yerr = sem_allsubjs, ecolor = 'black')\n",
    "\n",
    "ax.set_xticks(ind)\n",
    "ax.set_xticklabels(conditions)\n",
    "ax.set_ylim(0.3,0.8)\n",
    "ax.set_ylabel(\"Pearsons r\")\n",
    "#ax.set_xlabel(\"Regional Correlations\")\n",
    "ax.set_title(\"Non-Normalized R Values\")\n",
    "plt.savefig(\"/home/data/madlab/scripts/wmaze/anal_MR_thesis/fixed_before_conditional/model3/11-11_bar.jpg\")\n",
    "plt.show()"
   ]
  },
  {
   "cell_type": "code",
   "execution_count": 13,
   "metadata": {
    "collapsed": false
   },
   "outputs": [
    {
     "ename": "SyntaxError",
     "evalue": "invalid syntax (<ipython-input-13-4f0015be896d>, line 18)",
     "output_type": "error",
     "traceback": [
      "\u001b[0;36m  File \u001b[0;32m\"<ipython-input-13-4f0015be896d>\"\u001b[0;36m, line \u001b[0;32m18\u001b[0m\n\u001b[0;31m    :\u001b[0m\n\u001b[0m    ^\u001b[0m\n\u001b[0;31mSyntaxError\u001b[0m\u001b[0;31m:\u001b[0m invalid syntax\n"
     ]
    }
   ],
   "source": [
    "N = 4\n",
    "conditions = ['HPC-mPFC During', 'HPC-mPFC After', 'Caud-dlPFC During', 'Caud-dlPFC After']\n",
    "\n",
    "means_allsubjs = [np.average(correlation_chart['HPC-mPFC_during11']),\n",
    "                  np.average(correlation_chart['HPC-mPFC_after11']),\n",
    "                  np.average(correlation_chart['Caudate-dlPFC_during11']),\n",
    "                  np.average(correlation_chart['Caudate-dlPFC_after11'])]\n",
    "sem_allsubjs = [stats.sem(correlation_chart['HPC-mPFC_during11']),\n",
    "                stats.sem(correlation_chart['HPC-mPFC_after11']),\n",
    "                stats.sem(correlation_chart['Caudate-dlPFC_during11']),\n",
    "                stats.sem(correlation_chart['Caudate-dlPFC_after11'])]\n",
    "\n",
    "fig, ax = plt.subplots()\n",
    "pal = [\"#7030a0\", \"#f79646\", \"#7030a0\", \"#f79646\"]\n",
    "pal = sns.color_palette(pal)\n",
    "pal2 = [\"#347ff9\", \"#347ff9\", \"#f9f96d\", \"#f9f96d\"]\n",
    "pal2 = sns.color_palette(pal2)\n",
    ":   \n",
    "sns.barplot(ind, means_allsubjs, yerr = sem_allsubjs, palette = pal2, \n",
    "            ecolor = 'black', edgecolor = pal, linewidth = 4)\n",
    "ax.set_xticklabels(conditions)\n",
    "ax.set_ylabel('')\n",
    "ax.set_ylim(0.3,0.8)\n",
    "plt.tight_layout()\n",
    "plt.savefig(\"/home/data/madlab/scripts/wmaze/anal_MR_thesis/fixed_before_conditional/model3/11-11window.jpg\")\n",
    "plt.show()"
   ]
  },
  {
   "cell_type": "code",
   "execution_count": null,
   "metadata": {
    "collapsed": false
   },
   "outputs": [],
   "source": [
    "print np.average(correlation_chart['HPC-mPFC_after11'])\n",
    "print np.average(correlation_chart['HPC-mPFC_during11'])\n",
    "print np.average(correlation_chart['Caudate-dlPFC_after11'])\n",
    "print np.average(correlation_chart['Caudate-dlPFC_during11'])\n",
    "print \"\"\n",
    "print np.std(correlation_chart['HPC-mPFC_after11'])\n",
    "print np.std(correlation_chart['HPC-mPFC_during11'])\n",
    "print np.std(correlation_chart['Caudate-dlPFC_after11'])\n",
    "print np.std(correlation_chart['Caudate-dlPFC_during11'])\n",
    "\n",
    "print 'HPC-mPFC During 11', stats.normaltest(correlation_chart['HPC-mPFC_during11'])[:]\n",
    "print 'HPC-mPFC After 11', stats.normaltest(correlation_chart['HPC-mPFC_after11'])[:]\n",
    "print \"\"\n",
    "print 'Caudate-dlPFC During 11', stats.normaltest(correlation_chart['Caudate-dlPFC_during11'])[:]\n",
    "print 'Caudate-dlPFC After 11', stats.normaltest(correlation_chart['Caudate-dlPFC_after11'])[:]"
   ]
  },
  {
   "cell_type": "markdown",
   "metadata": {},
   "source": [
    "## Normalized correlation matrix for beta series"
   ]
  },
  {
   "cell_type": "code",
   "execution_count": null,
   "metadata": {
    "collapsed": true
   },
   "outputs": [],
   "source": [
    "# Use Numpy's arctangent function to normalize correlations\n",
    "norm_corr = np.arctanh(corr_matrix[:, 1:])\n",
    "#print(norm_after11)"
   ]
  },
  {
   "cell_type": "code",
   "execution_count": null,
   "metadata": {
    "collapsed": false
   },
   "outputs": [],
   "source": [
    "import pandas as pd\n",
    "norm_chart = {}\n",
    "norm_chart['HPC-mPFC_after11'] = norm_corr[:, 0] #hpc-mpfc after11\n",
    "norm_chart['HPC-mPFC_during11'] = norm_corr[:, 1] #hpc-mpfc during11\n",
    "norm_chart['Caudate-dlPFC_after11'] = norm_corr[:, 2] #caudate-dlpfc after11\n",
    "norm_chart['Caudate-dlPFC_during11'] = norm_corr[:, 3] #caudate-dlpfc during11\n",
    "norm_chart_df = pd.DataFrame.from_dict(norm_chart)"
   ]
  },
  {
   "cell_type": "code",
   "execution_count": null,
   "metadata": {
    "collapsed": false
   },
   "outputs": [],
   "source": [
    "norm_chart_df"
   ]
  },
  {
   "cell_type": "markdown",
   "metadata": {},
   "source": [
    "### Descriptive Statistics"
   ]
  },
  {
   "cell_type": "code",
   "execution_count": null,
   "metadata": {
    "collapsed": false
   },
   "outputs": [],
   "source": [
    "print \"Mean: HPC-mPFC_after11\"\n",
    "print np.average(norm_corr[:, 0])\n",
    "print \"SD: HPC-mPFC_after11\"\n",
    "print stats.sem(norm_corr[:, 0])\n",
    "print \"\"\n",
    "print \"Mean: HPC-mPFC_during11\"\n",
    "print np.average(norm_corr[:, 1])\n",
    "print \"SD: HPC-mPFC_during11\"\n",
    "print stats.sem(norm_corr[:, 1])\n",
    "print \"\"\n",
    "print \"Mean: Caudate-dlPFC_after11\"\n",
    "print np.average(norm_corr[:, 2])\n",
    "print \"SD: Caudate-dlPFC_after11\"\n",
    "print stats.sem(norm_corr[:, 2])\n",
    "print \"\"\n",
    "print \"Mean: Caudate-dlPFC_during11\"\n",
    "print np.average(norm_corr[:, 3])\n",
    "print \"SD: Caudate-dlPFC_during11\"\n",
    "print stats.sem(norm_corr[:, 3])"
   ]
  },
  {
   "cell_type": "markdown",
   "metadata": {},
   "source": [
    "### Inferential Statistics"
   ]
  },
  {
   "cell_type": "code",
   "execution_count": null,
   "metadata": {
    "collapsed": false
   },
   "outputs": [],
   "source": [
    "print 'T-test: HPC-mPFC_after11 vs. HPC-mPFC_during11'\n",
    "print stats.ttest_rel(norm_corr[:, 0], norm_corr[:, 1])\n",
    "print \"\"\n",
    "\n",
    "print 'T-test: Caudate-dlPFC_after11 vs. Caudate-dlPFC_during11'\n",
    "print stats.ttest_rel(norm_corr[:, 2], norm_corr[:, 3])\n",
    "print \"\"\n",
    "\n",
    "print \"Bonferroni after11ection\"\n",
    "print '0.05/2 = 0.025'"
   ]
  },
  {
   "cell_type": "markdown",
   "metadata": {},
   "source": [
    "## Scatterplots illustrating regional activation across trials: Single subject"
   ]
  },
  {
   "cell_type": "markdown",
   "metadata": {},
   "source": [
    "### Hippocampus & mPFC: Fixed During vs. After Learning"
   ]
  },
  {
   "cell_type": "code",
   "execution_count": null,
   "metadata": {
    "collapsed": false,
    "scrolled": true
   },
   "outputs": [],
   "source": [
    "%matplotlib inline\n",
    "# Scatterplot\n",
    "\n",
    "ax = []\n",
    "for a in range(0, 11, 1):\n",
    "    ax.append(a)\n",
    "x = ax\n",
    "\n",
    "#print len(x)\n",
    "y = all_data['hp_during11'] #blue\n",
    "z = all_data['mPFC_during11'] #purple\n",
    "a = all_data['hp_after11'] #blue\n",
    "b = all_data['mPFC_after11'] #purple\n",
    "\n",
    "print i\n",
    "\n",
    "fig, (ax, ax2) = plt.subplots(ncols = 2, figsize=(11, 4), sharex = True, sharey = True)\n",
    "#fit = np.polyfit(x, y, deg = 1)\n",
    "ax.plot(x, y, color = 'blue')\n",
    "ax.scatter(x, y, c = 'blue', alpha = 0.5)\n",
    "#fit2 = np.polyfit(x, z, deg = 1)\n",
    "ax.plot(x, z, color = 'purple')\n",
    "ax.scatter(x, z, c = 'purple', alpha = 0.5)\n",
    "ax.set_ylabel('Activation')\n",
    "ax.set_xlabel('Trials')\n",
    "ax.set_title('During Learning')\n",
    "ax.legend(['Hippocampus', 'mPFC'], loc=4)\n",
    "\n",
    "\n",
    "#fit3 = np.polyfit(x, a, deg = 1) \n",
    "ax2.plot(x, a, color = 'blue')\n",
    "ax2.scatter(x, a, c = 'blue', alpha = 0.5)\n",
    "#fit4 = np.polyfit(x, b, deg = 1)\n",
    "ax2.plot(x, b, color = 'purple')\n",
    "ax2.scatter(x, b, c = 'purple', alpha = 0.5)\n",
    "ax2.set_xlabel('Trials')\n",
    "ax2.set_title('After Learning')\n",
    "ax2.legend(['Hippocampus', 'mPFC'], loc=4)\n",
    "plt.show()"
   ]
  },
  {
   "cell_type": "markdown",
   "metadata": {},
   "source": [
    "### Caudate & dlPFC: Fixed During vs. After Learning"
   ]
  },
  {
   "cell_type": "code",
   "execution_count": null,
   "metadata": {
    "collapsed": false
   },
   "outputs": [],
   "source": [
    "%matplotlib inline\n",
    "# Scatterplot\n",
    "\n",
    "ax = []\n",
    "for a in range(0, 11, 1):\n",
    "    ax.append(a)\n",
    "\n",
    "x = ax\n",
    "\n",
    "#print len(x)\n",
    "y = all_data['caudate_during11'] #blue\n",
    "z = all_data['dlPFC_during11'] #purple\n",
    "a = all_data['caudate_after11'] #blue\n",
    "b = all_data['dlPFC_after11'] #purple\n",
    "\n",
    "fig, (ax, ax2) = plt.subplots(ncols = 2, figsize=(11, 4), sharex = True, sharey = True)\n",
    "#fit = np.polyfit(x, y, deg = 1)\n",
    "ax.plot(x, y, color = 'blue')\n",
    "ax.scatter(x, y, c = 'blue', alpha = 0.5)\n",
    "#fit2 = np.polyfit(x, z, deg = 1)\n",
    "ax.plot(x, z, color = 'purple')\n",
    "ax.scatter(x, z, c = 'purple', alpha = 0.5)\n",
    "ax.set_ylabel('Activation')\n",
    "ax.set_xlabel('Trials')\n",
    "ax.set_title('During Learning')\n",
    "ax.legend(['Caudate', 'dlPFC'], loc=4)\n",
    "\n",
    "\n",
    "#fit3 = np.polyfit(x, a, deg = 1)\n",
    "ax2.plot(x, a, color = 'blue')\n",
    "ax2.scatter(x, a, c = 'blue', alpha = 0.5)\n",
    "#fit4 = np.polyfit(x, b, deg = 1)\n",
    "ax2.plot(x, b, color = 'purple')\n",
    "ax2.scatter(x, b, c = 'purple', alpha = 0.5)\n",
    "ax2.set_xlabel('Trials')\n",
    "ax2.set_title('After Learning')\n",
    "ax2.legend(['Caudate', 'dlPFC'], loc=4)\n",
    "plt.show()"
   ]
  },
  {
   "cell_type": "code",
   "execution_count": null,
   "metadata": {
    "collapsed": true
   },
   "outputs": [],
   "source": []
  }
 ],
 "metadata": {
  "anaconda-cloud": {},
  "kernelspec": {
   "display_name": "Python 2",
   "language": "python",
   "name": "python2"
  },
  "language_info": {
   "codemirror_mode": {
    "name": "ipython",
    "version": 2
   },
   "file_extension": ".py",
   "mimetype": "text/x-python",
   "name": "python",
   "nbconvert_exporter": "python",
   "pygments_lexer": "ipython2",
   "version": "2.7.12"
  }
 },
 "nbformat": 4,
 "nbformat_minor": 2
}
