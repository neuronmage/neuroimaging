{
 "cells": [
  {
   "cell_type": "markdown",
   "metadata": {},
   "source": [
    "# MODEL 3 1-3-2\n",
    "### Contains only fixed-before-conditional trials without intervening BLs\n",
    "### Combines A & C trials into single regressor\n",
    "### Accounts for last three noisy volumes in Lvl 1 analysis (FSL ROI -- ExtractROI)"
   ]
  },
  {
   "cell_type": "markdown",
   "metadata": {},
   "source": [
    "## Compares activation for regions of interest using binarized masks:\n",
    "### Hippocampus (FS labels: hippocampus [17, 53])\n",
    "### Dorsal caudate (hand-drawn by Mandy)\n",
    "### Putamen (FS labels: putamen [12, 51])"
   ]
  },
  {
   "cell_type": "code",
   "execution_count": 2,
   "metadata": {
    "collapsed": false,
    "scrolled": true
   },
   "outputs": [],
   "source": [
    "import os\n",
    "from glob import glob\n",
    "\n",
    "sids = ['WMAZE_001', 'WMAZE_002', 'WMAZE_004', 'WMAZE_005', 'WMAZE_006', \n",
    "        'WMAZE_007', 'WMAZE_008', 'WMAZE_009', 'WMAZE_010', 'WMAZE_012', \n",
    "        'WMAZE_017', 'WMAZE_018', 'WMAZE_019', 'WMAZE_020', 'WMAZE_021',  \n",
    "        'WMAZE_022', 'WMAZE_023', 'WMAZE_024', 'WMAZE_026', 'WMAZE_027']\n",
    "\n",
    "proj_dir = '/home/data/madlab/data/mri/wmaze'\n",
    " \n",
    "mask_filenames = []\n",
    "cope_files = []\n",
    "\n",
    "for SID in sids:\n",
    "    mask_filenames_glob = glob(proj_dir + '/roi_analysis/MRthesis/fb4c_2/mask/anat_masks/_subject_id_' \n",
    "                               + SID + '/_anatmask_xfm*/*')\n",
    "    mask_filenames.append(mask_filenames_glob)\n",
    "\n",
    "    subjcopes_glob = glob(proj_dir + '/scndlvl/wmaze_MRthesis/fixed_before_conditional/model3_1-3-2/' \n",
    "                          + SID + '/fixedfx/cope_*')\n",
    "    cope_files.append(subjcopes_glob)\n",
    "    if len(cope_files[-1]) == 0:\n",
    "        print(SID)"
   ]
  },
  {
   "cell_type": "markdown",
   "metadata": {},
   "source": [
    "## Cell to double-check the array indexing"
   ]
  },
  {
   "cell_type": "code",
   "execution_count": null,
   "metadata": {
    "collapsed": false,
    "scrolled": true
   },
   "outputs": [],
   "source": [
    "print 'left hippocampus'\n",
    "print(mask_filenames[0][0]) #lh-hippocampus\n",
    "print 'left caudate'\n",
    "print(mask_filenames[0][1]) #lh-caudate\n",
    "print 'right caudate'\n",
    "print(mask_filenames[0][2]) #rh-caudate\n",
    "print 'right hippocampus'\n",
    "print(mask_filenames[0][3]) #rh-hippocamus\n",
    "print 'left putamen'\n",
    "print(mask_filenames[0][4]) #lh-putamen\n",
    "print 'right putamen'\n",
    "print(mask_filenames[0][5]) #rh-putamen\n",
    "\n",
    "print '-----'\n",
    "\n",
    "print 'all_before_B_corr'\n",
    "print(cope_files[0][0]) #A_before_B_corr\n",
    "print 'all_before_B_incorr'\n",
    "print(cope_files[0][1]) #A_before_B_incorr\n",
    "print 'all_remaining'\n",
    "print(cope_files[0][2]) #C_before_B_corr\n",
    "print 'all_corr_vs_all_incorr'\n",
    "print(cope_files[0][3]) #C_before_B_incorr\n",
    "print 'all_incorr_vs_all_corr'\n",
    "print(cope_files[0][4]) #all_A_and_C\n",
    "\n",
    "\n",
    "\n",
    "#for i in cope_files:\n",
    "#    print(len(i))"
   ]
  },
  {
   "cell_type": "markdown",
   "metadata": {},
   "source": [
    "### Use binarized mask to obtain activation in left & right hemisphere for each region of interest"
   ]
  },
  {
   "cell_type": "code",
   "execution_count": 3,
   "metadata": {
    "collapsed": true,
    "scrolled": true
   },
   "outputs": [],
   "source": [
    "import nibabel as nb\n",
    "import pandas as pd\n",
    "import numpy as np\n",
    "\n",
    "\n",
    "#Dictionary containing multiple arrays referenced by keywords\n",
    "all_data = {'subjid':[],\n",
    "            'lhhp_all_before_B_corr':[], 'rhhp_all_before_B_corr':[], \n",
    "            'lhhp_all_before_B_incorr':[], 'rhhp_all_before_B_incorr':[],\n",
    "            'lhhp_all_remaining':[], 'rhhp_all_remaining':[],\n",
    "            'lhhp_all_corr_vs_all_incorr':[], 'rhhp_all_corr_vs_all_incorr':[], \n",
    "            'lhhp_all_incorr_vs_all_corr':[], 'rhhp_all_incorr_vs_all_corr':[],\n",
    "            \n",
    "            'lhcaudate_all_before_B_corr':[], 'rhcaudate_all_before_B_corr':[], \n",
    "            'lhcaudate_all_before_B_incorr':[], 'rhcaudate_all_before_B_incorr':[],\n",
    "            'lhcaudate_all_remaining':[], 'rhcaudate_all_remaining':[],\n",
    "            'lhcaudate_all_corr_vs_all_incorr':[], 'rhcaudate_all_corr_vs_all_incorr':[], \n",
    "            'lhcaudate_all_incorr_vs_all_corr':[], 'rhcaudate_all_incorr_vs_all_corr':[],\n",
    "            \n",
    "            'lhputamen_all_before_B_corr':[], 'rhputamen_all_before_B_corr':[], \n",
    "            'lhputamen_all_before_B_incorr':[], 'rhputamen_all_before_B_incorr':[],\n",
    "            'lhputamen_all_remaining':[], 'rhputamen_all_remaining':[],\n",
    "            'lhputamen_all_corr_vs_all_incorr':[], 'rhputamen_all_corr_vs_all_incorr':[], \n",
    "            'lhputamen_all_incorr_vs_all_corr':[], 'rhputamen_all_incorr_vs_all_corr':[]}\n",
    "\n",
    "\n",
    "# For each interation in the length of subject ids\n",
    "for i in range(len(sids)):\n",
    "    #Append the subject id\n",
    "    all_data['subjid'].append(sids[i])\n",
    "    #Load the left and right hippocampus mask files using Nibabel \n",
    "    lh_hp_img = nb.load(mask_filenames[i][0])\n",
    "    rh_hp_img = nb.load(mask_filenames[i][3])\n",
    "    lh_caudate_img = nb.load(mask_filenames[i][1])\n",
    "    rh_caudate_img = nb.load(mask_filenames[i][2])\n",
    "    lh_putamen_img = nb.load(mask_filenames[i][4])\n",
    "    rh_putamen_img = nb.load(mask_filenames[i][5])\n",
    "\n",
    "    \n",
    "    #Load copes for individual trial types\n",
    "    all_before_B_corr_img = nb.load(cope_files[i][0])\n",
    "    all_before_B_incorr_img = nb.load(cope_files[i][1])\n",
    "    all_remaining_img = nb.load(cope_files[i][2])\n",
    "    all_corr_vs_all_incorr_img = nb.load(cope_files[i][3])\n",
    "    all_incorr_vs_all_corr_img = nb.load(cope_files[i][4])\n",
    "\n",
    "    \n",
    "    \n",
    "    ########################\n",
    "    ### Left Hippocampus ###\n",
    "    ########################\n",
    "    \n",
    "    # all_before_B_corr\n",
    "    lh_hp_all_before_B_corr_data = all_before_B_corr_img.get_data()[lh_hp_img.get_data() > 0.]\n",
    "    all_data['lhhp_all_before_B_corr'].append(np.mean(lh_hp_all_before_B_corr_data))\n",
    "    \n",
    "    # all_before_B_incorr\n",
    "    lh_hp_all_before_B_incorr_data = all_before_B_incorr_img.get_data()[lh_hp_img.get_data() > 0.]\n",
    "    all_data['lhhp_all_before_B_incorr'].append(np.mean(lh_hp_all_before_B_incorr_data))\n",
    "    \n",
    "    # all_remaining\n",
    "    lh_hp_all_remaining_data = all_remaining_img.get_data()[lh_hp_img.get_data() > 0.]\n",
    "    all_data['lhhp_all_remaining'].append(np.mean(lh_hp_all_remaining_data))\n",
    "       \n",
    "    # all_corr_vs_all_incorr\n",
    "    lh_hp_all_corr_vs_all_incorr_data = all_corr_vs_all_incorr_img.get_data()[lh_hp_img.get_data() > 0.]\n",
    "    all_data['lhhp_all_corr_vs_all_incorr'].append(np.mean(lh_hp_all_corr_vs_all_incorr_data)) \n",
    "    \n",
    "    # all_incorr_vs_all_corr\n",
    "    lh_hp_all_incorr_vs_all_corr_data = all_incorr_vs_all_corr_img.get_data()[lh_hp_img.get_data() > 0.]\n",
    "    all_data['lhhp_all_incorr_vs_all_corr'].append(np.mean(lh_hp_all_incorr_vs_all_corr_data)) \n",
    "\n",
    "    \n",
    "    #########################\n",
    "    ### Right Hippocampus ###\n",
    "    #########################\n",
    "    \n",
    "    # all_before_B_corr\n",
    "    rh_hp_all_before_B_corr_data = all_before_B_corr_img.get_data()[rh_hp_img.get_data() > 0.]\n",
    "    all_data['rhhp_all_before_B_corr'].append(np.mean(rh_hp_all_before_B_corr_data))\n",
    "\n",
    "    # all_before_B_incorr\n",
    "    rh_hp_all_before_B_incorr_data = all_before_B_incorr_img.get_data()[rh_hp_img.get_data() > 0.]\n",
    "    all_data['rhhp_all_before_B_incorr'].append(np.mean(rh_hp_all_before_B_incorr_data))\n",
    "\n",
    "    # all_remaining\n",
    "    rh_hp_all_remaining_data = all_remaining_img.get_data()[rh_hp_img.get_data() > 0.]\n",
    "    all_data['rhhp_all_remaining'].append(np.mean(rh_hp_all_remaining_data))\n",
    "\n",
    "    # all_corr_vs_all_incorr\n",
    "    rh_hp_all_corr_vs_all_incorr_data = all_corr_vs_all_incorr_img.get_data()[rh_hp_img.get_data() > 0.]\n",
    "    all_data['rhhp_all_corr_vs_all_incorr'].append(np.mean(rh_hp_all_corr_vs_all_incorr_data)) \n",
    "\n",
    "    # all_incorr_vs_all_corr\n",
    "    rh_hp_all_incorr_vs_all_corr_data = all_incorr_vs_all_corr_img.get_data()[rh_hp_img.get_data() > 0.]\n",
    "    all_data['rhhp_all_incorr_vs_all_corr'].append(np.mean(rh_hp_all_incorr_vs_all_corr_data)) \n",
    "\n",
    "    \n",
    "    ####################\n",
    "    ### Left Caudate ###\n",
    "    ####################\n",
    "    \n",
    "    # all_before_B_corr\n",
    "    lh_caudate_all_before_B_corr_data = all_before_B_corr_img.get_data()[lh_caudate_img.get_data() > 0.]\n",
    "    all_data['lhcaudate_all_before_B_corr'].append(np.mean(lh_caudate_all_before_B_corr_data))\n",
    "    \n",
    "    # all_before_B_incorr\n",
    "    lh_caudate_all_before_B_incorr_data = all_before_B_incorr_img.get_data()[lh_caudate_img.get_data() > 0.]\n",
    "    all_data['lhcaudate_all_before_B_incorr'].append(np.mean(lh_caudate_all_before_B_incorr_data))\n",
    "    \n",
    "    # all_remaining\n",
    "    lh_caudate_all_remaining_data = all_remaining_img.get_data()[lh_caudate_img.get_data() > 0.]\n",
    "    all_data['lhcaudate_all_remaining'].append(np.mean(lh_caudate_all_remaining_data))\n",
    "       \n",
    "    # all_corr_vs_all_incorr\n",
    "    lh_caudate_all_corr_vs_all_incorr_data = all_corr_vs_all_incorr_img.get_data()[lh_caudate_img.get_data() > 0.]\n",
    "    all_data['lhcaudate_all_corr_vs_all_incorr'].append(np.mean(lh_caudate_all_corr_vs_all_incorr_data)) \n",
    "    \n",
    "    # all_incorr_vs_all_corr\n",
    "    lh_caudate_all_incorr_vs_all_corr_data = all_incorr_vs_all_corr_img.get_data()[lh_caudate_img.get_data() > 0.]\n",
    "    all_data['lhcaudate_all_incorr_vs_all_corr'].append(np.mean(lh_caudate_all_incorr_vs_all_corr_data)) \n",
    "    \n",
    "    \n",
    "    #####################\n",
    "    ### Right Caudate ###\n",
    "    ##################### \n",
    "    \n",
    "    # all_before_B_corr\n",
    "    rh_caudate_all_before_B_corr_data = all_before_B_corr_img.get_data()[rh_caudate_img.get_data() > 0.]\n",
    "    all_data['rhcaudate_all_before_B_corr'].append(np.mean(rh_caudate_all_before_B_corr_data))\n",
    "\n",
    "    # all_before_B_incorr\n",
    "    rh_caudate_all_before_B_incorr_data = all_before_B_incorr_img.get_data()[rh_caudate_img.get_data() > 0.]\n",
    "    all_data['rhcaudate_all_before_B_incorr'].append(np.mean(rh_caudate_all_before_B_incorr_data))\n",
    "\n",
    "    # all_remaining\n",
    "    rh_caudate_all_remaining_data = all_remaining_img.get_data()[rh_caudate_img.get_data() > 0.]\n",
    "    all_data['rhcaudate_all_remaining'].append(np.mean(rh_caudate_all_remaining_data))\n",
    "\n",
    "    # all_corr_vs_all_incorr\n",
    "    rh_caudate_all_corr_vs_all_incorr_data = all_corr_vs_all_incorr_img.get_data()[rh_caudate_img.get_data() > 0.]\n",
    "    all_data['rhcaudate_all_corr_vs_all_incorr'].append(np.mean(rh_caudate_all_corr_vs_all_incorr_data)) \n",
    "\n",
    "    # all_incorr_vs_all_corr\n",
    "    rh_caudate_all_incorr_vs_all_corr_data = all_incorr_vs_all_corr_img.get_data()[rh_caudate_img.get_data() > 0.]\n",
    "    all_data['rhcaudate_all_incorr_vs_all_corr'].append(np.mean(rh_caudate_all_incorr_vs_all_corr_data)) \n",
    "    \n",
    "    \n",
    "    ####################\n",
    "    ### Left Putamen ###\n",
    "    ####################\n",
    "    \n",
    "    # all_before_B_corr\n",
    "    lh_putamen_all_before_B_corr_data = all_before_B_corr_img.get_data()[lh_putamen_img.get_data() > 0.]\n",
    "    all_data['lhputamen_all_before_B_corr'].append(np.mean(lh_putamen_all_before_B_corr_data))\n",
    "    \n",
    "    # all_before_B_incorr\n",
    "    lh_putamen_all_before_B_incorr_data = all_before_B_incorr_img.get_data()[lh_putamen_img.get_data() > 0.]\n",
    "    all_data['lhputamen_all_before_B_incorr'].append(np.mean(lh_putamen_all_before_B_incorr_data))\n",
    "    \n",
    "    # all_remaining\n",
    "    lh_putamen_all_remaining_data = all_remaining_img.get_data()[lh_putamen_img.get_data() > 0.]\n",
    "    all_data['lhputamen_all_remaining'].append(np.mean(lh_putamen_all_remaining_data))\n",
    "       \n",
    "    # all_corr_vs_all_incorr\n",
    "    lh_putamen_all_corr_vs_all_incorr_data = all_corr_vs_all_incorr_img.get_data()[lh_putamen_img.get_data() > 0.]\n",
    "    all_data['lhputamen_all_corr_vs_all_incorr'].append(np.mean(lh_putamen_all_corr_vs_all_incorr_data)) \n",
    "    \n",
    "    # all_incorr_vs_all_corr\n",
    "    lh_putamen_all_incorr_vs_all_corr_data = all_incorr_vs_all_corr_img.get_data()[lh_putamen_img.get_data() > 0.]\n",
    "    all_data['lhputamen_all_incorr_vs_all_corr'].append(np.mean(lh_putamen_all_incorr_vs_all_corr_data)) \n",
    "    \n",
    "    \n",
    "    #####################\n",
    "    ### Right Putamen ###\n",
    "    #####################\n",
    "    \n",
    "    # all_before_B_corr\n",
    "    rh_putamen_all_before_B_corr_data = all_before_B_corr_img.get_data()[rh_putamen_img.get_data() > 0.]\n",
    "    all_data['rhputamen_all_before_B_corr'].append(np.mean(rh_putamen_all_before_B_corr_data))\n",
    "\n",
    "    # all_before_B_incorr\n",
    "    rh_putamen_all_before_B_incorr_data = all_before_B_incorr_img.get_data()[rh_putamen_img.get_data() > 0.]\n",
    "    all_data['rhputamen_all_before_B_incorr'].append(np.mean(rh_putamen_all_before_B_incorr_data))\n",
    "\n",
    "    # all_remaining\n",
    "    rh_putamen_all_remaining_data = all_remaining_img.get_data()[rh_putamen_img.get_data() > 0.]\n",
    "    all_data['rhputamen_all_remaining'].append(np.mean(rh_putamen_all_remaining_data))\n",
    "\n",
    "    # all_corr_vs_all_incorr\n",
    "    rh_putamen_all_corr_vs_all_incorr_data = all_corr_vs_all_incorr_img.get_data()[rh_putamen_img.get_data() > 0.]\n",
    "    all_data['rhputamen_all_corr_vs_all_incorr'].append(np.mean(rh_putamen_all_corr_vs_all_incorr_data)) \n",
    "\n",
    "    # all_incorr_vs_all_corr\n",
    "    rh_putamen_all_incorr_vs_all_corr_data = all_incorr_vs_all_corr_img.get_data()[rh_putamen_img.get_data() > 0.]\n",
    "    all_data['rhputamen_all_incorr_vs_all_corr'].append(np.mean(rh_putamen_all_incorr_vs_all_corr_data)) \n",
    "\n",
    "    \n",
    "all_data_df = pd.DataFrame(all_data)"
   ]
  },
  {
   "cell_type": "markdown",
   "metadata": {},
   "source": [
    "### Combine the two hemispheres to create one regional average"
   ]
  },
  {
   "cell_type": "code",
   "execution_count": 4,
   "metadata": {
    "collapsed": true,
    "scrolled": true
   },
   "outputs": [],
   "source": [
    "#Hippocampus average for each trial type\n",
    "all_data_df['hp_all_before_B_corr'] = (all_data_df['lhhp_all_before_B_corr'] + \n",
    "                                       all_data_df['rhhp_all_before_B_corr'])/2.\n",
    "all_data_df['hp_all_before_B_incorr'] = (all_data_df['lhhp_all_before_B_incorr'] + \n",
    "                                         all_data_df['rhhp_all_before_B_incorr'])/2.\n",
    "all_data_df['hp_all_remaining'] = (all_data_df['lhhp_all_remaining'] + \n",
    "                                   all_data_df['rhhp_all_remaining'])/2.\n",
    "all_data_df['hp_all_corr_vs_all_incorr'] = (all_data_df['lhhp_all_corr_vs_all_incorr'] + \n",
    "                                            all_data_df['rhhp_all_corr_vs_all_incorr'])/2.\n",
    "all_data_df['hp_all_incorr_vs_all_corr'] = (all_data_df['lhhp_all_incorr_vs_all_corr'] + \n",
    "                                            all_data_df['rhhp_all_incorr_vs_all_corr'])/2.\n",
    "\n",
    "\n",
    "#Caudate average for each trial type\n",
    "all_data_df['caudate_all_before_B_corr'] = (all_data_df['lhcaudate_all_before_B_corr'] + \n",
    "                                            all_data_df['rhcaudate_all_before_B_corr'])/2.\n",
    "all_data_df['caudate_all_before_B_incorr'] = (all_data_df['lhcaudate_all_before_B_incorr'] + \n",
    "                                              all_data_df['rhcaudate_all_before_B_incorr'])/2.\n",
    "all_data_df['caudate_all_remaining'] = (all_data_df['lhcaudate_all_remaining'] + \n",
    "                                        all_data_df['rhcaudate_all_remaining'])/2.\n",
    "all_data_df['caudate_all_corr_vs_all_incorr'] = (all_data_df['lhcaudate_all_corr_vs_all_incorr'] + \n",
    "                                                 all_data_df['rhcaudate_all_corr_vs_all_incorr'])/2.\n",
    "all_data_df['caudate_all_incorr_vs_all_corr'] = (all_data_df['lhcaudate_all_incorr_vs_all_corr'] + \n",
    "                                                 all_data_df['rhcaudate_all_incorr_vs_all_corr'])/2.\n",
    "\n",
    "\n",
    "#Putamen average for each trial type\n",
    "all_data_df['putamen_all_before_B_corr'] = (all_data_df['lhputamen_all_before_B_corr'] + \n",
    "                                            all_data_df['rhputamen_all_before_B_corr'])/2.\n",
    "all_data_df['putamen_all_before_B_incorr'] = (all_data_df['lhputamen_all_before_B_incorr'] + \n",
    "                                              all_data_df['rhputamen_all_before_B_incorr'])/2.\n",
    "all_data_df['putamen_all_remaining'] = (all_data_df['lhputamen_all_remaining'] + \n",
    "                                        all_data_df['rhputamen_all_remaining'])/2.\n",
    "all_data_df['putamen_all_corr_vs_all_incorr'] = (all_data_df['lhputamen_all_corr_vs_all_incorr'] + \n",
    "                                                 all_data_df['rhputamen_all_corr_vs_all_incorr'])/2.\n",
    "all_data_df['putamen_all_incorr_vs_all_corr'] = (all_data_df['lhputamen_all_incorr_vs_all_corr'] + \n",
    "                                                 all_data_df['rhputamen_all_incorr_vs_all_corr'])/2."
   ]
  },
  {
   "cell_type": "code",
   "execution_count": 5,
   "metadata": {
    "collapsed": false
   },
   "outputs": [],
   "source": [
    "#Provides performance for Conditional trials\n",
    "\n",
    "%matplotlib inline\n",
    "from os.path import join\n",
    "import numpy as np\n",
    "from scipy.stats import pearsonr\n",
    "import pandas as pd\n",
    "from glob import glob\n",
    "from pylab import *\n",
    "import matplotlib.pyplot as plt\n",
    "import seaborn as sns\n",
    "sns.set_palette('muted')\n",
    "\n",
    "subs = ['WMAZE_001', 'WMAZE_002', 'WMAZE_004', 'WMAZE_005', 'WMAZE_006', 'WMAZE_007',\n",
    "        'WMAZE_008', 'WMAZE_009', 'WMAZE_010', 'WMAZE_012', 'WMAZE_017', 'WMAZE_018',\n",
    "        'WMAZE_019', 'WMAZE_020', 'WMAZE_021', 'WMAZE_022', 'WMAZE_023', 'WMAZE_024',\n",
    "        'WMAZE_026', 'WMAZE_027']\n",
    "\n",
    "all_prop_B_corr = []\n",
    "\n",
    "for sub in subs:\n",
    "    sub_dir = '/home/data/madlab/data/mri/wmaze/scanner_behav/{0}/'.format(sub)\n",
    "    dir_file = glob(join(sub_dir, '{0}_wmazebl_2015*.txt'.format(sub)))   \n",
    "    dir_file.sort()    \n",
    "    \n",
    "    data_run1 = pd.read_table(dir_file[0])\n",
    "    data_run1 = data_run1[:-3]\n",
    "    data_run2 = pd.read_table(dir_file[1])\n",
    "    data_run2 = data_run2[:-3]\n",
    "    data_run3 = pd.read_table(dir_file[2])\n",
    "    data_run3 = data_run3[:-3]\n",
    "    data_run4 = pd.read_table(dir_file[3])\n",
    "    data_run4 = data_run4[:-3]\n",
    "    data_run5 = pd.read_table(dir_file[4])\n",
    "    data_run5 = data_run5[:-3]\n",
    "    data_run6 = pd.read_table(dir_file[5])\n",
    "    data_run6 = data_run6[:-3]\n",
    "    \n",
    "    all_runs = [data_run1, data_run2, data_run3, data_run4, data_run5, data_run6]    \n",
    "    data_set = pd.concat(all_runs)\n",
    "    \n",
    "    trialtype = data_set['TrialType'].values\n",
    "    correct = data_set['Correct'].values \n",
    "    \n",
    "    all_B_corr = np.where((trialtype == 'B') & (correct == 1))[0]\n",
    "    all_B_incorr = np.where((trialtype == 'B') & (correct == 0))[0]\n",
    "    \n",
    "    prop_B_corr = len(all_B_corr)/float(len(all_B_corr) + len(all_B_incorr))\n",
    "    all_prop_B_corr.append(prop_B_corr)"
   ]
  },
  {
   "cell_type": "markdown",
   "metadata": {},
   "source": [
    "## Hippocampus Stats"
   ]
  },
  {
   "cell_type": "code",
   "execution_count": 7,
   "metadata": {
    "collapsed": false,
    "scrolled": false
   },
   "outputs": [
    {
     "name": "stdout",
     "output_type": "stream",
     "text": [
      "all_before_B_corr mean\n",
      "-1.30885470174\n",
      "all_before_B_incorr\n",
      "-2.4400381187\n",
      "T-test: Hippocampus all_before_B_corr vs. all_before_B_incorr\n",
      "Ttest_relResult(statistic=4.0552400236334325, pvalue=0.00067536878486218607)\n",
      "Cohen's d =  0.805641694762\n"
     ]
    },
    {
     "name": "stderr",
     "output_type": "stream",
     "text": [
      "/home/data/madlab/envs/wmaze_madlab_env/lib/python2.7/site-packages/matplotlib/collections.py:590: FutureWarning: elementwise comparison failed; returning scalar instead, but in the future will perform elementwise comparison\n",
      "  if self._edgecolors == str('face'):\n"
     ]
    },
    {
     "data": {
      "image/png": "[encoded data removed]",
      "text/plain": [
       "<matplotlib.figure.Figure at 0x2b5b4eac2110>"
      ]
     },
     "metadata": {},
     "output_type": "display_data"
    }
   ],
   "source": [
    "%matplotlib inline\n",
    "import seaborn as sns\n",
    "import matplotlib.pyplot as plt\n",
    "sns.set_palette('muted')\n",
    "#sns.set_style(\"darkgrid\")\n",
    "\n",
    "from scipy import stats\n",
    "from math import sqrt\n",
    "\n",
    "print 'all_before_B_corr mean'\n",
    "print all_data_df['hp_all_before_B_corr'].mean()\n",
    "print 'all_before_B_incorr'\n",
    "print all_data_df['hp_all_before_B_incorr'].mean()\n",
    "\n",
    "\n",
    "print 'T-test: Hippocampus all_before_B_corr vs. all_before_B_incorr'\n",
    "print stats.ttest_rel(all_data_df['hp_all_before_B_corr'], all_data_df['hp_all_before_B_incorr'])\n",
    "\n",
    "cohens_d = ((np.average(all_data_df['hp_all_before_B_corr']) - np.average(all_data_df['hp_all_before_B_incorr'])) \n",
    "            / (sqrt((np.std(all_data_df['hp_all_before_B_corr'], ddof = 1)) \n",
    "            ** 2 + np.std(all_data_df['hp_all_before_B_incorr'], ddof = 1) ** 2) / 2))\n",
    "print \"Cohen's d = \", cohens_d\n",
    "\n",
    "\n",
    "N = 2\n",
    "conditions = ['FIXED before Corr COND', 'FIXED before incorr COND']\n",
    "\n",
    "hp_means_allsubjs = [np.mean(all_data_df['hp_all_before_B_corr']), \n",
    "                     np.mean(all_data_df['hp_all_before_B_incorr'])]\n",
    "hp_sem_allsubjs = [stats.sem(all_data_df['hp_all_before_B_corr']), \n",
    "                   stats.sem(all_data_df['hp_all_before_B_incorr'])]\n",
    "ind = np.arange(N)\n",
    "fig, ax = plt.subplots()\n",
    "pal = [\"#30b55c\", \"#e06243\"]\n",
    "pal = sns.color_palette(pal)\n",
    "\n",
    "      \n",
    "ax = sns.barplot(ind, np.array(hp_means_allsubjs)+3, yerr = hp_sem_allsubjs,\n",
    "                 color = \"#278fea\", ecolor = 'black', edgecolor = pal, linewidth = 4, bottom = -3)\n",
    "\n",
    "plt.xticks([], [])\n",
    "#ax.set_xticklabels(conditions)\n",
    "ax.set_ylabel('')\n",
    "ax.set_ylim(-3,0)\n",
    "ax.set_xlabel(\"Trial Type\")\n",
    "ax.set_ylabel(\"Arbitrary units\")\n",
    "ax.set_title(\"Hippocampal Activation\")\n",
    "plt.tight_layout()\n",
    "plt.savefig(\"/home/data/madlab/scripts/wmaze/anal_MR_thesis/fixed_before_conditional/model3/chpc_activation.jpg\")\n",
    "plt.show()"
   ]
  },
  {
   "cell_type": "code",
   "execution_count": 65,
   "metadata": {
    "collapsed": false
   },
   "outputs": [
    {
     "data": {
      "image/png": "[encoded data removed]",
      "text/plain": [
       "<matplotlib.figure.Figure at 0x2b5b5751ed10>"
      ]
     },
     "metadata": {},
     "output_type": "display_data"
    }
   ],
   "source": [
    "%matplotlib inline\n",
    "import seaborn as sns\n",
    "import matplotlib.pyplot as plt\n",
    "sns.set_palette('muted')\n",
    "#sns.set_style(\"darkgrid\")\n",
    "\n",
    "from scipy import stats\n",
    "from math import sqrt\n",
    "\n",
    "N = 2\n",
    "conditions = ['FIXED before Corr COND', 'FIXED before incorr COND']\n",
    "\n",
    "hp_allsubjs = [all_data_df['hp_all_before_B_corr'], \n",
    "               all_data_df['hp_all_before_B_incorr']]\n",
    "ind = np.arange(N)\n",
    "pal = [\"#30b55c\", \"#e06243\"]\n",
    "pal = sns.color_palette(pal)\n",
    "\n",
    "fig, ax = plt.subplots(figsize = (4,4))\n",
    "ax0 = sns.boxplot(data = hp_allsubjs, color = \"#278fea\", width = 0.3)\n",
    "ax2 = sns.swarmplot(data = hp_allsubjs, color='.25')\n",
    "\n",
    "#ax = sns.barplot(ind, np.array(hp_means_allsubjs)+3, yerr = hp_sem_allsubjs,\n",
    "#                 color = \"#278fea\", ecolor = 'black', edgecolor = pal, linewidth = 4, bottom = -3)\n",
    "\n",
    "ax.set_xticklabels(conditions)\n",
    "ax.set_xticks(ind)\n",
    "ax.set_xlabel(\"Trial Type\")\n",
    "ax.set_ylabel(\"Arbitrary units\")\n",
    "ax.set_title(\"Hippocampal Activation\")\n",
    "plt.show()\n",
    "\n",
    "\n"
   ]
  },
  {
   "cell_type": "markdown",
   "metadata": {},
   "source": [
    "## Caudate Stats"
   ]
  },
  {
   "cell_type": "code",
   "execution_count": 11,
   "metadata": {
    "collapsed": false,
    "scrolled": true
   },
   "outputs": [
    {
     "name": "stdout",
     "output_type": "stream",
     "text": [
      "all_before_B_corr\n",
      "0.842863067612\n",
      "all_before_B_incorr\n",
      "1.32298891358\n",
      "T-test: Caudate all_before_B_corr vs. all_before_B_incorr\n",
      "Ttest_relResult(statistic=-1.5067181720815932, pvalue=0.14832917492269207)\n",
      "Cohen's d =  -0.32713691091\n"
     ]
    },
    {
     "data": {
      "image/png": "[encoded data removed]",
      "text/plain": [
       "<matplotlib.figure.Figure at 0x2acdc2e6c150>"
      ]
     },
     "metadata": {},
     "output_type": "display_data"
    }
   ],
   "source": [
    "import seaborn as sns\n",
    "import matplotlib.pyplot as plt\n",
    "sns.set_palette('muted')\n",
    "#sns.set_style(\"darkgrid\")\n",
    "from scipy import stats\n",
    "\n",
    "print 'all_before_B_corr'\n",
    "print all_data_df['caudate_all_before_B_corr'].mean()\n",
    "print 'all_before_B_incorr'\n",
    "print all_data_df['caudate_all_before_B_incorr'].mean()\n",
    "\n",
    "print 'T-test: Caudate all_before_B_corr vs. all_before_B_incorr'\n",
    "print stats.ttest_rel(all_data_df['caudate_all_before_B_corr'], all_data_df['caudate_all_before_B_incorr'])\n",
    "\n",
    "cohens_d = ((np.average(all_data_df['caudate_all_before_B_corr']) \n",
    "             - np.average(all_data_df['caudate_all_before_B_incorr'])) \n",
    "            / (sqrt((np.std(all_data_df['caudate_all_before_B_corr'], ddof = 1)) \n",
    "            ** 2 + np.std(all_data_df['caudate_all_before_B_incorr'], ddof = 1) ** 2) / 2))\n",
    "print \"Cohen's d = \", cohens_d\n",
    "\n",
    "N = 2\n",
    "conditions = ['FIXED before Corr COND', 'FIXED before incorr COND']\n",
    "\n",
    "caudate_means_allsubjs = [np.mean(all_data_df['caudate_all_before_B_corr']), \n",
    "                          np.mean(all_data_df['caudate_all_before_B_incorr'])]\n",
    "caudate_sem_allsubjs = [stats.sem(all_data_df['caudate_all_before_B_corr']), \n",
    "                        stats.sem(all_data_df['caudate_all_before_B_incorr'])]\n",
    "\n",
    "fig, ax = plt.subplots()\n",
    "\n",
    "pal = [\"#30b55c\", \"#e06243\"]\n",
    "pal = sns.color_palette(pal)\n",
    "\n",
    "ax = sns.barplot(ind, caudate_means_allsubjs, yerr = caudate_sem_allsubjs, \n",
    "                 color = \"#f9f96d\", ecolor = 'black', edgecolor = pal, linewidth = 4)\n",
    "plt.xticks([], [])\n",
    "#ax.set_xticklabels(conditions)\n",
    "ax.set_ylabel('')\n",
    "ax.set_ylim(0,2)\n",
    "ax.set_xlabel(\"Trial Type\")\n",
    "ax.set_ylabel(\"Arbitrary units\")\n",
    "ax.set_title(\"Caudate Activation\")\n",
    "plt.tight_layout()\n",
    "#plt.savefig(\"/home/data/madlab/scripts/wmaze/anal_MR_thesis/fixed_before_conditional/model3/caudate_activation.jpg\")\n",
    "plt.show()"
   ]
  },
  {
   "cell_type": "code",
   "execution_count": 67,
   "metadata": {
    "collapsed": false
   },
   "outputs": [
    {
     "data": {
      "image/png": "[encoded data removed]",
      "text/plain": [
       "<matplotlib.figure.Figure at 0x2b5b56d58ed0>"
      ]
     },
     "metadata": {},
     "output_type": "display_data"
    }
   ],
   "source": [
    "%matplotlib inline\n",
    "import seaborn as sns\n",
    "import matplotlib.pyplot as plt\n",
    "sns.set_palette('muted')\n",
    "#sns.set_style(\"darkgrid\")\n",
    "\n",
    "from scipy import stats\n",
    "from math import sqrt\n",
    "\n",
    "N = 2\n",
    "conditions = ['FIXED before Corr COND', 'FIXED before incorr COND']\n",
    "\n",
    "caudate_allsubjs = [all_data_df['caudate_all_before_B_corr'], \n",
    "               all_data_df['caudate_all_before_B_incorr']]\n",
    "ind = np.arange(N)\n",
    "\n",
    "fig, ax = plt.subplots(figsize = (4,4))\n",
    "ax0 = sns.boxplot(data = caudate_allsubjs, color = \"#f9f96d\", width = 0.3)\n",
    "ax2 = sns.swarmplot(data = caudate_allsubjs, color='.25')\n",
    "\n",
    "#ax.set_xticklabels(conditions)\n",
    "ax.set_xticks(ind)\n",
    "ax.set_xlabel(\"Trial Type\")\n",
    "ax.set_ylabel(\"Arbitrary units\")\n",
    "ax.set_title(\"Caudate Activation\")\n",
    "plt.show()"
   ]
  },
  {
   "cell_type": "markdown",
   "metadata": {},
   "source": [
    "## Putamen Stats"
   ]
  },
  {
   "cell_type": "code",
   "execution_count": 7,
   "metadata": {
    "collapsed": false,
    "scrolled": true
   },
   "outputs": [
    {
     "name": "stdout",
     "output_type": "stream",
     "text": [
      "all_before_B_corr\n",
      "0.733108835854\n",
      "all_before_B_incorr\n",
      "-0.481846473366\n",
      "T-test: putamen all_before_B_corr vs. all_before_B_incorr\n",
      "Ttest_relResult(statistic=3.4841295178852945, pvalue=0.0024831668189734114)\n",
      "Cohen's d =  0.741198380783\n"
     ]
    },
    {
     "data": {
      "image/png": "[encoded data removed]",
      "text/plain": [
       "<matplotlib.figure.Figure at 0x2acdc2b44150>"
      ]
     },
     "metadata": {},
     "output_type": "display_data"
    }
   ],
   "source": [
    "import seaborn as sns\n",
    "import matplotlib.pyplot as plt\n",
    "sns.set_palette('muted')\n",
    "#sns.set_style(\"darkgrid\")\n",
    "from scipy import stats\n",
    "\n",
    "print 'all_before_B_corr'\n",
    "print all_data_df['putamen_all_before_B_corr'].mean()\n",
    "print 'all_before_B_incorr'\n",
    "print all_data_df['putamen_all_before_B_incorr'].mean()\n",
    "\n",
    "print 'T-test: putamen all_before_B_corr vs. all_before_B_incorr'\n",
    "print stats.ttest_rel(all_data_df['putamen_all_before_B_corr'], all_data_df['putamen_all_before_B_incorr'])\n",
    "\n",
    "cohens_d = ((np.average(all_data_df['putamen_all_before_B_corr']) \n",
    "             - np.average(all_data_df['putamen_all_before_B_incorr'])) \n",
    "            / (sqrt((np.std(all_data_df['putamen_all_before_B_corr'], ddof = 1)) \n",
    "            ** 2 + np.std(all_data_df['putamen_all_before_B_incorr'], ddof = 1) ** 2) / 2))\n",
    "print \"Cohen's d = \", cohens_d\n",
    "\n",
    "N = 2\n",
    "conditions = ['FIXED before Corr COND', 'FIXED before incorr COND']\n",
    "\n",
    "putamen_means_allsubjs = [np.mean(all_data_df['putamen_all_before_B_corr']), \n",
    "                          np.mean(all_data_df['putamen_all_before_B_incorr'])]\n",
    "putamen_sem_allsubjs = [stats.sem(all_data_df['putamen_all_before_B_corr']), \n",
    "                        stats.sem(all_data_df['putamen_all_before_B_incorr'])]\n",
    "ind = np.arange(N)\n",
    "fig, ax = plt.subplots()\n",
    "\n",
    "pal = [\"#30b55c\", \"#e06243\"]\n",
    "pal = sns.color_palette(pal)\n",
    "\n",
    "sns.barplot(ind, np.array(putamen_means_allsubjs)+1, yerr = putamen_sem_allsubjs, \n",
    "            color = \"#c34aef\", ecolor = 'black', edgecolor = pal, linewidth = 4, bottom = -1)\n",
    "\n",
    "plt.xticks([], [])\n",
    "ax.set_xticklabels(conditions)\n",
    "ax.set_ylabel('')\n",
    "ax.set_ylim(-1.25,2.5)\n",
    "ax.set_xlabel(\"Trial Type\")\n",
    "ax.set_ylabel(\"Arbitrary units\")\n",
    "ax.set_title(\"Putamen Activation\")\n",
    "plt.tight_layout()\n",
    "#plt.savefig(\"/home/data/madlab/scripts/wmaze/anal_MR_thesis/fixed_before_conditional/model3/caudate_activation.jpg\")\n",
    "plt.show()"
   ]
  },
  {
   "cell_type": "markdown",
   "metadata": {},
   "source": [
    "# Fancy plots"
   ]
  },
  {
   "cell_type": "code",
   "execution_count": 68,
   "metadata": {
    "collapsed": false
   },
   "outputs": [
    {
     "data": {
      "image/png": "[encoded data removed]",
      "text/plain": [
       "<matplotlib.figure.Figure at 0x2b5b5729b1d0>"
      ]
     },
     "metadata": {},
     "output_type": "display_data"
    }
   ],
   "source": [
    "%matplotlib inline\n",
    "import seaborn as sns\n",
    "import matplotlib.pyplot as plt\n",
    "sns.set_palette('muted')\n",
    "#sns.set_style(\"darkgrid\")\n",
    "\n",
    "from scipy import stats\n",
    "from math import sqrt\n",
    "\n",
    "N = 2\n",
    "conditions = ['FIXED before Corr COND', 'FIXED before incorr COND']\n",
    "\n",
    "putamen_allsubjs = [all_data_df['putamen_all_before_B_corr'], \n",
    "               all_data_df['putamen_all_before_B_incorr']]\n",
    "ind = np.arange(N)\n",
    "\n",
    "fig, ax = plt.subplots(figsize = (4,4))\n",
    "ax0 = sns.boxplot(data = putamen_allsubjs, color = \"#c34aef\", width = 0.3)\n",
    "ax2 = sns.swarmplot(data = putamen_allsubjs, color='.25')\n",
    "\n",
    "#ax.set_xticklabels(conditions)\n",
    "ax.set_xticks(ind)\n",
    "ax.set_xlabel(\"Trial Type\")\n",
    "ax.set_ylabel(\"Arbitrary units\")\n",
    "ax.set_title(\"Putamen Activation\")\n",
    "plt.show()"
   ]
  },
  {
   "cell_type": "code",
   "execution_count": null,
   "metadata": {
    "collapsed": false
   },
   "outputs": [],
   "source": [
    "#violin plot -- Huntington Beach 2018\n",
    "\n",
    "cols = [['hp_all_before_B_corr', 'hp_all_before_B_incorr'],\n",
    "        ['caudate_all_before_B_corr', 'caudate_all_before_B_incorr'],\n",
    "        ['putamen_all_before_B_corr', 'putamen_all_before_B_incorr']]\n",
    "rois = ['Hippocampus', 'Caudate', 'Putamen']\n",
    "\n",
    "fig, axes = plt.subplots(ncols = 3, figsize = (10, 4), sharey = True)\n",
    "\n",
    "for i, roi in enumerate(rois):\n",
    "    pal = [\"#17d14b\", \"#e03c4a\"]\n",
    "    pal = sns.color_palette(pal)\n",
    "    temp_df = all_data_df[cols[i]]\n",
    "    temp_df = temp_df.rename(columns = {cols[i][0]: 'Fixed Before\\nCorr Cond',\n",
    "                                        cols[i][1]: 'Fixed Before\\nIncorr Cond'})\n",
    "    temp_df['subject'] = temp_df.index\n",
    "    temp_df = pd.melt(temp_df, id_vars = 'subject',\n",
    "                      value_vars = ['Fixed Before\\nCorr Cond',\n",
    "                                    'Fixed Before\\nIncorr Cond'],\n",
    "                      value_name = 'Arbitrary units', var_name = 'Trial Pair')\n",
    "    sns.violinplot(data = temp_df, x = 'Trial Pair', y = 'Arbitrary units', ax = axes[i], palette = pal)\n",
    "    axes[i].set_yticks(np.arange(-10, 10, step = 2))\n",
    "    axes[i].set_title(roi, fontsize = 16)\n",
    "    axes[i].set_ylim((-10, 10))\n",
    "axes[1].set_ylabel('')\n",
    "axes[2].set_ylabel('')\n",
    "plt.tight_layout()\n",
    "plt.show()\n"
   ]
  },
  {
   "cell_type": "code",
   "execution_count": null,
   "metadata": {
    "collapsed": true
   },
   "outputs": [],
   "source": []
  }
 ],
 "metadata": {
  "anaconda-cloud": {},
  "kernelspec": {
   "display_name": "Python 2",
   "language": "python",
   "name": "python2"
  },
  "language_info": {
   "codemirror_mode": {
    "name": "ipython",
    "version": 2
   },
   "file_extension": ".py",
   "mimetype": "text/x-python",
   "name": "python",
   "nbconvert_exporter": "python",
   "pygments_lexer": "ipython2",
   "version": "2.7.12"
  }
 },
 "nbformat": 4,
 "nbformat_minor": 2
}
