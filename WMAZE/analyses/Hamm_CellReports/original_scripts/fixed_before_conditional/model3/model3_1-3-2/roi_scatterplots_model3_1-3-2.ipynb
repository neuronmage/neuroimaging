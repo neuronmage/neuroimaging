{
 "cells": [
  {
   "cell_type": "markdown",
   "metadata": {},
   "source": [
    "# MODEL 3 1-3-2\n",
    "### Contains only fixed-before-conditional trials without intervening BLs\n",
    "### Combines A & C trials into single regressor\n",
    "### Accounts for last three noisy volumes in Lvl 1 analysis (FSL ROI -- ExtractROI)"
   ]
  },
  {
   "cell_type": "markdown",
   "metadata": {},
   "source": [
    "## Compares activation for regions of interest using binarized masks:\n",
    "### Hippocampus (FS labels: hippocampus [17, 53])\n",
    "### Dorsal caudate (hand-drawn by Mandy)\n",
    "### Putamen (FS labels: putamen [12, 51])"
   ]
  },
  {
   "cell_type": "code",
   "execution_count": 1,
   "metadata": {
    "collapsed": true,
    "scrolled": true
   },
   "outputs": [],
   "source": [
    "import os\n",
    "from glob import glob\n",
    "\n",
    "sids = ['WMAZE_001', 'WMAZE_002', 'WMAZE_004', 'WMAZE_005', 'WMAZE_006', \n",
    "        'WMAZE_007', 'WMAZE_008', 'WMAZE_009', 'WMAZE_010', 'WMAZE_012', \n",
    "        'WMAZE_017', 'WMAZE_018', 'WMAZE_019', 'WMAZE_020', 'WMAZE_021',  \n",
    "        'WMAZE_022', 'WMAZE_023', 'WMAZE_024', 'WMAZE_026', 'WMAZE_027']\n",
    "\n",
    "proj_dir = '/home/data/madlab/data/mri/wmaze'\n",
    " \n",
    "mask_filenames = []\n",
    "cope_files = []\n",
    "\n",
    "for SID in sids:\n",
    "    mask_filenames_glob = glob(proj_dir + \n",
    "                               '/roi_analysis/MRthesis/fb4c_2/mask/anat_masks/_subject_id_' \n",
    "                               + SID + '/_anatmask_xfm*/*')\n",
    "    mask_filenames.append(mask_filenames_glob)\n",
    "\n",
    "    subjcopes_glob = glob(proj_dir + '/scndlvl/wmaze_MRthesis/fixed_before_conditional/model3_1-3-2/' \n",
    "                          + SID + '/fixedfx/cope_*')\n",
    "    cope_files.append(subjcopes_glob)\n",
    "    if len(cope_files[-1]) == 0:\n",
    "        print(SID)"
   ]
  },
  {
   "cell_type": "markdown",
   "metadata": {},
   "source": [
    "## Cell to double-check the array indexing"
   ]
  },
  {
   "cell_type": "markdown",
   "metadata": {},
   "source": [
    "### Use binarized mask to obtain activation in left & right hemisphere for each region of interest"
   ]
  },
  {
   "cell_type": "code",
   "execution_count": 3,
   "metadata": {
    "collapsed": true,
    "scrolled": true
   },
   "outputs": [],
   "source": [
    "import nibabel as nb\n",
    "import pandas as pd\n",
    "import numpy as np\n",
    "\n",
    "\n",
    "#Dictionary containing multiple arrays referenced by keywords\n",
    "all_data = {'subjid':[],\n",
    "            'lhhp_all_before_B_corr':[], 'rhhp_all_before_B_corr':[], \n",
    "            'lhhp_all_before_B_incorr':[], 'rhhp_all_before_B_incorr':[],\n",
    "            'lhhp_all_remaining':[], 'rhhp_all_remaining':[],\n",
    "            'lhhp_all_corr_vs_all_incorr':[], 'rhhp_all_corr_vs_all_incorr':[], \n",
    "            'lhhp_all_incorr_vs_all_corr':[], 'rhhp_all_incorr_vs_all_corr':[],\n",
    "            \n",
    "            'lhcaudate_all_before_B_corr':[], 'rhcaudate_all_before_B_corr':[], \n",
    "            'lhcaudate_all_before_B_incorr':[], 'rhcaudate_all_before_B_incorr':[],\n",
    "            'lhcaudate_all_remaining':[], 'rhcaudate_all_remaining':[],\n",
    "            'lhcaudate_all_corr_vs_all_incorr':[], 'rhcaudate_all_corr_vs_all_incorr':[], \n",
    "            'lhcaudate_all_incorr_vs_all_corr':[], 'rhcaudate_all_incorr_vs_all_corr':[],\n",
    "            \n",
    "            'lhputamen_all_before_B_corr':[], 'rhputamen_all_before_B_corr':[], \n",
    "            'lhputamen_all_before_B_incorr':[], 'rhputamen_all_before_B_incorr':[],\n",
    "            'lhputamen_all_remaining':[], 'rhputamen_all_remaining':[],\n",
    "            'lhputamen_all_corr_vs_all_incorr':[], 'rhputamen_all_corr_vs_all_incorr':[], \n",
    "            'lhputamen_all_incorr_vs_all_corr':[], 'rhputamen_all_incorr_vs_all_corr':[]}\n",
    "\n",
    "\n",
    "# For each interation in the length of subject ids\n",
    "for i in range(len(sids)):\n",
    "    #Append the subject id\n",
    "    all_data['subjid'].append(sids[i])\n",
    "    #Load the left and right hippocampus mask files using Nibabel \n",
    "    lh_hp_img = nb.load(mask_filenames[i][0])\n",
    "    rh_hp_img = nb.load(mask_filenames[i][3])\n",
    "    lh_caudate_img = nb.load(mask_filenames[i][1])\n",
    "    rh_caudate_img = nb.load(mask_filenames[i][2])\n",
    "    lh_putamen_img = nb.load(mask_filenames[i][4])\n",
    "    rh_putamen_img = nb.load(mask_filenames[i][5])\n",
    "\n",
    "    \n",
    "    #Load copes for individual trial types\n",
    "    all_before_B_corr_img = nb.load(cope_files[i][0])\n",
    "    all_before_B_incorr_img = nb.load(cope_files[i][1])\n",
    "    all_remaining_img = nb.load(cope_files[i][2])\n",
    "    all_corr_vs_all_incorr_img = nb.load(cope_files[i][3])\n",
    "    all_incorr_vs_all_corr_img = nb.load(cope_files[i][4])\n",
    "\n",
    "    \n",
    "    \n",
    "    ########################\n",
    "    ### Left Hippocampus ###\n",
    "    ########################\n",
    "    \n",
    "    # all_before_B_corr\n",
    "    lh_hp_all_before_B_corr_data = all_before_B_corr_img.get_data()[lh_hp_img.get_data() > 0.]\n",
    "    all_data['lhhp_all_before_B_corr'].append(np.mean(lh_hp_all_before_B_corr_data))\n",
    "    \n",
    "    # all_before_B_incorr\n",
    "    lh_hp_all_before_B_incorr_data = all_before_B_incorr_img.get_data()[lh_hp_img.get_data() > 0.]\n",
    "    all_data['lhhp_all_before_B_incorr'].append(np.mean(lh_hp_all_before_B_incorr_data))\n",
    "    \n",
    "    # all_remaining\n",
    "    lh_hp_all_remaining_data = all_remaining_img.get_data()[lh_hp_img.get_data() > 0.]\n",
    "    all_data['lhhp_all_remaining'].append(np.mean(lh_hp_all_remaining_data))\n",
    "       \n",
    "    # all_corr_vs_all_incorr\n",
    "    lh_hp_all_corr_vs_all_incorr_data = all_corr_vs_all_incorr_img.get_data()[lh_hp_img.get_data() > 0.]\n",
    "    all_data['lhhp_all_corr_vs_all_incorr'].append(np.mean(lh_hp_all_corr_vs_all_incorr_data)) \n",
    "    \n",
    "    # all_incorr_vs_all_corr\n",
    "    lh_hp_all_incorr_vs_all_corr_data = all_incorr_vs_all_corr_img.get_data()[lh_hp_img.get_data() > 0.]\n",
    "    all_data['lhhp_all_incorr_vs_all_corr'].append(np.mean(lh_hp_all_incorr_vs_all_corr_data)) \n",
    "\n",
    "    \n",
    "    #########################\n",
    "    ### Right Hippocampus ###\n",
    "    #########################\n",
    "    \n",
    "    # all_before_B_corr\n",
    "    rh_hp_all_before_B_corr_data = all_before_B_corr_img.get_data()[rh_hp_img.get_data() > 0.]\n",
    "    all_data['rhhp_all_before_B_corr'].append(np.mean(rh_hp_all_before_B_corr_data))\n",
    "\n",
    "    # all_before_B_incorr\n",
    "    rh_hp_all_before_B_incorr_data = all_before_B_incorr_img.get_data()[rh_hp_img.get_data() > 0.]\n",
    "    all_data['rhhp_all_before_B_incorr'].append(np.mean(rh_hp_all_before_B_incorr_data))\n",
    "\n",
    "    # all_remaining\n",
    "    rh_hp_all_remaining_data = all_remaining_img.get_data()[rh_hp_img.get_data() > 0.]\n",
    "    all_data['rhhp_all_remaining'].append(np.mean(rh_hp_all_remaining_data))\n",
    "\n",
    "    # all_corr_vs_all_incorr\n",
    "    rh_hp_all_corr_vs_all_incorr_data = all_corr_vs_all_incorr_img.get_data()[rh_hp_img.get_data() > 0.]\n",
    "    all_data['rhhp_all_corr_vs_all_incorr'].append(np.mean(rh_hp_all_corr_vs_all_incorr_data)) \n",
    "\n",
    "    # all_incorr_vs_all_corr\n",
    "    rh_hp_all_incorr_vs_all_corr_data = all_incorr_vs_all_corr_img.get_data()[rh_hp_img.get_data() > 0.]\n",
    "    all_data['rhhp_all_incorr_vs_all_corr'].append(np.mean(rh_hp_all_incorr_vs_all_corr_data)) \n",
    "\n",
    "    \n",
    "    ####################\n",
    "    ### Left Caudate ###\n",
    "    ####################\n",
    "    \n",
    "    # all_before_B_corr\n",
    "    lh_caudate_all_before_B_corr_data = all_before_B_corr_img.get_data()[lh_caudate_img.get_data() > 0.]\n",
    "    all_data['lhcaudate_all_before_B_corr'].append(np.mean(lh_caudate_all_before_B_corr_data))\n",
    "    \n",
    "    # all_before_B_incorr\n",
    "    lh_caudate_all_before_B_incorr_data = all_before_B_incorr_img.get_data()[lh_caudate_img.get_data() > 0.]\n",
    "    all_data['lhcaudate_all_before_B_incorr'].append(np.mean(lh_caudate_all_before_B_incorr_data))\n",
    "    \n",
    "    # all_remaining\n",
    "    lh_caudate_all_remaining_data = all_remaining_img.get_data()[lh_caudate_img.get_data() > 0.]\n",
    "    all_data['lhcaudate_all_remaining'].append(np.mean(lh_caudate_all_remaining_data))\n",
    "       \n",
    "    # all_corr_vs_all_incorr\n",
    "    lh_caudate_all_corr_vs_all_incorr_data = all_corr_vs_all_incorr_img.get_data()[lh_caudate_img.get_data() > 0.]\n",
    "    all_data['lhcaudate_all_corr_vs_all_incorr'].append(np.mean(lh_caudate_all_corr_vs_all_incorr_data)) \n",
    "    \n",
    "    # all_incorr_vs_all_corr\n",
    "    lh_caudate_all_incorr_vs_all_corr_data = all_incorr_vs_all_corr_img.get_data()[lh_caudate_img.get_data() > 0.]\n",
    "    all_data['lhcaudate_all_incorr_vs_all_corr'].append(np.mean(lh_caudate_all_incorr_vs_all_corr_data)) \n",
    "    \n",
    "    \n",
    "    #####################\n",
    "    ### Right Caudate ###\n",
    "    ##################### \n",
    "    \n",
    "    # all_before_B_corr\n",
    "    rh_caudate_all_before_B_corr_data = all_before_B_corr_img.get_data()[rh_caudate_img.get_data() > 0.]\n",
    "    all_data['rhcaudate_all_before_B_corr'].append(np.mean(rh_caudate_all_before_B_corr_data))\n",
    "\n",
    "    # all_before_B_incorr\n",
    "    rh_caudate_all_before_B_incorr_data = all_before_B_incorr_img.get_data()[rh_caudate_img.get_data() > 0.]\n",
    "    all_data['rhcaudate_all_before_B_incorr'].append(np.mean(rh_caudate_all_before_B_incorr_data))\n",
    "\n",
    "    # all_remaining\n",
    "    rh_caudate_all_remaining_data = all_remaining_img.get_data()[rh_caudate_img.get_data() > 0.]\n",
    "    all_data['rhcaudate_all_remaining'].append(np.mean(rh_caudate_all_remaining_data))\n",
    "\n",
    "    # all_corr_vs_all_incorr\n",
    "    rh_caudate_all_corr_vs_all_incorr_data = all_corr_vs_all_incorr_img.get_data()[rh_caudate_img.get_data() > 0.]\n",
    "    all_data['rhcaudate_all_corr_vs_all_incorr'].append(np.mean(rh_caudate_all_corr_vs_all_incorr_data)) \n",
    "\n",
    "    # all_incorr_vs_all_corr\n",
    "    rh_caudate_all_incorr_vs_all_corr_data = all_incorr_vs_all_corr_img.get_data()[rh_caudate_img.get_data() > 0.]\n",
    "    all_data['rhcaudate_all_incorr_vs_all_corr'].append(np.mean(rh_caudate_all_incorr_vs_all_corr_data)) \n",
    "    \n",
    "    \n",
    "    ####################\n",
    "    ### Left Putamen ###\n",
    "    ####################\n",
    "    \n",
    "    # all_before_B_corr\n",
    "    lh_putamen_all_before_B_corr_data = all_before_B_corr_img.get_data()[lh_putamen_img.get_data() > 0.]\n",
    "    all_data['lhputamen_all_before_B_corr'].append(np.mean(lh_putamen_all_before_B_corr_data))\n",
    "    \n",
    "    # all_before_B_incorr\n",
    "    lh_putamen_all_before_B_incorr_data = all_before_B_incorr_img.get_data()[lh_putamen_img.get_data() > 0.]\n",
    "    all_data['lhputamen_all_before_B_incorr'].append(np.mean(lh_putamen_all_before_B_incorr_data))\n",
    "    \n",
    "    # all_remaining\n",
    "    lh_putamen_all_remaining_data = all_remaining_img.get_data()[lh_putamen_img.get_data() > 0.]\n",
    "    all_data['lhputamen_all_remaining'].append(np.mean(lh_putamen_all_remaining_data))\n",
    "       \n",
    "    # all_corr_vs_all_incorr\n",
    "    lh_putamen_all_corr_vs_all_incorr_data = all_corr_vs_all_incorr_img.get_data()[lh_putamen_img.get_data() > 0.]\n",
    "    all_data['lhputamen_all_corr_vs_all_incorr'].append(np.mean(lh_putamen_all_corr_vs_all_incorr_data)) \n",
    "    \n",
    "    # all_incorr_vs_all_corr\n",
    "    lh_putamen_all_incorr_vs_all_corr_data = all_incorr_vs_all_corr_img.get_data()[lh_putamen_img.get_data() > 0.]\n",
    "    all_data['lhputamen_all_incorr_vs_all_corr'].append(np.mean(lh_putamen_all_incorr_vs_all_corr_data)) \n",
    "    \n",
    "    \n",
    "    #####################\n",
    "    ### Right Putamen ###\n",
    "    #####################\n",
    "    \n",
    "    # all_before_B_corr\n",
    "    rh_putamen_all_before_B_corr_data = all_before_B_corr_img.get_data()[rh_putamen_img.get_data() > 0.]\n",
    "    all_data['rhputamen_all_before_B_corr'].append(np.mean(rh_putamen_all_before_B_corr_data))\n",
    "\n",
    "    # all_before_B_incorr\n",
    "    rh_putamen_all_before_B_incorr_data = all_before_B_incorr_img.get_data()[rh_putamen_img.get_data() > 0.]\n",
    "    all_data['rhputamen_all_before_B_incorr'].append(np.mean(rh_putamen_all_before_B_incorr_data))\n",
    "\n",
    "    # all_remaining\n",
    "    rh_putamen_all_remaining_data = all_remaining_img.get_data()[rh_putamen_img.get_data() > 0.]\n",
    "    all_data['rhputamen_all_remaining'].append(np.mean(rh_putamen_all_remaining_data))\n",
    "\n",
    "    # all_corr_vs_all_incorr\n",
    "    rh_putamen_all_corr_vs_all_incorr_data = all_corr_vs_all_incorr_img.get_data()[rh_putamen_img.get_data() > 0.]\n",
    "    all_data['rhputamen_all_corr_vs_all_incorr'].append(np.mean(rh_putamen_all_corr_vs_all_incorr_data)) \n",
    "\n",
    "    # all_incorr_vs_all_corr\n",
    "    rh_putamen_all_incorr_vs_all_corr_data = all_incorr_vs_all_corr_img.get_data()[rh_putamen_img.get_data() > 0.]\n",
    "    all_data['rhputamen_all_incorr_vs_all_corr'].append(np.mean(rh_putamen_all_incorr_vs_all_corr_data)) \n",
    "\n",
    "    \n",
    "all_data_df = pd.DataFrame(all_data)"
   ]
  },
  {
   "cell_type": "markdown",
   "metadata": {},
   "source": [
    "### Combine the two hemispheres to create one regional average for both correct and incorrect"
   ]
  },
  {
   "cell_type": "code",
   "execution_count": 4,
   "metadata": {
    "collapsed": true,
    "scrolled": true
   },
   "outputs": [],
   "source": [
    "#Hippocampus average for each trial type\n",
    "all_data_df['hp_all_before_B'] = (all_data_df['lhhp_all_before_B_corr'] + \n",
    "                                  all_data_df['rhhp_all_before_B_corr'] +\n",
    "                                  all_data_df['lhhp_all_before_B_incorr'] + \n",
    "                                  all_data_df['rhhp_all_before_B_incorr'])/4.\n",
    "\n",
    "#Caudate average for each trial type\n",
    "all_data_df['caudate_all_before_B'] = (all_data_df['lhcaudate_all_before_B_corr'] + \n",
    "                                       all_data_df['rhcaudate_all_before_B_corr'] +\n",
    "                                       all_data_df['lhcaudate_all_before_B_incorr'] + \n",
    "                                       all_data_df['rhcaudate_all_before_B_incorr'])/4.\n",
    "\n",
    "#Putamen average for each trial type\n",
    "all_data_df['putamen_all_before_B'] = (all_data_df['lhputamen_all_before_B_corr'] + \n",
    "                                       all_data_df['rhputamen_all_before_B_corr'] +\n",
    "                                       all_data_df['lhputamen_all_before_B_incorr'] + \n",
    "                                       all_data_df['rhputamen_all_before_B_incorr'])/4."
   ]
  },
  {
   "cell_type": "code",
   "execution_count": 5,
   "metadata": {
    "collapsed": true
   },
   "outputs": [],
   "source": [
    "#Provides performance for Conditional trials\n",
    "\n",
    "%matplotlib inline\n",
    "from os.path import join\n",
    "import numpy as np\n",
    "from scipy.stats import pearsonr\n",
    "import pandas as pd\n",
    "from glob import glob\n",
    "from pylab import *\n",
    "import matplotlib.pyplot as plt\n",
    "import seaborn as sns\n",
    "sns.set_palette('muted')\n",
    "\n",
    "subs = ['WMAZE_001', 'WMAZE_002', 'WMAZE_004', 'WMAZE_005', 'WMAZE_006', 'WMAZE_007',\n",
    "        'WMAZE_008', 'WMAZE_009', 'WMAZE_010', 'WMAZE_012', 'WMAZE_017', 'WMAZE_018',\n",
    "        'WMAZE_019', 'WMAZE_020', 'WMAZE_021', 'WMAZE_022', 'WMAZE_023', 'WMAZE_024',\n",
    "        'WMAZE_026', 'WMAZE_027']\n",
    "\n",
    "all_prop_B_corr = []\n",
    "\n",
    "for sub in subs:\n",
    "    sub_dir = '/home/data/madlab/data/mri/wmaze/scanner_behav/{0}/'.format(sub)\n",
    "    dir_file = glob(join(sub_dir, '{0}_wmazebl_2015*.txt'.format(sub)))   \n",
    "    dir_file.sort()    \n",
    "    \n",
    "    data_run1 = pd.read_table(dir_file[0])\n",
    "    data_run1 = data_run1[:-3]\n",
    "    data_run2 = pd.read_table(dir_file[1])\n",
    "    data_run2 = data_run2[:-3]\n",
    "    data_run3 = pd.read_table(dir_file[2])\n",
    "    data_run3 = data_run3[:-3]\n",
    "    data_run4 = pd.read_table(dir_file[3])\n",
    "    data_run4 = data_run4[:-3]\n",
    "    data_run5 = pd.read_table(dir_file[4])\n",
    "    data_run5 = data_run5[:-3]\n",
    "    data_run6 = pd.read_table(dir_file[5])\n",
    "    data_run6 = data_run6[:-3]\n",
    "    \n",
    "    all_runs = [data_run1, data_run2, data_run3, data_run4, data_run5, data_run6]    \n",
    "    data_set = pd.concat(all_runs)\n",
    "    \n",
    "    trialtype = data_set['TrialType'].values\n",
    "    correct = data_set['Correct'].values \n",
    "    \n",
    "    all_B_corr = np.where((trialtype == 'B') & (correct == 1))[0]\n",
    "    all_B_incorr = np.where((trialtype == 'B') & (correct == 0))[0]\n",
    "    \n",
    "    prop_B_corr = len(all_B_corr)/float(len(all_B_corr) + len(all_B_incorr))\n",
    "    all_prop_B_corr.append(prop_B_corr)"
   ]
  },
  {
   "cell_type": "markdown",
   "metadata": {},
   "source": [
    "## Hippocampus Stats"
   ]
  },
  {
   "cell_type": "code",
   "execution_count": 30,
   "metadata": {
    "collapsed": false
   },
   "outputs": [
    {
     "name": "stdout",
     "output_type": "stream",
     "text": [
      "HIPPOCAMPUS\n",
      "pearsons r (0.31920291445555721, 0.17012358974156125)\n"
     ]
    },
    {
     "data": {
      "image/png": "[encoded data removed]",
      "text/plain": [
       "<matplotlib.figure.Figure at 0x2b8faee01310>"
      ]
     },
     "metadata": {},
     "output_type": "display_data"
    }
   ],
   "source": [
    "x = all_prop_B_corr\n",
    "y = all_data_df['hp_all_before_B']\n",
    "\n",
    "fig, ax = plt.subplots()\n",
    "fit = np.polyfit(x, y, deg = 1)\n",
    "ax.plot(y, fit[0] * y + fit[1], color = '#0d53e0')\n",
    "ax.scatter(x, y, c = '#0d53e0', edgecolors = 'black', alpha = 0.5)\n",
    "ax.set_ylabel('HPC Activation (Fixed)')\n",
    "ax.set_xlabel('Avg Performance (Conditional)')\n",
    "ax.set_title('Fixed Before Conditional')\n",
    "\n",
    "ax.set_xlim(0.50, 1.01)\n",
    "ax.set_ylim(-7, 3)\n",
    "\n",
    "print \"HIPPOCAMPUS\"\n",
    "print \"pearsons r\", pearsonr(x,y)"
   ]
  },
  {
   "cell_type": "markdown",
   "metadata": {},
   "source": [
    "## Caudate Stats"
   ]
  },
  {
   "cell_type": "code",
   "execution_count": 29,
   "metadata": {
    "collapsed": false
   },
   "outputs": [
    {
     "name": "stdout",
     "output_type": "stream",
     "text": [
      "CAUDATE\n",
      "pearsons r (0.16392532528015483, 0.48982519187944296)\n"
     ]
    },
    {
     "data": {
      "image/png": "[encoded data removed]",
      "text/plain": [
       "<matplotlib.figure.Figure at 0x2b8faee7c8d0>"
      ]
     },
     "metadata": {},
     "output_type": "display_data"
    }
   ],
   "source": [
    "x = all_prop_B_corr\n",
    "y = all_data_df['caudate_all_before_B']\n",
    "\n",
    "fig, ax = plt.subplots()\n",
    "fit = np.polyfit(x, y, deg = 1)\n",
    "ax.plot(y, fit[0] * y + fit[1], color = '#fcb902')\n",
    "ax.scatter(x, y, c = '#fcb902', edgecolors = 'black', alpha = 0.5)\n",
    "ax.set_ylabel('Caudate Activation (Fixed)')\n",
    "ax.set_xlabel('Avg Performance (Conditional)')\n",
    "ax.set_title('Fixed Before Conditional')\n",
    "\n",
    "ax.set_xlim(0.50, 1.01)\n",
    "ax.set_ylim(-3, 8)\n",
    "\n",
    "print \"CAUDATE\"\n",
    "print \"pearsons r\", pearsonr(x,y)"
   ]
  },
  {
   "cell_type": "markdown",
   "metadata": {},
   "source": [
    "## Putamen Stats"
   ]
  },
  {
   "cell_type": "code",
   "execution_count": 31,
   "metadata": {
    "collapsed": false
   },
   "outputs": [
    {
     "name": "stdout",
     "output_type": "stream",
     "text": [
      "PUTAMEN\n",
      "pearsons r (0.17933848832865376, 0.44931960047450048)\n"
     ]
    },
    {
     "data": {
      "image/png": "[encoded data removed]",
      "text/plain": [
       "<matplotlib.figure.Figure at 0x2b8fae70e490>"
      ]
     },
     "metadata": {},
     "output_type": "display_data"
    }
   ],
   "source": [
    "x = all_prop_B_corr\n",
    "y = all_data_df['putamen_all_before_B']\n",
    "\n",
    "fig, ax = plt.subplots()\n",
    "fit = np.polyfit(x, y, deg = 1)\n",
    "ax.plot(y, fit[0] * y + fit[1], color = '#9609f4')\n",
    "ax.scatter(x, y, c = '#9609f4', edgecolors = 'black', alpha = 0.5)\n",
    "ax.set_ylabel('Putamen Activation (Fixed)')\n",
    "ax.set_xlabel('Avg Performance (Conditional)')\n",
    "ax.set_title('Fixed Before Conditional')\n",
    "\n",
    "ax.set_xlim(0.50, 1.01)\n",
    "ax.set_ylim(-5, 6)\n",
    "\n",
    "print \"PUTAMEN\"\n",
    "print \"pearsons r\", pearsonr(x,y)"
   ]
  },
  {
   "cell_type": "code",
   "execution_count": null,
   "metadata": {
    "collapsed": true
   },
   "outputs": [],
   "source": []
  }
 ],
 "metadata": {
  "anaconda-cloud": {},
  "kernelspec": {
   "display_name": "Python 2",
   "language": "python",
   "name": "python2"
  },
  "language_info": {
   "codemirror_mode": {
    "name": "ipython",
    "version": 2
   },
   "file_extension": ".py",
   "mimetype": "text/x-python",
   "name": "python",
   "nbconvert_exporter": "python",
   "pygments_lexer": "ipython2",
   "version": "2.7.12"
  }
 },
 "nbformat": 4,
 "nbformat_minor": 2
}
