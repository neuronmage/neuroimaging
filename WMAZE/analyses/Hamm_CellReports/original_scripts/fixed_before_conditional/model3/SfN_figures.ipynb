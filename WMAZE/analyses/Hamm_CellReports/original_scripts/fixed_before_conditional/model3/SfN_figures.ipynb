{
 "cells": [
  {
   "cell_type": "code",
   "execution_count": 1,
   "metadata": {
    "collapsed": true
   },
   "outputs": [],
   "source": [
    "%matplotlib inline\n",
    "import os\n",
    "import numpy as np\n",
    "import matplotlib\n",
    "import matplotlib.pyplot as plt\n",
    "import seaborn as sns\n",
    "\n",
    "#sns.set_style('darkgrid')\n",
    "matplotlib.rcParams['font.size'] = 12"
   ]
  },
  {
   "cell_type": "code",
   "execution_count": 4,
   "metadata": {
    "collapsed": false
   },
   "outputs": [
    {
     "data": {
      "image/png": "[encoded data removed]",
      "text/plain": [
       "<matplotlib.figure.Figure at 0x2ae095cbe650>"
      ]
     },
     "metadata": {},
     "output_type": "display_data"
    }
   ],
   "source": [
    "# The script in this cell reads in the pmode, p95 and p05 for each stimulus type [A, B, C] and\n",
    "# plots them along with chance performance 50% correct across all trials\n",
    "# Red line = probability of being correct on any given trial (x-axis)\n",
    "# Black lines = 95% confidence interval around the probability correct curve\n",
    "# Blue line = chance performance\n",
    "#\n",
    "# Learning is typically defined as the trial when the lower bound of the 95% confidence interval\n",
    "# crosses and stays above chance performance\n",
    "#\n",
    "A_pmodes = []\n",
    "A_p05s = []\n",
    "A_p95s = []\n",
    "B_pmodes = []\n",
    "B_p05s = []\n",
    "B_p95s = []\n",
    "C_pmodes = []\n",
    "C_p05s = []\n",
    "C_p95s = []\n",
    "\n",
    "subjects = ['1', '2', '4', '5', '6', '7', '8', '9', '10', '12',\n",
    "            '17', '18', '19', '20', '21', '22', '23', '24', '26', '27']\n",
    "\n",
    "for curr_subj in subjects:\n",
    "    if curr_subj in  ['1', '2', '3', '4', '5', '6', '7', '8', '9']:\n",
    "        curr_dir = '/home/data/madlab/data/mri/wmaze/scanner_behav/WMAZE_00%s/' %curr_subj\n",
    "    else:\n",
    "        curr_dir = '/home/data/madlab/data/mri/wmaze/scanner_behav/WMAZE_0%s/' %curr_subj\n",
    "    A_pmode_filename = curr_dir + 'A_pmode_set3.txt'\n",
    "    A_p95_filename = curr_dir + 'A_p95_set3.txt' \n",
    "    A_p05_filename = curr_dir + 'A_p05_set3.txt'\n",
    "    B_pmode_filename = curr_dir + 'B_pmode_set3.txt'\n",
    "    B_p95_filename = curr_dir + 'B_p95_set3.txt' \n",
    "    B_p05_filename = curr_dir + 'B_p05_set3.txt'\n",
    "    C_pmode_filename = curr_dir + 'C_pmode_set3.txt'\n",
    "    C_p95_filename = curr_dir + 'C_p95_set3.txt' \n",
    "    C_p05_filename = curr_dir + 'C_p05_set3.txt'\n",
    "    \n",
    "    A_pmodes.append(np.genfromtxt(A_pmode_filename))\n",
    "    A_p05s.append(np.genfromtxt(A_p95_filename))\n",
    "    A_p95s.append(np.genfromtxt(A_p05_filename))\n",
    "    B_pmodes.append(np.genfromtxt(B_pmode_filename))\n",
    "    B_p05s.append(np.genfromtxt(B_p95_filename))\n",
    "    B_p95s.append(np.genfromtxt(B_p05_filename))\n",
    "    C_pmodes.append(np.genfromtxt(C_pmode_filename))\n",
    "    C_p05s.append(np.genfromtxt(C_p95_filename))\n",
    "    C_p95s.append(np.genfromtxt(C_p05_filename))\n",
    "    x = range(len(A_pmodes[0]))\n",
    "\n",
    "#fig, (ax0, ax1, ax2) = plt.subplots(ncols=3, figsize=(10, 4), sharex=True, sharey=True)\n",
    "fig, ax1 = plt.subplots(figsize=(6, 4))\n",
    "# A trials\n",
    "\"\"\"ax0.plot(x, np.mean(A_pmodes, axis=0), \"#B266FF\", linewidth=3)\n",
    "ax0.fill_between(x, np.mean(A_p95s, axis=0), np.mean(A_p05s, axis=0), color=\"#B266FF\", alpha=0.2)\n",
    "ax0.axhline(0.5, color='b', linewidth=1)\n",
    "\"\"\"\n",
    "# B trials\n",
    "ax1.plot(x, np.mean(B_pmodes, axis=0), \"#FF3399\", linewidth=3)\n",
    "ax1.fill_between(x, np.mean(B_p95s, axis=0), np.mean(B_p05s, axis=0), color=\"#FF3399\", alpha=0.2)\n",
    "ax1.axhline(0.5, color='b', linewidth=1)\n",
    "\n",
    "# C trials\n",
    "\"\"\"ax2.plot(x, np.mean(C_pmodes, axis=0), \"#00CCCC\", linewidth=3)\n",
    "ax2.fill_between(x, np.mean(C_p95s, axis=0), np.mean(C_p05s, axis=0), color=\"#00CCCC\", alpha=0.2)\n",
    "ax2.axhline(0.5, color='b', linewidth=1)\n",
    "\"\"\"\n",
    "ax1.set_ylim(0, 1)\n",
    "fig.tight_layout()\n",
    "fig.show()"
   ]
  },
  {
   "cell_type": "code",
   "execution_count": 12,
   "metadata": {
    "collapsed": false
   },
   "outputs": [
    {
     "name": "stdout",
     "output_type": "stream",
     "text": [
      "(81,)\n",
      "(81,)\n",
      "(81,)\n",
      "(81,)\n",
      "(81,)\n",
      "(81,)\n",
      "(81,)\n",
      "(81,)\n",
      "(81,)\n",
      "(81,)\n",
      "(81,)\n",
      "(81,)\n",
      "(81,)\n",
      "(81,)\n",
      "(81,)\n",
      "(81,)\n",
      "(81,)\n",
      "(81,)\n",
      "(81,)\n",
      "(81,)\n"
     ]
    }
   ],
   "source": [
    "for i in A_pmodes:\n",
    "    print i.shape"
   ]
  },
  {
   "cell_type": "code",
   "execution_count": null,
   "metadata": {
    "collapsed": true
   },
   "outputs": [],
   "source": []
  }
 ],
 "metadata": {
  "anaconda-cloud": {},
  "kernelspec": {
   "display_name": "Python 2",
   "language": "python",
   "name": "python2"
  },
  "language_info": {
   "codemirror_mode": {
    "name": "ipython",
    "version": 2
   },
   "file_extension": ".py",
   "mimetype": "text/x-python",
   "name": "python",
   "nbconvert_exporter": "python",
   "pygments_lexer": "ipython2",
   "version": "2.7.12"
  }
 },
 "nbformat": 4,
 "nbformat_minor": 2
}
