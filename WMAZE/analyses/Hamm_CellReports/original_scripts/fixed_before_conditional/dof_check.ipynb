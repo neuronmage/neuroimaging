{
 "cells": [
  {
   "cell_type": "code",
   "execution_count": 6,
   "metadata": {
    "collapsed": false
   },
   "outputs": [
    {
     "name": "stdout",
     "output_type": "stream",
     "text": [
      "178.0\n"
     ]
    }
   ],
   "source": [
    "#WMAZE_001\n",
    "#Run_1 -- 13 contrasts\n",
    "# 0x1.64p+7\n",
    "print((1 + 6./0x10 + 4./0x100) * 2**7)\n",
    "\n",
    "#Scnd lvl: 178"
   ]
  },
  {
   "cell_type": "code",
   "execution_count": 7,
   "metadata": {
    "collapsed": false
   },
   "outputs": [
    {
     "name": "stdout",
     "output_type": "stream",
     "text": [
      "177.0\n"
     ]
    }
   ],
   "source": [
    "# WMAZE_001\n",
    "# Run_2 -- 7 contrasts\n",
    "# 0x1.62p+7\n",
    "print((1 + 6./0x10 + 2./0x100) * 2**7)\n",
    "\n",
    "#Scnd lvl: 177"
   ]
  },
  {
   "cell_type": "code",
   "execution_count": 61,
   "metadata": {
    "collapsed": false
   },
   "outputs": [
    {
     "name": "stdout",
     "output_type": "stream",
     "text": [
      "175.3\n"
     ]
    }
   ],
   "source": [
    "# WMAZE_001\n",
    "# Run_3 -- 13 contrasts\n",
    "# 0x1.5ep+7\n",
    "print((1 + 5.6/0x10 + 5./0x100) * 2**7)\n",
    "\n",
    "#Scnd lvl: 175"
   ]
  },
  {
   "cell_type": "code",
   "execution_count": 9,
   "metadata": {
    "collapsed": false
   },
   "outputs": [
    {
     "name": "stdout",
     "output_type": "stream",
     "text": [
      "178.0\n"
     ]
    }
   ],
   "source": [
    "# WMAZE_001\n",
    "# Run_4 -- 13 contrasts\n",
    "# 0x1.64p+7 \n",
    "print((1 + 6./0x10 + 4./0x100) * 2**7)\n",
    "\n",
    "#Scnd lvl: 178"
   ]
  },
  {
   "cell_type": "code",
   "execution_count": 10,
   "metadata": {
    "collapsed": false
   },
   "outputs": [
    {
     "name": "stdout",
     "output_type": "stream",
     "text": [
      "179.0\n"
     ]
    }
   ],
   "source": [
    "# WMAZE_001\n",
    "# Run_5 -- 7 contrasts\n",
    "# 0x1.66p+7 \n",
    "print((1 + 6./0x10 + 6./0x100) * 2**7)\n",
    "\n",
    "#Scnd lvl: 179"
   ]
  },
  {
   "cell_type": "code",
   "execution_count": 11,
   "metadata": {
    "collapsed": false
   },
   "outputs": [
    {
     "name": "stdout",
     "output_type": "stream",
     "text": [
      "179.0\n"
     ]
    }
   ],
   "source": [
    "# WMAZE_001\n",
    "# Run_6 -- 7 contrasts\n",
    "# 0x1.66p+7 \n",
    "print((1 + 6./0x10 + 6./0x100) * 2**7)\n",
    "\n",
    "#Scnd lvl: 179"
   ]
  },
  {
   "cell_type": "code",
   "execution_count": null,
   "metadata": {
    "collapsed": true
   },
   "outputs": [],
   "source": []
  }
 ],
 "metadata": {
  "anaconda-cloud": {},
  "kernelspec": {
   "display_name": "Python [default]",
   "language": "python",
   "name": "python2"
  },
  "language_info": {
   "codemirror_mode": {
    "name": "ipython",
    "version": 2
   },
   "file_extension": ".py",
   "mimetype": "text/x-python",
   "name": "python",
   "nbconvert_exporter": "python",
   "pygments_lexer": "ipython2",
   "version": "2.7.13"
  }
 },
 "nbformat": 4,
 "nbformat_minor": 2
}
