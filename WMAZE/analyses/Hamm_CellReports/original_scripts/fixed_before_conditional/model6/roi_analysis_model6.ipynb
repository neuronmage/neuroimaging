{
 "cells": [
  {
   "cell_type": "markdown",
   "metadata": {},
   "source": [
    "# MODEL 6 \n",
    "### Contains only correct fixed-before-conditional trials without intervening BLs\n",
    "### Combines A & C trials into single regressor\n",
    "### Accounts for last three noisy volumes in Lvl 1 analysis (FSL ROI -- ExtractROI)"
   ]
  },
  {
   "cell_type": "markdown",
   "metadata": {},
   "source": [
    "## Compares activation for regions of interest using binarized masks:\n",
    "### Hippocampus (FS labels: hippocampus [17, 53])\n",
    "### Dorsal caudate (hand-drawn by Mandy)\n",
    "### Putamen (FS labels: putamen [12, 51])"
   ]
  },
  {
   "cell_type": "code",
   "execution_count": 6,
   "metadata": {
    "collapsed": true,
    "scrolled": true
   },
   "outputs": [],
   "source": [
    "import os\n",
    "from glob import glob\n",
    "\n",
    "sids = ['WMAZE_001', 'WMAZE_002', 'WMAZE_004', 'WMAZE_005', 'WMAZE_006', \n",
    "        'WMAZE_007', 'WMAZE_008', 'WMAZE_009', 'WMAZE_010', 'WMAZE_012', \n",
    "        'WMAZE_017', 'WMAZE_018', 'WMAZE_019', 'WMAZE_020', 'WMAZE_021',  \n",
    "        'WMAZE_022', 'WMAZE_023', 'WMAZE_024', 'WMAZE_026', 'WMAZE_027']\n",
    "\n",
    "proj_dir = '/home/data/madlab/data/mri/wmaze'\n",
    " \n",
    "mask_filenames = []\n",
    "cope_files = []\n",
    "\n",
    "for SID in sids:\n",
    "    mask_filenames_glob = glob(proj_dir + '/roi_analysis/MRthesis/fb4c_2/mask/anat_masks/_subject_id_' \n",
    "                               + SID + '/_anatmask_xfm*/*')\n",
    "    mask_filenames.append(sorted(mask_filenames_glob))\n",
    "\n",
    "    subjcopes_glob = glob(proj_dir + '/scndlvl/wmaze_MRthesis/fixed_before_conditional/model6/' \n",
    "                          + SID + '/fixedfx/cope_*')\n",
    "    cope_files.append(subjcopes_glob)\n",
    "    if len(cope_files[-1]) == 0:\n",
    "        print(SID)"
   ]
  },
  {
   "cell_type": "markdown",
   "metadata": {},
   "source": [
    "## Cell to double-check the array indexing"
   ]
  },
  {
   "cell_type": "code",
   "execution_count": 7,
   "metadata": {
    "collapsed": false
   },
   "outputs": [
    {
     "name": "stdout",
     "output_type": "stream",
     "text": [
      "0. left dlPFC\n",
      "/home/data/madlab/data/mri/wmaze/roi_analysis/MRthesis/fb4c_2/mask/anat_masks/_subject_id_WMAZE_001/_anatmask_xfm0/lh-dmPFC_warped.nii.gz\n",
      "1. left hippocampus\n",
      "/home/data/madlab/data/mri/wmaze/roi_analysis/MRthesis/fb4c_2/mask/anat_masks/_subject_id_WMAZE_001/_anatmask_xfm0/lh-hippocampus_warped.nii.gz\n",
      "2. left mPFC-FS-3\n",
      "/home/data/madlab/data/mri/wmaze/roi_analysis/MRthesis/fb4c_2/mask/anat_masks/_subject_id_WMAZE_001/_anatmask_xfm0/lh-mPFC_fs-3reg_warped.nii.gz\n",
      "3. left mPFC-FS\n",
      "/home/data/madlab/data/mri/wmaze/roi_analysis/MRthesis/fb4c_2/mask/anat_masks/_subject_id_WMAZE_001/_anatmask_xfm0/lh-mPFC_fs_warped.nii.gz\n",
      "4. left mPFC-Lausanne\n",
      "/home/data/madlab/data/mri/wmaze/roi_analysis/MRthesis/fb4c_2/mask/anat_masks/_subject_id_WMAZE_001/_anatmask_xfm0/lh-mPFC_lausanne_warped.nii.gz\n",
      "5. left motor\n",
      "/home/data/madlab/data/mri/wmaze/roi_analysis/MRthesis/fb4c_2/mask/anat_masks/_subject_id_WMAZE_001/_anatmask_xfm0/lh-motor_warped.nii.gz\n",
      "6. left caudate\n",
      "/home/data/madlab/data/mri/wmaze/roi_analysis/MRthesis/fb4c_2/mask/anat_masks/_subject_id_WMAZE_001/_anatmask_xfm0/lh_caudate_anat_mask_warped.nii.gz\n",
      "7. right caudate\n",
      "/home/data/madlab/data/mri/wmaze/roi_analysis/MRthesis/fb4c_2/mask/anat_masks/_subject_id_WMAZE_001/_anatmask_xfm0/rh_caudate_anat_mask_warped.nii.gz\n",
      "8. right dmPFC\n",
      "/home/data/madlab/data/mri/wmaze/roi_analysis/MRthesis/fb4c_2/mask/anat_masks/_subject_id_WMAZE_001/_anatmask_xfm1/rh-dmPFC_warped.nii.gz\n",
      "9. right hippocampus\n",
      "/home/data/madlab/data/mri/wmaze/roi_analysis/MRthesis/fb4c_2/mask/anat_masks/_subject_id_WMAZE_001/_anatmask_xfm1/rh-hippocampus_warped.nii.gz\n",
      "10. right mPFC-FS-3\n",
      "/home/data/madlab/data/mri/wmaze/roi_analysis/MRthesis/fb4c_2/mask/anat_masks/_subject_id_WMAZE_001/_anatmask_xfm1/rh-mPFC_fs-3reg_warped.nii.gz\n",
      "11. right mPFC-fs\n",
      "/home/data/madlab/data/mri/wmaze/roi_analysis/MRthesis/fb4c_2/mask/anat_masks/_subject_id_WMAZE_001/_anatmask_xfm1/rh-mPFC_fs_warped.nii.gz\n",
      "12. right mPFC-Lausanne\n",
      "/home/data/madlab/data/mri/wmaze/roi_analysis/MRthesis/fb4c_2/mask/anat_masks/_subject_id_WMAZE_001/_anatmask_xfm1/rh-mPFC_lausanne_warped.nii.gz\n",
      "13. right motor\n",
      "/home/data/madlab/data/mri/wmaze/roi_analysis/MRthesis/fb4c_2/mask/anat_masks/_subject_id_WMAZE_001/_anatmask_xfm1/rh-motor_warped.nii.gz\n",
      "14. left putamen\n",
      "/home/data/madlab/data/mri/wmaze/roi_analysis/MRthesis/fb4c_2/mask/anat_masks/_subject_id_WMAZE_001/_anatmask_xfm2/lh-putamen_warped.nii.gz\n",
      "15. right putamen\n",
      "/home/data/madlab/data/mri/wmaze/roi_analysis/MRthesis/fb4c_2/mask/anat_masks/_subject_id_WMAZE_001/_anatmask_xfm3/rh-putamen_warped.nii.gz\n"
     ]
    }
   ],
   "source": [
    "print '0. left dlPFC'\n",
    "print(mask_filenames[0][0]) #lh-dmPFC\n",
    "print '1. left hippocampus'\n",
    "print(mask_filenames[0][1]) #lh-HPC\n",
    "print '2. left mPFC-FS-3'\n",
    "print(mask_filenames[0][2]) #lh-mPFC-FS-3\n",
    "print '3. left mPFC-FS'\n",
    "print(mask_filenames[0][3]) #lh-mPFC-FS\n",
    "print '4. left mPFC-Lausanne'\n",
    "print(mask_filenames[0][4]) #lh-mPFC-L\n",
    "print '5. left motor'\n",
    "print(mask_filenames[0][5]) #lh-motor\n",
    "print '6. left caudate'\n",
    "print(mask_filenames[0][6]) #lh-caudate\n",
    "print '7. right caudate'\n",
    "print(mask_filenames[0][7]) #rh-caudate\n",
    "print '8. right dmPFC'\n",
    "print(mask_filenames[0][8]) #rh-dmPFC\n",
    "print '9. right hippocampus'\n",
    "print(mask_filenames[0][9]) #rh-HPC\n",
    "print '10. right mPFC-FS-3'\n",
    "print(mask_filenames[0][10]) #rh-mPFC-FS-3\n",
    "print '11. right mPFC-fs'\n",
    "print(mask_filenames[0][11]) #rh-mPFC-FS\n",
    "print '12. right mPFC-Lausanne'\n",
    "print(mask_filenames[0][12]) #rh-mPFC-L\n",
    "print '13. right motor'\n",
    "print(mask_filenames[0][13]) #rh-motor\n",
    "print '14. left putamen'\n",
    "print(mask_filenames[0][14]) #lh-putamen\n",
    "print '15. right putamen'\n",
    "print(mask_filenames[0][15]) #rh-putamen\n",
    "\n",
    "#print\"\"\n",
    "#print '-----'\n",
    "#print \"\"\n",
    "\n",
    "#print 'all_before_B_corr'\n",
    "#print(cope_files[0][0]) #A_before_B_corr\n",
    "#print 'all_before_B_incorr'\n",
    "#print(cope_files[0][1]) #A_before_B_incorr\n",
    "\n",
    "#for i in cope_files:\n",
    "#    print(len(i))\n"
   ]
  },
  {
   "cell_type": "markdown",
   "metadata": {},
   "source": [
    "### Use binarized mask to obtain activation in left & right hemisphere for each region of interest"
   ]
  },
  {
   "cell_type": "code",
   "execution_count": 8,
   "metadata": {
    "collapsed": false,
    "scrolled": true
   },
   "outputs": [],
   "source": [
    "import nibabel as nb\n",
    "import pandas as pd\n",
    "import numpy as np\n",
    "\n",
    "\n",
    "#Dictionary containing multiple arrays referenced by keywords\n",
    "all_data = {'subjid':[],\n",
    "            'lhhp_fixed_corr_before_cond_corr':[], 'rhhp_fixed_corr_before_cond_corr':[], \n",
    "            'lhhp_fixed_corr_before_cond_incorr':[], 'rhhp_fixed_corr_before_cond_incorr':[],\n",
    "            \n",
    "            'lhcaudate_fixed_corr_before_cond_corr':[], 'rhcaudate_fixed_corr_before_cond_corr':[], \n",
    "            'lhcaudate_fixed_corr_before_cond_incorr':[], 'rhcaudate_fixed_corr_before_cond_incorr':[],\n",
    "            \n",
    "            'lhputamen_fixed_corr_before_cond_corr':[], 'rhputamen_fixed_corr_before_cond_corr':[], \n",
    "            'lhputamen_fixed_corr_before_cond_incorr':[], 'rhputamen_fixed_corr_before_cond_incorr':[],\n",
    "           \n",
    "            'lhmPFC_fixed_corr_before_cond_corr':[], 'rhmPFC_fixed_corr_before_cond_corr':[], \n",
    "            'lhmPFC_fixed_corr_before_cond_incorr':[], 'rhmPFC_fixed_corr_before_cond_incorr':[]}\n",
    "\n",
    "\n",
    "# For each interation in the length of subject ids\n",
    "for i in range(len(sids)):\n",
    "    #Append the subject id\n",
    "    all_data['subjid'].append(sids[i])\n",
    "    #Load the left and right hippocampus mask files using Nibabel \n",
    "    lh_hp_img = nb.load(mask_filenames[i][1])\n",
    "    rh_hp_img = nb.load(mask_filenames[i][9])\n",
    "    #lh_mPFC_img = nb.load(mask_filenames[i][2]) #FreeSurfer-3\n",
    "    #rh_mPFC_img = nb.load(mask_filenames[i][10]) #FreeSurfer-3\n",
    "    lh_mPFC_img = nb.load(mask_filenames[i][3]) #FreeSurfer-2\n",
    "    rh_mPFC_img = nb.load(mask_filenames[i][11]) #FreeSurfer-2\n",
    "    lh_caudate_img = nb.load(mask_filenames[i][6])\n",
    "    rh_caudate_img = nb.load(mask_filenames[i][7])\n",
    "    lh_putamen_img = nb.load(mask_filenames[i][14])\n",
    "    rh_putamen_img = nb.load(mask_filenames[i][15])\n",
    "\n",
    "    \n",
    "    #Load copes for individual trial types\n",
    "    fixed_corr_before_cond_corr_img = nb.load(cope_files[i][1])\n",
    "    fixed_corr_before_cond_incorr_img = nb.load(cope_files[i][2])\n",
    "    \n",
    "    \n",
    "    ########################\n",
    "    ### Left Hippocampus ###\n",
    "    ########################\n",
    "    \n",
    "    # fixed_corr_before_cond_corr\n",
    "    lh_hp_fixed_corr_before_cond_corr_data = fixed_corr_before_cond_corr_img.get_data()[lh_hp_img.get_data() > 0.]\n",
    "    all_data['lhhp_fixed_corr_before_cond_corr'].append(np.mean(lh_hp_fixed_corr_before_cond_corr_data))\n",
    "    \n",
    "    # fixed_corr_before_cond_incorr\n",
    "    lh_hp_fixed_corr_before_cond_incorr_data = fixed_corr_before_cond_incorr_img.get_data()[lh_hp_img.get_data() > 0.]\n",
    "    all_data['lhhp_fixed_corr_before_cond_incorr'].append(np.mean(lh_hp_fixed_corr_before_cond_incorr_data))\n",
    "      \n",
    "    \n",
    "    #########################\n",
    "    ### Right Hippocampus ###\n",
    "    #########################\n",
    "    \n",
    "    # fixed_corr_before_cond_corr\n",
    "    rh_hp_fixed_corr_before_cond_corr_data = fixed_corr_before_cond_corr_img.get_data()[rh_hp_img.get_data() > 0.]\n",
    "    all_data['rhhp_fixed_corr_before_cond_corr'].append(np.mean(rh_hp_fixed_corr_before_cond_corr_data))\n",
    "\n",
    "    # fixed_corr_before_cond_incorr\n",
    "    rh_hp_fixed_corr_before_cond_incorr_data = fixed_corr_before_cond_incorr_img.get_data()[rh_hp_img.get_data() > 0.]\n",
    "    all_data['rhhp_fixed_corr_before_cond_incorr'].append(np.mean(rh_hp_fixed_corr_before_cond_incorr_data))\n",
    "\n",
    "    \n",
    "    ####################\n",
    "    ### Left Caudate ###\n",
    "    ####################\n",
    "    \n",
    "    # fixed_corr_before_cond_corr\n",
    "    lh_caudate_fixed_corr_before_cond_corr_data = fixed_corr_before_cond_corr_img.get_data()[lh_caudate_img.get_data() > 0.]\n",
    "    all_data['lhcaudate_fixed_corr_before_cond_corr'].append(np.mean(lh_caudate_fixed_corr_before_cond_corr_data))\n",
    "    \n",
    "    # fixed_corr_before_cond_incorr\n",
    "    lh_caudate_fixed_corr_before_cond_incorr_data = fixed_corr_before_cond_incorr_img.get_data()[lh_caudate_img.get_data() > 0.]\n",
    "    all_data['lhcaudate_fixed_corr_before_cond_incorr'].append(np.mean(lh_caudate_fixed_corr_before_cond_incorr_data))\n",
    "         \n",
    "    \n",
    "    #####################\n",
    "    ### Right Caudate ###\n",
    "    ##################### \n",
    "    \n",
    "    # fixed_corr_before_cond_corr\n",
    "    rh_caudate_fixed_corr_before_cond_corr_data = fixed_corr_before_cond_corr_img.get_data()[rh_caudate_img.get_data() > 0.]\n",
    "    all_data['rhcaudate_fixed_corr_before_cond_corr'].append(np.mean(rh_caudate_fixed_corr_before_cond_corr_data))\n",
    "\n",
    "    # fixed_corr_before_cond_incorr\n",
    "    rh_caudate_fixed_corr_before_cond_incorr_data = fixed_corr_before_cond_incorr_img.get_data()[rh_caudate_img.get_data() > 0.]\n",
    "    all_data['rhcaudate_fixed_corr_before_cond_incorr'].append(np.mean(rh_caudate_fixed_corr_before_cond_incorr_data))\n",
    "    \n",
    "    \n",
    "    ####################\n",
    "    ### Left Putamen ###\n",
    "    ####################\n",
    "    \n",
    "    # fixed_corr_before_cond_corr\n",
    "    lh_putamen_fixed_corr_before_cond_corr_data = fixed_corr_before_cond_corr_img.get_data()[lh_putamen_img.get_data() > 0.]\n",
    "    all_data['lhputamen_fixed_corr_before_cond_corr'].append(np.mean(lh_putamen_fixed_corr_before_cond_corr_data))\n",
    "    \n",
    "    # fixed_corr_before_cond_incorr\n",
    "    lh_putamen_fixed_corr_before_cond_incorr_data = fixed_corr_before_cond_incorr_img.get_data()[lh_putamen_img.get_data() > 0.]\n",
    "    all_data['lhputamen_fixed_corr_before_cond_incorr'].append(np.mean(lh_putamen_fixed_corr_before_cond_incorr_data))\n",
    "          \n",
    "    \n",
    "    #####################\n",
    "    ### Right Putamen ###\n",
    "    #####################\n",
    "    \n",
    "    # fixed_corr_before_cond_corr\n",
    "    rh_putamen_fixed_corr_before_cond_corr_data = fixed_corr_before_cond_corr_img.get_data()[rh_putamen_img.get_data() > 0.]\n",
    "    all_data['rhputamen_fixed_corr_before_cond_corr'].append(np.mean(rh_putamen_fixed_corr_before_cond_corr_data))\n",
    "\n",
    "    # fixed_corr_before_cond_incorr\n",
    "    rh_putamen_fixed_corr_before_cond_incorr_data = fixed_corr_before_cond_incorr_img.get_data()[rh_putamen_img.get_data() > 0.]\n",
    "    all_data['rhputamen_fixed_corr_before_cond_incorr'].append(np.mean(rh_putamen_fixed_corr_before_cond_incorr_data))\n",
    "\n",
    "    \n",
    "    ####################\n",
    "    #### Left mPFC ####\n",
    "    ####################\n",
    "    \n",
    "    # fixed_corr_before_cond_corr\n",
    "    lh_mPFC_fixed_corr_before_cond_corr_data = fixed_corr_before_cond_corr_img.get_data()[lh_mPFC_img.get_data() > 0.]\n",
    "    all_data['lhmPFC_fixed_corr_before_cond_corr'].append(np.mean(lh_mPFC_fixed_corr_before_cond_corr_data))\n",
    "    \n",
    "    # fixed_corr_before_cond_incorr\n",
    "    lh_mPFC_fixed_corr_before_cond_incorr_data = fixed_corr_before_cond_incorr_img.get_data()[lh_mPFC_img.get_data() > 0.]\n",
    "    all_data['lhmPFC_fixed_corr_before_cond_incorr'].append(np.mean(lh_mPFC_fixed_corr_before_cond_incorr_data))\n",
    "          \n",
    "    \n",
    "    #####################\n",
    "    #### Right mPFC ####\n",
    "    #####################\n",
    "    \n",
    "    # fixed_corr_before_cond_corr\n",
    "    rh_mPFC_fixed_corr_before_cond_corr_data = fixed_corr_before_cond_corr_img.get_data()[rh_mPFC_img.get_data() > 0.]\n",
    "    all_data['rhmPFC_fixed_corr_before_cond_corr'].append(np.mean(rh_mPFC_fixed_corr_before_cond_corr_data))\n",
    "\n",
    "    # fixed_corr_before_cond_incorr\n",
    "    rh_mPFC_fixed_corr_before_cond_incorr_data = fixed_corr_before_cond_incorr_img.get_data()[rh_mPFC_img.get_data() > 0.]\n",
    "    all_data['rhmPFC_fixed_corr_before_cond_incorr'].append(np.mean(rh_mPFC_fixed_corr_before_cond_incorr_data))\n",
    "    \n",
    "all_data_df = pd.DataFrame(all_data)"
   ]
  },
  {
   "cell_type": "markdown",
   "metadata": {},
   "source": [
    "### Combine the two hemispheres to create one regional average"
   ]
  },
  {
   "cell_type": "code",
   "execution_count": 9,
   "metadata": {
    "collapsed": false,
    "scrolled": true
   },
   "outputs": [],
   "source": [
    "#Hippocampus average for each trial type\n",
    "all_data_df['hp_fixed_corr_before_cond_corr'] = (all_data_df['lhhp_fixed_corr_before_cond_corr'] + \n",
    "                                                 all_data_df['rhhp_fixed_corr_before_cond_corr'])/2.\n",
    "all_data_df['hp_fixed_corr_before_cond_incorr'] = (all_data_df['lhhp_fixed_corr_before_cond_incorr'] + \n",
    "                                                   all_data_df['rhhp_fixed_corr_before_cond_incorr'])/2.\n",
    "\n",
    "\n",
    "\n",
    "#Caudate average for each trial type\n",
    "all_data_df['caudate_fixed_corr_before_cond_corr'] = (all_data_df['lhcaudate_fixed_corr_before_cond_corr'] + \n",
    "                                                      all_data_df['rhcaudate_fixed_corr_before_cond_corr'])/2.\n",
    "all_data_df['caudate_fixed_corr_before_cond_incorr'] = (all_data_df['lhcaudate_fixed_corr_before_cond_incorr'] + \n",
    "                                                        all_data_df['rhcaudate_fixed_corr_before_cond_incorr'])/2.\n",
    "\n",
    "\n",
    "\n",
    "#Putamen average for each trial type\n",
    "all_data_df['putamen_fixed_corr_before_cond_corr'] = (all_data_df['lhputamen_fixed_corr_before_cond_corr'] + \n",
    "                                                      all_data_df['rhputamen_fixed_corr_before_cond_corr'])/2.\n",
    "all_data_df['putamen_fixed_corr_before_cond_incorr'] = (all_data_df['lhputamen_fixed_corr_before_cond_incorr'] + \n",
    "                                                        all_data_df['rhputamen_fixed_corr_before_cond_incorr'])/2.\n",
    "\n",
    "\n",
    "\n",
    "#mPFC average for each trial type\n",
    "all_data_df['mPFC_fixed_corr_before_cond_corr'] = (all_data_df['lhmPFC_fixed_corr_before_cond_corr'] + \n",
    "                                                      all_data_df['rhmPFC_fixed_corr_before_cond_corr'])/2.\n",
    "all_data_df['mPFC_fixed_corr_before_cond_incorr'] = (all_data_df['lhmPFC_fixed_corr_before_cond_incorr'] + \n",
    "                                                        all_data_df['rhmPFC_fixed_corr_before_cond_incorr'])/2."
   ]
  },
  {
   "cell_type": "markdown",
   "metadata": {},
   "source": [
    "## Hippocampus"
   ]
  },
  {
   "cell_type": "code",
   "execution_count": 10,
   "metadata": {
    "collapsed": false
   },
   "outputs": [
    {
     "name": "stdout",
     "output_type": "stream",
     "text": [
      "fixed_corr_before_cond_corr mean:  -1.12801035158\n",
      "fixed_corr_before_cond_incorr:  -2.58068096824\n",
      "\n",
      "T-test: Hippocampus fixed_corr_before_cond_corr vs. fixed_corr_before_cond_incorr\n",
      "(4.2132397409099394, 0.00047087822525260079)\n",
      "Cohen's d =  0.984028760328\n"
     ]
    },
    {
     "data": {
      "image/png": "[encoded data removed]",
      "text/plain": [
       "<matplotlib.figure.Figure at 0x2b9ae8451290>"
      ]
     },
     "metadata": {},
     "output_type": "display_data"
    }
   ],
   "source": [
    "%matplotlib inline\n",
    "import seaborn as sns\n",
    "import matplotlib.pyplot as plt\n",
    "sns.set_palette('muted')\n",
    "from scipy import stats\n",
    "from math import sqrt\n",
    "\n",
    "print 'fixed_corr_before_cond_corr mean: ', all_data_df['hp_fixed_corr_before_cond_corr'].mean()\n",
    "print 'fixed_corr_before_cond_incorr: ', all_data_df['hp_fixed_corr_before_cond_incorr'].mean()\n",
    "print \"\"\n",
    "print 'T-test: Hippocampus fixed_corr_before_cond_corr vs. fixed_corr_before_cond_incorr'\n",
    "print stats.ttest_rel(all_data_df['hp_fixed_corr_before_cond_corr'], all_data_df['hp_fixed_corr_before_cond_incorr'])[:]\n",
    "\n",
    "cohens_d = ((np.average(all_data_df['hp_fixed_corr_before_cond_corr']) \n",
    "             - np.average(all_data_df['hp_fixed_corr_before_cond_incorr'])) \n",
    "            / (sqrt((np.std(all_data_df['hp_fixed_corr_before_cond_corr'], ddof = 1)) \n",
    "            ** 2 + np.std(all_data_df['hp_fixed_corr_before_cond_incorr'], ddof = 1) ** 2) / 2))\n",
    "print \"Cohen's d = \", cohens_d\n",
    "\n",
    "N = 2\n",
    "conditions = ['Corr COND', 'Incorr COND']\n",
    "\n",
    "hp_allsubjs = [all_data_df['hp_fixed_corr_before_cond_corr'], \n",
    "               all_data_df['hp_fixed_corr_before_cond_incorr']]\n",
    "ind = np.arange(N)\n",
    "pal = [\"#30b55c\", \"#e06243\"]\n",
    "pal = sns.color_palette(pal)\n",
    "\n",
    "fig, ax = plt.subplots(figsize = (4,4))\n",
    "ax0 = sns.boxplot(data = hp_allsubjs, color = \"#278fea\", width = 0.3)\n",
    "ax2 = sns.swarmplot(data = hp_allsubjs, color='.25')\n",
    "\n",
    "ax.set_xticklabels(conditions)\n",
    "ax.set_xticks(ind)\n",
    "ax.set_xlabel(\"FIXED Trial Preceding\")\n",
    "ax.set_ylabel(\"Arbitrary units\")\n",
    "ax.set_title(\"Hippocampal Activation\")\n",
    "plt.savefig(\"/home/arenf001/model6.jpg\", dpi = 1080)\n",
    "plt.show()"
   ]
  },
  {
   "cell_type": "markdown",
   "metadata": {},
   "source": [
    "## mPFC"
   ]
  },
  {
   "cell_type": "code",
   "execution_count": 21,
   "metadata": {
    "collapsed": false
   },
   "outputs": [
    {
     "name": "stdout",
     "output_type": "stream",
     "text": [
      "fixed_corr_before_cond_corr mean:  -1.24848753363\n",
      "fixed_corr_before_cond_incorr:  -2.2288553589\n",
      "\n",
      "T-test: mPFC fixed_corr_before_cond_corr vs. fixed_corr_before_cond_incorr\n",
      "(1.9698049241864064, 0.063614778499126431)\n",
      "Cohen's d =  0.437287383375\n"
     ]
    },
    {
     "data": {
      "image/png": "[encoded data removed]",
      "text/plain": [
       "<matplotlib.figure.Figure at 0x2b9aea63be10>"
      ]
     },
     "metadata": {},
     "output_type": "display_data"
    }
   ],
   "source": [
    "%matplotlib inline\n",
    "import seaborn as sns\n",
    "import matplotlib.pyplot as plt\n",
    "sns.set_palette('muted')\n",
    "from scipy import stats\n",
    "from math import sqrt\n",
    "\n",
    "print 'fixed_corr_before_cond_corr mean: ', all_data_df['mPFC_fixed_corr_before_cond_corr'].mean()\n",
    "print 'fixed_corr_before_cond_incorr: ', all_data_df['mPFC_fixed_corr_before_cond_incorr'].mean()\n",
    "print \"\"\n",
    "print 'T-test: mPFC fixed_corr_before_cond_corr vs. fixed_corr_before_cond_incorr'\n",
    "print stats.ttest_rel(all_data_df['mPFC_fixed_corr_before_cond_corr'], all_data_df['mPFC_fixed_corr_before_cond_incorr'])[:]\n",
    "\n",
    "cohens_d = ((np.average(all_data_df['mPFC_fixed_corr_before_cond_corr']) \n",
    "             - np.average(all_data_df['mPFC_fixed_corr_before_cond_incorr'])) \n",
    "            / (sqrt((np.std(all_data_df['mPFC_fixed_corr_before_cond_corr'], ddof = 1)) \n",
    "            ** 2 + np.std(all_data_df['mPFC_fixed_corr_before_cond_incorr'], ddof = 1) ** 2) / 2))\n",
    "print \"Cohen's d = \", cohens_d\n",
    "\n",
    "N = 2\n",
    "conditions = ['Corr COND', 'Incorr COND']\n",
    "\n",
    "mPFC_allsubjs = [all_data_df['mPFC_fixed_corr_before_cond_corr'], \n",
    "               all_data_df['mPFC_fixed_corr_before_cond_incorr']]\n",
    "ind = np.arange(N)\n",
    "pal = [\"#30b55c\", \"#e06243\"]\n",
    "pal = sns.color_palette(pal)\n",
    "\n",
    "fig, ax = plt.subplots(figsize = (4,4))\n",
    "ax0 = sns.boxplot(data = mPFC_allsubjs, color = \"#f97401\", width = 0.3)\n",
    "ax2 = sns.swarmplot(data = mPFC_allsubjs, color='.25')\n",
    "\n",
    "ax.set_xticklabels(conditions)\n",
    "ax.set_xticks(ind)\n",
    "ax.set_xlabel(\"FIXED Trial Preceding\")\n",
    "ax.set_ylabel(\"Arbitrary units\")\n",
    "ax.set_title(\"mPFC Activation\")\n",
    "plt.savefig(\"/home/arenf001/model6_mPFC.jpg\", dpi = 1080)\n",
    "plt.show()"
   ]
  },
  {
   "cell_type": "markdown",
   "metadata": {},
   "source": [
    "## Caudate"
   ]
  },
  {
   "cell_type": "code",
   "execution_count": 13,
   "metadata": {
    "collapsed": false
   },
   "outputs": [
    {
     "name": "stdout",
     "output_type": "stream",
     "text": [
      "fixed_corr_before_cond_corr\n",
      "0.792075610068\n",
      "fixed_corr_before_cond_incorr\n",
      "0.799351135222\n",
      "T-test: Caudate fixed_corr_before_cond_corr vs. fixed_corr_before_cond_incorr\n",
      "Ttest_relResult(statistic=-0.011218373100768583, pvalue=0.99116617928623829)\n"
     ]
    },
    {
     "data": {
      "image/png": "[encoded data removed]",
      "text/plain": [
       "<matplotlib.figure.Figure at 0x2b9ac42bf910>"
      ]
     },
     "metadata": {},
     "output_type": "display_data"
    }
   ],
   "source": [
    "print 'fixed_corr_before_cond_corr'\n",
    "print all_data_df['caudate_fixed_corr_before_cond_corr'].mean()\n",
    "print 'fixed_corr_before_cond_incorr'\n",
    "print all_data_df['caudate_fixed_corr_before_cond_incorr'].mean()\n",
    "\n",
    "\n",
    "print 'T-test: Caudate fixed_corr_before_cond_corr vs. fixed_corr_before_cond_incorr'\n",
    "print stats.ttest_rel(all_data_df['caudate_fixed_corr_before_cond_corr'], \n",
    "                      all_data_df['caudate_fixed_corr_before_cond_incorr'])\n",
    "\n",
    "N = 2\n",
    "conditions = ['Corr COND', 'Incorr COND']\n",
    "\n",
    "caudate_allsubjs = [all_data_df['caudate_fixed_corr_before_cond_corr'], \n",
    "               all_data_df['caudate_fixed_corr_before_cond_incorr']]\n",
    "ind = np.arange(N)\n",
    "pal = [\"#30b55c\", \"#e06243\"]\n",
    "pal = sns.color_palette(pal)\n",
    "\n",
    "fig, ax = plt.subplots(figsize = (4,4))\n",
    "ax0 = sns.boxplot(data = caudate_allsubjs, color = \"#f9f96d\", width = 0.3)\n",
    "ax2 = sns.swarmplot(data = caudate_allsubjs, color='.25')\n",
    "\n",
    "ax.set_xticklabels(conditions)\n",
    "ax.set_xticks(ind)\n",
    "ax.set_xlabel(\"FIXED Trial Preceding\")\n",
    "ax.set_ylabel(\"Arbitrary units\")\n",
    "ax.set_title(\"Caudate Activation\")\n",
    "#plt.savefig(\"/home/arenf001/model6-2.jpg\", dpi = 1080)\n",
    "plt.show()"
   ]
  },
  {
   "cell_type": "markdown",
   "metadata": {},
   "source": [
    "## Putamen"
   ]
  },
  {
   "cell_type": "code",
   "execution_count": 19,
   "metadata": {
    "collapsed": false
   },
   "outputs": [
    {
     "name": "stdout",
     "output_type": "stream",
     "text": [
      "fixed_corr_before_cond_corr\n",
      "0.808207439631\n",
      "fixed_corr_before_cond_incorr\n",
      "-0.392488810793\n",
      "T-test: Putamen fixed_corr_before_cond_corr vs. fixed_corr_before_cond_incorr\n",
      "Ttest_relResult(statistic=2.5467352392002724, pvalue=0.019694942594097604)\n",
      "Cohen's d =  0.64848798732\n"
     ]
    },
    {
     "data": {
      "image/png": "[encoded data removed]",
      "text/plain": [
       "<matplotlib.figure.Figure at 0x2b9af38bf790>"
      ]
     },
     "metadata": {},
     "output_type": "display_data"
    }
   ],
   "source": [
    "print 'fixed_corr_before_cond_corr'\n",
    "print all_data_df['putamen_fixed_corr_before_cond_corr'].mean()\n",
    "print 'fixed_corr_before_cond_incorr'\n",
    "print all_data_df['putamen_fixed_corr_before_cond_incorr'].mean()\n",
    "\n",
    "\n",
    "print 'T-test: Putamen fixed_corr_before_cond_corr vs. fixed_corr_before_cond_incorr'\n",
    "print stats.ttest_rel(all_data_df['putamen_fixed_corr_before_cond_corr'], \n",
    "                      all_data_df['putamen_fixed_corr_before_cond_incorr'])\n",
    "cohens_d = ((np.average(all_data_df['putamen_fixed_corr_before_cond_corr']) \n",
    "             - np.average(all_data_df['putamen_fixed_corr_before_cond_incorr'])) \n",
    "            / (sqrt((np.std(all_data_df['putamen_fixed_corr_before_cond_corr'], ddof = 1)) \n",
    "            ** 2 + np.std(all_data_df['putamen_fixed_corr_before_cond_incorr'], ddof = 1) ** 2) / 2))\n",
    "print \"Cohen's d = \", cohens_d\n",
    "\n",
    "N = 2\n",
    "conditions = ['Corr COND', 'Incorr COND']\n",
    "\n",
    "putamen_allsubjs = [all_data_df['putamen_fixed_corr_before_cond_corr'], \n",
    "               all_data_df['putamen_fixed_corr_before_cond_incorr']]\n",
    "ind = np.arange(N)\n",
    "pal = [\"#30b55c\", \"#e06243\"]\n",
    "pal = sns.color_palette(pal)\n",
    "\n",
    "fig, ax = plt.subplots(figsize = (4,4))\n",
    "ax0 = sns.boxplot(data = putamen_allsubjs, color = \"#c34aef\", width = 0.3)\n",
    "ax2 = sns.swarmplot(data = putamen_allsubjs, color='.25')\n",
    "\n",
    "ax.set_xticklabels(conditions)\n",
    "ax.set_xticks(ind)\n",
    "ax.set_xlabel(\"FIXED Trial Preceding\")\n",
    "ax.set_ylabel(\"Arbitrary units\")\n",
    "ax.set_title(\"Putamen Activation\")\n",
    "#plt.savefig(\"/home/arenf001/model6-3.jpg\", dpi = 1080)\n",
    "plt.show()"
   ]
  }
 ],
 "metadata": {
  "anaconda-cloud": {},
  "kernelspec": {
   "display_name": "Python 2",
   "language": "python",
   "name": "python2"
  },
  "language_info": {
   "codemirror_mode": {
    "name": "ipython",
    "version": 2
   },
   "file_extension": ".py",
   "mimetype": "text/x-python",
   "name": "python",
   "nbconvert_exporter": "python",
   "pygments_lexer": "ipython2",
   "version": "2.7.12"
  }
 },
 "nbformat": 4,
 "nbformat_minor": 2
}
