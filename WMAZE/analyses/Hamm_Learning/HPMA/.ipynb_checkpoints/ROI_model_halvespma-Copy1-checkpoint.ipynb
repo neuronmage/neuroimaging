{
 "cells": [
  {
   "cell_type": "markdown",
   "metadata": {},
   "source": [
    "# Model Halves-PMA"
   ]
  },
  {
   "cell_type": "raw",
   "metadata": {},
   "source": [
    "Objective: \n",
    "Compare activation in regions of interest during specific timepoints. Create box/swarm plots to represent data.\n",
    "\n",
    "Strategy: \n",
    " \n",
    "\n",
    "Important details: \n",
    "1. Make sure to use the correct pathway for the regional masks (there are several). If a new region is required, consult older versions of this script to obtain code for creating binarized masks.\n",
    "2. Regional masks are not bilateral -- lh and rh will need to be combined.\n",
    "3. Regional masks are binarized and in nii.gz format; voxels constituting the ROI == 1, while non-ROI == 0.  \n",
    "4. Be sure to consult the cell entitled \"Double-check array indexing\" to ensure you are indexing the correct files for both masks and cope files.\n",
    "\n",
    "\n",
    "Strategy: \n",
    "1. Loop through subjects and glob mask and cope files. Sort to make sure glob arranges all subjects' in the same order (do not assume it will -- you have been warned). Use a simple conditional statement to print subjeect ID for any participant with a missing contrast (2nd level cope file).\n",
    "2a-b. Loop through mask_files and cope_files and print the index and name of each (this info is used later).\n",
    "3. Create a huge dictionary to organize data by hemisphere, region, and condition (64 keys total).\n",
    "4. Iterate through subjects, load the respective mask and cope files for each. Use the indexing obtaining in STEP 2a-b.\n",
    "5. Create lists of strings for 'region' and 'learn_type'. Loop through region, and then sub-loop  through learn_type. Create a variable for each hemisphere (lh and rh) - use eval() and .format() to insert the current string for both region (r) and learn_type (l). Use .get_data() on the resepective learn_type Nibabel data, then index at the voxels with a value > 0 in the regional mask (lh or rh). Append these masked cope values to their key in the large dictionary. Once the loops finish, convert dictionary to a Pandas dataframe ('all_data_df').\n",
    "6. Combine the two hemispheres into once regional average. Loop in the same fashion as STEP 5, create new keys in all_data_df for the combined regional/learn values. \n",
    "7. Create new Pandas dataframe isolating HPC regional activations (used for inspection of individual subject values).\n",
    "8. Script for organizing data and drawing plot (HPC - see code) of all contrasts (8).\n",
    "9. \n",
    "\n",
    "\n",
    "Status:\n",
    "- *Success*"
   ]
  },
  {
   "cell_type": "code",
   "execution_count": 1,
   "metadata": {
    "collapsed": false,
    "scrolled": true
   },
   "outputs": [
    {
     "name": "stdout",
     "output_type": "stream",
     "text": [
      "WMAZE_001\n",
      "WMAZE_002\n",
      "WMAZE_004\n",
      "WMAZE_005\n",
      "WMAZE_006\n",
      "WMAZE_007\n",
      "WMAZE_008\n",
      "WMAZE_009\n",
      "WMAZE_010\n",
      "WMAZE_012\n",
      "WMAZE_017\n",
      "WMAZE_018\n",
      "WMAZE_019\n",
      "WMAZE_020\n",
      "WMAZE_021\n",
      "WMAZE_022\n",
      "WMAZE_023\n",
      "WMAZE_024\n",
      "WMAZE_026\n",
      "WMAZE_027\n"
     ]
    }
   ],
   "source": [
    "import os\n",
    "from os.path import join\n",
    "import numpy as np\n",
    "import pandas as pd\n",
    "from glob import glob\n",
    "from math import sqrt\n",
    "%matplotlib inline\n",
    "import seaborn as sns\n",
    "sns.set_palette('muted')\n",
    "sns.set_style(\"whitegrid\")\n",
    "import matplotlib.pyplot as plt\n",
    "from scipy import stats\n",
    "\n",
    "#removed WMAZE_007 due to no 2nd level late_nonlearn\n",
    "sids = ['WMAZE_001', 'WMAZE_002', 'WMAZE_004', 'WMAZE_005', 'WMAZE_006',\n",
    "        'WMAZE_007', 'WMAZE_008', 'WMAZE_009', 'WMAZE_010', 'WMAZE_012',\n",
    "        'WMAZE_017', 'WMAZE_018', 'WMAZE_019', 'WMAZE_020', 'WMAZE_021',\n",
    "        'WMAZE_022', 'WMAZE_023', 'WMAZE_024', 'WMAZE_026', 'WMAZE_027']\n",
    "\n",
    "\n",
    "##STEP 1\n",
    "proj_dir = '/home/data/madlab/data/mri/wmaze' \n",
    "mask_files = []\n",
    "cope_files = []\n",
    "for SID in sids:\n",
    "    mask_filenames_glob = glob(proj_dir + '/roi_analysis/MRthesis/fb4c_2/mask/anat_masks/_subject_id_' \n",
    "                               + SID + '/_anatmask_xfm*/*')\n",
    "    mask_files.append(mask_filenames_glob)\n",
    "    subjcopes_glob = glob(proj_dir + '/scndlvl/wmaze_MRthesis/fixed_before_conditional/model_HALVESPMA/' \n",
    "                          + SID + '/fixedfx/cope_*')\n",
    "    subjcopes_glob.sort()\n",
    "    cope_files.append(subjcopes_glob)\n",
    "    \n",
    "    if len(cope_files[-1]) == 0 or len(cope_files[-1]) != 22: \n",
    "        print(SID)"
   ]
  },
  {
   "cell_type": "markdown",
   "metadata": {},
   "source": [
    "## Double-check the array indexing"
   ]
  },
  {
   "cell_type": "code",
   "execution_count": null,
   "metadata": {
    "collapsed": false
   },
   "outputs": [],
   "source": [
    "##STEP 2a\n",
    "for i, curr_mask in enumerate(mask_files[0]):\n",
    "    print(i, mask_files[0][i].split('/')[-1][:-7]) #use enumerate to get index, use split to get only filename "
   ]
  },
  {
   "cell_type": "code",
   "execution_count": null,
   "metadata": {
    "collapsed": false
   },
   "outputs": [],
   "source": [
    "##STEP 2b\n",
    "for i, curr_cope in enumerate(cope_files[0]):\n",
    "    print(i, cope_files[0][i].split('/')[-1][5:-7]) "
   ]
  },
  {
   "cell_type": "markdown",
   "metadata": {},
   "source": [
    "### Use binarized mask to obtain activation in left & right hemisphere for each region of interest"
   ]
  },
  {
   "cell_type": "code",
   "execution_count": null,
   "metadata": {
    "collapsed": false,
    "scrolled": true
   },
   "outputs": [],
   "source": [
    "##STEP 3\n",
    "all_data = {'subjid':[],\n",
    "            #HPC\n",
    "            'lhhp_early_learn_event':[], 'rhhp_early_learn_event':[], \n",
    "            'lhhp_late_learn_event':[], 'rhhp_late_learn_event':[],\n",
    "            'lhhp_early_nonlearn_event':[], 'rhhp_early_nonlearn_event':[],\n",
    "            'lhhp_late_nonlearn_event':[], 'rhhp_late_nonlearn_event':[],\n",
    "            'lhhp_early_learn_pmod':[], 'rhhp_early_learn_pmod':[], \n",
    "            'lhhp_late_learn_pmod':[], 'rhhp_late_learn_pmod':[],\n",
    "            'lhhp_early_nonlearn_pmod':[], 'rhhp_early_nonlearn_pmod':[],\n",
    "            'lhhp_late_nonlearn_pmod':[], 'rhhp_late_nonlearn_pmod':[],\n",
    "            #mPFC\n",
    "            'lhmpfc_early_learn_event':[], 'rhmpfc_early_learn_event':[], \n",
    "            'lhmpfc_late_learn_event':[], 'rhmpfc_late_learn_event':[],\n",
    "            'lhmpfc_early_nonlearn_event':[], 'rhmpfc_early_nonlearn_event':[],\n",
    "            'lhmpfc_late_nonlearn_event':[], 'rhmpfc_late_nonlearn_event':[],\n",
    "            'lhmpfc_early_learn_pmod':[], 'rhmpfc_early_learn_pmod':[], \n",
    "            'lhmpfc_late_learn_pmod':[], 'rhmpfc_late_learn_pmod':[],\n",
    "            'lhmpfc_early_nonlearn_pmod':[], 'rhmpfc_early_nonlearn_pmod':[],\n",
    "            'lhmpfc_late_nonlearn_pmod':[], 'rhmpfc_late_nonlearn_pmod':[],\n",
    "            #Caudate\n",
    "            'lhcaud_early_learn_event':[], 'rhcaud_early_learn_event':[], \n",
    "            'lhcaud_late_learn_event':[], 'rhcaud_late_learn_event':[],\n",
    "            'lhcaud_early_nonlearn_event':[], 'rhcaud_early_nonlearn_event':[],\n",
    "            'lhcaud_late_nonlearn_event':[], 'rhcaud_late_nonlearn_event':[],\n",
    "            'lhcaud_early_learn_pmod':[], 'rhcaud_early_learn_pmod':[], \n",
    "            'lhcaud_late_learn_pmod':[], 'rhcaud_late_learn_pmod':[],\n",
    "            'lhcaud_early_nonlearn_pmod':[], 'rhcaud_early_nonlearn_pmod':[],\n",
    "            'lhcaud_late_nonlearn_pmod':[], 'rhcaud_late_nonlearn_pmod':[],\n",
    "            #Putamen\n",
    "            'lhput_early_learn_event':[], 'rhput_early_learn_event':[], \n",
    "            'lhput_late_learn_event':[], 'rhput_late_learn_event':[],\n",
    "            'lhput_early_nonlearn_event':[], 'rhput_early_nonlearn_event':[],\n",
    "            'lhput_late_nonlearn_event':[], 'rhput_late_nonlearn_event':[],\n",
    "            'lhput_early_learn_pmod':[], 'rhput_early_learn_pmod':[], \n",
    "            'lhput_late_learn_pmod':[], 'rhput_late_learn_pmod':[],\n",
    "            'lhput_early_nonlearn_pmod':[], 'rhput_early_nonlearn_pmod':[],\n",
    "            'lhput_late_nonlearn_pmod':[], 'rhput_late_nonlearn_pmod':[]}\n",
    "\n",
    "##STEP 4\n",
    "for i in range(len(sids)): #loop as many times as there are subects (starting at index of 1)\n",
    "    all_data['subjid'].append(sids[i]) #append sid at index of current interation (i) \n",
    "    lh_hp_img = nb.load(mask_files[i][0]) #use Nibabel to load current subject's [i] regional mask file [0]\n",
    "    rh_hp_img = nb.load(mask_files[i][8]) #use indices obtained in STEP 2a\n",
    "    lh_mpfc_img = nb.load(mask_files[i][5])\n",
    "    rh_mpfc_img = nb.load(mask_files[i][11])\n",
    "    lh_caud_img = nb.load(mask_files[i][1])\n",
    "    rh_caud_img = nb.load(mask_files[i][2])\n",
    "    lh_put_img = nb.load(mask_files[i][14])\n",
    "    rh_put_img = nb.load(mask_files[i][15])\n",
    "    \n",
    "    early_learn_event_img = nb.load(cope_files[i][2]) #use Nibabel to load current subject's [i] cope file [2]\n",
    "    late_learn_event_img = nb.load(cope_files[i][10]) #use indices obtained in STEP 2b\n",
    "    early_nonlearn_event_img = nb.load(cope_files[i][4])\n",
    "    late_nonlearn_event_img = nb.load(cope_files[i][12])\n",
    "    early_learn_pmod_img = nb.load(cope_files[i][3])\n",
    "    late_learn_pmod_img = nb.load(cope_files[i][11])\n",
    "    early_nonlearn_pmod_img = nb.load(cope_files[i][5])\n",
    "    late_nonlearn_pmod_img = nb.load(cope_files[i][13])\n",
    "    \n",
    "    \n",
    "    ##STEP 5\n",
    "    region = ['hp', 'mpfc', 'caud', 'put']\n",
    "    learn_type = ['early_learn_event', 'late_learn_event', 'early_nonlearn_event', 'late_nonlearn_event',\n",
    "                  'early_learn_pmod', 'late_learn_pmod', 'early_nonlearn_pmod', 'late_nonlearn_pmod']\n",
    "   \n",
    "    for r in region:\n",
    "        for l in learn_type:\n",
    "            lh_data = eval('{0}_img.get_data()[lh_{1}_img.get_data() > 0.]'.format(l,r))           \n",
    "            rh_data = eval('{0}_img.get_data()[rh_{1}_img.get_data() > 0.]'.format(l,r))\n",
    "            all_data['lh{0}_{1}'.format(r,l)].append(np.mean(lh_data)) \n",
    "            all_data['rh{0}_{1}'.format(r,l)].append(np.mean(rh_data))\n",
    "\n",
    "all_data_df = pd.DataFrame(all_data)"
   ]
  },
  {
   "cell_type": "markdown",
   "metadata": {},
   "source": [
    "### Combine the two hemispheres to create one regional average"
   ]
  },
  {
   "cell_type": "code",
   "execution_count": null,
   "metadata": {
    "collapsed": false,
    "scrolled": true
   },
   "outputs": [],
   "source": [
    "##STEP 6\n",
    "region = ['hp', 'mpfc', 'caud', 'put']\n",
    "learn_type = ['early_learn_event', 'late_learn_event', 'early_nonlearn_event', 'late_nonlearn_event',\n",
    "              'early_learn_pmod', 'late_learn_pmod', 'early_nonlearn_pmod', 'late_nonlearn_pmod']\n",
    "\n",
    "for r in region:\n",
    "    for l in learn_type:\n",
    "        all_data_df['{0}_all_{1}'.format(r,l)] = (all_data_df['lh{0}_{1}'.format(r,l)] \n",
    "                                                  + all_data_df['rh{0}_{1}'.format(r,l)])/2."
   ]
  },
  {
   "cell_type": "markdown",
   "metadata": {},
   "source": [
    "### Create new Pandas dataframe to isolate HPC activations"
   ]
  },
  {
   "cell_type": "markdown",
   "metadata": {},
   "source": [
    "## Hippocampus"
   ]
  },
  {
   "cell_type": "code",
   "execution_count": null,
   "metadata": {
    "collapsed": false
   },
   "outputs": [],
   "source": [
    "#STEP 7\n",
    "hpc_chart = {}\n",
    "hpc_chart['1_early_learn_event'] = all_data_df['hp_all_early_learn_event'] \n",
    "hpc_chart['2_late_learn_event'] = all_data_df['hp_all_late_learn_event'] \n",
    "hpc_chart['3_early_nonlearn_event'] = all_data_df['hp_all_early_nonlearn_event']\n",
    "hpc_chart['4_late_nonlearn_event'] = all_data_df['hp_all_late_nonlearn_event']\n",
    "hpc_chart['5_early_learn_pmod'] = all_data_df['hp_all_early_learn_pmod'] \n",
    "hpc_chart['6_late_learn_pmod'] = all_data_df['hp_all_late_learn_pmod'] \n",
    "hpc_chart['7_early_nonlearn_pmod'] = all_data_df['hp_all_early_nonlearn_pmod']\n",
    "hpc_chart['8_late_nonlearn_pmod'] = all_data_df['hp_all_late_nonlearn_pmod']\n",
    "hpc_chart_df = pd.DataFrame.from_dict(hpc_chart)"
   ]
  },
  {
   "cell_type": "code",
   "execution_count": null,
   "metadata": {
    "collapsed": false
   },
   "outputs": [],
   "source": [
    "#prints HPC dataframe -- displays individual subject values for each condition\n",
    "hpc_chart_df"
   ]
  },
  {
   "cell_type": "code",
   "execution_count": null,
   "metadata": {
    "collapsed": false,
    "scrolled": false
   },
   "outputs": [],
   "source": [
    "##STEP 8\n",
    "#Iterate through all conditions to print Mean and STD for each\n",
    "for d in ['1_early_learn_event', '2_late_learn_event', '3_early_nonlearn_event', '4_late_nonlearn_event',\n",
    "          '5_early_learn_pmod', '6_late_learn_pmod', '7_early_nonlearn_pmod', '8_late_nonlearn_pmod']:\n",
    "    print \"{0} Mean: \".format(d), np.mean(hpc_chart['{0}'.format(d)])\n",
    "    print \"{0} STD: \".format(d), np.std(hpc_chart['{0}'.format(d)])\n",
    "    print \"\"\n",
    "\n",
    "#plot data using box and swarmplots\n",
    "N = 8\n",
    "conditions = ['1_ln_evt', '2_ln_evt', '1_nonln_evt', '2_nonln_evt',\n",
    "              '1_ln_pmod', '2_ln_pmod', '1_nonln_pmod', '2_nonln_pmod'] #labels\n",
    "\n",
    "hp_allsubjs = [hpc_chart['1_early_learn_event'], hpc_chart['2_late_learn_event'],\n",
    "               hpc_chart['3_early_nonlearn_event'], hpc_chart['4_late_nonlearn_event'],\n",
    "               hpc_chart['5_early_learn_pmod'], hpc_chart['6_late_learn_pmod'],\n",
    "               hpc_chart['7_early_nonlearn_pmod'], hpc_chart['8_late_nonlearn_pmod']] #data to plot\n",
    "ind = np.arange(N) #number of ticks for x-axis\n",
    "fig, ax = plt.subplots(figsize = (12,10)) #general plotting parameters (size, number, etc)\n",
    "ax0 = sns.boxplot(data = hp_allsubjs, color = \"#278fea\", width = 0.3) #draws boxplots\n",
    "ax2 = sns.swarmplot(data = hp_allsubjs, color='.25') #draws swarmplots\n",
    "ax.set_xticks(ind) #draws x-axis ticks\n",
    "ax.set_xticklabels(conditions) #labels x-axis ticks\n",
    "ax.set_ylabel(\"Arbitrary units\") #typical label of BOLD activation\n",
    "ax.set_title(\"HPC Activation\") #title to entire plot\n",
    "plt.show() #command to draw plot (also resets if looped)"
   ]
  },
  {
   "cell_type": "code",
   "execution_count": null,
   "metadata": {
    "collapsed": false
   },
   "outputs": [],
   "source": [
    "##STEP 9\n",
    "plot = {}\n",
    "plot['early_event'] = all_data_df[['hp_all_early_learn_event','hp_all_early_nonlearn_event']].mean(axis=1)\n",
    "plot['late_event'] = all_data_df[['hp_all_late_learn_event','hp_all_late_nonlearn_event']].mean(axis=1)\n",
    "plot['early_pmod'] = all_data_df[['hp_all_early_learn_pmod','hp_all_early_nonlearn_pmod']].mean(axis=1)\n",
    "plot['late_pmod'] = all_data_df[['hp_all_late_learn_pmod','hp_all_late_nonlearn_pmod']].mean(axis=1)\n",
    "plot_df = pd.DataFrame.from_dict(plot)\n",
    "\n",
    "sns.set_style(\"white\")\n",
    "for d in ['early_event', 'late_event', 'early_pmod', 'late_pmod']:\n",
    "    print \"{0} Mean: \".format(d), np.mean(plot['{0}'.format(d)])\n",
    "    print \"{0} STD: \".format(d), np.std(plot['{0}'.format(d)])\n",
    "    print \"\"\n",
    "    \n",
    "print \"Early - Event vs. Pmod t-test: \", stats.ttest_rel(plot['early_event'], plot['early_pmod'])[:]\n",
    "print \"Late - Event vs. Pmod t-test: \",stats.ttest_rel(plot['late_event'], plot['late_pmod'])[:]\n",
    "                       \n",
    "N = 4\n",
    "conditions = ['early_event', 'late_event', 'early_pmod', 'late_pmod']\n",
    "hp_allsubjs = [plot['early_event'], plot['late_event'], \n",
    "               plot['early_pmod'], plot['late_pmod']]\n",
    "ind = np.arange(N)\n",
    "width = 0.5\n",
    "fig, ax = plt.subplots(figsize = (8,8))\n",
    "ax0 = sns.boxplot(data = hp_allsubjs, color = \"#278fea\", width = 0.3)\n",
    "ax2 = sns.swarmplot(data = hp_allsubjs, color='.25')\n",
    "ax.set_xticks(ind)\n",
    "ax.set_xticklabels(conditions)\n",
    "ax.set_ylabel(\"Arbitrary units\")\n",
    "#ax.set_title(\"HPC Activation\")\n",
    "plt.show()"
   ]
  },
  {
   "cell_type": "markdown",
   "metadata": {},
   "source": [
    "## mPFC"
   ]
  },
  {
   "cell_type": "code",
   "execution_count": null,
   "metadata": {
    "collapsed": true
   },
   "outputs": [],
   "source": [
    "mpfc_chart = {}\n",
    "mpfc_chart['1_early_learn_event'] = all_data_df['mpfc_all_early_learn_event'] \n",
    "mpfc_chart['2_late_learn_event'] = all_data_df['mpfc_all_late_learn_event'] \n",
    "mpfc_chart['3_early_nonlearn_event'] = all_data_df['mpfc_all_early_nonlearn_event']\n",
    "mpfc_chart['4_late_nonlearn_event'] = all_data_df['mpfc_all_late_nonlearn_event']\n",
    "mpfc_chart['5_early_learn_pmod'] = all_data_df['mpfc_all_early_learn_pmod'] \n",
    "mpfc_chart['6_late_learn_pmod'] = all_data_df['mpfc_all_late_learn_pmod'] \n",
    "mpfc_chart['7_early_nonlearn_pmod'] = all_data_df['mpfc_all_early_nonlearn_pmod']\n",
    "mpfc_chart['8_late_nonlearn_pmod'] = all_data_df['mpfc_all_late_nonlearn_pmod']\n",
    "mpfc_chart_df = pd.DataFrame.from_dict(mpfc_chart)"
   ]
  },
  {
   "cell_type": "code",
   "execution_count": null,
   "metadata": {
    "collapsed": false
   },
   "outputs": [],
   "source": [
    "mpfc_chart_df"
   ]
  },
  {
   "cell_type": "code",
   "execution_count": null,
   "metadata": {
    "collapsed": false
   },
   "outputs": [],
   "source": [
    "sns.set_style(\"white\")\n",
    "for d in ['1_early_learn_event', '2_late_learn_event', '3_early_nonlearn_event', '4_late_nonlearn_event',\n",
    "          '5_early_learn_pmod', '6_late_learn_pmod', '7_early_nonlearn_pmod', '8_late_nonlearn_pmod']:\n",
    "    print \"{0} Mean: \".format(d), np.mean(mpfc_chart['{0}'.format(d)])\n",
    "    print \"{0} STD: \".format(d), np.std(mpfc_chart['{0}'.format(d)])\n",
    "    print \"\"\n",
    "\n",
    "N = 8\n",
    "conditions = ['1_ln_evt', '2_ln_evt', '1_nonln_evt', '2_nonln_evt',\n",
    "              '1_ln_pmod', '2_ln_pmod', '1_nonln_pmod', '2_nonln_pmod']\n",
    "mpfc_allsubjs = [mpfc_chart['1_early_learn_event'], \n",
    "               mpfc_chart['2_late_learn_event'],\n",
    "               mpfc_chart['3_early_nonlearn_event'],\n",
    "               mpfc_chart['4_late_nonlearn_event'],\n",
    "               mpfc_chart['5_early_learn_pmod'], \n",
    "               mpfc_chart['6_late_learn_pmod'],\n",
    "               mpfc_chart['7_early_nonlearn_pmod'],\n",
    "               mpfc_chart['8_late_nonlearn_pmod']]\n",
    "ind = np.arange(N)\n",
    "width = 0.5\n",
    "fig, ax = plt.subplots(figsize = (12,10))\n",
    "ax0 = sns.boxplot(data = mpfc_allsubjs, color = \"#f97401\", width = 0.3)\n",
    "ax2 = sns.swarmplot(data = mpfc_allsubjs, color='.25')\n",
    "ax.set_xticks(ind)\n",
    "ax.set_xticklabels(conditions)\n",
    "ax.set_ylabel(\"Arbitrary units\")\n",
    "ax.set_title(\"mPFC Activation\")\n",
    "plt.show()"
   ]
  },
  {
   "cell_type": "code",
   "execution_count": null,
   "metadata": {
    "collapsed": false
   },
   "outputs": [],
   "source": [
    "plot2 = {}\n",
    "plot2['early_event'] = all_data_df[['mpfc_all_early_learn_event','mpfc_all_early_nonlearn_event']].mean(axis=1)\n",
    "plot2['late_event'] = all_data_df[['mpfc_all_late_learn_event','mpfc_all_late_nonlearn_event']].mean(axis=1)\n",
    "plot2['early_pmod'] = all_data_df[['mpfc_all_early_learn_pmod','mpfc_all_early_nonlearn_pmod']].mean(axis=1)\n",
    "plot2['late_pmod'] = all_data_df[['mpfc_all_late_learn_pmod','mpfc_all_late_nonlearn_pmod']].mean(axis=1)\n",
    "plot2_df = pd.DataFrame.from_dict(plot2)\n",
    "\n",
    "sns.set_style(\"white\")\n",
    "for d in ['early_event', 'late_event', 'early_pmod', 'late_pmod']:\n",
    "    print \"{0} Mean: \".format(d), np.mean(plot2['{0}'.format(d)])\n",
    "    print \"{0} STD: \".format(d), np.std(plot2['{0}'.format(d)])\n",
    "    print \"\"\n",
    "    \n",
    "print \"Early - Event vs. Pmod t-test: \", stats.ttest_rel(plot2['early_event'], plot2['early_pmod'])[:]\n",
    "print \"Late - Event vs. Pmod t-test: \",stats.ttest_rel(plot2['late_event'], plot2['late_pmod'])[:]\n",
    "                       \n",
    "N = 4\n",
    "conditions = ['early_event', 'late_event', 'early_pmod', 'late_pmod']\n",
    "mpfc_allsubjs = [plot2['early_event'], plot2['late_event'], \n",
    "               plot2['early_pmod'], plot2['late_pmod']]\n",
    "ind = np.arange(N)\n",
    "width = 0.5\n",
    "fig, ax = plt.subplots(figsize = (8,8))\n",
    "ax0 = sns.boxplot(data = mpfc_allsubjs, color = \"#f97401\", with = 0.3)\n",
    "ax2 = sns.swarmplot(data = mpfc_allsubjs, color='.25')\n",
    "ax.set_xticks(ind)\n",
    "ax.set_xticklabels(conditions)\n",
    "ax.set_ylabel(\"Arbitrary units\")\n",
    "#ax.set_title(\"mPFC Activation\")\n",
    "plt.show()"
   ]
  },
  {
   "cell_type": "markdown",
   "metadata": {},
   "source": [
    "## Caudate"
   ]
  },
  {
   "cell_type": "code",
   "execution_count": null,
   "metadata": {
    "collapsed": true
   },
   "outputs": [],
   "source": [
    "caud_chart = {}\n",
    "caud_chart['1_early_learn_event'] = all_data_df['caud_all_early_learn_event'] \n",
    "caud_chart['2_late_learn_event'] = all_data_df['caud_all_late_learn_event'] \n",
    "caud_chart['3_early_nonlearn_event'] = all_data_df['caud_all_early_nonlearn_event']\n",
    "caud_chart['4_late_nonlearn_event'] = all_data_df['caud_all_late_nonlearn_event']\n",
    "caud_chart['5_early_learn_pmod'] = all_data_df['caud_all_early_learn_pmod'] \n",
    "caud_chart['6_late_learn_pmod'] = all_data_df['caud_all_late_learn_pmod'] \n",
    "caud_chart['7_early_nonlearn_pmod'] = all_data_df['caud_all_early_nonlearn_pmod']\n",
    "caud_chart['8_late_nonlearn_pmod'] = all_data_df['caud_all_late_nonlearn_pmod']\n",
    "caud_chart_df = pd.DataFrame.from_dict(caud_chart)"
   ]
  },
  {
   "cell_type": "code",
   "execution_count": null,
   "metadata": {
    "collapsed": false
   },
   "outputs": [],
   "source": [
    "caud_chart_df"
   ]
  },
  {
   "cell_type": "code",
   "execution_count": null,
   "metadata": {
    "collapsed": false,
    "scrolled": true
   },
   "outputs": [],
   "source": [
    "sns.set_style(\"white\")\n",
    "for d in ['1_early_learn_event', '2_late_learn_event', '3_early_nonlearn_event', '4_late_nonlearn_event',\n",
    "          '5_early_learn_pmod', '6_late_learn_pmod', '7_early_nonlearn_pmod', '8_late_nonlearn_pmod']:\n",
    "    print \"{0} Mean: \".format(d), np.mean(caud_chart['{0}'.format(d)])\n",
    "    print \"{0} STD: \".format(d), np.std(caud_chart['{0}'.format(d)])\n",
    "    print \"\"\n",
    "\n",
    "N = 8\n",
    "conditions = ['1_ln_evt', '2_ln_evt', '1_nonln_evt', '2_nonln_evt',\n",
    "              '1_ln_pmod', '2_ln_pmod', '1_nonln_pmod', '2_nonln_pmod']\n",
    "caud_allsubjs = [caud_chart['1_early_learn_event'], \n",
    "               caud_chart['2_late_learn_event'],\n",
    "               caud_chart['3_early_nonlearn_event'],\n",
    "               caud_chart['4_late_nonlearn_event'],\n",
    "               caud_chart['5_early_learn_pmod'], \n",
    "               caud_chart['6_late_learn_pmod'],\n",
    "               caud_chart['7_early_nonlearn_pmod'],\n",
    "               caud_chart['8_late_nonlearn_pmod']]\n",
    "ind = np.arange(N)\n",
    "width = 0.5\n",
    "fig, ax = plt.subplots(figsize = (12,10))\n",
    "ax0 = sns.boxplot(data = caud_allsubjs, color = \"#f9f96d\", width = 0.3)\n",
    "ax2 = sns.swarmplot(data = caud_allsubjs, color='.25')\n",
    "ax.set_xticks(ind)\n",
    "ax.set_xticklabels(conditions)\n",
    "ax.set_ylabel(\"Arbitrary units\")\n",
    "ax.set_title(\"Caudate Activation\")\n",
    "plt.show()"
   ]
  },
  {
   "cell_type": "code",
   "execution_count": null,
   "metadata": {
    "collapsed": false
   },
   "outputs": [],
   "source": [
    "plot3 = {}\n",
    "plot3['early_event'] = all_data_df[['caud_all_early_learn_event','caud_all_early_nonlearn_event']].mean(axis=1)\n",
    "plot3['late_event'] = all_data_df[['caud_all_late_learn_event','caud_all_late_nonlearn_event']].mean(axis=1)\n",
    "plot3['early_pmod'] = all_data_df[['caud_all_early_learn_pmod','caud_all_early_nonlearn_pmod']].mean(axis=1)\n",
    "plot3['late_pmod'] = all_data_df[['caud_all_late_learn_pmod','caud_all_late_nonlearn_pmod']].mean(axis=1)\n",
    "plot3_df = pd.DataFrame.from_dict(plot3)\n",
    "\n",
    "sns.set_style(\"white\")\n",
    "for d in ['early_event', 'late_event', 'early_pmod', 'late_pmod']:\n",
    "    print \"{0} Mean: \".format(d), np.mean(plot3['{0}'.format(d)])\n",
    "    print \"{0} STD: \".format(d), np.std(plot3['{0}'.format(d)])\n",
    "    print \"\"\n",
    "    \n",
    "print \"Early - Event vs. Pmod t-test: \", stats.ttest_rel(plot3['early_event'], plot3['early_pmod'])[:]\n",
    "print \"Late - Event vs. Pmod t-test: \",stats.ttest_rel(plot3['late_event'], plot3['late_pmod'])[:]\n",
    "                       \n",
    "N = 4\n",
    "conditions = ['early_event', 'late_event', 'early_pmod', 'late_pmod']\n",
    "caud_allsubjs = [plot3['early_event'], plot3['late_event'], \n",
    "               plot3['early_pmod'], plot3['late_pmod']]\n",
    "ind = np.arange(N)\n",
    "width = 0.5\n",
    "fig, ax = plt.subplots(figsize = (8,8))\n",
    "ax0 = sns.boxplot(data = caud_allsubjs, color = \"#f9f96d\", width = 0.3)\n",
    "ax2 = sns.swarmplot(data = caud_allsubjs, color='.25')\n",
    "ax.set_xticks(ind)\n",
    "ax.set_xticklabels(conditions)\n",
    "ax.set_ylabel(\"Arbitrary units\")\n",
    "#ax.set_title(\"Caudate Activation\")\n",
    "plt.show()"
   ]
  },
  {
   "cell_type": "markdown",
   "metadata": {},
   "source": [
    "### Putamen Stats"
   ]
  },
  {
   "cell_type": "code",
   "execution_count": null,
   "metadata": {
    "collapsed": false
   },
   "outputs": [],
   "source": [
    "put_chart = {}\n",
    "put_chart['1_early_learn_event'] = all_data_df['put_all_early_learn_event'] \n",
    "put_chart['2_late_learn_event'] = all_data_df['put_all_late_learn_event'] \n",
    "put_chart['3_early_nonlearn_event'] = all_data_df['put_all_early_nonlearn_event']\n",
    "put_chart['4_late_nonlearn_event'] = all_data_df['put_all_late_nonlearn_event']\n",
    "put_chart['5_early_learn_pmod'] = all_data_df['put_all_early_learn_pmod'] \n",
    "put_chart['6_late_learn_pmod'] = all_data_df['put_all_late_learn_pmod'] \n",
    "put_chart['7_early_nonlearn_pmod'] = all_data_df['put_all_early_nonlearn_pmod']\n",
    "put_chart['8_late_nonlearn_pmod'] = all_data_df['put_all_late_nonlearn_pmod']\n",
    "put_chart_df = pd.DataFrame.from_dict(put_chart)"
   ]
  },
  {
   "cell_type": "code",
   "execution_count": null,
   "metadata": {
    "collapsed": false
   },
   "outputs": [],
   "source": [
    "put_chart_df"
   ]
  },
  {
   "cell_type": "code",
   "execution_count": null,
   "metadata": {
    "collapsed": false,
    "scrolled": true
   },
   "outputs": [],
   "source": [
    "sns.set_style(\"white\")\n",
    "for d in ['1_early_learn_event', '2_late_learn_event', '3_early_nonlearn_event', '4_late_nonlearn_event',\n",
    "          '5_early_learn_pmod', '6_late_learn_pmod', '7_early_nonlearn_pmod', '8_late_nonlearn_pmod']:\n",
    "    print \"{0} Mean: \".format(d), np.mean(put_chart['{0}'.format(d)])\n",
    "    print \"{0} STD: \".format(d), np.std(put_chart['{0}'.format(d)])\n",
    "    print \"\"\n",
    "\n",
    "N = 8\n",
    "conditions = ['1_ln_evt', '2_ln_evt', '1_nonln_evt', '2_nonln_evt',\n",
    "              '1_ln_pmod', '2_ln_pmod', '1_nonln_pmod', '2_nonln_pmod']\n",
    "put_allsubjs = [put_chart['1_early_learn_event'], \n",
    "               put_chart['2_late_learn_event'],\n",
    "               put_chart['3_early_nonlearn_event'],\n",
    "               put_chart['4_late_nonlearn_event'],\n",
    "               put_chart['5_early_learn_pmod'], \n",
    "               put_chart['6_late_learn_pmod'],\n",
    "               put_chart['7_early_nonlearn_pmod'],\n",
    "               put_chart['8_late_nonlearn_pmod']]\n",
    "ind = np.arange(N)\n",
    "width = 0.5\n",
    "fig, ax = plt.subplots(figsize = (12,10))\n",
    "ax0 = sns.boxplot(data = put_allsubjs, color = \"#c34aef\", width = 0.3)\n",
    "ax2 = sns.swarmplot(data = put_allsubjs, color='.25')\n",
    "ax.set_xticks(ind)\n",
    "ax.set_xticklabels(conditions)\n",
    "ax.set_ylabel(\"Arbitrary units\")\n",
    "ax.set_title(\"put Activation\")\n",
    "plt.show()"
   ]
  },
  {
   "cell_type": "code",
   "execution_count": null,
   "metadata": {
    "collapsed": false
   },
   "outputs": [],
   "source": [
    "plot4 = {}\n",
    "plot4['early_event'] = all_data_df[['put_all_early_learn_event','put_all_early_nonlearn_event']].mean(axis=1)\n",
    "plot4['late_event'] = all_data_df[['put_all_late_learn_event','put_all_late_nonlearn_event']].mean(axis=1)\n",
    "plot4['early_pmod'] = all_data_df[['put_all_early_learn_pmod','put_all_early_nonlearn_pmod']].mean(axis=1)\n",
    "plot4['late_pmod'] = all_data_df[['put_all_late_learn_pmod','put_all_late_nonlearn_pmod']].mean(axis=1)\n",
    "plot4_df = pd.DataFrame.from_dict(plot4)\n",
    "\n",
    "sns.set_style(\"white\")\n",
    "for d in ['early_event', 'late_event', 'early_pmod', 'late_pmod']:\n",
    "    print \"{0} Mean: \".format(d), np.mean(plot4['{0}'.format(d)])\n",
    "    print \"{0} STD: \".format(d), np.std(plot4['{0}'.format(d)])\n",
    "    print \"\"\n",
    "    \n",
    "print \"Early - Event vs. Pmod t-test: \", stats.ttest_rel(plot4['early_event'], plot4['early_pmod'])[:]\n",
    "print \"Late - Event vs. Pmod t-test: \",stats.ttest_rel(plot4['late_event'], plot4['late_pmod'])[:]\n",
    "                       \n",
    "N = 4\n",
    "conditions = ['early_event', 'late_event', 'early_pmod', 'late_pmod']\n",
    "put_allsubjs = [plot4['early_event'], plot4['late_event'], \n",
    "               plot4['early_pmod'], plot4['late_pmod']]\n",
    "ind = np.arange(N)\n",
    "width = 0.5\n",
    "fig, ax = plt.subplots(figsize = (8,8))\n",
    "ax0 = sns.boxplot(data = put_allsubjs, color = \"#c34aef\", width = 0.3)\n",
    "ax2 = sns.swarmplot(data = put_allsubjs, color='.25')\n",
    "ax.set_xticks(ind)\n",
    "ax.set_xticklabels(conditions)\n",
    "ax.set_ylabel(\"Arbitrary units\")\n",
    "#ax.set_title(\"Putamen Activation\")\n",
    "plt.show()"
   ]
  },
  {
   "cell_type": "code",
   "execution_count": null,
   "metadata": {
    "collapsed": true
   },
   "outputs": [],
   "source": []
  }
 ],
 "metadata": {
  "anaconda-cloud": {},
  "kernelspec": {
   "display_name": "Python 2",
   "language": "python",
   "name": "python2"
  },
  "language_info": {
   "codemirror_mode": {
    "name": "ipython",
    "version": 2
   },
   "file_extension": ".py",
   "mimetype": "text/x-python",
   "name": "python",
   "nbconvert_exporter": "python",
   "pygments_lexer": "ipython2",
   "version": "2.7.12"
  }
 },
 "nbformat": 4,
 "nbformat_minor": 2
}
