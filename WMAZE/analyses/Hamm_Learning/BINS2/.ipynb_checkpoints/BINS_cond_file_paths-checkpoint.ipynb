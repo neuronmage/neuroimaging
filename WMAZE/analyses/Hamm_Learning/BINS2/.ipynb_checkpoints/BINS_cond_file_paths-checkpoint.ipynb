{
 "cells": [
  {
   "cell_type": "code",
   "execution_count": 1,
   "metadata": {
    "collapsed": true
   },
   "outputs": [],
   "source": [
    "import shutil \n",
    "import os\n",
    "from os.path import join, split, basename\n",
    "import numpy as np\n",
    "from glob import glob"
   ]
  },
  {
   "cell_type": "markdown",
   "metadata": {},
   "source": [
    "## Build empty folder structure"
   ]
  },
  {
   "cell_type": "code",
   "execution_count": 2,
   "metadata": {
    "collapsed": false
   },
   "outputs": [],
   "source": [
    "subs = ['WMAZE_001', 'WMAZE_002', 'WMAZE_004', 'WMAZE_005', 'WMAZE_006',\n",
    "        'WMAZE_007', 'WMAZE_008', 'WMAZE_009', 'WMAZE_010', 'WMAZE_012',\n",
    "        'WMAZE_017', 'WMAZE_018', 'WMAZE_019', 'WMAZE_020', 'WMAZE_021',\n",
    "        'WMAZE_022', 'WMAZE_023', 'WMAZE_024', 'WMAZE_026', 'WMAZE_027']\n",
    "\n",
    "output_root = '/home/data/madlab/Mattfeld_WMAZE/dset/analyses/learning/BINS/lvl1/' \n",
    "    \n",
    "for sub in subs:   \n",
    "    if not os.path.exists(join(output_root,'cond/{0}/modelfit'.format(sub),'contrasts/_estimate_model0/')):\n",
    "        for i in range(3):\n",
    "            os.makedirs(join(output_root, 'cond/{0}/modelfit'.format(sub), \n",
    "                             'contrasts/_estimate_model{0}/'.format(i)))\n",
    "            os.makedirs(join(output_root, 'cond/{0}/modelfit'.format(sub), \n",
    "                             'contrasts/_z2pval{0}/'.format(i)))                                \n",
    "            os.makedirs(join(output_root, 'cond/{0}/modelfit'.format(sub), \n",
    "                             'design/_generate_model{0}/'.format(i)))\n",
    "            os.makedirs(join(output_root, 'cond/{0}/modelfit'.format(sub), \n",
    "                             'dofs/_estimate_model{0}/'.format(i)))\n",
    "            os.makedirs(join(output_root, 'cond/{0}/modelfit'.format(sub), \n",
    "                             'estimates/_estimate_model{0}/'.format(i)))"
   ]
  },
  {
   "cell_type": "markdown",
   "metadata": {},
   "source": [
    "## Move from FIRST set"
   ]
  },
  {
   "cell_type": "code",
   "execution_count": 3,
   "metadata": {
    "collapsed": false
   },
   "outputs": [],
   "source": [
    "set_num = 0\n",
    "for sub in subs:      \n",
    "    #move zstat2pval\n",
    "    shutil.move(join(output_root, 'cond/cond_1/{0}/modelfit'.format(sub), \n",
    "                     'contrasts/zstat1_pval.nii.gz'),\n",
    "                join(output_root, 'cond/{0}/modelfit'.format(sub), \n",
    "                     'contrasts/_z2pval{0}/zstat1_pval.nii.gz'.format(set_num)))\n",
    "        \n",
    "    #move all other files to contrasts/_estimate_model\n",
    "    contrast_files = glob(join(output_root, 'cond/cond_1/{0}/modelfit'.format(sub), 'contrasts/*.nii.gz'))\n",
    "    for contrast_file in contrast_files:\n",
    "        shutil.move(join(output_root, 'cond/cond_1/{0}/modelfit'.format(sub), \n",
    "                         'contrasts/{0}'.format(basename(contrast_file))),\n",
    "                    join(output_root, 'cond/{0}/modelfit'.format(sub), \n",
    "                         'contrasts/_estimate_model{0}/{1}'.format(set_num, basename(contrast_file))))\n",
    "    \n",
    "    #move 3 design files to design/_generate_model\n",
    "    design_files = glob(join(output_root, 'cond/cond_1/{0}/modelfit'.format(sub), 'design/*.*'))\n",
    "    for design_file in design_files:\n",
    "        shutil.move(join(output_root, 'cond/cond_1/{0}/modelfit'.format(sub), \n",
    "                         'design/{0}'.format(basename(design_file))),\n",
    "                    join(output_root, 'cond/{0}/modelfit'.format(sub), \n",
    "                         'design/_generate_model{0}/{1}'.format(set_num, basename(design_file))))\n",
    "     \n",
    "    #move single DOF file\n",
    "    shutil.move(join(output_root, 'cond/cond_1/{0}/modelfit'.format(sub), 'dofs/dof'),\n",
    "                join(output_root, 'cond/{0}/modelfit'.format(sub), \n",
    "                     'dofs/_estimate_model{0}/dof'.format(set_num)))\n",
    "    \n",
    "    #move all estimate files to estimates/_estimate_model\n",
    "    estimate_files = glob(join(output_root, 'cond/cond_1/{0}/modelfit'.format(sub), 'estimates/*.nii.gz'))\n",
    "    for estimate_file in estimate_files:\n",
    "        shutil.move(join(output_root, 'cond/cond_1/{0}/modelfit'.format(sub), \n",
    "                         'estimates/{0}'.format(basename(estimate_file))),\n",
    "                    join(output_root, 'cond/{0}/modelfit'.format(sub), \n",
    "                         'estimates/_estimate_model{0}/{1}'.format(set_num, basename(estimate_file))))"
   ]
  },
  {
   "cell_type": "markdown",
   "metadata": {},
   "source": [
    "## Move from SECOND set"
   ]
  },
  {
   "cell_type": "code",
   "execution_count": 4,
   "metadata": {
    "collapsed": false
   },
   "outputs": [],
   "source": [
    "set_num = 1\n",
    "for sub in subs:\n",
    "    \n",
    "    #move zstat2pval\n",
    "    shutil.move(join(output_root, 'cond/cond_2/{0}/modelfit'.format(sub), \n",
    "                     'contrasts/zstat1_pval.nii.gz'),\n",
    "                join(output_root, 'cond/{0}/modelfit'.format(sub), \n",
    "                     'contrasts/_z2pval{0}/zstat1_pval.nii.gz'.format(set_num)))\n",
    "        \n",
    "    #move all other files to contrasts/_estimate_model\n",
    "    contrast_files = glob(join(output_root, 'cond/cond_2/{0}/modelfit'.format(sub), \n",
    "                               'contrasts/*.nii.gz'))\n",
    "    for contrast_file in contrast_files:\n",
    "        shutil.move(join(output_root, 'cond/cond_2/{0}/modelfit'.format(sub), \n",
    "                         'contrasts/{0}'.format(basename(contrast_file))),\n",
    "                    join(output_root, 'cond/{0}/modelfit'.format(sub), \n",
    "                         'contrasts/_estimate_model{0}/{1}'.format(set_num, basename(contrast_file))))\n",
    "    \n",
    "    #move 3 design files to design/_generate_model\n",
    "    design_files = glob(join(output_root, 'cond/cond_2/{0}/modelfit'.format(sub), 'design/*.*'))\n",
    "    for design_file in design_files:\n",
    "        shutil.move(join(output_root, 'cond/cond_2/{0}/modelfit'.format(sub), \n",
    "                         'design/{0}'.format(basename(design_file))),\n",
    "                    join(output_root, 'cond/{0}/modelfit'.format(sub), \n",
    "                         'design/_generate_model{0}/{1}'.format(set_num, basename(design_file))))\n",
    " \n",
    "    #move single DOF file\n",
    "    shutil.move(join(output_root, 'cond/cond_2/{0}/modelfit'.format(sub), 'dofs/dof'),\n",
    "                join(output_root, 'cond/{0}/modelfit'.format(sub), \n",
    "                     'dofs/_estimate_model{0}/dof'.format(set_num)))\n",
    "        \n",
    "    #move all estimate files to estimates/_estimate_model\n",
    "    estimate_files = glob(join(output_root, 'cond/cond_2/{0}/modelfit'.format(sub), 'estimates/*.nii.gz'))\n",
    "    for estimate_file in estimate_files:\n",
    "        shutil.move(join(output_root, 'cond/cond_2/{0}/modelfit'.format(sub), \n",
    "                         'estimates/{0}'.format(basename(estimate_file))),\n",
    "                    join(output_root, 'cond/{0}/modelfit'.format(sub), \n",
    "                         'estimates/_estimate_model{0}/{1}'.format(set_num, basename(estimate_file))))  "
   ]
  },
  {
   "cell_type": "markdown",
   "metadata": {},
   "source": [
    "## Move from THIRD set"
   ]
  },
  {
   "cell_type": "code",
   "execution_count": 5,
   "metadata": {
    "collapsed": false
   },
   "outputs": [],
   "source": [
    "set_num = 2\n",
    "for sub in subs: \n",
    "    \n",
    "    #move zstat2pval\n",
    "    shutil.move(join(output_root, 'cond/cond_3/{0}/modelfit'.format(sub), \n",
    "                     'contrasts/zstat1_pval.nii.gz'),\n",
    "                join(output_root, 'cond/{0}/modelfit'.format(sub), \n",
    "                     'contrasts/_z2pval{0}/zstat1_pval.nii.gz'.format(set_num)))\n",
    "    \n",
    "    #move all other files to contrasts/_estimate_model\n",
    "    contrast_files = glob(join(output_root, 'cond/cond_3/{0}/modelfit'.format(sub), \n",
    "                               'contrasts/*.nii.gz'))\n",
    "    for contrast_file in contrast_files:\n",
    "        shutil.move(join(output_root, 'cond/cond_3/{0}/modelfit'.format(sub), \n",
    "                         'contrasts/{0}'.format(basename(contrast_file))),\n",
    "                    join(output_root, 'cond/{0}/modelfit'.format(sub), \n",
    "                         'contrasts/_estimate_model{0}/{1}'.format(set_num, basename(contrast_file))))\n",
    "        \n",
    "    #move 3 design files to design/_generate_model\n",
    "    design_files = glob(join(output_root, 'cond/cond_3/{0}/modelfit'.format(sub), 'design/*.*'))\n",
    "    for design_file in design_files:\n",
    "        shutil.move(join(output_root, 'cond/cond_3/{0}/modelfit'.format(sub), \n",
    "                         'design/{0}'.format(basename(design_file))),\n",
    "                    join(output_root, 'cond/{0}/modelfit'.format(sub), \n",
    "                         'design/_generate_model{0}/{1}'.format(set_num, basename(design_file))))  \n",
    "    \n",
    "    #move single DOF file\n",
    "    shutil.move(join(output_root, 'cond/cond_3/{0}/modelfit'.format(sub), 'dofs/dof'),\n",
    "                join(output_root, 'cond/{0}/modelfit'.format(sub), \n",
    "                     'dofs/_estimate_model{0}/dof'.format(set_num))) \n",
    "    \n",
    "    #move all estimate files to estimates/_estimate_model\n",
    "    estimate_files = glob(join(output_root, 'cond/cond_3/{0}/modelfit'.format(sub), 'estimates/*.nii.gz'))\n",
    "    for estimate_file in estimate_files:\n",
    "        shutil.move(join(output_root, 'cond/cond_3/{0}/modelfit'.format(sub), \n",
    "                         'estimates/{0}'.format(basename(estimate_file))),\n",
    "                    join(output_root, 'cond/{0}/modelfit'.format(sub), \n",
    "                         'estimates/_estimate_model{0}/{1}'.format(set_num, basename(estimate_file))))"
   ]
  },
  {
   "cell_type": "code",
   "execution_count": null,
   "metadata": {
    "collapsed": true
   },
   "outputs": [],
   "source": []
  }
 ],
 "metadata": {
  "anaconda-cloud": {},
  "kernelspec": {
   "display_name": "Python 2",
   "language": "python",
   "name": "python2"
  },
  "language_info": {
   "codemirror_mode": {
    "name": "ipython",
    "version": 2
   },
   "file_extension": ".py",
   "mimetype": "text/x-python",
   "name": "python",
   "nbconvert_exporter": "python",
   "pygments_lexer": "ipython2",
   "version": "2.7.12"
  }
 },
 "nbformat": 4,
 "nbformat_minor": 1
}
