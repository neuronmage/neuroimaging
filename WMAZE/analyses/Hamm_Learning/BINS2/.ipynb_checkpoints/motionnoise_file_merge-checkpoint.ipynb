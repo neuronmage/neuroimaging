{
 "cells": [
  {
   "cell_type": "code",
   "execution_count": 1,
   "metadata": {
    "collapsed": true
   },
   "outputs": [],
   "source": [
    "%matplotlib inline\n",
    "import shutil \n",
    "import os\n",
    "from os.path import join, split, basename\n",
    "import numpy as np\n",
    "import pandas as pd\n",
    "from glob import glob\n",
    "from pylab import *"
   ]
  },
  {
   "cell_type": "code",
   "execution_count": 13,
   "metadata": {
    "collapsed": false
   },
   "outputs": [],
   "source": [
    "#subs = ['WMAZE_001']\n",
    "\n",
    "subs = ['WMAZE_001', 'WMAZE_002', 'WMAZE_004', 'WMAZE_005', 'WMAZE_006',\n",
    "        'WMAZE_007', 'WMAZE_008', 'WMAZE_009', 'WMAZE_010', 'WMAZE_012',\n",
    "        'WMAZE_017', 'WMAZE_018', 'WMAZE_019', 'WMAZE_020', 'WMAZE_021',\n",
    "        'WMAZE_022', 'WMAZE_023', 'WMAZE_024', 'WMAZE_026', 'WMAZE_027']\n",
    "\n",
    "sets = ['1', '2', '3']\n",
    "\n",
    "\n",
    "for sub in subs:\n",
    "    sub_dir = '/home/data/madlab/data/mri/wmaze/'\n",
    "    save_dir = '/home/data/madlab/data/mri/wmaze/preproc/{0}/noise/'.format(sub)\n",
    "    #/home/data/madlab/data/mri/wmaze/preproc/WMAZE_001/noise\n",
    "    motionregressor_files = glob(join(sub_dir, 'preproc/{0}/noise/filter_regressor0*.txt'.format(sub))) \n",
    "    motionregressor_files.sort() \n",
    "    \n",
    "    for i, curr_set in enumerate(sets):     \n",
    "        run1_motionnoise = np.loadtxt(motionregressor_files[i * 2])\n",
    "        run2_motionnoise = np.loadtxt(motionregressor_files[i * 2 + 1])\n",
    "        #remove last 3 trials\n",
    "        run1_motionnoise = run1_motionnoise[:-3]\n",
    "        run2_motionnoise = run2_motionnoise[:-3]\n",
    "        \n",
    "        x_dim = []\n",
    "        y_dim = []        \n",
    "        \n",
    "        #match the width of the run with the most outliers\n",
    "        if run1_motionnoise.shape[1] > run2_motionnoise.shape[1]:\n",
    "            x_dim = run1_motionnoise.shape[1]\n",
    "            y_dim = run1_motionnoise.shape[0]\n",
    "            extra_outs = run1_motionnoise.shape[1] - run2_motionnoise.shape[1]\n",
    "            #extra_columns = np.zeros([run2_motionnoise.shape[0], extra_outs])\n",
    "            #print shape(extra_columns)\n",
    "            run2_motionnoise = np.hstack((run2_motionnoise, \n",
    "                                          np.zeros((run2_motionnoise.shape[0], extra_outs), \n",
    "                                                    dtype = run2_motionnoise.dtype)))\n",
    "            \n",
    "        elif run2_motionnoise.shape[1] > run1_motionnoise.shape[1]:\n",
    "            x_dim = run2_motionnoise.shape[1]\n",
    "            y_dim = run2_motionnoise.shape[0]\n",
    "            extra_outs = run2_motionnoise.shape[1] - run1_motionnoise.shape[1]\n",
    "            run1_motionnoise = np.hstack((run1_motionnoise, \n",
    "                                          np.zeros((run1_motionnoise.shape[0], extra_outs), \n",
    "                                                    dtype = run1_motionnoise.dtype)))\n",
    "    \n",
    "        else:\n",
    "            x_dim = run1_motionnoise.shape[1]\n",
    "            y_dim = run1_motionnoise.shape[0]\n",
    "        \n",
    "        y_dim = y_dim*2\n",
    "        merged_file = np.zeros((y_dim, x_dim), dtype = object)       \n",
    "        merged_file[:197] = run1_motionnoise\n",
    "        merged_file[197:] = run2_motionnoise\n",
    "        \n",
    "        np.savetxt(save_dir + 'set{0}_merged_filter_regressors.txt'.format(curr_set), \n",
    "                   merged_file, delimiter='\\t', fmt='%.4f')"
   ]
  },
  {
   "cell_type": "code",
   "execution_count": null,
   "metadata": {
    "collapsed": true
   },
   "outputs": [],
   "source": []
  }
 ],
 "metadata": {
  "kernelspec": {
   "display_name": "Python 2",
   "language": "python",
   "name": "python2"
  },
  "language_info": {
   "codemirror_mode": {
    "name": "ipython",
    "version": 2
   },
   "file_extension": ".py",
   "mimetype": "text/x-python",
   "name": "python",
   "nbconvert_exporter": "python",
   "pygments_lexer": "ipython2",
   "version": "2.7.12"
  }
 },
 "nbformat": 4,
 "nbformat_minor": 1
}
