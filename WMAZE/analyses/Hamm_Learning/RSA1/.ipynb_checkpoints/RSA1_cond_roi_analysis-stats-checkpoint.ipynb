{
 "cells": [
  {
   "cell_type": "markdown",
   "metadata": {},
   "source": [
    "# MODEL RSA1\n",
    "\n",
    "#### Representational dissimilarity between correct and incorrect trials\n",
    "#### Contains only conditional trials without intervening BLs\n",
    "#### Accounts for last three noisy volumes in Lvl 1 analysis (FSL ROI -- ExtractROI)"
   ]
  },
  {
   "cell_type": "markdown",
   "metadata": {},
   "source": [
    "## Compares activation for regions of interest using binarized masks:\n",
    "#### Hippocampus (FS labels: hippocampus [17, 53])\n",
    "#### Medial PFC (FS labels: caudal anterior cingulate, rostral anterior cingulate)\n",
    "#### Dorsal Caudate (hand-drawn by Mandy)\n",
    "#### Putamen (FS labels: putamen [12, 51])\n",
    "#### Ventral Visual Area (FS labels: fusiform, lingual,  parahippocampal [1007, 2007, 1013, 2013, 1016, 2016]\n",
    "#### Dorsolateral PFC (FS labels: caudal middle frontal, lateral orbital frontal, rostral middle frontal [1003, 2003, 1012, 2012, 1027, 2027]"
   ]
  },
  {
   "cell_type": "code",
   "execution_count": 2,
   "metadata": {
    "collapsed": false,
    "scrolled": true
   },
   "outputs": [
    {
     "name": "stdout",
     "output_type": "stream",
     "text": [
      "WMAZE_002 10\n",
      "WMAZE_005 11\n",
      "WMAZE_006 11\n",
      "WMAZE_007 11\n",
      "WMAZE_020 11\n",
      "WMAZE_023 10\n"
     ]
    }
   ],
   "source": [
    "import os\n",
    "import re\n",
    "from os.path import join\n",
    "from glob import glob\n",
    "import nibabel as nb\n",
    "import pandas as pd\n",
    "import numpy as np\n",
    "from scipy import stats\n",
    "from math import sqrt\n",
    "from scipy.stats import pearsonr\n",
    "import seaborn as sns\n",
    "import matplotlib.pyplot as plt\n",
    "%matplotlib inline\n",
    "sns.set_palette('muted')\n",
    "sns.set_style(\"white\")\n",
    "\n",
    "sidsX = ['WMAZE_001']\n",
    "sids = ['WMAZE_001', 'WMAZE_002', 'WMAZE_004', 'WMAZE_005', 'WMAZE_006', \n",
    "        'WMAZE_007', 'WMAZE_008', 'WMAZE_009', 'WMAZE_010', 'WMAZE_012', \n",
    "        'WMAZE_017', 'WMAZE_018', 'WMAZE_019', 'WMAZE_020', 'WMAZE_021',  \n",
    "        'WMAZE_022', 'WMAZE_023', 'WMAZE_024', 'WMAZE_026', 'WMAZE_027']\n",
    "\n",
    "proj_dir = '/home/data/madlab/Mattfeld_WMAZE/' \n",
    "mask_filenames = []\n",
    "cope_files = []\n",
    "\n",
    "for i, SID in enumerate(sids):\n",
    "    mask_filenames_glob = glob(proj_dir+'/dset/roi_masks/hamm/anat_masks/_subject_id_'+SID+'/_anatmask_xfm*/*')\n",
    "    mask_filenames.append(sorted(mask_filenames_glob))\n",
    "    rsc_filenames_glob = glob(proj_dir+'/dset/roi_masks/rsc_inepi/'+SID+'/rsc_temp2epi/_subject_id_'+SID+'/_targ2EPI*/*')\n",
    "    mask_filenames[i].append(rsc_filenames_glob[0])\n",
    "    subjcopes_glob = glob(proj_dir+'/dset/analyses/learning/RSA1/lvl1/cond/'\n",
    "                          +SID+'/modelfit/contrasts/_estimate_model*/cope??_B*')\n",
    "    cope_files.append(sorted(subjcopes_glob))\n",
    "    if len(cope_files[-1]) == 0 or len(cope_files[-1]) != 12:\n",
    "        print(SID), len(cope_files[-1])"
   ]
  },
  {
   "cell_type": "markdown",
   "metadata": {},
   "source": [
    "## Cell to double-check the array indexing"
   ]
  },
  {
   "cell_type": "raw",
   "metadata": {
    "collapsed": false,
    "scrolled": true
   },
   "source": [
    "#change first index of cope_files to indicate participant index in sids array\n",
    "for i, curr_mask in enumerate(mask_filenames[0]):\n",
    "    print(i, mask_filenames[0][i].split('/')[-1][:-7]) "
   ]
  },
  {
   "cell_type": "raw",
   "metadata": {
    "collapsed": false
   },
   "source": [
    "for i, curr_cope in enumerate(cope_files[0]):\n",
    "    print(i, cope_files[0][i].split('/')[-2][-1], cope_files[0][i].split('/')[-1][7:-7]) "
   ]
  },
  {
   "cell_type": "markdown",
   "metadata": {},
   "source": [
    "### Use binarized mask to obtain activation in left & right hemisphere for each region of interest"
   ]
  },
  {
   "cell_type": "code",
   "execution_count": 7,
   "metadata": {
    "collapsed": false
   },
   "outputs": [],
   "source": [
    "all_data = {}\n",
    "for r in ['hp', 'mpfc', 'caud', 'put', 'dlpfc', 'vocc', 'rsc', 'parsT']:\n",
    "    all_data['{0}'.format(r)] = {'run1_corr':[], 'run1_incorr':[], 'run2_corr':[], 'run2_incorr':[], #set1\n",
    "                                 'run3_corr':[], 'run3_incorr':[], 'run4_corr':[], 'run4_incorr':[], #set2\n",
    "                                 'run5_corr':[], 'run5_incorr':[], 'run6_corr':[], 'run6_incorr':[]} #set3\n",
    "for i in range(len(sids)):\n",
    "    lh_hp_img = nb.load(mask_filenames[i][3])\n",
    "    rh_hp_img = nb.load(mask_filenames[i][16])\n",
    "    lh_mpfc_img = nb.load(mask_filenames[i][5])\n",
    "    rh_mpfc_img = nb.load(mask_filenames[i][18])\n",
    "    lh_caud_img = nb.load(mask_filenames[i][8])\n",
    "    rh_caud_img = nb.load(mask_filenames[i][12])\n",
    "    lh_put_img = nb.load(mask_filenames[i][24])\n",
    "    rh_put_img = nb.load(mask_filenames[i][27])\n",
    "    lh_dlpfc_img = nb.load(mask_filenames[i][1])\n",
    "    rh_dlpfc_img = nb.load(mask_filenames[i][14])\n",
    "    lh_vocc_img = nb.load(mask_filenames[i][11])\n",
    "    rh_vocc_img = nb.load(mask_filenames[i][23])\n",
    "    lh_parsT_img = nb.load(mask_filenames[i][8])\n",
    "    rh_parsT_img = nb.load(mask_filenames[i][21])\n",
    "    bi_rsc_img = nb.load(mask_filenames[i][28])\n",
    "    \n",
    "    \n",
    "    run1_corr_img = None\n",
    "    run1_incorr_img = None\n",
    "    run2_corr_img = None\n",
    "    run2_incorr_img = None\n",
    "    run3_corr_img = None\n",
    "    run3_incorr_img = None\n",
    "    run4_corr_img = None\n",
    "    run4_incorr_img = None\n",
    "    run5_corr_img = None\n",
    "    run5_incorr_img = None\n",
    "    run6_corr_img = None\n",
    "    run6_incorr_img = None\n",
    "    \n",
    "    set1 = [x for x in cope_files[i] if 'model0' in x or 'model1' in x]\n",
    "    set2 = [x for x in cope_files[i] if 'model2' in x or 'model3' in x]\n",
    "    set3 = [x for x in cope_files[i] if 'model4' in x or 'model5' in x]\n",
    "    \n",
    "    for j, frst_run in enumerate(range(1,6,2)): #checks for complete set           \n",
    "        if len(eval('set{0}'.format(j+1))) != 4: #missing file type\n",
    "            for key in ['hp', 'mpfc', 'caud', 'put', 'dlpfc', 'vocc', 'rsc', 'parsT']:\n",
    "                for acc in ['corr', 'incorr']: #use \"nan\" placeholder                     \n",
    "                    all_data['{0}'.format(key)]['run{0}_{1}'.format(frst_run,acc)].append(\"nan\")\n",
    "                    all_data['{0}'.format(key)]['run{0}_{1}'.format(frst_run+1,acc)].append(\"nan\")\n",
    "        else: \n",
    "            exec('run{0}_corr_img = nb.load(set{1}[0])'.format(frst_run,j+1))\n",
    "            exec('run{0}_incorr_img = nb.load(set{1}[1])'.format(frst_run,j+1))\n",
    "            exec('run{0}_corr_img = nb.load(set{1}[2])'.format(frst_run+1,j+1))\n",
    "            exec('run{0}_incorr_img = nb.load(set{1}[3])'.format(frst_run+1,j+1))    \n",
    "    \n",
    "    for key in ['hp', 'mpfc', 'caud', 'put', 'dlpfc', 'vocc', 'parsT']:\n",
    "        for run in ['run1', 'run2', 'run3', 'run4', 'run5', 'run6']:\n",
    "            for acc in ['corr', 'incorr']: \n",
    "                if eval('{0}_{1}_img'.format(run,acc)) == None: #missing trial type\n",
    "                    continue \n",
    "                else:\n",
    "                    lh_data = eval('{0}_{1}_img.get_data()[lh_{2}_img.get_data() > 0.]'.format(run,acc,key))\n",
    "                    rh_data = eval('{0}_{1}_img.get_data()[rh_{2}_img.get_data() > 0.]'.format(run,acc,key))\n",
    "                    bihemi_data = np.concatenate((lh_data, rh_data)) \n",
    "                    all_data['{0}'.format(key)]['{0}_{1}'.format(run,acc)].append(bihemi_data)                    \n",
    "    for run in ['run1', 'run2', 'run3', 'run4', 'run5', 'run6']:\n",
    "        for acc in ['corr', 'incorr']:\n",
    "            if eval('{0}_{1}_img'.format(run,acc)) == None:\n",
    "                continue\n",
    "            else:\n",
    "                bihemi_data = eval('{0}_{1}_img.get_data()[bi_rsc_img.get_data()[:,:,:,0] > 0.]'.format(run,acc))\n",
    "                all_data['rsc']['{0}_{1}'.format(run,acc)].append(bihemi_data)                                     \n",
    "for key in all_data:\n",
    "    exec('{0}_df = pd.DataFrame(all_data[\"{0}\"])'.format(key))\n",
    "all_data_df = pd.DataFrame(all_data)                       "
   ]
  },
  {
   "cell_type": "code",
   "execution_count": null,
   "metadata": {
    "collapsed": false
   },
   "outputs": [],
   "source": [
    "print(len(all_data_df['caud']['run6_incorr']))"
   ]
  },
  {
   "cell_type": "code",
   "execution_count": 6,
   "metadata": {
    "collapsed": false
   },
   "outputs": [
    {
     "ename": "NameError",
     "evalue": "name 'parsT_df' is not defined",
     "output_type": "error",
     "traceback": [
      "\u001b[0;31m---------------------------------------------------------------------------\u001b[0m",
      "\u001b[0;31mNameError\u001b[0m                                 Traceback (most recent call last)",
      "\u001b[0;32m<ipython-input-6-45213ab73992>\u001b[0m in \u001b[0;36m<module>\u001b[0;34m()\u001b[0m\n\u001b[1;32m     16\u001b[0m         \u001b[0;31m#exec('all_corrs[\"{0}\"][\"subID\"].append({1})'.format(key,SID))\u001b[0m\u001b[0;34m\u001b[0m\u001b[0;34m\u001b[0m\u001b[0m\n\u001b[1;32m     17\u001b[0m         \u001b[0;32mfor\u001b[0m \u001b[0mi\u001b[0m\u001b[0;34m,\u001b[0m \u001b[0mfrst_run\u001b[0m \u001b[0;32min\u001b[0m \u001b[0menumerate\u001b[0m\u001b[0;34m(\u001b[0m\u001b[0mrange\u001b[0m\u001b[0;34m(\u001b[0m\u001b[0;36m1\u001b[0m\u001b[0;34m,\u001b[0m\u001b[0;36m6\u001b[0m\u001b[0;34m,\u001b[0m\u001b[0;36m2\u001b[0m\u001b[0;34m)\u001b[0m\u001b[0;34m)\u001b[0m\u001b[0;34m:\u001b[0m\u001b[0;34m\u001b[0m\u001b[0m\n\u001b[0;32m---> 18\u001b[0;31m             \u001b[0;32mif\u001b[0m \u001b[0mtype\u001b[0m\u001b[0;34m(\u001b[0m\u001b[0meval\u001b[0m\u001b[0;34m(\u001b[0m\u001b[0;34m'{0}_df[\"run{1}_corr\"][x]'\u001b[0m\u001b[0;34m.\u001b[0m\u001b[0mformat\u001b[0m\u001b[0;34m(\u001b[0m\u001b[0mkey\u001b[0m\u001b[0;34m,\u001b[0m\u001b[0mi\u001b[0m\u001b[0;34m*\u001b[0m\u001b[0;36m2\u001b[0m\u001b[0;34m+\u001b[0m\u001b[0;36m1\u001b[0m\u001b[0;34m)\u001b[0m\u001b[0;34m)\u001b[0m\u001b[0;34m)\u001b[0m \u001b[0;32mis\u001b[0m \u001b[0mstr\u001b[0m\u001b[0;34m:\u001b[0m\u001b[0;34m\u001b[0m\u001b[0m\n\u001b[0m\u001b[1;32m     19\u001b[0m                 \u001b[0;32mexec\u001b[0m\u001b[0;34m(\u001b[0m\u001b[0;34m'all_corrs[\"{0}\"][\"s{1}r1\"].append(\"nan\")'\u001b[0m\u001b[0;34m.\u001b[0m\u001b[0mformat\u001b[0m\u001b[0;34m(\u001b[0m\u001b[0mkey\u001b[0m\u001b[0;34m,\u001b[0m\u001b[0mi\u001b[0m\u001b[0;34m+\u001b[0m\u001b[0;36m1\u001b[0m\u001b[0;34m)\u001b[0m\u001b[0;34m)\u001b[0m\u001b[0;34m\u001b[0m\u001b[0m\n\u001b[1;32m     20\u001b[0m             \u001b[0;32melse\u001b[0m\u001b[0;34m:\u001b[0m\u001b[0;34m\u001b[0m\u001b[0m\n",
      "\u001b[0;32m<string>\u001b[0m in \u001b[0;36m<module>\u001b[0;34m()\u001b[0m\n",
      "\u001b[0;31mNameError\u001b[0m: name 'parsT_df' is not defined"
     ]
    }
   ],
   "source": [
    "all_corrs = {}\n",
    "for r in ['hp', 'mpfc', 'caud', 'put', 'dlpfc', 'vocc', 'rsc', 'parsT']:\n",
    "    all_corrs['{0}'.format(r)] = {'subID':['WMAZE_001', 'WMAZE_002', 'WMAZE_004', 'WMAZE_005', 'WMAZE_006', \n",
    "                                           'WMAZE_007', 'WMAZE_008', 'WMAZE_009', 'WMAZE_010', 'WMAZE_012', \n",
    "                                           'WMAZE_017', 'WMAZE_018', 'WMAZE_019', 'WMAZE_020', 'WMAZE_021',  \n",
    "                                           'WMAZE_022', 'WMAZE_023', 'WMAZE_024', 'WMAZE_026', 'WMAZE_027'], \n",
    "                                  's1r1':[],'s1r2':[], 's2r1':[], 's2r2':[], 's3r1':[], 's3r2':[]}\n",
    "\n",
    "sids = ['WMAZE_001', 'WMAZE_002', 'WMAZE_004', 'WMAZE_005', 'WMAZE_006', \n",
    "        'WMAZE_007', 'WMAZE_008', 'WMAZE_009', 'WMAZE_010', 'WMAZE_012', \n",
    "        'WMAZE_017', 'WMAZE_018', 'WMAZE_019', 'WMAZE_020', 'WMAZE_021',  \n",
    "        'WMAZE_022', 'WMAZE_023', 'WMAZE_024', 'WMAZE_026', 'WMAZE_027']\n",
    "\n",
    "for x, SID in enumerate(sids):\n",
    "    for key in all_data:\n",
    "        #exec('all_corrs[\"{0}\"][\"subID\"].append({1})'.format(key,SID))\n",
    "        for i, frst_run in enumerate(range(1,6,2)):            \n",
    "            if type(eval('{0}_df[\"run{1}_corr\"][x]'.format(key,i*2+1))) is str:\n",
    "                exec('all_corrs[\"{0}\"][\"s{1}r1\"].append(\"nan\")'.format(key,i+1))\n",
    "            else:\n",
    "                exec('all_corrs[\"{0}\"][\"s{1}r1\"].append(1-pearsonr({0}_df[\"run{3}_corr\"][{2}],{0}_df[\"run{3}_incorr\"][{2}])[0])'.format(key,i+1,x,i*2+1))\n",
    "                exec('all_corrs[\"{0}\"][\"s{1}r2\"].append(1-pearsonr({0}_df[\"run{3}_corr\"][{2}],{0}_df[\"run{3}_incorr\"][{2}])[0])'.format(key,i+1,x,i*2+2))\n",
    "all_corrs_df = pd.DataFrame(all_corrs)"
   ]
  },
  {
   "cell_type": "code",
   "execution_count": 12,
   "metadata": {
    "collapsed": false
   },
   "outputs": [
    {
     "data": {
      "text/plain": [
       "s1r1     [0.465272724628, nan, 0.537318974733, 0.257951...\n",
       "s1r2     [0.895448312163, 0.839057013392, 0.33156442642...\n",
       "s2r1     [0.709663331509, nan, 0.601310908794, nan, nan...\n",
       "s2r2     [0.936768993735, 0.810648173094, 0.41495364904...\n",
       "s3r1     [0.624376624823, 0.832791924477, 0.62741872668...\n",
       "s3r2     [0.691962480545, 0.767133310437, 0.68234556913...\n",
       "subID    [WMAZE_001, WMAZE_002, WMAZE_004, WMAZE_005, W...\n",
       "Name: caud, dtype: object"
      ]
     },
     "execution_count": 12,
     "metadata": {},
     "output_type": "execute_result"
    }
   ],
   "source": [
    "all_corrs_df['caud']"
   ]
  },
  {
   "cell_type": "markdown",
   "metadata": {
    "collapsed": false
   },
   "source": [
    "### Performance Calculation"
   ]
  },
  {
   "cell_type": "code",
   "execution_count": 21,
   "metadata": {
    "collapsed": false
   },
   "outputs": [
    {
     "name": "stdout",
     "output_type": "stream",
     "text": [
      "s1r2 [0.9310344827586207, 'nan', 0.96, 0.7333333333333333, 0.6896551724137931, 0.8, 0.7777777777777778, 0.7241379310344828, 0.5925925925925926, 0.7037037037037037, 0.7692307692307693, 0.896551724137931, 0.8620689655172413, 'nan', 0.8333333333333334, 0.8333333333333334, 'nan', 0.9655172413793104, 0.7666666666666667, 0.8518518518518519]\n",
      "s1r1 [0.52, 'nan', 0.8214285714285714, 0.6363636363636364, 0.48148148148148145, 0.5185185185185185, 0.5714285714285714, 0.72, 0.4166666666666667, 0.52, 0.5714285714285714, 0.6875, 0.88, 'nan', 0.6666666666666666, 0.6, 'nan', 0.7575757575757576, 0.8620689655172413, 0.6818181818181818]\n",
      "s2r1 [0.92, 'nan', 0.71875, 'nan', 'nan', 0.7096774193548387, 0.8620689655172413, 0.76, 0.5, 0.8148148148148148, 0.6896551724137931, 0.8571428571428571, 0.8620689655172413, 0.8709677419354839, 0.8214285714285714, 0.8333333333333334, 0.8620689655172413, 0.8666666666666667, 0.7692307692307693, 0.9333333333333333]\n",
      "s2r2 [0.8888888888888888, 'nan', 0.84, 'nan', 'nan', 0.7931034482758621, 0.9666666666666667, 0.8275862068965517, 0.7777777777777778, 0.8064516129032258, 0.8260869565217391, 0.9259259259259259, 0.967741935483871, 0.9393939393939394, 0.8333333333333334, 0.7, 0.9259259259259259, 0.9655172413793104, 0.9310344827586207, 0.84375]\n",
      "s3r1 [0.9, 0.9393939393939394, 0.7741935483870968, 0.8064516129032258, 0.8666666666666667, 'nan', 0.7307692307692307, 0.7666666666666667, 0.6774193548387096, 0.8, 0.8709677419354839, 0.9333333333333333, 0.7586206896551724, 0.7931034482758621, 0.8571428571428571, 0.4838709677419355, 'nan', 0.8214285714285714, 0.8387096774193549, 0.6875]\n",
      "s3r2 [0.9354838709677419, 0.9642857142857143, 0.9310344827586207, 0.9259259259259259, 0.9375, 'nan', 0.967741935483871, 0.9393939393939394, 0.5, 0.9032258064516129, 0.8571428571428571, 0.9230769230769231, 0.7777777777777778, 0.96875, 0.7931034482758621, 0.5454545454545454, 'nan', 0.9642857142857143, 0.7647058823529411, 0.8181818181818182]\n"
     ]
    }
   ],
   "source": [
    "all_prop_corr = {'s1r1':[], 's1r2':[], 's2r1':[], 's2r2':[],'s3r1':[], 's3r2':[]}\n",
    "stim_sets = ['1', '2', '3']\n",
    "\n",
    "for SID in sids:\n",
    "    sub_dir = '/home/data/madlab/data/mri/wmaze/scanner_behav/{0}/'.format(SID)\n",
    "    dir_file = sorted(glob(join(sub_dir,'{0}_wmazebl_2015*.txt'.format(SID))))   \n",
    "    early_runs = []\n",
    "    late_runs = []\n",
    "    for i, curr_set in enumerate(stim_sets):\n",
    "        run1 = pd.read_table(dir_file[i*2]) #create dataframe for text files to extract EVS\n",
    "        run1 = run1[:-3] #removal of the last 3 trials to avoid scanner artifact\n",
    "        run2 = pd.read_table(dir_file[i*2+1])\n",
    "        run2 = run2[:-3]\n",
    "     \n",
    "        trialtype1 = run1['TrialType'].values\n",
    "        correct1 = run1['Correct'].values\n",
    "        trial_shift1 = trialtype1[1:] #shift TrialType back and insert dummy (-1) in last index\n",
    "        trial_shift1 = np.append(trial_shift1, -1)\n",
    "        correct_shift1 = correct1[1:] #shift Correct back and insert dummy (-1) in last index\n",
    "        correct_shift1 = np.append(correct_shift1, -1)        \n",
    "        corr1 = np.where(((trial_shift1=='B') & (correct_shift1==1)) & (trialtype1!='BL'))[0]\n",
    "        incorr1 = np.where(((trial_shift1=='B') & (correct_shift1==0)) & (trialtype1!='BL'))[0]\n",
    "        curr_prop_corr1 = len(corr1)/float(len(corr1) + len(incorr1))\n",
    "        \n",
    "        trialtype2 = run2['TrialType'].values\n",
    "        correct2 = run2['Correct'].values\n",
    "        trial_shift2 = trialtype2[1:] #shift TrialType back and insert dummy (-1) in last index\n",
    "        trial_shift2 = np.append(trial_shift2, -1)\n",
    "        correct_shift2 = correct2[1:] #shift Correct back and insert dummy (-1) in last index\n",
    "        correct_shift2 = np.append(correct_shift2, -1)        \n",
    "        corr2 = np.where(((trial_shift2=='B') & (correct_shift2==1)) & (trialtype2!='BL'))[0]\n",
    "        incorr2 = np.where(((trial_shift2=='B') & (correct_shift2==0)) & (trialtype2!='BL'))[0]\n",
    "        curr_prop_corr2 = len(corr2)/float(len(corr2) + len(incorr2))\n",
    " \n",
    "        if curr_prop_corr1 == 1.0 or curr_prop_corr2 == 1.0 or curr_prop_corr1 == 0.0 or curr_prop_corr2 == 0.0:\n",
    "            all_prop_corr['s{0}r1'.format(curr_set)].append('nan')\n",
    "            all_prop_corr['s{0}r2'.format(curr_set)].append('nan')\n",
    "        else:\n",
    "            all_prop_corr['s{0}r1'.format(curr_set)].append(curr_prop_corr1)\n",
    "            all_prop_corr['s{0}r2'.format(curr_set)].append(curr_prop_corr2)\n",
    "for key in all_prop_corr:                \n",
    "    print key, all_prop_corr['{0}'.format(key)]"
   ]
  },
  {
   "cell_type": "markdown",
   "metadata": {},
   "source": [
    "#### Shapiro's Test of Normality"
   ]
  },
  {
   "cell_type": "code",
   "execution_count": 18,
   "metadata": {
    "collapsed": false
   },
   "outputs": [
    {
     "name": "stdout",
     "output_type": "stream",
     "text": [
      "hp s1r1 1.0\n",
      "hp s1r2 0.806459546089\n",
      "hp s2r1 1.0\n",
      "hp s2r2 0.247651278973\n",
      "hp s3r1 1.0\n",
      "hp s3r2 0.945698678493\n",
      "mpfc s1r1 1.0\n",
      "mpfc s1r2 0.948147058487\n",
      "mpfc s2r1 1.0\n",
      "mpfc s2r2 0.649343550205\n",
      "mpfc s3r1 1.0\n",
      "mpfc s3r2 0.55660367012\n",
      "caud s1r1 1.0\n",
      "caud s1r2 0.106985226274\n",
      "caud s2r1 1.0\n",
      "caud s2r2 0.518892943859\n",
      "caud s3r1 1.0\n",
      "caud s3r2 0.00831329636276 <--- **\n",
      "put s1r1 1.0\n",
      "put s1r2 0.391398131847\n",
      "put s2r1 1.0\n",
      "put s2r2 0.730722844601\n",
      "put s3r1 1.0\n",
      "put s3r2 0.0719493478537\n",
      "dlpfc s1r1 1.0\n",
      "dlpfc s1r2 0.536217212677\n",
      "dlpfc s2r1 1.0\n",
      "dlpfc s2r2 0.890934109688\n",
      "dlpfc s3r1 1.0\n",
      "dlpfc s3r2 0.325973123312\n",
      "vocc s1r1 1.0\n",
      "vocc s1r2 0.90691190958\n",
      "vocc s2r1 1.0\n",
      "vocc s2r2 9.33079354581e-05 <--- **\n",
      "vocc s3r1 1.0\n",
      "vocc s3r2 0.00532990228385 <--- **\n",
      "rsc s1r1 1.0\n",
      "rsc s1r2 0.729026556015\n",
      "rsc s2r1 1.0\n",
      "rsc s2r2 0.0112228337675 <--- **\n",
      "rsc s3r1 1.0\n",
      "rsc s3r2 0.723651468754\n"
     ]
    }
   ],
   "source": [
    "for key in ['hp', 'mpfc', 'caud', 'put', 'dlpfc', 'vocc', 'rsc']:\n",
    "    for key2 in ['s1r1', 's1r2', 's2r1', 's2r2', 's3r1', 's3r2']:\n",
    "        if stats.shapiro(all_corrs['{0}'.format(key)]['{0}'.format(key2)])[1] < 0.045:\n",
    "            print key, key2, stats.shapiro(all_corrs['{0}'.format(key)]['{0}'.format(key2)])[1], \"<--- **\" \n",
    "        else:\n",
    "            print key, key2, stats.shapiro(all_corrs['{0}'.format(key)]['{0}'.format(key2)])[1]"
   ]
  },
  {
   "cell_type": "markdown",
   "metadata": {},
   "source": [
    "## Hippocampus"
   ]
  },
  {
   "cell_type": "code",
   "execution_count": null,
   "metadata": {
    "collapsed": false,
    "scrolled": false
   },
   "outputs": [],
   "source": [
    "print \"Dissimilarity\"\n",
    "for key in [\"s1r1\", \"s1r2\",\"s2r1\",\"s2r2\",\"s3r1\",\"s3r2\"]:\n",
    "    print \"Mean {0}: \".format(key), np.mean(all_corrs_df['hp']['{0}'.format(key)])\n",
    "    print \"STD {0}: \".format(key), np.std(all_corrs_df['hp']['{0}'.format(key)])\n",
    "    print \"\"\n",
    "    \n",
    "for i in range(3):\n",
    "    N = 2\n",
    "    conditions = ['Run1', 'Run2']\n",
    "    hp_allsubjs = [all_corrs_df['hp']['s{0}r1'.format(i+1)], all_corrs_df['hp']['s{0}r2'.format(i+1)]]\n",
    "    ind = np.arange(N)\n",
    "    fig, ax = plt.subplots(figsize = (5,5))\n",
    "    sns.violinplot(data=hp_allsubjs, color=\"#278fea\", inner=None, linewidth=0, saturation=0.7)\n",
    "    ax.boxplot(hp_allsubjs, whis='range', positions=ind, widths=0.15, patch_artist=True,\n",
    "               showcaps=False, boxprops=dict(color=\"blue\", facecolor=\"blue\"),\n",
    "               whiskerprops=dict(color=\"blue\", linewidth=2, linestyle = \"-\"),\n",
    "               medianprops=dict(color=\"w\", linewidth=2))\n",
    "    sns.swarmplot(data = hp_allsubjs, size = 4, color = \"white\", edgecolor = \"gray\")\n",
    "    ax.set_xticks(ind)\n",
    "    ax.set_xticklabels(conditions)\n",
    "    ax.set_ylabel(\"Representational Dissimilarity\")\n",
    "    ax.set_title(\"Hippocampus: Set {0}\".format(i+1))\n",
    "    print 'Set{0} Run1 vs. Run2:'.format(i+1) \n",
    "    if stats.ttest_rel(all_corrs_df['hp']['s{0}r1'.format(i+1)], all_corrs_df['hp']['s{0}r2'.format(i+1)])[:][-1] < 0.017: #correction for multi comparisons\n",
    "        print \"t-test\", stats.ttest_rel(all_corrs_df['hp']['s{0}r1'.format(i+1)], all_corrs_df['hp']['s{0}r2'.format(i+1)])[:], \"<---- **\"\n",
    "    else:\n",
    "        print \"t-test\", stats.ttest_rel(all_corrs_df['hp']['s{0}r1'.format(i+1)], all_corrs_df['hp']['s{0}r2'.format(i+1)])[:]\n",
    "    cohens_d = ((np.average(all_corrs_df['hp']['s{0}r1'.format(i+1)]) \n",
    "                 - np.average(all_corrs_df['hp']['s{0}r2'.format(i+1)])) \n",
    "                / (sqrt((np.std(all_corrs_df['hp']['s{0}r1'.format(i+1)], ddof = 1)) \n",
    "                    ** 2 + np.std(all_corrs_df['hp']['s{0}r2'.format(i+1)], ddof = 1) ** 2) / 2))\n",
    "    print \"Cohen's d = \", cohens_d \n",
    "    plt.savefig(\"/home/arenf001/figs/RSA1C_hpc_run{0}.png\".format(i+1), dpi = 800)\n",
    "    plt.show() "
   ]
  },
  {
   "cell_type": "code",
   "execution_count": null,
   "metadata": {
    "collapsed": false
   },
   "outputs": [],
   "source": [
    "for i in range(3):\n",
    "    hp_early_plot = {}\n",
    "    hp_early_plot['brain'] = all_corrs_df['hp']['s{0}r1'.format(i+1)]\n",
    "    hp_early_plot['behavior'] = all_prop_corr['s{0}r1'.format(i+1)]\n",
    "    hp_early_plot = pd.DataFrame(hp_early_plot)\n",
    "    hp_late_plot = {}\n",
    "    hp_late_plot['brain'] = all_corrs_df['hp']['s{0}r2'.format(i+1)]\n",
    "    hp_late_plot['behavior'] = all_prop_corr['s{0}r2'.format(i+1)]\n",
    "    hp_late_plot = pd.DataFrame(hp_late_plot)\n",
    "    print \"SET {0}\".format(i+1)\n",
    "    if pearsonr(hp_early_plot['brain'],hp_early_plot['behavior'])[:][-1] < 0.0083: #correction for multi comparisons       \n",
    "        print \"Early - Run1:\", pearsonr(hp_early_plot['brain'],hp_early_plot['behavior'])[:], \"<---- **\"\n",
    "    else:\n",
    "        print \"Early - Run1:\", pearsonr(hp_early_plot['brain'],hp_early_plot['behavior'])[:]\n",
    "    if pearsonr(hp_late_plot['brain'],hp_late_plot['behavior'])[:][-1] < 0.0083:        \n",
    "        print \"Late - Run1:\", pearsonr(hp_late_plot['brain'],hp_late_plot['behavior'])[:], \"<---- **\"\n",
    "    else:\n",
    "        print \"Late - Run1:\", pearsonr(hp_late_plot['brain'],hp_late_plot['behavior'])[:]\n",
    "    fig, (ax1, ax2) = plt.subplots(ncols = 2, figsize = (11, 4), sharex = False, sharey = True)\n",
    "    ax1 = sns.regplot(x = 'behavior', y = 'brain', data = hp_early_plot, color = \"#278fea\", ax = ax1)\n",
    "    ax1.set_ylabel('Representational Dissimilarity')\n",
    "    ax1.set_xlabel('Performance')\n",
    "    ax1.set_title('Early')\n",
    "    ax2 = sns.regplot(x = 'behavior', y = 'brain', data = hp_late_plot, color = \"#278fea\", ax = ax2)\n",
    "    ax2.set_ylabel('')\n",
    "    ax2.set_xlabel('Performance')\n",
    "    ax2.set_title('Late')\n",
    "    plt.savefig(\"/home/arenf001/figs/RSA2C_hpc_run{0}.png\".format(i+1), dpi = 800)\n",
    "    plt.show()"
   ]
  },
  {
   "cell_type": "code",
   "execution_count": null,
   "metadata": {
    "collapsed": true
   },
   "outputs": [],
   "source": [
    "#creates clean Pandas dataframe for copying\n",
    "set1_hp = {}\n",
    "set2_hp = {}\n",
    "set3_hp = {}\n",
    "\n",
    "for i in range(1,4):\n",
    "    exec('set{0}_hp[\"s{0}r1\"] = all_corrs_df[\"hp\"][\"s{0}r1\"]'.format(i))\n",
    "    exec('set{0}_hp[\"s{0}r2\"] = all_corrs_df[\"hp\"][\"s{0}r2\"]'.format(i))\n",
    "    exec('set{0}_hp_df = pd.DataFrame(set{0}_hp)'.format(i))"
   ]
  },
  {
   "cell_type": "raw",
   "metadata": {
    "collapsed": false
   },
   "source": [
    "set3_hp_df"
   ]
  },
  {
   "cell_type": "markdown",
   "metadata": {
    "collapsed": true
   },
   "source": [
    "## Medial PFC"
   ]
  },
  {
   "cell_type": "code",
   "execution_count": null,
   "metadata": {
    "collapsed": false
   },
   "outputs": [],
   "source": [
    "print \"Dissimilarity\"\n",
    "for key in [\"s1r1\", \"s1r2\",\"s2r1\",\"s2r2\",\"s3r1\",\"s3r2\"]:\n",
    "    print \"Mean {0}: \".format(key), np.mean(all_corrs_df['mpfc']['{0}'.format(key)])\n",
    "    print \"STD {0}: \".format(key), np.std(all_corrs_df['mpfc']['{0}'.format(key)])\n",
    "    print \"\"\n",
    "    \n",
    "for i in range(3):\n",
    "    N = 2\n",
    "    conditions = ['Run1', 'Run2']\n",
    "    mpfc_allsubjs = [all_corrs_df['mpfc']['s{0}r1'.format(i+1)], all_corrs_df['mpfc']['s{0}r2'.format(i+1)]]\n",
    "    ind = np.arange(N)\n",
    "    fig, ax = plt.subplots(figsize = (5,5))\n",
    "    sns.violinplot(data=mpfc_allsubjs, color=\"#ffde85\", inner=None, linewidth=0, saturation=0.7)\n",
    "    ax.boxplot(mpfc_allsubjs, whis='range', positions=ind, widths=0.15, patch_artist=True,\n",
    "               showcaps=False, boxprops=dict(color=\"#ffb900\", facecolor=\"#ffb900\"),\n",
    "               whiskerprops=dict(color=\"#ffb900\", linewidth=2, linestyle = \"-\"),\n",
    "               medianprops=dict(color=\"w\", linewidth=2))\n",
    "    sns.swarmplot(data = mpfc_allsubjs, size = 4, color = \"white\", edgecolor = \"gray\")\n",
    "    ax.set_xticks(ind)\n",
    "    ax.set_xticklabels(conditions)\n",
    "    ax.set_ylabel(\"Representational Dissimilarity\")\n",
    "    ax.set_title(\"Medial PFC: Set {0}\".format(i+1))\n",
    "    print 'Set{0} Run1 vs. Run2:'.format(i+1) \n",
    "    if stats.ttest_rel(all_corrs_df['mpfc']['s{0}r1'.format(i+1)], all_corrs_df['mpfc']['s{0}r2'.format(i+1)])[:][-1] < 0.017: #correction for multi comparisons\n",
    "        print \"Wilcoxon\", stats.wilcoxon(all_corrs_df['mpfc']['s{0}r1'.format(i+1)], all_corrs_df['mpfc']['s{0}r2'.format(i+1)])[:], \"<---- **\"\n",
    "    else:\n",
    "        print \"Wilcoxon\", stats.wilcoxon(all_corrs_df['mpfc']['s{0}r1'.format(i+1)], all_corrs_df['mpfc']['s{0}r2'.format(i+1)])[:]\n",
    "    cohens_d = ((np.average(all_corrs_df['mpfc']['s{0}r1'.format(i+1)]) \n",
    "                 - np.average(all_corrs_df['mpfc']['s{0}r2'.format(i+1)])) \n",
    "                / (sqrt((np.std(all_corrs_df['mpfc']['s{0}r1'.format(i+1)], ddof = 1)) \n",
    "                    ** 2 + np.std(all_corrs_df['mpfc']['s{0}r2'.format(i+1)], ddof = 1) ** 2) / 2))\n",
    "    print \"Cohen's d = \", cohens_d\n",
    "    plt.savefig(\"/home/arenf001/figs/RSA1C_mpfc_run{0}.png\".format(i+1), dpi = 800)\n",
    "    plt.show() "
   ]
  },
  {
   "cell_type": "code",
   "execution_count": null,
   "metadata": {
    "collapsed": false
   },
   "outputs": [],
   "source": [
    "for i in range(3):\n",
    "    mpfc_early_plot = {}\n",
    "    mpfc_early_plot['brain'] = all_corrs_df['mpfc']['s{0}r1'.format(i+1)]\n",
    "    mpfc_early_plot['behavior'] = all_prop_corr['s{0}r1'.format(i+1)]\n",
    "    mpfc_early_plot = pd.DataFrame(mpfc_early_plot)\n",
    "    mpfc_late_plot = {}\n",
    "    mpfc_late_plot['brain'] = all_corrs_df['mpfc']['s{0}r2'.format(i+1)]\n",
    "    mpfc_late_plot['behavior'] = all_prop_corr['s{0}r2'.format(i+1)]\n",
    "    mpfc_late_plot = pd.DataFrame(mpfc_late_plot)\n",
    "    print \"SET {0}\".format(i+1)\n",
    "    if pearsonr(mpfc_early_plot['brain'],mpfc_early_plot['behavior'])[:][-1] < 0.0083: #correction for multi comparisons       \n",
    "        print \"Early - Run1:\", pearsonr(mpfc_early_plot['brain'],mpfc_early_plot['behavior'])[:], \"<---- **\"\n",
    "    else:\n",
    "        print \"Early - Run1:\", pearsonr(mpfc_early_plot['brain'],mpfc_early_plot['behavior'])[:]\n",
    "    if pearsonr(mpfc_late_plot['brain'],mpfc_late_plot['behavior'])[:][-1] < 0.0083:        \n",
    "        print \"Late - Run1:\", pearsonr(mpfc_late_plot['brain'],mpfc_late_plot['behavior'])[:], \"<---- **\"\n",
    "    else:\n",
    "        print \"Late - Run1:\", pearsonr(mpfc_late_plot['brain'],mpfc_late_plot['behavior'])[:]\n",
    "    fig, (ax1, ax2) = plt.subplots(ncols = 2, figsize = (11, 4), sharex = False, sharey = True)\n",
    "    ax1 = sns.regplot(x = 'behavior', y = 'brain', data = mpfc_early_plot, color = \"#ffb900\", ax = ax1)\n",
    "    ax1.set_ylabel('Representational Similarity')\n",
    "    ax1.set_xlabel('Performance')\n",
    "    ax1.set_title('Early')\n",
    "    ax2 = sns.regplot(x = 'behavior', y = 'brain', data = mpfc_late_plot, color = \"#ffb900\", ax = ax2)\n",
    "    ax2.set_ylabel('')\n",
    "    ax2.set_xlabel('Performance')\n",
    "    ax2.set_title('Late')\n",
    "    plt.savefig(\"/home/arenf001/figs/RSA2C_mpfc_run{0}.png\".format(i+1), dpi = 800)\n",
    "    plt.show()"
   ]
  },
  {
   "cell_type": "raw",
   "metadata": {
    "collapsed": true
   },
   "source": [
    "set1_mpfc = {}\n",
    "set2_mpfc = {}\n",
    "set3_mpfc = {}\n",
    "\n",
    "for i in range(1,4):\n",
    "    exec('set{0}_mpfc[\"s{0}r1\"] = all_corrs_df[\"mpfc\"][\"s{0}r1\"]'.format(i))\n",
    "    exec('set{0}_mpfc[\"s{0}r2\"] = all_corrs_df[\"mpfc\"][\"s{0}r2\"]'.format(i))\n",
    "    exec('set{0}_mpfc_df = pd.DataFrame(set{0}_mpfc)'.format(i))"
   ]
  },
  {
   "cell_type": "raw",
   "metadata": {
    "collapsed": true
   },
   "source": [
    "set3_mpfc_df"
   ]
  },
  {
   "cell_type": "markdown",
   "metadata": {},
   "source": [
    "## Caudate"
   ]
  },
  {
   "cell_type": "code",
   "execution_count": null,
   "metadata": {
    "collapsed": false
   },
   "outputs": [],
   "source": [
    "print \"Dissimilarity\"\n",
    "for key in [\"s1r1\",\"s1r2\",\"s2r1\",\"s2r2\",\"s3r1\",\"s3r2\"]:\n",
    "    print \"Mean {0}: \".format(key), np.mean(all_corrs_df['caud']['{0}'.format(key)])\n",
    "    print \"STD {0}: \".format(key), np.std(all_corrs_df['caud']['{0}'.format(key)])\n",
    "    print \"\"\n",
    "    \n",
    "for i in range(3):\n",
    "    N = 2\n",
    "    conditions = ['Run1','Run2']\n",
    "    caud_allsubjs = [all_corrs_df['caud']['s{0}r1'.format(i+1)], all_corrs_df['caud']['s{0}r2'.format(i+1)]]\n",
    "    ind = np.arange(N)\n",
    "    fig, ax = plt.subplots(figsize = (5,5))\n",
    "    sns.violinplot(data=caud_allsubjs, color=\"#fcfc9d\", inner=None, linewidth=0, saturation=0.7)\n",
    "    ax.boxplot(caud_allsubjs, whis='range', positions=ind, widths=0.15, patch_artist=True,\n",
    "               showcaps=False, boxprops=dict(color=\"#eddc5a\", facecolor=\"#eddc5a\"),\n",
    "               whiskerprops=dict(color=\"#eddc5a\", linewidth=2, linestyle = \"-\"),\n",
    "               medianprops=dict(color=\"w\", linewidth=2))\n",
    "    sns.swarmplot(data = caud_allsubjs, size = 4, color = \"white\", edgecolor = \"gray\")\n",
    "    ax.set_xticks(ind)\n",
    "    ax.set_xticklabels(conditions)\n",
    "    ax.set_ylabel(\"Representational Dissimilarity\")\n",
    "    ax.set_title(\"Caudate: Set {0}\".format(i+1))\n",
    "    print 'Set{0} Run1 vs. Run2:'.format(i+1) \n",
    "    if stats.ttest_rel(all_corrs_df['caud']['s{0}r1'.format(i+1)], all_corrs_df['caud']['s{0}r2'.format(i+1)])[:][-1] < 0.017: #correction for multi comparisons\n",
    "        print \"Wilcoxon\", stats.wilcoxon(all_corrs_df['caud']['s{0}r1'.format(i+1)], all_corrs_df['caud']['s{0}r2'.format(i+1)])[:], \"<---- **\"\n",
    "    else:\n",
    "        print \"Wilcoxon\", stats.wilcoxon(all_corrs_df['caud']['s{0}r1'.format(i+1)], all_corrs_df['caud']['s{0}r2'.format(i+1)])[:]\n",
    "    cohens_d = ((np.average(all_corrs_df['caud']['s{0}r1'.format(i+1)]) \n",
    "                 - np.average(all_corrs_df['caud']['s{0}r2'.format(i+1)])) \n",
    "                / (sqrt((np.std(all_corrs_df['caud']['s{0}r1'.format(i+1)], ddof = 1)) \n",
    "                    ** 2 + np.std(all_corrs_df['caud']['s{0}r2'.format(i+1)], ddof = 1) ** 2) / 2))\n",
    "    print \"Cohen's d = \", cohens_d \n",
    "    plt.savefig(\"/home/arenf001/figs/RSA1C_caud_run{0}.png\".format(i+1), dpi = 800)\n",
    "    plt.show() "
   ]
  },
  {
   "cell_type": "code",
   "execution_count": null,
   "metadata": {
    "collapsed": false
   },
   "outputs": [],
   "source": [
    "for i in range(3):\n",
    "    caud_early_plot = {}\n",
    "    caud_early_plot['brain'] = all_corrs_df['caud']['s{0}r1'.format(i+1)]\n",
    "    caud_early_plot['behavior'] = all_prop_corr['s{0}r1'.format(i+1)]\n",
    "    caud_early_plot = pd.DataFrame(caud_early_plot)\n",
    "    caud_late_plot = {}\n",
    "    caud_late_plot['brain'] = all_corrs_df['caud']['s{0}r2'.format(i+1)]\n",
    "    caud_late_plot['behavior'] = all_prop_corr['s{0}r2'.format(i+1)]\n",
    "    caud_late_plot = pd.DataFrame(caud_late_plot)\n",
    "    print \"SET {0}\".format(i+1)\n",
    "    if pearsonr(caud_early_plot['brain'],caud_early_plot['behavior'])[:][-1] < 0.0083: #correction for multi comparisons       \n",
    "        print \"Early - Run1:\", pearsonr(caud_early_plot['brain'],caud_early_plot['behavior'])[:], \"<---- **\"\n",
    "    else:\n",
    "        print \"Early - Run1:\", pearsonr(caud_early_plot['brain'],caud_early_plot['behavior'])[:]\n",
    "    if pearsonr(caud_late_plot['brain'],caud_late_plot['behavior'])[:][-1] < 0.0083:        \n",
    "        print \"Late - Run1:\", pearsonr(caud_late_plot['brain'],caud_late_plot['behavior'])[:], \"<---- **\"\n",
    "    else:\n",
    "        print \"Late - Run1:\", pearsonr(caud_late_plot['brain'],caud_late_plot['behavior'])[:]\n",
    "    fig, (ax1, ax2) = plt.subplots(ncols = 2, figsize = (11,4), sharex = False, sharey = True)\n",
    "    ax1 = sns.regplot(x = 'behavior', y = 'brain', data = caud_early_plot, color = \"#ffe200\", ax = ax1)\n",
    "    ax1.set_ylabel('Representational Similarity')\n",
    "    ax1.set_xlabel('Performance')\n",
    "    ax1.set_title('Early')\n",
    "    ax2 = sns.regplot(x = 'behavior', y = 'brain', data = caud_late_plot, color = \"#ffe200\", ax = ax2)\n",
    "    ax2.set_ylabel('')\n",
    "    ax2.set_xlabel('Performance')\n",
    "    ax2.set_title('Late')\n",
    "    plt.savefig(\"/home/arenf001/figs/RSA2C_caud_run{0}.png\".format(i+1), dpi = 800)    \n",
    "    plt.show()"
   ]
  },
  {
   "cell_type": "raw",
   "metadata": {
    "collapsed": true
   },
   "source": [
    "set1_caud = {}\n",
    "set2_caud = {}\n",
    "set3_caud = {}\n",
    "\n",
    "for i in range(1,4):\n",
    "    exec('set{0}_caud[\"s{0}r1\"] = all_corrs_df[\"caud\"][\"s{0}r1\"]'.format(i))\n",
    "    exec('set{0}_caud[\"s{0}r2\"] = all_corrs_df[\"caud\"][\"s{0}r2\"]'.format(i))\n",
    "    exec('set{0}_caud_df = pd.DataFrame(set{0}_caud)'.format(i))"
   ]
  },
  {
   "cell_type": "raw",
   "metadata": {
    "collapsed": false
   },
   "source": [
    "set3_caud_df"
   ]
  },
  {
   "cell_type": "markdown",
   "metadata": {},
   "source": [
    "## Putamen"
   ]
  },
  {
   "cell_type": "code",
   "execution_count": null,
   "metadata": {
    "collapsed": false
   },
   "outputs": [],
   "source": [
    "print \"Dissimilarity\"\n",
    "for key in [\"s1r1\",\"s1r2\",\"s2r1\",\"s2r2\",\"s3r1\",\"s3r2\"]:\n",
    "    print \"Mean {0}: \".format(key), np.mean(all_corrs_df['put']['{0}'.format(key)])\n",
    "    print \"STD {0}: \".format(key), np.std(all_corrs_df['put']['{0}'.format(key)])\n",
    "    print \"\"\n",
    "    \n",
    "for i in range(3):\n",
    "    N = 2\n",
    "    conditions = ['Run1','Run2']\n",
    "    put_allsubjs = [all_corrs_df['put']['s{0}r1'.format(i+1)], all_corrs_df['put']['s{0}r2'.format(i+1)]]\n",
    "    ind = np.arange(N)\n",
    "    fig, ax = plt.subplots(figsize = (5,5))\n",
    "    sns.violinplot(data=put_allsubjs, color=\"#af52f4\", inner=None, linewidth=0, saturation=0.7)\n",
    "    ax.boxplot(put_allsubjs, whis='range', positions=ind, widths=0.15, patch_artist=True,\n",
    "               showcaps=False, boxprops=dict(color=\"indigo\", facecolor=\"indigo\"),\n",
    "               whiskerprops=dict(color=\"indigo\", linewidth=2, linestyle = \"-\"),\n",
    "               medianprops=dict(color=\"w\", linewidth=2))\n",
    "    sns.swarmplot(data = put_allsubjs, size = 4, color = \"white\", edgecolor = \"gray\")\n",
    "    ax.set_xticks(ind)\n",
    "    ax.set_xticklabels(conditions)\n",
    "    ax.set_ylabel(\"Representational Dissimilarity\")\n",
    "    ax.set_title(\"Putamen: Set {0}\".format(i+1))\n",
    "    print 'Set{0} Run1 vs. Run2:'.format(i+1) \n",
    "    if stats.ttest_rel(all_corrs_df['put']['s{0}r1'.format(i+1)], all_corrs_df['put']['s{0}r2'.format(i+1)])[:][-1] < 0.017: #correction for multi comparisons\n",
    "        print \"Wilcoxon\", stats.wilcoxon(all_corrs_df['put']['s{0}r1'.format(i+1)], all_corrs_df['put']['s{0}r2'.format(i+1)])[:], \"<---- **\"\n",
    "    else:\n",
    "        print \"Wilcoxon\", stats.wilcoxon(all_corrs_df['put']['s{0}r1'.format(i+1)], all_corrs_df['put']['s{0}r2'.format(i+1)])[:]\n",
    "    cohens_d = ((np.average(all_corrs_df['put']['s{0}r1'.format(i+1)]) \n",
    "                 - np.average(all_corrs_df['put']['s{0}r2'.format(i+1)])) \n",
    "                / (sqrt((np.std(all_corrs_df['put']['s{0}r1'.format(i+1)], ddof = 1)) \n",
    "                    ** 2 + np.std(all_corrs_df['put']['s{0}r2'.format(i+1)], ddof = 1) ** 2) / 2))\n",
    "    print \"Cohen's d = \", cohens_d \n",
    "    plt.savefig(\"/home/arenf001/figs/RSA1C_put_run{0}.png\".format(i+1), dpi = 800)\n",
    "    plt.show() "
   ]
  },
  {
   "cell_type": "code",
   "execution_count": null,
   "metadata": {
    "collapsed": false
   },
   "outputs": [],
   "source": [
    "for i in range(3):\n",
    "    put_early_plot = {}\n",
    "    put_early_plot['brain'] = all_corrs_df['put']['s{0}r1'.format(i+1)]\n",
    "    put_early_plot['behavior'] = all_prop_corr['s{0}r1'.format(i+1)]\n",
    "    put_early_plot = pd.DataFrame(put_early_plot)\n",
    "    put_late_plot = {}\n",
    "    put_late_plot['brain'] = all_corrs_df['put']['s{0}r2'.format(i+1)]\n",
    "    put_late_plot['behavior'] = all_prop_corr['s{0}r2'.format(i+1)]\n",
    "    put_late_plot = pd.DataFrame(put_late_plot)\n",
    "    print \"SET {0}\".format(i+1)\n",
    "    if pearsonr(put_early_plot['brain'],put_early_plot['behavior'])[:][-1] < 0.0083: #correction for multi comparisons       \n",
    "        print \"Early - Run1:\", pearsonr(put_early_plot['brain'],put_early_plot['behavior'])[:], \"<---- **\"\n",
    "    else:\n",
    "        print \"Early - Run1:\", pearsonr(put_early_plot['brain'],put_early_plot['behavior'])[:]\n",
    "    if pearsonr(put_late_plot['brain'],put_late_plot['behavior'])[:][-1] < 0.0083:        \n",
    "        print \"Late - Run1:\", pearsonr(put_late_plot['brain'],put_late_plot['behavior'])[:], \"<---- **\"\n",
    "    else:\n",
    "        print \"Late - Run1:\", pearsonr(put_late_plot['brain'],put_late_plot['behavior'])[:]\n",
    "    fig, (ax1, ax2) = plt.subplots(ncols = 2, figsize = (11,4), sharex = False, sharey = True)\n",
    "    ax1 = sns.regplot(x = 'behavior', y = 'brain', data = put_early_plot, color = \"#af52f4\", ax = ax1)\n",
    "    ax1.set_ylabel('Representational Similarity')\n",
    "    ax1.set_xlabel('Performance')\n",
    "    ax1.set_title('Early')\n",
    "    ax2 = sns.regplot(x = 'behavior', y = 'brain', data = put_late_plot, color = \"#af52f4\", ax = ax2)\n",
    "    ax2.set_ylabel('')\n",
    "    ax2.set_xlabel('Performance')\n",
    "    ax2.set_title('Late')\n",
    "    plt.savefig(\"/home/arenf001/figs/RSA2C_put_run{0}.png\".format(i+1), dpi = 800)\n",
    "    plt.show()"
   ]
  },
  {
   "cell_type": "raw",
   "metadata": {
    "collapsed": true
   },
   "source": [
    "set1_put = {}\n",
    "set2_put = {}\n",
    "set3_put = {}\n",
    "\n",
    "for i in range(1,4):\n",
    "    exec('set{0}_put[\"s{0}r1\"] = all_corrs_df[\"put\"][\"s{0}r1\"]'.format(i))\n",
    "    exec('set{0}_put[\"s{0}r2\"] = all_corrs_df[\"put\"][\"s{0}r2\"]'.format(i))\n",
    "    exec('set{0}_put_df = pd.DataFrame(set{0}_put)'.format(i))"
   ]
  },
  {
   "cell_type": "raw",
   "metadata": {
    "collapsed": false
   },
   "source": [
    "set3_put_df"
   ]
  },
  {
   "cell_type": "markdown",
   "metadata": {},
   "source": [
    "## Dorsolateral PFC"
   ]
  },
  {
   "cell_type": "code",
   "execution_count": null,
   "metadata": {
    "collapsed": false
   },
   "outputs": [],
   "source": [
    "print \"Dissimilarity\"\n",
    "for key in [\"s1r1\",\"s1r2\",\"s2r1\",\"s2r2\",\"s3r1\",\"s3r2\"]:\n",
    "    print \"Mean {0}: \".format(key), np.mean(all_corrs_df['dlpfc']['{0}'.format(key)])\n",
    "    print \"STD {0}: \".format(key), np.std(all_corrs_df['dlpfc']['{0}'.format(key)])\n",
    "    print \"\"\n",
    "    \n",
    "for i in range(3):\n",
    "    N = 2\n",
    "    conditions = ['Run1','Run2']\n",
    "    dlpfc_allsubjs = [all_corrs_df['dlpfc']['s{0}r1'.format(i+1)], all_corrs_df['dlpfc']['s{0}r2'.format(i+1)]]\n",
    "    ind = np.arange(N)\n",
    "    fig, ax = plt.subplots(figsize = (5,5))\n",
    "    sns.violinplot(data=dlpfc_allsubjs, color=\"#fa6469\", inner=None, linewidth=0, saturation=0.7)\n",
    "    ax.boxplot(dlpfc_allsubjs, whis='range', positions=ind, widths=0.15, patch_artist=True,\n",
    "               showcaps=False, boxprops=dict(color=\"red\", facecolor=\"red\"),\n",
    "               whiskerprops=dict(color=\"red\", linewidth=2, linestyle = \"-\"),\n",
    "               medianprops=dict(color=\"w\", linewidth=2))\n",
    "    sns.swarmplot(data = dlpfc_allsubjs, size = 4, color = \"white\", edgecolor = \"gray\")\n",
    "    ax.set_xticks(ind)\n",
    "    ax.set_xticklabels(conditions)\n",
    "    ax.set_ylabel(\"Representational Dissimilarity\")\n",
    "    ax.set_title(\"dlpfcamen: Set {0}\".format(i+1))\n",
    "    print 'Set{0} Run1 vs. Run2:'.format(i+1) \n",
    "    if stats.ttest_rel(all_corrs_df['dlpfc']['s{0}r1'.format(i+1)], all_corrs_df['dlpfc']['s{0}r2'.format(i+1)])[:][-1] < 0.017: #correction for multi comparisons\n",
    "        print \"t-test\", stats.ttest_rel(all_corrs_df['dlpfc']['s{0}r1'.format(i+1)], all_corrs_df['dlpfc']['s{0}r2'.format(i+1)])[:], \"<---- **\"\n",
    "    else:\n",
    "        print \"t-test\", stats.ttest_rel(all_corrs_df['dlpfc']['s{0}r1'.format(i+1)], all_corrs_df['dlpfc']['s{0}r2'.format(i+1)])[:]\n",
    "    cohens_d = ((np.average(all_corrs_df['dlpfc']['s{0}r1'.format(i+1)]) \n",
    "                 - np.average(all_corrs_df['dlpfc']['s{0}r2'.format(i+1)])) \n",
    "                / (sqrt((np.std(all_corrs_df['dlpfc']['s{0}r1'.format(i+1)], ddof = 1)) \n",
    "                    ** 2 + np.std(all_corrs_df['dlpfc']['s{0}r2'.format(i+1)], ddof = 1) ** 2) / 2))\n",
    "    print \"Cohen's d = \", cohens_d \n",
    "    plt.savefig(\"/home/arenf001/figs/RSA1C_dlpfc_run{0}.png\".format(i+1), dpi = 800)\n",
    "    plt.show() "
   ]
  },
  {
   "cell_type": "code",
   "execution_count": null,
   "metadata": {
    "collapsed": false
   },
   "outputs": [],
   "source": [
    "for i in range(3):\n",
    "    dlpfc_early_plot = {}\n",
    "    dlpfc_early_plot['brain'] = all_corrs_df['dlpfc']['s{0}r1'.format(i+1)]\n",
    "    dlpfc_early_plot['behavior'] = all_prop_corr['s{0}r1'.format(i+1)]\n",
    "    dlpfc_early_plot = pd.DataFrame(dlpfc_early_plot)\n",
    "    dlpfc_late_plot = {}\n",
    "    dlpfc_late_plot['brain'] = all_corrs_df['dlpfc']['s{0}r2'.format(i+1)]\n",
    "    dlpfc_late_plot['behavior'] = all_prop_corr['s{0}r2'.format(i+1)]\n",
    "    dlpfc_late_plot = pd.DataFrame(dlpfc_late_plot)\n",
    "    print \"SET {0}\".format(i+1)\n",
    "    if pearsonr(dlpfc_early_plot['brain'],dlpfc_early_plot['behavior'])[:][-1] < 0.0083: #correction for multi comparisons       \n",
    "        print \"Early - Run1:\", pearsonr(dlpfc_early_plot['brain'],dlpfc_early_plot['behavior'])[:], \"<---- **\"\n",
    "    else:\n",
    "        print \"Early - Run1:\", pearsonr(dlpfc_early_plot['brain'],dlpfc_early_plot['behavior'])[:]\n",
    "    if pearsonr(dlpfc_late_plot['brain'],dlpfc_late_plot['behavior'])[:][-1] < 0.0083:        \n",
    "        print \"Late - Run1:\", pearsonr(dlpfc_late_plot['brain'],dlpfc_late_plot['behavior'])[:], \"<---- **\"\n",
    "    else:\n",
    "        print \"Late - Run1:\", pearsonr(dlpfc_late_plot['brain'],dlpfc_late_plot['behavior'])[:]\n",
    "    fig, (ax1, ax2) = plt.subplots(ncols = 2, figsize = (11,4), sharex = False, sharey = True)\n",
    "    ax1 = sns.regplot(x = 'behavior', y = 'brain', data = dlpfc_early_plot, color = \"#fa6469\", ax = ax1)\n",
    "    ax1.set_ylabel('Representational Similarity')\n",
    "    ax1.set_xlabel('Performance')\n",
    "    ax1.set_title('Early')\n",
    "    ax2 = sns.regplot(x = 'behavior', y = 'brain', data = dlpfc_late_plot, color = \"#fa6469\", ax = ax2)\n",
    "    ax2.set_ylabel('')\n",
    "    ax2.set_xlabel('Performance')\n",
    "    ax2.set_title('Late')\n",
    "    plt.savefig(\"/home/arenf001/figs/RSA2C_dlpfc_run{0}.png\".format(i+1), dpi = 800)\n",
    "    plt.show()"
   ]
  },
  {
   "cell_type": "raw",
   "metadata": {
    "collapsed": true
   },
   "source": [
    "set1_dlpfc = {}\n",
    "set2_dlpfc = {}\n",
    "set3_dlpfc = {}\n",
    "\n",
    "for i in range(1,4):\n",
    "    exec('set{0}_dlpfc[\"s{0}r1\"] = all_corrs_df[\"dlpfc\"][\"s{0}r1\"]'.format(i))\n",
    "    exec('set{0}_dlpfc[\"s{0}r2\"] = all_corrs_df[\"dlpfc\"][\"s{0}r2\"]'.format(i))\n",
    "    exec('set{0}_dlpfc_df = pd.DataFrame(set{0}_dlpfc)'.format(i))"
   ]
  },
  {
   "cell_type": "raw",
   "metadata": {
    "collapsed": false
   },
   "source": [
    "set3_dlpfc_df"
   ]
  },
  {
   "cell_type": "markdown",
   "metadata": {
    "collapsed": true
   },
   "source": [
    "## Ventral Occipital"
   ]
  },
  {
   "cell_type": "code",
   "execution_count": null,
   "metadata": {
    "collapsed": false
   },
   "outputs": [],
   "source": [
    "print \"Dissimilarity\"\n",
    "for key in [\"s1r1\",\"s1r2\",\"s2r1\",\"s2r2\",\"s3r1\",\"s3r2\"]:\n",
    "    print \"Mean {0}: \".format(key), np.mean(all_corrs_df['vocc']['{0}'.format(key)])\n",
    "    print \"STD {0}: \".format(key), np.std(all_corrs_df['vocc']['{0}'.format(key)])\n",
    "    print \"\"\n",
    "    \n",
    "for i in range(3):\n",
    "    N = 2\n",
    "    conditions = ['Run1','Run2']\n",
    "    vocc_allsubjs = [all_corrs_df['vocc']['s{0}r1'.format(i+1)], all_corrs_df['vocc']['s{0}r2'.format(i+1)]]\n",
    "    ind = np.arange(N)\n",
    "    fig, ax = plt.subplots(figsize = (5,5))\n",
    "    sns.violinplot(data=vocc_allsubjs, color=\"#5bf56f\", inner=None, linewidth=0, saturation=0.7)\n",
    "    ax.boxplot(vocc_allsubjs, whis='range', positions=ind, widths=0.15, patch_artist=True,\n",
    "               showcaps=False, boxprops=dict(color=\"green\", facecolor=\"green\"),\n",
    "               whiskerprops=dict(color=\"green\", linewidth=2, linestyle = \"-\"),\n",
    "               medianprops=dict(color=\"w\", linewidth=2))\n",
    "    sns.swarmplot(data = vocc_allsubjs, size = 4, color = \"white\", edgecolor = \"gray\")\n",
    "    ax.set_xticks(ind)\n",
    "    ax.set_xticklabels(conditions)\n",
    "    ax.set_ylabel(\"Representational Dissimilarity\")\n",
    "    ax.set_title(\"Ventral Visual: Set {0}\".format(i+1))\n",
    "    print 'Set{0} Run1 vs. Run2:'.format(i+1) \n",
    "    if stats.ttest_rel(all_corrs_df['vocc']['s{0}r1'.format(i+1)], all_corrs_df['vocc']['s{0}r2'.format(i+1)])[:][-1] < 0.017: #correction for multi comparisons\n",
    "        print \"Wilcoxon\", stats.wilcoxon(all_corrs_df['vocc']['s{0}r1'.format(i+1)], all_corrs_df['vocc']['s{0}r2'.format(i+1)])[:], \"<---- **\"\n",
    "    else:\n",
    "        print \"Wilcoxon\", stats.wilcoxon(all_corrs_df['vocc']['s{0}r1'.format(i+1)], all_corrs_df['vocc']['s{0}r2'.format(i+1)])[:]\n",
    "    cohens_d = ((np.average(all_corrs_df['vocc']['s{0}r1'.format(i+1)]) \n",
    "                 - np.average(all_corrs_df['vocc']['s{0}r2'.format(i+1)])) \n",
    "                / (sqrt((np.std(all_corrs_df['vocc']['s{0}r1'.format(i+1)], ddof = 1)) \n",
    "                    ** 2 + np.std(all_corrs_df['vocc']['s{0}r2'.format(i+1)], ddof = 1) ** 2) / 2))\n",
    "    print \"Cohen's d = \", cohens_d  \n",
    "    plt.savefig(\"/home/arenf001/figs/RSA1C_vocc_run{0}.png\".format(i+1), dpi = 800)\n",
    "    plt.show() "
   ]
  },
  {
   "cell_type": "code",
   "execution_count": null,
   "metadata": {
    "collapsed": false
   },
   "outputs": [],
   "source": [
    "for i in range(3):\n",
    "    vocc_early_plot = {}\n",
    "    vocc_early_plot['brain'] = all_corrs_df['vocc']['s{0}r1'.format(i+1)]\n",
    "    vocc_early_plot['behavior'] = all_prop_corr['s{0}r1'.format(i+1)]\n",
    "    vocc_early_plot = pd.DataFrame(vocc_early_plot)\n",
    "    vocc_late_plot = {}\n",
    "    vocc_late_plot['brain'] = all_corrs_df['vocc']['s{0}r2'.format(i+1)]\n",
    "    vocc_late_plot['behavior'] = all_prop_corr['s{0}r2'.format(i+1)]\n",
    "    vocc_late_plot = pd.DataFrame(vocc_late_plot)\n",
    "    print \"SET {0}\".format(i+1)\n",
    "    if pearsonr(vocc_early_plot['brain'],vocc_early_plot['behavior'])[:][-1] < 0.0083: #correction for multi comparisons       \n",
    "        print \"Early - Run1:\", pearsonr(vocc_early_plot['brain'],vocc_early_plot['behavior'])[:], \"<---- **\"\n",
    "    else:\n",
    "        print \"Early - Run1:\", pearsonr(vocc_early_plot['brain'],vocc_early_plot['behavior'])[:]\n",
    "    if pearsonr(vocc_late_plot['brain'],vocc_late_plot['behavior'])[:][-1] < 0.0083:        \n",
    "        print \"Late - Run1:\", pearsonr(vocc_late_plot['brain'],vocc_late_plot['behavior'])[:], \"<---- **\"\n",
    "    else:\n",
    "        print \"Late - Run1:\", pearsonr(vocc_late_plot['brain'],vocc_late_plot['behavior'])[:]\n",
    "    fig, (ax1, ax2) = plt.subplots(ncols = 2, figsize = (11,4), sharex = False, sharey = True)\n",
    "    ax1 = sns.regplot(x = 'behavior', y = 'brain', data = vocc_early_plot, color = \"#5bf56f\", ax = ax1)\n",
    "    ax1.set_ylabel('Representational Similarity')\n",
    "    ax1.set_xlabel('Performance')\n",
    "    ax1.set_title('Early')\n",
    "    ax2 = sns.regplot(x = 'behavior', y = 'brain', data = vocc_late_plot, color = \"#5bf56f\", ax = ax2)\n",
    "    ax2.set_ylabel('')\n",
    "    ax2.set_xlabel('Performance')\n",
    "    ax2.set_title('Late')\n",
    "    plt.savefig(\"/home/arenf001/figs/RSA2C_vocc_run{0}.png\".format(i+1), dpi = 800)\n",
    "    plt.show()"
   ]
  },
  {
   "cell_type": "raw",
   "metadata": {
    "collapsed": true
   },
   "source": [
    "set1_vocc = {}\n",
    "set2_vocc = {}\n",
    "set3_vocc = {}\n",
    "\n",
    "for i in range(1,4):\n",
    "    exec('set{0}_vocc[\"s{0}r1\"] = all_corrs_df[\"vocc\"][\"s{0}r1\"]'.format(i))\n",
    "    exec('set{0}_vocc[\"s{0}r2\"] = all_corrs_df[\"vocc\"][\"s{0}r2\"]'.format(i))\n",
    "    exec('set{0}_vocc_df = pd.DataFrame(set{0}_vocc)'.format(i))"
   ]
  },
  {
   "cell_type": "raw",
   "metadata": {
    "collapsed": false
   },
   "source": [
    "set3_vocc_df"
   ]
  },
  {
   "cell_type": "markdown",
   "metadata": {
    "collapsed": true
   },
   "source": [
    "## Retrosplenial Cortex"
   ]
  },
  {
   "cell_type": "code",
   "execution_count": null,
   "metadata": {
    "collapsed": false
   },
   "outputs": [],
   "source": [
    "print \"Dissimilarity\"\n",
    "for key in [\"s1r1\",\"s1r2\",\"s2r1\",\"s2r2\",\"s3r1\",\"s3r2\"]:\n",
    "    print \"Mean {0}: \".format(key), np.mean(all_corrs_df['rsc']['{0}'.format(key)])\n",
    "    print \"STD {0}: \".format(key), np.std(all_corrs_df['rsc']['{0}'.format(key)])\n",
    "    print \"\"\n",
    "    \n",
    "for i in range(3):\n",
    "    N = 2\n",
    "    conditions = ['Run1','Run2']\n",
    "    rsc_allsubjs = [all_corrs_df['rsc']['s{0}r1'.format(i+1)], all_corrs_df['rsc']['s{0}r2'.format(i+1)]]\n",
    "    ind = np.arange(N)\n",
    "    fig, ax = plt.subplots(figsize = (5,5))\n",
    "    sns.violinplot(data=rsc_allsubjs, color=\"#f244c1\", inner=None, linewidth=0, saturation=0.7)\n",
    "    ax.boxplot(rsc_allsubjs, whis='range', positions=ind, widths=0.15, patch_artist=True,\n",
    "               showcaps=False, boxprops=dict(color=\"pink\", facecolor=\"pink\"),\n",
    "               whiskerprops=dict(color=\"pink\", linewidth=2, linestyle = \"-\"),\n",
    "               medianprops=dict(color=\"w\", linewidth=2))\n",
    "    sns.swarmplot(data = rsc_allsubjs, size = 4, color = \"white\", edgecolor = \"gray\")\n",
    "    ax.set_xticks(ind)\n",
    "    ax.set_xticklabels(conditions)\n",
    "    ax.set_ylabel(\"Representational Dissimilarity\")\n",
    "    ax.set_title(\"Retrosplenial Cortex: Set {0}\".format(i+1))\n",
    "    print 'Set{0} Run1 vs. Run2:'.format(i+1) \n",
    "    if stats.ttest_rel(all_corrs_df['rsc']['s{0}r1'.format(i+1)], all_corrs_df['rsc']['s{0}r2'.format(i+1)])[:][-1] < 0.017:\n",
    "        print \"Wilcoxon\", stats.wilcoxon(all_corrs_df['rsc']['s{0}r1'.format(i+1)], all_corrs_df['rsc']['s{0}r2'.format(i+1)])[:], \"<---- **\"\n",
    "    else:\n",
    "        print \"Wilcoxon\", stats.wilcoxon(all_corrs_df['rsc']['s{0}r1'.format(i+1)], all_corrs_df['rsc']['s{0}r2'.format(i+1)])[:]\n",
    "    cohens_d = ((np.average(all_corrs_df['rsc']['s{0}r1'.format(i+1)]) \n",
    "                 - np.average(all_corrs_df['rsc']['s{0}r2'.format(i+1)])) \n",
    "                / (sqrt((np.std(all_corrs_df['rsc']['s{0}r1'.format(i+1)], ddof = 1)) \n",
    "                    ** 2 + np.std(all_corrs_df['rsc']['s{0}r2'.format(i+1)], ddof = 1) ** 2) / 2))\n",
    "    print \"Cohen's d = \", cohens_d \n",
    "    plt.savefig(\"/home/arenf001/figs/RSA1C_rsc_run{0}.png\".format(i+1), dpi = 800)\n",
    "    plt.show() "
   ]
  },
  {
   "cell_type": "code",
   "execution_count": null,
   "metadata": {
    "collapsed": false
   },
   "outputs": [],
   "source": [
    "for i in range(3):\n",
    "    rsc_early_plot = {}\n",
    "    rsc_early_plot['brain'] = all_corrs_df['rsc']['s{0}r1'.format(i+1)]\n",
    "    rsc_early_plot['behavior'] = all_prop_corr['s{0}r1'.format(i+1)]\n",
    "    rsc_early_plot = pd.DataFrame(rsc_early_plot)\n",
    "    rsc_late_plot = {}\n",
    "    rsc_late_plot['brain'] = all_corrs_df['rsc']['s{0}r2'.format(i+1)]\n",
    "    rsc_late_plot['behavior'] = all_prop_corr['s{0}r2'.format(i+1)]\n",
    "    rsc_late_plot = pd.DataFrame(rsc_late_plot)\n",
    "    print \"SET {0}\".format(i+1)\n",
    "    if pearsonr(rsc_early_plot['brain'],rsc_early_plot['behavior'])[:][-1] < 0.0083: #correction for multi comparisons       \n",
    "        print \"Early - Run1:\", pearsonr(rsc_early_plot['brain'],rsc_early_plot['behavior'])[:], \"<---- **\"\n",
    "    else:\n",
    "        print \"Early - Run1:\", pearsonr(rsc_early_plot['brain'],rsc_early_plot['behavior'])[:]\n",
    "    if pearsonr(rsc_late_plot['brain'],rsc_late_plot['behavior'])[:][-1] < 0.0083:        \n",
    "        print \"Late - Run1:\", pearsonr(rsc_late_plot['brain'],rsc_late_plot['behavior'])[:], \"<---- **\"\n",
    "    else:\n",
    "        print \"Late - Run1:\", pearsonr(rsc_late_plot['brain'],rsc_late_plot['behavior'])[:]\n",
    "    fig, (ax1, ax2) = plt.subplots(ncols = 2, figsize = (11,4), sharex = False, sharey = True)\n",
    "    ax1 = sns.regplot(x = 'behavior', y = 'brain', data = rsc_early_plot, color = \"#f244c1\", ax = ax1)\n",
    "    ax1.set_ylabel('Representational Similarity')\n",
    "    ax1.set_xlabel('Performance')\n",
    "    ax1.set_title('Early')\n",
    "    ax2 = sns.regplot(x = 'behavior', y = 'brain', data = rsc_late_plot, color = \"#f244c1\", ax = ax2)\n",
    "    ax2.set_ylabel('')\n",
    "    ax2.set_xlabel('Performance')\n",
    "    ax2.set_title('Late')\n",
    "    plt.savefig(\"/home/arenf001/figs/RSA2C_rsc_run{0}.png\".format(i+1), dpi = 800)\n",
    "    plt.show()"
   ]
  },
  {
   "cell_type": "raw",
   "metadata": {
    "collapsed": true
   },
   "source": [
    "set1_rsc = {}\n",
    "set2_rsc = {}\n",
    "set3_rsc = {}\n",
    "\n",
    "for i in range(1,4):\n",
    "    exec('set{0}_rsc[\"s{0}r1\"] = all_corrs_df[\"rsc\"][\"s{0}r1\"]'.format(i))\n",
    "    exec('set{0}_rsc[\"s{0}r2\"] = all_corrs_df[\"rsc\"][\"s{0}r2\"]'.format(i))\n",
    "    exec('set{0}_rsc_df = pd.DataFrame(set{0}_rsc)'.format(i))"
   ]
  },
  {
   "cell_type": "raw",
   "metadata": {
    "collapsed": false
   },
   "source": [
    "set3_rsc_df"
   ]
  }
 ],
 "metadata": {
  "anaconda-cloud": {},
  "kernelspec": {
   "display_name": "Python 2",
   "language": "python",
   "name": "python2"
  },
  "language_info": {
   "codemirror_mode": {
    "name": "ipython",
    "version": 2
   },
   "file_extension": ".py",
   "mimetype": "text/x-python",
   "name": "python",
   "nbconvert_exporter": "python",
   "pygments_lexer": "ipython2",
   "version": "2.7.12"
  }
 },
 "nbformat": 4,
 "nbformat_minor": 2
}
